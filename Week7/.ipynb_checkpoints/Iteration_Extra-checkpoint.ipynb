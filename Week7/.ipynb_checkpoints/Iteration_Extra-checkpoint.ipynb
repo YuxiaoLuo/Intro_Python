{
 "cells": [
  {
   "cell_type": "markdown",
   "id": "1dea29ab",
   "metadata": {},
   "source": [
    "# Iteration (Extra Content)\n",
    "## Catching exceptions using try and except\n",
    "\n",
    "Sometimes we may enter an invalid input incatiously and the program will fails with an unfriendly error message. \n",
    "\n",
    "There is a conditional execution structure built into Python to handle these types of expected and unexpected errors called “try / except”. The idea of `try` and `except` is that you know that some sequence of instruction(s) may have a problem and you want to add some statements to be executed if an error occurs. These extra statements (the except block) are ignored if there is no error."
   ]
  },
  {
   "cell_type": "code",
   "execution_count": 2,
   "id": "f9500efd",
   "metadata": {},
   "outputs": [
    {
     "name": "stdout",
     "output_type": "stream",
     "text": [
      "Enter Fahrenheit Temperature: io\n",
      "Please enter a number\n"
     ]
    }
   ],
   "source": [
    "inp = input('Enter Fahrenheit Temperature: ')\n",
    "try: \n",
    "    fahr = float(inp)\n",
    "    cel = (fahr - 32.0) * 5.0 / 9.0 \n",
    "    print(cel)\n",
    "except: \n",
    "    print('Please enter a number')"
   ]
  },
  {
   "cell_type": "markdown",
   "id": "ed2e9aee",
   "metadata": {},
   "source": [
    "1. Python starts by executing the sequence of statements in the `try` block. \n",
    "2. If all goes well, it skips the except block and proceeds. \n",
    "3. If an exception occurs in the `try` block, Python jumps out of the `try` block and executes the sequence of statements in the `except` block.\n",
    "\n",
    "Handling an exception with a `try` statement is called _catching_ an exception. In this example, the `except` clause prints an error message. In general, catching an exception gives you a chance to fix the problem, or try again, or at least end the program gracefully.\n",
    "\n",
    "Reference: *[Python for Everybody](https://www.py4e.com/html3/)*"
   ]
  }
 ],
 "metadata": {
  "kernelspec": {
   "display_name": "Python 3",
   "language": "python",
   "name": "python3"
  },
  "language_info": {
   "codemirror_mode": {
    "name": "ipython",
    "version": 3
   },
   "file_extension": ".py",
   "mimetype": "text/x-python",
   "name": "python",
   "nbconvert_exporter": "python",
   "pygments_lexer": "ipython3",
   "version": "3.9.5"
  }
 },
 "nbformat": 4,
 "nbformat_minor": 5
}
