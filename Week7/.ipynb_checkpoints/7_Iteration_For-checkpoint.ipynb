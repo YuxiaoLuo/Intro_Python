{
 "cells": [
  {
   "cell_type": "markdown",
   "id": "981073f3",
   "metadata": {},
   "source": [
    "# The `for` Statement:\n",
    "Concept: count-controlled loop iterates a specific number of times. In Python,\n",
    "you use the `for` statement to write a count-controlled loop.\n",
    "- Count controlled loop\n",
    "- Repeats for a specified number of times\n",
    "\n",
    "`for variable in [val1, val2, etc.]:\n",
    "\n",
    "    statement\n",
    "    statement\n",
    "    etc.\n",
    "\n",
    "    \n",
    "We will refer to the first line as the for clause. In the for clause, variable is the name of a\n",
    "variable. Inside the brackets a sequence of values appears, with a comma separating each\n",
    "value. (In Python, a comma-separated sequence of data items that are enclosed in a set of\n",
    "brackets is called a list. Beginning at the next\n",
    "line is a block of statements that is executed each time the loop iterates."
   ]
  },
  {
   "cell_type": "code",
   "execution_count": 1,
   "id": "53a37b14",
   "metadata": {},
   "outputs": [
    {
     "name": "stdout",
     "output_type": "stream",
     "text": [
      "I will display the numbers 1 through 5.\n",
      "1\n",
      "2\n",
      "6\n",
      "4\n",
      "5\n"
     ]
    }
   ],
   "source": [
    "# this program demonstrates a simple for loop \n",
    "# that uses a list of numbers \n",
    "\n",
    "print(\"I will display the numbers 1 through 5.\")\n",
    "for num in [1,2,3,4,5]:\n",
    "    print(num)"
   ]
  },
  {
   "cell_type": "code",
   "execution_count": 9,
   "id": "4805063e",
   "metadata": {},
   "outputs": [
    {
     "name": "stdout",
     "output_type": "stream",
     "text": [
      "This is displaying the messages for the 1th iteration.\n",
      "100\n",
      "101\n",
      "102\n",
      "103\n",
      "---------------------------------\n",
      "This is displaying the messages for the 2th iteration.\n",
      "2\n",
      "3\n",
      "4\n",
      "5\n",
      "---------------------------------\n",
      "This is displaying the messages for the 3th iteration.\n",
      "300\n",
      "301\n",
      "302\n",
      "303\n",
      "---------------------------------\n",
      "This is displaying the messages for the 4th iteration.\n",
      "4\n",
      "5\n",
      "6\n",
      "7\n",
      "---------------------------------\n",
      "This is displaying the messages for the 5th iteration.\n",
      "1\n",
      "2\n",
      "3\n",
      "4\n",
      "---------------------------------\n",
      "1\n"
     ]
    }
   ],
   "source": [
    "iteration = 1\n",
    "\n",
    "for num in [100,2,300,4,1]:\n",
    "    # display value of num\n",
    "    print(f\"This is displaying the messages for the {iteration}th iteration.\")\n",
    "    print(num)\n",
    "    print(num+1)\n",
    "    print(num+2)\n",
    "    print(num+3)\n",
    "    iteration += 1\n",
    "    print(\"---------------------------------\")\n",
    "    \n",
    "# display the value in num\n",
    "print(num)"
   ]
  },
  {
   "cell_type": "markdown",
   "id": "0d567af3",
   "metadata": {},
   "source": [
    "The first time the `for` loop iterates, the num variable is assigned the value 1 and then the\n",
    "statement in line 6 executes (displaying the value 1). The next time the loop iterates, num\n",
    "is assigned the value 2, and the statement in line 6 executes (displaying the value 2). This\n",
    "process continues, as shown in Figure 4-4, until num has been assigned the last value in the\n",
    "list. Because the list contains five values, the loop will iterate five times.\n",
    "\n",
    "![](images/ForLoop.JPG)"
   ]
  },
  {
   "cell_type": "code",
   "execution_count": 11,
   "id": "3cc69fcb",
   "metadata": {},
   "outputs": [
    {
     "name": "stdout",
     "output_type": "stream",
     "text": [
      "This is Winken.\n",
      "This is Henry.\n",
      "This is Nod.\n"
     ]
    }
   ],
   "source": [
    "# This program also demonstrates a simple for\n",
    "# loop that uses a list of strings (names)\n",
    "for name in ['Winken', 'Henry', 'Nod']:\n",
    "    print(f\"This is {name}.\")"
   ]
  },
  {
   "cell_type": "code",
   "execution_count": 1,
   "id": "861094a4",
   "metadata": {},
   "outputs": [],
   "source": [
    "# Rewrite the Countdown program above using the for statement:\n"
   ]
  },
  {
   "cell_type": "code",
   "execution_count": 14,
   "id": "bbefcf63",
   "metadata": {},
   "outputs": [
    {
     "name": "stdout",
     "output_type": "stream",
     "text": [
      "1\n",
      "3\n",
      "5\n",
      "7\n",
      "9\n"
     ]
    }
   ],
   "source": [
    "# Write a program to display odd numbers from 1 to 9 using the for statement:\n",
    "for i in [1,3,5,7,9]:\n",
    "    print(i)"
   ]
  },
  {
   "cell_type": "code",
   "execution_count": 19,
   "id": "b40c4e28",
   "metadata": {},
   "outputs": [
    {
     "data": {
      "text/plain": [
       "[0, 1, 2, 3, 4, 5, 6, 7, 8, 9]"
      ]
     },
     "execution_count": 19,
     "metadata": {},
     "output_type": "execute_result"
    }
   ],
   "source": [
    "list(range(10))"
   ]
  },
  {
   "cell_type": "code",
   "execution_count": 18,
   "id": "e468dca9",
   "metadata": {},
   "outputs": [
    {
     "name": "stdout",
     "output_type": "stream",
     "text": [
      "1\n",
      "3\n",
      "5\n",
      "7\n",
      "9\n"
     ]
    }
   ],
   "source": [
    "for i in range(10):\n",
    "    if i % 2 != 0:\n",
    "        print(i)"
   ]
  },
  {
   "cell_type": "code",
   "execution_count": 130,
   "id": "4de351c3",
   "metadata": {},
   "outputs": [],
   "source": [
    "from IPython.core.interactiveshell import InteractiveShell\n",
    "InteractiveShell.ast_node_interactivity = \"all\""
   ]
  },
  {
   "cell_type": "markdown",
   "id": "f156d7e5",
   "metadata": {},
   "source": [
    "## Writing `for` statement with `range` function\n",
    "\n",
    "Python provides a built-in function named `range` that simplifies the process of writing a\n",
    "count-controlled for loop. The range function creates a type of object known as an iterable.\n",
    "An iterable is an object that is similar to a list. It contains a sequence of values that can\n",
    "be iterated over with something like a loop.\n",
    "\n",
    "Here is an example of a for loop that uses the `range` function: "
   ]
  },
  {
   "cell_type": "code",
   "execution_count": 25,
   "id": "2cbf02fb",
   "metadata": {
    "scrolled": false
   },
   "outputs": [
    {
     "name": "stdout",
     "output_type": "stream",
     "text": [
      "0\n",
      "1\n",
      "2\n",
      "3\n",
      "4\n"
     ]
    }
   ],
   "source": [
    "for num in range(5):\n",
    "    print(num)"
   ]
  },
  {
   "cell_type": "markdown",
   "id": "a0c13eab",
   "metadata": {},
   "source": [
    "Notice instead of using a list of values, we call to the `range` function passing 5 as an argument.\n",
    "In this statement, the `range` function will generate an iterable sequence of integers\n",
    "in the range of 0 up to (but not including) 5."
   ]
  },
  {
   "cell_type": "code",
   "execution_count": 4,
   "id": "0bd3725c",
   "metadata": {},
   "outputs": [
    {
     "name": "stdout",
     "output_type": "stream",
     "text": [
      "0\n",
      "1\n",
      "2\n",
      "3\n",
      "4\n"
     ]
    }
   ],
   "source": [
    "for num in [0,1,2,3,4]:\n",
    "    print(num)"
   ]
  },
  {
   "cell_type": "code",
   "execution_count": 27,
   "id": "a58dfa81",
   "metadata": {},
   "outputs": [
    {
     "name": "stdout",
     "output_type": "stream",
     "text": [
      "Hello World for the  0 time\n",
      "Hello World for the  1 time\n",
      "Hello World for the  2 time\n",
      "Hello World for the  3 time\n",
      "Hello World for the  4 time\n",
      "4\n"
     ]
    }
   ],
   "source": [
    "# print a message five times\n",
    "for x in range(5): \n",
    "    print(\"Hello World\" , \"for the \", x, \"time\")\n",
    "\n",
    "# out of the for loop body\n",
    "print(x)"
   ]
  },
  {
   "cell_type": "markdown",
   "id": "063e8a29",
   "metadata": {},
   "source": [
    "If you pass one argument to the range function, that argument\n",
    "is used as the ending limit of the sequence of numbers. If you pass two arguments to\n",
    "the range function, the first argument is used as the starting value of the sequence, and the\n",
    "second argument is used as the ending limit. By default, the range function produces a sequence of numbers that increase by 1 for each successive number in the list."
   ]
  },
  {
   "cell_type": "code",
   "execution_count": 30,
   "id": "8ff77e35",
   "metadata": {
    "scrolled": true
   },
   "outputs": [
    {
     "name": "stdout",
     "output_type": "stream",
     "text": [
      "1\n",
      "2\n",
      "3\n",
      "4\n",
      "5\n"
     ]
    }
   ],
   "source": [
    "for num in range(1,6):\n",
    "    print(num)"
   ]
  },
  {
   "cell_type": "markdown",
   "id": "aed18617",
   "metadata": {},
   "source": [
    "If you pass a third argument to the `range` function, that argument is used as step value. Instead of increasing by 1, each successive number in the sequence will increase by the **step value**."
   ]
  },
  {
   "cell_type": "code",
   "execution_count": 31,
   "id": "c6846c59",
   "metadata": {
    "scrolled": true
   },
   "outputs": [
    {
     "name": "stdout",
     "output_type": "stream",
     "text": [
      "1\n",
      "3\n",
      "5\n",
      "7\n",
      "9\n"
     ]
    }
   ],
   "source": [
    "# Range function with step value\n",
    "for num in range(1, 10, 2):\n",
    "    print(num)"
   ]
  },
  {
   "cell_type": "code",
   "execution_count": 34,
   "id": "5112d1fb",
   "metadata": {},
   "outputs": [
    {
     "name": "stdout",
     "output_type": "stream",
     "text": [
      "This is an odd number, 7.\n",
      "This is an odd number, 21.\n",
      "This is an odd number, 35.\n",
      "This is an odd number, 49.\n",
      "This is an odd number, 63.\n",
      "This is an odd number, 77.\n",
      "This is an odd number, 91.\n"
     ]
    }
   ],
   "source": [
    "# program to display odd numbers that can be divisible by 7\n",
    "for num in range(1,100,2):\n",
    "    if num % 7 == 0:\n",
    "        print(f\"This is an odd number, {num}.\")"
   ]
  },
  {
   "cell_type": "markdown",
   "id": "d8de4d2f",
   "metadata": {},
   "source": [
    "Alternatively, you can use the range function\n",
    "to generate sequences of numbers that go from highest to lowest."
   ]
  },
  {
   "cell_type": "code",
   "execution_count": 36,
   "id": "28c703b3",
   "metadata": {
    "scrolled": true
   },
   "outputs": [
    {
     "name": "stdout",
     "output_type": "stream",
     "text": [
      "10\n",
      "9\n",
      "8\n",
      "7\n",
      "6\n",
      "5\n",
      "4\n",
      "3\n",
      "2\n",
      "1\n"
     ]
    }
   ],
   "source": [
    "# Range function with step value\n",
    "for num in range(10, 0, -1): \n",
    "    print(num)"
   ]
  },
  {
   "cell_type": "code",
   "execution_count": 40,
   "id": "2979a337",
   "metadata": {},
   "outputs": [
    {
     "name": "stdout",
     "output_type": "stream",
     "text": [
      "0\n",
      "100\n",
      "200\n",
      "300\n",
      "400\n",
      "500\n"
     ]
    }
   ],
   "source": [
    "for number in range(0, 501, 100):\n",
    "    print(number)"
   ]
  },
  {
   "cell_type": "code",
   "execution_count": 44,
   "id": "78d291ec",
   "metadata": {},
   "outputs": [
    {
     "name": "stdout",
     "output_type": "stream",
     "text": [
      "10\n",
      "9\n",
      "8\n",
      "7\n",
      "6\n"
     ]
    }
   ],
   "source": [
    "for number in range(10, 5, -1):\n",
    "    print(number)"
   ]
  },
  {
   "cell_type": "code",
   "execution_count": 10,
   "id": "6a001789",
   "metadata": {
    "collapsed": true
   },
   "outputs": [
    {
     "name": "stdout",
     "output_type": "stream",
     "text": [
      "1\n",
      "3\n",
      "5\n",
      "7\n",
      "9\n",
      "11\n",
      "13\n",
      "15\n",
      "17\n",
      "19\n",
      "21\n",
      "23\n",
      "25\n",
      "27\n",
      "29\n",
      "31\n",
      "33\n",
      "35\n",
      "37\n",
      "39\n",
      "41\n",
      "43\n",
      "45\n",
      "47\n",
      "49\n",
      "51\n",
      "53\n",
      "55\n",
      "57\n",
      "59\n",
      "61\n",
      "63\n",
      "65\n",
      "67\n",
      "69\n",
      "71\n",
      "73\n",
      "75\n",
      "77\n",
      "79\n",
      "81\n",
      "83\n",
      "85\n",
      "87\n",
      "89\n",
      "91\n",
      "93\n",
      "95\n",
      "97\n",
      "99\n"
     ]
    }
   ],
   "source": [
    "# Modify the code that displays odd numbers from 1 to 9, using range function, so that\n",
    "# all the odd numbers from 1 to 99 are displayed\n",
    "\n",
    "for num in range(1,100,2):\n",
    "    print(num)"
   ]
  },
  {
   "cell_type": "code",
   "execution_count": 54,
   "id": "6d75808d",
   "metadata": {},
   "outputs": [
    {
     "name": "stdout",
     "output_type": "stream",
     "text": [
      "Please enter a number: 19\n",
      "Iteration \t Index \t Number\n",
      "1 iteration\t 0 \t 19\n",
      "2 iteration\t 1 \t 18\n",
      "3 iteration\t 2 \t 17\n",
      "4 iteration\t 3 \t 16\n",
      "5 iteration\t 4 \t 15\n",
      "6 iteration\t 5 \t 14\n",
      "7 iteration\t 6 \t 13\n",
      "8 iteration\t 7 \t 12\n",
      "9 iteration\t 8 \t 11\n",
      "10 iteration\t 9 \t 10\n",
      "11 iteration\t 10 \t 9\n",
      "12 iteration\t 11 \t 8\n",
      "13 iteration\t 12 \t 7\n",
      "14 iteration\t 13 \t 6\n",
      "15 iteration\t 14 \t 5\n",
      "16 iteration\t 15 \t 4\n",
      "17 iteration\t 16 \t 3\n",
      "18 iteration\t 17 \t 2\n",
      "19 iteration\t 18 \t 1\n"
     ]
    }
   ],
   "source": [
    "# Rewrite the countdown program using the for statement with the range function. \n",
    "# the program asks user to enter a number, then counts down and \n",
    "# prints the values from that number all the way to 1.\n",
    "\n",
    "number = int(input(\"Please enter a number: \"))\n",
    "\n",
    "print(\"Iteration \\t\",\"Index\", \"\\t Number\")\n",
    "\n",
    "for i in range(number):\n",
    "    # 1st column: the current iteration\n",
    "    # 2nd column: the current Index value in the iterable\n",
    "    # 3rd column: the current number in the count down process\n",
    "    print(f'{i+1} iteration\\t', i, '\\t',number)\n",
    "    \n",
    "    # count down the user input number\n",
    "    number -= 1"
   ]
  },
  {
   "cell_type": "markdown",
   "id": "e820a77f",
   "metadata": {},
   "source": [
    "### Using the Target Variable Inside the Loop\n",
    "In a `for` loop, the purpose of the target variable is to reference each item in a sequence\n",
    "of items as the loop iterates. In many situations it is helpful to use the target variable in a\n",
    "calculation or other task within the body of the loop."
   ]
  },
  {
   "cell_type": "code",
   "execution_count": 19,
   "id": "b773c53d",
   "metadata": {},
   "outputs": [
    {
     "name": "stdout",
     "output_type": "stream",
     "text": [
      "Number\tSquare\n",
      "----------------\n",
      "1 \t 1\n",
      "2 \t 4\n",
      "3 \t 9\n",
      "4 \t 16\n",
      "5 \t 25\n",
      "6 \t 36\n",
      "7 \t 49\n",
      "8 \t 64\n",
      "9 \t 81\n",
      "10 \t 100\n"
     ]
    }
   ],
   "source": [
    "# This program uses a loop to display a\n",
    "# table showing the numbers 1 through 10\n",
    "# and their squares.\n",
    "\n",
    "# Print the table headings.\n",
    "print('Number\\tSquare')\n",
    "print('----------------')\n",
    "\n",
    "# Print the numbers 1 through 10\n",
    "# and their squares.\n",
    "for number in range(1, 11):\n",
    "    square = number**2\n",
    "    print(f'{number} \\t {square}')"
   ]
  },
  {
   "cell_type": "markdown",
   "id": "e10d66de",
   "metadata": {},
   "source": [
    "### Augmented Assignment Operators\n",
    "\n",
    "     +=\n",
    "     -=\n",
    "     *=\n",
    "     /=\n",
    "     %=\n",
    "     \n",
    "     total += number\n",
    "     balance -= withdrawal"
   ]
  },
  {
   "cell_type": "code",
   "execution_count": 9,
   "id": "a17b397f",
   "metadata": {},
   "outputs": [],
   "source": [
    "# Rewrite the following statements using augmented assignment operators:\n",
    "#a) quantity = quantity + 1\n",
    "#b) days_left = days_left − 5 \n",
    "#c) price = price * 10\n",
    "#d) price = price / 2\n",
    "\n",
    "quantity += 1\n",
    "days_left -= 5 \n",
    "price *= 10\n",
    "price /= 2"
   ]
  },
  {
   "cell_type": "code",
   "execution_count": 55,
   "id": "f456277f",
   "metadata": {
    "scrolled": true
   },
   "outputs": [
    {
     "name": "stdout",
     "output_type": "stream",
     "text": [
      "Please enter a number: 3\n",
      "Please enter a number: 14\n",
      "Please enter a number: 2023\n",
      "Please enter a number: 6\n",
      "Please enter a number: 50\n",
      "Please enter a number: 2022\n",
      "Please enter a number: 2021\n",
      "Please enter a number: 2020\n",
      "Please enter a number: 651\n",
      "Please enter a number: 652\n",
      "The sum of the 10 numbers is 9462.0.\n"
     ]
    }
   ],
   "source": [
    "##### Write a loop that asks the user to enter a number. \n",
    "# It should repeat the process for 10 times, and keep a running total of the 10 numbers entered.\n",
    "# It should display at the end the sum of the 10 numbers.\n",
    "\n",
    "total = 0\n",
    "for i in range(10):\n",
    "    num = float(input(\"Please enter a number: \"))\n",
    "    total += num\n",
    "\n",
    "print(f\"The sum of the {i+1} numbers is {total}.\")"
   ]
  },
  {
   "cell_type": "markdown",
   "id": "203053fd",
   "metadata": {},
   "source": [
    "### Let the user control the loop iterations\n",
    "\n",
    "Let user decide the ending limit of the sequence."
   ]
  },
  {
   "cell_type": "code",
   "execution_count": 56,
   "id": "cd3ea17d",
   "metadata": {},
   "outputs": [
    {
     "name": "stdout",
     "output_type": "stream",
     "text": [
      "This program displays a list of numbers\n",
      "(starting at 1) and their squares.\n",
      "How high should I go? 10\n",
      "\n",
      "Number\tSquare\n",
      "--------------\n",
      "1\t1\n",
      "2\t4\n",
      "3\t9\n",
      "4\t16\n",
      "5\t25\n",
      "6\t36\n",
      "7\t49\n",
      "8\t64\n",
      "9\t81\n",
      "10\t100\n"
     ]
    }
   ],
   "source": [
    "# This program uses a loop to display \n",
    "# a table of numbers and their squares \n",
    "\n",
    "# Get the ending limit \n",
    "print('This program displays a list of numbers')\n",
    "print('(starting at 1) and their squares.')\n",
    "end = int(input(\"How high should I go? \"))\n",
    "\n",
    "# Print the table headings \n",
    "print()\n",
    "print('Number\\tSquare')\n",
    "print('--------------')\n",
    "\n",
    "# Print the numbers and their squares \n",
    "for number in range(1, end + 1):\n",
    "    square = number**2\n",
    "    print(f'{number}\\t{square}')\n",
    "    "
   ]
  },
  {
   "cell_type": "markdown",
   "id": "135a192e",
   "metadata": {},
   "source": [
    "Let user decide the stating value and ending limit of the sequence"
   ]
  },
  {
   "cell_type": "code",
   "execution_count": 57,
   "id": "44dd3d29",
   "metadata": {
    "scrolled": true
   },
   "outputs": [
    {
     "name": "stdout",
     "output_type": "stream",
     "text": [
      "This program displays a list of numbers\n",
      "and their squares.\n",
      "Enter the starting number: 10\n",
      "How high should I go? 20\n",
      "\n",
      "Number\tSquare\n",
      "--------------\n",
      "10\t100\n",
      "11\t121\n",
      "12\t144\n",
      "13\t169\n",
      "14\t196\n",
      "15\t225\n",
      "16\t256\n",
      "17\t289\n",
      "18\t324\n",
      "19\t361\n",
      "20\t400\n"
     ]
    }
   ],
   "source": [
    "# Get the starting value.\n",
    "print('This program displays a list of numbers')\n",
    "print('and their squares.')\n",
    "start = int(input('Enter the starting number: '))\n",
    "\n",
    "# Get the ending limit.\n",
    "end = int(input('How high should I go? '))\n",
    "\n",
    "# Print the table headings.\n",
    "print()\n",
    "print('Number\\tSquare')\n",
    "print('--------------')\n",
    "\n",
    "# Print the numbers and their squares.\n",
    "for number in range(start, end + 1):\n",
    "    square = number**2\n",
    "    print(f'{number}\\t{square}')"
   ]
  },
  {
   "cell_type": "markdown",
   "id": "57872a00",
   "metadata": {},
   "source": [
    "## Sentinels\n",
    "CONCEPT: A sentinel is a special value that marks the end of a sequence of values.\n",
    "\n",
    "When processing a long sequence of values with a loop, perhaps a better technique is to\n",
    "use a sentinel. When a program reads the sentinel value, it knows it has reached the end of the sequence, so the\n",
    "loop terminates.\n",
    "\n",
    "For example, suppose a doctor wants a program to calculate the average weight of all\n",
    "her patients. The program might work like this: A loop prompts the user to enter either a\n",
    "patient’s weight, or 0 if there are no more weights. When the program reads 0 as a weight,\n",
    "it interprets this as a signal that there are no more weights. The loop ends and the program\n",
    "displays the average weight.\n",
    "\n",
    "A sentinel value must be distinctive enough that it will not be mistaken as a regular value\n",
    "in the sequence. In the example cited above, the doctor (or her medical assistant) enters 0\n",
    "to signal the end of the sequence of weights. Because no patient’s weight will be 0, this is a\n",
    "good value to use as a sentinel.\n",
    "\n",
    "### Example\n",
    "The county tax office calculates the annual taxes on property using the following formula:\n",
    "\n",
    "$$ \\text{Property Tax} = \\text{Property Value} \\times 0.0065 $$\n",
    "\n",
    "Every day, a clerk in the tax office gets a list of properties and has to calculate the tax for\n",
    "each property on the list. You have been asked to design a program that the clerk can use to\n",
    "perform these calculations. \n",
    "\n",
    "In your interview with the tax clerk, you learn that each property is assigned a lot number,\n",
    "and all lot numbers are 1 or greater. You decide to write a loop that uses the number 0 as\n",
    "a sentinel value. During each loop iteration, the program will ask the clerk to enter either\n",
    "a property’s lot number, or 0 to end."
   ]
  },
  {
   "cell_type": "code",
   "execution_count": 2,
   "id": "94be91a4",
   "metadata": {
    "scrolled": true
   },
   "outputs": [
    {
     "name": "stdout",
     "output_type": "stream",
     "text": [
      "Enter the property lot number or enter 0 to end.\n",
      "Lot number: 1\n",
      "Enter the property value: 892232\n",
      "Property tax: $5,799.51\n",
      "Enter the next log number or enter 0 to end.\n",
      "Lot number: 0\n"
     ]
    }
   ],
   "source": [
    "# define vars\n",
    "tax_factor = .0065 # tax factor \n",
    "\n",
    "# get the first lot number \n",
    "print('Enter the property lot number or enter 0 to end.')\n",
    "lot = int(input('Lot number: '))\n",
    "\n",
    "# Continue processing as long as the user \n",
    "# does not enter lot number 0 \n",
    "\n",
    "while lot != 0:\n",
    "    # get the property value \n",
    "    value = float(input('Enter the property value: '))\n",
    "    \n",
    "    # calculate the property's tax\n",
    "    tax = value * tax_factor\n",
    "    \n",
    "    # display the tax\n",
    "    print(f'Property tax: ${tax:,.2f}')\n",
    "    \n",
    "    # get the next lot number \n",
    "    print('Enter the next log number or enter 0 to end.')\n",
    "    lot = int(input('Lot number: '))"
   ]
  },
  {
   "cell_type": "markdown",
   "id": "dc054d58",
   "metadata": {},
   "source": [
    "## Input Validation Loops\n",
    "\n",
    "CONCEPT: Input validation is the process of inspecting data that has been input to\n",
    "a program, to make sure it is valid before it is used in a computation.\n",
    "Input validation is commonly done with a loop that iterates as long as an\n",
    "input variable references bad data.\n",
    "\n",
    "- Test the input: is the input bad? --> If yes, dispaly an error message\n",
    "- An input validation loop is sometimes called an *error trap* or an *error handler*."
   ]
  },
  {
   "cell_type": "code",
   "execution_count": 56,
   "id": "5c6b8c2b",
   "metadata": {},
   "outputs": [
    {
     "name": "stdout",
     "output_type": "stream",
     "text": [
      "Enter the hours worked this week: 4\n",
      "Enter the hourly pay rate: 23\n",
      "Gross pay: $92.00\n"
     ]
    }
   ],
   "source": [
    "# this program displays gross pay \n",
    "# get the number of hours worked \n",
    "\n",
    "hours = int(input('Enter the hours worked this week: '))\n",
    "\n",
    "# get the hourly pay rate \n",
    "pay_rate = float(input('Enter the hourly pay rate: '))\n",
    "\n",
    "# calculate the gross pay \n",
    "gross_pay = hours * pay_rate \n",
    "\n",
    "# display the gross pay \n",
    "print(f'Gross pay: ${gross_pay:,.2f}')"
   ]
  },
  {
   "cell_type": "code",
   "execution_count": 4,
   "id": "c1305bc0",
   "metadata": {},
   "outputs": [
    {
     "name": "stdout",
     "output_type": "stream",
     "text": [
      "Enter a test score: -5\n",
      "Error: the score cannot be negative.\n",
      "Enter the correct score: -6\n",
      "Error: the score cannot be negative.\n",
      "Enter the correct score: 97\n"
     ]
    }
   ],
   "source": [
    "# how to add a testing process for the input \n",
    "\n",
    "# Get a test score\n",
    "score = int(input('Enter a test score: '))\n",
    "\n",
    "# Make sure it is not less than 0 \n",
    "while score < 0: \n",
    "    print('Error: the score cannot be negative.')\n",
    "    score = int(input('Enter the correct score: '))"
   ]
  },
  {
   "cell_type": "code",
   "execution_count": 6,
   "id": "2602e6c6",
   "metadata": {},
   "outputs": [
    {
     "name": "stdout",
     "output_type": "stream",
     "text": [
      "Enter a test score: 101\n",
      "Error: the score cannot be negative.\n",
      "or greater than 100.\n",
      "Enter the correct score: 102\n",
      "Error: the score cannot be negative.\n",
      "or greater than 100.\n",
      "Enter the correct score: 99\n"
     ]
    }
   ],
   "source": [
    "# If we want to reject any test scores that are greater than 100\n",
    "# get a test score\n",
    "score = int(input('Enter a test score: '))\n",
    "# make sure it is not less than 0 or greater than 100 \n",
    "\n",
    "while score <0 or score > 100: \n",
    "    print('Error: the score cannot be negative.')\n",
    "    print('or greater than 100.')\n",
    "    score = int(input('Enter the correct score: '))"
   ]
  },
  {
   "cell_type": "markdown",
   "id": "b4d0c67e",
   "metadata": {},
   "source": [
    "## Nested Loops\n",
    "Concept: A loop that is inside another loop is called a nested loop.\n",
    "\n",
    "Here is a loop that partially simulates a digital clock. It dispalys the seconds from 0 to 59."
   ]
  },
  {
   "cell_type": "code",
   "execution_count": 12,
   "id": "d24a4a1f",
   "metadata": {},
   "outputs": [
    {
     "name": "stdout",
     "output_type": "stream",
     "text": [
      "1 : 1 : 1\n",
      "1 : 1 : 2\n",
      "1 : 2 : 1\n",
      "1 : 2 : 2\n",
      "2 : 1 : 1\n",
      "2 : 1 : 2\n",
      "2 : 2 : 1\n",
      "2 : 2 : 2\n"
     ]
    }
   ],
   "source": [
    "for i in range(1,3): #1, 2\n",
    "    for j in range(1,3): # 1, 2\n",
    "        for k in range(1,3): # 1,2\n",
    "            print(f\"{i} : {j} : {k}\")"
   ]
  },
  {
   "cell_type": "code",
   "execution_count": 1,
   "id": "e0407529",
   "metadata": {
    "scrolled": true
   },
   "outputs": [
    {
     "name": "stdout",
     "output_type": "stream",
     "text": [
      "1 : 0\n",
      "1 : 1\n",
      "1 : 2\n",
      "2 : 0\n",
      "2 : 1\n",
      "2 : 2\n"
     ]
    }
   ],
   "source": [
    "# first for loop: 2 minutes\n",
    "for minutes in range(1,3):\n",
    "    # second for loop: 60 seconds in each minute \n",
    "    for seconds in range(3):\n",
    "        print(minutes, ':', seconds)"
   ]
  },
  {
   "cell_type": "markdown",
   "id": "3fdbe95c",
   "metadata": {},
   "source": [
    "To make the simulated clock complete, another variable and loop can be added to count the hours. The code belows shows the clock for 1 hour."
   ]
  },
  {
   "cell_type": "code",
   "execution_count": 12,
   "id": "836d28d0",
   "metadata": {},
   "outputs": [
    {
     "name": "stderr",
     "output_type": "stream",
     "text": [
      "UsageError: Cell magic `%%cache` not found.\n"
     ]
    }
   ],
   "source": [
    "%%cache\n",
    "# not running this cell since it occupies to much screen\n",
    "for hours in range(24):\n",
    "    for minutes in range(60):\n",
    "        for seconds in range(60):\n",
    "            print(hours, ':', minutes, ':', seconds)"
   ]
  },
  {
   "cell_type": "markdown",
   "id": "2f12e088",
   "metadata": {},
   "source": [
    "### Some takeaways\n",
    "\n",
    "- An inner loop goes through all of its iterations for every single iteration of an outer\n",
    "loop.\n",
    "- Inner loops complete their iterations faster than outer loops.\n",
    "- To get the total number of iterations of a nested loop, multiply the number of iterations\n",
    "of all the loops.\n",
    "\n",
    "#### Example: average of each student's test scores"
   ]
  },
  {
   "cell_type": "code",
   "execution_count": 19,
   "id": "937a0ae7",
   "metadata": {},
   "outputs": [
    {
     "name": "stdout",
     "output_type": "stream",
     "text": [
      "How many students do you have? 2\n",
      "How many test scores per student?3\n",
      "Student number 1\n",
      "---------------------\n",
      "Test number 1: 90\n",
      "Test number 2: 80\n",
      "Test number 3: 99\n",
      "The average for student number 1 is: 89.7\n",
      "Student number 2\n",
      "---------------------\n",
      "Test number 1: 78\n",
      "Test number 2: 85\n",
      "Test number 3: 88\n",
      "The average for student number 2 is: 83.7\n"
     ]
    }
   ],
   "source": [
    "# this program everages test scores. It asks the user for the\n",
    "# number of students and the number test scores per student \n",
    "\n",
    "# get the number of students \n",
    "num_students = int(input('How many students do you have? '))\n",
    "\n",
    "# get the number of test scores per student \n",
    "num_test_scores = int(input('How many test scores per student?'))\n",
    "\n",
    "for student in range(num_students):\n",
    "    # accumatlor for the scores\n",
    "    total = 0.0 \n",
    "    \n",
    "    # display student number\n",
    "    print(f'Student number {student +1}')\n",
    "    print('---------------------')\n",
    "    \n",
    "    # get the student's test scores \n",
    "    for test_num in range(num_test_scores):\n",
    "        print(f'Test number {test_num + 1}', end = '')\n",
    "        score = float(input(': '))\n",
    "        \n",
    "        # add score to the accumulator \n",
    "        total += score \n",
    "        \n",
    "    # calculate the average test score for this student \n",
    "    average = total / num_test_scores\n",
    "    \n",
    "    # display the average \n",
    "    print(f'The average for student number {student + 1} '\n",
    "          f'is: {average:.1f}')"
   ]
  },
  {
   "cell_type": "markdown",
   "id": "10490c6b",
   "metadata": {},
   "source": [
    "### Use nested loops to print patterns\n",
    "\n",
    "One interesting way to learn about nested loops is to use them to display patterns on the\n",
    "screen."
   ]
  },
  {
   "cell_type": "code",
   "execution_count": 76,
   "id": "92c3fdca",
   "metadata": {},
   "outputs": [
    {
     "name": "stdout",
     "output_type": "stream",
     "text": [
      "*****"
     ]
    }
   ],
   "source": [
    "for col in range(5):\n",
    "    print('*', end='')"
   ]
  },
  {
   "cell_type": "code",
   "execution_count": 15,
   "id": "908064d6",
   "metadata": {},
   "outputs": [
    {
     "name": "stdout",
     "output_type": "stream",
     "text": [
      "* * * * * * * * * * \n",
      "* * * * * * * * * * \n",
      "* * * * * * * * * * \n",
      "* * * * * * * * * * \n",
      "* * * * * * * * * * \n"
     ]
    }
   ],
   "source": [
    "for row in range (5):\n",
    "    for column in range (10):\n",
    "        print('* ', end = '')\n",
    "    print()\n",
    "# why do we need to have the end = '' part?\n",
    "# what does the print() statement do in this loop?"
   ]
  },
  {
   "cell_type": "code",
   "execution_count": 5,
   "id": "792601ed",
   "metadata": {},
   "outputs": [
    {
     "name": "stdout",
     "output_type": "stream",
     "text": [
      "Help on built-in function print in module builtins:\n",
      "\n",
      "print(...)\n",
      "    print(value, ..., sep=' ', end='\\n', file=sys.stdout, flush=False)\n",
      "    \n",
      "    Prints the values to a stream, or to sys.stdout by default.\n",
      "    Optional keyword arguments:\n",
      "    file:  a file-like object (stream); defaults to the current sys.stdout.\n",
      "    sep:   string inserted between values, default a space.\n",
      "    end:   string appended after the last value, default a newline.\n",
      "    flush: whether to forcibly flush the stream.\n",
      "\n"
     ]
    }
   ],
   "source": [
    "help(print)"
   ]
  },
  {
   "cell_type": "code",
   "execution_count": 74,
   "id": "e7eb43e9",
   "metadata": {},
   "outputs": [
    {
     "name": "stdout",
     "output_type": "stream",
     "text": [
      "* * * * * * * * * * \n",
      "* * * * * * * * * * \n",
      "* * * * * * * * * * \n",
      "* * * * * * * * * * \n",
      "* * * * * * * * * * \n"
     ]
    }
   ],
   "source": [
    "for row in range (5):\n",
    "    for column in range (10):\n",
    "        print('* ', end = '')\n",
    "    print()"
   ]
  },
  {
   "cell_type": "code",
   "execution_count": 98,
   "id": "4d7afccf",
   "metadata": {
    "scrolled": true
   },
   "outputs": [
    {
     "name": "stdout",
     "output_type": "stream",
     "text": [
      "* \n",
      "* * \n",
      "* * * \n",
      "* * * * \n",
      "* * * * * \n",
      "* * * * * * \n",
      "* * * * * * * \n",
      "* * * * * * * * \n"
     ]
    }
   ],
   "source": [
    "for r in range(8):\n",
    "    for c in range(r + 1):\n",
    "        print('* ', end = '')\n",
    "    print()"
   ]
  },
  {
   "cell_type": "code",
   "execution_count": 102,
   "id": "1aeea722",
   "metadata": {
    "scrolled": true
   },
   "outputs": [
    {
     "name": "stdout",
     "output_type": "stream",
     "text": [
      "* * * * * * * \n",
      "* * * * * * \n",
      "* * * * * \n",
      "* * * * \n",
      "* * * \n",
      "* * \n",
      "* \n",
      "\n"
     ]
    }
   ],
   "source": [
    "for r in range(8, 0 , -1): \n",
    "    for a in range(r - 1): \n",
    "        print(\"* \", end = '')\n",
    "    print()"
   ]
  },
  {
   "cell_type": "code",
   "execution_count": 20,
   "id": "05ce07d7",
   "metadata": {},
   "outputs": [
    {
     "name": "stdout",
     "output_type": "stream",
     "text": [
      "How many steps you wanna display: 8\n",
      "#\n",
      " #\n",
      "  #\n",
      "   #\n",
      "    #\n",
      "     #\n",
      "      #\n",
      "       #\n"
     ]
    }
   ],
   "source": [
    "# this program displays a stair-step pattern\n",
    "num_steps = int(input('How many steps you wanna display: '))\n",
    "\n",
    "for r in range(num_steps):\n",
    "    for c in range(r):\n",
    "        print(' ', end = '')\n",
    "    print('#')"
   ]
  },
  {
   "cell_type": "markdown",
   "id": "d3baf941",
   "metadata": {},
   "source": [
    "As a result, the outer loop iterates 6 times. As the outer loop iterates, variable r is assigned\n",
    "the values 0 through 5. The inner loop executes as follows:\n",
    "- During the outer loop’s first iteration, the variable r is assigned 0. A loop that is written\n",
    "as for c in range(0): iterates zero times, so the inner loop does not execute at\n",
    "this time.\n",
    "- During the outer loop’s second iteration, the variable r is assigned 1. A loop that is\n",
    "written as for c in range(1): iterates one time, so the inner loop iterates once,\n",
    "printing one space.\n",
    "- During the outer loop’s third iteration, the variable r is assigned 2. A loop that is written\n",
    "as for c in range(2): will iterate two times, so the inner loop iterates twice,\n",
    "printing two spaces, and so forth."
   ]
  },
  {
   "cell_type": "code",
   "execution_count": 21,
   "id": "003ab137",
   "metadata": {},
   "outputs": [],
   "source": [
    "for i in range(0):\n",
    "    print(i)"
   ]
  },
  {
   "cell_type": "code",
   "execution_count": 22,
   "id": "f075f808",
   "metadata": {},
   "outputs": [
    {
     "name": "stdout",
     "output_type": "stream",
     "text": [
      "0\n"
     ]
    }
   ],
   "source": [
    "for i in range(1):\n",
    "    print(i)"
   ]
  },
  {
   "cell_type": "markdown",
   "id": "fb2524bf",
   "metadata": {},
   "source": [
    "### Exercise 2\n",
    "3. Write a program that uses nested loops to draw this pattern: (complete in pairs)\n",
    "\n",
    "        * * * * * * *\n",
    "        * * * * * *\n",
    "        * * * * *\n",
    "        * * * *\n",
    "        * * *\n",
    "        * *\n",
    "        *\n",
    "        \n",
    "\n",
    "4. Write a program that predicts the approximate size of a population of organisms. The application should allow the user to enter the starting number of organisms, the average daily population increase (as a percentage), and the number of days the organisms will be left to multiply. You need to include user input validation for all the values that the user needs to enter.\n",
    "\n",
    "    For example, assume the user enters the following values:\n",
    "\n",
    "    Starting number of organisms: 2\n",
    "\n",
    "    Average daily increase: 30%\n",
    "\n",
    "    Number of days to multiply: 3\n",
    "    \n",
    "    The program should display the following table of data in this case:\n",
    "\n",
    "    Day Approximate\tPopulation Estimate\n",
    "    \n",
    "| Day Approximate | Population Estimate |\n",
    "|-------------------------|----------------------------|\n",
    "|    1|  2|\n",
    "|    2|  2.6|\n",
    "|3| 3.38|\n",
    "\n",
    "\n",
    "5. Sleep Debt\n",
    "A “sleep debt” represents the difference between a person’s desirable and actual amount of sleep. Write a program that prompts the user to enter how many hours they slept each day over a period of seven days. Using 8 hours per day as the desirable amount of sleep, determine their sleep debt by calculating the total hours of sleep they got over the seven-day period and subtracting that from the total hours of sleep they should have gotten. If the user does not have a sleep debt, display a message expressing your jealousy."
   ]
  },
  {
   "cell_type": "code",
   "execution_count": 23,
   "id": "b8cfed8a",
   "metadata": {},
   "outputs": [
    {
     "name": "stdout",
     "output_type": "stream",
     "text": [
      " * * * * * * *\n",
      " * * * * * *\n",
      " * * * * *\n",
      " * * * *\n",
      " * * *\n",
      " * *\n",
      " *\n",
      "\n"
     ]
    }
   ],
   "source": [
    "# 3\n",
    "for i in range(8,0,-1):\n",
    "    for j in range(i-1):\n",
    "        print(\" *\", end = '')\n",
    "    print()"
   ]
  },
  {
   "cell_type": "code",
   "execution_count": 28,
   "id": "e71243f2",
   "metadata": {},
   "outputs": [
    {
     "name": "stdout",
     "output_type": "stream",
     "text": [
      "Starting number of organisms: 2\n",
      "Average daily increase: (ex., 0.3).3\n",
      "Number of days to multiply: 3\n",
      "Day Approximate |Population Estimate\n",
      "-----------------------------------------\n",
      "1 \t \t|2.00\n",
      "2 \t \t|2.60\n",
      "3 \t \t|3.38\n"
     ]
    }
   ],
   "source": [
    "# 4\n",
    "num_organism = float(input('Starting number of organisms: ')) # 2\n",
    "average_daily_increase = float(input('Average daily increase: (ex., 0.3)')) # .3\n",
    "num_days = int(input('Number of days to multiply: ')) # 3\n",
    "\n",
    "print(\"Day Approximate\", \"|Population Estimate\")\n",
    "print(\"-----------------------------------------\")\n",
    "for i in range(num_days):\n",
    "    print(f\"{i+1} \\t \\t|{num_organism:,.2f}\")\n",
    "    num_organism = num_organism*(1+0.3)"
   ]
  },
  {
   "cell_type": "markdown",
   "id": "e54e0f5a",
   "metadata": {},
   "source": [
    "## Weekly Assignment & Quizzes\n",
    "### Assignment\n",
    "\n",
    "Weekly Assignment 7: Writing program with count-controlled loops (Due date: Apr 4th)\n",
    "- Please find the instruction file in Bb\n",
    "\n",
    "### Codelab Quizzes\n",
    "\n",
    "Section **Loops**: (Due date: Apr 4th)\n",
    "- for and ranges"
   ]
  }
 ],
 "metadata": {
  "kernelspec": {
   "display_name": "Python 3 (ipykernel)",
   "language": "python",
   "name": "python3"
  },
  "language_info": {
   "codemirror_mode": {
    "name": "ipython",
    "version": 3
   },
   "file_extension": ".py",
   "mimetype": "text/x-python",
   "name": "python",
   "nbconvert_exporter": "python",
   "pygments_lexer": "ipython3",
   "version": "3.11.1"
  }
 },
 "nbformat": 4,
 "nbformat_minor": 5
}
