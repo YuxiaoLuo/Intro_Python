{
 "cells": [
  {
   "cell_type": "markdown",
   "id": "981073f3",
   "metadata": {},
   "source": [
    "# The `for` Statement:\n",
    "Concept: count-controlled loop iterates a specific number of times. In Python,\n",
    "you use the `for` statement to write a count-controlled loop.\n",
    "- Count controlled loop\n",
    "- Repeats for a specified number of times\n",
    "\n",
    "`for variable in [val1, val2, etc.]:\n",
    "    statement\n",
    "    statement\n",
    "    etc.`\n",
    "    \n",
    "We will refer to the first line as the for clause. In the for clause, variable is the name of a\n",
    "variable. Inside the brackets a sequence of values appears, with a comma separating each\n",
    "value. (In Python, a comma-separated sequence of data items that are enclosed in a set of\n",
    "brackets is called a list. Beginning at the next\n",
    "line is a block of statements that is executed each time the loop iterates."
   ]
  },
  {
   "cell_type": "code",
   "execution_count": 1,
   "id": "53a37b14",
   "metadata": {},
   "outputs": [
    {
     "name": "stdout",
     "output_type": "stream",
     "text": [
      "I will display the numbers 1 through 5.\n",
      "1\n",
      "2\n",
      "3\n",
      "4\n",
      "5\n"
     ]
    }
   ],
   "source": [
    "# this program demonstrates a simple for loop \n",
    "# that uses a list of numbers \n",
    "\n",
    "print(\"I will display the numbers 1 through 5.\")\n",
    "for num in [1,2,3,4,5]:\n",
    "    print(num)"
   ]
  },
  {
   "cell_type": "markdown",
   "id": "0d567af3",
   "metadata": {},
   "source": [
    "The first time the `for` loop iterates, the num variable is assigned the value 1 and then the\n",
    "statement in line 6 executes (displaying the value 1). The next time the loop iterates, num\n",
    "is assigned the value 2, and the statement in line 6 executes (displaying the value 2). This\n",
    "process continues, as shown in Figure 4-4, until num has been assigned the last value in the\n",
    "list. Because the list contains five values, the loop will iterate five times.\n",
    "\n",
    "<img src=\"images/ForLoop.jpg\" width=\"400\" />"
   ]
  },
  {
   "cell_type": "code",
   "execution_count": 2,
   "id": "3cc69fcb",
   "metadata": {},
   "outputs": [
    {
     "name": "stdout",
     "output_type": "stream",
     "text": [
      "Winken\n",
      "Henry\n",
      "Nod\n"
     ]
    }
   ],
   "source": [
    "# This program also demonstrates a simple for\n",
    "# loop that uses a list of strings.\n",
    "for name in ['Winken', 'Henry', 'Nod']:\n",
    "    print(name)"
   ]
  },
  {
   "cell_type": "code",
   "execution_count": 1,
   "id": "861094a4",
   "metadata": {},
   "outputs": [],
   "source": [
    "# Rewrite the Countdown program above using the for statement:\n"
   ]
  },
  {
   "cell_type": "code",
   "execution_count": 2,
   "id": "bbefcf63",
   "metadata": {},
   "outputs": [],
   "source": [
    "# Write a program to display odd numbers from 1 to 9 using the for statement:\n"
   ]
  },
  {
   "cell_type": "markdown",
   "id": "f156d7e5",
   "metadata": {},
   "source": [
    "## Writing `for` statement with `range` function\n",
    "\n",
    "Python provides a built-in function named `range` that simplifies the process of writing a\n",
    "count-controlled for loop. The range function creates a type of object known as an iterable.\n",
    "An iterable is an object that is similar to a list. It contains a sequence of values that can\n",
    "be iterated over with something like a loop.\n",
    "\n",
    "Here is an example of a for loop that uses the `range` function: "
   ]
  },
  {
   "cell_type": "code",
   "execution_count": 3,
   "id": "2cbf02fb",
   "metadata": {
    "scrolled": false
   },
   "outputs": [
    {
     "name": "stdout",
     "output_type": "stream",
     "text": [
      "0\n",
      "1\n",
      "2\n",
      "3\n",
      "4\n"
     ]
    }
   ],
   "source": [
    "for num in range(5):\n",
    "    print(num)"
   ]
  },
  {
   "cell_type": "markdown",
   "id": "a0c13eab",
   "metadata": {},
   "source": [
    "Notice instead of using a list of values, we call to the `range` function passing 5 as an argument.\n",
    "In this statement, the `range` function will generate an iterable sequence of integers\n",
    "in the range of 0 up to (but not including) 5."
   ]
  },
  {
   "cell_type": "code",
   "execution_count": 4,
   "id": "0bd3725c",
   "metadata": {},
   "outputs": [
    {
     "name": "stdout",
     "output_type": "stream",
     "text": [
      "0\n",
      "1\n",
      "2\n",
      "3\n",
      "4\n"
     ]
    }
   ],
   "source": [
    "for num in [0,1,2,3,4]:\n",
    "    print(num)"
   ]
  },
  {
   "cell_type": "code",
   "execution_count": 6,
   "id": "a58dfa81",
   "metadata": {},
   "outputs": [
    {
     "name": "stdout",
     "output_type": "stream",
     "text": [
      "Hello World for the  0 time\n",
      "Hello World for the  1 time\n",
      "Hello World for the  2 time\n",
      "Hello World for the  3 time\n",
      "Hello World for the  4 time\n"
     ]
    }
   ],
   "source": [
    "# print a message five times\n",
    "for x in range(5): \n",
    "    print(\"Hello World\" , \"for the \", x, \"time\")"
   ]
  },
  {
   "cell_type": "markdown",
   "id": "063e8a29",
   "metadata": {},
   "source": [
    "If you pass one argument to the range function, that argument\n",
    "is used as the ending limit of the sequence of numbers. If you pass two arguments to\n",
    "the range function, the first argument is used as the starting value of the sequence, and the\n",
    "second argument is used as the ending limit. By default, the range function produces a sequence of numbers that increase by 1 for each successive number in the list."
   ]
  },
  {
   "cell_type": "code",
   "execution_count": 4,
   "id": "8ff77e35",
   "metadata": {
    "scrolled": true
   },
   "outputs": [
    {
     "name": "stdout",
     "output_type": "stream",
     "text": [
      "1\n",
      "2\n",
      "3\n",
      "4\n",
      "5\n"
     ]
    }
   ],
   "source": [
    "for num in range(1,6):\n",
    "    print(num)"
   ]
  },
  {
   "cell_type": "markdown",
   "id": "aed18617",
   "metadata": {},
   "source": [
    "If you pass a third argument to the `range` function, that argument is used as step value. Instead of increasing by 1, each successive number in the sequence will increase by the **step value**."
   ]
  },
  {
   "cell_type": "code",
   "execution_count": 9,
   "id": "c6846c59",
   "metadata": {},
   "outputs": [
    {
     "name": "stdout",
     "output_type": "stream",
     "text": [
      "1\n",
      "3\n",
      "5\n",
      "7\n",
      "9\n"
     ]
    }
   ],
   "source": [
    "# Range function with step value\n",
    "for num in range(1, 10, 2):\n",
    "    print(num)"
   ]
  },
  {
   "cell_type": "code",
   "execution_count": 6,
   "id": "28c703b3",
   "metadata": {
    "scrolled": false
   },
   "outputs": [
    {
     "name": "stdout",
     "output_type": "stream",
     "text": [
      "10\n",
      "9\n",
      "8\n",
      "7\n",
      "6\n",
      "5\n",
      "4\n",
      "3\n",
      "2\n",
      "1\n"
     ]
    }
   ],
   "source": [
    "# Range function with step value\n",
    "for num in range(10, 0, -1): \n",
    "    print(num)"
   ]
  },
  {
   "cell_type": "code",
   "execution_count": 10,
   "id": "6a001789",
   "metadata": {
    "collapsed": true
   },
   "outputs": [
    {
     "name": "stdout",
     "output_type": "stream",
     "text": [
      "1\n",
      "3\n",
      "5\n",
      "7\n",
      "9\n",
      "11\n",
      "13\n",
      "15\n",
      "17\n",
      "19\n",
      "21\n",
      "23\n",
      "25\n",
      "27\n",
      "29\n",
      "31\n",
      "33\n",
      "35\n",
      "37\n",
      "39\n",
      "41\n",
      "43\n",
      "45\n",
      "47\n",
      "49\n",
      "51\n",
      "53\n",
      "55\n",
      "57\n",
      "59\n",
      "61\n",
      "63\n",
      "65\n",
      "67\n",
      "69\n",
      "71\n",
      "73\n",
      "75\n",
      "77\n",
      "79\n",
      "81\n",
      "83\n",
      "85\n",
      "87\n",
      "89\n",
      "91\n",
      "93\n",
      "95\n",
      "97\n",
      "99\n"
     ]
    }
   ],
   "source": [
    "# Modify the code that displays odd numbers from 1 to 9, using range function, so that\n",
    "# all the odd numbers from 1 to 99 are displayed\n",
    "\n",
    "for num in range(1,100,2):\n",
    "    print(num)"
   ]
  },
  {
   "cell_type": "code",
   "execution_count": 11,
   "id": "6d75808d",
   "metadata": {
    "collapsed": true
   },
   "outputs": [
    {
     "name": "stdout",
     "output_type": "stream",
     "text": [
      "Please enter a number: 34\n",
      "Index \t Number\n",
      "0 \t 34\n",
      "1 \t 33\n",
      "2 \t 32\n",
      "3 \t 31\n",
      "4 \t 30\n",
      "5 \t 29\n",
      "6 \t 28\n",
      "7 \t 27\n",
      "8 \t 26\n",
      "9 \t 25\n",
      "10 \t 24\n",
      "11 \t 23\n",
      "12 \t 22\n",
      "13 \t 21\n",
      "14 \t 20\n",
      "15 \t 19\n",
      "16 \t 18\n",
      "17 \t 17\n",
      "18 \t 16\n",
      "19 \t 15\n",
      "20 \t 14\n",
      "21 \t 13\n",
      "22 \t 12\n",
      "23 \t 11\n",
      "24 \t 10\n",
      "25 \t 9\n",
      "26 \t 8\n",
      "27 \t 7\n",
      "28 \t 6\n",
      "29 \t 5\n",
      "30 \t 4\n",
      "31 \t 3\n",
      "32 \t 2\n",
      "33 \t 1\n"
     ]
    }
   ],
   "source": [
    "# Rewrite the countdown program using the for statement with the range function. \n",
    "# the program asks user to enter a number, then counts down and prints the values from that number all the way to 1.\n",
    "\n",
    "number = int(input(\"Please enter a number: \"))\n",
    "\n",
    "print(\"Index\", \"\\t Number\")\n",
    "for i in range(number):\n",
    "    print(i, '\\t',number)\n",
    "    number -= 1"
   ]
  },
  {
   "cell_type": "markdown",
   "id": "e820a77f",
   "metadata": {},
   "source": [
    "### Using the Target Variable Inside the Loop\n",
    "In a `for` loop, the purpose of the target variable is to reference each item in a sequence\n",
    "of items as the loop iterates. In many situations it is helpful to use the target variable in a\n",
    "calculation or other task within the body of the loop."
   ]
  },
  {
   "cell_type": "code",
   "execution_count": 19,
   "id": "b773c53d",
   "metadata": {},
   "outputs": [
    {
     "name": "stdout",
     "output_type": "stream",
     "text": [
      "Number\tSquare\n",
      "--------------\n",
      "1\t1\n",
      "2\t4\n",
      "3\t9\n",
      "4\t16\n",
      "5\t25\n",
      "6\t36\n",
      "7\t49\n",
      "8\t64\n",
      "9\t81\n",
      "10\t100\n"
     ]
    }
   ],
   "source": [
    "# This program uses a loop to display a\n",
    "# table showing the numbers 1 through 10\n",
    "# and their squares.\n",
    "\n",
    "# Print the table headings.\n",
    "print('Number\\tSquare')\n",
    "print('--------------')\n",
    "\n",
    "# Print the numbers 1 through 10\n",
    "# and their squares.\n",
    "for number in range(1, 11):\n",
    "    square = number**2\n",
    "    print(f'{number}\\t{square}')"
   ]
  },
  {
   "cell_type": "markdown",
   "id": "e10d66de",
   "metadata": {},
   "source": [
    "### Augmented Assignment Operators\n",
    "\n",
    "     +=\n",
    "     -=\n",
    "     *=\n",
    "     /=\n",
    "     %=\n",
    "     \n",
    "     total += number\n",
    "     balance -= withdrawal"
   ]
  },
  {
   "cell_type": "code",
   "execution_count": 9,
   "id": "a17b397f",
   "metadata": {},
   "outputs": [],
   "source": [
    "# Rewrite the following statements using augmented assignment operators:\n",
    "#a) quantity = quantity + 1\n",
    "#b) days_left = days_left − 5 \n",
    "#c) price = price * 10\n",
    "#d) price = price / 2\n",
    "\n"
   ]
  },
  {
   "cell_type": "code",
   "execution_count": 10,
   "id": "41e406b5",
   "metadata": {},
   "outputs": [],
   "source": [
    "# Write a loop that asks the user to enter a number. \n",
    "# It should repeat the process for 10 times, and keep a running total of the 10 numbers entered.\n",
    "# It should display at the end the sum of the 10 numbers.\n",
    "\n"
   ]
  },
  {
   "cell_type": "markdown",
   "id": "b4d0c67e",
   "metadata": {},
   "source": [
    "## Nested Loops"
   ]
  },
  {
   "cell_type": "code",
   "execution_count": 11,
   "id": "e0407529",
   "metadata": {
    "collapsed": true
   },
   "outputs": [
    {
     "name": "stdout",
     "output_type": "stream",
     "text": [
      "0 : 0\n",
      "0 : 1\n",
      "0 : 2\n",
      "0 : 3\n",
      "0 : 4\n",
      "0 : 5\n",
      "0 : 6\n",
      "0 : 7\n",
      "0 : 8\n",
      "0 : 9\n",
      "0 : 10\n",
      "0 : 11\n",
      "0 : 12\n",
      "0 : 13\n",
      "0 : 14\n",
      "0 : 15\n",
      "0 : 16\n",
      "0 : 17\n",
      "0 : 18\n",
      "0 : 19\n",
      "0 : 20\n",
      "0 : 21\n",
      "0 : 22\n",
      "0 : 23\n",
      "0 : 24\n",
      "0 : 25\n",
      "0 : 26\n",
      "0 : 27\n",
      "0 : 28\n",
      "0 : 29\n",
      "0 : 30\n",
      "0 : 31\n",
      "0 : 32\n",
      "0 : 33\n",
      "0 : 34\n",
      "0 : 35\n",
      "0 : 36\n",
      "0 : 37\n",
      "0 : 38\n",
      "0 : 39\n",
      "0 : 40\n",
      "0 : 41\n",
      "0 : 42\n",
      "0 : 43\n",
      "0 : 44\n",
      "0 : 45\n",
      "0 : 46\n",
      "0 : 47\n",
      "0 : 48\n",
      "0 : 49\n",
      "0 : 50\n",
      "0 : 51\n",
      "0 : 52\n",
      "0 : 53\n",
      "0 : 54\n",
      "0 : 55\n",
      "0 : 56\n",
      "0 : 57\n",
      "0 : 58\n",
      "0 : 59\n",
      "1 : 0\n",
      "1 : 1\n",
      "1 : 2\n",
      "1 : 3\n",
      "1 : 4\n",
      "1 : 5\n",
      "1 : 6\n",
      "1 : 7\n",
      "1 : 8\n",
      "1 : 9\n",
      "1 : 10\n",
      "1 : 11\n",
      "1 : 12\n",
      "1 : 13\n",
      "1 : 14\n",
      "1 : 15\n",
      "1 : 16\n",
      "1 : 17\n",
      "1 : 18\n",
      "1 : 19\n",
      "1 : 20\n",
      "1 : 21\n",
      "1 : 22\n",
      "1 : 23\n",
      "1 : 24\n",
      "1 : 25\n",
      "1 : 26\n",
      "1 : 27\n",
      "1 : 28\n",
      "1 : 29\n",
      "1 : 30\n",
      "1 : 31\n",
      "1 : 32\n",
      "1 : 33\n",
      "1 : 34\n",
      "1 : 35\n",
      "1 : 36\n",
      "1 : 37\n",
      "1 : 38\n",
      "1 : 39\n",
      "1 : 40\n",
      "1 : 41\n",
      "1 : 42\n",
      "1 : 43\n",
      "1 : 44\n",
      "1 : 45\n",
      "1 : 46\n",
      "1 : 47\n",
      "1 : 48\n",
      "1 : 49\n",
      "1 : 50\n",
      "1 : 51\n",
      "1 : 52\n",
      "1 : 53\n",
      "1 : 54\n",
      "1 : 55\n",
      "1 : 56\n",
      "1 : 57\n",
      "1 : 58\n",
      "1 : 59\n"
     ]
    }
   ],
   "source": [
    "# first for loop: 2 minutes\n",
    "for minutes in range(2):\n",
    "    # second for loop: 60 seconds in each minute \n",
    "    for seconds in range(60):\n",
    "        print(minutes, ':', seconds)"
   ]
  },
  {
   "cell_type": "code",
   "execution_count": 12,
   "id": "908064d6",
   "metadata": {},
   "outputs": [
    {
     "name": "stdout",
     "output_type": "stream",
     "text": [
      "* * * * * * * * * * \n",
      "* * * * * * * * * * \n",
      "* * * * * * * * * * \n",
      "* * * * * * * * * * \n",
      "* * * * * * * * * * \n"
     ]
    }
   ],
   "source": [
    "for row in range (5):\n",
    "    for column in range (10):\n",
    "        print('* ', end = '')\n",
    "    print()\n",
    "\n",
    "# why do we need to have the end = '' part?\n",
    "# what does the print() statement do in this loop?"
   ]
  },
  {
   "cell_type": "code",
   "execution_count": 13,
   "id": "e7eb43e9",
   "metadata": {},
   "outputs": [
    {
     "name": "stdout",
     "output_type": "stream",
     "text": [
      "* * * * * * * * * * \n",
      "* * * * * * * * * * \n",
      "* * * * * * * * * * \n",
      "* * * * * * * * * * \n",
      "* * * * * * * * * * \n"
     ]
    }
   ],
   "source": [
    "for row in range (5):\n",
    "    for column in range (10):\n",
    "        print('* ', end = '')\n",
    "    print()"
   ]
  },
  {
   "cell_type": "code",
   "execution_count": 14,
   "id": "4d7afccf",
   "metadata": {},
   "outputs": [
    {
     "name": "stdout",
     "output_type": "stream",
     "text": [
      "* \n",
      "* * \n",
      "* * * \n",
      "* * * * \n",
      "* * * * * \n",
      "* * * * * * \n",
      "* * * * * * * \n",
      "* * * * * * * * \n"
     ]
    }
   ],
   "source": [
    "for r in range(8):\n",
    "    for c in range(r + 1):\n",
    "        print('* ', end = '')\n",
    "    print()"
   ]
  },
  {
   "cell_type": "code",
   "execution_count": 15,
   "id": "1aeea722",
   "metadata": {},
   "outputs": [
    {
     "name": "stdout",
     "output_type": "stream",
     "text": [
      "* * * * * * * \n",
      "* * * * * * \n",
      "* * * * * \n",
      "* * * * \n",
      "* * * \n",
      "* * \n",
      "* \n",
      "\n"
     ]
    }
   ],
   "source": [
    "for r in range(8, 0 , -1): \n",
    "    for a in range(r - 1): \n",
    "        print(\"* \", end = '')\n",
    "    print()"
   ]
  },
  {
   "cell_type": "markdown",
   "id": "fb2524bf",
   "metadata": {},
   "source": [
    "### Exercise 2\n",
    "3. Write a program that uses nested loops to draw this pattern: (complete in pairs)\n",
    "\n",
    "        * * * * * * *\n",
    "        * * * * * *\n",
    "        * * * * *\n",
    "        * * * *\n",
    "        * * *\n",
    "        * *\n",
    "        *\n",
    "        \n",
    "\n",
    "4. Write a program that predicts the approximate size of a population of organisms. The application should allow the user to enter the starting number of organisms, the average daily population increase (as a percentage), and the number of days the organisms will be left to multiply. You need to include user input validation for all the values that the user needs to enter.\n",
    "\n",
    "    For example, assume the user enters the following values:\n",
    "\n",
    "    Starting number of organisms: 2\n",
    "\n",
    "    Average daily increase: 30%\n",
    "\n",
    "    Number of days to multiply: 3\n",
    "    \n",
    "    The program should display the following table of data in this case:\n",
    "\n",
    "    Day Approximate\tPopulation Estimate\n",
    "    \n",
    "| Day Approximate | Population Estimate |\n",
    "|-------------------------|----------------------------|\n",
    "|    1|  2|\n",
    "|    2|  2.6|\n",
    "|3| 3.38|\n",
    "\n",
    "\n",
    "5. Sleep Debt\n",
    "A “sleep debt” represents the difference between a person’s desirable and actual amount of sleep. Write a program that prompts the user to enter how many hours they slept each day over a period of seven days. Using 8 hours per day as the desirable amount of sleep, determine their sleep debt by calculating the total hours of sleep they got over the seven-day period and subtracting that from the total hours of sleep they should have gotten. If the user does not have a sleep debt, display a message expressing your jealousy."
   ]
  },
  {
   "cell_type": "markdown",
   "id": "e54e0f5a",
   "metadata": {},
   "source": [
    "## Weekly Assignment & Quizzes\n",
    "### Assignment\n",
    "\n",
    "Weekly Assignment 7: Writing program with count-controlled loops (Due date: Mar 25th)\n",
    "- Please find the instruction file in Bb\n",
    "\n",
    "### Codelab Quizzes\n",
    "\n",
    "Section **Loops**: (Due date: Mar 25th)\n",
    "- for and ranges"
   ]
  }
 ],
 "metadata": {
  "kernelspec": {
   "display_name": "Python 3",
   "language": "python",
   "name": "python3"
  },
  "language_info": {
   "codemirror_mode": {
    "name": "ipython",
    "version": 3
   },
   "file_extension": ".py",
   "mimetype": "text/x-python",
   "name": "python",
   "nbconvert_exporter": "python",
   "pygments_lexer": "ipython3",
   "version": "3.9.5"
  }
 },
 "nbformat": 4,
 "nbformat_minor": 5
}
