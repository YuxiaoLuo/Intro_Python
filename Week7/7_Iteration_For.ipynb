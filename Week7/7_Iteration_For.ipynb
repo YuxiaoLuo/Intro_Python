{
 "cells": [
  {
   "cell_type": "markdown",
   "id": "981073f3",
   "metadata": {},
   "source": [
    "# The `for` Statement:\n",
    "- Count controlled loop\n",
    "- Repeats for a specified number of times\n",
    "\n",
    "`for variable in [val1, val2, etc.]:\n",
    "    statement\n",
    "    statement\n",
    "    etc.`"
   ]
  },
  {
   "cell_type": "code",
   "execution_count": 1,
   "id": "861094a4",
   "metadata": {},
   "outputs": [],
   "source": [
    "# Rewrite the Countdown program above using the for statement:\n"
   ]
  },
  {
   "cell_type": "code",
   "execution_count": 2,
   "id": "bbefcf63",
   "metadata": {},
   "outputs": [],
   "source": [
    "# Write a program to display odd numbers from 1 to 9 using the for statement:\n"
   ]
  },
  {
   "cell_type": "markdown",
   "id": "f156d7e5",
   "metadata": {},
   "source": [
    "## Writing `for` statement with `range` function"
   ]
  },
  {
   "cell_type": "code",
   "execution_count": 3,
   "id": "2cbf02fb",
   "metadata": {},
   "outputs": [
    {
     "name": "stdout",
     "output_type": "stream",
     "text": [
      "1\n",
      "2\n",
      "3\n",
      "4\n",
      "5\n"
     ]
    }
   ],
   "source": [
    "for num in range(5):\n",
    "    print(num + 1)"
   ]
  },
  {
   "cell_type": "code",
   "execution_count": 4,
   "id": "8ff77e35",
   "metadata": {},
   "outputs": [
    {
     "name": "stdout",
     "output_type": "stream",
     "text": [
      "1\n",
      "2\n",
      "3\n",
      "4\n",
      "5\n"
     ]
    }
   ],
   "source": [
    "for num in range(1,6):\n",
    "    print(num)"
   ]
  },
  {
   "cell_type": "code",
   "execution_count": 5,
   "id": "c6846c59",
   "metadata": {},
   "outputs": [
    {
     "name": "stdout",
     "output_type": "stream",
     "text": [
      "1\n",
      "3\n",
      "5\n",
      "7\n",
      "9\n"
     ]
    }
   ],
   "source": [
    "# Range function with step value\n",
    "for num in range(1, 10, 2):\n",
    "    print(num)"
   ]
  },
  {
   "cell_type": "code",
   "execution_count": 6,
   "id": "28c703b3",
   "metadata": {},
   "outputs": [
    {
     "name": "stdout",
     "output_type": "stream",
     "text": [
      "10\n",
      "9\n",
      "8\n",
      "7\n",
      "6\n",
      "5\n",
      "4\n",
      "3\n",
      "2\n",
      "1\n"
     ]
    }
   ],
   "source": [
    "# Range function with step value\n",
    "for num in range(10, 0, -1): \n",
    "    print(num)"
   ]
  },
  {
   "cell_type": "code",
   "execution_count": 7,
   "id": "b08a1cd7",
   "metadata": {},
   "outputs": [],
   "source": [
    "# Modify the code that displays odd numbers from 1 to 9, using range function, so that\n",
    "# all the odd numbers from 1 to 99 are displayed\n",
    "\n"
   ]
  },
  {
   "cell_type": "code",
   "execution_count": 8,
   "id": "b773c53d",
   "metadata": {},
   "outputs": [],
   "source": [
    "# Rewrite the countdown program using the for statement with the range function. \n",
    "# the program asks user to enter a number, then counts down and prints the values from that number all the way to 1.\n"
   ]
  },
  {
   "cell_type": "markdown",
   "id": "e10d66de",
   "metadata": {},
   "source": [
    "### Augmented Assignment Operators\n",
    "\n",
    "     +=\n",
    "     -=\n",
    "     *=\n",
    "     /=\n",
    "     %=\n",
    "     \n",
    "     total += number\n",
    "     balance -= withdrawal"
   ]
  },
  {
   "cell_type": "code",
   "execution_count": 9,
   "id": "a17b397f",
   "metadata": {},
   "outputs": [],
   "source": [
    "# Rewrite the following statements using augmented assignment operators:\n",
    "#a) quantity = quantity + 1\n",
    "#b) days_left = days_left − 5 \n",
    "#c) price = price * 10\n",
    "#d) price = price / 2\n",
    "\n"
   ]
  },
  {
   "cell_type": "code",
   "execution_count": 10,
   "id": "41e406b5",
   "metadata": {},
   "outputs": [],
   "source": [
    "# Write a loop that asks the user to enter a number. \n",
    "# It should repeat the process for 10 times, and keep a running total of the 10 numbers entered.\n",
    "# It should display at the end the sum of the 10 numbers.\n",
    "\n"
   ]
  },
  {
   "cell_type": "markdown",
   "id": "b4d0c67e",
   "metadata": {},
   "source": [
    "## Nested Loops"
   ]
  },
  {
   "cell_type": "code",
   "execution_count": 11,
   "id": "e0407529",
   "metadata": {},
   "outputs": [
    {
     "name": "stdout",
     "output_type": "stream",
     "text": [
      "0 : 0\n",
      "0 : 1\n",
      "0 : 2\n",
      "0 : 3\n",
      "0 : 4\n",
      "0 : 5\n",
      "0 : 6\n",
      "0 : 7\n",
      "0 : 8\n",
      "0 : 9\n",
      "0 : 10\n",
      "0 : 11\n",
      "0 : 12\n",
      "0 : 13\n",
      "0 : 14\n",
      "0 : 15\n",
      "0 : 16\n",
      "0 : 17\n",
      "0 : 18\n",
      "0 : 19\n",
      "0 : 20\n",
      "0 : 21\n",
      "0 : 22\n",
      "0 : 23\n",
      "0 : 24\n",
      "0 : 25\n",
      "0 : 26\n",
      "0 : 27\n",
      "0 : 28\n",
      "0 : 29\n",
      "0 : 30\n",
      "0 : 31\n",
      "0 : 32\n",
      "0 : 33\n",
      "0 : 34\n",
      "0 : 35\n",
      "0 : 36\n",
      "0 : 37\n",
      "0 : 38\n",
      "0 : 39\n",
      "0 : 40\n",
      "0 : 41\n",
      "0 : 42\n",
      "0 : 43\n",
      "0 : 44\n",
      "0 : 45\n",
      "0 : 46\n",
      "0 : 47\n",
      "0 : 48\n",
      "0 : 49\n",
      "0 : 50\n",
      "0 : 51\n",
      "0 : 52\n",
      "0 : 53\n",
      "0 : 54\n",
      "0 : 55\n",
      "0 : 56\n",
      "0 : 57\n",
      "0 : 58\n",
      "0 : 59\n",
      "1 : 0\n",
      "1 : 1\n",
      "1 : 2\n",
      "1 : 3\n",
      "1 : 4\n",
      "1 : 5\n",
      "1 : 6\n",
      "1 : 7\n",
      "1 : 8\n",
      "1 : 9\n",
      "1 : 10\n",
      "1 : 11\n",
      "1 : 12\n",
      "1 : 13\n",
      "1 : 14\n",
      "1 : 15\n",
      "1 : 16\n",
      "1 : 17\n",
      "1 : 18\n",
      "1 : 19\n",
      "1 : 20\n",
      "1 : 21\n",
      "1 : 22\n",
      "1 : 23\n",
      "1 : 24\n",
      "1 : 25\n",
      "1 : 26\n",
      "1 : 27\n",
      "1 : 28\n",
      "1 : 29\n",
      "1 : 30\n",
      "1 : 31\n",
      "1 : 32\n",
      "1 : 33\n",
      "1 : 34\n",
      "1 : 35\n",
      "1 : 36\n",
      "1 : 37\n",
      "1 : 38\n",
      "1 : 39\n",
      "1 : 40\n",
      "1 : 41\n",
      "1 : 42\n",
      "1 : 43\n",
      "1 : 44\n",
      "1 : 45\n",
      "1 : 46\n",
      "1 : 47\n",
      "1 : 48\n",
      "1 : 49\n",
      "1 : 50\n",
      "1 : 51\n",
      "1 : 52\n",
      "1 : 53\n",
      "1 : 54\n",
      "1 : 55\n",
      "1 : 56\n",
      "1 : 57\n",
      "1 : 58\n",
      "1 : 59\n"
     ]
    }
   ],
   "source": [
    "for minutes in range(2):\n",
    "    for seconds in range(60):\n",
    "        print(minutes, ':', seconds)"
   ]
  },
  {
   "cell_type": "code",
   "execution_count": 12,
   "id": "908064d6",
   "metadata": {},
   "outputs": [
    {
     "name": "stdout",
     "output_type": "stream",
     "text": [
      "* * * * * * * * * * \n",
      "* * * * * * * * * * \n",
      "* * * * * * * * * * \n",
      "* * * * * * * * * * \n",
      "* * * * * * * * * * \n"
     ]
    }
   ],
   "source": [
    "for row in range (5):\n",
    "    for column in range (10):\n",
    "        print('* ', end = '')\n",
    "    print()\n",
    "\n",
    "# why do we need to have the end = '' part?\n",
    "# what does the print() statement do in this loop?"
   ]
  },
  {
   "cell_type": "code",
   "execution_count": 13,
   "id": "e7eb43e9",
   "metadata": {},
   "outputs": [
    {
     "name": "stdout",
     "output_type": "stream",
     "text": [
      "* * * * * * * * * * \n",
      "* * * * * * * * * * \n",
      "* * * * * * * * * * \n",
      "* * * * * * * * * * \n",
      "* * * * * * * * * * \n"
     ]
    }
   ],
   "source": [
    "for row in range (5):\n",
    "    for column in range (10):\n",
    "        print('* ', end = '')\n",
    "    print()"
   ]
  },
  {
   "cell_type": "code",
   "execution_count": 14,
   "id": "4d7afccf",
   "metadata": {},
   "outputs": [
    {
     "name": "stdout",
     "output_type": "stream",
     "text": [
      "* \n",
      "* * \n",
      "* * * \n",
      "* * * * \n",
      "* * * * * \n",
      "* * * * * * \n",
      "* * * * * * * \n",
      "* * * * * * * * \n"
     ]
    }
   ],
   "source": [
    "for r in range(8):\n",
    "    for c in range(r + 1):\n",
    "        print('* ', end = '')\n",
    "    print()"
   ]
  },
  {
   "cell_type": "code",
   "execution_count": 15,
   "id": "1aeea722",
   "metadata": {},
   "outputs": [
    {
     "name": "stdout",
     "output_type": "stream",
     "text": [
      "* * * * * * * \n",
      "* * * * * * \n",
      "* * * * * \n",
      "* * * * \n",
      "* * * \n",
      "* * \n",
      "* \n",
      "\n"
     ]
    }
   ],
   "source": [
    "for r in range(8, 0 , -1): \n",
    "    for a in range(r - 1): \n",
    "        print(\"* \", end = '')\n",
    "    print()"
   ]
  },
  {
   "cell_type": "markdown",
   "id": "fb2524bf",
   "metadata": {},
   "source": [
    "### Exercise 2\n",
    "3. Write a program that uses nested loops to draw this pattern: (complete in pairs)\n",
    "\n",
    "        * * * * * * *\n",
    "        * * * * * *\n",
    "        * * * * *\n",
    "        * * * *\n",
    "        * * *\n",
    "        * *\n",
    "        *\n",
    "        \n",
    "\n",
    "4. Write a program that predicts the approximate size of a population of organisms. The application should allow the user to enter the starting number of organisms, the average daily population increase (as a percentage), and the number of days the organisms will be left to multiply. You need to include user input validation for all the values that the user needs to enter.\n",
    "\n",
    "    For example, assume the user enters the following values:\n",
    "\n",
    "    Starting number of organisms: 2\n",
    "\n",
    "    Average daily increase: 30%\n",
    "\n",
    "    Number of days to multiply: 3\n",
    "    \n",
    "    The program should display the following table of data in this case:\n",
    "\n",
    "    Day Approximate\tPopulation Estimate\n",
    "    \n",
    "| Day Approximate | Population Estimate |\n",
    "|-------------------------|----------------------------|\n",
    "|    1|  2|\n",
    "|    2|  2.6|\n",
    "|3| 3.38|\n",
    "\n",
    "\n",
    "5. Sleep Debt\n",
    "A “sleep debt” represents the difference between a person’s desirable and actual amount of sleep. Write a program that prompts the user to enter how many hours they slept each day over a period of seven days. Using 8 hours per day as the desirable amount of sleep, determine their sleep debt by calculating the total hours of sleep they got over the seven-day period and subtracting that from the total hours of sleep they should have gotten. If the user does not have a sleep debt, display a message expressing your jealousy."
   ]
  },
  {
   "cell_type": "markdown",
   "id": "e54e0f5a",
   "metadata": {},
   "source": [
    "## Weekly Assignment & Quizzes\n"
   ]
  }
 ],
 "metadata": {
  "kernelspec": {
   "display_name": "Python 3",
   "language": "python",
   "name": "python3"
  },
  "language_info": {
   "codemirror_mode": {
    "name": "ipython",
    "version": 3
   },
   "file_extension": ".py",
   "mimetype": "text/x-python",
   "name": "python",
   "nbconvert_exporter": "python",
   "pygments_lexer": "ipython3",
   "version": "3.9.5"
  }
 },
 "nbformat": 4,
 "nbformat_minor": 5
}
