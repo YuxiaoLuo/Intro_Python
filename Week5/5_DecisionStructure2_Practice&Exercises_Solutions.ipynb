{
 "cells": [
  {
   "cell_type": "markdown",
   "id": "1f8de114",
   "metadata": {},
   "source": [
    "# Hands-on session "
   ]
  },
  {
   "cell_type": "markdown",
   "id": "eb1f2a42",
   "metadata": {},
   "source": [
    "## Practice Exercises:\n",
    "1. Ask the user to input a year. Check if this is a leap year or not."
   ]
  },
  {
   "cell_type": "code",
   "execution_count": 4,
   "id": "2515b985",
   "metadata": {},
   "outputs": [
    {
     "name": "stdout",
     "output_type": "stream",
     "text": [
      "Please enter a year in your mind: -23\n",
      "Error, please enter a correct year value.\n"
     ]
    }
   ],
   "source": [
    "year = float(input(\"Please enter a year in your mind: \"))\n",
    "\n",
    "if year > 0:\n",
    "    if year % 4 == 0:\n",
    "        print(\"This year is leap year.\")\n",
    "    else:\n",
    "        print(\"This year is not leap year.\")\n",
    "else:\n",
    "    print(\"Error, please enter a correct year value.\")"
   ]
  },
  {
   "cell_type": "markdown",
   "id": "d2432a3f",
   "metadata": {},
   "source": [
    "2. Ask the user to input a number. Check if this number is even or odd."
   ]
  },
  {
   "cell_type": "code",
   "execution_count": 5,
   "id": "279da7ef",
   "metadata": {},
   "outputs": [
    {
     "name": "stdout",
     "output_type": "stream",
     "text": [
      "Please enter a number in your mind: 23\n",
      "The number is odd.\n"
     ]
    }
   ],
   "source": [
    "number = float(input(\"Please enter a number in your mind: \"))\n",
    "\n",
    "if number % 2 == 0:\n",
    "    print(\"The number is even.\")\n",
    "else: \n",
    "    print(\"The number is odd.\")"
   ]
  },
  {
   "cell_type": "markdown",
   "id": "36572f0a",
   "metadata": {},
   "source": [
    "3. Ask the user to input a character and check if it is a vowel."
   ]
  },
  {
   "cell_type": "code",
   "execution_count": null,
   "id": "07aa2181",
   "metadata": {},
   "outputs": [],
   "source": [
    "char = input(\"Please enter a letter: \")\n",
    "\n",
    "# A, E, I, O, U \n",
    "if char == 'a' or char == 'e' or char == 'i' or char == 'o' or char == 'u':\n",
    "    print(\"It's vowel.\")\n",
    "elif char == 'A' or char == 'E' or char == 'I' or char == 'O' or char == 'U':\n",
    "    print(\"It's vowel.\")\n",
    "else: \n",
    "    print(\"It's not vowel.\")"
   ]
  },
  {
   "cell_type": "markdown",
   "id": "e736e65e",
   "metadata": {},
   "source": [
    "4. Ask the user for three numbers and find the highest of the three numbers."
   ]
  },
  {
   "cell_type": "code",
   "execution_count": 14,
   "id": "0b88c02f",
   "metadata": {},
   "outputs": [
    {
     "name": "stdout",
     "output_type": "stream",
     "text": [
      "Now you will enter 3 numbers in order.\n",
      "\n",
      "Please enter the first number: 1\n",
      "Please enter the second number: 2\n",
      "Please enter the third number: 3\n",
      "\n",
      "The 3 numbers are: (1, 2, 3).\n",
      "\n",
      "3 is the largest number.\n",
      "3 is the largest number.\n"
     ]
    }
   ],
   "source": [
    "print(\"Now you will enter 3 numbers in order.\\n\")\n",
    "num_1 = int(input(\"Please enter the first number: \"))\n",
    "num_2 = int(input(\"Please enter the second number: \"))\n",
    "num_3 = int(input(\"Please enter the third number: \"))\n",
    "\n",
    "print(f\"\\nThe 3 numbers are: {num_1,num_2,num_3}.\\n\")\n",
    "\n",
    "# nested conditionals\n",
    "if num_1 > num_2:\n",
    "    if num_1 > num_3:\n",
    "        # num_1 is greater than both num_2 and num_3\n",
    "        print(f\"{num_1} is the largest number.\")\n",
    "    else:\n",
    "        # num_3 > num_1 > num_2\n",
    "        print(f\"{num_3} is the largest number.\")\n",
    "else:\n",
    "    # num_1 < num_2\n",
    "    if num_2 > num_3:\n",
    "        # num_2 is greater than both num_1 and num_3\n",
    "        print(f\"{num_2} is the largest number.\")\n",
    "    else:\n",
    "        # num_1 < num_2 < num_3\n",
    "        print(f\"{num_3} is the largest number.\")\n",
    "\n",
    "# if-elif-else statement\n",
    "if num_1 > num_2 and num_1 > num_3:\n",
    "    print(f\"{num_1} is the largest number.\")\n",
    "elif num_2 > num_1 and num_2 > num_3:\n",
    "    print(f\"{num_2} is the largest number.\")\n",
    "else:\n",
    "    print(f\"{num_3} is the largest number.\")"
   ]
  },
  {
   "cell_type": "markdown",
   "id": "c1d191da",
   "metadata": {},
   "source": [
    "5. To enter the Zicklin school of business, students need to complete at least 45 credits \n",
    "with an overall Baruch GPA of 2.25 or higher. \n",
    "Ask the user the number of credits they have completed and \n",
    "their overall GPA and display whether they are eligible to get into Zicklin or not."
   ]
  },
  {
   "cell_type": "code",
   "execution_count": null,
   "id": "ea33a39c",
   "metadata": {},
   "outputs": [],
   "source": [
    "credit = input(\"Please enter the credits you got: \")\n",
    "gpa = input(\"Please enter your GPA: \")\n",
    "\n",
    "if credit >= 45 and GPA >= 2.25:\n",
    "    print(\"You are eligible to get into Zicklin!\")\n",
    "elif credit < 45: \n",
    "    print(f\"Unfortunately, you only got {credit} credits and 45 credits are needed.\")\n",
    "elif GPA < 2.25: \n",
    "    print(f\"Unfortunately, you only got {GPA} GPA and 2.25 is the minimum requirement.\")"
   ]
  },
  {
   "cell_type": "markdown",
   "id": "e5913f85",
   "metadata": {},
   "source": [
    "6. Check the Baruch/CUNY Pathways requirements for college option – \n",
    "http://www.baruch.cuny.edu/genedreqs/pathwaysatbaruch/pathwaysoptions_baruch.htm. \n",
    "\n",
    "Ask the user the right questions and do the right checks to display the coursework that the user needs to complete.  "
   ]
  },
  {
   "cell_type": "code",
   "execution_count": 46,
   "id": "ceaa84fa",
   "metadata": {},
   "outputs": [
    {
     "name": "stdout",
     "output_type": "stream",
     "text": [
      "Are you transferred from Associate or Bachelor program? Associate/Bachelor bachelor\n",
      "Were you in a CUNY Bachelor degree program? Yes/No yes\n",
      "COPT credits completed at and/or received upon transfer to the previous CUNY senior college will transfer to Baruch with the designation\n",
      "Students who have remaining COPT requirements begin taking courses at the top of the relevant Baruch COPT course list\n",
      "You need to earn 12 COPT credits.\n"
     ]
    }
   ],
   "source": [
    "# The Pathways Option\n",
    "degree = input(\"Are you transferred from Associate or Bachelor program? Associate/Bachelor \")\n",
    "COPT = 0\n",
    "\n",
    "# Check if student was in Associate program or Bachelor program\n",
    "if degree.lower() == 'associate': \n",
    "    degree_earned = input(\"Have you earned the Associate degree? Yes/No \")\n",
    "    if degree_earned.lower() == 'yes':\n",
    "        COPT = 6\n",
    "    else:\n",
    "        credit_earned = int(input(\"How many credits have you earned so far? \"))\n",
    "        if credit_earned > 30:\n",
    "            COPT = 9\n",
    "        elif credit_earned <= 30 and credit_earned >= 0:\n",
    "            COPT = 12\n",
    "        else:\n",
    "            print(\"ERROR, please enter the correct credits you've earned in the associate program.\")\n",
    "else: \n",
    "    bachelor_type = input(\"Were you in a CUNY Bachelor degree program? Yes/No \")\n",
    "    if bachelor_type.lower() == 'yes':\n",
    "        COPT = 12 \n",
    "        print(\"\\nCOPT credits completed at and/or received upon transfer to the previous CUNY senior college will transfer to Baruch with the designation\")\n",
    "        print(\"\\nStudents who have remaining COPT requirements begin taking courses at the top of the relevant Baruch COPT course list\")\n",
    "    elif bachelor_type.lower() == 'no':\n",
    "        COPT = 12\n",
    "    else:\n",
    "        print(\"ERROR, please indicate if you were from a CUNY Bachelor degree program or a non-CUNY one.\")\n",
    "print(f\"\\nYou need to earn {COPT} COPT credits.\") "
   ]
  },
  {
   "cell_type": "markdown",
   "id": "6b70cf35",
   "metadata": {
    "scrolled": true
   },
   "source": [
    "7. Fermat’s Last Theorem says that there are no positive integers a, b, and c such that:\n",
    "$$a^n + b^n = c^n$$ \n",
    "for any values of n greater than 2.\n",
    "\n",
    "    (a) Write a program that takes four parameters—a, b, c and n—and that\n",
    "checks to see if Fermat’s theorem holds. If n is greater than 2 and it turns out to be true that $a^n + b^n = c^n$ the program should print, “Holy smokes, Fermat was wrong!”. Otherwise the program should print, “No, that doesn’t work.”\n",
    "\n",
    "    (b) Write a program that prompts the user to input values for a, b, c and n, converts them to\n",
    "integers, and uses check_fermat to check whether they violate Fermat’s theorem."
   ]
  },
  {
   "cell_type": "code",
   "execution_count": 18,
   "id": "3947e064",
   "metadata": {},
   "outputs": [],
   "source": [
    "a = 3\n",
    "b = 4\n",
    "c = 5\n",
    "n = 1\n",
    "def check_fermat(a,b,c,n):\n",
    "    if n > 2 and a**n + b**n == c**n:\n",
    "        print(\"Holy smokes, Fermat was wrong!\")\n",
    "    elif n > 2 and a**n + b**n != c**n: \n",
    "        print(\"No, that doesn’t work.\")\n",
    "    else:\n",
    "        print(\"n is smaller than or equal to 2. It cannot be tested!\")"
   ]
  },
  {
   "cell_type": "code",
   "execution_count": 20,
   "id": "a6de9580",
   "metadata": {},
   "outputs": [
    {
     "name": "stdout",
     "output_type": "stream",
     "text": [
      "1\n",
      "2\n",
      "3\n",
      "4\n",
      "No, that doesn’t work.\n"
     ]
    }
   ],
   "source": [
    "print(\"\"\"\n",
    "a, b, c are integers.\n",
    "\"\"\")\n",
    "a = int(input(\"Please enter a: \"))\n",
    "b = int(input(\"Please enter b: \"))\n",
    "c = int(input(\"Please enter c: \"))\n",
    "n = int(input(\"Please enter n: \"))\n",
    "print(f\"\"\"\n",
    "a is {a}, b is {b}, c is {c}, n is {n}\n",
    "\"\"\")\n",
    "check_fermat(a,b,c,n)"
   ]
  },
  {
   "cell_type": "markdown",
   "id": "a9430bf5",
   "metadata": {},
   "source": [
    "8.  If you are given three sticks, you may or may not be able to arrange them in a triangle. For example, if one of the sticks is 12 inches long and the other two are one inch long, it is clear that you will not be able to get the short sticks to meet in the middle. For any three lengths, there is a simple test to see if it is possible to form a triangle:\n",
    "\n",
    "        If any of the three lengths is greater than the sum of the other two, then you cannot form a triangle. \n",
    "        Otherwise, you can. (If the sum of two lengths equals the third, they form what is called a “degenerate” triangle.)\n",
    "    \n",
    "    - Write a program that takes three integers as arguments, and that prints either “Yes” or “No,” depending on whether you can or cannot form a triangle from sticks with the given lengths.\n",
    "    \n",
    "    - Write a program that prompts the user to input three stick lengths, converts them to integers, and uses is_triangle to check whether sticks with the given lengths can form a triangle."
   ]
  },
  {
   "cell_type": "code",
   "execution_count": 24,
   "id": "8f7db943",
   "metadata": {},
   "outputs": [],
   "source": [
    "def is_triangle(a,b,c):\n",
    "    if a + b < c:\n",
    "        print(\"No\")\n",
    "    elif a + c < b:\n",
    "        print(\"No\")\n",
    "    elif b + c < a: \n",
    "        print(\"No\")\n",
    "    else: \n",
    "        print(\"Yes\")"
   ]
  },
  {
   "cell_type": "code",
   "execution_count": 28,
   "id": "d7ef0ae3",
   "metadata": {},
   "outputs": [
    {
     "name": "stdout",
     "output_type": "stream",
     "text": [
      "4\n",
      "6\n",
      "7\n",
      "Yes\n"
     ]
    }
   ],
   "source": [
    "a = int(input())\n",
    "b = int(input())\n",
    "c = int(input())\n",
    "is_triangle(a,b,c)"
   ]
  },
  {
   "cell_type": "markdown",
   "id": "b9abe523",
   "metadata": {},
   "source": [
    "## Challenge problems\n",
    "1. Write a Tipper program with the following features:\n",
    "    - The program first asks the user to enter a restaurant bill amount (before tax). \n",
    "    - The program then displays 3 dollar amounts for a 15% tip, an 18% tip, and a 20% tip, for the user's references. \n",
    "    - Then, the program asks the user to enter how much they want to tip in percentage (the user can enter any %, not just 15/18/20 like above). \n",
    "    - Assuming the tax is 8.8%, the program then prints the subtotal (before tax and tip), the tax dollar amount, the dollar amount the user decided to tip, and the total meal charge. \n",
    "    - Make sure all the values are displayed in 2 decimal places format. "
   ]
  },
  {
   "cell_type": "code",
   "execution_count": 39,
   "id": "a42a8ab2",
   "metadata": {},
   "outputs": [
    {
     "name": "stdout",
     "output_type": "stream",
     "text": [
      "Please enter the restaurant bill: 1234\n",
      "\n",
      "You have 3 options for the tips: \n",
      "1. 15%\n",
      "2. 18% \n",
      "3. 20%\n",
      "Please choose one below:\n",
      "\n",
      "How much tip you want in percentage: 20%\n",
      "\n",
      "The tax is 8.8%. \n",
      "The subtotal is 1234.00. \n",
      "The tax dollar amount is 108.59.\n",
      "The tip amount is 246.80.\n",
      "The total meal charge is 1589.39.\n",
      "\n"
     ]
    }
   ],
   "source": [
    "# input\n",
    "bill = float(input(\"Please enter the restaurant bill: \"))\n",
    "tax = 8.8 # default tax value\n",
    "\n",
    "# tip options\n",
    "print(\"\"\"\n",
    "You have 3 options for the tips: \n",
    "1. 15%\n",
    "2. 18% \n",
    "3. 20%\n",
    "Please choose one below:\n",
    "\"\"\")\n",
    "\n",
    "tip = input(\"How much tip you want in percentage: \")\n",
    "tip = float(tip.replace('%',''))\n",
    "\n",
    "# calculations and results\n",
    "print(f\"\"\"\n",
    "The tax is 8.8%. \n",
    "The subtotal is {format(bill,\".2f\")}. \n",
    "The tax dollar amount is {format(bill*tax/100, \".2f\")}.\n",
    "The tip amount is {format(bill*tip/100,\".2f\")}.\n",
    "The total meal charge is {format(bill*(1+tax/100) + bill*tip/100, \".2f\")}.\n",
    "\"\"\")"
   ]
  },
  {
   "cell_type": "markdown",
   "id": "8cb9f186",
   "metadata": {},
   "source": [
    "2. Ingredient Adjuster program. A cookie recipe calls for the following ingredients:\n",
    "    - 1.5 cups of sugar \n",
    "    - 1 cup of butter\n",
    "    - 2.75 cups of flour\n",
    "\n",
    "   The recipe produces 48 cookies with this amount of the ingredients. \n",
    "    \n",
    "   Write a program that: (a) asks the user how many cookies he or she wants to make and, (b) then displays the amount of each ingredient needed for the specified number of cookies.\n",
    "   \n",
    "   The amounts should be displayed in cups and in grams (put gram amounts in parentheses), with 2 decimal places."
   ]
  },
  {
   "cell_type": "code",
   "execution_count": 47,
   "id": "5ec2c8c1",
   "metadata": {},
   "outputs": [
    {
     "name": "stdout",
     "output_type": "stream",
     "text": [
      "\n",
      "How many cookies would you like to make: 23\n",
      "\n",
      "Number of cookies = 23\n",
      "\n",
      "Total sugar = 0.72\n",
      "Total butter = 0.48\n",
      "Total flour = 1.32\n",
      "\n"
     ]
    }
   ],
   "source": [
    "#1. Input\n",
    "number_of_cookies = int(input('\\nHow many cookies would you like to make: '))\n",
    "\n",
    "#2. Process\n",
    "COOKIES = 48\n",
    "SUGAR = 1.5\n",
    "BUTTER = 1\n",
    "FLOUR = 2.75\n",
    "\n",
    "total_sugar  = (SUGAR * number_of_cookies) / COOKIES\n",
    "total_butter = (BUTTER * number_of_cookies) / COOKIES\n",
    "total_flour  = (FLOUR * number_of_cookies) / COOKIES\n",
    "\n",
    "#3. Output\n",
    "print('\\nNumber of cookies =', number_of_cookies, end='\\n\\n')\n",
    "print('Total sugar =', format(total_sugar, ',.2f'))\n",
    "print('Total butter =', format(total_butter, ',.2f'))\n",
    "print('Total flour =', format(total_flour, ',.2f'), end='\\n\\n')"
   ]
  },
  {
   "cell_type": "markdown",
   "id": "d02a91c8",
   "metadata": {},
   "source": [
    "3. Stock Transaction Program. Go to Yahoo! Finance or Google Finance to pick a stock and look up the prices. Find out the stock's **opening price** on Jan 10, 2022 and **closing** price on Feb 10, 2022.\n",
    "\n",
    "    Assume that you bought the stock on Jan 10, 2022 with the following details:\n",
    "    - The number of shares that you purchased was 2,000.\n",
    "    - You paid for the stock, per share, with its opening price on Jan 10, 2022.\n",
    "    - You paid your stockbroker a commission that is 3 percent of the amount you paid for the stock \n",
    "    \n",
    "    </br>\n",
    "\n",
    "   A month later, on Feb 10, 2022, you sold the stock. Here are the details of the sale:\n",
    "    - The number of shares that you sold was 2,000.\n",
    "    - You sold the stock, per share, for its closing price on Feb 10, 2022.\n",
    "    - You paid your stockbroker another commission that is 3 percent of the amount you received for the stock.\n",
    "    \n",
    "    </br>\n",
    "    \n",
    "   Write a program that displays the following information:\n",
    "    - The name of the company you chose and the stock ticker (e.g., Apple Inc. & AAPL) \n",
    "    - The amount of money you paid for the stock\n",
    "    - The amount of commission you paid your broker when you bought the stock\n",
    "    - The amount for which you sold the stock.\n",
    "    - The amount of commission you paid your broker when you sold the stock.\n",
    "    - The amount of money that you had left when you sold the stock and paid your\n",
    "broker (both times). \n",
    "    - Make sure all the amounts have 2 decimal places, and a thousand separator for those that are 1,000 USD"
   ]
  },
  {
   "cell_type": "code",
   "execution_count": 66,
   "id": "a8a9aabc",
   "metadata": {},
   "outputs": [
    {
     "name": "stdout",
     "output_type": "stream",
     "text": [
      "\n",
      "The company is Apple and the ticker is AAPL.\n",
      "\n",
      "I paid 338160.00 to buy 2000.00 shares of Apple stocks and \n",
      "the commission fee is 10144.80.\n",
      "\n",
      "I received 344240.00 by selling 2000.00 shares of Apple stocks and \n",
      "the commission fee is  10327.20. \n",
      "\n",
      "The amount of money I got is $6262.40 after selling the stock. \n",
      "\n",
      "\n"
     ]
    }
   ],
   "source": [
    "# info about the company chosen\n",
    "company = \"Apple\"\n",
    "shares = 2000\n",
    "commission = .03\n",
    "p_open = 169.08\n",
    "p_close = 172.12\n",
    "\n",
    "# results\n",
    "print(f\"\"\"\n",
    "The company is {company} and the ticker is AAPL.\n",
    "\n",
    "I paid {shares * p_open:.2f} to buy {shares:.2f} shares of {company} stocks and \n",
    "the commission fee is {shares * p_open * commission:.2f}.\n",
    "\n",
    "I received {shares * p_close:.2f} by selling {shares:.2f} shares of {company} stocks and \n",
    "the commission fee is {shares*p_close * commission: .2f}. \n",
    "\n",
    "The amount of money I got is ${shares*p_close * (1+commission) - shares * p_open * (1+commission):.2f} after selling the stock. \n",
    "\n",
    "\"\"\")\n"
   ]
  },
  {
   "cell_type": "markdown",
   "id": "a1a33adf",
   "metadata": {},
   "source": [
    "## Week 5 Assignments & Quizzes\n",
    "### Assignment\n",
    "Writing some programs with complex conditional expressions (due date: Mar 11th).\n",
    "\n",
    "Please read the instruction in Bb and sumit the HW documents in the assignment block (.ipynb notebook file & Screenshots of the Code and Output).\n",
    "\n",
    "### Quizzes\n",
    "CodeLab (due date: Mar 11th)\n",
    "\n",
    "    - Conditions and Branches: \n",
    "        - Logical Operators\n",
    "        - if\n",
    "        - if-else\n",
    "        - range-testing\n",
    "        - String Comps and Logical Ops"
   ]
  }
 ],
 "metadata": {
  "kernelspec": {
   "display_name": "Python 3 (ipykernel)",
   "language": "python",
   "name": "python3"
  },
  "language_info": {
   "codemirror_mode": {
    "name": "ipython",
    "version": 3
   },
   "file_extension": ".py",
   "mimetype": "text/x-python",
   "name": "python",
   "nbconvert_exporter": "python",
   "pygments_lexer": "ipython3",
   "version": "3.11.1"
  }
 },
 "nbformat": 4,
 "nbformat_minor": 5
}
