{
 "cells": [
  {
   "cell_type": "markdown",
   "id": "1f8de114",
   "metadata": {},
   "source": [
    "# Hands-on session "
   ]
  },
  {
   "cell_type": "markdown",
   "id": "eb1f2a42",
   "metadata": {},
   "source": [
    "## Practice Exercises:\n",
    "1. Ask the user to input a year. Check if this is a leap year or not."
   ]
  },
  {
   "cell_type": "code",
   "execution_count": 4,
   "id": "2515b985",
   "metadata": {},
   "outputs": [
    {
     "name": "stdout",
     "output_type": "stream",
     "text": [
      "Please enter the year: -1\n",
      "ERROR, please enter a valid year value.\n"
     ]
    }
   ],
   "source": [
    "# input a year \n",
    "year = float(input(\"Please enter the year: \"))\n",
    "# for a leap year, it's divisible by 4 \n",
    "if year > 0:\n",
    "    if year % 4 == 0:\n",
    "        print(\"This year is leap year.\")\n",
    "    else: \n",
    "        print(\"This year is not leap year\")\n",
    "else:\n",
    "    print(\"ERROR, please enter a valid year value.\")"
   ]
  },
  {
   "cell_type": "markdown",
   "id": "d2432a3f",
   "metadata": {},
   "source": [
    "2. Ask the user to input a number. Check if this number is even or odd."
   ]
  },
  {
   "cell_type": "code",
   "execution_count": 7,
   "id": "279da7ef",
   "metadata": {},
   "outputs": [
    {
     "name": "stdout",
     "output_type": "stream",
     "text": [
      "Please enter a number: 0\n",
      "The number is even.\n"
     ]
    }
   ],
   "source": [
    "# ask for an input \n",
    "number = float(input(\"Please enter a number: \"))\n",
    "\n",
    "# check if the number is divisible by 2, if yes, even.\n",
    "if number % 2 == 0:\n",
    "    print(\"The number is even.\")\n",
    "else: \n",
    "    print(\"The number is odd.\")"
   ]
  },
  {
   "cell_type": "markdown",
   "id": "36572f0a",
   "metadata": {},
   "source": [
    "3. Ask the user to input a character and check if it is a vowel."
   ]
  },
  {
   "cell_type": "code",
   "execution_count": 8,
   "id": "07aa2181",
   "metadata": {},
   "outputs": [
    {
     "name": "stdout",
     "output_type": "stream",
     "text": [
      "Please enter a letter: y\n",
      "It's not vowel.\n"
     ]
    }
   ],
   "source": [
    "char = input(\"Please enter a letter: \")\n",
    "\n",
    "# A, E, I, O, U \n",
    "if (char == 'a' or char == 'e' or char == 'i' or char == 'o' or char == 'u'):\n",
    "    print(\"It's vowel.\")\n",
    "elif (char == 'A' or char == 'E' or char == 'I' or char == 'O' or char == 'U'):\n",
    "    print(\"It's vowel.\")\n",
    "else: \n",
    "    print(\"It's not vowel.\")"
   ]
  },
  {
   "cell_type": "code",
   "execution_count": 13,
   "id": "102a9c27",
   "metadata": {},
   "outputs": [
    {
     "name": "stdout",
     "output_type": "stream",
     "text": [
      "Enter a letter: P\n",
      "It's not vowel.\n"
     ]
    }
   ],
   "source": [
    "char = input(\"Enter a letter: \")\n",
    "# convert whatever input to lowercase\n",
    "char = char.lower()\n",
    "\n",
    "# A E I O U\n",
    "if (char == 'a' or char == 'e' or char == 'i' or char == 'o' or char == 'u'):\n",
    "    print(\"It's vowel.\")\n",
    "else:\n",
    "    print(\"It's not vowel.\")"
   ]
  },
  {
   "cell_type": "code",
   "execution_count": 12,
   "id": "4bef1ad1",
   "metadata": {},
   "outputs": [
    {
     "data": {
      "text/plain": [
       "False"
      ]
     },
     "execution_count": 12,
     "metadata": {},
     "output_type": "execute_result"
    }
   ],
   "source": [
    "# complex conditional expression \n",
    "(True or False) and (False)"
   ]
  },
  {
   "cell_type": "markdown",
   "id": "e736e65e",
   "metadata": {},
   "source": [
    "4. Ask the user for three numbers and find the highest of the three numbers. (All 3 numbers are integers)"
   ]
  },
  {
   "cell_type": "code",
   "execution_count": 11,
   "id": "0b88c02f",
   "metadata": {},
   "outputs": [
    {
     "name": "stdout",
     "output_type": "stream",
     "text": [
      "Now you will etner 3 number in order.\n",
      "\n",
      "Please enter the first number: 1\n",
      "Please enter the second number: 2\n",
      "Please enter the third number: 3\n",
      "\n",
      " The 3 numbers are (1, 2, 3)\n",
      "3 is the highest of the 3 numbers\n"
     ]
    }
   ],
   "source": [
    "print(\"Now you will etner 3 number in order.\\n\")\n",
    "num_1 = int(input(\"Please enter the first number: \"))\n",
    "num_2 = int(input(\"Please enter the second number: \"))\n",
    "num_3 = int(input(\"Please enter the third number: \"))\n",
    "\n",
    "print(f\"\\n The 3 numbers are {num_1, num_2, num_3}\")\n",
    "\n",
    "# nested conditionals\n",
    "if num_1 > num_2: \n",
    "    if num_1 > num_3:\n",
    "        print(f\"{num_1} is the highest of the 3 numbers.\")\n",
    "    else: \n",
    "        # num_3 > num_1 > num_2\n",
    "        print(f\"{num_3} is the highest of the 3 numbers.\")\n",
    "else: \n",
    "    # num_1 < num2\n",
    "    if num_2 > num_3: \n",
    "        print(f\"{num_2} is the highest of the 3 numbers\")\n",
    "    else:\n",
    "        # num_1 < num_2 < num_3\n",
    "        print(f\"{num_3} is the highest of the 3 numbers\")\n",
    "\n",
    "# if-elif-else statement\n",
    "if num_1 > num_2 and num_1 > num_3:\n",
    "    print(f\"{num_1} is the highest of the 3 numbers.\")\n",
    "elif num_2 > num_1 and num_2 > num_3: \n",
    "    print(f\"{num_2} is the highest of the 3 numbers.\")\n",
    "else: \n",
    "    print(f\"{num_3} is the highest of the 3 numbers.\")"
   ]
  },
  {
   "cell_type": "markdown",
   "id": "c1d191da",
   "metadata": {},
   "source": [
    "5. To enter the Zicklin school of business, students need to complete at least 45 credits \n",
    "with an overall Baruch GPA of 2.25 or higher. \n",
    "Ask the user the number of credits they have completed and \n",
    "their overall GPA and display whether they are eligible to get into Zicklin or not."
   ]
  },
  {
   "cell_type": "code",
   "execution_count": 17,
   "id": "ea33a39c",
   "metadata": {},
   "outputs": [
    {
     "name": "stdout",
     "output_type": "stream",
     "text": [
      "Please enter the credits you've earned so far: 44\n",
      "Please enter the over Baruch GPA you have: 3.9\n",
      "Unfortunately, you only got 44.0 credits and 45 credits are needed.\n"
     ]
    }
   ],
   "source": [
    "credit = float(input(\"Please enter the credits you've earned so far: \"))\n",
    "GPA = float(input(\"Please enter the over Baruch GPA you have: \"))\n",
    "\n",
    "if credit >= 45 and GPA >= 2.25:\n",
    "    print(\"You are eligible to get into Zicklin!\")\n",
    "elif credit < 45: \n",
    "    print(f\"Unfortunately, you only got {credit} credits and 45 credits are needed.\")\n",
    "elif GPA < 2.25: \n",
    "    print(f\"Unfortunately, you only got {GPA} GPA and 2.25 is the minimum requirement.\")"
   ]
  },
  {
   "cell_type": "markdown",
   "id": "e5913f85",
   "metadata": {},
   "source": [
    "6. Check the Baruch/CUNY Pathways requirements for college option – \n",
    "http://www.baruch.cuny.edu/genedreqs/pathwaysatbaruch/pathwaysoptions_baruch.htm. Ask the user the right questions and do the right checks to display the coursework that the user needs to complete for the following scenarios:\n",
    "- Transferred from Associate program \n",
    "- Transferred from CUNY or Non-CUNY Bachelor program"
   ]
  },
  {
   "cell_type": "code",
   "execution_count": 21,
   "id": "47d7d268",
   "metadata": {},
   "outputs": [
    {
     "name": "stdout",
     "output_type": "stream",
     "text": [
      "Are you transferring from an Associate program or a Bachelor program? \n",
      " Enter associate or bachelor: bachelor\n",
      "12 COPT credits are required.\n"
     ]
    }
   ],
   "source": [
    "# The pathways option\n",
    "degree = input(\"Are you transferring from an Associate program or a Bachelor program?\\nEnter associate or bachelor: \")\n",
    "COPT = None # N/A\n",
    "\n",
    "# check if studnets was in associate or bachelor program\n",
    "if degree.lower() == \"associate\":\n",
    "    associate_earned = input(\"Have you earned the Associate Degree? Enter yes or no: \")\n",
    "    # check if associate degree is earned \n",
    "    if associate_earned == \"yes\":\n",
    "        COPT = 6\n",
    "    elif associate_earned == \"no\":\n",
    "        credit = input(\"How any credits have you earned so far?\")\n",
    "        # assign different COPT credits to the student\n",
    "        if credit > 30:\n",
    "            COPT = 9\n",
    "        elif credit <= 30 and credit >0:\n",
    "            COPT = 12\n",
    "        else:\n",
    "            print(\"Error: please enter a valid credit value.\")\n",
    "# check if student was in bachelor program\n",
    "elif degree.lower() == \"bachelor\":\n",
    "    COPT = 12\n",
    "    \n",
    "print(f\"{COPT} COPT credits are required.\")"
   ]
  },
  {
   "cell_type": "code",
   "execution_count": 8,
   "id": "ceaa84fa",
   "metadata": {},
   "outputs": [
    {
     "name": "stdout",
     "output_type": "stream",
     "text": [
      "Are you transferred from an Associate program or a Bachelor program? ASSOCIATE\n",
      "Have you earned the Associate degree? Enter 'Yes' or 'No' YES\n",
      "Ok, you need to earn 6 credits following the College Option (COPT) requirements based on the information you entered.\n"
     ]
    }
   ],
   "source": [
    "# The pathways option\n",
    "degree = input(\"Are you transferred from an Associate program or a Bachelor program? \")\n",
    "COPT = None # None means null (no value exists, can be used as place holder)\n",
    "\n",
    "# check if student was in Associate Program\n",
    "if degree.lower() == 'associate':\n",
    "    # 3 pathways for who transferred from Associate program\n",
    "    degree_earned = input(\"Have you earned the Associate degree? Enter 'Yes' or 'No' \")\n",
    "    if degree_earned.lower() == 'yes':\n",
    "        COPT = 6\n",
    "    else:\n",
    "        credit_earned = float(input(\"How many credits have you earned? \"))\n",
    "        if credit_earned > 30:\n",
    "            COPT = 9\n",
    "        elif credit_earned <= 30 and credit_earned >= 0:\n",
    "            COPT = 12\n",
    "        else:\n",
    "            print(\"ERROR, please enter the correct number of credits you've earned.\")\n",
    "else:\n",
    "    # student transferred from a Bachelor program\n",
    "    # determine if it's CUNY program or not\n",
    "    bachelor_type = input(\"Were you in a CUNY Bachelor program before? Enter 'yes' or 'no' \")\n",
    "    if bachelor_type.lower() == 'yes':\n",
    "        COPT = 12\n",
    "        print(\"\\nCOPT credits completed at and/or received upon transfer to the previous CUNY senior college will transfer to Baruch with the designation.\")\n",
    "        print(\"\\nStudents who have remaining COPT requirements begin taking courses at the top of the relevant Baruch COPT course list.\")\n",
    "    elif bachelor_type.lower() == 'no':\n",
    "        COPT = 12\n",
    "    else:\n",
    "        print(\"ERROR, please indicate if you were in a CUNY program or not!\")\n",
    "\n",
    "print(f\"Ok, you need to earn {COPT} credits following the College Option (COPT) requirements based on the information you entered.\")"
   ]
  },
  {
   "cell_type": "markdown",
   "id": "9ceb54b7",
   "metadata": {
    "scrolled": true
   },
   "source": [
    "7. Fermat’s Last Theorem says that there are no positive integers a, b, and c such that: $$a^n + b^n = c^n$$  for any values of n greater than 2. \n",
    "\n",
    "    (a) Write a program that takes four parameters—a, b, c and n—and that\n",
    "checks to see if Fermat’s theorem holds. If n is greater than 2 and it turns out to be true that\n",
    "$a^n + b^n = c^n$\n",
    "the program should print, “Holy smokes, Fermat was wrong!” \n",
    "Otherwise the program should print, “No, that doesn’t work.”\n",
    "\n",
    "    (b) Write a program that prompts the user to input values for a, b, c and n, converts them to\n",
    "integers, and uses `check_fermat` to check whether they violate Fermat’s theorem."
   ]
  },
  {
   "cell_type": "code",
   "execution_count": 22,
   "id": "3947e064",
   "metadata": {},
   "outputs": [
    {
     "name": "stdout",
     "output_type": "stream",
     "text": [
      "This is not in the function\n"
     ]
    }
   ],
   "source": [
    "# define a function named check_fermat\n",
    "def check_fermat(a,b,c,n): # use colon to start the function body \n",
    "    if n > 2 and a**n + b**n == c**n:\n",
    "        print(\"Holy smokes, Fermat was wrong\")\n",
    "    elif n > 2 and a**n + b**n != c**n:\n",
    "        print(\"No, that doesn’t work.\")\n",
    "    else:\n",
    "        print(\"n is samller than or equal to 2.\")\n",
    "\n",
    "# use indentation to get out of the function body\n",
    "print(\"This is not in the function\")"
   ]
  },
  {
   "cell_type": "code",
   "execution_count": 23,
   "id": "2348c7c5",
   "metadata": {},
   "outputs": [
    {
     "name": "stdout",
     "output_type": "stream",
     "text": [
      "n is samller than or equal to 2.\n",
      "No, that doesn’t work.\n",
      "No, that doesn’t work.\n"
     ]
    }
   ],
   "source": [
    "# use the function we just defined \n",
    "\n",
    "# the number is attached to the corresponding paramter in order\n",
    "check_fermat(1,3,4,2) # a = 1, b = 3, c = 4, n = 2\n",
    "check_fermat(1,2,3,4) # a = 1, b = 2, c = 3, n = 4\n",
    "\n",
    "check_fermat(a = 1, c = 3, n = 4, b = 2) # if you declare the paramter name, the order doesn't matter"
   ]
  },
  {
   "cell_type": "code",
   "execution_count": 24,
   "id": "25631697",
   "metadata": {},
   "outputs": [
    {
     "name": "stdout",
     "output_type": "stream",
     "text": [
      "No, that doesn’t work.\n"
     ]
    }
   ],
   "source": [
    "a = 3\n",
    "b = 6\n",
    "c = 5\n",
    "n = 10\n",
    "\n",
    "# use the function defined in the previous cell\n",
    "check_fermat(a,b,c,n)"
   ]
  },
  {
   "cell_type": "markdown",
   "id": "a9430bf5",
   "metadata": {},
   "source": [
    "8.  If you are given three sticks, you may or may not be able to arrange them in a triangle. For example, if one of the sticks is 12 inches long and the other two are one inch long, it is clear that you will not be able to get the short sticks to meet in the middle. For any three lengths, there is a simple test to see if it is possible to form a triangle:\n",
    "\n",
    "        If any of the three lengths is greater than the sum of the other two, then you cannot form a triangle. \n",
    "        Otherwise, you can. (If the sum of two lengths equals the third, they form what is called a “degenerate” triangle.)\n",
    "    \n",
    "    - Write a program that takes three integers as arguments, and that prints either “Yes” or “No,” depending on whether you can or cannot form a triangle from sticks with the given lengths.\n",
    "    \n",
    "    - Write a program that prompts the user to input three stick lengths, converts them to integers, and uses is_triangle to check whether sticks with the given lengths can form a triangle."
   ]
  },
  {
   "cell_type": "code",
   "execution_count": 14,
   "id": "8f7db943",
   "metadata": {},
   "outputs": [],
   "source": [
    "def is_triangle(a,b,c):\n",
    "    if a + b < c:\n",
    "        print(\"No\")\n",
    "    elif a + c < b:\n",
    "        print(\"No\")\n",
    "    elif b + c < a:\n",
    "        print(\"No\")\n",
    "    else: \n",
    "        print(\"Yes\")"
   ]
  },
  {
   "cell_type": "code",
   "execution_count": 15,
   "id": "b91bf0ac",
   "metadata": {},
   "outputs": [
    {
     "name": "stdout",
     "output_type": "stream",
     "text": [
      "2\n",
      "3\n",
      "3\n",
      "Yes\n"
     ]
    }
   ],
   "source": [
    "a = int(input())\n",
    "b = int(input())\n",
    "c = int(input())\n",
    "\n",
    "is_triangle(a,b,c)"
   ]
  },
  {
   "cell_type": "markdown",
   "id": "b9abe523",
   "metadata": {},
   "source": [
    "## Challenge problems\n",
    "1. Write a Tipper program with the following features:\n",
    "    - The program first asks the user to enter a restaurant bill amount (before tax). \n",
    "    - The program then displays 3 dollar amounts for a 15% tip, an 18% tip, and a 20% tip, for the user's references. \n",
    "    - Then, the program asks the user to enter how much they want to tip in percentage (the user can enter any %, not just 15/18/20 like above). \n",
    "    - Assuming the tax is 8.8%, the program then prints the subtotal (before tax and tip), the tax dollar amount, the dollar amount the user decided to tip, and the total meal charge. \n",
    "    - Make sure all the values are displayed in 2 decimal places format. "
   ]
  },
  {
   "cell_type": "code",
   "execution_count": null,
   "id": "217ac885",
   "metadata": {},
   "outputs": [],
   "source": []
  },
  {
   "cell_type": "markdown",
   "id": "8cb9f186",
   "metadata": {},
   "source": [
    "2. Ingredient Adjuster program. A cookie recipe calls for the following ingredients:\n",
    "    - 1.5 cups of sugar \n",
    "    - 1 cup of butter\n",
    "    - 2.75 cups of flour\n",
    "\n",
    "   The recipe produces 48 cookies with this amount of the ingredients. \n",
    "    \n",
    "   Write a program that: (a) asks the user how many cookies he or she wants to make and, (b) then displays the amount of each ingredient needed for the specified number of cookies.\n",
    "   \n",
    "   The amounts should be displayed in cups and in grams (put gram amounts in parentheses), with 2 decimal places."
   ]
  },
  {
   "cell_type": "code",
   "execution_count": 18,
   "id": "5ec2c8c1",
   "metadata": {},
   "outputs": [
    {
     "name": "stdout",
     "output_type": "stream",
     "text": [
      "\n",
      "How many cookies do you need? 10000\n",
      "Number of cookies = 10000.\n",
      "Total sugar = 312.50\n",
      "Total butter = 208.33\n",
      "Total flour = 572.92\n"
     ]
    }
   ],
   "source": [
    "# 1. input\n",
    "number_of_cookies = int(input(\"\\nHow many cookies do you need? \"))\n",
    "\n",
    "# 2. process\n",
    "COOKIES = 48 \n",
    "SUGAR = 1.5 \n",
    "BUTTER = 1 \n",
    "FLOUR = 2.75\n",
    "\n",
    "total_sugar = (SUGAR * number_of_cookies)/COOKIES\n",
    "total_butter = (BUTTER * number_of_cookies)/COOKIES\n",
    "total_flour = (FLOUR * number_of_cookies)/COOKIES\n",
    "\n",
    "# 3. Output\n",
    "print(f\"Number of cookies = {number_of_cookies}.\")\n",
    "print(f\"Total sugar = {format(total_sugar, '.2f')}\")\n",
    "print(f\"Total butter = {format(total_butter, '.2f')}\")\n",
    "print(f\"Total flour = {format(total_flour, '.2f')}\")"
   ]
  },
  {
   "cell_type": "markdown",
   "id": "d02a91c8",
   "metadata": {},
   "source": [
    "3. Stock Transaction Program. Go to Yahoo! Finance or Google Finance to pick a stock and look up the prices. Find out the stock's **opening price** on Jan 10, 2022 and **closing** price on Feb 10, 2022.\n",
    "\n",
    "    Assume that you bought the stock on Jan 10, 2022 with the following details:\n",
    "    - The number of shares that you purchased was 2,000.\n",
    "    - You paid for the stock, per share, with its opening price on Jan 10, 2022.\n",
    "    - You paid your stockbroker a commission that is 3 percent of the amount you paid for the stock \n",
    "    \n",
    "    </br>\n",
    "\n",
    "   A month later, on Feb 10, 2022, you sold the stock. Here are the details of the sale:\n",
    "    - The number of shares that you sold was 2,000.\n",
    "    - You sold the stock, per share, for its closing price on Feb 10, 2022.\n",
    "    - You paid your stockbroker another commission that is 3 percent of the amount you received for the stock.\n",
    "    \n",
    "    </br>\n",
    "    \n",
    "   Write a program that displays the following information:\n",
    "    - The name of the company you chose and the stock ticker (e.g., Apple Inc. & AAPL) \n",
    "    - The amount of money you paid for the stock\n",
    "    - The amount of commission you paid your broker when you bought the stock\n",
    "    - The amount for which you sold the stock.\n",
    "    - The amount of commission you paid your broker when you sold the stock.\n",
    "    - The amount of money that you had left when you sold the stock and paid your\n",
    "broker (both times). \n",
    "    - Make sure all the amounts have 2 decimal places, and a thousand separator for those that are 1,000 USD"
   ]
  },
  {
   "cell_type": "code",
   "execution_count": null,
   "id": "a8a9aabc",
   "metadata": {},
   "outputs": [],
   "source": [
    "# info about the company chosen\n",
    "# here I pickd Apple, you can pick any one you like\n",
    "company = \"Apple\"\n",
    "shares = 2000\n",
    "commission = .03\n",
    "p_open = 169.08\n",
    "p_close = 172.12"
   ]
  },
  {
   "cell_type": "markdown",
   "id": "a1a33adf",
   "metadata": {},
   "source": [
    "## Week 5 Assignments & Quizzes\n",
    "### Assignment\n",
    "Writing some programs with complex conditional expressions (due date: Mar 24th).\n",
    "\n",
    "Please read the instruction in Bb and sumit the HW documents in the assignment block (.ipynb notebook file & Screenshots of the Code and Output).\n",
    "\n",
    "### Quizzes\n",
    "CodeLab (due date: Mar 24th)\n",
    "\n",
    "    - Conditions and Branches: \n",
    "        - Logical Operators\n",
    "        - if\n",
    "        - if-else\n",
    "        - range-testing\n",
    "        - String Comps and Logical Ops"
   ]
  }
 ],
 "metadata": {
  "kernelspec": {
   "display_name": "Python 3 (ipykernel)",
   "language": "python",
   "name": "python3"
  },
  "language_info": {
   "codemirror_mode": {
    "name": "ipython",
    "version": 3
   },
   "file_extension": ".py",
   "mimetype": "text/x-python",
   "name": "python",
   "nbconvert_exporter": "python",
   "pygments_lexer": "ipython3",
   "version": "3.11.1"
  }
 },
 "nbformat": 4,
 "nbformat_minor": 5
}
