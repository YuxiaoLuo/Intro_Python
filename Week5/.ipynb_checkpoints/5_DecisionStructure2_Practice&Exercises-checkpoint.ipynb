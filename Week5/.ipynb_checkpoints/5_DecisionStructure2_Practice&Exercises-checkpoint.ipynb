{
 "cells": [
  {
   "cell_type": "markdown",
   "id": "1f8de114",
   "metadata": {},
   "source": [
    "# Hands-on session "
   ]
  },
  {
   "cell_type": "markdown",
   "id": "eb1f2a42",
   "metadata": {},
   "source": [
    "## Practice Exercises:\n",
    "1. Ask the user to input a year. Check if this is a leap year or not."
   ]
  },
  {
   "cell_type": "code",
   "execution_count": null,
   "id": "2515b985",
   "metadata": {},
   "outputs": [],
   "source": []
  },
  {
   "cell_type": "markdown",
   "id": "d2432a3f",
   "metadata": {},
   "source": [
    "2. Ask the user to input a number. Check if this number is even or odd."
   ]
  },
  {
   "cell_type": "code",
   "execution_count": null,
   "id": "279da7ef",
   "metadata": {},
   "outputs": [],
   "source": []
  },
  {
   "cell_type": "markdown",
   "id": "36572f0a",
   "metadata": {},
   "source": [
    "3. Ask the user to input a character and check if it is a vowel."
   ]
  },
  {
   "cell_type": "code",
   "execution_count": null,
   "id": "07aa2181",
   "metadata": {},
   "outputs": [],
   "source": []
  },
  {
   "cell_type": "markdown",
   "id": "e736e65e",
   "metadata": {},
   "source": [
    "4. Ask the user for three numbers and find the highest of the three numbers."
   ]
  },
  {
   "cell_type": "code",
   "execution_count": null,
   "id": "0b88c02f",
   "metadata": {},
   "outputs": [],
   "source": []
  },
  {
   "cell_type": "markdown",
   "id": "c1d191da",
   "metadata": {},
   "source": [
    "5. To enter the Zicklin school of business, students need to complete at least 45 credits \n",
    "with an overall Baruch GPA of 2.25 or higher. \n",
    "Ask the user the number of credits they have completed and \n",
    "their overall GPA and display whether they are eligible to get into Zicklin or not."
   ]
  },
  {
   "cell_type": "code",
   "execution_count": null,
   "id": "ea33a39c",
   "metadata": {},
   "outputs": [],
   "source": []
  },
  {
   "cell_type": "markdown",
   "id": "e5913f85",
   "metadata": {},
   "source": [
    "6. Check the Baruch/CUNY Pathways requirements for college option – \n",
    "http://www.baruch.cuny.edu/genedreqs/pathwaysatbaruch/pathwaysoptions_baruch.htm. \n",
    "Ask the user the right questions and do the right checks to display the coursework that the user needs to complete.  "
   ]
  },
  {
   "cell_type": "code",
   "execution_count": null,
   "id": "ceaa84fa",
   "metadata": {},
   "outputs": [],
   "source": []
  },
  {
   "cell_type": "code",
   "execution_count": 5,
   "id": "6f1a1669",
   "metadata": {
    "scrolled": true
   },
   "outputs": [
    {
     "data": {
      "text/latex": [
       "7. Fermat’s Last Theorem says that there are no positive integers a, b, and c such that:\n",
       "$$a^n + b^n = c^n$$ \n",
       "for any values of n greater than 2.\n",
       "\n",
       "(a) Write a program that takes four parameters—a, b, c and n—and that\n",
       "checks to see if Fermat’s theorem holds. If n is greater than 2 and it turns out to be true that\n",
       "$a^n + b^n = c^n$\n",
       "the program should print, “Holy smokes, Fermat was wrong!” \n",
       "Otherwise the program should print, “No, that doesn’t work.”\n",
       "\n",
       "(b) Write a program that prompts the user to input values for a, b, c and n, converts them to\n",
       "integers, and uses check_fermat to check whether they violate Fermat’s theorem.\n"
      ],
      "text/plain": [
       "<IPython.core.display.Latex object>"
      ]
     },
     "metadata": {},
     "output_type": "display_data"
    }
   ],
   "source": [
    "%%latex\n",
    "7. Fermat’s Last Theorem says that there are no positive integers a, b, and c such that:\n",
    "$$a^n + b^n = c^n$$ \n",
    "for any values of n greater than 2.\n",
    "\n",
    "(a) Write a program that takes four parameters—a, b, c and n—and that\n",
    "checks to see if Fermat’s theorem holds. If n is greater than 2 and it turns out to be true that\n",
    "$a^n + b^n = c^n$\n",
    "the program should print, “Holy smokes, Fermat was wrong!” \n",
    "Otherwise the program should print, “No, that doesn’t work.”\n",
    "\n",
    "(b) Write a program that prompts the user to input values for a, b, c and n, converts them to\n",
    "integers, and uses check_fermat to check whether they violate Fermat’s theorem."
   ]
  },
  {
   "cell_type": "code",
   "execution_count": null,
   "id": "3947e064",
   "metadata": {},
   "outputs": [],
   "source": []
  },
  {
   "cell_type": "markdown",
   "id": "a9430bf5",
   "metadata": {},
   "source": [
    "8.  If you are given three sticks, you may or may not be able to arrange them in a triangle. For example, if one of the sticks is 12 inches long and the other two are one inch long, it is clear that you will not be able to get the short sticks to meet in the middle. For any three lengths, there is a simple test to see if it is possible to form a triangle:\n",
    "\n",
    "        If any of the three lengths is greater than the sum of the other two, then you cannot form a triangle. \n",
    "        Otherwise, you can. (If the sum of two lengths equals the third, they form what is called a “degenerate” triangle.)\n",
    "    \n",
    "    - Write a program that takes three integers as arguments, and that prints either “Yes” or “No,” depending on whether you can or cannot form a triangle from sticks with the given lengths.\n",
    "    \n",
    "    - Write a program that prompts the user to input three stick lengths, converts them to integers, and uses is_triangle to check whether sticks with the given lengths can form a triangle."
   ]
  },
  {
   "cell_type": "code",
   "execution_count": null,
   "id": "8f7db943",
   "metadata": {},
   "outputs": [],
   "source": []
  },
  {
   "cell_type": "markdown",
   "id": "b9abe523",
   "metadata": {},
   "source": [
    "## Challenge problems\n",
    "1. Write a Tipper program with the following features:\n",
    "    - The program first asks the user to enter a restaurant bill amount (before tax). \n",
    "    - The program then displays 3 dollar amounts for a 15% tip, an 18% tip, and a 20% tip, for the user's references. \n",
    "    - Then, the program asks the user to enter how much they want to tip in percentage (the user can enter any %, not just 15/18/20 like above). \n",
    "    - Assuming the tax is 8.8%, the program then prints the subtotal (before tax and tip), the tax dollar amount, the dollar amount the user decided to tip, and the total meal charge. \n",
    "    - Make sure all the values are displayed in 2 decimal places format. "
   ]
  },
  {
   "cell_type": "code",
   "execution_count": null,
   "id": "217ac885",
   "metadata": {},
   "outputs": [],
   "source": []
  },
  {
   "cell_type": "markdown",
   "id": "8cb9f186",
   "metadata": {},
   "source": [
    "2. Ingredient Adjuster program. A cookie recipe calls for the following ingredients:\n",
    "    - 1.5 cups of sugar \n",
    "    - 1 cup of butter\n",
    "    - 2.75 cups of flour\n",
    "\n",
    "   The recipe produces 48 cookies with this amount of the ingredients. \n",
    "    \n",
    "   Write a program that: (a) asks the user how many cookies he or she wants to make and, (b) then displays the amount of each ingredient needed for the specified number of cookies.\n",
    "   \n",
    "   The amounts should be displayed in cups and in grams (put gram amounts in parentheses), with 2 decimal places."
   ]
  },
  {
   "cell_type": "code",
   "execution_count": null,
   "id": "5ec2c8c1",
   "metadata": {},
   "outputs": [],
   "source": []
  },
  {
   "cell_type": "markdown",
   "id": "d02a91c8",
   "metadata": {},
   "source": [
    "3. Stock Transaction Program. Go to Yahoo! Finance or Google Finance to pick a stock and look up the prices. Find out the stock's **opening price** on Jan 10, 2021 and **closing** price on Feb 10, 2021.\n",
    "\n",
    "    Assume that you bought the stock on Jan 10, 2021 with the following details:\n",
    "    - The number of shares that you purchased was 2,000.\n",
    "    - You paid for the stock, per share, with its opening price on Jan 10, 2021.\n",
    "    - You paid your stockbroker a commission that is 3 percent of the amount you paid for the stock \n",
    "    \n",
    "    </br>\n",
    "\n",
    "   A month later, on Feb 10, 2021, you sold the stock. Here are the details of the sale:\n",
    "    - The number of shares that you sold was 2,000.\n",
    "    - You sold the stock, per share, for its closing price on Feb 10, 2021.\n",
    "    - You paid your stockbroker another commission that is 3 percent of the amount you received for the stock.\n",
    "    \n",
    "    </br>\n",
    "    \n",
    "   Write a program that displays the following information:\n",
    "    - The name of the company you chose and the stock ticker (e.g., Apple Inc. & AAPL) \n",
    "    - The amount of money you paid for the stock\n",
    "    - The amount of commission you paid your broker when you bought the stock\n",
    "    - The amount for which you sold the stock.\n",
    "    - The amount of commission you paid your broker when you sold the stock.\n",
    "    - The amount of money that you had left when you sold the stock and paid your\n",
    "broker (both times). \n",
    "    - Make sure all the amounts have 2 decimal places, and a thousand separator for those that are >= 1,000 USD"
   ]
  },
  {
   "cell_type": "code",
   "execution_count": null,
   "id": "a8a9aabc",
   "metadata": {},
   "outputs": [],
   "source": []
  },
  {
   "cell_type": "markdown",
   "id": "a1a33adf",
   "metadata": {},
   "source": [
    "## Week 5 Assignments & Quizzes\n",
    "### Assignment\n",
    "Writing some programs with complex conditional expressions (due date: Mar 11th).\n",
    "\n",
    "Please read the instruction in Bb and sumit the HW documents in the assignment block (.ipynb notebook file & Screenshots of the Code and Output).\n",
    "\n",
    "### Quizzes\n",
    "CodeLab (due date: Mar 11th)\n",
    "\n",
    "    - Conditions and Branches: \n",
    "        - Logical Operators\n",
    "        - if\n",
    "        - if-else\n",
    "        - range-testing\n",
    "        - String Comps and Logical Ops"
   ]
  }
 ],
 "metadata": {
  "kernelspec": {
   "display_name": "Python 3",
   "language": "python",
   "name": "python3"
  },
  "language_info": {
   "codemirror_mode": {
    "name": "ipython",
    "version": 3
   },
   "file_extension": ".py",
   "mimetype": "text/x-python",
   "name": "python",
   "nbconvert_exporter": "python",
   "pygments_lexer": "ipython3",
   "version": "3.9.5"
  }
 },
 "nbformat": 4,
 "nbformat_minor": 5
}
