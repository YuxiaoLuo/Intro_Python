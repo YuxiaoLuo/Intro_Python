{
 "cells": [
  {
   "cell_type": "markdown",
   "id": "3133a372",
   "metadata": {},
   "source": [
    "# Intro to Python Week 2 \n",
    "\n",
    "- Assigning values \n",
    "\n",
    "- Naming rules\n",
    "\n",
    "- How to do input/ouput \n"
   ]
  },
  {
   "cell_type": "code",
   "execution_count": 30,
   "id": "b675b594",
   "metadata": {},
   "outputs": [],
   "source": [
    "# how to make jupyter notebook display multiple outputs\n",
    "from IPython.core.interactiveshell import InteractiveShell\n",
    "InteractiveShell.ast_node_interactivity = \"all\""
   ]
  },
  {
   "cell_type": "markdown",
   "id": "9fddd5fc",
   "metadata": {},
   "source": [
    "### Receiving Input\n",
    "Two ways:\n",
    "\n",
    "    - Variable Assignment\n",
    "    \n",
    "    - `input` function\n"
   ]
  },
  {
   "cell_type": "markdown",
   "id": "ddb2b281",
   "metadata": {},
   "source": [
    "### Variable Assignment\n",
    "#### variable = expression\n",
    "= : assignment operator <br>\n",
    "*variable* is the name of a variable/object  <br>\n",
    "*expression* is a value"
   ]
  },
  {
   "cell_type": "code",
   "execution_count": 42,
   "id": "25e4ce7a",
   "metadata": {},
   "outputs": [
    {
     "name": "stdout",
     "output_type": "stream",
     "text": [
      "25\n",
      "50\n"
     ]
    }
   ],
   "source": [
    "width = 25\n",
    "length = 50\n",
    "\n",
    "#print(width)\n",
    "print(width)\n",
    "print(length)\n"
   ]
  },
  {
   "cell_type": "code",
   "execution_count": 47,
   "id": "0f5bdd47",
   "metadata": {},
   "outputs": [
    {
     "name": "stdout",
     "output_type": "stream",
     "text": [
      "I am staying in room 503\n",
      "I am staying in room 503.\n"
     ]
    }
   ],
   "source": [
    "room = 503\n",
    "print('I am staying in room',room)\n",
    "print('I am staying in room ', room, '.', sep = '')"
   ]
  },
  {
   "cell_type": "code",
   "execution_count": 48,
   "id": "26b9aee6",
   "metadata": {},
   "outputs": [
    {
     "ename": "SyntaxError",
     "evalue": "cannot assign to literal here. Maybe you meant '==' instead of '='? (2374176534.py, line 1)",
     "output_type": "error",
     "traceback": [
      "\u001b[1;36m  Cell \u001b[1;32mIn[48], line 1\u001b[1;36m\u001b[0m\n\u001b[1;33m    503 = room\u001b[0m\n\u001b[1;37m    ^\u001b[0m\n\u001b[1;31mSyntaxError\u001b[0m\u001b[1;31m:\u001b[0m cannot assign to literal here. Maybe you meant '==' instead of '='?\n"
     ]
    }
   ],
   "source": [
    "503 = room"
   ]
  },
  {
   "cell_type": "markdown",
   "id": "3488b528",
   "metadata": {},
   "source": [
    "### Variable Reassignment\n",
    "\n",
    "You can reassign the value to the same variable"
   ]
  },
  {
   "cell_type": "code",
   "execution_count": 59,
   "id": "7c638114",
   "metadata": {},
   "outputs": [
    {
     "name": "stdout",
     "output_type": "stream",
     "text": [
      "I have 2.5 dollars in cash right now\n",
      "Now I only have dollars left in cash\n"
     ]
    }
   ],
   "source": [
    "cash = 2.5\n",
    "print('I have', cash, 'dollars in cash right now')\n",
    "\n",
    "cash = 1.5\n",
    "print('Now I only have',cash, 'dollars left in cash')"
   ]
  },
  {
   "cell_type": "markdown",
   "id": "ef19f135",
   "metadata": {},
   "source": [
    "#### Python variable naming rules\n",
    "![image.png](data/pt_varname_rules.png)"
   ]
  },
  {
   "cell_type": "markdown",
   "id": "be94d5ee",
   "metadata": {},
   "source": [
    "#### Examples of legal & illegal names \n",
    "![image.png](data/legal_illegal.png)"
   ]
  },
  {
   "cell_type": "code",
   "execution_count": 62,
   "id": "e44865fa",
   "metadata": {},
   "outputs": [
    {
     "name": "stdout",
     "output_type": "stream",
     "text": [
      "What is your name? Yuxiao\n"
     ]
    },
    {
     "data": {
      "text/plain": [
       "'Yuxiao'"
      ]
     },
     "execution_count": 62,
     "metadata": {},
     "output_type": "execute_result"
    }
   ],
   "source": [
    "input('What is your name? ')"
   ]
  },
  {
   "cell_type": "code",
   "execution_count": 64,
   "id": "0af49455",
   "metadata": {},
   "outputs": [
    {
     "name": "stdout",
     "output_type": "stream",
     "text": [
      "Type anything: I want to eat ice cream.\n"
     ]
    },
    {
     "data": {
      "text/plain": [
       "'I want to eat ice cream.'"
      ]
     },
     "execution_count": 64,
     "metadata": {},
     "output_type": "execute_result"
    }
   ],
   "source": [
    "input('Type anything: ')"
   ]
  },
  {
   "cell_type": "code",
   "execution_count": 65,
   "id": "521dd933",
   "metadata": {},
   "outputs": [
    {
     "name": "stdout",
     "output_type": "stream",
     "text": [
      "Age: 23\n"
     ]
    },
    {
     "data": {
      "text/plain": [
       "'23'"
      ]
     },
     "execution_count": 65,
     "metadata": {},
     "output_type": "execute_result"
    }
   ],
   "source": [
    "input('Age: ')"
   ]
  },
  {
   "cell_type": "code",
   "execution_count": 66,
   "id": "1bcc8287",
   "metadata": {},
   "outputs": [
    {
     "name": "stdout",
     "output_type": "stream",
     "text": [
      "What is your major? CIS\n"
     ]
    },
    {
     "data": {
      "text/plain": [
       "'CIS'"
      ]
     },
     "execution_count": 66,
     "metadata": {},
     "output_type": "execute_result"
    }
   ],
   "source": [
    "input('What is your major? ')"
   ]
  },
  {
   "cell_type": "code",
   "execution_count": 67,
   "id": "73354a81",
   "metadata": {},
   "outputs": [
    {
     "name": "stdout",
     "output_type": "stream",
     "text": [
      "Length 2\n"
     ]
    },
    {
     "data": {
      "text/plain": [
       "'2'"
      ]
     },
     "execution_count": 67,
     "metadata": {},
     "output_type": "execute_result"
    }
   ],
   "source": [
    "input('Length ')"
   ]
  },
  {
   "cell_type": "code",
   "execution_count": 68,
   "id": "667bb74f",
   "metadata": {},
   "outputs": [
    {
     "name": "stdout",
     "output_type": "stream",
     "text": [
      "Width 13\n"
     ]
    },
    {
     "data": {
      "text/plain": [
       "'13'"
      ]
     },
     "execution_count": 68,
     "metadata": {},
     "output_type": "execute_result"
    }
   ],
   "source": [
    "input('Width ')"
   ]
  },
  {
   "cell_type": "code",
   "execution_count": 74,
   "id": "33f32d6d",
   "metadata": {},
   "outputs": [
    {
     "name": "stdout",
     "output_type": "stream",
     "text": [
      "How old are you? 23\n",
      "The user is 23 years old\n"
     ]
    }
   ],
   "source": [
    "age = input('How old are you? ')\n",
    "# comment using #: print(age)\n",
    "print(\"The user is\", age, \"years old\")"
   ]
  },
  {
   "cell_type": "code",
   "execution_count": 75,
   "id": "f4aba1a5",
   "metadata": {},
   "outputs": [
    {
     "name": "stdout",
     "output_type": "stream",
     "text": [
      "Please input anything:23\n"
     ]
    },
    {
     "data": {
      "text/plain": [
       "'23'"
      ]
     },
     "execution_count": 75,
     "metadata": {},
     "output_type": "execute_result"
    }
   ],
   "source": [
    "input('Please input anything:')"
   ]
  },
  {
   "cell_type": "code",
   "execution_count": 73,
   "id": "638426d1",
   "metadata": {},
   "outputs": [
    {
     "name": "stdout",
     "output_type": "stream",
     "text": [
      "What's your name? Yuxiao\n",
      "Yuxiao\n"
     ]
    }
   ],
   "source": [
    "name = input(\"What's your name? \")\n",
    "print(name)"
   ]
  },
  {
   "cell_type": "markdown",
   "id": "aea4e357",
   "metadata": {},
   "source": [
    "### Variable Types\n",
    "\n",
    "- **Strings (str)**\n",
    "    - - String is a collection of alphabets, words or other characters. It is one of the primitive data structures and are the building blocks for data manipulation. Python has a built-in string class named `str`. Python strings are \"immutable\" which means they cannot be changed after they are created\n",
    "- **Numeric**\n",
    "    - integer (int) \n",
    "        - only stores integral values, that is, whole numbers\n",
    "    - float (float)\n",
    "        - stores floating-point values, that is, values that have potential decimal places"
   ]
  },
  {
   "cell_type": "code",
   "execution_count": 82,
   "id": "aa80e800",
   "metadata": {},
   "outputs": [
    {
     "data": {
      "text/plain": [
       "int"
      ]
     },
     "execution_count": 82,
     "metadata": {},
     "output_type": "execute_result"
    }
   ],
   "source": [
    "number = 5\n",
    "type(number)"
   ]
  },
  {
   "cell_type": "code",
   "execution_count": 83,
   "id": "f1b0c079",
   "metadata": {},
   "outputs": [
    {
     "name": "stdout",
     "output_type": "stream",
     "text": [
      "5.5\n"
     ]
    },
    {
     "data": {
      "text/plain": [
       "float"
      ]
     },
     "execution_count": 83,
     "metadata": {},
     "output_type": "execute_result"
    }
   ],
   "source": [
    "number = 5.5\n",
    "print(number)\n",
    "type(number)"
   ]
  },
  {
   "cell_type": "code",
   "execution_count": 84,
   "id": "f974112f",
   "metadata": {},
   "outputs": [
    {
     "name": "stdout",
     "output_type": "stream",
     "text": [
      "CIS 2300 Intro to Python\n"
     ]
    },
    {
     "data": {
      "text/plain": [
       "str"
      ]
     },
     "execution_count": 84,
     "metadata": {},
     "output_type": "execute_result"
    }
   ],
   "source": [
    "name = 'CIS 2300 Intro to Python'\n",
    "print(name)\n",
    "type(name)"
   ]
  },
  {
   "cell_type": "code",
   "execution_count": 88,
   "id": "c6fe4a2e",
   "metadata": {
    "scrolled": true
   },
   "outputs": [
    {
     "data": {
      "text/plain": [
       "float"
      ]
     },
     "execution_count": 88,
     "metadata": {},
     "output_type": "execute_result"
    },
    {
     "data": {
      "text/plain": [
       "5"
      ]
     },
     "execution_count": 88,
     "metadata": {},
     "output_type": "execute_result"
    }
   ],
   "source": [
    "# assigning type to a variable/converting type\n",
    "variable = 5.9999999999\n",
    "type(variable)\n",
    "\n",
    "# convert variable to an integer type\n",
    "int(variable)\n",
    "\n",
    "#type(variable)\n",
    "#float(variable)\n",
    "#type(variable)"
   ]
  },
  {
   "cell_type": "markdown",
   "id": "dab4e9b3",
   "metadata": {},
   "source": [
    "#### More with `input()` function."
   ]
  },
  {
   "cell_type": "code",
   "execution_count": 93,
   "id": "413e9f9d",
   "metadata": {},
   "outputs": [
    {
     "name": "stdout",
     "output_type": "stream",
     "text": [
      "What room are you staying in?\n",
      "12-145\n"
     ]
    }
   ],
   "source": [
    "room = input(\"What room are you staying in?\\n\")"
   ]
  },
  {
   "cell_type": "code",
   "execution_count": 98,
   "id": "04d26133",
   "metadata": {},
   "outputs": [
    {
     "name": "stdout",
     "output_type": "stream",
     "text": [
      "How many hours did you exercise last week? 10.5\n",
      "<class 'float'>\n"
     ]
    }
   ],
   "source": [
    "string_value = input('How many hours did you exercise last week? ') \n",
    "hours = float(string_value)\n",
    "print(type(hours))"
   ]
  },
  {
   "cell_type": "code",
   "execution_count": 99,
   "id": "b4d8c3ca",
   "metadata": {},
   "outputs": [
    {
     "data": {
      "text/plain": [
       "str"
      ]
     },
     "execution_count": 99,
     "metadata": {},
     "output_type": "execute_result"
    },
    {
     "data": {
      "text/plain": [
       "float"
      ]
     },
     "execution_count": 99,
     "metadata": {},
     "output_type": "execute_result"
    }
   ],
   "source": [
    "type(string_value)\n",
    "type(hours)"
   ]
  },
  {
   "cell_type": "code",
   "execution_count": 104,
   "id": "43b9fd01",
   "metadata": {},
   "outputs": [
    {
     "name": "stdout",
     "output_type": "stream",
     "text": [
      "How many hours did you exercise last week? Enter whole number 10\n"
     ]
    }
   ],
   "source": [
    "hours = int(input('How many hours did you exercise last week? Enter whole number '))"
   ]
  },
  {
   "cell_type": "code",
   "execution_count": 105,
   "id": "5d11503b",
   "metadata": {},
   "outputs": [
    {
     "name": "stdout",
     "output_type": "stream",
     "text": [
      "How many pounds do you weigh?\n",
      "123.23\n"
     ]
    }
   ],
   "source": [
    "weight = float(input('How many pounds do you weigh?\\n'))"
   ]
  },
  {
   "cell_type": "markdown",
   "id": "7ea51ed8",
   "metadata": {},
   "source": [
    "### Simple Programs in Python:"
   ]
  },
  {
   "cell_type": "code",
   "execution_count": 108,
   "id": "c9a16d5a",
   "metadata": {},
   "outputs": [
    {
     "name": "stdout",
     "output_type": "stream",
     "text": [
      "What is your name?Yuxiao\n",
      "Hello Yuxiao! Welcome to CIS 2300!\n",
      "Hello, +++Yuxiao+++! Welcome to CIS 3120!\n"
     ]
    }
   ],
   "source": [
    "###### Greetings Program\n",
    "user = input('What is your name?')\n",
    "\n",
    "# print('Hello,', user,'! Welcome to CIS 2300!') \n",
    "\n",
    "print('Hello ' + user + '! Welcome to CIS 2300!') # concatenating strings\n",
    "\n",
    "print('Hello, ', user, '! Welcome to CIS 3120!', sep = '+++') \n",
    "#sep means separator, here we don't want any space between the name and the exclamation mark"
   ]
  },
  {
   "cell_type": "code",
   "execution_count": 109,
   "id": "091ee925",
   "metadata": {
    "scrolled": true
   },
   "outputs": [
    {
     "name": "stdout",
     "output_type": "stream",
     "text": [
      "Hello Yuxiao Luo Welcome to CIS 2300!\n"
     ]
    }
   ],
   "source": [
    "user = 'Yuxiao Luo'\n",
    "print('Hello', user, 'Welcome to CIS 2300!')"
   ]
  },
  {
   "cell_type": "markdown",
   "id": "99c30325",
   "metadata": {},
   "source": [
    "You can use `+` to concatenate strings, while no default space stays between two strings."
   ]
  },
  {
   "cell_type": "code",
   "execution_count": 29,
   "id": "5fffa2bb",
   "metadata": {},
   "outputs": [
    {
     "name": "stdout",
     "output_type": "stream",
     "text": [
      "Hello, Yuxiao Luo! Welcome!\n"
     ]
    }
   ],
   "source": [
    "print('Hello, ' + user + '! Welcome!')"
   ]
  },
  {
   "cell_type": "code",
   "execution_count": 30,
   "id": "9934058e",
   "metadata": {},
   "outputs": [
    {
     "name": "stdout",
     "output_type": "stream",
     "text": [
      "You can concatenate two strings with the '+' operator.\n"
     ]
    }
   ],
   "source": [
    "print(\"You can concatenate two \" + \"strings with the '+' operator.\")"
   ]
  },
  {
   "cell_type": "markdown",
   "id": "c20ca4a7",
   "metadata": {},
   "source": [
    "#### `\\` and `\\n`\n",
    "- break long statements into multiple lines with a line continuation character - the backslash (\\)\n",
    "\n",
    "- \\n is for creating a new line - it's the newline escape character"
   ]
  },
  {
   "cell_type": "code",
   "execution_count": 124,
   "id": "fee08968",
   "metadata": {},
   "outputs": [
    {
     "name": "stdout",
     "output_type": "stream",
     "text": [
      "\n",
      "This string may not seem terribly impressive.But what you don't know is that\n",
      "it's one really long string, created from the concatenation of twenty-two\n",
      "different strings, broken across five lines. Now are you impressed? Okay,\n",
      "this one long string is now over!\n"
     ]
    }
   ],
   "source": [
    "# Silly Strings Program\n",
    "print(\"\\nThis string \" + \"may not \" + \"seem terr\" + \"ibly impressive.\" \\\n",
    "      + \"But what \" + \"you don't know\" + \" is that\\n\" + \"it's one real\" \\\n",
    "      + \"l\" + \"y\" + \" long string, created from the concatenation \" \\\n",
    "      + \"of \" + \"twenty-two\\n\" + \"different strings, broken across \" \\\n",
    "      + \"five lines.\" + \" Now are you\" + \" impressed? \" + \"Okay,\\n\" \\\n",
    "      + \"this \" + \"one \" + \"long\" + \" string is now over!\")"
   ]
  },
  {
   "cell_type": "markdown",
   "id": "2d79486c",
   "metadata": {},
   "source": [
    "#### repeat a string with operator `*`"
   ]
  },
  {
   "cell_type": "code",
   "execution_count": 36,
   "id": "93eee4c6",
   "metadata": {},
   "outputs": [
    {
     "name": "stdout",
     "output_type": "stream",
     "text": [
      "\n",
      "If you really like a string, you can repeat it. For example,\n",
      "who doesn't like pie? That's right, nobody. But if you really\n",
      "like it, you should say it like you mean it:\n",
      "Pie Pie Pie Pie Pie Pie Pie Pie Pie Pie \n",
      "\n",
      "\n",
      "Enter any key to exit.  Exit\n"
     ]
    },
    {
     "data": {
      "text/plain": [
       "'Exit'"
      ]
     },
     "execution_count": 36,
     "metadata": {},
     "output_type": "execute_result"
    },
    {
     "name": "stdout",
     "output_type": "stream",
     "text": [
      "End of program\n"
     ]
    }
   ],
   "source": [
    "# Silly Strings Program 2\n",
    "print(\"\\nIf you really like a string, you can repeat it. For example,\")\n",
    "print(\"who doesn't like pie? That's right, nobody. But if you really\") \n",
    "print(\"like it, you should say it like you mean it:\")\n",
    "print(\"Pie \" * 10) # repeating a string with operator *\n",
    "input(\"\\n\\nEnter any key to exit.  \") # \\n means a new line\n",
    "print('End of program')"
   ]
  },
  {
   "cell_type": "code",
   "execution_count": 39,
   "id": "8f63a0a2",
   "metadata": {},
   "outputs": [
    {
     "name": "stdout",
     "output_type": "stream",
     "text": [
      "\t\t\tFancy Credits\n",
      "\t\t\t \\ \\ \\ \\ \\ \\ \\\n",
      "\t\t\t\tby\n",
      "\t\t\tMichael Dawson\n",
      "\t\t\t \\ \\ \\ \\ \\ \\ \\\n",
      "\n",
      "Special thanks goes out to:\n",
      "My hair stylist, Henry 'The Great,' who never says \"can't.\"\n",
      "\n",
      "\n",
      "Enter any key to exit. 000\n"
     ]
    },
    {
     "data": {
      "text/plain": [
       "'000'"
      ]
     },
     "execution_count": 39,
     "metadata": {},
     "output_type": "execute_result"
    },
    {
     "name": "stdout",
     "output_type": "stream",
     "text": [
      "End\n"
     ]
    }
   ],
   "source": [
    "print(\"\\t\\t\\tFancy Credits\") # \\t is for \"tab\"\n",
    "print(\"\\t\\t\\t \\\\ \\\\ \\\\ \\\\ \\\\ \\\\ \\\\\") # \\\\ causes a backslash character to be printed\n",
    "print(\"\\t\\t\\t\\tby\")\n",
    "print(\"\\t\\t\\tMichael Dawson\")\n",
    "print(\"\\t\\t\\t \\\\ \\\\ \\\\ \\\\ \\\\ \\\\ \\\\\")\n",
    "print(\"\\nSpecial thanks goes out to:\")\n",
    "print(\"My hair stylist, Henry \\'The Great,\\' who never says \\\"can\\'t.\\\"\")\n",
    "input(\"\\n\\nEnter any key to exit. \") \n",
    "print(\"End\")"
   ]
  },
  {
   "cell_type": "markdown",
   "id": "0d9f5b4e",
   "metadata": {},
   "source": [
    "### Other Escape Characters:\n",
    "- `\\'`: causes a single quote mark to be printed\n",
    "- `\\\"`: causes a double quote mark to be printed"
   ]
  },
  {
   "cell_type": "code",
   "execution_count": 11,
   "id": "6a0bbe61",
   "metadata": {},
   "outputs": [
    {
     "name": "stdout",
     "output_type": "stream",
     "text": [
      "I want to see the movie \"Bumblebee.\"\n",
      "I want to see the movie \"Bumblebee.\"*\n"
     ]
    }
   ],
   "source": [
    "print(\"I want to see the movie \\\"Bumblebee.\\\"\")\n",
    "print(\"\"\"I want to see the movie \"Bumblebee.\"*\"\"\")\n",
    "\n",
    "# fix  the code so that it will execute succesfully"
   ]
  },
  {
   "cell_type": "code",
   "execution_count": 2,
   "id": "e5376a3d",
   "metadata": {},
   "outputs": [
    {
     "name": "stdout",
     "output_type": "stream",
     "text": [
      "I'm going to see the movie\n",
      "I'm going to see the movie\n"
     ]
    }
   ],
   "source": [
    "# print('I'm going to see the movie \"Bumblebee\") \n",
    "#fix the code\n",
    "print(\"I'm going to see the movie\")\n",
    "print(\"I\\'m going to see the movie\")"
   ]
  },
  {
   "cell_type": "markdown",
   "id": "b1ae65bc",
   "metadata": {},
   "source": [
    "**Math Operators in Python**\n",
    "![image.png](data/pt_math_operators.png)"
   ]
  },
  {
   "cell_type": "code",
   "execution_count": 12,
   "id": "816a37a6",
   "metadata": {},
   "outputs": [
    {
     "name": "stdout",
     "output_type": "stream",
     "text": [
      "\n",
      "If a restaurant check comes to 19 dollars with tip, and you and\n",
      "your friends split it evenly 4 ways, how much do you each throw in?\n",
      "Enter any key to find out.i\n",
      "19 / 4 = 4.75\n"
     ]
    }
   ],
   "source": [
    "# Division \n",
    "print(\"\\nIf a restaurant check comes to 19 dollars with tip, and you and\") \n",
    "print(\"your friends split it evenly 4 ways, how much do you each throw in?\")\n",
    "input(\"Enter any key to find out.\")\n",
    "print(\"19 / 4 =\", 19/4)\n"
   ]
  },
  {
   "cell_type": "code",
   "execution_count": 21,
   "id": "87dbdfbc",
   "metadata": {},
   "outputs": [
    {
     "name": "stdout",
     "output_type": "stream",
     "text": [
      "\n",
      "If a group of 4 pirates finds a chest full of 107 gold coins, and\n",
      "they divide them evenly, how many whole coins does each get?\n",
      "Enter any key to find out.answer\n",
      "107 // 4 = 26\n"
     ]
    }
   ],
   "source": [
    "# Division 2\n",
    "\n",
    "print(\"\\nIf a group of 4 pirates finds a chest full of 107 gold coins, and\")\n",
    "print(\"they divide them evenly, how many whole coins does each get?\") \n",
    "input(\"Enter any key to find out.\")\n",
    "print(\"107 // 4 =\", 107 // 4) \n"
   ]
  },
  {
   "cell_type": "code",
   "execution_count": 27,
   "id": "964bbdf3",
   "metadata": {
    "scrolled": true
   },
   "outputs": [
    {
     "name": "stdout",
     "output_type": "stream",
     "text": [
      "\n",
      "If that same group of 4 pirates evenly divides the chest full\n",
      "of 107 gold coins, how many coins are left over?\n",
      "Enter any key to find out.answer\n",
      "107 % 4 = 3\n",
      "\n",
      "\n",
      "Enter any key to exit.answer\n",
      "End.\n"
     ]
    }
   ],
   "source": [
    "# Division 3\n",
    "\n",
    "print(\"\\nIf that same group of 4 pirates evenly divides the chest full\") \n",
    "print(\"of 107 gold coins, how many coins are left over?\")\n",
    "input(\"Enter any key to find out.\")\n",
    "print(\"107 % 4 =\", 107 % 4) # remainder\n",
    "input(\"\\n\\nEnter any key to exit.\")\n",
    "print('End.')"
   ]
  },
  {
   "cell_type": "code",
   "execution_count": 28,
   "id": "ca4fab5f",
   "metadata": {},
   "outputs": [
    {
     "name": "stdout",
     "output_type": "stream",
     "text": [
      "<class 'int'>\n"
     ]
    }
   ],
   "source": [
    "# type() to check the type of the variable "
   ]
  },
  {
   "cell_type": "code",
   "execution_count": 36,
   "id": "631e7483",
   "metadata": {},
   "outputs": [
    {
     "name": "stdout",
     "output_type": "stream",
     "text": [
      "<class 'int'>\n",
      "<class 'float'>\n",
      "<class 'int'>\n"
     ]
    }
   ],
   "source": [
    "var = 5\n",
    "type(var)\n",
    "print(type(var))\n",
    "\n",
    "# use float() to convert an integer to float \n",
    "var = float(var)\n",
    "print(type(var))\n",
    "\n",
    "# ues int() to convert a float to integer\n",
    "var = int(var)\n",
    "print(type(var))"
   ]
  },
  {
   "cell_type": "markdown",
   "id": "d1c0e764",
   "metadata": {},
   "source": [
    "#### String manipulation \n",
    "\n",
    "- Quotation manipulation \n",
    "\n",
    "- Demonstrates string methods"
   ]
  },
  {
   "cell_type": "code",
   "execution_count": 18,
   "id": "a9c35523",
   "metadata": {},
   "outputs": [
    {
     "name": "stdout",
     "output_type": "stream",
     "text": [
      "Original quote:\n",
      "I think there is a world market for maybe five computers.\n",
      "\n",
      "In uppercase:\n",
      "I THINK THERE IS A WORLD MARKET FOR MAYBE FIVE COMPUTERS.\n",
      "\n",
      "In lowercase:\n",
      "i think there is a world market for maybe five computers.\n",
      "\n",
      "As a title:\n",
      "I Think There Is A World Market For Maybe Five Computers.\n",
      "\n",
      "With a minor replacement:\n",
      "I think there is a world market for maybe millions of computers.\n",
      "\n",
      "Original quote is still:\n",
      "I think there is a world market for maybe five computers.\n"
     ]
    }
   ],
   "source": [
    "# loading a python script in jupyter notebook cell\n",
    "# %load dawson_source/chapter02/quotation_manipulation.py\n",
    "\n",
    "# Quotation Manipulation\n",
    "# Demonstrates string methods\n",
    "\n",
    "# quote from IBM Chairman, Thomas Watson, in 1943\n",
    "quote = \"I think there is a world market for maybe five computers.\"\n",
    "\n",
    "print(\"Original quote:\")\n",
    "print(quote)\n",
    "\n",
    "print(\"\\nIn uppercase:\")\n",
    "print(quote.upper()) # covert all letters to upper cases in the variable that stores the string\n",
    "\n",
    "print(\"\\nIn lowercase:\")\n",
    "print(quote.lower()) # covert all letters to lower cases in the variable that stores the string\n",
    "\n",
    "print(\"\\nAs a title:\")\n",
    "print(quote.title()) # covert the words to title format in the variable that stores the string\n",
    "\n",
    "print(\"\\nWith a minor replacement:\")\n",
    "print(quote.replace(\"five\", \"millions of\")) # replace argument 1 with argument 2 in the string\n",
    "\n",
    "print(\"\\nOriginal quote is still:\")\n",
    "print(quote)\n"
   ]
  },
  {
   "cell_type": "code",
   "execution_count": 39,
   "id": "567b359e",
   "metadata": {},
   "outputs": [
    {
     "name": "stdout",
     "output_type": "stream",
     "text": [
      "I wAnt tO Eat sTeaK.\n",
      "i want to eat steak.\n",
      "I want to eat steak.\n"
     ]
    }
   ],
   "source": [
    "# example: fix the string issue\n",
    "\n",
    "today = \"I wAnt tO Eat sTeaK.\"\n",
    "print(today)\n",
    "\n",
    "# convert all letters to lower case \n",
    "today = today.lower()\n",
    "print(today)\n",
    "\n",
    "# replace i with I\n",
    "today = today.replace('i','I')\n",
    "print(today)"
   ]
  },
  {
   "cell_type": "code",
   "execution_count": 40,
   "id": "b7d117e7",
   "metadata": {},
   "outputs": [
    {
     "name": "stdout",
     "output_type": "stream",
     "text": [
      "Hi.  What's your name? Henry\n",
      "How old are you? 23\n",
      "Okay, last question.  How many pounds do you weigh? 58\n",
      "\n",
      "If poet ee cummings were to email you, he'd address you as henry\n",
      "But if ee were mad, he'd call you HENRY\n",
      "\n",
      "If a small child were trying to get your attention\n",
      "your name would become:\n",
      "HenryHenryHenryHenryHenry\n",
      "\n",
      "You're over 725328000 seconds old.\n",
      "\n",
      "Did you know that on the moon you would weigh only 9.666666666666666 pounds?\n",
      "On the sun, you'd weigh 1571.8000000000002 (but, ah... not for long).\n"
     ]
    }
   ],
   "source": [
    "# %load dawson_source/chapter02/useless_trivia.py\n",
    "# Useless Trivia\n",
    "#\n",
    "# Gets personal information from the user and then\n",
    "# prints true but useless information about him or her\n",
    "\n",
    "name = input(\"Hi.  What's your name? \")\n",
    "\n",
    "age = int(input(\"How old are you? (hint: input an integer)\"))\n",
    "\n",
    "weight = int(input(\"Okay, last question.  How many pounds do you weigh? \"))\n",
    "\n",
    "print(\"\\nIf poet ee cummings were to email you, he'd address you as\",\n",
    "      name.lower())\n",
    "print(\"But if ee were mad, he'd call you\", name.upper())\n",
    "\n",
    "called = name * 5\n",
    "print(\"\\nIf a small child were trying to get your attention\",)\n",
    "print(\"your name would become:\")\n",
    "print(called)\n",
    "\n",
    "seconds = age * 365 * 24 * 60 * 60\n",
    "print(\"\\nYou're over\", seconds, \"seconds old.\")\n",
    "\n",
    "moon_weight = weight / 6\n",
    "print(\"\\nDid you know that on the moon you would weigh only\",\n",
    "      moon_weight, \"pounds?\")\n",
    "\n",
    "sun_weight = weight * 27.1\n",
    "print(\"On the sun, you'd weigh\", sun_weight, \"(but, ah... not for long).\") "
   ]
  },
  {
   "cell_type": "code",
   "execution_count": 43,
   "id": "0b13a334",
   "metadata": {},
   "outputs": [
    {
     "name": "stdout",
     "output_type": "stream",
     "text": [
      "<class 'int'>\n"
     ]
    }
   ],
   "source": [
    "# in multiplication, if all of the numbers are integer, result is integer\n",
    "a = 2\n",
    "b = 3\n",
    "print(type(a*b)) "
   ]
  },
  {
   "cell_type": "code",
   "execution_count": 44,
   "id": "ebe491b7",
   "metadata": {},
   "outputs": [
    {
     "name": "stdout",
     "output_type": "stream",
     "text": [
      "<class 'float'>\n"
     ]
    }
   ],
   "source": [
    "# in multiplication, if any of the numbers is float, result is float\n",
    "a = 2.0\n",
    "b = 3\n",
    "print(type(a*b)) "
   ]
  },
  {
   "cell_type": "code",
   "execution_count": 46,
   "id": "0068709b",
   "metadata": {},
   "outputs": [],
   "source": [
    "# in multiplication, if any of the numbers is float, result is float\n",
    "a = 2.0\n",
    "b = 3"
   ]
  },
  {
   "cell_type": "markdown",
   "id": "8f4943f7",
   "metadata": {},
   "source": [
    "## Practices\n",
    "1. \n",
    "Create two variables that take your first and last name as values and then print it so that you get an output along with a descriptive message before (e.g. My name is ...)\n",
    "\n",
    "2. \n",
    "Create a variable that takes \"Hello World\" as its value. Find the length of the string using the built-in function len for the string object type (use the Help Menu above). Then print the length of the string with a descriptive message like: The length of the string Hello World is 11\n",
    "\n",
    "3. \n",
    "Write a print statement to print the sentence \"I'd like a cup of coffee\", and a print statement to print the sentence \"She said \"With cream and sugar?\" \"\n",
    "\n",
    "4. \n",
    "Create a list of legal and illegal variable names. Describe why each is either legal or illegal. Next, create a list of “good” and “bad” legal variable names. Describe why each is either a good or bad choice for a variable name.\n",
    "5.\n",
    "Modify the Useless Trivia program above so that users' weight value is a float\n",
    "\n",
    "6. \n",
    "Write a program to request the length and breadth of a rectangle and compute the area of the rectangle"
   ]
  },
  {
   "cell_type": "code",
   "execution_count": 54,
   "id": "ae3bc18c",
   "metadata": {},
   "outputs": [
    {
     "name": "stdout",
     "output_type": "stream",
     "text": [
      "My name is Yuxiao Luo\n"
     ]
    }
   ],
   "source": [
    "# 1\n",
    "FirstName = \"Yuxiao\"\n",
    "LastName = \"Luo\"\n",
    "print(\"My name is\",FirstName, LastName)"
   ]
  },
  {
   "cell_type": "code",
   "execution_count": 22,
   "id": "4f2633d0",
   "metadata": {},
   "outputs": [
    {
     "name": "stdout",
     "output_type": "stream",
     "text": [
      "The length of the string Hello World is 11\n"
     ]
    }
   ],
   "source": [
    "# 2\n",
    "stri = \"Hello World\"\n",
    "print(\"The length of the string\", stri, \"is\", len(stri))"
   ]
  },
  {
   "cell_type": "code",
   "execution_count": 26,
   "id": "45ae52e9",
   "metadata": {},
   "outputs": [
    {
     "name": "stdout",
     "output_type": "stream",
     "text": [
      "I'd like a cup of coffee\n",
      "She said \"With cream and sugar?\"\n"
     ]
    }
   ],
   "source": [
    "print(\"I'd like a cup of coffee\")\n",
    "print(\"She said \\\"With cream and sugar?\\\"\")"
   ]
  },
  {
   "cell_type": "code",
   "execution_count": 32,
   "id": "fc65d845",
   "metadata": {},
   "outputs": [
    {
     "name": "stdout",
     "output_type": "stream",
     "text": [
      "The length of the rectangle is 13\n",
      "The breadth of the rectangle is 12\n",
      "The area of the rectangle is  156.0\n"
     ]
    }
   ],
   "source": [
    "# Compute the area of a rectangle\n",
    "length = float(input(\"The length of the rectangle is \"))\n",
    "breadth = float(input(\"The breadth of the rectangle is \"))\n",
    "print(\"The area of the rectangle is \", length * breadth)"
   ]
  },
  {
   "cell_type": "markdown",
   "id": "7df37b17",
   "metadata": {},
   "source": [
    "## Assignments & Quizzes\n",
    "#### Weekly Assignment 2\n",
    "Using the algorithm for the task you had developed in the last week’s assignment 1B (update the algorithm based on any feedback you received from the instructor), create a flowchart using either Visio, Lucid Chart or PowerPoint. \n",
    "Alternatively, you can draw the flowchart on a paper, scan and then upload the file as per below instructions. \n",
    "Please read the HW instruction in Bb for more details. (Due date: Feb 23rd)\n",
    "\n",
    "#### Weekly Quizz\n",
    "Please finish all other problems in section **I/O**. (Due date: Feb 19th)\n",
    "- input and output \n",
    "- testing input"
   ]
  }
 ],
 "metadata": {
  "kernelspec": {
   "display_name": "Python 3 (ipykernel)",
   "language": "python",
   "name": "python3"
  },
  "language_info": {
   "codemirror_mode": {
    "name": "ipython",
    "version": 3
   },
   "file_extension": ".py",
   "mimetype": "text/x-python",
   "name": "python",
   "nbconvert_exporter": "python",
   "pygments_lexer": "ipython3",
   "version": "3.11.1"
  }
 },
 "nbformat": 4,
 "nbformat_minor": 5
}
