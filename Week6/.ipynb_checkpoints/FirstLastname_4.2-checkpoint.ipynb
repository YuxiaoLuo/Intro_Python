{
 "cells": [
  {
   "cell_type": "markdown",
   "metadata": {},
   "source": [
    "## Assignment 4.2"
   ]
  },
  {
   "cell_type": "markdown",
   "metadata": {},
   "source": [
    "\n",
    "3. Write a program that uses nested loops to draw this pattern:\n",
    "\n",
    "        * * * * * * *\n",
    "        * * * * * *\n",
    "        * * * * *\n",
    "        * * * *\n",
    "        * * *\n",
    "        * *\n",
    "        *\n",
    "        \n",
    "\n",
    "4. Write a program that predicts the approximate size of a population of organisms. The application should allow the user to enter the starting number of organisms, the average daily population increase (as a percentage), and the number of days the organisms will be left to multiply. Make sure to include input validations for the three  values that the user needs to enter.\n",
    "\n",
    "    For example, assume the user enters the following values:\n",
    "\n",
    "    Starting number of organisms: 2\n",
    "\n",
    "    Average daily increase: 30%\n",
    "\n",
    "    Number of days to multiply: 3\n",
    "    \n",
    "    The program should display the following table of data in this case:\n",
    "\n",
    "    Day Approximate\tPopulation Estimate\n",
    "    \n",
    "| Day Approximate | Population Estimate |\n",
    "|-------------------------|----------------------------|\n",
    "|    1|  2  |\n",
    "|    2|  2.6|\n",
    "|    3| 3.38|\n",
    "\n",
    "\n",
    "5. Sleep Debt\n",
    "A “sleep debt” represents the difference between a person’s desirable and actual amount of sleep. Write a program that prompts the user to enter how many hours they slept each day over a period of seven days. Using 8 hours per day as the desirable amount of sleep, determine their sleep debt by calculating the total hours of sleep they got over the seven-day period and subtracting that from the total hours of sleep they should have gotten. If the user does not have a sleep debt, display a message expressing your jealousy. Make sure to inlude input validations for the values that the user has to enter."
   ]
  }
 ],
 "metadata": {
  "kernelspec": {
   "display_name": "Python 3",
   "language": "python",
   "name": "python3"
  },
  "language_info": {
   "codemirror_mode": {
    "name": "ipython",
    "version": 3
   },
   "file_extension": ".py",
   "mimetype": "text/x-python",
   "name": "python",
   "nbconvert_exporter": "python",
   "pygments_lexer": "ipython3",
   "version": "3.9.5"
  }
 },
 "nbformat": 4,
 "nbformat_minor": 4
}
