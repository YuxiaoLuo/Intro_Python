{
 "cells": [
  {
   "cell_type": "markdown",
   "metadata": {},
   "source": [
    "# Week 4: Iteration"
   ]
  },
  {
   "cell_type": "markdown",
   "metadata": {},
   "source": [
    "## Multiple Assignment"
   ]
  },
  {
   "cell_type": "code",
   "execution_count": 5,
   "metadata": {
    "scrolled": true
   },
   "outputs": [
    {
     "name": "stdout",
     "output_type": "stream",
     "text": [
      "3\n",
      "6\n"
     ]
    }
   ],
   "source": [
    "dollars = 3\n",
    "print(dollars)\n",
    "dollars = 6\n",
    "print(dollars)"
   ]
  },
  {
   "cell_type": "markdown",
   "metadata": {},
   "source": [
    "### Review\n",
    "Assignment vs. Equality Comparison in Python"
   ]
  },
  {
   "cell_type": "markdown",
   "metadata": {},
   "source": [
    "### Updating Variables"
   ]
  },
  {
   "cell_type": "code",
   "execution_count": null,
   "metadata": {},
   "outputs": [],
   "source": [
    "x = x + 1"
   ]
  },
  {
   "cell_type": "code",
   "execution_count": null,
   "metadata": {},
   "outputs": [],
   "source": [
    "x = 0\n",
    "x = x + 1"
   ]
  },
  {
   "cell_type": "code",
   "execution_count": 6,
   "metadata": {},
   "outputs": [
    {
     "name": "stdout",
     "output_type": "stream",
     "text": [
      "0\n",
      "1\n"
     ]
    }
   ],
   "source": [
    "x = 0\n",
    "print(x)\n",
    "x += 1 ## same as x = x + 1\n",
    "print(x)"
   ]
  },
  {
   "cell_type": "code",
   "execution_count": 7,
   "metadata": {},
   "outputs": [
    {
     "name": "stdout",
     "output_type": "stream",
     "text": [
      "3\n",
      "1\n"
     ]
    }
   ],
   "source": [
    "x = 3\n",
    "print(x)\n",
    "x -= 2\n",
    "print(x)\n",
    "#x *=\n",
    "#x /="
   ]
  },
  {
   "cell_type": "markdown",
   "metadata": {},
   "source": [
    "#### Initialize, then Update\n",
    "##### Increment\n",
    "##### Decrement"
   ]
  },
  {
   "cell_type": "markdown",
   "metadata": {},
   "source": [
    "### The `while` Statement\n",
    "- condition controlled loop\n",
    "- evaluates a true/false condition to control the number of times it repeats\n",
    "\n",
    "        while condition:\n",
    "            statement\n",
    "            statement\n",
    "            statement\n",
    "            etc."
   ]
  },
  {
   "cell_type": "code",
   "execution_count": 8,
   "metadata": {},
   "outputs": [
    {
     "name": "stdout",
     "output_type": "stream",
     "text": [
      "Count Down from 5 begins\n",
      "5\n",
      "4\n",
      "3\n",
      "2\n",
      "1\n",
      "Done!\n"
     ]
    }
   ],
   "source": [
    "# Count Down program\n",
    "n = 5\n",
    "print('Count Down from', n, 'begins') \n",
    "while n > 0: \n",
    "    print(n) \n",
    "    n = n - 1 \n",
    "print('Done!')"
   ]
  },
  {
   "cell_type": "markdown",
   "metadata": {},
   "source": [
    "#### Flow of Execution\n",
    "        1. n is assigned with 3 as value\n",
    "        2. the sentence \"count down from 3 ....\" is printed\n",
    "        3. while loop begins, as long as n is > 0, n is printed, then decreased by 1\n",
    "        4. value of n is printed, first as 3, then becomes 2, n is printed as 2, then n becomes 1, gets printed as 1, then n is 0\n",
    "        5. program exits loop\n",
    "        6. 'Done!' is printed\n",
    " - When does this loop end?\n",
    "- What makes the loop end?\n"
   ]
  },
  {
   "cell_type": "markdown",
   "metadata": {},
   "source": [
    "#### Infinite Loop\n",
    "- when there is nothing inside a loop that changes a condition so that it becomes eventually false"
   ]
  },
  {
   "cell_type": "code",
   "execution_count": 11,
   "metadata": {},
   "outputs": [
    {
     "name": "stdin",
     "output_type": "stream",
     "text": [
      "Enter how many times you want \"Hello World\" to be printed 3\n"
     ]
    },
    {
     "name": "stdout",
     "output_type": "stream",
     "text": [
      "Hello World\n",
      "Hello World\n",
      "Hello World\n"
     ]
    }
   ],
   "source": [
    "# is there something wrong with this code?\n",
    "\n",
    "repeat = int(input('Enter how many times you want \"Hello World\" to be printed'))\n",
    "while repeat > 0:\n",
    "    print('Hello World')"
   ]
  },
  {
   "cell_type": "code",
   "execution_count": 12,
   "metadata": {},
   "outputs": [
    {
     "name": "stdin",
     "output_type": "stream",
     "text": [
      "Enter the amount of sales:  4000\n",
      "Enter the commission rate:  30\n"
     ]
    },
    {
     "name": "stdout",
     "output_type": "stream",
     "text": [
      "The commission is $120,000.00\n"
     ]
    },
    {
     "name": "stdin",
     "output_type": "stream",
     "text": [
      "Do you want to calculate another commission (Enter y for yes):  y\n",
      "Enter the amount of sales:  4000\n",
      "Enter the commission rate:  .3\n"
     ]
    },
    {
     "name": "stdout",
     "output_type": "stream",
     "text": [
      "The commission is $1,200.00\n"
     ]
    },
    {
     "name": "stdin",
     "output_type": "stream",
     "text": [
      "Do you want to calculate another commission (Enter y for yes):  n\n"
     ]
    },
    {
     "name": "stdout",
     "output_type": "stream",
     "text": [
      "Program Ended.\n"
     ]
    }
   ],
   "source": [
    "# Commission Program:\n",
    "\n",
    "keep_going = 'y'\n",
    "#stop = 'stop'\n",
    "#while stop != 'stop': \n",
    "while keep_going == 'y':\n",
    "# Get a salesperson's sales and commission rate.\n",
    "    sales = float(input('Enter the amount of sales: '))\n",
    "    comm_rate = float(input('Enter the commission rate: '))\n",
    "\n",
    "# Calculate the commission.\n",
    "    commission = sales * comm_rate\n",
    "\n",
    "# Display the commission.\n",
    "    print('The commission is $', \\\n",
    "    format(commission, ',.2f'), sep = '')\n",
    "\n",
    "# See if the user wants to do another one.\n",
    "    keep_going = input('Do you want to calculate another ' + \\\n",
    "                   'commission (Enter y for yes): ')\n",
    "    #stop = input('Enter \"stop\" if you want to end the program')\n",
    "print(\"Program Ended.\")"
   ]
  },
  {
   "cell_type": "code",
   "execution_count": 13,
   "metadata": {},
   "outputs": [
    {
     "name": "stdout",
     "output_type": "stream",
     "text": [
      "100\n",
      "50.0\n",
      "25.0\n",
      "76.0\n",
      "38.0\n",
      "19.0\n",
      "58.0\n",
      "29.0\n",
      "88.0\n",
      "44.0\n",
      "22.0\n",
      "11.0\n",
      "34.0\n",
      "17.0\n",
      "52.0\n",
      "26.0\n",
      "13.0\n",
      "40.0\n",
      "20.0\n",
      "10.0\n",
      "5.0\n",
      "16.0\n",
      "8.0\n",
      "4.0\n",
      "2.0\n"
     ]
    }
   ],
   "source": [
    "# Sequence program\n",
    "# does this program terminate for all positive values of n?\n",
    "n = 100\n",
    "while n != 1:\n",
    "    print(n),\n",
    "    if n%2 == 0: # if n is even\n",
    "        n = n/2\n",
    "    else: # if n is odd\n",
    "        n = n*3+1"
   ]
  },
  {
   "cell_type": "code",
   "execution_count": null,
   "metadata": {},
   "outputs": [],
   "source": [
    "val = 0\n",
    "while val != 'done':\n",
    "    val = input('Enter a number, type \"done\" in lowercase if you want to stop.')\n",
    "    print(val)\n",
    "print('Done!')"
   ]
  },
  {
   "cell_type": "code",
   "execution_count": 4,
   "metadata": {},
   "outputs": [
    {
     "name": "stdin",
     "output_type": "stream",
     "text": [
      "enter a number. Type \"done\" in lowercase when you want to stop. 7\n"
     ]
    },
    {
     "name": "stdout",
     "output_type": "stream",
     "text": [
      "7\n"
     ]
    },
    {
     "name": "stdin",
     "output_type": "stream",
     "text": [
      "enter a number. Type \"done\" in lowercase when you want to stop. 9\n"
     ]
    },
    {
     "name": "stdout",
     "output_type": "stream",
     "text": [
      "9\n"
     ]
    },
    {
     "name": "stdin",
     "output_type": "stream",
     "text": [
      "enter a number. Type \"done\" in lowercase when you want to stop. 5\n"
     ]
    },
    {
     "name": "stdout",
     "output_type": "stream",
     "text": [
      "5\n"
     ]
    },
    {
     "name": "stdin",
     "output_type": "stream",
     "text": [
      "enter a number. Type \"done\" in lowercase when you want to stop. test\n"
     ]
    },
    {
     "name": "stdout",
     "output_type": "stream",
     "text": [
      "test\n"
     ]
    },
    {
     "name": "stdin",
     "output_type": "stream",
     "text": [
      "enter a number. Type \"done\" in lowercase when you want to stop. done\n"
     ]
    },
    {
     "name": "stdout",
     "output_type": "stream",
     "text": [
      "Done!\n"
     ]
    }
   ],
   "source": [
    "# Break:\n",
    "while True:\n",
    "    val = input('enter a number. Type \"done\" in lowercase when you want to stop.')\n",
    "    if val == 'done':\n",
    "        break\n",
    "    print(val)\n",
    "print('Done!')"
   ]
  },
  {
   "cell_type": "markdown",
   "metadata": {},
   "source": [
    "### The `for` Statement:\n",
    "- Count controlled loop\n",
    "- Repeats for a specified number of times\n",
    "\n",
    "`for variable in [val1, val2, etc.]:\n",
    "    statement\n",
    "    statement\n",
    "    etc.`"
   ]
  },
  {
   "cell_type": "code",
   "execution_count": 13,
   "metadata": {},
   "outputs": [
    {
     "name": "stdout",
     "output_type": "stream",
     "text": [
      "5\n",
      "4\n",
      "3\n",
      "2\n",
      "1\n"
     ]
    }
   ],
   "source": [
    "# Rewrite the Countdown program above using the for statement:\n"
   ]
  },
  {
   "cell_type": "code",
   "execution_count": 2,
   "metadata": {},
   "outputs": [],
   "source": [
    "# Write a program to display odd numbers from 1 to 9 using the for statement:\n",
    "\n",
    "\n"
   ]
  },
  {
   "cell_type": "markdown",
   "metadata": {},
   "source": [
    "#### Writing `for` statement with `range` function"
   ]
  },
  {
   "cell_type": "code",
   "execution_count": 15,
   "metadata": {},
   "outputs": [
    {
     "name": "stdout",
     "output_type": "stream",
     "text": [
      "0\n",
      "1\n",
      "2\n",
      "3\n",
      "4\n"
     ]
    }
   ],
   "source": [
    "for num in range(5):\n",
    "    print(num + 1)"
   ]
  },
  {
   "cell_type": "code",
   "execution_count": 16,
   "metadata": {},
   "outputs": [
    {
     "name": "stdout",
     "output_type": "stream",
     "text": [
      "1\n",
      "2\n",
      "3\n",
      "4\n",
      "5\n"
     ]
    }
   ],
   "source": [
    "for num in range(1,6):\n",
    "    print(num)"
   ]
  },
  {
   "cell_type": "code",
   "execution_count": 19,
   "metadata": {},
   "outputs": [
    {
     "name": "stdout",
     "output_type": "stream",
     "text": [
      "1\n",
      "3\n",
      "5\n",
      "7\n",
      "9\n"
     ]
    }
   ],
   "source": [
    "# Range function with step value\n",
    "for num in range(1, 10, 2):\n",
    "    print(num)"
   ]
  },
  {
   "cell_type": "code",
   "execution_count": 18,
   "metadata": {},
   "outputs": [
    {
     "name": "stdout",
     "output_type": "stream",
     "text": [
      "10\n",
      "9\n",
      "8\n",
      "7\n",
      "6\n",
      "5\n",
      "4\n",
      "3\n",
      "2\n",
      "1\n"
     ]
    }
   ],
   "source": [
    "# Range function with step value\n",
    "for num in range(10, 0, -1): \n",
    "    print(num)"
   ]
  },
  {
   "cell_type": "code",
   "execution_count": 21,
   "metadata": {},
   "outputs": [],
   "source": [
    "# Modify the code that displays odd numbers from 1 to 9, using range function, so that\n",
    "# all the odd numbers from 1 to 99 are displayed\n",
    "\n"
   ]
  },
  {
   "cell_type": "code",
   "execution_count": 23,
   "metadata": {},
   "outputs": [
    {
     "name": "stdin",
     "output_type": "stream",
     "text": [
      "Enter a number to count down from:  5\n"
     ]
    },
    {
     "name": "stdout",
     "output_type": "stream",
     "text": [
      "Count down from 5 begins:\n",
      "5\n",
      "4\n",
      "3\n",
      "2\n",
      "1\n",
      "Done!\n"
     ]
    }
   ],
   "source": [
    "# Rewrite the countdown program using the for statement with the range function. \n",
    "# the program asks user to enter a number, then counts down and prints the values from that number all the way to 1.\n"
   ]
  },
  {
   "cell_type": "markdown",
   "metadata": {},
   "source": [
    "#### Augmented Assignment Operators\n",
    "\n",
    "     +=\n",
    "     -=\n",
    "     *=\n",
    "     /=\n",
    "     %=\n",
    "     \n",
    "     total += number\n",
    "     balance -= withdrawal"
   ]
  },
  {
   "cell_type": "code",
   "execution_count": 54,
   "metadata": {},
   "outputs": [],
   "source": [
    "# Rewrite the following statements using augmented assignment operators:\n",
    "#a) quantity = quantity + 1\n",
    "#b) days_left = days_left − 5 \n",
    "#c) price = price * 10\n",
    "#d) price = price / 2\n",
    "\n"
   ]
  },
  {
   "cell_type": "code",
   "execution_count": 25,
   "metadata": {},
   "outputs": [
    {
     "name": "stdin",
     "output_type": "stream",
     "text": [
      "Please enter a number: 2\n",
      "Please enter another number: 3\n",
      "Please enter another number: 5\n",
      "Please enter another number: 2\n",
      "Please enter another number: 1\n",
      "Please enter another number: 3\n",
      "Please enter another number: 4\n",
      "Please enter another number: 5\n",
      "Please enter another number: 2\n",
      "Please enter another number: 1\n"
     ]
    },
    {
     "name": "stdout",
     "output_type": "stream",
     "text": [
      "Total of these ten numbers is: 28.0\n"
     ]
    }
   ],
   "source": [
    "# Write a loop that asks the user to enter a number. \n",
    "# It should repeat the process for 10 times, and keep a running total of the 10 numbers entered.\n",
    "# It should display at the end the sum of the 10 numbers.\n",
    "\n"
   ]
  },
  {
   "cell_type": "markdown",
   "metadata": {},
   "source": [
    "#### Sentinels\n",
    "#### Input Validation Loop\n",
    "- Modify the Commission Program, so that the commission rate that user enters has to be in fractions format (0.2, 0.3, not 20 or 30, for example)\n",
    "- Write a program that accepts two numbers, one as the numerator, one as the denominator by the user. It should check if the denominator is zero. \n",
    "    - If not, it should divide them and then print their division. \n",
    "    - If the denominator is zero, it should prompt the user “Division is not possible, please enter a non-zero value for the denominator”.\n",
    "\n"
   ]
  },
  {
   "cell_type": "code",
   "execution_count": null,
   "metadata": {},
   "outputs": [],
   "source": [
    "keep_going = 'y'\n",
    "#stop = 'stop'\n",
    "#while stop != 'stop': \n",
    "while keep_going == 'y':\n",
    "# Get a salesperson's sales and commission rate.\n",
    "    sales = float(input('Enter the amount of sales: '))\n",
    "    comm_rate = float(input('Enter the commission rate: ')) \n",
    "\n",
    "# Calculate the commission.\n",
    "    commission = sales * comm_rate\n",
    "\n",
    "# Display the commission.\n",
    "    print('The commission is $', \\\n",
    "    format(commission, ',.2f'), sep = '')\n",
    "\n",
    "# See if the user wants to do another one.\n",
    "    keep_going = input('Do you want to calculate another ' + \\\n",
    "                   'commission (Enter y for yes): ')\n",
    "    #stop = input('Enter \"stop\" if you want to end the program')\n",
    "print(\"Program Ended.\")"
   ]
  },
  {
   "cell_type": "code",
   "execution_count": 27,
   "metadata": {},
   "outputs": [
    {
     "name": "stdin",
     "output_type": "stream",
     "text": [
      "input number (numerator):  6\n",
      "input number (denominator) :  3\n"
     ]
    },
    {
     "name": "stdout",
     "output_type": "stream",
     "text": [
      "2.0\n"
     ]
    }
   ],
   "source": [
    "numerator = float(input(\"input number (numerator): \"))\n",
    "denominator = float(input(\"input number (denominator) : \"))\n",
    "while denominator == 0:\n",
    "    denominator = float(input(\"Division is not possible, please enter a nonzero value for the denominator\"))\n",
    "print('Division result =', numerator/denominator)"
   ]
  },
  {
   "cell_type": "markdown",
   "metadata": {},
   "source": [
    "#### Nested Loops"
   ]
  },
  {
   "cell_type": "code",
   "execution_count": 51,
   "metadata": {},
   "outputs": [
    {
     "name": "stdout",
     "output_type": "stream",
     "text": [
      "0 : 0\n",
      "0 : 1\n",
      "0 : 2\n",
      "0 : 3\n",
      "0 : 4\n",
      "0 : 5\n",
      "0 : 6\n",
      "0 : 7\n",
      "0 : 8\n",
      "0 : 9\n",
      "0 : 10\n",
      "0 : 11\n",
      "0 : 12\n",
      "0 : 13\n",
      "0 : 14\n",
      "0 : 15\n",
      "0 : 16\n",
      "0 : 17\n",
      "0 : 18\n",
      "0 : 19\n",
      "0 : 20\n",
      "0 : 21\n",
      "0 : 22\n",
      "0 : 23\n",
      "0 : 24\n",
      "0 : 25\n",
      "0 : 26\n",
      "0 : 27\n",
      "0 : 28\n",
      "0 : 29\n",
      "0 : 30\n",
      "0 : 31\n",
      "0 : 32\n",
      "0 : 33\n",
      "0 : 34\n",
      "0 : 35\n",
      "0 : 36\n",
      "0 : 37\n",
      "0 : 38\n",
      "0 : 39\n",
      "0 : 40\n",
      "0 : 41\n",
      "0 : 42\n",
      "0 : 43\n",
      "0 : 44\n",
      "0 : 45\n",
      "0 : 46\n",
      "0 : 47\n",
      "0 : 48\n",
      "0 : 49\n",
      "0 : 50\n",
      "0 : 51\n",
      "0 : 52\n",
      "0 : 53\n",
      "0 : 54\n",
      "0 : 55\n",
      "0 : 56\n",
      "0 : 57\n",
      "0 : 58\n",
      "0 : 59\n",
      "1 : 0\n",
      "1 : 1\n",
      "1 : 2\n",
      "1 : 3\n",
      "1 : 4\n",
      "1 : 5\n",
      "1 : 6\n",
      "1 : 7\n",
      "1 : 8\n",
      "1 : 9\n",
      "1 : 10\n",
      "1 : 11\n",
      "1 : 12\n",
      "1 : 13\n",
      "1 : 14\n",
      "1 : 15\n",
      "1 : 16\n",
      "1 : 17\n",
      "1 : 18\n",
      "1 : 19\n",
      "1 : 20\n",
      "1 : 21\n",
      "1 : 22\n",
      "1 : 23\n",
      "1 : 24\n",
      "1 : 25\n",
      "1 : 26\n",
      "1 : 27\n",
      "1 : 28\n",
      "1 : 29\n",
      "1 : 30\n",
      "1 : 31\n",
      "1 : 32\n",
      "1 : 33\n",
      "1 : 34\n",
      "1 : 35\n",
      "1 : 36\n",
      "1 : 37\n",
      "1 : 38\n",
      "1 : 39\n",
      "1 : 40\n",
      "1 : 41\n",
      "1 : 42\n",
      "1 : 43\n",
      "1 : 44\n",
      "1 : 45\n",
      "1 : 46\n",
      "1 : 47\n",
      "1 : 48\n",
      "1 : 49\n",
      "1 : 50\n",
      "1 : 51\n",
      "1 : 52\n",
      "1 : 53\n",
      "1 : 54\n",
      "1 : 55\n",
      "1 : 56\n",
      "1 : 57\n",
      "1 : 58\n",
      "1 : 59\n"
     ]
    }
   ],
   "source": [
    "for minutes in range(2):\n",
    "    for seconds in range(60):\n",
    "        print(minutes, ':', seconds)"
   ]
  },
  {
   "cell_type": "code",
   "execution_count": 14,
   "metadata": {},
   "outputs": [
    {
     "name": "stdout",
     "output_type": "stream",
     "text": [
      "* * * * * * * * * * \n",
      "* * * * * * * * * * \n",
      "* * * * * * * * * * \n",
      "* * * * * * * * * * \n",
      "* * * * * * * * * * \n"
     ]
    }
   ],
   "source": [
    "for row in range (5):\n",
    "    for column in range (10):\n",
    "        print('* ', end = '')\n",
    "    print()\n",
    "\n",
    "# why do we need to have the end = '' part?\n",
    "# what does the print() statement do in this loop?"
   ]
  },
  {
   "cell_type": "code",
   "execution_count": 30,
   "metadata": {},
   "outputs": [
    {
     "name": "stdout",
     "output_type": "stream",
     "text": [
      "* * * * * * * * * * \n",
      "* * * * * * * * * * \n",
      "* * * * * * * * * * \n",
      "* * * * * * * * * * \n",
      "* * * * * * * * * * \n"
     ]
    }
   ],
   "source": [
    "for row in range (5):\n",
    "    for column in range (10):\n",
    "        print('* ', end = '')\n",
    "    print()"
   ]
  },
  {
   "cell_type": "code",
   "execution_count": 26,
   "metadata": {},
   "outputs": [
    {
     "name": "stdout",
     "output_type": "stream",
     "text": [
      "* \n",
      "* * \n",
      "* * * \n",
      "* * * * \n",
      "* * * * * \n",
      "* * * * * * \n",
      "* * * * * * * \n",
      "* * * * * * * * \n"
     ]
    }
   ],
   "source": [
    "for r in range(8):\n",
    "    for c in range(r + 1):\n",
    "        print('* ', end = '')\n",
    "    print()"
   ]
  },
  {
   "cell_type": "code",
   "execution_count": 40,
   "metadata": {},
   "outputs": [
    {
     "name": "stdout",
     "output_type": "stream",
     "text": [
      "* * * * * * * \n",
      "* * * * * * \n",
      "* * * * * \n",
      "* * * * \n",
      "* * * \n",
      "* * \n",
      "* \n",
      "\n"
     ]
    }
   ],
   "source": [
    "for r in range(8, 0 , -1): \n",
    "    for a in range(r - 1): \n",
    "        print(\"* \", end = '')\n",
    "    print()"
   ]
  },
  {
   "cell_type": "markdown",
   "metadata": {},
   "source": [
    "### Assignment 4.1\n",
    "1. Budget Analysis. Write a program that asks the user to enter the amount that he/she has budgeted for a month.\n",
    "- A loop should then prompt the user to enter each of his or her expenses for the month and keep a running total.\n",
    "- When the loop finishes, the program should display the amount and the percentage that the user is over or under budget, using if statement. (e.g. You exceeded your budget by 400 dollars (20 percent)).\n",
    "\n",
    "2. Modify the Budget Analysis program in #1 so that\n",
    "\n",
    "- when the user enters a value for the budget or for the expense amounts, that's not a positive number, the program will display a message saying he/she needs to enter a positive number.\n",
    "- the output at the end needs to be displayed with $ or % sign, 2 decimal places, and a thousand separator where applicable.\n",
    "\n",
    "3. Tuition Increase. Write a program that asks the user for the current year, the current tuition for a full-time student, and the tuition increase rate for each year in the next 5 years (the same rate is used for all 5 years. e.g., 3% increase rate for each year for the next 5 years). The program should then display the 5 projected tuition amounts for the next 5 years.\n",
    "\n",
    "4. Modify the Tuition Increase program in #3 so that:\n",
    "\n",
    "- the user's input for the tuition increase rate has to be a positive number, and has to be entered in fractions (e.g., the user needs to enter 0.03 if the increase rate is 3%)\n",
    "- the user's input for the current tuition has to be a positive number\n",
    "- the output would be similar to below (hint: you can use \\t in your print statement for creating extra spaces between the year number and the tuition amount (\\t = 4 spaces or 1 tab)).\n",
    "- Also the tuition amounts need to have $ sign, 2 decimal places, and a thousand separator.\n",
    "\n",
    "Year | Tuition\n",
    "-----|--------\n",
    "202_ | \\$\\____\n",
    "202_ | \\$\\____\n",
    "202_ | \\$\\____\n",
    "202_ | \\$\\____\n",
    "202_ | \\$\\____\n",
    "\n",
    "\n",
    "5. Do a quick search for an exercise activity of your choosing (e.g., running, biking, swimming, etc.) and how many calories it burns per minute for an average person. \n",
    "\n",
    "- Write a program that displays the number of calories burned after 10, 15, 20, 25, and 30 minutes.  \n",
    "- The program should then also ask the user how many calories he/she wants to burn, and then display how many minutes the user needs to exercise to achieve that goal.\n"
   ]
  },
  {
   "cell_type": "markdown",
   "metadata": {},
   "source": [
    "### Assignment 4.2\n",
    "3. Write a program that uses nested loops to draw this pattern: (complete in pairs)\n",
    "\n",
    "        * * * * * * *\n",
    "        * * * * * *\n",
    "        * * * * *\n",
    "        * * * *\n",
    "        * * *\n",
    "        * *\n",
    "        *\n",
    "        \n",
    "\n",
    "4. Write a program that predicts the approximate size of a population of organisms. The application should allow the user to enter the starting number of organisms, the average daily population increase (as a percentage), and the number of days the organisms will be left to multiply. You need to include user input validation for all the values that the user needs to enter.\n",
    "\n",
    "    For example, assume the user enters the following values:\n",
    "\n",
    "    Starting number of organisms: 2\n",
    "\n",
    "    Average daily increase: 30%\n",
    "\n",
    "    Number of days to multiply: 3\n",
    "    \n",
    "    The program should display the following table of data in this case:\n",
    "\n",
    "    Day Approximate\tPopulation Estimate\n",
    "    \n",
    "| Day Approximate | Population Estimate |\n",
    "|-------------------------|----------------------------|\n",
    "|    1|  2|\n",
    "|    2|  2.6|\n",
    "|3| 3.38|\n",
    "\n",
    "\n",
    "5. Sleep Debt\n",
    "A “sleep debt” represents the difference between a person’s desirable and actual amount of sleep. Write a program that prompts the user to enter how many hours they slept each day over a period of seven days. Using 8 hours per day as the desirable amount of sleep, determine their sleep debt by calculating the total hours of sleep they got over the seven-day period and subtracting that from the total hours of sleep they should have gotten. If the user does not have a sleep debt, display a message expressing your jealousy."
   ]
  }
 ],
 "metadata": {
  "kernelspec": {
   "display_name": "Python 3",
   "language": "python",
   "name": "python3"
  },
  "language_info": {
   "codemirror_mode": {
    "name": "ipython",
    "version": 3
   },
   "file_extension": ".py",
   "mimetype": "text/x-python",
   "name": "python",
   "nbconvert_exporter": "python",
   "pygments_lexer": "ipython3",
   "version": "3.8.8"
  }
 },
 "nbformat": 4,
 "nbformat_minor": 4
}
