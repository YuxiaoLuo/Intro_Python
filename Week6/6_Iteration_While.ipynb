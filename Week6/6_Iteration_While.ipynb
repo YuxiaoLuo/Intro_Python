{
 "cells": [
  {
   "cell_type": "markdown",
   "metadata": {},
   "source": [
    "# Week 6: Iteration/Repetition Structure"
   ]
  },
  {
   "cell_type": "markdown",
   "metadata": {},
   "source": [
    "Concept: A repetition structure causes a statement or set of statements to execute\n",
    "repeatedly."
   ]
  },
  {
   "cell_type": "markdown",
   "metadata": {},
   "source": [
    "## Multiple Assignment"
   ]
  },
  {
   "cell_type": "code",
   "execution_count": 4,
   "metadata": {
    "scrolled": true
   },
   "outputs": [
    {
     "name": "stdout",
     "output_type": "stream",
     "text": [
      "3\n",
      "6\n",
      "8\n",
      "12\n"
     ]
    }
   ],
   "source": [
    "dollars = 3\n",
    "print(dollars)\n",
    "dollars = 6\n",
    "print(dollars)\n",
    "dollars = 8\n",
    "print(dollars)\n",
    "dollars = 12\n",
    "print(dollars)"
   ]
  },
  {
   "cell_type": "markdown",
   "metadata": {},
   "source": [
    "As you can see, this code is one long sequence structure containing a lot of duplicated code.\n",
    "\n",
    "There are several disadvantages to this approach, including the following:\n",
    "\n",
    "- The duplicated code makes the program large.\n",
    "- Writing a long sequence of statements can be time consuming.\n",
    "- If part of the duplicated code has to be corrected or changed, then the correction or change has to be done many times."
   ]
  },
  {
   "cell_type": "markdown",
   "metadata": {},
   "source": [
    "### Review\n",
    "Assignment vs. Equality Comparison in Python"
   ]
  },
  {
   "cell_type": "markdown",
   "metadata": {},
   "source": [
    "### Updating Variables"
   ]
  },
  {
   "cell_type": "code",
   "execution_count": null,
   "metadata": {},
   "outputs": [],
   "source": [
    "x = x + 1"
   ]
  },
  {
   "cell_type": "code",
   "execution_count": null,
   "metadata": {},
   "outputs": [],
   "source": [
    "x = 0\n",
    "x = x + 1"
   ]
  },
  {
   "cell_type": "code",
   "execution_count": 6,
   "metadata": {},
   "outputs": [
    {
     "name": "stdout",
     "output_type": "stream",
     "text": [
      "0\n",
      "1\n"
     ]
    }
   ],
   "source": [
    "x = 0\n",
    "print(x)\n",
    "x += 1 ## same as x = x + 1\n",
    "print(x)"
   ]
  },
  {
   "cell_type": "code",
   "execution_count": 7,
   "metadata": {},
   "outputs": [
    {
     "name": "stdout",
     "output_type": "stream",
     "text": [
      "3\n",
      "1\n"
     ]
    }
   ],
   "source": [
    "x = 3\n",
    "print(x)\n",
    "x -= 2\n",
    "print(x)\n",
    "#x *=\n",
    "#x /="
   ]
  },
  {
   "cell_type": "markdown",
   "metadata": {},
   "source": [
    "- Initialize, then Update\n",
    "- Increment\n",
    "- Decrement"
   ]
  },
  {
   "cell_type": "markdown",
   "metadata": {},
   "source": [
    "## Condition-Controlled and Count-Controlled Loops\n",
    "\n",
    "- `While`: A condition-controlled loop uses a true/false condition to control the number of times that it repeats.\n",
    "\n",
    "- `For`: A count-controlled loop repeats a specific number of times."
   ]
  },
  {
   "cell_type": "markdown",
   "metadata": {},
   "source": [
    "### The `while` Statement\n",
    "- condition controlled loop\n",
    "- evaluates a true/false condition to control the number of times it repeats\n",
    "\n",
    "        while condition:\n",
    "            statement\n",
    "            statement\n",
    "            statement\n",
    "            etc.\n",
    "\n",
    "The while loop gets its name from the way it works: while a condition is true, do some\n",
    "task. The loop has two parts: \n",
    "1. a condition that is tested for a true or false value, and\n",
    "2. a statement or set of statements that is repeated as long as the condition is true.\n",
    "\n",
    "<br><br>\n",
    "<center><img src=\"data/while.jpg\" ...></center>\n",
    "<center>Figure.1 While Loop Logic</center>"
   ]
  },
  {
   "cell_type": "code",
   "execution_count": 5,
   "metadata": {},
   "outputs": [
    {
     "name": "stdout",
     "output_type": "stream",
     "text": [
      "Count Down from 3 begins\n",
      "3\n",
      "2\n",
      "1\n",
      "Done!\n"
     ]
    }
   ],
   "source": [
    "# Count Down program\n",
    "n = 3\n",
    "print('Count Down from', n, 'begins') \n",
    "while n > 0: \n",
    "    print(n) \n",
    "    n = n - 1 \n",
    "print('Done!')"
   ]
  },
  {
   "cell_type": "markdown",
   "metadata": {},
   "source": [
    "#### Flow of Execution\n",
    "        1. n is assigned with 3 as value\n",
    "        2. the sentence \"count down from 3 ....\" is printed\n",
    "        3. while loop begins, as long as n is > 0, n is printed, then decreased by 1\n",
    "        4. value of n is printed, first as 3, then becomes 2, n is printed as 2, then n becomes 1, gets printed as 1, then n is 0\n",
    "        5. program exits loop\n",
    "        6. 'Done!' is printed\n",
    " - When does this loop end?\n",
    "- What makes the loop end?\n"
   ]
  },
  {
   "cell_type": "markdown",
   "metadata": {},
   "source": [
    "### The while Loop Is a Pretest Loop\n",
    "The while loop is known as a pretest loop, which means it tests its condition before performing\n",
    "an iteration. Because the test is done at the beginning of the loop, you usually have\n",
    "to perform some steps prior to the loop to make sure that the loop executes at least once.\n",
    "\n",
    "This is an important characteristic of the while loop: it will\n",
    "never execute if its condition is false to start with. In some programs, this is exactly what\n",
    "you want. The following In the Spotlight section gives an example.\n",
    "In"
   ]
  },
  {
   "cell_type": "markdown",
   "metadata": {},
   "source": [
    "#### Example 1: Commission Calculation \n",
    "Suppose you have been asked to write a program that calculates a 10 percent sales\n",
    "commission for several salespeople."
   ]
  },
  {
   "cell_type": "code",
   "execution_count": 7,
   "metadata": {
    "scrolled": false
   },
   "outputs": [
    {
     "name": "stdout",
     "output_type": "stream",
     "text": [
      "Enter the amount of sales: 12312\n",
      "Enter the commission rate: 2\n",
      "The commission is $24,624.00\n",
      "Do you want to calculate another commission (Enter y for yes): y\n",
      "Enter the amount of sales: 123\n",
      "Enter the commission rate: 123\n",
      "The commission is $15,129.00\n",
      "Do you want to calculate another commission (Enter y for yes): n\n",
      "Program Ended.\n"
     ]
    }
   ],
   "source": [
    "# Commission Program:\n",
    "\n",
    "keep_going = 'y'\n",
    "#stop = 'stop'\n",
    "#while stop != 'stop': \n",
    "while keep_going == 'y':\n",
    "    # Get a salesperson's sales and commission rate.\n",
    "    sales = float(input('Enter the amount of sales: '))\n",
    "    comm_rate = float(input('Enter the commission rate: '))\n",
    "\n",
    "    # Calculate the commission.\n",
    "    commission = sales * comm_rate\n",
    "\n",
    "    # Display the commission.\n",
    "    print('The commission is $', \\\n",
    "    format(commission, ',.2f'), sep = '')\n",
    "\n",
    "    # See if the user wants to do another one.\n",
    "    keep_going = input('Do you want to calculate another ' + \\\n",
    "                   'commission (Enter y for yes): ')\n",
    "    #stop = input('Enter \"stop\" if you want to end the program')\n",
    "print(\"Program Ended.\")"
   ]
  },
  {
   "cell_type": "markdown",
   "metadata": {},
   "source": [
    "#### Example 2: Process in Chemical Lab\n",
    "\n",
    "A project currently underway at Chemical Labs, Inc. requires that a substance be continually\n",
    "heated in a vat. A technician must check the substance’s temperature every **15** minutes.\n",
    "If the substance’s temperature does not exceed **102.5** degrees Celsius, then the technician\n",
    "does nothing. However, if the temperature is greater than 102.5 degrees Celsius, the technician\n",
    "must turn down the vat’s thermostat, wait 5 minutes, and check the temperature again.\n",
    "The technician repeats these steps until the temperature does not exceed 102.5 degrees\n",
    "Celsius. The director of engineering has asked you to write a program that guides the technician\n",
    "through this process."
   ]
  },
  {
   "cell_type": "markdown",
   "metadata": {},
   "source": [
    "Here is the algorithm:\n",
    "1. Get the substance’s temperature.\n",
    "2. Repeat the following steps as long as the temperature is greater than 102.5 degrees Celsius:\n",
    "\n",
    "    - Tell the technician to turn down the thermostat, wait 5 minutes, and check the\n",
    "temperature again.\n",
    "    - Get the substance’s temperature.\n",
    "    \n",
    "3. After the loop finishes, tell the technician that the temperature is acceptable and to\n",
    "check it again in 15 minutes.\n",
    "\n",
    "After reviewing this algorithm, you realize that steps 2(a) and 2(b) should not be performed\n",
    "if the test condition (temperature is greater than 102.5) is false to begin with. The while\n",
    "loop will work well in this situation, because it will not execute even once if its condition is\n",
    "false. Program 4-2 shows the code for the program."
   ]
  },
  {
   "cell_type": "code",
   "execution_count": 16,
   "metadata": {},
   "outputs": [
    {
     "name": "stdout",
     "output_type": "stream",
     "text": [
      "Enter the substance's Celsius temperature: 105\n",
      "The temperature is too high.\n",
      "Turn the thermostat down and wait\n",
      "5 minutes. Then take the temperature\n",
      "again and enter it.\n",
      "Enter the new Celsius temperature: 102\n",
      "The temperature is acceptable.\n",
      "Check it again in 15 minutes\n"
     ]
    }
   ],
   "source": [
    "# Check a substance's temperature\n",
    "\n",
    "# Named constant to present the maximum tempature\n",
    "MAX_TEMP = 102.5\n",
    "\n",
    "# Get the substance's temperature \n",
    "temperature = float(input(\"Enter the substance's Celsius temperature: \"))\n",
    "\n",
    "# As long as necessary, instruct the user to \n",
    "# adjust the thermostat \n",
    "\n",
    "while temperature > MAX_TEMP: \n",
    "    print('The temperature is too high.')\n",
    "    print('Turn the thermostat down and wait')\n",
    "    print('5 minutes. Then take the temperature')\n",
    "    print('again and enter it.')\n",
    "    temperature = float(input('Enter the new Celsius temperature: '))\n",
    "\n",
    "# remind the user to check temperature again in 15 minutes \n",
    "print('The temperature is acceptable.')\n",
    "print('Check it again in 15 minutes')\n"
   ]
  },
  {
   "cell_type": "markdown",
   "metadata": {},
   "source": [
    "### Infinite Loop\n",
    "In all but rare cases, loops must contain within themselves a way to terminate. \n",
    "- When there is nothing inside a loop that changes a condition so that it becomes eventually false\n",
    "- If a loop does not have a way of stopping, it is called an infinite loop.\n",
    "- An infinite loop continues to repeat until the program is interrupted.\n",
    "- Infinite loops usually occur when the programmer forgets to write code inside the loop that makes the test condition false.\n",
    "\n",
    "In most circumstances, you should avoid writing infinite loops."
   ]
  },
  {
   "cell_type": "code",
   "execution_count": null,
   "metadata": {},
   "outputs": [],
   "source": [
    "# is there something wrong with this code?\n",
    "\n",
    "repeat = int(input('Enter how many times you want \"Hello World\" to be printed'))\n",
    "while repeat > 0:\n",
    "    print('Hello World')"
   ]
  },
  {
   "cell_type": "markdown",
   "metadata": {},
   "source": [
    "## More in `while` loop "
   ]
  },
  {
   "cell_type": "code",
   "execution_count": 9,
   "metadata": {},
   "outputs": [
    {
     "name": "stdout",
     "output_type": "stream",
     "text": [
      "2\n"
     ]
    }
   ],
   "source": [
    "# Sequence program\n",
    "# does this program terminate for all positive values of n?\n",
    "n = 2\n",
    "while n != 1:\n",
    "    print(n),\n",
    "    if n%2 == 0: # if n is even\n",
    "        n = n/2\n",
    "    else: # if n is odd\n",
    "        n = n*3+1"
   ]
  },
  {
   "cell_type": "code",
   "execution_count": 10,
   "metadata": {},
   "outputs": [
    {
     "name": "stdout",
     "output_type": "stream",
     "text": [
      "Enter a number, type \"done\" in lowercase if you want to stop.2\n",
      "2\n",
      "Enter a number, type \"done\" in lowercase if you want to stop.2\n",
      "2\n",
      "Enter a number, type \"done\" in lowercase if you want to stop.done\n",
      "done\n",
      "Done!\n"
     ]
    }
   ],
   "source": [
    "val = 0\n",
    "while val != 'done':\n",
    "    val = input('Enter a number, type \"done\" in lowercase if you want to stop.')\n",
    "    print(val)\n",
    "print('Done!')"
   ]
  },
  {
   "cell_type": "code",
   "execution_count": 4,
   "metadata": {},
   "outputs": [
    {
     "name": "stdin",
     "output_type": "stream",
     "text": [
      "enter a number. Type \"done\" in lowercase when you want to stop. 7\n"
     ]
    },
    {
     "name": "stdout",
     "output_type": "stream",
     "text": [
      "7\n"
     ]
    },
    {
     "name": "stdin",
     "output_type": "stream",
     "text": [
      "enter a number. Type \"done\" in lowercase when you want to stop. 9\n"
     ]
    },
    {
     "name": "stdout",
     "output_type": "stream",
     "text": [
      "9\n"
     ]
    },
    {
     "name": "stdin",
     "output_type": "stream",
     "text": [
      "enter a number. Type \"done\" in lowercase when you want to stop. 5\n"
     ]
    },
    {
     "name": "stdout",
     "output_type": "stream",
     "text": [
      "5\n"
     ]
    },
    {
     "name": "stdin",
     "output_type": "stream",
     "text": [
      "enter a number. Type \"done\" in lowercase when you want to stop. test\n"
     ]
    },
    {
     "name": "stdout",
     "output_type": "stream",
     "text": [
      "test\n"
     ]
    },
    {
     "name": "stdin",
     "output_type": "stream",
     "text": [
      "enter a number. Type \"done\" in lowercase when you want to stop. done\n"
     ]
    },
    {
     "name": "stdout",
     "output_type": "stream",
     "text": [
      "Done!\n"
     ]
    }
   ],
   "source": [
    "# Break:\n",
    "while True:\n",
    "    val = input('enter a number. Type \"done\" in lowercase when you want to stop.')\n",
    "    if val == 'done':\n",
    "        break\n",
    "    print(val)\n",
    "print('Done!')"
   ]
  },
  {
   "cell_type": "markdown",
   "metadata": {},
   "source": [
    "### Augmented Assignment Operators\n",
    "\n",
    "**Augmented assignment** (or compound assignment) is the name given to certain assignment operators in certain programming languages (especially those derived from C). An augmented assignment is generally used to replace a statement where an operator takes a variable as one of its arguments and then assigns the result back to the same variable. \n",
    "\n",
    "Such type of operators are known as augmented because their functionality is extended or augmented to two operations at the same time i.e. we're adding as well as assigning.\n",
    "\n",
    "**List of Augmented Assignment Operators in Python**\n",
    "\n",
    "     +=\n",
    "     -=\n",
    "     *=\n",
    "     /=\n",
    "     %=\n",
    "     \n",
    "     total += number\n",
    "     balance -= withdrawal"
   ]
  },
  {
   "cell_type": "code",
   "execution_count": 54,
   "metadata": {},
   "outputs": [],
   "source": [
    "# Rewrite the following statements using augmented assignment operators:\n",
    "#a) quantity = quantity + 1\n",
    "#b) days_left = days_left − 5 \n",
    "#c) price = price * 10\n",
    "#d) price = price / 2\n",
    "\n"
   ]
  },
  {
   "cell_type": "code",
   "execution_count": 21,
   "metadata": {
    "scrolled": true
   },
   "outputs": [
    {
     "name": "stdout",
     "output_type": "stream",
     "text": [
      "Please enter a number: 1\n",
      "Please enter another number: 2\n",
      "Please enter another number: 3\n",
      "Please enter another number: 4\n",
      "Please enter another number: 5\n",
      "Please enter another number: 6\n",
      "Please enter another number: 7\n",
      "Please enter another number: 8\n",
      "Please enter another number: 9\n",
      "Please enter another number: 10\n",
      "Total of these ten numbers is: 54.0\n"
     ]
    }
   ],
   "source": [
    "# Write a loop that asks the user to enter a number. \n",
    "# It should repeat the process for 10 times, and keep a running total of the 10 numbers entered.\n",
    "# It should display at the end the sum of the 10 numbers.\n"
   ]
  },
  {
   "cell_type": "code",
   "execution_count": null,
   "metadata": {},
   "outputs": [],
   "source": [
    "# solution\n",
    "\n",
    "\n",
    "number = float(input(\"Please enter a number: \"))\n",
    "iteration = 0\n",
    "sum_10 = 0\n",
    "\n",
    "while iteration < 9:\n",
    "    number = float(input(\"Please enter another number: \"))\n",
    "    iteration += 1 # iteration = interation + 1\n",
    "    sum_10 += number # sum_10 = sum_10 + number\n",
    "\n",
    "print(f\"Total of these ten numbers is: {sum_10}\")"
   ]
  },
  {
   "cell_type": "markdown",
   "metadata": {},
   "source": [
    "### Sentinels\n",
    "#### Input Validation Loop\n",
    "- Modify the Commission Program, so that the commission rate that user enters has to be in fractions format (0.2, 0.3, not 20 or 30, for example)\n",
    "- Write a program that accepts two numbers, one as the numerator, one as the denominator by the user. It should check if the denominator is zero. \n",
    "    - If not, it should divide them and then print their division. \n",
    "    - If the denominator is zero, it should prompt the user “Division is not possible, please enter a non-zero value for the denominator”.\n",
    "\n"
   ]
  },
  {
   "cell_type": "code",
   "execution_count": null,
   "metadata": {},
   "outputs": [],
   "source": [
    "keep_going = 'y'\n",
    "#stop = 'stop'\n",
    "#while stop != 'stop': \n",
    "while keep_going == 'y':\n",
    "# Get a salesperson's sales and commission rate.\n",
    "    sales = float(input('Enter the amount of sales: '))\n",
    "    comm_rate = float(input('Enter the commission rate: ')) \n",
    "\n",
    "# Calculate the commission.\n",
    "    commission = sales * comm_rate\n",
    "\n",
    "# Display the commission.\n",
    "    print('The commission is $', \\\n",
    "    format(commission, ',.2f'), sep = '')\n",
    "\n",
    "# See if the user wants to do another one.\n",
    "    keep_going = input('Do you want to calculate another ' + \\\n",
    "                   'commission (Enter y for yes): ')\n",
    "    #stop = input('Enter \"stop\" if you want to end the program')\n",
    "print(\"Program Ended.\")"
   ]
  },
  {
   "cell_type": "code",
   "execution_count": 27,
   "metadata": {},
   "outputs": [
    {
     "name": "stdin",
     "output_type": "stream",
     "text": [
      "input number (numerator):  6\n",
      "input number (denominator) :  3\n"
     ]
    },
    {
     "name": "stdout",
     "output_type": "stream",
     "text": [
      "2.0\n"
     ]
    }
   ],
   "source": [
    "numerator = float(input(\"input number (numerator): \"))\n",
    "denominator = float(input(\"input number (denominator) : \"))\n",
    "while denominator == 0:\n",
    "    denominator = float(input(\"Division is not possible, please enter a nonzero value for the denominator\"))\n",
    "print('Division result =', numerator/denominator)"
   ]
  },
  {
   "cell_type": "markdown",
   "metadata": {},
   "source": [
    "### Exercise 1\n",
    "1. Budget Analysis. Write a program that asks the user to enter the amount that he/she has budgeted for a month.\n",
    "- A loop should then prompt the user to enter each of his or her expenses for the month and keep a running total.\n",
    "- When the loop finishes, the program should display the amount and the percentage that the user is over or under budget, using if statement. (e.g. You exceeded your budget by 400 dollars (20 percent)).\n",
    "\n",
    "2. Modify the Budget Analysis program in #1 so that\n",
    "\n",
    "- when the user enters a value for the budget or for the expense amounts, that's not a positive number, the program will display a message saying he/she needs to enter a positive number.\n",
    "- the output at the end needs to be displayed with $ or % sign, 2 decimal places, and a thousand separator where applicable.\n",
    "\n",
    "3. Tuition Increase. Write a program that asks the user for the current year, the current tuition for a full-time student, and the tuition increase rate for each year in the next 5 years (the same rate is used for all 5 years. e.g., 3% increase rate for each year for the next 5 years). The program should then display the 5 projected tuition amounts for the next 5 years.\n",
    "\n",
    "4. Modify the Tuition Increase program in #3 so that:\n",
    "\n",
    "- the user's input for the tuition increase rate has to be a positive number, and has to be entered in fractions (e.g., the user needs to enter 0.03 if the increase rate is 3%)\n",
    "- the user's input for the current tuition has to be a positive number\n",
    "- the output would be similar to below (hint: you can use \\t in your print statement for creating extra spaces between the year number and the tuition amount (\\t = 4 spaces or 1 tab)).\n",
    "- Also the tuition amounts need to have $ sign, 2 decimal places, and a thousand separator.\n",
    "\n",
    "Year | Tuition\n",
    "-----|--------\n",
    "202_ | \\$\\____\n",
    "202_ | \\$\\____\n",
    "202_ | \\$\\____\n",
    "202_ | \\$\\____\n",
    "202_ | \\$\\____\n",
    "\n",
    "\n",
    "5. Do a quick search for an exercise activity of your choosing (e.g., running, biking, swimming, etc.) and how many calories it burns per minute for an average person. \n",
    "\n",
    "- Write a program that displays the number of calories burned after 10, 15, 20, 25, and 30 minutes.  \n",
    "- The program should then also ask the user how many calories he/she wants to burn, and then display how many minutes the user needs to exercise to achieve that goal.\n"
   ]
  },
  {
   "cell_type": "markdown",
   "metadata": {},
   "source": [
    "## Weekly Assignment & Quizzes\n",
    "\n",
    "### Assignment 6 (Due date: Mar 18th)\n",
    "\n",
    "HW 6 (While Loops) has been posted on Bb. Please follow the instruction and submit it on time. \n",
    "\n",
    "### Codelab Quizzes (Due date: Mar 18th)\n",
    "\n",
    "Section `Loops`: \n",
    "\n",
    " - while loop\n",
    " - input testing loops\n"
   ]
  }
 ],
 "metadata": {
  "kernelspec": {
   "display_name": "Python 3",
   "language": "python",
   "name": "python3"
  },
  "language_info": {
   "codemirror_mode": {
    "name": "ipython",
    "version": 3
   },
   "file_extension": ".py",
   "mimetype": "text/x-python",
   "name": "python",
   "nbconvert_exporter": "python",
   "pygments_lexer": "ipython3",
   "version": "3.9.5"
  }
 },
 "nbformat": 4,
 "nbformat_minor": 4
}
