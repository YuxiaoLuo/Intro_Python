{
 "cells": [
  {
   "cell_type": "markdown",
   "metadata": {},
   "source": [
    "# Week 6: Iteration/Repetition Structure"
   ]
  },
  {
   "cell_type": "markdown",
   "metadata": {},
   "source": [
    "Concept: A repetition structure causes a statement or set of statements to execute\n",
    "repeatedly."
   ]
  },
  {
   "cell_type": "markdown",
   "metadata": {},
   "source": [
    "## Multiple Assignment"
   ]
  },
  {
   "cell_type": "code",
   "execution_count": 4,
   "metadata": {
    "scrolled": true
   },
   "outputs": [
    {
     "name": "stdout",
     "output_type": "stream",
     "text": [
      "3\n",
      "6\n",
      "8\n",
      "12\n"
     ]
    }
   ],
   "source": [
    "dollars = 3\n",
    "print(dollars)\n",
    "dollars = 6\n",
    "print(dollars)\n",
    "dollars = 8\n",
    "print(dollars)\n",
    "dollars = 12\n",
    "print(dollars)"
   ]
  },
  {
   "cell_type": "markdown",
   "metadata": {},
   "source": [
    "As you can see, this code is one long sequence structure containing a lot of duplicated code.\n",
    "\n",
    "There are several disadvantages to this approach, including the following:\n",
    "\n",
    "- The duplicated code makes the program large.\n",
    "- Writing a long sequence of statements can be time consuming.\n",
    "- If part of the duplicated code has to be corrected or changed, then the correction or change has to be done many times."
   ]
  },
  {
   "cell_type": "markdown",
   "metadata": {},
   "source": [
    "### Review\n",
    "Assignment vs. Equality Comparison in Python"
   ]
  },
  {
   "cell_type": "markdown",
   "metadata": {},
   "source": [
    "### Updating Variables"
   ]
  },
  {
   "cell_type": "code",
   "execution_count": null,
   "metadata": {},
   "outputs": [],
   "source": [
    "x = x + 1"
   ]
  },
  {
   "cell_type": "code",
   "execution_count": 23,
   "metadata": {},
   "outputs": [
    {
     "name": "stdout",
     "output_type": "stream",
     "text": [
      "1\n"
     ]
    }
   ],
   "source": [
    "x = 0\n",
    "x = x + 1\n",
    "print(x)"
   ]
  },
  {
   "cell_type": "code",
   "execution_count": 24,
   "metadata": {},
   "outputs": [
    {
     "name": "stdout",
     "output_type": "stream",
     "text": [
      "0\n",
      "1\n"
     ]
    }
   ],
   "source": [
    "x = 0\n",
    "print(x)\n",
    "x += 1 ## same as x = x + 1\n",
    "# x *= 1 ## same as x = x * 1\n",
    "print(x)"
   ]
  },
  {
   "cell_type": "code",
   "execution_count": 26,
   "metadata": {},
   "outputs": [
    {
     "name": "stdout",
     "output_type": "stream",
     "text": [
      "3\n",
      "1\n"
     ]
    }
   ],
   "source": [
    "x = 3 \n",
    "print(x)\n",
    "x -= 2 ## same as x  = x - 2\n",
    "print(x)\n",
    "#x *=\n",
    "#x /="
   ]
  },
  {
   "cell_type": "markdown",
   "metadata": {},
   "source": [
    "- Initialize, then Update\n",
    "- Increment\n",
    "- Decrement"
   ]
  },
  {
   "cell_type": "markdown",
   "metadata": {},
   "source": [
    "## Condition-Controlled and Count-Controlled Loops\n",
    "\n",
    "- `While`: A condition-controlled loop uses a true/false condition to control the number of times that it repeats.\n",
    "\n",
    "- `For`: A count-controlled loop repeats a specific number of times."
   ]
  },
  {
   "cell_type": "markdown",
   "metadata": {},
   "source": [
    "### The `while` Statement\n",
    "- condition controlled loop\n",
    "- evaluates a true/false condition to control the number of times it repeats\n",
    "\n",
    "        while condition:\n",
    "            statement\n",
    "            statement\n",
    "            statement\n",
    "            etc.\n",
    "\n",
    "The while loop gets its name from the way it works: while a condition is true, do some\n",
    "task. The loop has two parts: \n",
    "1. a condition that is tested for a true or false value, and\n",
    "2. a statement or set of statements that is repeated as long as the condition is true.\n",
    "\n",
    "<br><br>\n",
    "<center><img src=\"data\\while.JPG\" ...></center>\n",
    "<center>Figure.1 While Loop Logic</center>"
   ]
  },
  {
   "cell_type": "code",
   "execution_count": 28,
   "metadata": {},
   "outputs": [
    {
     "name": "stdout",
     "output_type": "stream",
     "text": [
      "Please enter a number for countdown: 10\n",
      "Count Down from 10 begins\n",
      "10\n",
      "9\n",
      "8\n",
      "7\n",
      "6\n",
      "5\n",
      "4\n",
      "3\n",
      "2\n",
      "1\n",
      "Done!\n"
     ]
    }
   ],
   "source": [
    "# Count Down program\n",
    "n = int(input(\"Please enter a number for countdown: \"))\n",
    "print('Count Down from', n, 'begins')\n",
    "while n > 0: \n",
    "    print(n) \n",
    "    n = n - 1 \n",
    "print('Done!')"
   ]
  },
  {
   "cell_type": "markdown",
   "metadata": {},
   "source": [
    "#### Flow of Execution\n",
    "        1. n is assigned with 3 as value\n",
    "        2. the sentence \"count down from 3 ....\" is printed\n",
    "        3. while loop begins, as long as n is > 0, n is printed, then decreased by 1\n",
    "        4. value of n is printed, first as 3, then becomes 2, n is printed as 2, then n becomes 1, gets printed as 1, then n is 0\n",
    "        5. program exits loop\n",
    "        6. 'Done!' is printed\n",
    " - When does this loop end?\n",
    "- What makes the loop end?\n"
   ]
  },
  {
   "cell_type": "markdown",
   "metadata": {},
   "source": [
    "### The while Loop Is a Pretest Loop\n",
    "The while loop is known as a pretest loop, which means it tests its condition before performing\n",
    "an iteration. Because the test is done at the beginning of the loop, you usually have\n",
    "to perform some steps prior to the loop to make sure that the loop executes at least once.\n",
    "\n",
    "This is an important characteristic of the while loop: it will\n",
    "never execute if its condition is false to start with. In some programs, this is exactly what\n",
    "you want. The following In the Spotlight section gives an example.\n",
    "In"
   ]
  },
  {
   "cell_type": "markdown",
   "metadata": {},
   "source": [
    "#### Example 1: Commission Calculation \n",
    "Suppose you have been asked to write a program that calculates a 10 percent sales\n",
    "commission for several salespeople."
   ]
  },
  {
   "cell_type": "code",
   "execution_count": 31,
   "metadata": {
    "scrolled": false
   },
   "outputs": [
    {
     "name": "stdout",
     "output_type": "stream",
     "text": [
      "Enter the amount of sales: 21321\n",
      "Enter the commission rate: .1\n",
      "The commission is $2,132.10\n",
      "Do you want to calculate another commission (Enter y for yes): y\n",
      "Enter the amount of sales: 897823\n",
      "Enter the commission rate: .1\n",
      "The commission is $89,782.30\n",
      "Do you want to calculate another commission (Enter y for yes): y\n",
      "Enter the amount of sales: 213213\n",
      "Enter the commission rate: .1\n",
      "The commission is $21,321.30\n",
      "Do you want to calculate another commission (Enter y for yes): j\n",
      "Program Ended.\n"
     ]
    }
   ],
   "source": [
    "# Commission Program:\n",
    "\n",
    "keep_going = 'y'\n",
    "#stop = 'stop'\n",
    "#while stop != 'stop': \n",
    "while keep_going == 'y':\n",
    "    # Get a salesperson's sales and commission rate.\n",
    "    sales = float(input('Enter the amount of sales: '))\n",
    "    comm_rate = float(input('Enter the commission rate: '))\n",
    "\n",
    "    # Calculate the commission.\n",
    "    commission = sales * comm_rate\n",
    "\n",
    "    # Display the commission.\n",
    "    print('The commission is $', \\\n",
    "    format(commission, ',.2f'), sep = '')\n",
    "\n",
    "    # See if the user wants to do another one.\n",
    "    keep_going = input('Do you want to calculate another ' + \\\n",
    "                   'commission (Enter y or yes): ')\n",
    "    #stop = input('Enter \"stop\" if you want to end the program')\n",
    "print(\"Program Ended.\")"
   ]
  },
  {
   "cell_type": "code",
   "execution_count": 33,
   "metadata": {},
   "outputs": [
    {
     "name": "stdout",
     "output_type": "stream",
     "text": [
      "Enter the amount of sales: 123213\n",
      "Enter the commission rate: .1\n",
      "The commission is $12,321.30\n",
      "Do you want to calculate another commission (Enter stop to stop): w\n",
      "Enter the amount of sales: 123\n",
      "Enter the commission rate: .1\n",
      "The commission is $12.30\n",
      "Do you want to calculate another commission (Enter stop to stop): 123\n",
      "Enter the amount of sales: 12321\n",
      "Enter the commission rate: .1\n",
      "The commission is $1,232.10\n",
      "Do you want to calculate another commission (Enter stop to stop): stop\n",
      "Program Ended.\n"
     ]
    }
   ],
   "source": [
    "# Commission Program:\n",
    "\n",
    "# use stop as the control variable for the condition\n",
    "stop = 'run'\n",
    "\n",
    "while stop != 'stop':\n",
    "    # Get a salesperson's sales and commission rate.\n",
    "    sales = float(input('Enter the amount of sales: '))\n",
    "    comm_rate = float(input('Enter the commission rate: '))\n",
    "\n",
    "    # Calculate the commission.\n",
    "    commission = sales * comm_rate\n",
    "\n",
    "    # Display the commission.\n",
    "    print('The commission is $', \\\n",
    "    format(commission, ',.2f'), sep = '')\n",
    "\n",
    "    # See if the user wants to do another one.\n",
    "    stop = input('Do you want to calculate another ' + \\\n",
    "                   'commission (Enter stop to stop): ')\n",
    "    #stop = input('Enter \"stop\" if you want to end the program')\n",
    "print(\"Program Ended.\")\n"
   ]
  },
  {
   "cell_type": "markdown",
   "metadata": {},
   "source": [
    "#### Example 2: Process in Chemical Lab\n",
    "\n",
    "A project currently underway at Chemical Labs, Inc. requires that a substance be continually\n",
    "heated in a vat. A technician must check the substance’s temperature every **15** minutes.\n",
    "If the substance’s temperature does not exceed **102.5** degrees Celsius, then the technician\n",
    "does nothing. However, if the temperature is greater than 102.5 degrees Celsius, the technician\n",
    "must turn down the vat’s thermostat, wait 5 minutes, and check the temperature again.\n",
    "The technician repeats these steps until the temperature does not exceed 102.5 degrees\n",
    "Celsius. The director of engineering has asked you to write a program that guides the technician\n",
    "through this process."
   ]
  },
  {
   "cell_type": "markdown",
   "metadata": {},
   "source": [
    "Here is the algorithm:\n",
    "1. Get the substance’s temperature.\n",
    "2. Repeat the following steps as long as the temperature is greater than 102.5 degrees Celsius:\n",
    "\n",
    "    - Tell the technician to turn down the thermostat, wait 5 minutes, and check the\n",
    "temperature again.\n",
    "    - Get the substance’s temperature.\n",
    "    \n",
    "3. After the loop finishes, tell the technician that the temperature is acceptable and to\n",
    "check it again in 15 minutes.\n",
    "\n",
    "After reviewing this algorithm, you realize that steps 2(a) and 2(b) should not be performed\n",
    "if the test condition (temperature is greater than 102.5) is false to begin with. The while\n",
    "loop will work well in this situation, because it will not execute even once if its condition is\n",
    "false. Program 4-2 shows the code for the program."
   ]
  },
  {
   "cell_type": "code",
   "execution_count": 34,
   "metadata": {},
   "outputs": [
    {
     "name": "stdout",
     "output_type": "stream",
     "text": [
      "Enter the substance's Celsius temperature: 150\n",
      "The temperature is too high.\n",
      "Turn the thermostat down and wait\n",
      "5 minutes. Then take the temperature\n",
      "again and enter it.\n",
      "Enter the new Celsius temperature: 105\n",
      "The temperature is too high.\n",
      "Turn the thermostat down and wait\n",
      "5 minutes. Then take the temperature\n",
      "again and enter it.\n",
      "Enter the new Celsius temperature: 100\n",
      "The temperature is acceptable.\n",
      "Check it again in 15 minutes\n"
     ]
    }
   ],
   "source": [
    "# Check a substance's temperature\n",
    "\n",
    "# Named constant to present the maximum tempature\n",
    "MAX_TEMP = 102.5\n",
    "\n",
    "# Get the substance's temperature \n",
    "temperature = float(input(\"Enter the substance's Celsius temperature: \"))\n",
    "\n",
    "# As long as necessary, instruct the user to \n",
    "# adjust the thermostat \n",
    "\n",
    "while temperature > MAX_TEMP: \n",
    "    print('The temperature is too high.')\n",
    "    print('Turn the thermostat down and wait')\n",
    "    print('5 minutes. Then take the temperature')\n",
    "    print('again and enter it.')\n",
    "    temperature = float(input('Enter the new Celsius temperature: '))\n",
    "\n",
    "# remind the user to check temperature again in 15 minutes \n",
    "print('The temperature is acceptable.')\n",
    "print('Check it again in 15 minutes')\n"
   ]
  },
  {
   "cell_type": "markdown",
   "metadata": {},
   "source": [
    "### Infinite Loop\n",
    "In all but rare cases, loops must contain within themselves a way to terminate. \n",
    "- When there is nothing inside a loop that changes a condition so that it becomes eventually false\n",
    "- If a loop does not have a way of stopping, it is called an infinite loop.\n",
    "- An infinite loop continues to repeat until the program is interrupted.\n",
    "- Infinite loops usually occur when the programmer forgets to write code inside the loop that makes the test condition false.\n",
    "\n",
    "In most circumstances, you should avoid writing infinite loops."
   ]
  },
  {
   "cell_type": "code",
   "execution_count": 37,
   "metadata": {
    "scrolled": true
   },
   "outputs": [
    {
     "name": "stdout",
     "output_type": "stream",
     "text": [
      "Enter how many times you want \"Hello World\" to be printed: 5\n",
      "Hello World\n",
      "Hello World\n",
      "Hello World\n",
      "Hello World\n",
      "Hello World\n"
     ]
    }
   ],
   "source": [
    "# is there something wrong with this code?\n",
    "repeat = int(input('Enter how many times you want \"Hello World\" to be printed: '))\n",
    "while repeat > 0:\n",
    "    print('Hello World')\n",
    "    # repeat -= 1 ## repeat = repeat - 1"
   ]
  },
  {
   "cell_type": "markdown",
   "metadata": {},
   "source": [
    "## More in `while` loop "
   ]
  },
  {
   "cell_type": "code",
   "execution_count": 45,
   "metadata": {},
   "outputs": [
    {
     "name": "stdout",
     "output_type": "stream",
     "text": [
      "7\n",
      "22\n",
      "11.0\n",
      "34.0\n",
      "17.0\n",
      "52.0\n",
      "26.0\n",
      "13.0\n",
      "40.0\n",
      "20.0\n",
      "10.0\n",
      "5.0\n",
      "16.0\n",
      "8.0\n",
      "4.0\n",
      "2.0\n"
     ]
    }
   ],
   "source": [
    "# Sequence program\n",
    "# does this program terminate for all positive values of n?\n",
    "n = 7\n",
    "while n != 1:\n",
    "    print(n),\n",
    "    if n%2 == 0: # if n is even\n",
    "        n = n/2\n",
    "    else: # if n is odd\n",
    "        n = n*3+1"
   ]
  },
  {
   "cell_type": "code",
   "execution_count": 1,
   "metadata": {},
   "outputs": [
    {
     "name": "stdout",
     "output_type": "stream",
     "text": [
      "Enter a number, type \"done\" in lowercase if you want to stop.123213\n",
      "123213\n",
      "Enter a number, type \"done\" in lowercase if you want to stop.lkjlkdsf\n",
      "lkjlkdsf\n",
      "Enter a number, type \"done\" in lowercase if you want to stop.123\n",
      "123\n",
      "Enter a number, type \"done\" in lowercase if you want to stop.123kjlksaf\n",
      "123kjlksaf\n",
      "Enter a number, type \"done\" in lowercase if you want to stop.done\n",
      "done\n",
      "Done!\n"
     ]
    }
   ],
   "source": [
    "# Program that's taking user's input as \n",
    "# a stop sign for the while loop\n",
    "val = 0\n",
    "while val != 'done':\n",
    "    val = input('Enter a number, type \"done\" in lowercase if you want to stop.')\n",
    "    print(val)\n",
    "print('Done!')"
   ]
  },
  {
   "cell_type": "markdown",
   "metadata": {},
   "source": [
    "### `break` statement\n",
    "- In Python, the break statement provides you with the opportunity to exit out of a **loop** when an external condition is triggered.\n",
    "\n",
    "- You’ll put the break statement within the block of code under your loop statement, usually after a conditional if statement."
   ]
  },
  {
   "cell_type": "code",
   "execution_count": 2,
   "metadata": {},
   "outputs": [
    {
     "name": "stdout",
     "output_type": "stream",
     "text": [
      "enter a number. Type \"done\" in lowercase when you want to stop.123\n",
      "123\n",
      "enter a number. Type \"done\" in lowercase when you want to stop.123\n",
      "123\n",
      "enter a number. Type \"done\" in lowercase when you want to stop.12\n",
      "12\n",
      "enter a number. Type \"done\" in lowercase when you want to stop.done\n",
      "Done!\n"
     ]
    }
   ],
   "source": [
    "# Break, a another way of stopping a loop or a function\n",
    "\n",
    "while True:\n",
    "    val = input('enter a number. Type \"done\" in lowercase when you want to stop.')\n",
    "    if val == 'done':\n",
    "        break\n",
    "    print(val)\n",
    "print('Done!')"
   ]
  },
  {
   "cell_type": "markdown",
   "metadata": {},
   "source": [
    "### Augmented Assignment Operators\n",
    "\n",
    "**Augmented assignment** (or compound assignment) is the name given to certain assignment operators in certain programming languages (especially those derived from C). An augmented assignment is generally used to replace a statement where an operator takes a variable as one of its arguments and then assigns the result back to the same variable. \n",
    "\n",
    "Such type of operators are known as augmented because their functionality is extended or augmented to two operations at the same time i.e. we're adding as well as assigning.\n",
    "\n",
    "**List of Augmented Assignment Operators in Python**\n",
    "\n",
    "     +=\n",
    "     -=\n",
    "     *=\n",
    "     /=\n",
    "     %=\n",
    "     \n",
    "     total += number\n",
    "     balance -= withdrawal"
   ]
  },
  {
   "cell_type": "code",
   "execution_count": 54,
   "metadata": {},
   "outputs": [],
   "source": [
    "# Rewrite the following statements using augmented assignment operators:\n",
    "#a) quantity = quantity + 1\n",
    "quantity += 1\n",
    "\n",
    "#b) days_left = days_left − 5 \n",
    "day_left -= 5\n",
    "\n",
    "#c) price = price * 10\n",
    "price *= 10\n",
    "\n",
    "#d) price = price / 2\n",
    "price /= 2\n",
    "\n",
    "#e) price = price / quantity\n",
    "price /= quantity "
   ]
  },
  {
   "cell_type": "code",
   "execution_count": 8,
   "metadata": {},
   "outputs": [
    {
     "name": "stdout",
     "output_type": "stream",
     "text": [
      "Please enter a number: 1\n",
      "Please enter a number: 2\n",
      "Please enter a number: 3\n",
      "Please enter a number: 4\n",
      "Please enter a number: 5\n",
      "Please enter a number: 6\n",
      "Please enter a number: 7\n",
      "Please enter a number: 8\n",
      "Please enter a number: 9\n",
      "Please enter a number: 10\n",
      "The total of these ten number is: 55\n"
     ]
    }
   ],
   "source": [
    "# Write a loop that asks the user to enter a number. \n",
    "# It should repeat the process for 10 times, and keep a running total of the 10 numbers entered.\n",
    "# It should display at the end the sum of the 10 numbers.\n",
    "\n",
    "iteration = 0 \n",
    "total = 0 \n",
    "\n",
    "while iteration < 10:\n",
    "    number =  input(\"Please enter a number: \")\n",
    "    if number == None:\n",
    "        print(\"Warnings:\")\n",
    "        number = float(input())\n",
    "    else:\n",
    "        iteration += 1\n",
    "        total += iteration\n",
    "    \n",
    "print(f\"The total of these ten number is: {total}\")"
   ]
  },
  {
   "cell_type": "code",
   "execution_count": null,
   "metadata": {},
   "outputs": [],
   "source": [
    "# solution\n",
    "\n",
    "\n",
    "number = float(input(\"Please enter a number: \"))\n",
    "iteration = 0\n",
    "sum_10 = 0\n",
    "\n",
    "while iteration < 9:\n",
    "    number = float(input(\"Please enter another number: \"))\n",
    "    iteration += 1 # iteration = interation + 1\n",
    "    sum_10 += number # sum_10 = sum_10 + number\n",
    "\n",
    "print(f\"Total of these ten numbers is: {sum_10}\")"
   ]
  },
  {
   "cell_type": "markdown",
   "metadata": {},
   "source": [
    "### Sentinels\n",
    "#### Input Validation Loop\n",
    "- Modify the Commission Program, so that the commission rate that user enters has to be in fractions format (0.2, 0.3, not 20 or 30, for example)\n",
    "- Write a program that accepts two numbers, one as the numerator, one as the denominator by the user. It should check if the denominator is zero. \n",
    "    - If not, it should divide them and then print their division. \n",
    "    - If the denominator is zero, it should prompt the user “Division is not possible, please enter a non-zero value for the denominator”.\n",
    "\n"
   ]
  },
  {
   "cell_type": "code",
   "execution_count": null,
   "metadata": {},
   "outputs": [],
   "source": [
    "keep_going = 'y'\n",
    "#stop = 'stop'\n",
    "#while stop != 'stop': \n",
    "while keep_going == 'y':\n",
    "# Get a salesperson's sales and commission rate.\n",
    "    sales = float(input('Enter the amount of sales: '))\n",
    "    comm_rate = float(input('Enter the commission rate: ')) \n",
    "\n",
    "# Calculate the commission.\n",
    "    commission = sales * comm_rate\n",
    "\n",
    "# Display the commission.\n",
    "    print('The commission is $', \\\n",
    "    format(commission, ',.2f'), sep = '')\n",
    "\n",
    "# See if the user wants to do another one.\n",
    "    keep_going = input('Do you want to calculate another ' + \\\n",
    "                   'commission (Enter y for yes): ')\n",
    "    #stop = input('Enter \"stop\" if you want to end the program')\n",
    "print(\"Program Ended.\")"
   ]
  },
  {
   "cell_type": "markdown",
   "metadata": {},
   "source": [
    "Examine the following program, do you think it works? "
   ]
  },
  {
   "cell_type": "code",
   "execution_count": 14,
   "metadata": {},
   "outputs": [
    {
     "name": "stdout",
     "output_type": "stream",
     "text": [
      "input number (numerator): 23\n",
      "input number (denominator) : 0\n",
      "Division is not possible, please enter a nonzero value for the denominator2\n",
      "Division result = 11.5\n"
     ]
    }
   ],
   "source": [
    "# input numerator and denominator\n",
    "numerator = float(input(\"input number (numerator): \"))\n",
    "denominator = float(input(\"input number (denominator) : \"))\n",
    "\n",
    "# if denominator is zero, asking for another nonzero input\n",
    "while denominator == 0:\n",
    "    denominator = float(input(\"Division is not possible, please enter a nonzero value for the denominator: \"))\n",
    "print('Division result =', numerator/denominator)"
   ]
  },
  {
   "cell_type": "markdown",
   "metadata": {},
   "source": [
    "### Exercise 1\n",
    "1. Budget Analysis. Write a program that asks the user to enter the amount that he/she has budgeted for a month.\n",
    "    - A loop should then prompt the user to enter each of his or her expenses for the month and keep a running total.\n",
    "    - When the loop finishes, the program should display the amount and the percentage that the user is over or under budget, using if statement. (e.g. You exceeded your budget by 400 dollars (20 percent)).\n",
    "\n",
    "2. Modify the Budget Analysis program in #1 so that\n",
    "\n",
    "    - when the user enters a value for the budget or for the expense amounts, that's not a positive number, the program will display a message saying he/she needs to enter a positive number.\n",
    "    - the output at the end needs to be displayed with $ or % sign, 2 decimal places, and a thousand separator where applicable.\n",
    "\n",
    "3. Tuition Increase. Write a program that asks the user for the current year, the current tuition for a full-time student, and the tuition increase rate for each year in the next 5 years (the same rate is used for all 5 years. e.g., 3% increase rate for each year for the next 5 years). The program should then display the 5 projected tuition amounts for the next 5 years.\n",
    "\n",
    "4. Modify the Tuition Increase program in #3 so that:\n",
    "\n",
    "    - the user's input for the tuition increase rate has to be a positive number, and has to be entered in fractions (e.g., the user needs to enter 0.03 if the increase rate is 3%)\n",
    "    - the user's input for the current tuition has to be a positive number\n",
    "    - the output would be similar to below (hint: you can use \\t in your print statement for creating extra spaces between the year number and the tuition amount (\\t = 4 spaces or 1 tab)).\n",
    "    - Also the tuition amounts need to have $ sign, 2 decimal places, and a thousand separator.\n",
    "\n",
    "Year | Tuition\n",
    "-----|--------\n",
    "202_ | \\$\\____\n",
    "202_ | \\$\\____\n",
    "202_ | \\$\\____\n",
    "202_ | \\$\\____\n",
    "202_ | \\$\\____\n",
    "\n",
    "\n",
    "5. Do a quick search for an exercise activity of your choosing (e.g., running, biking, swimming, etc.) and how many calories it burns per minute for an average person. \n",
    "\n",
    "- Write a program that displays the number of calories burned after 10, 15, 20, 25, and 30 minutes.  \n",
    "- The program should then also ask the user how many calories he/she wants to burn, and then display how many minutes the user needs to exercise to achieve that goal.\n"
   ]
  },
  {
   "cell_type": "markdown",
   "metadata": {},
   "source": [
    "### Solutions for Exercise 1"
   ]
  },
  {
   "cell_type": "code",
   "execution_count": null,
   "metadata": {},
   "outputs": [],
   "source": [
    "# 1. \n",
    "\n",
    "# define control var for while loop\n",
    "expense_more = 'Y'\n",
    "\n",
    "# step 1: initiate budget and expense \n",
    "budget = float(input(\"Please enter your budget for the month: \"))\n",
    "expense = float(input(\"Please enter your expenses for the month: \"))\n",
    "\n",
    "# step 2: collecting multiple expenses through the month\n",
    "while expense_more == 'Y' or expense_more == 'y':\n",
    "    expense_more = input(\"Do you have another expense to record? Enter 'Y' for yes. \")\n",
    "    if expense_more == 'Y' or expense_more == 'y':\n",
    "        expense += float(input(\"Please enter another expenses for the month: \"))\n",
    "\n",
    "# step 3: evaluation (compare budget and expense)\n",
    "if budget >= expense:\n",
    "    diff = budget - expense\n",
    "    print(f\"The expense is less then the budget for $ {diff:.2f}, {diff/budget:.2f}%.\")\n",
    "    # print(\"The expense is less then the budget for $\", format(diff,\".2f\"), \",\", format(diff/budget,'.2%'), \".\")\n",
    "else:\n",
    "    diff = expense - budget\n",
    "    print(f\"The expense is greater then the budget for $ {diff:.2f}, {diff/expense:.2f}%.\")"
   ]
  },
  {
   "cell_type": "code",
   "execution_count": 2,
   "metadata": {},
   "outputs": [
    {
     "name": "stdout",
     "output_type": "stream",
     "text": [
      "Please enter your budget for the month: 123213\n",
      "Please enter your expenses for the month: -23\n",
      "Please enter a positive number for the expense: -1231\n",
      "Please enter a positive number for the expense: -123213\n",
      "Please enter a positive number for the expense: -2138213\n",
      "Please enter a positive number for the expense: -123\n",
      "Please enter a positive number for the expense: 0\n",
      "Do you have another expense to record? Enter 'Y' for yes. \n",
      "The expense is less then the budget for $ 123,213.00, 100.00%.\n"
     ]
    }
   ],
   "source": [
    "# 2.\n",
    "# while loop control variable\n",
    "\n",
    "# step 1. initiate the control variable, budget, first expense\n",
    "expense_more = 'Y'\n",
    "budget = float(input(\"Please enter your budget for the month: \"))\n",
    "expense = float(input(\"Please enter your expenses for the month: \"))\n",
    "\n",
    "# checking positive input\n",
    "while budget < 0:\n",
    "    budget = float(input(\"Please enter a positive number for the budget: \"))\n",
    "while expense <0:\n",
    "    expense = float(input(\"Please enter a positive number for the expense: \"))\n",
    "    \n",
    "# Step 2. asking for user input if more expense exists\n",
    "while expense_more == 'Y' or expense_more == 'y':\n",
    "    expense_more = input(\"Do you have another expense to record? Enter 'Y' for yes. \")\n",
    "    if expense_more == 'Y' or expense_more == 'y':\n",
    "        expense_another = float(input(\"Please enter another expense for the month: \"))\n",
    "        while expense_another < 0:\n",
    "            expense_another = float(input(\"Please enter a positive expense: \"))\n",
    "        expense += expense_another\n",
    "\n",
    "# Step 3. calculate difference of budget and expense\n",
    "if budget >= expense:\n",
    "    diff = budget - expense\n",
    "    print(f\"The expense is less then the budget for $ {diff:,.2f}, {diff/budget:.2%}.\")\n",
    "else:\n",
    "    diff = expense - budget\n",
    "    print(f\"The expense is greater then the budget for $ {diff:,.2f}, {diff/expense:.2%}.\")"
   ]
  },
  {
   "cell_type": "code",
   "execution_count": 4,
   "metadata": {},
   "outputs": [
    {
     "name": "stdout",
     "output_type": "stream",
     "text": [
      "Please enter the current year: 2022\n",
      "Please enter the current tuition for a full-time student: $900\n",
      "Please enter the tuition increase rate for each year in the next 5 years (eg., 3%): 3%\n",
      "The tuition for 2022 is $900.00.\n",
      "The tuition for 2023 is $927.00.\n",
      "The tuition for 2024 is $954.81.\n",
      "The tuition for 2025 is $983.45.\n",
      "The tuition for 2026 is $1,012.96.\n"
     ]
    }
   ],
   "source": [
    "# 3.\n",
    "# user input variables\n",
    "current_year = int(input(\"Please enter the current year: \"))\n",
    "current_tui = float(input(\"Please enter the current tuition for a full-time student: $\"))\n",
    "tui_rate = input(\"Please enter the tuition increase rate for each year in the next 5 years (eg., 3%): \")\n",
    "\n",
    "# convert rate from string to a number\n",
    "tui_increase = float(tui_rate.strip('%'))/100\n",
    "\n",
    "# loop control var\n",
    "iteration = 0 \n",
    "while iteration < 5: \n",
    "    print(f\"The tuition for {current_year + iteration} is ${current_tui:,.2f}.\")\n",
    "    current_tui = current_tui * (1 + tui_increase)\n",
    "    iteration += 1"
   ]
  },
  {
   "cell_type": "code",
   "execution_count": 6,
   "metadata": {},
   "outputs": [
    {
     "name": "stdout",
     "output_type": "stream",
     "text": [
      "Please enter the current year: 2022\n",
      "Please enter the current tuition for a full-time student: $900\n",
      "Please enter the tuition increase rate for each year in the next 5 years in fractions (eg., 0.03): 0.03\n",
      "Year \t Tuition\n",
      "---------------\n",
      "2022 \t $900.00\n",
      "2023 \t $927.00\n",
      "2024 \t $954.81\n",
      "2025 \t $983.45\n",
      "2026 \t $1,012.96\n"
     ]
    }
   ],
   "source": [
    "# 4.\n",
    "# user input variables\n",
    "current_year = int(input(\"Please enter the current year: \"))\n",
    "current_tui = float(input(\"Please enter the current tuition for a full-time student: $\"))\n",
    "tui_rate = float(input(\"Please enter the tuition increase rate for each year in the next 5 \" \\\n",
    "                       + \"years in fractions (eg., 0.03): \"))\n",
    "\n",
    "# input check: positive number\n",
    "while tui_rate < 0:\n",
    "    tui_rate = float(input(\"Please enter a positive tuition increase rate (eg., 0.03): \"))\n",
    "\n",
    "# loop control \n",
    "iteration = 0 \n",
    "\n",
    "print(\"Year \\t Tuition\")\n",
    "print(\"---------------\")\n",
    "while iteration < 5: \n",
    "    print(f\"{current_year + iteration} \\t ${current_tui:,.2f}\")\n",
    "    current_tui = current_tui * (1 + tui_rate)\n",
    "    iteration += 1"
   ]
  },
  {
   "cell_type": "markdown",
   "metadata": {},
   "source": [
    "## Weekly Assignment & Quizzes\n",
    "\n",
    "### Assignment 6 (Due date: Mar 18th)\n",
    "\n",
    "HW 6 (While Loops) has been posted on Bb. Please follow the instruction and submit it on time. \n",
    "\n",
    "### Codelab Quizzes (Due date: Mar 18th)\n",
    "\n",
    "Section `Loops`: \n",
    "\n",
    " - while loop\n",
    " - input testing loops\n"
   ]
  }
 ],
 "metadata": {
  "kernelspec": {
   "display_name": "Python 3",
   "language": "python",
   "name": "python3"
  },
  "language_info": {
   "codemirror_mode": {
    "name": "ipython",
    "version": 3
   },
   "file_extension": ".py",
   "mimetype": "text/x-python",
   "name": "python",
   "nbconvert_exporter": "python",
   "pygments_lexer": "ipython3",
   "version": "3.9.5"
  }
 },
 "nbformat": 4,
 "nbformat_minor": 4
}
