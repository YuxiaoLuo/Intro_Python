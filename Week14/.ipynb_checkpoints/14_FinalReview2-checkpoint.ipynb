{
 "cells": [
  {
   "cell_type": "markdown",
   "metadata": {},
   "source": [
    "## Final Review, Part II\n",
    "\n",
    "1. Combine following dictionaries to create a new one.\n",
    "       \n",
    "        dct1 = {1: 10, 2: 20}\n",
    "    \n",
    "        dct2 = {3: 30, 4: 40}\n",
    "    \n",
    "        dct3 = {5: 50, 6: 60}\n",
    "Expected Result : {1: 10, 2: 20, 3: 30, 4: 40, 5: 50, 6: 60}\n",
    "\n",
    "2. Combine the following dictionaries to create a new one. If a key repeats across the three dictionaries, you have to add the values corresponding to the key.\n",
    "\n",
    "        dic1 = {1: 10, 2: 20}\n",
    "\n",
    "        dic2 = {1: 20, 3: 30, 4: 40}\n",
    "\n",
    "        dic3 = {5: 50, 6: 60, 3: 60}\n",
    "\n",
    "Expected result: {1: 30, 2: 20, 3: 90, 4: 40, 5: 50, 6: 60}\n",
    "\n",
    "3. Print the unique values in this dictionary. \n",
    "\n",
    "        {“VI” : ”S001″, “IX” : “S002”, “X” : “S001”, “IV” : “S005”, “VII” : ”S005″, “V” : ”S009″, ”VIII” : ”S007″}"
   ]
  },
  {
   "cell_type": "code",
   "execution_count": 21,
   "metadata": {},
   "outputs": [
    {
     "data": {
      "text/plain": [
       "{1: 10, 2: 20, 3: 30, 4: 40, 5: 50, 6: 60}"
      ]
     },
     "execution_count": 21,
     "metadata": {},
     "output_type": "execute_result"
    }
   ],
   "source": [
    "## 1.\n",
    "dct1 = {1: 10, 2: 20}\n",
    "dct2 = {3: 30, 4: 40}\n",
    "dct3 = {5: 50, 6: 60}\n",
    "\n",
    "dct4 = {}\n",
    "for dct in [dct1, dct2, dct3]:\n",
    "    dct4.update(dct)\n",
    "dct4"
   ]
  },
  {
   "cell_type": "code",
   "execution_count": 25,
   "metadata": {},
   "outputs": [
    {
     "data": {
      "text/plain": [
       "{1: 30, 2: 20, 3: 90, 4: 40, 5: 50, 6: 60}"
      ]
     },
     "execution_count": 25,
     "metadata": {},
     "output_type": "execute_result"
    }
   ],
   "source": [
    "## 2.\n",
    "dic1 = {1: 10, 2: 20}\n",
    "dic2 = {1: 20, 3: 30, 4: 40}\n",
    "dic3 = {5: 50, 6: 60, 3: 60}\n",
    "\n",
    "def updateDict(dct1, dct2):\n",
    "    for k in dct2:\n",
    "        if k in dct1:\n",
    "            dct1[k] += dct2[k]\n",
    "        else:\n",
    "            dct1[k] = dct2[k]\n",
    "    return dct1\n",
    "\n",
    "dic4 = {}\n",
    "for dic in [dic1, dic2, dic3]:\n",
    "    dic4 = updateDict(dic4, dic)\n",
    "dic4"
   ]
  },
  {
   "cell_type": "code",
   "execution_count": 2,
   "metadata": {},
   "outputs": [
    {
     "name": "stdout",
     "output_type": "stream",
     "text": [
      "S001\n",
      "S002\n",
      "S001\n",
      "S005\n",
      "S005\n",
      "S009\n",
      "S007\n",
      "['S001', 'S002', 'S005', 'S009', 'S007']\n"
     ]
    }
   ],
   "source": [
    "## 3.\n",
    "dct = {\"VI\" : \"S001\", \"IX\" : \"S002\", \"X\" : \"S001\", \"IV\" : \"S005\", \n",
    "       \"VII\" : \"S005\", \"V\" : \"S009\", \"VIII\" : \"S007\"}\n",
    "\n",
    "lst = []\n",
    "for v in dct.values(): \n",
    "    if v not in lst:\n",
    "        lst.append(v)\n",
    "print(lst)"
   ]
  },
  {
   "cell_type": "code",
   "execution_count": null,
   "metadata": {},
   "outputs": [],
   "source": [
    "## 3 part 2.\n",
    "dct = {\"VI\" : \"S001\", \"IX\" : \"S002\", \"X\" : \"S001\", \"IV\" : \"S005\", \n",
    "       \"VII\" : \"S005\", \"V\" : \"S009\", \"VIII\" : \"S007\"}\n",
    "\n",
    "lst = []\n",
    "for k, v in dct.items(): \n",
    "    if v not in lst:\n",
    "        lst.append(v)\n",
    "print(lst)"
   ]
  },
  {
   "cell_type": "code",
   "execution_count": 3,
   "metadata": {},
   "outputs": [
    {
     "name": "stdout",
     "output_type": "stream",
     "text": [
      "{'S001': ['VI', 'X'], 'S002': ['IX'], 'S005': ['IV', 'VII'], 'S009': ['V'], 'S007': ['VIII']}\n"
     ]
    }
   ],
   "source": [
    "inverse = dict()\n",
    "for k, v in dct.items(): \n",
    "    if v not in inverse: \n",
    "        inverse[v] = [k]\n",
    "        #print(v, inverse[v])\n",
    "    else:\n",
    "        inverse[v].append(k)\n",
    "        #print(v, inverse[v])\n",
    "print(inverse)"
   ]
  }
 ],
 "metadata": {
  "kernelspec": {
   "display_name": "Python 3",
   "language": "python",
   "name": "python3"
  },
  "language_info": {
   "codemirror_mode": {
    "name": "ipython",
    "version": 3
   },
   "file_extension": ".py",
   "mimetype": "text/x-python",
   "name": "python",
   "nbconvert_exporter": "python",
   "pygments_lexer": "ipython3",
   "version": "3.9.5"
  }
 },
 "nbformat": 4,
 "nbformat_minor": 4
}
