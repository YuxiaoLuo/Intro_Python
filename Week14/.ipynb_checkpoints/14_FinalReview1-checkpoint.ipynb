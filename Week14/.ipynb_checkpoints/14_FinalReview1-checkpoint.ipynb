{
 "cells": [
  {
   "cell_type": "markdown",
   "metadata": {},
   "source": [
    "## Review for Final, Part I\n",
    "1. What's the difference between void functions and value-returning functions?\n",
    "2. Discuss briefly the similarities and differences between two sequence data types: strings & lists.\n",
    "3. Discuss briefly the differences between the while vs. the for loop.\n",
    "4. Point out at least one mistake in the following code. How to fix the code if we want to add the element 'french press' to the list coffee_makers?\n",
    "\n",
    "        coffee_makers = ['aeropress', 'pour over', 'drip machine']\n",
    "        coffee_makers = coffee_makers.extend('french press')\n",
    "        print(coffee_makers)\n",
    "5. We have a list called t as follows:\n",
    "\n",
    "        t = ['a', 'z', 'b', 'c', 'd']\n",
    "\n",
    "If we want to delete the letter z from list t, what's the difference between the two methods: t.pop(1), del t[1]?\n",
    "\n",
    "\n",
    "6. We have a nested list as follows:<br>\n",
    "\n",
    "        movies1 = [['Black', 'Panther'],\n",
    "                   ['The', 'Favourite'], \n",
    "                   ['Mary', 'Poppins', 'Returns'],\n",
    "                   ['Solo:', 'A', 'Star', 'Wars', 'Story'],\n",
    "                   ['Mary', 'Queen', 'of', 'Scots'],\n",
    "                   ['Avengers:', 'Infinity', 'War'],\n",
    "                   ['Christopher', 'Robin']]\n",
    "\n",
    "Write code to join the elements inside each of the inner lists together, so that the output will look like this:<br>\n",
    "``['Black Panther','The Favourite','Mary Poppins Returns','Solo: A Star Wars Story','Mary Queen of Scots','Avengers: Infinity War','Christopher Robin']``"
   ]
  }
 ],
 "metadata": {
  "kernelspec": {
   "display_name": "Python 3",
   "language": "python",
   "name": "python3"
  },
  "language_info": {
   "codemirror_mode": {
    "name": "ipython",
    "version": 3
   },
   "file_extension": ".py",
   "mimetype": "text/x-python",
   "name": "python",
   "nbconvert_exporter": "python",
   "pygments_lexer": "ipython3",
   "version": "3.9.5"
  }
 },
 "nbformat": 4,
 "nbformat_minor": 4
}
