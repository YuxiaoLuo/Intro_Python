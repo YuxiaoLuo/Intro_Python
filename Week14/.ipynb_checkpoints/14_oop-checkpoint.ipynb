{
 "cells": [
  {
   "cell_type": "markdown",
   "metadata": {},
   "source": [
    "# Object Oriented Programming\n",
    "\n",
    "### Agenda\n",
    "- Procedural vs. Object-Oriented Programming\n",
    "- Classes\n",
    "- Instances\n",
    "- Techniques for designing classes"
   ]
  },
  {
   "cell_type": "markdown",
   "metadata": {},
   "source": [
    "## Procedural vs. Object-Oriented Programming\n",
    "\n",
    "There are two primary methods of developing program, one is procedural programing, the other is object oriented programming.\n",
    "\n",
    "### Procedural programming\n",
    "\n",
    "It is a method/way of writing software, which is centered on the procedures or actions that take place in a program. The earlist program and what you've written so far is procedural. Ex., you wrote functions that can perform certain tasks. \n",
    "\n",
    "- procedures\n",
    "    - functions: input, calculations, output\n",
    "- data separate from procedures\n",
    "    - issues? when program becomes larger and complex\n",
    "- programs we have worked with so far: procedural\n",
    "\n",
    "### Object oriented programming:\n",
    "\n",
    "OOP is centered on objects, which are created from datatypes containing data and functions. \n",
    "\n",
    "- objects: An object is a software entity that contains both data and procedures.\n",
    "    - attributes (data): data contained in an object is object's data attributes. Object's data attributes are variables that reference data.\n",
    "    - methods (procedures/functions): procedures that an object performs are methods, while the object's methods are function that operates on object's data attributes.\n",
    "- encapsulation\n",
    "    - data and code combined in a single object \n",
    "- data hiding\n",
    "    - from code outside the object\n",
    "    - only the object’s methods may directly access and make changes to the object’s data attributes\n",
    "- benefits of OOP\n",
    "    - prevents accidental data corruption\n",
    "    - changes to object's internal data attributes \n",
    "        - do not affect how outside code interacts with the object's methods\n",
    "    - object reusability"
   ]
  },
  {
   "cell_type": "markdown",
   "metadata": {},
   "source": [
    "### Classes\n",
    "Code to specify data attributes and methods for a particular type of object\n",
    "- \"blueprint\"\n",
    "- instances of a class\n",
    "    + objects created from a class\n",
    "    + think of class as an cookie cutter and objects are cookies"
   ]
  },
  {
   "cell_type": "code",
   "execution_count": 10,
   "metadata": {},
   "outputs": [
    {
     "name": "stdout",
     "output_type": "stream",
     "text": [
      "Heads is the side up when we started\n",
      "now tossing...\n",
      "Heads is the side up after the toss\n"
     ]
    }
   ],
   "source": [
    "# This is a Coin class\n",
    "\n",
    "# import random module to use randint() \n",
    "# to generate random number\n",
    "import random\n",
    "\n",
    "class Coin: \n",
    "    # uppcase intial is not required, it's convention\n",
    "    # distinguish class name from var names\n",
    "    \n",
    "    # __init__ method initializes the sideup data attribute with 'Heads'\n",
    "    def __init__(self):\n",
    "        self.sideUp = 'Heads'\n",
    "    \n",
    "    # The toss method generates a random number \n",
    "    # in the range of 0 through 1. If the number \n",
    "    # is 0, then sideup is set to 'Heads'\n",
    "    # Otherwise, sideup is set to 'Tails'\n",
    "    def toss(self):\n",
    "        if random.randint(0,1) == 0:\n",
    "            self.sideUp = 'Heads'\n",
    "        else:\n",
    "            self.sideUp = 'Tails'\n",
    "    \n",
    "    def get_sideUp(self):\n",
    "        return self.sideUp\n",
    "\n",
    "def main():\n",
    "    myCoin = Coin()\n",
    "    print(myCoin.get_sideUp(),'is the side up when we started')\n",
    "    print('now tossing...')   \n",
    "    myCoin.toss()\n",
    "    print(myCoin.get_sideUp(),'is the side up after the toss')\n",
    "    \n",
    "main()"
   ]
  },
  {
   "cell_type": "markdown",
   "metadata": {},
   "source": [
    "- There are 3 methods in the `Coin` class:\n",
    "    - The `__init__` method \n",
    "    - `toss` method \n",
    "    - `get_sideup` method\n",
    "    \n",
    "- Each method has a parameter variable named `self`:\n",
    "    - `def __init__(self):`\n",
    "    - `def toss(self):`\n",
    "    - `def get_sideup(self):`\n",
    "    \n",
    "- The `self` paramter is required in every method of a class. \n",
    "    - Let the method konws which object's data attributes it should operate on \n",
    "    - When a method is called, `self` paramter reference the specific object the method operates on\n",
    "    \n",
    "- `__init__` is called *initializer method*, which initializes the object's data attributes. Will be automatically executed when an instance of the class is created in memory. It's usually the first method inside a class definition.\n",
    "    - The self parameter must be present in a method\n",
    "    - You are not required to name it self, but it's storngly recommended to conform with standard practice\n",
    "    \n",
    "- `my_coin = Coin()`:\n",
    "    - An object is created in memory from the `Coin` class\n",
    "    - The `Coin` class's `__init__` method is executed, and the self parameter is automatically set to the object that was just created. \n",
    "    - That object's sideup attribute is assigned the string `Heads`."
   ]
  },
  {
   "cell_type": "markdown",
   "metadata": {},
   "source": [
    "### Hiding attributes\n",
    "As an object’s data attributes should be private, only the object’s methods can directly access them."
   ]
  },
  {
   "cell_type": "code",
   "execution_count": 17,
   "metadata": {},
   "outputs": [
    {
     "name": "stdout",
     "output_type": "stream",
     "text": [
      "Tails  is the side up when we start\n",
      "now tossing...\n",
      "My side  is the side up after the toss\n"
     ]
    }
   ],
   "source": [
    "import random\n",
    "\n",
    "# The Coin class simulates a coin \n",
    "# that can be flippd \n",
    "class Coin:\n",
    "    def __init__(self):\n",
    "        if random.randint(0,1) == 0:\n",
    "            self.sideUp = 'Heads'\n",
    "        else:\n",
    "            self.sideUp = 'Tails'\n",
    "    \n",
    "    def toss(self):\n",
    "        if random.randint(0,1) == 0:\n",
    "            self.sideUp = 'Heads'\n",
    "        else:\n",
    "            self.sideUp = 'Tails'\n",
    "    \n",
    "    def get_sideUp(self):\n",
    "        return self.sideUp\n",
    "    \n",
    "def main():\n",
    "    myCoin = Coin()\n",
    "    print(myCoin.get_sideUp(),' is the side up when we start')\n",
    "    print('now tossing...')   \n",
    "    myCoin.toss()\n",
    "    myCoin.sideUp = 'My side'\n",
    "    print(myCoin.sideUp,' is the side up after the toss')\n",
    "\n",
    "main()"
   ]
  },
  {
   "cell_type": "markdown",
   "metadata": {},
   "source": [
    "### Hiding attributes\n",
    "As an object’s data attributes should be private, only the object’s methods can directly access them. In Python, you can hide an attribute by starting its name with two underscore characters.\n",
    "- If we change the name of the sideup attribute to `__sideup`, then code outside the Coin class will not be able to access it. Program"
   ]
  },
  {
   "cell_type": "code",
   "execution_count": null,
   "metadata": {},
   "outputs": [],
   "source": [
    "import random\n",
    "\n",
    "# the coin class simulates a coin that can be flipped \n",
    "class Coin: \n",
    "    def __init__(self):\n",
    "        self.__sideup = 'Heads'\n",
    "    # The toss method generates a random number\n",
    "    # in the range of 0 through 1. If the number\n",
    "    # is 0, then sideup is set to 'Heads'.\n",
    "    # Otherwise, sideup is set to 'Tails'.\n",
    "\n",
    "    def toss(self):\n",
    "        if random.randint(0, 1) == 0:\n",
    "            self._ _sideup = 'Heads'\n",
    "        else:\n",
    "            self._ _sideup = 'Tails'\n",
    "\n",
    "    # The get_sideup method returns the value\n",
    "    # referenced by sideup.\n",
    "\n",
    "    def get_sideup(self):\n",
    "        return self._ _sideup\n",
    "\n",
    "    # The main function.\n",
    "def main():\n",
    "    # Create an object from the Coin class.\n",
    "    my_coin = Coin()\n",
    "\n",
    "    # Display the side of the coin that is facing up.\n",
    "    print('This side is up:', my_coin.get_sideup())\n",
    "\n",
    "    # Toss the coin.\n",
    "    print('I am going to toss the coin ten times:')\n",
    "\n",
    "    for count in range(10):\n",
    "        my_coin.toss()\n",
    "        print(my_coin.get_sideup())\n",
    "\n",
    "# Call the main function.\n",
    "if _ _name_ _ == '_ _main_ _':\n",
    "    main()\n",
    "        "
   ]
  },
  {
   "cell_type": "code",
   "execution_count": 21,
   "metadata": {},
   "outputs": [
    {
     "name": "stdout",
     "output_type": "stream",
     "text": [
      "Heads  is the side up\n",
      "now tossing...\n"
     ]
    },
    {
     "ename": "AttributeError",
     "evalue": "'Coin' object has no attribute '__sideUp'",
     "output_type": "error",
     "traceback": [
      "\u001b[1;31m---------------------------------------------------------------------------\u001b[0m",
      "\u001b[1;31mAttributeError\u001b[0m                            Traceback (most recent call last)",
      "\u001b[1;32m<ipython-input-21-248d6f4dbe5a>\u001b[0m in \u001b[0;36m<module>\u001b[1;34m\u001b[0m\n\u001b[0;32m     24\u001b[0m     \u001b[0mprint\u001b[0m\u001b[1;33m(\u001b[0m\u001b[0mmyCoin\u001b[0m\u001b[1;33m.\u001b[0m\u001b[0m__sideUp\u001b[0m\u001b[1;33m(\u001b[0m\u001b[1;33m)\u001b[0m\u001b[1;33m,\u001b[0m\u001b[1;34m' is the side up'\u001b[0m\u001b[1;33m)\u001b[0m\u001b[1;33m\u001b[0m\u001b[1;33m\u001b[0m\u001b[0m\n\u001b[0;32m     25\u001b[0m \u001b[1;33m\u001b[0m\u001b[0m\n\u001b[1;32m---> 26\u001b[1;33m \u001b[0mmain\u001b[0m\u001b[1;33m(\u001b[0m\u001b[1;33m)\u001b[0m\u001b[1;33m\u001b[0m\u001b[1;33m\u001b[0m\u001b[0m\n\u001b[0m",
      "\u001b[1;32m<ipython-input-21-248d6f4dbe5a>\u001b[0m in \u001b[0;36mmain\u001b[1;34m()\u001b[0m\n\u001b[0;32m     22\u001b[0m     \u001b[0mprint\u001b[0m\u001b[1;33m(\u001b[0m\u001b[1;34m'now tossing...'\u001b[0m\u001b[1;33m)\u001b[0m\u001b[1;33m\u001b[0m\u001b[1;33m\u001b[0m\u001b[0m\n\u001b[0;32m     23\u001b[0m     \u001b[0mmyCoin\u001b[0m\u001b[1;33m.\u001b[0m\u001b[0mtoss\u001b[0m\u001b[1;33m(\u001b[0m\u001b[1;33m)\u001b[0m\u001b[1;33m\u001b[0m\u001b[1;33m\u001b[0m\u001b[0m\n\u001b[1;32m---> 24\u001b[1;33m     \u001b[0mprint\u001b[0m\u001b[1;33m(\u001b[0m\u001b[0mmyCoin\u001b[0m\u001b[1;33m.\u001b[0m\u001b[0m__sideUp\u001b[0m\u001b[1;33m(\u001b[0m\u001b[1;33m)\u001b[0m\u001b[1;33m,\u001b[0m\u001b[1;34m' is the side up'\u001b[0m\u001b[1;33m)\u001b[0m\u001b[1;33m\u001b[0m\u001b[1;33m\u001b[0m\u001b[0m\n\u001b[0m\u001b[0;32m     25\u001b[0m \u001b[1;33m\u001b[0m\u001b[0m\n\u001b[0;32m     26\u001b[0m \u001b[0mmain\u001b[0m\u001b[1;33m(\u001b[0m\u001b[1;33m)\u001b[0m\u001b[1;33m\u001b[0m\u001b[1;33m\u001b[0m\u001b[0m\n",
      "\u001b[1;31mAttributeError\u001b[0m: 'Coin' object has no attribute '__sideUp'"
     ]
    }
   ],
   "source": [
    "import random\n",
    "\n",
    "class Coin:\n",
    "    def __init__(self):\n",
    "        if random.randint(0,1) == 0:\n",
    "            self.__sideUp = 'Heads'\n",
    "        else:\n",
    "            self.__sideUp = 'Tails'\n",
    "    \n",
    "    def toss(self):\n",
    "        if random.randint(0,1) == 0:\n",
    "            self.__sideUp = 'Heads'\n",
    "        else:\n",
    "            self.__sideUp = 'Tails'\n",
    "    \n",
    "    def get_sideUp(self):\n",
    "        return self.__sideUp\n",
    "    \n",
    "def main():\n",
    "    myCoin = Coin()\n",
    "    print(myCoin.get_sideUp(),' is the side up')\n",
    "    print('now tossing...')   \n",
    "    myCoin.toss()\n",
    "    print(myCoin.__sideUp(),' is the side up')\n",
    "\n",
    "main()"
   ]
  },
  {
   "cell_type": "code",
   "execution_count": 5,
   "metadata": {},
   "outputs": [
    {
     "name": "stdout",
     "output_type": "stream",
     "text": [
      "Heads  is the side up\n",
      "now tossing...\n",
      "<__main__.Coin object at 0x00000254EF2AE5F8>\n"
     ]
    }
   ],
   "source": [
    "import random\n",
    "\n",
    "class Coin:\n",
    "    def __init__(self):\n",
    "        if random.randint(0,1) == 0:\n",
    "            self.__sideUp = 'Heads'\n",
    "        else:\n",
    "            self.__sideUp = 'Tails'\n",
    "\n",
    "    \n",
    "    def toss(self):\n",
    "        if random.randint(0,1) == 0:\n",
    "            self.__sideUp = 'Heads'\n",
    "        else:\n",
    "            self.__sideUp = 'Tails'\n",
    "        \n",
    "\n",
    "    \n",
    "    def get_sideUp(self):\n",
    "        return self.__sideUp\n",
    "    \n",
    "    def __str__(self):\n",
    "        return 'The current state is: ' + self.__sideUp + ' is up now'\n",
    "    \n",
    "def main():\n",
    "    myCoin=Coin()\n",
    "    print(myCoin.get_sideUp(),' is the side up')\n",
    "    print('now tossing...')   \n",
    "    myCoin.toss()\n",
    "\n",
    "    print(myCoin)\n",
    "    \n",
    "main()"
   ]
  },
  {
   "cell_type": "code",
   "execution_count": 2,
   "metadata": {},
   "outputs": [
    {
     "name": "stdout",
     "output_type": "stream",
     "text": [
      "Enter make: Honda\n",
      "Enter model: Accord\n",
      "Enter year: 2011\n",
      "Would you like to add more? y\n",
      "Enter make: Toyota\n",
      "Enter model: Corolla\n",
      "Enter year: 2001\n",
      "Would you like to add more? y\n",
      "Enter make: Oldsmobile\n",
      "Enter model: Cutlass\n",
      "Enter year: 1999\n",
      "Would you like to add more? n\n"
     ]
    }
   ],
   "source": [
    "class Car:\n",
    "    def __init__(self, make, model, year):\n",
    "        self.__make = make\n",
    "        self.__model = model\n",
    "        self.__year = year\n",
    "        \n",
    "    def get_make(self):\n",
    "        return self.__make\n",
    "    \n",
    "    def get_model(self):\n",
    "        return self.__model\n",
    "    \n",
    "    def get_year(self):\n",
    "        return self.__year\n",
    "    \n",
    "    def set_make(self,make):\n",
    "        self.__make=make\n",
    "        \n",
    "    def set_model(self, model):\n",
    "        self.__model=model\n",
    "        \n",
    "    def set_year(self, year):\n",
    "        self.__year=year\n",
    "        \n",
    "    def __str__(self):\n",
    "        return 'make: ' + self.__make + '\\nmodel: ' + self.__model + '\\nyear: ' + self.__year\n",
    "\n",
    "import pickle \n",
    "\n",
    "def main():\n",
    "    choice = 'y'\n",
    "    dcCar = {}\n",
    "    carFile = open('Cars.dat','wb')\n",
    "    while choice == 'y':\n",
    "        make =input('Enter make: ')\n",
    "        model =input('Enter model: ')\n",
    "        year=input('Enter year: ')\n",
    "        myCar=Car(make,model,year)\n",
    "        dcCar[make]=myCar\n",
    "    \n",
    "        choice=input('Would you like to add more? ')\n",
    "    pickle.dump(dcCar,carFile)\n",
    "    carFile.close()\n",
    "    \n",
    "main()\n",
    "        "
   ]
  },
  {
   "cell_type": "code",
   "execution_count": 3,
   "metadata": {},
   "outputs": [
    {
     "name": "stdout",
     "output_type": "stream",
     "text": [
      "{'Honda': <__main__.Car object at 0x00000254EF2AE048>, 'Toyota': <__main__.Car object at 0x00000254EF2AE128>, 'Oldsmobile': <__main__.Car object at 0x00000254EF2AE1D0>}\n",
      "value -  make: Honda\n",
      "model: Accord\n",
      "year: 2011\n",
      "Make:\t Honda\n",
      "Model:\t Accord\n",
      "Year:\t 2011\n",
      "\n",
      "value -  make: Toyota\n",
      "model: Corolla\n",
      "year: 2001\n",
      "Make:\t Toyota\n",
      "Model:\t Corolla\n",
      "Year:\t 2001\n",
      "\n",
      "value -  make: Oldsmobile\n",
      "model: Cutlass\n",
      "year: 1999\n",
      "Make:\t Oldsmobile\n",
      "Model:\t Cutlass\n",
      "Year:\t 1999\n",
      "\n"
     ]
    }
   ],
   "source": [
    "def readCarFile():\n",
    "    fob = open('Cars.dat','rb')\n",
    "\n",
    "    dc = pickle.load(fob)\n",
    "    print(dc)\n",
    "    for key, value in dc.items():\n",
    "        print('value - ',value)\n",
    "        print('Make:\\t', value.get_make())\n",
    "        print('Model:\\t',value.get_model())\n",
    "        print('Year:\\t',value.get_year())\n",
    "        print()\n",
    "\n",
    "    fob.close()\n",
    "\n",
    "readCarFile()"
   ]
  },
  {
   "cell_type": "code",
   "execution_count": 4,
   "metadata": {},
   "outputs": [
    {
     "name": "stdout",
     "output_type": "stream",
     "text": [
      "Enter make to find: Honda\n",
      "Model:\t Accord\n",
      "Year:\t 2011\n"
     ]
    }
   ],
   "source": [
    "def getCarData():\n",
    "    \n",
    "    fob = open('Cars.dat','rb')\n",
    "    make = input('Enter make to find: ')\n",
    "    \n",
    "    dc = pickle.load(fob)\n",
    "    myCar = dc.get(make,0)\n",
    "    if isinstance(myCar,Car):\n",
    "        print('Model:\\t',myCar.get_model())\n",
    "        print('Year:\\t',myCar.get_year())\n",
    "    else:\n",
    "        print('Not found')\n",
    "    fob.close()\n",
    "\n",
    "getCarData()"
   ]
  },
  {
   "cell_type": "code",
   "execution_count": null,
   "metadata": {},
   "outputs": [],
   "source": [
    "%reset"
   ]
  },
  {
   "cell_type": "markdown",
   "metadata": {},
   "source": [
    "### OOP Exercises\n",
    "\n",
    "##### 1.1. \n",
    "\n",
    "Define and store in a module (``employee``) a class named ``Employee`` that holds data about an employee's **name**, **ID number**, **department**, and **job title**. Those data should be assigned to the following attributes of the Employee class: ``_ _name``, ``_ _idnum``, ``_ _department``, & ``_ _title``. \n",
    "\n",
    "<br>\n",
    "\n",
    "##### 1.2. \n",
    "Define the following methods for the Employee class:\n",
    "- An ``_ _init_ _`` method that accepts arguments for an employee's name, ID number, department, and job title\n",
    "- ``set_name``, ``set_idnum``, ``set_department``, & ``set_title`` methods, each of which **accepts** an argument for an employee's **name**, **ID number**, **department**, and **job title**. \n",
    "    - These methods let us to change the values of the ``_ _name``, ``_ _idnum``, ``_ _department``, & ``_ _title`` attributes after an object of the Employee class has been created, if needed.\n",
    "- ``get_name``, ``get_idnum``, ``get_department``, & ``get_title`` methods, each of which **returns** an employee's **name**, **ID number**, **department**, and **job title**. \n",
    "\n",
    "\n",
    "\n",
    "##### 1.3.\n",
    "\n",
    "Write a program that:\n",
    "\n",
    "    (1) first imports the employee module\n",
    "    (2) prompts the user to enter values for employees' names, ID numbers, department names, and job titles. \n",
    "    (3) creates instances of the Employee class based on the user's input\n",
    "    (4) the program needs to have a while loop that asks user whether to continue entering more employee data\n",
    "        - if the answer is 'y' then the user can keep entering values for employees' names, ID#, Dept, & Job Titles\n",
    "        - if the answer is different from 'y' then the program will stop asking for user input\n",
    "    (5) saves the created instances into a list\n",
    "    (6) uses a for loop to print out the attributes of all the Employee instances saved in the list\n",
    "\n",
    "You can use the table below for sample input to test the program\n",
    "\n",
    "| Name | ID Number | Department | Job Title |\n",
    "|----------|:--------------|:-----------------|:-------------|    \n",
    "| Susan Meyers | 47899 | Accounting | Vice President |\n",
    "| Mark Jones | 39119 | IT | Programmer |\n",
    "| Joy Rogers | 81774 | Manufacturing | Engineer |\n",
    "\n",
    "\n",
    "##### 1.4.\n",
    "\n",
    "Write another program that:\n",
    "- does the same things required by parts (1) - (4) in 1.3\n",
    "- but instead of saving the instances into a list, it should save them in a dictionary\n",
    "- asks user whether they want to: add new employee's data, change an existing employee's data, or look up an employee's data\n",
    "- adds to the dictionary new data or updates existing employees' data per the user's input\n",
    "- prints out all relevant data of an employee if user wishes to look up an employee"
   ]
  }
 ],
 "metadata": {
  "kernelspec": {
   "display_name": "Python 3",
   "language": "python",
   "name": "python3"
  },
  "language_info": {
   "codemirror_mode": {
    "name": "ipython",
    "version": 3
   },
   "file_extension": ".py",
   "mimetype": "text/x-python",
   "name": "python",
   "nbconvert_exporter": "python",
   "pygments_lexer": "ipython3",
   "version": "3.9.5"
  }
 },
 "nbformat": 4,
 "nbformat_minor": 4
}
