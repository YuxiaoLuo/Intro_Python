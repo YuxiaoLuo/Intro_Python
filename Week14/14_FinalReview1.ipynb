{
 "cells": [
  {
   "cell_type": "markdown",
   "metadata": {},
   "source": [
    "## Review for Final, Part I\n",
    "1. What's the difference between void functions and value-returning functions?\n",
    "2. Discuss briefly the similarities and differences between two sequence data types: strings & lists.\n",
    "3. Discuss briefly the differences between the while vs. the for loop.\n",
    "4. Point out at least one mistake in the following code. How to fix the code if we want to add the element 'french press' to the list coffee_makers?\n",
    "\n",
    "        coffee_makers = ['aeropress', 'pour over', 'drip machine']\n",
    "        coffee_makers = coffee_makers.extend('french press')\n",
    "        print(coffee_makers)\n",
    "5. We have a list called t as follows:\n",
    "\n",
    "        t = ['a', 'z', 'b', 'c', 'd']\n",
    "\n",
    "If we want to delete the letter z from list t, what's the difference between the two methods: t.pop(1), del t[1]?\n",
    "\n",
    "\n",
    "6. We have a nested list as follows:<br>\n",
    "\n",
    "        movies1 = [['Black', 'Panther'],\n",
    "                   ['The', 'Favourite'], \n",
    "                   ['Mary', 'Poppins', 'Returns'],\n",
    "                   ['Solo:', 'A', 'Star', 'Wars', 'Story'],\n",
    "                   ['Mary', 'Queen', 'of', 'Scots'],\n",
    "                   ['Avengers:', 'Infinity', 'War'],\n",
    "                   ['Christopher', 'Robin']]\n",
    "\n",
    "Write code to join the elements inside each of the inner lists together, so that the output will look like this:<br>\n",
    "``['Black Panther','The Favourite','Mary Poppins Returns','Solo: A Star Wars Story','Mary Queen of Scots','Avengers: Infinity War','Christopher Robin']``"
   ]
  },
  {
   "cell_type": "code",
   "execution_count": 25,
   "metadata": {},
   "outputs": [
    {
     "name": "stdout",
     "output_type": "stream",
     "text": [
      "['aeropress', 'pour over', 'drip machine', 'french press']\n"
     ]
    }
   ],
   "source": [
    "coffee_makers = ['aeropress', 'pour over', 'drip machine']\n",
    "\n",
    "coffee_makers.extend(['french press'])\n",
    "\n",
    "print(coffee_makers)"
   ]
  },
  {
   "cell_type": "code",
   "execution_count": 26,
   "metadata": {},
   "outputs": [
    {
     "name": "stdout",
     "output_type": "stream",
     "text": [
      "['a', 'b', 'c', 'd']\n"
     ]
    }
   ],
   "source": [
    "# create the list\n",
    "t = ['a', 'z', 'b', 'c', 'd']\n",
    "# display the deleted item first\n",
    "t.pop(1)\n",
    "print(t)"
   ]
  },
  {
   "cell_type": "code",
   "execution_count": 28,
   "metadata": {},
   "outputs": [
    {
     "name": "stdout",
     "output_type": "stream",
     "text": [
      "['a', 'b', 'c', 'd']\n"
     ]
    }
   ],
   "source": [
    "t = ['a', 'z', 'b', 'c', 'd']\n",
    "del t[1]\n",
    "print(t)"
   ]
  },
  {
   "cell_type": "code",
   "execution_count": 29,
   "metadata": {},
   "outputs": [
    {
     "name": "stdout",
     "output_type": "stream",
     "text": [
      "['Black Panther', 'The Favourite', 'Mary Poppins Returns', 'Solo: A Star Wars Story', 'Mary Queen of Scots', 'Avengers: Infinity War', 'Christopher Robin']\n"
     ]
    }
   ],
   "source": [
    "movies1 = [['Black', 'Panther'],\n",
    "            ['The', 'Favourite'], \n",
    "            ['Mary', 'Poppins', 'Returns'],\n",
    "            ['Solo:', 'A', 'Star', 'Wars', 'Story'],\n",
    "            ['Mary', 'Queen', 'of', 'Scots'],\n",
    "            ['Avengers:', 'Infinity', 'War'],\n",
    "            ['Christopher', 'Robin']]\n",
    "\n",
    "movies2 = [' '.join(item) for item in movies1]\n",
    "\n",
    "print(movies2)"
   ]
  },
  {
   "cell_type": "code",
   "execution_count": null,
   "metadata": {},
   "outputs": [],
   "source": [
    "movies1 = [['Black', 'Panther'],\n",
    "            ['The', 'Favourite'], \n",
    "            ['Mary', 'Poppins', 'Returns'],\n",
    "            ['Solo:', 'A', 'Star', 'Wars', 'Story'],\n",
    "            ['Mary', 'Queen', 'of', 'Scots'],\n",
    "            ['Avengers:', 'Infinity', 'War'],\n",
    "            ['Christopher', 'Robin']]\n",
    "\n",
    "movies2 = [elemtnfor element in elements for item in movies1]"
   ]
  }
 ],
 "metadata": {
  "kernelspec": {
   "display_name": "Python 3 (ipykernel)",
   "language": "python",
   "name": "python3"
  },
  "language_info": {
   "codemirror_mode": {
    "name": "ipython",
    "version": 3
   },
   "file_extension": ".py",
   "mimetype": "text/x-python",
   "name": "python",
   "nbconvert_exporter": "python",
   "pygments_lexer": "ipython3",
   "version": "3.11.1"
  }
 },
 "nbformat": 4,
 "nbformat_minor": 4
}
