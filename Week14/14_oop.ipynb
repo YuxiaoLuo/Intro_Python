{
 "cells": [
  {
   "cell_type": "markdown",
   "metadata": {},
   "source": [
    "# Object Oriented Programming\n",
    "\n",
    "### Agenda\n",
    "- Procedural vs. Object-Oriented Programming\n",
    "- Classes\n",
    "- Instances\n",
    "- Techniques for designing classes"
   ]
  },
  {
   "cell_type": "markdown",
   "metadata": {},
   "source": [
    "## Procedural vs. Object-Oriented Programming\n",
    "\n",
    "There are two primary methods of developing program, one is procedural programing, the other is object oriented programming.\n",
    "\n",
    "### Procedural programming\n",
    "\n",
    "It is a method/way of writing software, which is centered on the procedures or actions that take place in a program. The earlist program and what you've written so far is procedural. Ex., you wrote functions that can perform certain tasks. \n",
    "\n",
    "- procedures\n",
    "    - functions: input, calculations, output\n",
    "- data separate from procedures\n",
    "    - issues? when program becomes larger and complex\n",
    "- programs we have worked with so far: procedural\n",
    "\n",
    "### Object oriented programming:\n",
    "\n",
    "OOP is centered on objects, which are created from datatypes containing data and functions. \n",
    "\n",
    "- objects: An object is a software entity that contains both data and procedures.\n",
    "    - attributes (data): data contained in an object is object's data attributes. Object's data attributes are variables that reference data.\n",
    "    - methods (procedures/functions): procedures that an object performs are methods, while the object's methods are function that operates on object's data attributes.\n",
    "- encapsulation\n",
    "    - data and code combined in a single object \n",
    "- data hiding\n",
    "    - from code outside the object\n",
    "    - only the object’s methods may directly access and make changes to the object’s data attributes\n",
    "- benefits of OOP\n",
    "    - prevents accidental data corruption\n",
    "    - changes to object's internal data attributes \n",
    "        - do not affect how outside code interacts with the object's methods\n",
    "    - object reusability"
   ]
  },
  {
   "cell_type": "markdown",
   "metadata": {},
   "source": [
    "### Classes\n",
    "Code to specify data attributes and methods for a particular type of object\n",
    "- \"blueprint\"\n",
    "- instances of a class\n",
    "    + objects created from a class\n",
    "    + think of class as an cookie cutter and objects are cookies"
   ]
  },
  {
   "cell_type": "code",
   "execution_count": 27,
   "metadata": {},
   "outputs": [
    {
     "name": "stdout",
     "output_type": "stream",
     "text": [
      "Heads is the side up when we started\n",
      "now tossing...\n",
      "Tails is the side up after the toss\n"
     ]
    }
   ],
   "source": [
    "# This is a Coin class\n",
    "\n",
    "# import random module to use randint() \n",
    "# to generate random number\n",
    "import random\n",
    "\n",
    "class Coin: \n",
    "    # uppcase intial is not required, it's convention\n",
    "    # distinguish class name from var names\n",
    "    \n",
    "    # __init__ method initializes the sideup data attribute with 'Heads'\n",
    "    def __init__(self):\n",
    "        self.sideUp = 'Heads'\n",
    "    \n",
    "    # The toss method generates a random number \n",
    "    # in the range of 0 through 1. If the number \n",
    "    # is 0, then sideup is set to 'Heads'\n",
    "    # Otherwise, sideup is set to 'Tails'\n",
    "    def toss(self):\n",
    "        if random.randint(0,1) == 0:\n",
    "            self.sideUp = 'Heads'\n",
    "        else:\n",
    "            self.sideUp = 'Tails'\n",
    "    \n",
    "    def get_sideUp(self):\n",
    "        return self.sideUp\n",
    "\n",
    "def main():\n",
    "    myCoin = Coin()\n",
    "    print(myCoin.get_sideUp(),'is the side up when we started')\n",
    "    print('now tossing...')   \n",
    "    myCoin.toss()\n",
    "    print(myCoin.get_sideUp(),'is the side up after the toss')\n",
    "    \n",
    "main()"
   ]
  },
  {
   "cell_type": "markdown",
   "metadata": {},
   "source": [
    "- There are 3 methods in the `Coin` class:\n",
    "    - The `__init__` method \n",
    "    - `toss` method \n",
    "    - `get_sideup` method\n",
    "    \n",
    "- Each method has a parameter variable named `self`:\n",
    "    - `def __init__(self):`\n",
    "    - `def toss(self):`\n",
    "    - `def get_sideup(self):`\n",
    "    \n",
    "- The `self` paramter is required in every method of a class. \n",
    "    - Let the method konws which object's data attributes it should operate on \n",
    "    - When a method is called, `self` paramter reference the specific object the method operates on\n",
    "    \n",
    "- `__init__` is called *initializer method*, which initializes the object's data attributes. Will be automatically executed when an instance of the class is created in memory. It's usually the first method inside a class definition.\n",
    "    - The self parameter must be present in a method\n",
    "    - You are not required to name it self, but it's storngly recommended to conform with standard practice\n",
    "    \n",
    "- `my_coin = Coin()`:\n",
    "    - An object is created in memory from the `Coin` class\n",
    "    - The `Coin` class's `__init__` method is executed, and the self parameter is automatically set to the object that was just created. \n",
    "    - That object's sideup attribute is assigned the string `Heads`.\n",
    "    \n",
    "- When a method is called, Python automatically passes a reference to the calling object into the method’s first parameter. As a result, the self parameter will automatically reference the object on which the method is to operate."
   ]
  },
  {
   "cell_type": "code",
   "execution_count": 36,
   "metadata": {},
   "outputs": [
    {
     "name": "stdout",
     "output_type": "stream",
     "text": [
      "Tails  is the side up when we start\n",
      "now tossing...\n",
      "My side  is the side up after the toss\n"
     ]
    }
   ],
   "source": [
    "import random\n",
    "\n",
    "# The Coin class simulates a coin \n",
    "# that can be flippd \n",
    "class Coin:\n",
    "    def __init__(self):\n",
    "        if random.randint(0,1) == 0:\n",
    "            self.sideUp = 'Heads'\n",
    "        else:\n",
    "            self.sideUp = 'Tails'\n",
    "    \n",
    "    def toss(self):\n",
    "        if random.randint(0,1) == 0:\n",
    "            self.sideUp = 'Heads'\n",
    "        else:\n",
    "            self.sideUp = 'Tails'\n",
    "    \n",
    "    def get_sideUp(self):\n",
    "        return self.sideUp\n",
    "    \n",
    "def main():\n",
    "    myCoin = Coin()\n",
    "    print(myCoin.get_sideUp(),' is the side up when we start')\n",
    "    print('now tossing...')   \n",
    "    myCoin.toss()\n",
    "    # cheating the program\n",
    "    myCoin.sideUp = 'My side'\n",
    "    print(myCoin.sideUp,' is the side up after the toss')\n",
    "\n",
    "main()"
   ]
  },
  {
   "cell_type": "markdown",
   "metadata": {},
   "source": [
    "### Hiding attributes\n",
    "As an object’s data attributes should be private, only the object’s methods can directly access them. In Python, you can hide an attribute by starting its name with two underscore characters.\n",
    "- If we change the name of the sideup attribute to `__sideup`, then code outside the Coin class will not be able to access it."
   ]
  },
  {
   "cell_type": "code",
   "execution_count": 2,
   "metadata": {},
   "outputs": [
    {
     "name": "stdout",
     "output_type": "stream",
     "text": [
      "Tails  is the side up\n",
      "now tossing...\n",
      "Heads  is the side up\n",
      "My side\n"
     ]
    }
   ],
   "source": [
    "# demonstrate the __sideup cannot be called \n",
    "# outside \n",
    "\n",
    "import random\n",
    "\n",
    "class Coin:\n",
    "    \n",
    "    def __init__(self):\n",
    "        \n",
    "        if random.randint(0,1) == 0:\n",
    "            self.__sideUp = 'Heads'\n",
    "        else:\n",
    "            self.__sideUp = 'Tails'\n",
    "    \n",
    "    def toss(self):\n",
    "        if random.randint(0,1) == 0:\n",
    "            self.__sideUp = 'Heads'\n",
    "        else:\n",
    "            self.__sideUp = 'Tails'\n",
    "    \n",
    "    # return the data attribute (sideUp) within the class\n",
    "    def get_sideUp(self):\n",
    "        return self.__sideUp\n",
    "    \n",
    "def main():\n",
    "    myCoin = Coin()\n",
    "    print(myCoin.get_sideUp(),' is the side up')\n",
    "    print('now tossing...')   \n",
    "    myCoin.toss()\n",
    "    \n",
    "    # __sideUP cannot be accessed outside anymore\n",
    "    # it's creating a new variable/object outside the myCoin object \n",
    "    # with a string 'My side'\n",
    "    myCoin.__sideUp = 'My side'\n",
    "\n",
    "    print(myCoin.get_sideUp(),' is the side up')\n",
    "    print(myCoin.__sideUp)\n",
    "\n",
    "main()"
   ]
  },
  {
   "cell_type": "code",
   "execution_count": 3,
   "metadata": {},
   "outputs": [
    {
     "name": "stdout",
     "output_type": "stream",
     "text": [
      "This side is up: Heads\n",
      "I am going to toss the coin ten times:\n",
      "Heads\n",
      "Heads\n",
      "Tails\n",
      "Heads\n",
      "Heads\n",
      "Heads\n",
      "Heads\n",
      "Tails\n",
      "Tails\n",
      "Heads\n"
     ]
    }
   ],
   "source": [
    "import random\n",
    "\n",
    "# the coin class simulates a coin that can be flipped \n",
    "class Coin: \n",
    "    \n",
    "    # __init__ method initializes \n",
    "    # __sideup data attribute 'Heads'\n",
    "    def __init__(self):\n",
    "        self.__sideup = 'Heads'\n",
    "        \n",
    "    # The toss method generates a random number\n",
    "    # in the range of 0 through 1. If the number\n",
    "    # is 0, then sideup is set to 'Heads'.\n",
    "    # Otherwise, sideup is set to 'Tails'.\n",
    "\n",
    "    def toss(self):\n",
    "        if random.randint(0, 1) == 0:\n",
    "            self.__sideup = 'Heads'\n",
    "        else:\n",
    "            self.__sideup = 'Tails'\n",
    "\n",
    "    # The get_sideup method returns the value\n",
    "    # referenced by sideup.\n",
    "\n",
    "    def get_sideup(self):\n",
    "        return self.__sideup\n",
    "\n",
    "# The main function.\n",
    "def main():\n",
    "    # Create an object from the Coin class.\n",
    "    my_coin = Coin()\n",
    "\n",
    "    # Display the side of the coin that is facing up.\n",
    "    print('This side is up:', my_coin.get_sideup())\n",
    "\n",
    "    # Toss the coin.\n",
    "    print('I am going to toss the coin ten times:')\n",
    "\n",
    "    for count in range(10):\n",
    "        my_coin.toss()\n",
    "        print(my_coin.get_sideup())\n",
    "\n",
    "# Call the main function.\n",
    "if __name__ == '__main__':\n",
    "    main()\n",
    "        "
   ]
  },
  {
   "cell_type": "markdown",
   "metadata": {},
   "source": [
    "### Storing class in modules\n",
    "When program grows bigger and uses more classes, we need seperate class and programming statements to better organize them. \n",
    "- we can store the class definition in the modules \n",
    "- modules can be imported into any program that need to use the classes they contain\n",
    "- the example shows how to store Coin class in the module coin\n",
    "    - module coin is named coin.py \n",
    "    - when we need to use Coin class, we import the coin module "
   ]
  },
  {
   "cell_type": "code",
   "execution_count": 12,
   "metadata": {},
   "outputs": [],
   "source": [
    "# this is program coin.py\n",
    "import random \n",
    "\n",
    "class Coin:\n",
    "    \n",
    "    def __init__(self):\n",
    "        self.__sideup = 'Heads'\n",
    "        \n",
    "    # the toss method generates a random number 0 through 1\n",
    "    # assigns to Heads or Tails\n",
    "    \n",
    "    def toss(self):\n",
    "        if random.randint(0,1) == 0:\n",
    "            self.__sideup = 'Heads'\n",
    "        else:\n",
    "            self.__sideup = 'Tails'\n",
    "            \n",
    "    # the get_sideup method return the value of \n",
    "    # data attribute __sideup\n",
    "    \n",
    "    def get_sideup(self):\n",
    "        return self.__sideup"
   ]
  },
  {
   "cell_type": "code",
   "execution_count": 8,
   "metadata": {},
   "outputs": [
    {
     "name": "stdout",
     "output_type": "stream",
     "text": [
      "Heads is the side up.\n",
      "Heads\n",
      "Tails\n",
      "Heads\n",
      "Tails\n",
      "Tails\n",
      "Heads\n",
      "Heads\n",
      "Tails\n",
      "Tails\n",
      "Tails\n"
     ]
    }
   ],
   "source": [
    "# this program imports coin module \n",
    "# and creats an instance of the Coin class\n",
    "import coin\n",
    "\n",
    "def main():\n",
    "    \n",
    "    # create an object from Coin class\n",
    "    my_coin = coin.Coin()\n",
    "    \n",
    "    print(my_coin.get_sideup(), 'is the side up.')\n",
    "    \n",
    "    # toss the coin\n",
    "    for count in range(10):\n",
    "        my_coin.toss()\n",
    "        print(my_coin.get_sideup())\n",
    "        \n",
    "# call main function\n",
    "if __name__ == '__main__':\n",
    "    main()"
   ]
  },
  {
   "cell_type": "markdown",
   "metadata": {},
   "source": [
    "#### Example\n",
    "This program shows BankAccount class stored in a module named bankaccount. Objects in the class simulate bank account to check balance, make deposit, make withdrawals. "
   ]
  },
  {
   "cell_type": "code",
   "execution_count": null,
   "metadata": {},
   "outputs": [],
   "source": [
    "# bankaccount.py\n",
    "\n",
    "class BankAccount:\n",
    "    \n",
    "    # The __init__ method accepts an argument for \n",
    "    # account's balance \n",
    "    \n",
    "    def __init__(self, bal):\n",
    "        self.__balance = bal\n",
    "    \n",
    "    # deposit method makes a deposit \n",
    "    # into the account \n",
    "    \n",
    "    def deposit(self, amount):\n",
    "        self.__balance += amount\n",
    "        \n",
    "    # the withdraw method withdraws an amount\n",
    "    # from the account\n",
    "    \n",
    "    def withdraw(self, amount):\n",
    "        if self.__balance >= amount:\n",
    "            self.__balance -= amount\n",
    "        else:\n",
    "            print('Error: Insufficient funds in the account to be withdrawn.')\n",
    "    \n",
    "    # the get_balance method returns the \n",
    "    # account balance\n",
    "    \n",
    "    def get_balance(self):\n",
    "        return self.__balance"
   ]
  },
  {
   "cell_type": "code",
   "execution_count": 11,
   "metadata": {},
   "outputs": [
    {
     "name": "stdout",
     "output_type": "stream",
     "text": [
      "Enter your initial balance: 90\n",
      "How much were you paid this week? 6\n",
      "I will deposit that into your account\n",
      "Your account balance is $96.00.\n",
      "How much would you like to withdraw? 2\n",
      "I will withdraw that from your account.\n",
      "Your account balance is $94.00.\n"
     ]
    }
   ],
   "source": [
    "# this program run the BankAccount class\n",
    "import bankaccount\n",
    "\n",
    "def main():\n",
    "    # get the initial balance\n",
    "    initial_bal = float(input('Enter your initial balance: '))\n",
    "    # create a BankAccount object\n",
    "    saving = bankaccount.BankAccount(initial_bal)\n",
    "    \n",
    "    # deposit the user's paycheck\n",
    "    pay = float(input('How much were you paid this week? '))\n",
    "    print('I will deposit that into your account')\n",
    "    saving.deposit(pay)\n",
    "    \n",
    "    # display the balance\n",
    "    print(f'Your account balance is ${saving.get_balance():,.2f}.')\n",
    "    \n",
    "    # get the amount to withdraw\n",
    "    cash = float(input('How much would you like to withdraw? '))\n",
    "    print('I will withdraw that from your account.')\n",
    "    saving.withdraw(cash)\n",
    "    \n",
    "    # display \n",
    "    print(f'Your account balance is ${saving.get_balance():,.2f}.')\n",
    "    \n",
    "# call main function\n",
    "if __name__ == '__main__':\n",
    "    main()"
   ]
  },
  {
   "cell_type": "markdown",
   "metadata": {},
   "source": [
    "#### `__str__` method\n",
    "Sometimes, we want to check the current state/values of the object's attributes at any given moment. Like the `print()` for display use in the last example. \n",
    "- Displaying the current state is common that many programs equip their classes with a method that returns a string containing the object's state. \n",
    "- We use a specific method to do this job and call it `__str__`. \n",
    "    - when you pass the object to a `print()` function, `__str__` method will be called\n",
    "    - `__str__` is also called automatically when an object is passed as an argument to the built-in str function.\n",
    "- Let's revise the bankaccount.py and add this method."
   ]
  },
  {
   "cell_type": "code",
   "execution_count": 15,
   "metadata": {},
   "outputs": [],
   "source": [
    "# bankaccount2.py\n",
    "\n",
    "class BankAccount:\n",
    "    \n",
    "    # __init__ method contains a balance amount and \n",
    "    # assign it to the __balance attribute\n",
    "    def __init__(self, bal):\n",
    "        self.__balance = bal\n",
    "        \n",
    "    # deposit method makes a deposit into account\n",
    "    def deposit(self, amount):\n",
    "        self.__balance += amount\n",
    "    \n",
    "    # withdraw method withdraw money from account\n",
    "    def withdraw(self, amount):\n",
    "        if self.__balance > amount:\n",
    "            self.__balance -= amount\n",
    "        else:\n",
    "            print('Error: insufficient fund in the account.')\n",
    "            \n",
    "    # returns current account balance\n",
    "    def get_balance(self):\n",
    "        return self.__balance\n",
    "    \n",
    "    # current status of the account\n",
    "    def __str__(self):\n",
    "        return f'The balance is ${self.__balance:,.2f}'"
   ]
  },
  {
   "cell_type": "code",
   "execution_count": 17,
   "metadata": {},
   "outputs": [
    {
     "name": "stdout",
     "output_type": "stream",
     "text": [
      "Enter your account initial balance: 9\n",
      "How much were you paid this week? 2\n",
      "The balance is $11.00\n",
      "How much do you want to withdraw? 2\n",
      "The balance is $9.00\n",
      "The balance is $9.00\n"
     ]
    }
   ],
   "source": [
    "# bank account test\n",
    "import bankaccount2\n",
    "\n",
    "def main():\n",
    "    # get initial balance\n",
    "    initial_bal = float(input('Enter your account initial balance: '))\n",
    "    \n",
    "    # create BankAccount object\n",
    "    saving = bankaccount2.BankAccount(initial_bal)\n",
    "    \n",
    "    # deposit user's pay\n",
    "    pay = float(input('How much were you paid this week? '))\n",
    "    saving.deposit(pay)\n",
    "    print(saving)\n",
    "    \n",
    "    # withdraw money\n",
    "    money = float(input('How much do you want to withdraw? '))\n",
    "    saving.withdraw(money)\n",
    "    print(saving)\n",
    "    \n",
    "    # you can also call __str__ using str()\n",
    "    saving_withdraw = str(saving)\n",
    "    print(saving_withdraw)\n",
    "    \n",
    "# call main()\n",
    "if __name__ == '__main__':\n",
    "    main()"
   ]
  },
  {
   "cell_type": "markdown",
   "metadata": {},
   "source": [
    "### Working with instances\n",
    "Concept: Each instance of a class has its own set of data attributes.\n",
    "\n",
    "- When a method uses the self parameter to create an attribute, the attribute belongs to the\n",
    "specific object that self references. \n",
    "- We call these attributes instance attributes because they\n",
    "belong to a specific instance of the class.\n",
    "- It is possible to create many instances of the same class in a program. Each instance will\n",
    "then have its own set of attributes."
   ]
  },
  {
   "cell_type": "code",
   "execution_count": null,
   "metadata": {},
   "outputs": [],
   "source": [
    "# this is program coinM.py\n",
    "import random \n",
    "\n",
    "class Coin:\n",
    "    \n",
    "    def __init__(self):\n",
    "        self.__sideup = 'Heads'\n",
    "        \n",
    "    # the toss method generates a random number 0 through 1\n",
    "    # assigns to Heads or Tails\n",
    "    \n",
    "    def toss(self):\n",
    "        if random.randint(0,1) == 0:\n",
    "            self.__sideup = 'Heads'\n",
    "        else:\n",
    "            self.__sideup = 'Tails'\n",
    "            \n",
    "    # the get_sideup method return the value of \n",
    "    # data attribute __sideup\n",
    "    \n",
    "    def get_sideup(self):\n",
    "        return self.__sideup\n",
    "    \n",
    "    def __str__(self):\n",
    "        return f'{self.__sideup}'"
   ]
  },
  {
   "cell_type": "code",
   "execution_count": 29,
   "metadata": {},
   "outputs": [
    {
     "name": "stdout",
     "output_type": "stream",
     "text": [
      "I have 3 coins with these sides up: \n",
      "Heads\n",
      "Heads\n",
      "Heads\n",
      "I am tossing all 3 coins... \n",
      "\n",
      "Now here are the sides that are up:\n",
      "Tails\n",
      "Tails\n",
      "Tails\n"
     ]
    }
   ],
   "source": [
    "# this program imports cimulation module and creates 3 instances \n",
    "# of Coin class\n",
    "\n",
    "import coinM\n",
    "\n",
    "def main():\n",
    "    # create three objects from the Coin class\n",
    "    coin1 = coinM.Coin()\n",
    "    coin2 = coinM.Coin()\n",
    "    coin3 = coinM.Coin()\n",
    "    \n",
    "    # display the side of each coin\n",
    "    print('I have 3 coins with these sides up: ')\n",
    "    print(coin1)\n",
    "    print(coin2)\n",
    "    print(coin3)\n",
    "    \n",
    "    # toss the coin\n",
    "    print('I am tossing all 3 coins... ')\n",
    "    print()\n",
    "    coin1.toss()\n",
    "    coin2.toss()\n",
    "    coin3.toss()\n",
    "    \n",
    "    # display the side of each coin \n",
    "    print('Now here are the sides that are up:')\n",
    "    print(coin1)\n",
    "    print(coin2)\n",
    "    print(coin3)\n",
    "    \n",
    "# call main()\n",
    "if __name__ == '__main__':\n",
    "    main()"
   ]
  },
  {
   "cell_type": "markdown",
   "metadata": {},
   "source": [
    "### Accessor and Mutator Methods\n",
    "As mentioned earlier, it is a common practice to make all of a class’s data attributes private,\n",
    "and to provide public methods for accessing and changing those attributes. This ensures\n",
    "that the object owning those attributes is in control of all the changes being made to them.\n",
    "\n",
    "#### Accessor\n",
    "- A method that returns a value from a class’s attribute but does not change it is known as an\n",
    "accessor method.\n",
    "- Accessor methods provide a safe way for code outside the class to retrieve\n",
    "the values of attributes, without exposing the attributes in a way that they could be changed\n",
    "by the code outside the method.\n",
    "\n",
    "#### Mutator\n",
    "- A method that stores a value in a data attribute or changes the value of a data attribute\n",
    "in some other way is known as a mutator method\n",
    "- Mutator methods can control the way\n",
    "that a class’s data attributes are modified. When code outside the class needs to change\n",
    "the value of an object’s data attribute, it typically calls a mutator and passes the new\n",
    "value as an argument.\n",
    "\n",
    "Note: Mutator methods are sometimes called “setters,” and accessor methods are\n",
    "sometimes called “getters.”"
   ]
  },
  {
   "cell_type": "code",
   "execution_count": 30,
   "metadata": {},
   "outputs": [
    {
     "name": "stdout",
     "output_type": "stream",
     "text": [
      "Enter make: Jeep\n",
      "Enter model: GC\n",
      "Enter year: 2016\n",
      "Would you like to add more? no\n"
     ]
    }
   ],
   "source": [
    "# get accessor and mutator\n",
    "class Car:\n",
    "    def __init__(self, make, model, year):\n",
    "        self.__make = make\n",
    "        self.__model = model\n",
    "        self.__year = year\n",
    "        \n",
    "    def get_make(self):\n",
    "        return self.__make\n",
    "    \n",
    "    def get_model(self):\n",
    "        return self.__model\n",
    "    \n",
    "    def get_year(self):\n",
    "        return self.__year\n",
    "    \n",
    "    def set_make(self,make):\n",
    "        self.__make=make\n",
    "        \n",
    "    def set_model(self, model):\n",
    "        self.__model=model\n",
    "        \n",
    "    def set_year(self, year):\n",
    "        self.__year=year\n",
    "        \n",
    "    def __str__(self):\n",
    "        return 'make: ' + self.__make + '\\nmodel: ' + self.__model + '\\nyear: ' + self.__year\n",
    "\n",
    "import pickle \n",
    "\n",
    "def main():\n",
    "    choice = 'y'\n",
    "    dcCar = {}\n",
    "    carFile = open('Cars.dat','wb')\n",
    "    while choice == 'y':\n",
    "        make =input('Enter make: ')\n",
    "        model =input('Enter model: ')\n",
    "        year=input('Enter year: ')\n",
    "        myCar=Car(make,model,year)\n",
    "        dcCar[make]=myCar\n",
    "    \n",
    "        choice=input('Would you like to add more? ')\n",
    "    pickle.dump(dcCar,carFile)\n",
    "    carFile.close()\n",
    "    \n",
    "main()\n",
    "        "
   ]
  },
  {
   "cell_type": "markdown",
   "metadata": {},
   "source": [
    "### Passing objects as arguments\n",
    "When you are developing applications that work with objects, you often need to write\n",
    "functions and methods that accept objects as arguments."
   ]
  },
  {
   "cell_type": "markdown",
   "metadata": {},
   "source": [
    "#### More examples are provided below"
   ]
  },
  {
   "cell_type": "code",
   "execution_count": 6,
   "metadata": {},
   "outputs": [
    {
     "name": "stdout",
     "output_type": "stream",
     "text": [
      "Heads  is the side up\n",
      "now tossing...\n",
      "The current state is: Heads is up now\n"
     ]
    }
   ],
   "source": [
    "# use __str__\n",
    "import random\n",
    "\n",
    "class Coin:\n",
    "    def __init__(self):\n",
    "        if random.randint(0,1) == 0:\n",
    "            self.__sideUp = 'Heads'\n",
    "        else:\n",
    "            self.__sideUp = 'Tails'\n",
    "\n",
    "    \n",
    "    def toss(self):\n",
    "        if random.randint(0,1) == 0:\n",
    "            self.__sideUp = 'Heads'\n",
    "        else:\n",
    "            self.__sideUp = 'Tails'\n",
    "        \n",
    "\n",
    "    \n",
    "    def get_sideUp(self):\n",
    "        return self.__sideUp\n",
    "    \n",
    "    def __str__(self):\n",
    "        return 'The current state is: ' + self.__sideUp + ' is up now'\n",
    "    \n",
    "def main():\n",
    "    myCoin=Coin()\n",
    "    print(myCoin.get_sideUp(),' is the side up')\n",
    "    print('now tossing...')   \n",
    "    myCoin.toss()\n",
    "    \n",
    "    print(myCoin)\n",
    "    \n",
    "main()"
   ]
  },
  {
   "cell_type": "code",
   "execution_count": 3,
   "metadata": {},
   "outputs": [
    {
     "name": "stdout",
     "output_type": "stream",
     "text": [
      "{'Honda': <__main__.Car object at 0x00000254EF2AE048>, 'Toyota': <__main__.Car object at 0x00000254EF2AE128>, 'Oldsmobile': <__main__.Car object at 0x00000254EF2AE1D0>}\n",
      "value -  make: Honda\n",
      "model: Accord\n",
      "year: 2011\n",
      "Make:\t Honda\n",
      "Model:\t Accord\n",
      "Year:\t 2011\n",
      "\n",
      "value -  make: Toyota\n",
      "model: Corolla\n",
      "year: 2001\n",
      "Make:\t Toyota\n",
      "Model:\t Corolla\n",
      "Year:\t 2001\n",
      "\n",
      "value -  make: Oldsmobile\n",
      "model: Cutlass\n",
      "year: 1999\n",
      "Make:\t Oldsmobile\n",
      "Model:\t Cutlass\n",
      "Year:\t 1999\n",
      "\n"
     ]
    }
   ],
   "source": [
    "# read file\n",
    "def readCarFile():\n",
    "    fob = open('Cars.dat','rb')\n",
    "\n",
    "    dc = pickle.load(fob)\n",
    "    print(dc)\n",
    "    for key, value in dc.items():\n",
    "        print('value - ',value)\n",
    "        print('Make:\\t', value.get_make())\n",
    "        print('Model:\\t',value.get_model())\n",
    "        print('Year:\\t',value.get_year())\n",
    "        print()\n",
    "\n",
    "    fob.close()\n",
    "\n",
    "readCarFile()"
   ]
  },
  {
   "cell_type": "code",
   "execution_count": 4,
   "metadata": {},
   "outputs": [
    {
     "name": "stdout",
     "output_type": "stream",
     "text": [
      "Enter make to find: Honda\n",
      "Model:\t Accord\n",
      "Year:\t 2011\n"
     ]
    }
   ],
   "source": [
    "def getCarData():\n",
    "    \n",
    "    fob = open('Cars.dat','rb')\n",
    "    make = input('Enter make to find: ')\n",
    "    \n",
    "    dc = pickle.load(fob)\n",
    "    myCar = dc.get(make,0)\n",
    "    if isinstance(myCar,Car):\n",
    "        print('Model:\\t',myCar.get_model())\n",
    "        print('Year:\\t',myCar.get_year())\n",
    "    else:\n",
    "        print('Not found')\n",
    "    fob.close()\n",
    "\n",
    "getCarData()"
   ]
  },
  {
   "cell_type": "code",
   "execution_count": null,
   "metadata": {},
   "outputs": [],
   "source": [
    "# delete all variables in the environment\n",
    "%reset"
   ]
  },
  {
   "cell_type": "markdown",
   "metadata": {},
   "source": [
    "### OOP Exercises\n",
    "\n",
    "##### 1.1. \n",
    "\n",
    "Define and store in a module (``employee``) a class named ``Employee`` that holds data about an employee's **name**, **ID number**, **department**, and **job title**. Those data should be assigned to the following attributes of the Employee class: ``_ _name``, ``_ _idnum``, ``_ _department``, & ``_ _title``. \n",
    "\n",
    "<br>\n",
    "\n",
    "##### 1.2. \n",
    "Define the following methods for the Employee class:\n",
    "- An ``_ _init_ _`` method that accepts arguments for an employee's name, ID number, department, and job title\n",
    "- ``set_name``, ``set_idnum``, ``set_department``, & ``set_title`` methods, each of which **accepts** an argument for an employee's **name**, **ID number**, **department**, and **job title**. \n",
    "    - These methods let us to change the values of the ``_ _name``, ``_ _idnum``, ``_ _department``, & ``_ _title`` attributes after an object of the Employee class has been created, if needed.\n",
    "- ``get_name``, ``get_idnum``, ``get_department``, & ``get_title`` methods, each of which **returns** an employee's **name**, **ID number**, **department**, and **job title**. \n",
    "\n",
    "\n",
    "\n",
    "##### 1.3.\n",
    "\n",
    "Write a program that:\n",
    "\n",
    "    (1) first imports the employee module\n",
    "    (2) prompts the user to enter values for employees' names, ID numbers, department names, and job titles. \n",
    "    (3) creates instances of the Employee class based on the user's input\n",
    "    (4) the program needs to have a while loop that asks user whether to continue entering more employee data\n",
    "        - if the answer is 'y' then the user can keep entering values for employees' names, ID#, Dept, & Job Titles\n",
    "        - if the answer is different from 'y' then the program will stop asking for user input\n",
    "    (5) saves the created instances into a list\n",
    "    (6) uses a for loop to print out the attributes of all the Employee instances saved in the list\n",
    "\n",
    "You can use the table below for sample input to test the program\n",
    "\n",
    "| Name | ID Number | Department | Job Title |\n",
    "|----------|:--------------|:-----------------|:-------------|    \n",
    "| Susan Meyers | 47899 | Accounting | Vice President |\n",
    "| Mark Jones | 39119 | IT | Programmer |\n",
    "| Joy Rogers | 81774 | Manufacturing | Engineer |\n",
    "\n",
    "\n",
    "##### 1.4.\n",
    "\n",
    "Write another program that:\n",
    "- does the same things required by parts (1) - (4) in 1.3\n",
    "- but instead of saving the instances into a list, it should save them in a dictionary\n",
    "- asks user whether they want to: add new employee's data, change an existing employee's data, or look up an employee's data\n",
    "- adds to the dictionary new data or updates existing employees' data per the user's input\n",
    "- prints out all relevant data of an employee if user wishes to look up an employee"
   ]
  },
  {
   "cell_type": "code",
   "execution_count": 66,
   "metadata": {},
   "outputs": [
    {
     "data": {
      "text/plain": [
       "70.13846153846154"
      ]
     },
     "execution_count": 66,
     "metadata": {},
     "output_type": "execute_result"
    }
   ],
   "source": [
    "4/13*100*0.1+100*0.3+4/13*0.2+100*0.1+90*0.3"
   ]
  }
 ],
 "metadata": {
  "kernelspec": {
   "display_name": "Python 3",
   "language": "python",
   "name": "python3"
  },
  "language_info": {
   "codemirror_mode": {
    "name": "ipython",
    "version": 3
   },
   "file_extension": ".py",
   "mimetype": "text/x-python",
   "name": "python",
   "nbconvert_exporter": "python",
   "pygments_lexer": "ipython3",
   "version": "3.9.5"
  }
 },
 "nbformat": 4,
 "nbformat_minor": 4
}
