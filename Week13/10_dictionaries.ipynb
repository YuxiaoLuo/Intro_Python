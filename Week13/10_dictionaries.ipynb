{
 "cells": [
  {
   "cell_type": "markdown",
   "metadata": {},
   "source": [
    "# Dictionaries"
   ]
  },
  {
   "cell_type": "markdown",
   "metadata": {},
   "source": [
    "- like a list, but more general\n",
    "- indices for lists: integers\n",
    "- indices for dictionaries: can be almost any type"
   ]
  },
  {
   "cell_type": "markdown",
   "metadata": {},
   "source": [
    "- mapping between a set of indices (**keys**) & a set of values\n",
    "- each key maps to a value\n",
    "- key-value pair"
   ]
  },
  {
   "cell_type": "markdown",
   "metadata": {},
   "source": [
    "`dict()` - creates a new dictionary w/ no items (or use 2 curly brackets ``{}`` )\n"
   ]
  },
  {
   "cell_type": "code",
   "execution_count": null,
   "metadata": {},
   "outputs": [],
   "source": [
    "dict() \n",
    "list()\n",
    "{} \n",
    "[]"
   ]
  },
  {
   "cell_type": "code",
   "execution_count": 3,
   "metadata": {},
   "outputs": [
    {
     "data": {
      "text/plain": [
       "{}"
      ]
     },
     "execution_count": 3,
     "metadata": {},
     "output_type": "execute_result"
    }
   ],
   "source": [
    "# Let's create a dictionray that maps from English words to Spanish words\n",
    "eng_span = dict() # empty dictionary \n",
    "eng_span"
   ]
  },
  {
   "cell_type": "code",
   "execution_count": null,
   "metadata": {},
   "outputs": [],
   "source": [
    "ls = ['a', 'b', 'd']\n",
    "ls[2] = 'c'"
   ]
  },
  {
   "cell_type": "code",
   "execution_count": 5,
   "metadata": {},
   "outputs": [
    {
     "name": "stdout",
     "output_type": "stream",
     "text": [
      "{'one': 'uno'}\n",
      "{'one': 'uno', 'two': 'dos', 'three': 'tres'}\n"
     ]
    }
   ],
   "source": [
    "eng_span['one'] = 'uno'\n",
    "print(eng_span)\n",
    "eng_span = {'one':'uno', 'two':'dos', 'three':'tres'}\n",
    "print(eng_span)"
   ]
  },
  {
   "cell_type": "code",
   "execution_count": 9,
   "metadata": {},
   "outputs": [
    {
     "name": "stdout",
     "output_type": "stream",
     "text": [
      "tres\n"
     ]
    }
   ],
   "source": [
    "print(eng_span['three'])"
   ]
  },
  {
   "cell_type": "code",
   "execution_count": 7,
   "metadata": {},
   "outputs": [
    {
     "ename": "KeyError",
     "evalue": "'four'",
     "output_type": "error",
     "traceback": [
      "\u001b[0;31m---------------------------------------------------------------------------\u001b[0m",
      "\u001b[0;31mKeyError\u001b[0m                                  Traceback (most recent call last)",
      "\u001b[0;32m<ipython-input-7-7d11b639d6ca>\u001b[0m in \u001b[0;36m<module>\u001b[0;34m()\u001b[0m\n\u001b[0;32m----> 1\u001b[0;31m \u001b[0mprint\u001b[0m\u001b[0;34m(\u001b[0m\u001b[0meng_span\u001b[0m\u001b[0;34m[\u001b[0m\u001b[0;34m'four'\u001b[0m\u001b[0;34m]\u001b[0m\u001b[0;34m)\u001b[0m \u001b[0;31m# Error because key 'four' is not included in the dictionary eng_span\u001b[0m\u001b[0;34m\u001b[0m\u001b[0m\n\u001b[0m",
      "\u001b[0;31mKeyError\u001b[0m: 'four'"
     ]
    }
   ],
   "source": [
    "print(eng_span['four']) # Error because key 'four' is not included in the dictionary eng_span"
   ]
  },
  {
   "cell_type": "code",
   "execution_count": 11,
   "metadata": {
    "scrolled": true
   },
   "outputs": [
    {
     "data": {
      "text/plain": [
       "3"
      ]
     },
     "execution_count": 11,
     "metadata": {},
     "output_type": "execute_result"
    }
   ],
   "source": [
    "len(eng_span)  # returns number of key-val pairs in a dictionary"
   ]
  },
  {
   "cell_type": "markdown",
   "metadata": {},
   "source": [
    "#### Using ``in`` operator to test whether something appears as a *key* in a dictionary"
   ]
  },
  {
   "cell_type": "code",
   "execution_count": 16,
   "metadata": {},
   "outputs": [
    {
     "data": {
      "text/plain": [
       "True"
      ]
     },
     "execution_count": 16,
     "metadata": {},
     "output_type": "execute_result"
    }
   ],
   "source": [
    "'one' in eng_span"
   ]
  },
  {
   "cell_type": "code",
   "execution_count": 12,
   "metadata": {},
   "outputs": [
    {
     "data": {
      "text/plain": [
       "False"
      ]
     },
     "execution_count": 12,
     "metadata": {},
     "output_type": "execute_result"
    }
   ],
   "source": [
    "'uno' in eng_span\n",
    "# in operator only tests whether something appears as a key in the dictionary -- not value"
   ]
  },
  {
   "cell_type": "markdown",
   "metadata": {},
   "source": [
    "#### To test whether something appears as a value in a dictionary, use the method values"
   ]
  },
  {
   "cell_type": "code",
   "execution_count": 13,
   "metadata": {
    "scrolled": true
   },
   "outputs": [
    {
     "name": "stdout",
     "output_type": "stream",
     "text": [
      "<class 'dict_values'>\n"
     ]
    },
    {
     "data": {
      "text/plain": [
       "True"
      ]
     },
     "execution_count": 13,
     "metadata": {},
     "output_type": "execute_result"
    }
   ],
   "source": [
    "vals = eng_span.values()\n",
    "print(type(vals))\n",
    "'uno' in vals\n",
    "\n",
    "'uno' in eng_span.values()"
   ]
  },
  {
   "cell_type": "code",
   "execution_count": 15,
   "metadata": {},
   "outputs": [
    {
     "data": {
      "text/plain": [
       "{'one': 'uno', 'two': 'dos', 'three': 'tres'}"
      ]
     },
     "execution_count": 15,
     "metadata": {},
     "output_type": "execute_result"
    }
   ],
   "source": [
    "eng_span = {'one':'uno', 'two':'dos', 'three':'trs'}\n",
    "eng_span['three'] = 'tres'\n",
    "eng_span"
   ]
  },
  {
   "cell_type": "markdown",
   "metadata": {},
   "source": [
    "#### To retrieve a value from a dictionary\n",
    "\n",
    "``dictionary_name[key]``\n",
    "\n",
    "\n",
    "If the key does not exist, a KeyError exception is raised."
   ]
  },
  {
   "cell_type": "markdown",
   "metadata": {},
   "source": [
    "#### Adding Elements to an Existing Dictionary\n",
    "\n",
    "- Dictionaries are mutable\n",
    "- Use assignment statement to add new elements to a dictionary <br>\n",
    "``dictionary_name[key] = value``\n",
    "    -  If key already exists in the dictionary, its associated value will be changed to value."
   ]
  },
  {
   "cell_type": "markdown",
   "metadata": {},
   "source": [
    "#### Deleting Elements from a Dictionary\n",
    "- Can use ``del`` operator:<br>\n",
    "``del dictionary_name[key]``\n",
    "    -  If the key does not exist, a KeyError exception is raised\n",
    "\n",
    "- Should use the ``in`` operator to determine whether a key exists before you try to delete it and its associated value"
   ]
  },
  {
   "cell_type": "code",
   "execution_count": 17,
   "metadata": {},
   "outputs": [
    {
     "ename": "KeyError",
     "evalue": "'four'",
     "output_type": "error",
     "traceback": [
      "\u001b[0;31m---------------------------------------------------------------------------\u001b[0m",
      "\u001b[0;31mKeyError\u001b[0m                                  Traceback (most recent call last)",
      "\u001b[0;32m<ipython-input-17-03566866d94e>\u001b[0m in \u001b[0;36m<module>\u001b[0;34m()\u001b[0m\n\u001b[1;32m      1\u001b[0m \u001b[0meng_span\u001b[0m \u001b[0;34m=\u001b[0m \u001b[0;34m{\u001b[0m\u001b[0;34m'one'\u001b[0m\u001b[0;34m:\u001b[0m\u001b[0;34m'uno'\u001b[0m\u001b[0;34m,\u001b[0m \u001b[0;34m'two'\u001b[0m\u001b[0;34m:\u001b[0m\u001b[0;34m'dos'\u001b[0m\u001b[0;34m,\u001b[0m \u001b[0;34m'three'\u001b[0m\u001b[0;34m:\u001b[0m\u001b[0;34m'tres'\u001b[0m\u001b[0;34m}\u001b[0m\u001b[0;34m\u001b[0m\u001b[0m\n\u001b[0;32m----> 2\u001b[0;31m \u001b[0;32mdel\u001b[0m \u001b[0meng_span\u001b[0m\u001b[0;34m[\u001b[0m\u001b[0;34m'four'\u001b[0m\u001b[0;34m]\u001b[0m\u001b[0;34m\u001b[0m\u001b[0m\n\u001b[0m\u001b[1;32m      3\u001b[0m \u001b[0;31m#eng_span\u001b[0m\u001b[0;34m\u001b[0m\u001b[0;34m\u001b[0m\u001b[0m\n",
      "\u001b[0;31mKeyError\u001b[0m: 'four'"
     ]
    }
   ],
   "source": [
    "eng_span = {'one':'uno', 'two':'dos', 'three':'tres'}\n",
    "del eng_span['four']\n",
    "#eng_span"
   ]
  },
  {
   "cell_type": "markdown",
   "metadata": {},
   "source": [
    "#### Using the ``for`` Loop to Iterate over a Dictionary\n",
    "\n",
    "        for key in dictionary: \n",
    "            statement\n",
    "            statement\n",
    "            etc."
   ]
  },
  {
   "cell_type": "code",
   "execution_count": 19,
   "metadata": {
    "scrolled": true
   },
   "outputs": [
    {
     "name": "stdout",
     "output_type": "stream",
     "text": [
      "Chris 555−1111\n",
      "Katie 555−2222\n",
      "Joanne 555−3333\n"
     ]
    }
   ],
   "source": [
    "phonebook = {'Chris':'555−1111',  'Katie':'555−2222', 'Joanne':'555−3333'}\n",
    "for k in phonebook: \n",
    "    print(k, phonebook[k])"
   ]
  },
  {
   "cell_type": "markdown",
   "metadata": {},
   "source": [
    "#### Some Dictionary Methods\n",
    "\n",
    "``dictionary.clear()``  clears all elements in a dictionary\n",
    "\n",
    "``dictionary.get(key, default)``  uses a key to search for its value in the dictionary, and default is a default value to return if the key is not found.\n",
    "\n",
    "``dictionary.items()`` returns all key-value pairs in a dictionary\n",
    "\n",
    "``dictionary.pop(key, default)``  returns the value associated with a specified key and removes that key- value pair from the dictionary.\n",
    "\n",
    "``dictionary.popitem()`` returns a **randomly selected key-value pair**, and it removes that key- value pair from the dictionary\n",
    "\n",
    "``key`` method; ``values`` method (examples above)"
   ]
  },
  {
   "cell_type": "code",
   "execution_count": 22,
   "metadata": {},
   "outputs": [
    {
     "name": "stdout",
     "output_type": "stream",
     "text": [
      "Entry not found\n"
     ]
    }
   ],
   "source": [
    "phone_num = phonebook.get('Andy', 'Entry not found') \n",
    "print(phone_num)"
   ]
  },
  {
   "cell_type": "code",
   "execution_count": 23,
   "metadata": {},
   "outputs": [
    {
     "data": {
      "text/plain": [
       "dict_items([('Chris', '555−1111'), ('Katie', '555−2222'), ('Joanne', '555−3333')])"
      ]
     },
     "execution_count": 23,
     "metadata": {},
     "output_type": "execute_result"
    }
   ],
   "source": [
    "phonebook.items()\n",
    "# returns a sequence of tuples"
   ]
  },
  {
   "cell_type": "code",
   "execution_count": 24,
   "metadata": {},
   "outputs": [
    {
     "name": "stdout",
     "output_type": "stream",
     "text": [
      "Chris 555−1111\n",
      "Katie 555−2222\n",
      "Joanne 555−3333\n"
     ]
    }
   ],
   "source": [
    "# You can use the for loop to iterate over the tuples in the sequence.\n",
    "for k, v in phonebook.items():\n",
    "    print(k, v)"
   ]
  },
  {
   "cell_type": "code",
   "execution_count": 27,
   "metadata": {},
   "outputs": [
    {
     "data": {
      "text/plain": [
       "'Entry not found'"
      ]
     },
     "execution_count": 27,
     "metadata": {},
     "output_type": "execute_result"
    }
   ],
   "source": [
    "phone_num = phonebook.pop('Kathy', 'Entry not found')\n",
    "phone_num"
   ]
  },
  {
   "cell_type": "code",
   "execution_count": 40,
   "metadata": {
    "scrolled": true
   },
   "outputs": [
    {
     "name": "stdout",
     "output_type": "stream",
     "text": [
      "Joanne 555−3333\n"
     ]
    }
   ],
   "source": [
    "key, value = phonebook.popitem()\n",
    "print(key, value)"
   ]
  },
  {
   "cell_type": "markdown",
   "metadata": {},
   "source": [
    "##### Read more about dictionaries, along with the other data structures we have learned, and their methods here:\n",
    "https://docs.python.org/3.7/tutorial/datastructures.html#dictionaries"
   ]
  },
  {
   "cell_type": "markdown",
   "metadata": {},
   "source": [
    "##### Another tutorial about dictionaries:\n",
    "\n",
    "https://www.datacamp.com/community/tutorials/python-dictionary-tutorial#dictionary_compare"
   ]
  },
  {
   "cell_type": "markdown",
   "metadata": {},
   "source": [
    "### In-class Exercise: Random Number Frequencies\n",
    "#### 1.\n",
    "1. Write a program that generates 100 random integers between 1 and 10, inclusive. \n",
    "2. The program should store the frequency of each number generated in a dictionary with the number as the key and the amount of times it has occurred as the value. \n",
    "3. For example, if the program generates the number 6 a total of 11 times, the dictionary will contain a key of 6 with an associated value of 11. \n",
    "4. Once all of the numbers have been generated, print the frequency for each number."
   ]
  },
  {
   "cell_type": "code",
   "execution_count": 40,
   "metadata": {
    "scrolled": true
   },
   "outputs": [
    {
     "name": "stdout",
     "output_type": "stream",
     "text": [
      "Number: \tFrequency\n",
      "1 \t\t 13\n",
      "2 \t\t 9\n",
      "3 \t\t 9\n",
      "4 \t\t 5\n",
      "5 \t\t 7\n",
      "6 \t\t 13\n",
      "7 \t\t 12\n",
      "8 \t\t 11\n",
      "9 \t\t 14\n",
      "10 \t\t 7\n"
     ]
    }
   ],
   "source": [
    "import random as rd\n",
    "##from random import *\n",
    "num = []\n",
    "\n",
    "rd.seed(123)\n",
    "for i in range(100):\n",
    "    rand_num = rd.randint(1, 10) # num.append(rd.randint(1, 10))\n",
    "    num.append(rand_num)\n",
    "\n",
    "freq = {}\n",
    "for n in num:\n",
    "    if n not in freq:\n",
    "        freq[n] = 1\n",
    "    else:\n",
    "        freq[n] += 1\n",
    "#print('freq dictionary:\\n', , '\\n') \n",
    "#print(sorted([(number,counts) for number, counts in freq.items()]))\n",
    "print('Number: \\tFrequency')\n",
    "for k in sorted(freq):\n",
    "    print(k, '\\t\\t', freq[k])"
   ]
  },
  {
   "cell_type": "markdown",
   "metadata": {},
   "source": [
    "#### 2. \n",
    "Write a program that to create a dictionary from a string that lists each character in the string along with the number of times that character appears in that string.\n",
    "\n",
    "Sample string : ‘baruch college’\n",
    "\n",
    "Expected output: {‘b’: 1, ‘a’: 1, ‘r’: 1, ‘u’: 1, ‘c’: 2, ‘h’: 1, ‘ ‘: 1, ‘o’: 1, ‘l’: 2, ‘e’: 2, ‘g’: 1}\n"
   ]
  },
  {
   "cell_type": "code",
   "execution_count": 39,
   "metadata": {},
   "outputs": [
    {
     "data": {
      "text/plain": [
       "{'B': 1,\n",
       " 'a': 1,\n",
       " 'r': 1,\n",
       " 'u': 1,\n",
       " 'c': 1,\n",
       " 'h': 1,\n",
       " ' ': 1,\n",
       " 'C': 1,\n",
       " 'o': 1,\n",
       " 'l': 2,\n",
       " 'e': 2,\n",
       " 'g': 1}"
      ]
     },
     "execution_count": 39,
     "metadata": {},
     "output_type": "execute_result"
    }
   ],
   "source": [
    "text = 'Baruch College'\n",
    "freq = {}\n",
    "for i in range(len(text)):\n",
    "    if text[i] not in freq:\n",
    "        freq[text[i]] = 1\n",
    "    else:\n",
    "        freq[text[i]] += 1\n",
    "freq"
   ]
  }
 ],
 "metadata": {
  "kernelspec": {
   "display_name": "Python 3",
   "language": "python",
   "name": "python3"
  },
  "language_info": {
   "codemirror_mode": {
    "name": "ipython",
    "version": 3
   },
   "file_extension": ".py",
   "mimetype": "text/x-python",
   "name": "python",
   "nbconvert_exporter": "python",
   "pygments_lexer": "ipython3",
   "version": "3.9.5"
  }
 },
 "nbformat": 4,
 "nbformat_minor": 4
}
