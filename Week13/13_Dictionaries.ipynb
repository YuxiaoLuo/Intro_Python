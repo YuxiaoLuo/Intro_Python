{
 "cells": [
  {
   "cell_type": "markdown",
   "id": "5a1c419d",
   "metadata": {},
   "source": [
    "# Dictionaries and Sets\n",
    "## Dictionaries \n",
    "Concept: Dictionary is an object that stores a collection of data. Each item in a dictionary includes two parts: a key and a value. Key is used to locate a specific value.\n",
    "\n",
    "To create a dictionary, enclose the elements inside a set of `{}`.\n",
    "\n",
    "`recipe = {'Mon':'steak', 'Tue':'burger', 'Wed':'ramen'}`\n",
    "\n",
    "Note: key-value pairs are also referred to as mappings. "
   ]
  },
  {
   "cell_type": "markdown",
   "id": "f2e2b776",
   "metadata": {},
   "source": [
    "### Create and retrieve\n",
    "1. Create a dict using curly braces `{}`\n",
    "2. You cannot use a numeric index to retrieve a value by the position of the item. You will use key to retrieve the value. Ex., `dictionary_name[key]`\n",
    "3. If the key exists, it returns a the value that is associated with the key. \n",
    "4. If the key doesn't exist, a `KeyError` exception will show up.  \n",
    "\n",
    "Note: \n",
    "- Before Python 3.6, dict doesn't have sequence and will not keep the order of the item as you entered. You neec to use another built-in OrderedDict class (a dictionary subclass specially designed to remember the order of items) to do that job.  \n",
    "- After Python 3.6, the built-in dict class keeps its items ordered as well.\n",
    "- If interested, can check out this [article](https://realpython.com/python-ordereddict/)."
   ]
  },
  {
   "cell_type": "code",
   "execution_count": 34,
   "id": "5818a127",
   "metadata": {},
   "outputs": [],
   "source": [
    "from IPython.core.interactiveshell import InteractiveShell\n",
    "InteractiveShell.ast_node_interactivity = \"all\""
   ]
  },
  {
   "cell_type": "code",
   "execution_count": 4,
   "id": "3bd16816",
   "metadata": {},
   "outputs": [
    {
     "data": {
      "text/plain": [
       "{'Mon': 'steak',\n",
       " 'Tue': 'burger',\n",
       " 'Wed': 'ramen',\n",
       " 'Thu': 'dumpling',\n",
       " 'Fri': 'soup'}"
      ]
     },
     "execution_count": 4,
     "metadata": {},
     "output_type": "execute_result"
    }
   ],
   "source": [
    "# retrieve value from dict\n",
    "recipe = {'Mon':'steak', 'Tue':'burger', 'Wed':'ramen', 'Thu':'dumpling', 'Fri':'soup'}\n",
    "recipe"
   ]
  },
  {
   "cell_type": "code",
   "execution_count": 7,
   "id": "341c3c90",
   "metadata": {
    "scrolled": true
   },
   "outputs": [
    {
     "data": {
      "text/plain": [
       "'steak'"
      ]
     },
     "execution_count": 7,
     "metadata": {},
     "output_type": "execute_result"
    }
   ],
   "source": [
    "recipe['Mon']"
   ]
  },
  {
   "cell_type": "markdown",
   "id": "6fe60598",
   "metadata": {},
   "source": [
    "### Add and delete elements\n",
    "1. Dictionaries are mutable, you can add new value using: `dictionary_name[key] = value`\n",
    "2. Each key should be unique and no duplicate keys can exist in one dictionary.\n",
    "    - If you assign a value to an existing key, the new value will replace the existing value\n",
    "3. Delete an existing ke-value pair using the `del` statement. `del dictionary_name[key]`\n",
    "    - If the key does not exist, a `KeyError` will occur. "
   ]
  },
  {
   "cell_type": "code",
   "execution_count": 9,
   "id": "c7130172",
   "metadata": {},
   "outputs": [
    {
     "name": "stdout",
     "output_type": "stream",
     "text": [
      "{'Mon': 'steak', 'Tue': 'burger', 'Wed': 'ramen', 'Thu': 'dumpling', 'Fri': 'soup'}\n",
      "{'Mon': 'steak', 'Tue': 'burger', 'Wed': 'ramen', 'Thu': 'dumpling', 'Fri': 'soup', 'Sat': 'salad'}\n"
     ]
    }
   ],
   "source": [
    "# create a dict\n",
    "recipe = {'Mon':'steak', 'Tue':'burger', 'Wed':'ramen', 'Thu':'dumpling', 'Fri':'soup'}\n",
    "print(recipe)\n",
    "\n",
    "# add new elements\n",
    "recipe['Sat'] = 'salad'\n",
    "print(recipe)"
   ]
  },
  {
   "cell_type": "code",
   "execution_count": 11,
   "id": "a37156bf",
   "metadata": {},
   "outputs": [
    {
     "data": {
      "text/plain": [
       "{'Tue': 'burger', 'Wed': 'ramen', 'Thu': 'dumpling', 'Fri': 'soup'}"
      ]
     },
     "execution_count": 11,
     "metadata": {},
     "output_type": "execute_result"
    }
   ],
   "source": [
    "# create a dict\n",
    "recipe = {'Mon':'steak', 'Tue':'burger', 'Wed':'ramen', 'Thu':'dumpling', 'Fri':'soup'}\n",
    "# delete a key-value pair\n",
    "del recipe['Mon']\n",
    "recipe"
   ]
  },
  {
   "cell_type": "code",
   "execution_count": 15,
   "id": "a7397949",
   "metadata": {},
   "outputs": [
    {
     "name": "stdout",
     "output_type": "stream",
     "text": [
      "There is no element called 'Sat'\n",
      "{'Mon': 'steak', 'Tue': 'burger', 'Wed': 'ramen', 'Thu': 'dumpling', 'Fri': 'soup'}\n"
     ]
    }
   ],
   "source": [
    "# if you want to prevent a key error in dict\n",
    "# use if before you try to delete something\n",
    "recipe = {'Mon':'steak', 'Tue':'burger', 'Wed':'ramen', 'Thu':'dumpling', 'Fri':'soup'}\n",
    "\n",
    "item_remove = 'Sat'\n",
    "\n",
    "if item_remove in recipe:\n",
    "    del recipe['Fri']\n",
    "else:\n",
    "    print(f\"There is no element called '{item_remove}'\")\n",
    "\n",
    "print(recipe)"
   ]
  },
  {
   "cell_type": "markdown",
   "id": "87b4a84a",
   "metadata": {},
   "source": [
    "### Data types in dict\n",
    "1. You can use built-in `len` function to count the number of items in a dict. \n",
    "2. The keys in dict must be immutable objects, ex., string, tuple. Their associated values can be any type of object. \n",
    "3. Create an empty dict for use. `recipe = {}` or `recipe = dict()`"
   ]
  },
  {
   "cell_type": "code",
   "execution_count": 16,
   "id": "ffb89486",
   "metadata": {},
   "outputs": [
    {
     "data": {
      "text/plain": [
       "5"
      ]
     },
     "execution_count": 16,
     "metadata": {},
     "output_type": "execute_result"
    }
   ],
   "source": [
    "recipe = {'Mon':'steak', 'Tue':'burger', 'Wed':'ramen', 'Thu':'dumpling', 'Fri':'soup'}\n",
    "len(recipe)"
   ]
  },
  {
   "cell_type": "code",
   "execution_count": 19,
   "id": "75a05aee",
   "metadata": {},
   "outputs": [
    {
     "name": "stdout",
     "output_type": "stream",
     "text": [
      "['ramen', 'dumpling']\n"
     ]
    }
   ],
   "source": [
    "# create dict where values are lists\n",
    "recipe = {'Mon':['steak','salad'], \n",
    "          'Tue':['burger','fries'], \n",
    "          'Wed':['ramen', 'dumpling'], \n",
    "          'Thu':['sushi', 'pancake']}\n",
    "print(recipe['Wed'])"
   ]
  },
  {
   "cell_type": "code",
   "execution_count": 20,
   "id": "f7070814",
   "metadata": {},
   "outputs": [
    {
     "data": {
      "text/plain": [
       "{'recipe': 5, 5: 'recipe', (1, 2, 3): ['Steak', 5, 6]}"
      ]
     },
     "execution_count": 20,
     "metadata": {},
     "output_type": "execute_result"
    }
   ],
   "source": [
    "# create dict with mixed types\n",
    "mixed_dict = {'recipe':5,\n",
    "              5:'recipe',\n",
    "              (1,2,3):['Steak',5,6]}\n",
    "\n",
    "mixed_dict"
   ]
  },
  {
   "cell_type": "code",
   "execution_count": 22,
   "id": "b1f13048",
   "metadata": {},
   "outputs": [
    {
     "name": "stdout",
     "output_type": "stream",
     "text": [
      "{'name': 'Smith', 'id': 565, 'payrate': 56.55}\n"
     ]
    }
   ],
   "source": [
    "# school employee\n",
    "employee = {'name':'Smith',\n",
    "           'id':565,\n",
    "           'payrate':56.55}\n",
    "print(employee)"
   ]
  },
  {
   "cell_type": "code",
   "execution_count": 23,
   "id": "25a6a894",
   "metadata": {},
   "outputs": [
    {
     "name": "stdout",
     "output_type": "stream",
     "text": [
      "{'Mon': 'burger'}\n",
      "{'Mon': 'burger', 'Tue': 'ramen'}\n"
     ]
    }
   ],
   "source": [
    "# create an empty dict \n",
    "recipe = {}\n",
    "# add the element one by one\n",
    "recipe['Mon'] = 'burger'\n",
    "print(recipe)\n",
    "recipe['Tue'] = 'ramen'\n",
    "print(recipe)"
   ]
  },
  {
   "cell_type": "code",
   "execution_count": null,
   "id": "de0ddbdf",
   "metadata": {},
   "outputs": [],
   "source": [
    "# create an empty dict \n",
    "recipe = dict()\n",
    "# add the element one by one\n",
    "recipe['Mon'] = 'burger'\n",
    "print(recipe)\n",
    "recipe['Tue'] = 'ramen'\n",
    "print(recipe)"
   ]
  },
  {
   "cell_type": "markdown",
   "id": "d1a487d1",
   "metadata": {},
   "source": [
    "### Use `for` loop over dict\n",
    "1. A `for` loop iterates once for each element in the dictionary. Each time the loop iterates, `var` is assigned a key.\n",
    "\n",
    "`\n",
    "for var in dictionary:\n",
    "    statement\n",
    "    statement\n",
    "    etc.\n",
    "`\n"
   ]
  },
  {
   "cell_type": "code",
   "execution_count": 25,
   "id": "ab5f4f8b",
   "metadata": {
    "scrolled": true
   },
   "outputs": [
    {
     "name": "stdout",
     "output_type": "stream",
     "text": [
      "Mon steak\n",
      "Tue burger\n",
      "Wed ramen\n",
      "Thu dumpling\n",
      "Fri soup\n"
     ]
    }
   ],
   "source": [
    "recipe = {'Mon':'steak', 'Tue':'burger', 'Wed':'ramen', 'Thu':'dumpling', 'Fri':'soup'}\n",
    "\n",
    "for food in recipe:\n",
    "    print(food, recipe[food])"
   ]
  },
  {
   "cell_type": "markdown",
   "id": "1884dc27",
   "metadata": {},
   "source": [
    "### Dictionary methods\n",
    "Dictionary objects have several methods. We only look at some most useful ones in this course.\n",
    "1. `clear` clears the contents of a dict\n",
    "\n",
    "2. `get` gets the value associated with a specified key. If the key is not found, the method does not raise an exception. Instead, it returns a default value you specified.\n",
    "    - as an alternative to the `[]` operator for getting value\n",
    "    \n",
    "3. `items` returns all the keys in a dict and their associated values as a sequence of tuples. \n",
    "\n",
    "4. `keys` returns all keys in a dict as a sequence of tuples. \n",
    "\n",
    "5. `pop` returns value associated with a specified key and remove that key-value pair from the dictionary.If the key is not found, the method returns a default value.\n",
    "\n",
    "6. `popitem` returns the key-value pair that was last added to the dictionary as a tuple. \n",
    "    - will raise a *KeyError* exception if it is called on an empty dict\n",
    "7. `values` returns all values in the dict as a sequence of tuples. "
   ]
  },
  {
   "cell_type": "code",
   "execution_count": 46,
   "id": "3c4f4497",
   "metadata": {},
   "outputs": [
    {
     "name": "stdout",
     "output_type": "stream",
     "text": [
      "{'Mon': 'steak', 'Tue': 'burger', 'Wed': 'ramen', 'Thu': 'dumpling', 'Fri': 'soup'}\n",
      "None\n"
     ]
    }
   ],
   "source": [
    "recipe = {'Mon':'steak', 'Tue':'burger', 'Wed':'ramen', 'Thu':'dumpling', 'Fri':'soup'}\n",
    "print(recipe)\n",
    "print(recipe.clear())"
   ]
  },
  {
   "cell_type": "code",
   "execution_count": 44,
   "id": "35bb87ec",
   "metadata": {},
   "outputs": [
    {
     "data": {
      "text/plain": [
       "'steak'"
      ]
     },
     "execution_count": 44,
     "metadata": {},
     "output_type": "execute_result"
    },
    {
     "data": {
      "text/plain": [
       "'Entry not found'"
      ]
     },
     "execution_count": 44,
     "metadata": {},
     "output_type": "execute_result"
    }
   ],
   "source": [
    "# get value with specified key\n",
    "recipe = {'Mon':'steak', 'Tue':'burger', 'Wed':'ramen', 'Thu':'dumpling', 'Fri':'soup'}\n",
    "recipe.get('Mon', 'Entry not found')\n",
    "\n",
    "recipe.get('Sat', 'Entry not found')"
   ]
  },
  {
   "cell_type": "code",
   "execution_count": 50,
   "id": "170b20a4",
   "metadata": {},
   "outputs": [
    {
     "data": {
      "text/plain": [
       "dict_items([('Mon', 'steak'), ('Tue', 'burger'), ('Wed', 'ramen'), ('Thu', 'dumpling'), ('Fri', 'soup')])"
      ]
     },
     "execution_count": 50,
     "metadata": {},
     "output_type": "execute_result"
    }
   ],
   "source": [
    "# return all the key-value pairs\n",
    "recipe = {'Mon':'steak', 'Tue':'burger', 'Wed':'ramen', 'Thu':'dumpling', 'Fri':'soup'}\n",
    "recipe_items = recipe.items()\n",
    "recipe_items"
   ]
  },
  {
   "cell_type": "code",
   "execution_count": 55,
   "id": "68ac9478",
   "metadata": {},
   "outputs": [
    {
     "name": "stdout",
     "output_type": "stream",
     "text": [
      "('Mon', 'steak')\n",
      "('Tue', 'burger')\n",
      "('Wed', 'ramen')\n",
      "('Thu', 'dumpling')\n",
      "('Fri', 'soup')\n"
     ]
    }
   ],
   "source": [
    "# use for loop to iterate\n",
    "for pair in recipe_items:\n",
    "    print(pair)"
   ]
  },
  {
   "cell_type": "code",
   "execution_count": 56,
   "id": "e3ad4bb4",
   "metadata": {},
   "outputs": [
    {
     "name": "stdout",
     "output_type": "stream",
     "text": [
      "Mon steak\n",
      "Tue burger\n",
      "Wed ramen\n",
      "Thu dumpling\n",
      "Fri soup\n"
     ]
    }
   ],
   "source": [
    "for key, value in recipe_items:\n",
    "    print(key, value)"
   ]
  },
  {
   "cell_type": "code",
   "execution_count": 57,
   "id": "d1042c61",
   "metadata": {},
   "outputs": [
    {
     "data": {
      "text/plain": [
       "dict_keys(['Mon', 'Tue', 'Wed', 'Thu', 'Fri'])"
      ]
     },
     "execution_count": 57,
     "metadata": {},
     "output_type": "execute_result"
    }
   ],
   "source": [
    "# return all keys\n",
    "recipe_keys = recipe.keys()\n",
    "recipe_keys"
   ]
  },
  {
   "cell_type": "code",
   "execution_count": 59,
   "id": "ddff3b66",
   "metadata": {
    "scrolled": true
   },
   "outputs": [
    {
     "name": "stdout",
     "output_type": "stream",
     "text": [
      "Mon\n",
      "Tue\n",
      "Wed\n",
      "Thu\n",
      "Fri\n"
     ]
    }
   ],
   "source": [
    "# keys are sequence\n",
    "for key in recipe_keys:\n",
    "    print(key)"
   ]
  },
  {
   "cell_type": "code",
   "execution_count": 61,
   "id": "2cec8d46",
   "metadata": {},
   "outputs": [
    {
     "data": {
      "text/plain": [
       "'steak'"
      ]
     },
     "execution_count": 61,
     "metadata": {},
     "output_type": "execute_result"
    },
    {
     "data": {
      "text/plain": [
       "{'Tue': 'burger', 'Wed': 'ramen', 'Thu': 'dumpling', 'Fri': 'soup'}"
      ]
     },
     "execution_count": 61,
     "metadata": {},
     "output_type": "execute_result"
    }
   ],
   "source": [
    "# returns the value and remove that key-value pair\n",
    "recipe = {'Mon':'steak', 'Tue':'burger', 'Wed':'ramen', 'Thu':'dumpling', 'Fri':'soup'}\n",
    "recipe.pop('Mon')\n",
    "recipe"
   ]
  },
  {
   "cell_type": "code",
   "execution_count": 60,
   "id": "45f58d04",
   "metadata": {},
   "outputs": [
    {
     "data": {
      "text/plain": [
       "'Not found'"
      ]
     },
     "execution_count": 60,
     "metadata": {},
     "output_type": "execute_result"
    },
    {
     "data": {
      "text/plain": [
       "{'Mon': 'steak',\n",
       " 'Tue': 'burger',\n",
       " 'Wed': 'ramen',\n",
       " 'Thu': 'dumpling',\n",
       " 'Fri': 'soup'}"
      ]
     },
     "execution_count": 60,
     "metadata": {},
     "output_type": "execute_result"
    }
   ],
   "source": [
    "# define default value\n",
    "recipe = {'Mon':'steak', 'Tue':'burger', 'Wed':'ramen', 'Thu':'dumpling', 'Fri':'soup'}\n",
    "recipe.pop('Sat', 'Not found')\n",
    "recipe"
   ]
  },
  {
   "cell_type": "code",
   "execution_count": 42,
   "id": "781b153a",
   "metadata": {},
   "outputs": [
    {
     "data": {
      "text/plain": [
       "('Fri', 'soup')"
      ]
     },
     "execution_count": 42,
     "metadata": {},
     "output_type": "execute_result"
    },
    {
     "name": "stdout",
     "output_type": "stream",
     "text": [
      "{'Mon': 'steak', 'Tue': 'burger', 'Wed': 'ramen', 'Thu': 'dumpling'}\n"
     ]
    }
   ],
   "source": [
    "# remove the last pair and return that pair as a tuple\n",
    "recipe = {'Mon':'steak', 'Tue':'burger', 'Wed':'ramen', 'Thu':'dumpling', 'Fri':'soup'}\n",
    "recipe.popitem()\n",
    "print(recipe)"
   ]
  },
  {
   "cell_type": "code",
   "execution_count": 63,
   "id": "0b3c9fd9",
   "metadata": {},
   "outputs": [
    {
     "name": "stdout",
     "output_type": "stream",
     "text": [
      "Fri soup\n",
      "{'Mon': 'steak', 'Tue': 'burger', 'Wed': 'ramen', 'Thu': 'dumpling'}\n"
     ]
    }
   ],
   "source": [
    "# assign the returned key and value to individual vars\n",
    "recipe = {'Mon':'steak', 'Tue':'burger', 'Wed':'ramen', 'Thu':'dumpling', 'Fri':'soup'}\n",
    "a, b = recipe.popitem()\n",
    "print(a, b)\n",
    "print(recipe)"
   ]
  },
  {
   "cell_type": "code",
   "execution_count": 67,
   "id": "5609d912",
   "metadata": {
    "scrolled": true
   },
   "outputs": [
    {
     "name": "stdout",
     "output_type": "stream",
     "text": [
      "dict_values(['steak', 'burger', 'ramen', 'dumpling', 'soup'])\n",
      "steak\n",
      "burger\n",
      "ramen\n",
      "dumpling\n",
      "soup\n"
     ]
    }
   ],
   "source": [
    "# return values without keys\n",
    "recipe = {'Mon':'steak', 'Tue':'burger', 'Wed':'ramen', 'Thu':'dumpling', 'Fri':'soup'}\n",
    "recipe_values = recipe.values()\n",
    "print(recipe_values)\n",
    "\n",
    "for val in recipe_values:\n",
    "    print(val)"
   ]
  },
  {
   "cell_type": "markdown",
   "id": "9a20081f",
   "metadata": {},
   "source": [
    "#### Practice: use dictionary to simulate a deck of cards"
   ]
  },
  {
   "cell_type": "code",
   "execution_count": 82,
   "id": "12521d8b",
   "metadata": {},
   "outputs": [
    {
     "name": "stdout",
     "output_type": "stream",
     "text": [
      "Help on method choice in module random:\n",
      "\n",
      "choice(seq) method of random.Random instance\n",
      "    Choose a random element from a non-empty sequence.\n",
      "\n"
     ]
    }
   ],
   "source": [
    "# choice method\n",
    "help(random.choice)"
   ]
  },
  {
   "cell_type": "code",
   "execution_count": 83,
   "id": "fc2d946d",
   "metadata": {},
   "outputs": [
    {
     "name": "stdout",
     "output_type": "stream",
     "text": [
      "How many cards to deal: 5\n",
      "Ace of Hearts\n",
      "2 of Hearts\n",
      "9 of Diamonds\n",
      "7 of Hearts\n",
      "Queen of Diamonds\n",
      "Value of the hand: 29\n"
     ]
    }
   ],
   "source": [
    "# this program simulates a deck of cards\n",
    "import random \n",
    "\n",
    "def main():\n",
    "    # create a deck of cards\n",
    "    deck = create_deck()\n",
    "    \n",
    "    # get the number of cards\n",
    "    num_cards = int(input('How many cards to deal: '))\n",
    "    \n",
    "    # deal the cards \n",
    "    deal_cards(deck, num_cards)\n",
    "\n",
    "# create_deck() creates a dict containing \n",
    "# key-value pairs for a deck of cards\n",
    "def create_deck():\n",
    "    # create a dict with each card and value \n",
    "    deck = {'Ace of Spades':1, '2 of Spades':2, '3 of Spades':3,\n",
    "         '4 of Spades':4, '5 of Spades':5, '6 of Spades':6,\n",
    "         '7 of Spades':7, '8 of Spades':8, '9 of Spades':9,\n",
    "         '10 of Spades':10, 'Jack of Spades':10,\n",
    "         'Queen of Spades':10, 'King of Spades': 10,\n",
    "            \n",
    "         'Ace of Hearts':1, '2 of Hearts':2, '3 of Hearts':3,\n",
    "         '4 of Hearts':4, '5 of Hearts':5, '6 of Hearts':6,\n",
    "         '7 of Hearts':7, '8 of Hearts':8, '9 of Hearts':9,\n",
    "         '10 of Hearts':10, 'Jack of Hearts':10,\n",
    "         'Queen of Hearts':10, 'King of Hearts': 10,\n",
    "            \n",
    "         'Ace of Clubs':1, '2 of Clubs':2, '3 of Clubs':3,\n",
    "         '4 of Clubs':4, '5 of Clubs':5, '6 of Clubs':6,\n",
    "         '7 of Clubs':7, '8 of Clubs':8, '9 of Clubs':9,\n",
    "         '10 of Clubs':10, 'Jack of Clubs':10,\n",
    "         'Queen of Clubs':10, 'King of Clubs': 10,\n",
    "            \n",
    "         'Ace of Diamonds':1, '2 of Diamonds':2, '3 of Diamonds':3,\n",
    "         '4 of Diamonds':4, '5 of Diamonds':5, '6 of Diamonds':6,\n",
    "         '7 of Diamonds':7, '8 of Diamonds':8, '9 of Diamonds':9,\n",
    "         '10 of Diamonds':10, 'Jack of Diamonds':10,\n",
    "         'Queen of Diamonds':10, 'King of Diamonds': 10}\n",
    "    # return deck\n",
    "    return deck\n",
    "\n",
    "# deal_cards deals a specified # of cards\n",
    "def deal_cards(deck, number):\n",
    "    # hand value as accumulator\n",
    "    hand_value = 0\n",
    "    \n",
    "    # max # of cards wanted should be the # of cards in deck\n",
    "    if number > len(deck):\n",
    "        number = len(deck)\n",
    "        \n",
    "    # deal the cards and accumulate values \n",
    "    for i in range(number):\n",
    "        # randomly choose one from the deck\n",
    "        # list(deck) retrieves all keys in the dict\n",
    "        # can also do tulpe(deck)\n",
    "        card = random.choice(list(deck))\n",
    "        print(card)\n",
    "        hand_value += deck[card]\n",
    "    \n",
    "    # display value of the hand\n",
    "    print(f'Value of the hand: {hand_value}')\n",
    "    \n",
    "# call the main function\n",
    "if __name__ == '__main__':\n",
    "    main()"
   ]
  },
  {
   "cell_type": "markdown",
   "id": "ae0825a5",
   "metadata": {},
   "source": [
    "### Dict comprehensions\n",
    "A dictionary comprehension is an expression that reads a sequence of input elements and\n",
    "uses those input elements to produce a dictionary.\n",
    "\n",
    "`dict_name = {item:item**2 for item in list_name}`\n",
    "\n",
    "- `item:item**2` is the result expression\n",
    "- `for item in numbers` is the iteration expression\n",
    "\n",
    "#### use `if` with dict comprehensions\n",
    "When you only select certain elements, use `if`"
   ]
  },
  {
   "cell_type": "code",
   "execution_count": 84,
   "id": "0484c074",
   "metadata": {},
   "outputs": [
    {
     "data": {
      "text/plain": [
       "{1: 1, 2: 4, 3: 9, 4: 16}"
      ]
     },
     "execution_count": 84,
     "metadata": {},
     "output_type": "execute_result"
    }
   ],
   "source": [
    "numbers = [1, 2, 3, 4]\n",
    "squares = {1:1, 2:4, 3:9, 4:16}\n",
    "squares"
   ]
  },
  {
   "cell_type": "code",
   "execution_count": 87,
   "id": "8409b016",
   "metadata": {},
   "outputs": [
    {
     "data": {
      "text/plain": [
       "{1: 3, 2: 0, 3: 1, 4: 6}"
      ]
     },
     "execution_count": 87,
     "metadata": {},
     "output_type": "execute_result"
    }
   ],
   "source": [
    "squares = {}\n",
    "\n",
    "for num in numbers:\n",
    "    squares[num] = num^2\n",
    "    \n",
    "squares"
   ]
  },
  {
   "cell_type": "code",
   "execution_count": 88,
   "id": "435da71b",
   "metadata": {},
   "outputs": [
    {
     "data": {
      "text/plain": [
       "{1: 3, 2: 0, 3: 1, 4: 6}"
      ]
     },
     "execution_count": 88,
     "metadata": {},
     "output_type": "execute_result"
    }
   ],
   "source": [
    "# use dict comprehensions\n",
    "squares = {num: num^2 for num in numbers}\n",
    "squares"
   ]
  },
  {
   "cell_type": "code",
   "execution_count": 100,
   "id": "145d681c",
   "metadata": {
    "scrolled": true
   },
   "outputs": [
    {
     "data": {
      "text/plain": [
       "{'Mon': 'steak and cola',\n",
       " 'Tue': 'burger and cola',\n",
       " 'Wed': 'ramen and cola',\n",
       " 'Thu': 'dumpling and cola',\n",
       " 'Fri': 'soup and cola'}"
      ]
     },
     "execution_count": 100,
     "metadata": {},
     "output_type": "execute_result"
    }
   ],
   "source": [
    "# you can also use dict as input in comprehension\n",
    "new_recipe = {i:j + ' and cola' for i,j in recipe.items()}\n",
    "new_recipe"
   ]
  },
  {
   "cell_type": "code",
   "execution_count": 102,
   "id": "0560d227",
   "metadata": {},
   "outputs": [
    {
     "data": {
      "text/plain": [
       "{'Tue': 'burger', 'Thu': 'dumpling'}"
      ]
     },
     "execution_count": 102,
     "metadata": {},
     "output_type": "execute_result"
    }
   ],
   "source": [
    "# use if\n",
    "recipe_new = dict()\n",
    "for i,j in recipe.items():\n",
    "    # use string len\n",
    "    if len(j) > 5:\n",
    "        recipe_new[i] = j\n",
    "        \n",
    "recipe_new"
   ]
  },
  {
   "cell_type": "code",
   "execution_count": 103,
   "id": "f7ef4085",
   "metadata": {},
   "outputs": [
    {
     "data": {
      "text/plain": [
       "{'Tue': 'burger', 'Thu': 'dumpling'}"
      ]
     },
     "execution_count": 103,
     "metadata": {},
     "output_type": "execute_result"
    }
   ],
   "source": [
    "# use if with comprehension\n",
    "recipe_new = {i:j for i,j in recipe.items() if len(j) > 5}\n",
    "recipe_new"
   ]
  },
  {
   "cell_type": "code",
   "execution_count": null,
   "id": "7a190de2",
   "metadata": {},
   "outputs": [],
   "source": []
  }
 ],
 "metadata": {
  "kernelspec": {
   "display_name": "Python 3",
   "language": "python",
   "name": "python3"
  },
  "language_info": {
   "codemirror_mode": {
    "name": "ipython",
    "version": 3
   },
   "file_extension": ".py",
   "mimetype": "text/x-python",
   "name": "python",
   "nbconvert_exporter": "python",
   "pygments_lexer": "ipython3",
   "version": "3.9.5"
  }
 },
 "nbformat": 4,
 "nbformat_minor": 5
}
