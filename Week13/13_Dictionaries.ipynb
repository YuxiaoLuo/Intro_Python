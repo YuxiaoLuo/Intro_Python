{
 "cells": [
  {
   "cell_type": "markdown",
   "id": "f2d5313b",
   "metadata": {},
   "source": [
    "# Dictionaries and Sets\n",
    "## Dictionaries \n",
    "Concept: Dictionary is an object that stores a collection of data. Each item in a dictionary includes two parts: a key and a value. Key is used to locate a specific value.\n",
    "\n",
    "To create a dictionary, enclose the elements inside a set of `{}`.\n",
    "\n",
    "`recipe = {'Mon':'steak', 'Tue':'burger', 'Wed':'ramen'}`\n",
    "\n",
    "Note: key-value pairs are also referred to as mappings. "
   ]
  },
  {
   "cell_type": "markdown",
   "id": "f2ede6b2",
   "metadata": {},
   "source": [
    "### Create and retrieve\n",
    "1. Create a dict using curly braces `{}`\n",
    "2. You cannot use a numeric index to retrieve a value by the position of the item. You will use key to retrieve the value. Ex., `dictionary_name[key]`\n",
    "3. If the key exists, it returns a the value that is associated with the key. \n",
    "4. If the key doesn't exist, a `KeyError` exception will show up.  \n",
    "\n",
    "Note: \n",
    "- Before Python 3.6, dict doesn't have sequence and will not keep the order of the item as you entered. You neec to use another built-in OrderedDict class (a dictionary subclass specially designed to remember the order of items) to do that job.  \n",
    "- After Python 3.6, the built-in dict class keeps its items ordered as well.\n",
    "- If interested, can check out this [article](https://realpython.com/python-ordereddict/)."
   ]
  },
  {
   "cell_type": "code",
   "execution_count": 79,
   "id": "b2eca30d",
   "metadata": {},
   "outputs": [],
   "source": [
    "from IPython.core.interactiveshell import InteractiveShell\n",
    "InteractiveShell.ast_node_interactivity = \"all\""
   ]
  },
  {
   "cell_type": "code",
   "execution_count": 4,
   "id": "2220f1db",
   "metadata": {},
   "outputs": [
    {
     "data": {
      "text/plain": [
       "{'Mon': 'steak',\n",
       " 'Tue': 'burger',\n",
       " 'Wed': 'ramen',\n",
       " 'Thu': 'dumpling',\n",
       " 'Fri': 'soup'}"
      ]
     },
     "execution_count": 4,
     "metadata": {},
     "output_type": "execute_result"
    }
   ],
   "source": [
    "# retrieve value from dict\n",
    "recipe = {'Mon':'steak', 'Tue':'burger', 'Wed':'ramen', 'Thu':'dumpling', 'Fri':'soup'}\n",
    "recipe"
   ]
  },
  {
   "cell_type": "code",
   "execution_count": 7,
   "id": "fde9044c",
   "metadata": {
    "scrolled": true
   },
   "outputs": [
    {
     "data": {
      "text/plain": [
       "'steak'"
      ]
     },
     "execution_count": 7,
     "metadata": {},
     "output_type": "execute_result"
    }
   ],
   "source": [
    "recipe['Mon']"
   ]
  },
  {
   "cell_type": "markdown",
   "id": "49320205",
   "metadata": {},
   "source": [
    "### Add and delete elements\n",
    "1. Dictionaries are mutable, you can add new value using: `dictionary_name[key] = value`\n",
    "2. Each key should be unique and no duplicate keys can exist in one dictionary.\n",
    "    - If you assign a value to an existing key, the new value will replace the existing value\n",
    "3. Delete an existing ke-value pair using the `del` statement. `del dictionary_name[key]`\n",
    "    - If the key does not exist, a `KeyError` will occur. "
   ]
  },
  {
   "cell_type": "code",
   "execution_count": 9,
   "id": "307b0cc9",
   "metadata": {},
   "outputs": [
    {
     "name": "stdout",
     "output_type": "stream",
     "text": [
      "{'Mon': 'steak', 'Tue': 'burger', 'Wed': 'ramen', 'Thu': 'dumpling', 'Fri': 'soup'}\n",
      "{'Mon': 'steak', 'Tue': 'burger', 'Wed': 'ramen', 'Thu': 'dumpling', 'Fri': 'soup', 'Sat': 'salad'}\n"
     ]
    }
   ],
   "source": [
    "# create a dict\n",
    "recipe = {'Mon':'steak', 'Tue':'burger', 'Wed':'ramen', 'Thu':'dumpling', 'Fri':'soup'}\n",
    "print(recipe)\n",
    "\n",
    "# add new elements\n",
    "recipe['Sat'] = 'salad'\n",
    "print(recipe)"
   ]
  },
  {
   "cell_type": "code",
   "execution_count": 11,
   "id": "9fd6f703",
   "metadata": {},
   "outputs": [
    {
     "data": {
      "text/plain": [
       "{'Tue': 'burger', 'Wed': 'ramen', 'Thu': 'dumpling', 'Fri': 'soup'}"
      ]
     },
     "execution_count": 11,
     "metadata": {},
     "output_type": "execute_result"
    }
   ],
   "source": [
    "# create a dict\n",
    "recipe = {'Mon':'steak', 'Tue':'burger', 'Wed':'ramen', 'Thu':'dumpling', 'Fri':'soup'}\n",
    "# delete a key-value pair\n",
    "del recipe['Mon']\n",
    "recipe"
   ]
  },
  {
   "cell_type": "code",
   "execution_count": 15,
   "id": "9a85cd2d",
   "metadata": {},
   "outputs": [
    {
     "name": "stdout",
     "output_type": "stream",
     "text": [
      "There is no element called 'Sat'\n",
      "{'Mon': 'steak', 'Tue': 'burger', 'Wed': 'ramen', 'Thu': 'dumpling', 'Fri': 'soup'}\n"
     ]
    }
   ],
   "source": [
    "# if you want to prevent a key error in dict\n",
    "# use if before you try to delete something\n",
    "recipe = {'Mon':'steak', 'Tue':'burger', 'Wed':'ramen', 'Thu':'dumpling', 'Fri':'soup'}\n",
    "\n",
    "item_remove = 'Sat'\n",
    "\n",
    "if item_remove in recipe:\n",
    "    del recipe[item_remove]\n",
    "else:\n",
    "    print(f\"There is no element called '{item_remove}'\")\n",
    "\n",
    "print(recipe)"
   ]
  },
  {
   "cell_type": "markdown",
   "id": "8937fce8",
   "metadata": {},
   "source": [
    "### Data types in dict\n",
    "1. You can use built-in `len` function to count the number of items in a dict. \n",
    "2. The keys in dict must be immutable objects, ex., string, tuple. Their associated values can be any type of object. \n",
    "3. Create an empty dict for use. `recipe = {}` or `recipe = dict()`"
   ]
  },
  {
   "cell_type": "code",
   "execution_count": 16,
   "id": "47863a12",
   "metadata": {},
   "outputs": [
    {
     "data": {
      "text/plain": [
       "5"
      ]
     },
     "execution_count": 16,
     "metadata": {},
     "output_type": "execute_result"
    }
   ],
   "source": [
    "recipe = {'Mon':'steak', 'Tue':'burger', 'Wed':'ramen', 'Thu':'dumpling', 'Fri':'soup'}\n",
    "len(recipe)"
   ]
  },
  {
   "cell_type": "code",
   "execution_count": 19,
   "id": "20e4209a",
   "metadata": {},
   "outputs": [
    {
     "name": "stdout",
     "output_type": "stream",
     "text": [
      "['ramen', 'dumpling']\n"
     ]
    }
   ],
   "source": [
    "# create dict where values are lists\n",
    "recipe = {'Mon':['steak','salad'], \n",
    "          'Tue':['burger','fries'], \n",
    "          'Wed':['ramen', 'dumpling'], \n",
    "          'Thu':['sushi', 'pancake']}\n",
    "print(recipe['Wed'])"
   ]
  },
  {
   "cell_type": "code",
   "execution_count": 20,
   "id": "b6c32c5e",
   "metadata": {},
   "outputs": [
    {
     "data": {
      "text/plain": [
       "{'recipe': 5, 5: 'recipe', (1, 2, 3): ['Steak', 5, 6]}"
      ]
     },
     "execution_count": 20,
     "metadata": {},
     "output_type": "execute_result"
    }
   ],
   "source": [
    "# create dict with mixed types\n",
    "mixed_dict = {'recipe':5,\n",
    "              5:'recipe',\n",
    "              (1,2,3):['Steak',5,6]}\n",
    "\n",
    "mixed_dict"
   ]
  },
  {
   "cell_type": "code",
   "execution_count": 22,
   "id": "b3be5ecb",
   "metadata": {},
   "outputs": [
    {
     "name": "stdout",
     "output_type": "stream",
     "text": [
      "{'name': 'Smith', 'id': 565, 'payrate': 56.55}\n"
     ]
    }
   ],
   "source": [
    "# school employee\n",
    "employee = {'name':'Smith',\n",
    "           'id':565,\n",
    "           'payrate':56.55}\n",
    "print(employee)"
   ]
  },
  {
   "cell_type": "code",
   "execution_count": 23,
   "id": "642381c4",
   "metadata": {},
   "outputs": [
    {
     "name": "stdout",
     "output_type": "stream",
     "text": [
      "{'Mon': 'burger'}\n",
      "{'Mon': 'burger', 'Tue': 'ramen'}\n"
     ]
    }
   ],
   "source": [
    "# create an empty dict \n",
    "recipe = {}\n",
    "# add the element one by one\n",
    "recipe['Mon'] = 'burger'\n",
    "print(recipe)\n",
    "recipe['Tue'] = 'ramen'\n",
    "print(recipe)"
   ]
  },
  {
   "cell_type": "code",
   "execution_count": null,
   "id": "6d15235f",
   "metadata": {},
   "outputs": [],
   "source": [
    "# create an empty dict \n",
    "recipe = dict()\n",
    "# add the element one by one\n",
    "recipe['Mon'] = 'burger'\n",
    "print(recipe)\n",
    "recipe['Tue'] = 'ramen'\n",
    "print(recipe)"
   ]
  },
  {
   "cell_type": "markdown",
   "id": "0c107438",
   "metadata": {},
   "source": [
    "### Use `for` loop over dict\n",
    "1. A `for` loop iterates once for each element in the dictionary. Each time the loop iterates, `var` is assigned a key.\n",
    "\n",
    "`\n",
    "for var in dictionary:\n",
    "    statement\n",
    "    statement\n",
    "    etc.\n",
    "`\n"
   ]
  },
  {
   "cell_type": "code",
   "execution_count": 25,
   "id": "abe9c2a6",
   "metadata": {
    "scrolled": true
   },
   "outputs": [
    {
     "name": "stdout",
     "output_type": "stream",
     "text": [
      "Mon steak\n",
      "Tue burger\n",
      "Wed ramen\n",
      "Thu dumpling\n",
      "Fri soup\n"
     ]
    }
   ],
   "source": [
    "recipe = {'Mon':'steak', 'Tue':'burger', 'Wed':'ramen', 'Thu':'dumpling', 'Fri':'soup'}\n",
    "\n",
    "for food in recipe:\n",
    "    print(food, recipe[food])"
   ]
  },
  {
   "cell_type": "markdown",
   "id": "610cb755",
   "metadata": {},
   "source": [
    "### Dictionary methods\n",
    "Dictionary objects have several methods. We only look at some most useful ones in this course.\n",
    "1. `clear` clears the contents of a dict\n",
    "\n",
    "2. `get` gets the value associated with a specified key. If the key is not found, the method does not raise an exception. Instead, it returns a default value you specified.\n",
    "    - as an alternative to the `[]` operator for getting value\n",
    "    \n",
    "3. `items` returns all the keys in a dict and their associated values as a sequence of tuples. \n",
    "\n",
    "4. `keys` returns all keys in a dict as a sequence of tuples. \n",
    "\n",
    "5. `pop` returns value associated with a specified key and remove that key-value pair from the dictionary.If the key is not found, the method returns a default value.\n",
    "\n",
    "6. `popitem` returns the key-value pair that was last added to the dictionary as a tuple. \n",
    "    - will raise a *KeyError* exception if it is called on an empty dict\n",
    "7. `values` returns all values in the dict as a sequence of tuples. "
   ]
  },
  {
   "cell_type": "code",
   "execution_count": 46,
   "id": "e525fa43",
   "metadata": {},
   "outputs": [
    {
     "name": "stdout",
     "output_type": "stream",
     "text": [
      "{'Mon': 'steak', 'Tue': 'burger', 'Wed': 'ramen', 'Thu': 'dumpling', 'Fri': 'soup'}\n",
      "None\n"
     ]
    }
   ],
   "source": [
    "recipe = {'Mon':'steak', 'Tue':'burger', 'Wed':'ramen', 'Thu':'dumpling', 'Fri':'soup'}\n",
    "print(recipe)\n",
    "print(recipe.clear())"
   ]
  },
  {
   "cell_type": "code",
   "execution_count": 44,
   "id": "f04c7bf0",
   "metadata": {},
   "outputs": [
    {
     "data": {
      "text/plain": [
       "'steak'"
      ]
     },
     "execution_count": 44,
     "metadata": {},
     "output_type": "execute_result"
    },
    {
     "data": {
      "text/plain": [
       "'Entry not found'"
      ]
     },
     "execution_count": 44,
     "metadata": {},
     "output_type": "execute_result"
    }
   ],
   "source": [
    "# get value with specified key\n",
    "recipe = {'Mon':'steak', 'Tue':'burger', 'Wed':'ramen', 'Thu':'dumpling', 'Fri':'soup'}\n",
    "recipe.get('Mon', 'Entry not found')\n",
    "\n",
    "recipe.get('Sat', 'Entry not found')"
   ]
  },
  {
   "cell_type": "code",
   "execution_count": 50,
   "id": "57b024b0",
   "metadata": {},
   "outputs": [
    {
     "data": {
      "text/plain": [
       "dict_items([('Mon', 'steak'), ('Tue', 'burger'), ('Wed', 'ramen'), ('Thu', 'dumpling'), ('Fri', 'soup')])"
      ]
     },
     "execution_count": 50,
     "metadata": {},
     "output_type": "execute_result"
    }
   ],
   "source": [
    "# return all the key-value pairs\n",
    "recipe = {'Mon':'steak', 'Tue':'burger', 'Wed':'ramen', 'Thu':'dumpling', 'Fri':'soup'}\n",
    "recipe_items = recipe.items()\n",
    "recipe_items"
   ]
  },
  {
   "cell_type": "code",
   "execution_count": 55,
   "id": "db3d6276",
   "metadata": {},
   "outputs": [
    {
     "name": "stdout",
     "output_type": "stream",
     "text": [
      "('Mon', 'steak')\n",
      "('Tue', 'burger')\n",
      "('Wed', 'ramen')\n",
      "('Thu', 'dumpling')\n",
      "('Fri', 'soup')\n"
     ]
    }
   ],
   "source": [
    "# use for loop to iterate\n",
    "for pair in recipe_items:\n",
    "    print(pair)"
   ]
  },
  {
   "cell_type": "code",
   "execution_count": 56,
   "id": "e84abb95",
   "metadata": {},
   "outputs": [
    {
     "name": "stdout",
     "output_type": "stream",
     "text": [
      "Mon steak\n",
      "Tue burger\n",
      "Wed ramen\n",
      "Thu dumpling\n",
      "Fri soup\n"
     ]
    }
   ],
   "source": [
    "for key, value in recipe_items:\n",
    "    print(key, value)"
   ]
  },
  {
   "cell_type": "code",
   "execution_count": 57,
   "id": "480f2c62",
   "metadata": {},
   "outputs": [
    {
     "data": {
      "text/plain": [
       "dict_keys(['Mon', 'Tue', 'Wed', 'Thu', 'Fri'])"
      ]
     },
     "execution_count": 57,
     "metadata": {},
     "output_type": "execute_result"
    }
   ],
   "source": [
    "# return all keys\n",
    "recipe_keys = recipe.keys()\n",
    "recipe_keys"
   ]
  },
  {
   "cell_type": "code",
   "execution_count": 59,
   "id": "99ccafef",
   "metadata": {
    "scrolled": true
   },
   "outputs": [
    {
     "name": "stdout",
     "output_type": "stream",
     "text": [
      "Mon\n",
      "Tue\n",
      "Wed\n",
      "Thu\n",
      "Fri\n"
     ]
    }
   ],
   "source": [
    "# keys are sequence\n",
    "for key in recipe_keys:\n",
    "    print(key)"
   ]
  },
  {
   "cell_type": "code",
   "execution_count": 61,
   "id": "d58d95a5",
   "metadata": {},
   "outputs": [
    {
     "data": {
      "text/plain": [
       "'steak'"
      ]
     },
     "execution_count": 61,
     "metadata": {},
     "output_type": "execute_result"
    },
    {
     "data": {
      "text/plain": [
       "{'Tue': 'burger', 'Wed': 'ramen', 'Thu': 'dumpling', 'Fri': 'soup'}"
      ]
     },
     "execution_count": 61,
     "metadata": {},
     "output_type": "execute_result"
    }
   ],
   "source": [
    "# returns the value and remove that key-value pair\n",
    "recipe = {'Mon':'steak', 'Tue':'burger', 'Wed':'ramen', 'Thu':'dumpling', 'Fri':'soup'}\n",
    "recipe.pop('Mon')\n",
    "recipe"
   ]
  },
  {
   "cell_type": "code",
   "execution_count": 60,
   "id": "cc3554a5",
   "metadata": {},
   "outputs": [
    {
     "data": {
      "text/plain": [
       "'Not found'"
      ]
     },
     "execution_count": 60,
     "metadata": {},
     "output_type": "execute_result"
    },
    {
     "data": {
      "text/plain": [
       "{'Mon': 'steak',\n",
       " 'Tue': 'burger',\n",
       " 'Wed': 'ramen',\n",
       " 'Thu': 'dumpling',\n",
       " 'Fri': 'soup'}"
      ]
     },
     "execution_count": 60,
     "metadata": {},
     "output_type": "execute_result"
    }
   ],
   "source": [
    "# define default value\n",
    "recipe = {'Mon':'steak', 'Tue':'burger', 'Wed':'ramen', 'Thu':'dumpling', 'Fri':'soup'}\n",
    "recipe.pop('Sat', 'Not found')\n",
    "recipe"
   ]
  },
  {
   "cell_type": "code",
   "execution_count": 42,
   "id": "70a64123",
   "metadata": {},
   "outputs": [
    {
     "data": {
      "text/plain": [
       "('Fri', 'soup')"
      ]
     },
     "execution_count": 42,
     "metadata": {},
     "output_type": "execute_result"
    },
    {
     "name": "stdout",
     "output_type": "stream",
     "text": [
      "{'Mon': 'steak', 'Tue': 'burger', 'Wed': 'ramen', 'Thu': 'dumpling'}\n"
     ]
    }
   ],
   "source": [
    "# remove the last pair and return that pair as a tuple\n",
    "recipe = {'Mon':'steak', 'Tue':'burger', 'Wed':'ramen', 'Thu':'dumpling', 'Fri':'soup'}\n",
    "recipe.popitem()\n",
    "print(recipe)"
   ]
  },
  {
   "cell_type": "code",
   "execution_count": 63,
   "id": "0dd4e88c",
   "metadata": {},
   "outputs": [
    {
     "name": "stdout",
     "output_type": "stream",
     "text": [
      "Fri soup\n",
      "{'Mon': 'steak', 'Tue': 'burger', 'Wed': 'ramen', 'Thu': 'dumpling'}\n"
     ]
    }
   ],
   "source": [
    "# assign the returned key and value to individual vars\n",
    "recipe = {'Mon':'steak', 'Tue':'burger', 'Wed':'ramen', 'Thu':'dumpling', 'Fri':'soup'}\n",
    "a, b = recipe.popitem()\n",
    "print(a, b)\n",
    "print(recipe)"
   ]
  },
  {
   "cell_type": "code",
   "execution_count": 67,
   "id": "8475443d",
   "metadata": {
    "scrolled": true
   },
   "outputs": [
    {
     "name": "stdout",
     "output_type": "stream",
     "text": [
      "dict_values(['steak', 'burger', 'ramen', 'dumpling', 'soup'])\n",
      "steak\n",
      "burger\n",
      "ramen\n",
      "dumpling\n",
      "soup\n"
     ]
    }
   ],
   "source": [
    "# return values without keys\n",
    "recipe = {'Mon':'steak', 'Tue':'burger', 'Wed':'ramen', 'Thu':'dumpling', 'Fri':'soup'}\n",
    "recipe_values = recipe.values()\n",
    "print(recipe_values)\n",
    "\n",
    "for val in recipe_values:\n",
    "    print(val)"
   ]
  },
  {
   "cell_type": "markdown",
   "id": "65bac2f1",
   "metadata": {},
   "source": [
    "#### Practice: use dictionary to simulate a deck of cards"
   ]
  },
  {
   "cell_type": "code",
   "execution_count": 82,
   "id": "567ff00c",
   "metadata": {},
   "outputs": [
    {
     "name": "stdout",
     "output_type": "stream",
     "text": [
      "Help on method choice in module random:\n",
      "\n",
      "choice(seq) method of random.Random instance\n",
      "    Choose a random element from a non-empty sequence.\n",
      "\n"
     ]
    }
   ],
   "source": [
    "# choice method\n",
    "help(random.choice)"
   ]
  },
  {
   "cell_type": "code",
   "execution_count": 105,
   "id": "b73f768c",
   "metadata": {},
   "outputs": [
    {
     "name": "stdout",
     "output_type": "stream",
     "text": [
      "How many cards to deal: 3\n",
      "2 of Diamonds\n",
      "9 of Clubs\n",
      "9 of Diamonds\n",
      "Value of the hand: 20\n"
     ]
    }
   ],
   "source": [
    "# this program simulates a deck of cards\n",
    "import random \n",
    "\n",
    "def main():\n",
    "    # create a deck of cards\n",
    "    deck = create_deck()\n",
    "    \n",
    "    # get the number of cards\n",
    "    num_cards = int(input('How many cards to deal: '))\n",
    "    \n",
    "    # deal the cards \n",
    "    deal_cards(deck, num_cards)\n",
    "\n",
    "# create_deck() creates a dict containing \n",
    "# key-value pairs for a deck of cards\n",
    "def create_deck():\n",
    "    # create a dict with each card and value \n",
    "    deck = {'Ace of Spades':1, '2 of Spades':2, '3 of Spades':3,\n",
    "         '4 of Spades':4, '5 of Spades':5, '6 of Spades':6,\n",
    "         '7 of Spades':7, '8 of Spades':8, '9 of Spades':9,\n",
    "         '10 of Spades':10, 'Jack of Spades':10,\n",
    "         'Queen of Spades':10, 'King of Spades': 10,\n",
    "            \n",
    "         'Ace of Hearts':1, '2 of Hearts':2, '3 of Hearts':3,\n",
    "         '4 of Hearts':4, '5 of Hearts':5, '6 of Hearts':6,\n",
    "         '7 of Hearts':7, '8 of Hearts':8, '9 of Hearts':9,\n",
    "         '10 of Hearts':10, 'Jack of Hearts':10,\n",
    "         'Queen of Hearts':10, 'King of Hearts': 10,\n",
    "            \n",
    "         'Ace of Clubs':1, '2 of Clubs':2, '3 of Clubs':3,\n",
    "         '4 of Clubs':4, '5 of Clubs':5, '6 of Clubs':6,\n",
    "         '7 of Clubs':7, '8 of Clubs':8, '9 of Clubs':9,\n",
    "         '10 of Clubs':10, 'Jack of Clubs':10,\n",
    "         'Queen of Clubs':10, 'King of Clubs': 10,\n",
    "            \n",
    "         'Ace of Diamonds':1, '2 of Diamonds':2, '3 of Diamonds':3,\n",
    "         '4 of Diamonds':4, '5 of Diamonds':5, '6 of Diamonds':6,\n",
    "         '7 of Diamonds':7, '8 of Diamonds':8, '9 of Diamonds':9,\n",
    "         '10 of Diamonds':10, 'Jack of Diamonds':10,\n",
    "         'Queen of Diamonds':10, 'King of Diamonds': 10}\n",
    "    # return deck, dict\n",
    "    return deck\n",
    "\n",
    "# deal_cards deals a specified # of cards\n",
    "def deal_cards(deck, number):\n",
    "    # hand value as accumulator\n",
    "    hand_value = 0\n",
    "    \n",
    "    # max # of cards wanted should be the # of cards in deck\n",
    "    if number > len(deck):\n",
    "        number = len(deck)\n",
    "        \n",
    "    # deal the cards and accumulate values \n",
    "    for i in range(number):\n",
    "        # randomly choose one from the deck\n",
    "        # list(deck) retrieves all keys in the dict\n",
    "        # can also do tulpe(deck)\n",
    "        card = random.choice(list(deck))\n",
    "        print(card)\n",
    "        hand_value += deck[card]\n",
    "    \n",
    "    # display value of the hand\n",
    "    print(f'Value of the hand: {hand_value}')\n",
    "    \n",
    "# call the main function\n",
    "if __name__ == '__main__':\n",
    "    main()"
   ]
  },
  {
   "cell_type": "markdown",
   "id": "12893829",
   "metadata": {},
   "source": [
    "### Dict comprehensions\n",
    "A dictionary comprehension is an expression that reads a sequence of input elements and\n",
    "uses those input elements to produce a dictionary.\n",
    "\n",
    "`dict_name = {item:item**2 for item in list_name}`\n",
    "\n",
    "- `item:item**2` is the result expression\n",
    "- `for item in numbers` is the iteration expression\n",
    "\n",
    "#### use `if` with dict comprehensions\n",
    "When you only select certain elements, use `if`"
   ]
  },
  {
   "cell_type": "code",
   "execution_count": 84,
   "id": "824eee8b",
   "metadata": {},
   "outputs": [
    {
     "data": {
      "text/plain": [
       "{1: 1, 2: 4, 3: 9, 4: 16}"
      ]
     },
     "execution_count": 84,
     "metadata": {},
     "output_type": "execute_result"
    }
   ],
   "source": [
    "numbers = [1, 2, 3, 4]\n",
    "squares = {1:1, 2:4, 3:9, 4:16}\n",
    "squares"
   ]
  },
  {
   "cell_type": "code",
   "execution_count": 87,
   "id": "35d106f3",
   "metadata": {},
   "outputs": [
    {
     "data": {
      "text/plain": [
       "{1: 3, 2: 0, 3: 1, 4: 6}"
      ]
     },
     "execution_count": 87,
     "metadata": {},
     "output_type": "execute_result"
    }
   ],
   "source": [
    "squares = {}\n",
    "\n",
    "for num in numbers:\n",
    "    squares[num] = num^2\n",
    "    \n",
    "squares"
   ]
  },
  {
   "cell_type": "code",
   "execution_count": 88,
   "id": "c2d9b49b",
   "metadata": {},
   "outputs": [
    {
     "data": {
      "text/plain": [
       "{1: 3, 2: 0, 3: 1, 4: 6}"
      ]
     },
     "execution_count": 88,
     "metadata": {},
     "output_type": "execute_result"
    }
   ],
   "source": [
    "# use dict comprehensions\n",
    "squares = {num: num^2 for num in numbers}\n",
    "squares"
   ]
  },
  {
   "cell_type": "code",
   "execution_count": 106,
   "id": "d3ef9636",
   "metadata": {
    "scrolled": true
   },
   "outputs": [
    {
     "name": "stdout",
     "output_type": "stream",
     "text": [
      "{'Mon': 'steak', 'Tue': 'burger', 'Wed': 'ramen', 'Thu': 'dumpling', 'Fri': 'soup'}\n"
     ]
    },
    {
     "data": {
      "text/plain": [
       "{'Mon': 'steak and cola',\n",
       " 'Tue': 'burger and cola',\n",
       " 'Wed': 'ramen and cola',\n",
       " 'Thu': 'dumpling and cola',\n",
       " 'Fri': 'soup and cola'}"
      ]
     },
     "execution_count": 106,
     "metadata": {},
     "output_type": "execute_result"
    }
   ],
   "source": [
    "# you can also use dict as input in comprehension\n",
    "print(recipe)\n",
    "new_recipe = {i:j + ' and cola' for i,j in recipe.items()}\n",
    "new_recipe"
   ]
  },
  {
   "cell_type": "code",
   "execution_count": 102,
   "id": "13ea16a9",
   "metadata": {},
   "outputs": [
    {
     "data": {
      "text/plain": [
       "{'Tue': 'burger', 'Thu': 'dumpling'}"
      ]
     },
     "execution_count": 102,
     "metadata": {},
     "output_type": "execute_result"
    }
   ],
   "source": [
    "# use if\n",
    "recipe_new = dict()\n",
    "for i,j in recipe.items():\n",
    "    # use string len\n",
    "    if len(j) > 5:\n",
    "        recipe_new[i] = j\n",
    "        \n",
    "recipe_new"
   ]
  },
  {
   "cell_type": "code",
   "execution_count": 103,
   "id": "40cf571c",
   "metadata": {},
   "outputs": [
    {
     "data": {
      "text/plain": [
       "{'Tue': 'burger', 'Thu': 'dumpling'}"
      ]
     },
     "execution_count": 103,
     "metadata": {},
     "output_type": "execute_result"
    }
   ],
   "source": [
    "# use if with comprehension\n",
    "recipe_new = {i:j for i,j in recipe.items() if len(j) > 5}\n",
    "recipe_new"
   ]
  },
  {
   "cell_type": "markdown",
   "id": "57d9ad6f",
   "metadata": {},
   "source": [
    "## Sets\n",
    "Concept: a set contains a collection of unique values and works like a math set.\n",
    "\n",
    "- All the elements in a set must be unique and cannot be same values. (like the keys in dict)\n",
    "\n",
    "- Sets are unordered and elements in a set are not stored in any particular order.\n",
    "\n",
    "- The elements stored in a set can be of different data types.\n",
    "\n",
    "### Create set\n",
    "Use the built-in set function to create a set. Ex., `myset = set()` will create an empty set.\n",
    "- You can pass one argument to the `set` function and the argument should be an object containing iterable elements, such as list, tuple, string.\n",
    "- The individual elements of the object becomes elements of the set. "
   ]
  },
  {
   "cell_type": "code",
   "execution_count": 8,
   "id": "5f6c9bed",
   "metadata": {},
   "outputs": [
    {
     "data": {
      "text/plain": [
       "{1, 2, 3, 99}"
      ]
     },
     "execution_count": 8,
     "metadata": {},
     "output_type": "execute_result"
    }
   ],
   "source": [
    "# create a set\n",
    "numbers = set([1,2,3,99])\n",
    "numbers"
   ]
  },
  {
   "cell_type": "code",
   "execution_count": 4,
   "id": "359644d8",
   "metadata": {},
   "outputs": [
    {
     "data": {
      "text/plain": [
       "{'b', 'e', 'g', 'r', 'u'}"
      ]
     },
     "execution_count": 4,
     "metadata": {},
     "output_type": "execute_result"
    }
   ],
   "source": [
    "# if you pass a string\n",
    "# letters will become elements\n",
    "food = set('burger')\n",
    "food"
   ]
  },
  {
   "cell_type": "code",
   "execution_count": 5,
   "id": "7b697462",
   "metadata": {},
   "outputs": [
    {
     "data": {
      "text/plain": [
       "{'a', 'i', 'p', 'z'}"
      ]
     },
     "execution_count": 5,
     "metadata": {},
     "output_type": "execute_result"
    }
   ],
   "source": [
    "# sets cannot contain duplicate elements\n",
    "food = set('pizza')\n",
    "food"
   ]
  },
  {
   "cell_type": "code",
   "execution_count": 7,
   "id": "568469e4",
   "metadata": {},
   "outputs": [
    {
     "data": {
      "text/plain": [
       "{'burger', 'pizza', 'steak'}"
      ]
     },
     "execution_count": 7,
     "metadata": {},
     "output_type": "execute_result"
    }
   ],
   "source": [
    "# if you want to pass multiple strings to a set\n",
    "# use list to make the argument one element\n",
    "food = set(['burger', 'steak', 'pizza'])\n",
    "food"
   ]
  },
  {
   "cell_type": "markdown",
   "id": "f781b3de",
   "metadata": {},
   "source": [
    "### Length, add, and remove elements\n",
    "\n",
    "- `len()`\n",
    "\n",
    "Some useful methods for set:\n",
    "- `add()` method adds new item in the set, but it does not add the item if you try to add a duplicate item\n",
    "- `update()` \n",
    "    - will add a group of elements to a set all at one time. \n",
    "    - The argument must be an iterable, such as list, tuple, string, or another set. \n",
    "    - Can also use to merge 2 sets or 2 dictionaries.\n",
    "    \n",
    "- `remove()` removes an item from a set. Will raise a `KeyError` exception if the specified item is not found in the set.\n",
    "- `discard()` also removes an item from a set. Will not raise a `KeyError` exception.\n",
    "- `clear()` clear all elements in the set."
   ]
  },
  {
   "cell_type": "code",
   "execution_count": 9,
   "id": "5e2285c0",
   "metadata": {},
   "outputs": [
    {
     "data": {
      "text/plain": [
       "3"
      ]
     },
     "execution_count": 9,
     "metadata": {},
     "output_type": "execute_result"
    }
   ],
   "source": [
    "# use len to count length\n",
    "food = set(['burger', 'steak', 'pizza'])\n",
    "len(food)"
   ]
  },
  {
   "cell_type": "code",
   "execution_count": 12,
   "id": "a10fbc4d",
   "metadata": {},
   "outputs": [
    {
     "name": "stdout",
     "output_type": "stream",
     "text": [
      "{'burger'}\n",
      "{1, 'burger'}\n",
      "{1, 'burger', 'sushi'}\n"
     ]
    }
   ],
   "source": [
    "# create a set\n",
    "food = set(['burger'])\n",
    "print(food)\n",
    "\n",
    "# add a number\n",
    "food.add(1)\n",
    "print(food)\n",
    "\n",
    "# add a string\n",
    "food.add('sushi')\n",
    "print(food)"
   ]
  },
  {
   "cell_type": "code",
   "execution_count": 14,
   "id": "1bdadf7f",
   "metadata": {},
   "outputs": [
    {
     "name": "stdout",
     "output_type": "stream",
     "text": [
      "{1, 'burger', 'sushi'}\n",
      "{1, 'burger', 'sushi'}\n"
     ]
    }
   ],
   "source": [
    "# add for duplicate item\n",
    "print(food)\n",
    "food.add(1)\n",
    "print(food)"
   ]
  },
  {
   "cell_type": "code",
   "execution_count": 16,
   "id": "0655dcfe",
   "metadata": {},
   "outputs": [
    {
     "name": "stdout",
     "output_type": "stream",
     "text": [
      "{1, 2, 3}\n",
      "{1, 2, 3, 4, 5, 6}\n"
     ]
    }
   ],
   "source": [
    "# update()\n",
    "numbers = set([1,2,3])\n",
    "print(numbers)\n",
    "numbers.update([4,5,6])\n",
    "print(numbers)"
   ]
  },
  {
   "cell_type": "code",
   "execution_count": 18,
   "id": "80f6559f",
   "metadata": {},
   "outputs": [
    {
     "name": "stdout",
     "output_type": "stream",
     "text": [
      "{1, 2, 3, 4, 5, 6}\n"
     ]
    }
   ],
   "source": [
    "# use update() to combine 2 sets\n",
    "numbers1 = set([1,2,3])\n",
    "numbers2 = set([4,5,6])\n",
    "numbers1.update(numbers2)\n",
    "print(numbers1)"
   ]
  },
  {
   "cell_type": "code",
   "execution_count": 38,
   "id": "cfb4deba",
   "metadata": {},
   "outputs": [
    {
     "name": "stdout",
     "output_type": "stream",
     "text": [
      "{1, 2, 3, 4, 5}\n",
      "{'a', 'c', 'b'}\n",
      "{'a', 1, 2, 3, 4, 5, 'b', 'c'}\n"
     ]
    }
   ],
   "source": [
    "# update sets with strings\n",
    "numbers = set([1,2,3,3,4,5])\n",
    "print(numbers)\n",
    "\n",
    "letters = set('abc')\n",
    "print(letters)\n",
    "\n",
    "numbers.update(letters)\n",
    "print(numbers)"
   ]
  },
  {
   "cell_type": "code",
   "execution_count": 25,
   "id": "153cf272",
   "metadata": {},
   "outputs": [
    {
     "name": "stdout",
     "output_type": "stream",
     "text": [
      "{1: 1, 2: 2, 3: 3, 4: 4, 5: 5, 6: 3}\n"
     ]
    }
   ],
   "source": [
    "# use update for dictionary\n",
    "numbers1 = {1:1, 2:2, 3:3}\n",
    "numbers2 = {4:4, 5:5, 6:3}\n",
    "numbers1.update(numbers2)\n",
    "print(numbers1)"
   ]
  },
  {
   "cell_type": "code",
   "execution_count": 35,
   "id": "9cd67220",
   "metadata": {},
   "outputs": [
    {
     "data": {
      "text/plain": [
       "{1: 1, 2: 2, 3: 3, 4: 4, 5: 5, 6: 3}"
      ]
     },
     "execution_count": 35,
     "metadata": {},
     "output_type": "execute_result"
    }
   ],
   "source": [
    "# or use | for dict\n",
    "numbers1 = {1:1, 2:2, 3:3}\n",
    "numbers2 = {4:4, 5:5, 6:3}\n",
    "numbers1 | numbers2"
   ]
  },
  {
   "cell_type": "code",
   "execution_count": 28,
   "id": "7cf91d2b",
   "metadata": {},
   "outputs": [
    {
     "name": "stdout",
     "output_type": "stream",
     "text": [
      "[1, 2, 3, 4, 5, 6]\n"
     ]
    }
   ],
   "source": [
    "# in list \n",
    "# this is extend()\n",
    "numbers1 = [1,2,3]\n",
    "numbers2 = [4,5,6]\n",
    "numbers1.extend(numbers2)\n",
    "print(numbers1)"
   ]
  },
  {
   "cell_type": "code",
   "execution_count": 34,
   "id": "dfeb3b51",
   "metadata": {},
   "outputs": [
    {
     "data": {
      "text/plain": [
       "(1, 2, 3, 4, 5, 6)"
      ]
     },
     "execution_count": 34,
     "metadata": {},
     "output_type": "execute_result"
    }
   ],
   "source": [
    "# neither extend() or update() work for tuple\n",
    "# tuple is immutable\n",
    "numbers1 = (1,2,3)\n",
    "numbers2 = (4,5,6)\n",
    "numbers1+numbers2"
   ]
  },
  {
   "cell_type": "code",
   "execution_count": 63,
   "id": "ac8c5f6a",
   "metadata": {},
   "outputs": [
    {
     "name": "stdout",
     "output_type": "stream",
     "text": [
      "{'pizza', 'steak'}\n"
     ]
    }
   ],
   "source": [
    "# remove()\n",
    "food = set(['burger', 'steak', 'pizza'])\n",
    "food.remove('burger')\n",
    "print(food)"
   ]
  },
  {
   "cell_type": "code",
   "execution_count": 64,
   "id": "29818040",
   "metadata": {},
   "outputs": [
    {
     "ename": "KeyError",
     "evalue": "'cola'",
     "output_type": "error",
     "traceback": [
      "\u001b[1;31m---------------------------------------------------------------------------\u001b[0m",
      "\u001b[1;31mKeyError\u001b[0m                                  Traceback (most recent call last)",
      "\u001b[1;32m<ipython-input-64-727e2d7f4400>\u001b[0m in \u001b[0;36m<module>\u001b[1;34m\u001b[0m\n\u001b[0;32m      1\u001b[0m \u001b[1;31m# remove will return KeyError for item non-found\u001b[0m\u001b[1;33m\u001b[0m\u001b[1;33m\u001b[0m\u001b[1;33m\u001b[0m\u001b[0m\n\u001b[1;32m----> 2\u001b[1;33m \u001b[0mfood\u001b[0m\u001b[1;33m.\u001b[0m\u001b[0mremove\u001b[0m\u001b[1;33m(\u001b[0m\u001b[1;34m'cola'\u001b[0m\u001b[1;33m)\u001b[0m\u001b[1;33m\u001b[0m\u001b[1;33m\u001b[0m\u001b[0m\n\u001b[0m",
      "\u001b[1;31mKeyError\u001b[0m: 'cola'"
     ]
    }
   ],
   "source": [
    "# remove will return KeyError for item non-found\n",
    "food.remove('cola')"
   ]
  },
  {
   "cell_type": "code",
   "execution_count": 58,
   "id": "363cc99a",
   "metadata": {},
   "outputs": [
    {
     "name": "stdout",
     "output_type": "stream",
     "text": [
      "The key doesn't exist\n"
     ]
    }
   ],
   "source": [
    "# how to handle KeyError\n",
    "try:\n",
    "    food.remove('cola')\n",
    "except KeyError:\n",
    "    print(\"The key doesn't exist\")"
   ]
  },
  {
   "cell_type": "code",
   "execution_count": 67,
   "id": "9a8feb7b",
   "metadata": {},
   "outputs": [
    {
     "name": "stdout",
     "output_type": "stream",
     "text": [
      "{'pizza', 'steak'}\n",
      "{'pizza', 'steak'}\n"
     ]
    }
   ],
   "source": [
    "# use discard()\n",
    "food = set(['burger', 'steak', 'pizza'])\n",
    "food.discard('burger')\n",
    "print(food)\n",
    "\n",
    "# will not raise KeyError\n",
    "food.discard('cola')\n",
    "print(food)"
   ]
  },
  {
   "cell_type": "markdown",
   "id": "5897884b",
   "metadata": {},
   "source": [
    "### Using `for` loop over a set\n",
    "\n",
    "`for var in set:\n",
    "    statement\n",
    "    statement\n",
    "    etc.`"
   ]
  },
  {
   "cell_type": "code",
   "execution_count": 68,
   "id": "807c63d1",
   "metadata": {},
   "outputs": [
    {
     "name": "stdout",
     "output_type": "stream",
     "text": [
      "5\n",
      "6\n",
      "8\n",
      "5\n",
      "5\n"
     ]
    }
   ],
   "source": [
    "food = set(['burger', 'steak', 'dumpling', 'fries', 'ramen'])\n",
    "for i in food:\n",
    "    print(len(i))"
   ]
  },
  {
   "cell_type": "markdown",
   "id": "4d301a5e",
   "metadata": {},
   "source": [
    "### Other operations in sets\n",
    "\n",
    "- Test for a value in set\n",
    "\n",
    "- Find the union of sets\n",
    "    - The union of two sets is a set that contains all the elements of both sets.\n",
    "    - Use `union()` method or `|` \n",
    "    \n",
    "- Find the intersection of sets\n",
    "    - The intersection of two sets is a set that contains only the elements that are found in both sets.\n",
    "    - Use `intersection()` method or `&`\n",
    "    \n",
    "- Find difference of sets\n",
    "    - The difference of set1 and set2 is the elements that appear in set1 but do not appear in set2.\n",
    "    - `difference()` method or `-`\n",
    "- Find symmetric difference of sets\n",
    "    - Find the elements that are in one set but not in both.\n",
    "    - `symmetric_difference()` method or `^`\n",
    "    \n",
    "- Find subsets and supersets\n",
    "    - set1 contains all the elements of set2, which means that set2 is a subset of set1. It also means that set1 is a superset of set2.\n",
    "    - `issubset()` method or `<=`\n",
    "    - `issuperset()` method or `>=`\n",
    "    - returning boolean `True` or `False`"
   ]
  },
  {
   "cell_type": "code",
   "execution_count": 70,
   "id": "97fb0a57",
   "metadata": {},
   "outputs": [
    {
     "name": "stdout",
     "output_type": "stream",
     "text": [
      "Soup is in my food set\n",
      "Pizza is not in my food set\n"
     ]
    }
   ],
   "source": [
    "# create a food set\n",
    "food = set(['burger', 'steak', 'dumpling', 'fries', 'ramen', 'soup'])\n",
    "# in\n",
    "if 'soup' in food:\n",
    "    print('Soup is in my food set')\n",
    "# not in     \n",
    "if 'pizza' not in food:\n",
    "    print(\"Pizza is not in my food set\")"
   ]
  },
  {
   "cell_type": "code",
   "execution_count": 71,
   "id": "7482ad61",
   "metadata": {},
   "outputs": [
    {
     "data": {
      "text/plain": [
       "{'burger', 'cake', 'dumpling', 'fries', 'pizze', 'ramen', 'soup', 'steak'}"
      ]
     },
     "execution_count": 71,
     "metadata": {},
     "output_type": "execute_result"
    }
   ],
   "source": [
    "# union method\n",
    "food1 = set(['burger', 'steak', 'dumpling', 'fries', 'ramen', 'soup'])\n",
    "food2 = set(['pizza', 'steak', 'cake'])\n",
    "food1.union(food2)"
   ]
  },
  {
   "cell_type": "code",
   "execution_count": 72,
   "id": "4312d8df",
   "metadata": {},
   "outputs": [
    {
     "data": {
      "text/plain": [
       "{'burger', 'cake', 'dumpling', 'fries', 'pizze', 'ramen', 'soup', 'steak'}"
      ]
     },
     "execution_count": 72,
     "metadata": {},
     "output_type": "execute_result"
    }
   ],
   "source": [
    "# use | find the union of 2 sets\n",
    "food1 | food2"
   ]
  },
  {
   "cell_type": "code",
   "execution_count": 73,
   "id": "c07fcc25",
   "metadata": {},
   "outputs": [
    {
     "data": {
      "text/plain": [
       "{'steak'}"
      ]
     },
     "execution_count": 73,
     "metadata": {},
     "output_type": "execute_result"
    }
   ],
   "source": [
    "# intersection() method\n",
    "food1 = set(['burger', 'steak', 'dumpling', 'fries', 'ramen', 'soup'])\n",
    "food2 = set(['pizza', 'steak', 'cake'])\n",
    "food1.intersection(food2)"
   ]
  },
  {
   "cell_type": "code",
   "execution_count": 74,
   "id": "6d62a5df",
   "metadata": {},
   "outputs": [
    {
     "data": {
      "text/plain": [
       "{'steak'}"
      ]
     },
     "execution_count": 74,
     "metadata": {},
     "output_type": "execute_result"
    }
   ],
   "source": [
    "# ues & find the intersection\n",
    "food1 = set(['burger', 'steak', 'dumpling', 'fries', 'ramen', 'soup'])\n",
    "food2 = set(['pizza', 'steak', 'cake'])\n",
    "food1 & food2"
   ]
  },
  {
   "cell_type": "code",
   "execution_count": 81,
   "id": "4302bc4e",
   "metadata": {},
   "outputs": [
    {
     "data": {
      "text/plain": [
       "{'burger', 'dumpling', 'fries', 'ramen', 'soup'}"
      ]
     },
     "execution_count": 81,
     "metadata": {},
     "output_type": "execute_result"
    },
    {
     "data": {
      "text/plain": [
       "{'cake', 'pizza'}"
      ]
     },
     "execution_count": 81,
     "metadata": {},
     "output_type": "execute_result"
    }
   ],
   "source": [
    "# find differences \n",
    "food1 = set(['burger', 'steak', 'dumpling', 'fries', 'ramen', 'soup'])\n",
    "food2 = set(['pizza', 'steak', 'cake'])\n",
    "\n",
    "# items in food1 but not in food2\n",
    "food1.difference(food2)\n",
    "\n",
    "# items in food2 but not in food1\n",
    "food2.difference(food1)"
   ]
  },
  {
   "cell_type": "code",
   "execution_count": 83,
   "id": "17404ef2",
   "metadata": {},
   "outputs": [
    {
     "data": {
      "text/plain": [
       "{'burger', 'dumpling', 'fries', 'ramen', 'soup'}"
      ]
     },
     "execution_count": 83,
     "metadata": {},
     "output_type": "execute_result"
    },
    {
     "data": {
      "text/plain": [
       "{'cake', 'pizza'}"
      ]
     },
     "execution_count": 83,
     "metadata": {},
     "output_type": "execute_result"
    }
   ],
   "source": [
    "# use - to find differences\n",
    "food1 - food2\n",
    "\n",
    "food2 - food1"
   ]
  },
  {
   "cell_type": "code",
   "execution_count": 86,
   "id": "86ff7d40",
   "metadata": {},
   "outputs": [
    {
     "data": {
      "text/plain": [
       "{'burger', 'cake', 'dumpling', 'fries', 'pizza', 'ramen', 'soup'}"
      ]
     },
     "execution_count": 86,
     "metadata": {},
     "output_type": "execute_result"
    },
    {
     "data": {
      "text/plain": [
       "{'burger', 'cake', 'dumpling', 'fries', 'pizza', 'ramen', 'soup'}"
      ]
     },
     "execution_count": 86,
     "metadata": {},
     "output_type": "execute_result"
    }
   ],
   "source": [
    "# find symmetric difference of sets\n",
    "food1 = set(['burger', 'steak', 'dumpling', 'fries', 'ramen', 'soup'])\n",
    "food2 = set(['pizza', 'steak', 'cake'])\n",
    "\n",
    "food1.symmetric_difference(food2)\n",
    "food2.symmetric_difference(food1)"
   ]
  },
  {
   "cell_type": "code",
   "execution_count": 87,
   "id": "bfd7892f",
   "metadata": {},
   "outputs": [
    {
     "data": {
      "text/plain": [
       "{'burger', 'cake', 'dumpling', 'fries', 'pizza', 'ramen', 'soup'}"
      ]
     },
     "execution_count": 87,
     "metadata": {},
     "output_type": "execute_result"
    }
   ],
   "source": [
    "# use ^ find symmetric difference\n",
    "food1^food2"
   ]
  },
  {
   "cell_type": "code",
   "execution_count": 91,
   "id": "d085ce4f",
   "metadata": {},
   "outputs": [
    {
     "data": {
      "text/plain": [
       "False"
      ]
     },
     "execution_count": 91,
     "metadata": {},
     "output_type": "execute_result"
    },
    {
     "data": {
      "text/plain": [
       "False"
      ]
     },
     "execution_count": 91,
     "metadata": {},
     "output_type": "execute_result"
    }
   ],
   "source": [
    "# find subsets \n",
    "food1 = set(['burger', 'steak', 'dumpling', 'fries', 'ramen', 'soup'])\n",
    "food2 = set(['pizza', 'steak', 'cake'])\n",
    "\n",
    "food1.issubset(food2)\n",
    "food2.issubset(food1)"
   ]
  },
  {
   "cell_type": "code",
   "execution_count": 95,
   "id": "1e756577",
   "metadata": {},
   "outputs": [
    {
     "data": {
      "text/plain": [
       "True"
      ]
     },
     "execution_count": 95,
     "metadata": {},
     "output_type": "execute_result"
    },
    {
     "data": {
      "text/plain": [
       "False"
      ]
     },
     "execution_count": 95,
     "metadata": {},
     "output_type": "execute_result"
    },
    {
     "data": {
      "text/plain": [
       "True"
      ]
     },
     "execution_count": 95,
     "metadata": {},
     "output_type": "execute_result"
    }
   ],
   "source": [
    "# find subset\n",
    "food1 = set(['burger', 'steak', 'dumpling', 'fries', 'ramen', 'soup'])\n",
    "food2 = set(['steak', 'burger'])\n",
    "\n",
    "food2.issubset(food1)\n",
    "food1.issubset(food2)\n",
    "\n",
    "# find supersets\n",
    "food1.issuperset(food2)"
   ]
  },
  {
   "cell_type": "code",
   "execution_count": 96,
   "id": "94043a89",
   "metadata": {},
   "outputs": [
    {
     "data": {
      "text/plain": [
       "True"
      ]
     },
     "execution_count": 96,
     "metadata": {},
     "output_type": "execute_result"
    },
    {
     "data": {
      "text/plain": [
       "True"
      ]
     },
     "execution_count": 96,
     "metadata": {},
     "output_type": "execute_result"
    }
   ],
   "source": [
    "# ues <= or >=\n",
    "food1 >= food2\n",
    "food2 <= food1"
   ]
  },
  {
   "cell_type": "markdown",
   "id": "5169a37e",
   "metadata": {},
   "source": [
    "### Set comprehensions\n",
    "- A set comprehension reads a sequence of input elements and uses the input elements to make a set. \n",
    "- Set comprehensions is similar to list comprehensions. "
   ]
  },
  {
   "cell_type": "code",
   "execution_count": 98,
   "id": "0abf0552",
   "metadata": {},
   "outputs": [
    {
     "data": {
      "text/plain": [
       "{'burger', 'dumpling', 'fries', 'ramen', 'soup', 'steak'}"
      ]
     },
     "execution_count": 98,
     "metadata": {},
     "output_type": "execute_result"
    }
   ],
   "source": [
    "food = set(['burger', 'steak', 'dumpling', 'fries', 'ramen', 'soup'])\n",
    "\n",
    "# make a copy\n",
    "food_new = {item for item in food}\n",
    "food_new"
   ]
  },
  {
   "cell_type": "code",
   "execution_count": 99,
   "id": "d6be7c56",
   "metadata": {},
   "outputs": [
    {
     "data": {
      "text/plain": [
       "{4, 5, 6, 8}"
      ]
     },
     "execution_count": 99,
     "metadata": {},
     "output_type": "execute_result"
    }
   ],
   "source": [
    "# calculate string length of food\n",
    "food_len = {len(item) for item in food}\n",
    "food_len"
   ]
  },
  {
   "cell_type": "code",
   "execution_count": 102,
   "id": "09caa669",
   "metadata": {},
   "outputs": [
    {
     "data": {
      "text/plain": [
       "{'burger and Cola',\n",
       " 'dumpling and Cola',\n",
       " 'fries and Cola',\n",
       " 'ramen and Cola',\n",
       " 'soup and Cola',\n",
       " 'steak and Cola'}"
      ]
     },
     "execution_count": 102,
     "metadata": {},
     "output_type": "execute_result"
    }
   ],
   "source": [
    "# add cola for my food list\n",
    "food_new = {item + ' and Cola' for item in food}\n",
    "food_new"
   ]
  },
  {
   "cell_type": "code",
   "execution_count": null,
   "id": "0a5a9561",
   "metadata": {},
   "outputs": [],
   "source": [
    "# use if clause \n",
    "food_new = {item + ' and Cola' for item in food if len(item)>5}\n",
    "food_new"
   ]
  },
  {
   "cell_type": "markdown",
   "id": "967ef0ef",
   "metadata": {},
   "source": [
    "### Serializing objects\n",
    "- Serializing a object is the process of converting the object to a stream\n",
    "of bytes that can be saved to a file for later retrieval. \n",
    "- It's called pickling in Python.\n",
    "- Python standard library offers a module called `pickle` to do that job.\n",
    "    - Open a file for binary writing. `outputfile = open('datafile.dat', 'wb')`\n",
    "    - Pickle module’s dump method to pickle the object and write it to the specified file. `pickle.dump(object, file)`\n",
    "        - The object can be any type of object, ex., lists, tuples, dict, sets, string, integers, and floating-point numbers.\n",
    "    - After you have pickled all the objects that you want to save to the file, you close the file. `outputfile.close()`"
   ]
  },
  {
   "cell_type": "code",
   "execution_count": 124,
   "id": "f68b45cb",
   "metadata": {},
   "outputs": [],
   "source": [
    "# exmaple of pickle\n",
    "import pickle\n",
    "food = {'Mon':'burger', 'Tue':'steak', 'Wed':'dumpling', 'Thu':'fries', 'Fri':'ramen'}\n",
    "output_file = open(\"food.dat\", \"wb\") # wb means writing bytes mode\n",
    "pickle.dump(food, output_file)\n",
    "output_file.close()"
   ]
  },
  {
   "cell_type": "code",
   "execution_count": 125,
   "id": "0d3f316b",
   "metadata": {},
   "outputs": [
    {
     "data": {
      "text/plain": [
       "{'Mon': 'burger',\n",
       " 'Tue': 'steak',\n",
       " 'Wed': 'dumpling',\n",
       " 'Thu': 'fries',\n",
       " 'Fri': 'ramen'}"
      ]
     },
     "execution_count": 125,
     "metadata": {},
     "output_type": "execute_result"
    }
   ],
   "source": [
    "# load pickle\n",
    "f = open('food.dat', 'rb')\n",
    "pickle.load(f)   "
   ]
  },
  {
   "cell_type": "code",
   "execution_count": 128,
   "id": "d041e691",
   "metadata": {},
   "outputs": [],
   "source": [
    "# pickle a set\n",
    "food = set(['burger', 'steak', 'dumpling', 'fries', 'ramen'])\n",
    "output_file = open(\"food.txt\", \"wb\") # wb means writing bytes mode\n",
    "pickle.dump(food, output_file)\n",
    "output_file.close()"
   ]
  },
  {
   "cell_type": "code",
   "execution_count": 129,
   "id": "abd7db82",
   "metadata": {},
   "outputs": [
    {
     "data": {
      "text/plain": [
       "{'burger', 'dumpling', 'fries', 'ramen', 'steak'}"
      ]
     },
     "execution_count": 129,
     "metadata": {},
     "output_type": "execute_result"
    }
   ],
   "source": [
    "f = open('food.txt', 'rb')\n",
    "pickle.load(f)"
   ]
  },
  {
   "cell_type": "markdown",
   "id": "6b7a4cee",
   "metadata": {},
   "source": [
    "## Weekly Assignment and Quizzes\n",
    "\n",
    "### Assignment 13\n",
    "Assignment 13: Writing program with dictionaries (Due 5/13)\n",
    "    \n",
    "### Quizzes \n",
    "- Dictionary: (Due 5/13)\n",
    "    - dictionary initialization \n",
    "    - dictionary-value retrieval \n",
    "    - dictionary-adding/removal\n",
    "    - dictionary-traversal"
   ]
  }
 ],
 "metadata": {
  "kernelspec": {
   "display_name": "Python 3",
   "language": "python",
   "name": "python3"
  },
  "language_info": {
   "codemirror_mode": {
    "name": "ipython",
    "version": 3
   },
   "file_extension": ".py",
   "mimetype": "text/x-python",
   "name": "python",
   "nbconvert_exporter": "python",
   "pygments_lexer": "ipython3",
   "version": "3.9.5"
  }
 },
 "nbformat": 4,
 "nbformat_minor": 5
}
