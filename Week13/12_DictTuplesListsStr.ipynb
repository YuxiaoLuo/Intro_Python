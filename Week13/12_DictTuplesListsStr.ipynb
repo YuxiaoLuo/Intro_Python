{
 "cells": [
  {
   "cell_type": "markdown",
   "metadata": {},
   "source": [
    "### More on Dictionaries, Tuples, Lists, Strings"
   ]
  },
  {
   "cell_type": "markdown",
   "metadata": {},
   "source": [
    "#### Agenda:\n",
    "- More on Dictionaries\n",
    "    + reverse look up \n",
    "    + list as values in dictionaries\n",
    "- More on Tuples\n",
    "    + tuple assignment\n",
    "    + tuples as return values\n",
    "    + tuples as variable length arguments\n",
    "    + tuples & lists\n",
    "    + tuples & dictionaries\n",
    "    + sequences of sequences\n",
    "    + sorting sequences"
   ]
  },
  {
   "cell_type": "markdown",
   "metadata": {},
   "source": [
    "#### Dictionaries:\n",
    "- review: dictionary as a collection of counters (histogram)\n",
    "    + word/letter frequency\n",
    "    + number frequency"
   ]
  },
  {
   "cell_type": "code",
   "execution_count": 17,
   "metadata": {},
   "outputs": [
    {
     "data": {
      "text/plain": [
       "{'t': 2, 'h': 2, 'i': 1, 'n': 2, 'k': 1, ' ': 1, 'p': 1, 'y': 1, 'o': 1}"
      ]
     },
     "execution_count": 17,
     "metadata": {},
     "output_type": "execute_result"
    }
   ],
   "source": [
    "def histogram(x): # x can be any sequence\n",
    "    d = dict()\n",
    "    for c in x:\n",
    "        if c not in d:\n",
    "            d[c] = 1 \n",
    "        else:\n",
    "            d[c] += 1\n",
    "    return d\n",
    "d1 = histogram('think python')\n",
    "d1"
   ]
  },
  {
   "cell_type": "code",
   "execution_count": 19,
   "metadata": {},
   "outputs": [
    {
     "name": "stdout",
     "output_type": "stream",
     "text": [
      "2 ['t']\n",
      "2 ['t', 'h']\n",
      "1 ['i']\n",
      "2 ['t', 'h', 'n']\n",
      "1 ['i', 'k']\n",
      "1 ['i', 'k', ' ']\n",
      "1 ['i', 'k', ' ', 'p']\n",
      "1 ['i', 'k', ' ', 'p', 'y']\n",
      "1 ['i', 'k', ' ', 'p', 'y', 'o']\n"
     ]
    }
   ],
   "source": [
    "inverse = dict()\n",
    "for k, v in d1.items(): \n",
    "    if v not in inverse: \n",
    "        inverse[v] = [k]\n",
    "        print(v, inverse[v])\n",
    "    else:\n",
    "        inverse[v].append(k)\n",
    "        print(v, inverse[v])"
   ]
  },
  {
   "cell_type": "code",
   "execution_count": 3,
   "metadata": {},
   "outputs": [
    {
     "data": {
      "text/plain": [
       "{1: 3, 5: 2, 2: 2, 7: 2, 9: 3, 6: 4, 3: 3, 4: 1}"
      ]
     },
     "execution_count": 3,
     "metadata": {},
     "output_type": "execute_result"
    }
   ],
   "source": [
    "import random as rd\n",
    "\n",
    "rd.seed(123)\n",
    "ran_num = [rd.randint(1, 10) for i in range(20)]\n",
    "#for i in range(20):\n",
    "#    num = rd.randint(1,10)\n",
    "d2 = histogram(ran_num)\n",
    "d2"
   ]
  },
  {
   "cell_type": "code",
   "execution_count": 6,
   "metadata": {},
   "outputs": [
    {
     "data": {
      "text/plain": [
       "4"
      ]
     },
     "execution_count": 6,
     "metadata": {},
     "output_type": "execute_result"
    }
   ],
   "source": [
    "## Reverse Lookup:\n",
    "\n",
    "def reverse_lookup(d, v): # d: a dict., v: value to loop up\n",
    "    for k in d:\n",
    "        if d[k] == v: \n",
    "            return k  \n",
    "    raise LookupError()\n",
    "reverse_lookup(d2, 1)\n",
    "## Limitation: only returns the 1st key \n",
    "## mapping to a specific value"
   ]
  },
  {
   "cell_type": "code",
   "execution_count": 77,
   "metadata": {},
   "outputs": [
    {
     "data": {
      "text/plain": [
       "'t'"
      ]
     },
     "execution_count": 77,
     "metadata": {},
     "output_type": "execute_result"
    }
   ],
   "source": [
    "reverse_lookup(d1, 2) "
   ]
  },
  {
   "cell_type": "code",
   "execution_count": 8,
   "metadata": {},
   "outputs": [
    {
     "data": {
      "text/plain": [
       "['t', 'h', 'n']"
      ]
     },
     "execution_count": 8,
     "metadata": {},
     "output_type": "execute_result"
    }
   ],
   "source": [
    "def reverse_lookup2(d, v): # d: a dict., v: value to loop up (frequency)\n",
    "    keys = [] \n",
    "    for k in d:\n",
    "        if d[k] == v: \n",
    "            keys.append(k)\n",
    "    return keys\n",
    "## we can get a list of multiple keys (letters/numbers)\n",
    "## with the same value (frequency) this way\n",
    "reverse_lookup2(d1, 2)"
   ]
  },
  {
   "cell_type": "code",
   "execution_count": 82,
   "metadata": {},
   "outputs": [
    {
     "data": {
      "text/plain": [
       "[5, 2, 7]"
      ]
     },
     "execution_count": 82,
     "metadata": {},
     "output_type": "execute_result"
    }
   ],
   "source": [
    "reverse_lookup2(d2, 2)"
   ]
  },
  {
   "cell_type": "code",
   "execution_count": 16,
   "metadata": {},
   "outputs": [],
   "source": [
    "## List as values in a Dict\n",
    "## Inverting a Dictionary\n",
    "\n",
    "def invert_dictionary(d): # d: the original dictionary with letter/word/number as key and frequency as value\n",
    "    inverse = dict()\n",
    "    for k, v in d.items(): \n",
    "        if v not in inverse: \n",
    "            inverse[v] = [k]\n",
    "        else:\n",
    "            inverse[v].append(k)\n",
    "    return inverse\n",
    "\n",
    "## We can get an inverted dictionary, mapping from values\n",
    "## (frequencies) to keys (letters/numbers) this way\n",
    "\n",
    "## Note: Lists can be values, but not keys in a dictionary\n",
    "## (Dictionaries' keys need to be immutable)"
   ]
  },
  {
   "cell_type": "code",
   "execution_count": 14,
   "metadata": {},
   "outputs": [
    {
     "data": {
      "text/plain": [
       "{'t': 2, 'h': 2, 'i': 1, 'n': 2, 'k': 1, ' ': 1, 'p': 1, 'y': 1, 'o': 1}"
      ]
     },
     "execution_count": 14,
     "metadata": {},
     "output_type": "execute_result"
    }
   ],
   "source": [
    "d1"
   ]
  },
  {
   "cell_type": "code",
   "execution_count": 20,
   "metadata": {},
   "outputs": [
    {
     "data": {
      "text/plain": [
       "{2: ['t', 'h', 'n'], 1: ['i', 'k', ' ', 'p', 'y', 'o']}"
      ]
     },
     "execution_count": 20,
     "metadata": {},
     "output_type": "execute_result"
    }
   ],
   "source": [
    "inverse_d1 = invert_dictionary(d1)\n",
    "inverse_d1"
   ]
  },
  {
   "cell_type": "markdown",
   "metadata": {},
   "source": [
    "#### Tuples:\n",
    "- recap: similar to lists, but immutable "
   ]
  },
  {
   "cell_type": "code",
   "execution_count": 7,
   "metadata": {},
   "outputs": [],
   "source": [
    "# creating a tuple w/ multple items: either way works\n",
    "t = 'a', 'b', 'c', 'd', 'e'\n",
    "t = ('a', 'b', 'c', 'd', 'e') "
   ]
  },
  {
   "cell_type": "code",
   "execution_count": 29,
   "metadata": {},
   "outputs": [],
   "source": [
    "# creating a tuple w/ 1 item: either way works\n",
    "t = 'a', ## need the comma!\n",
    "t = ('a',)"
   ]
  },
  {
   "cell_type": "code",
   "execution_count": 9,
   "metadata": {},
   "outputs": [
    {
     "data": {
      "text/plain": [
       "()"
      ]
     },
     "execution_count": 9,
     "metadata": {},
     "output_type": "execute_result"
    }
   ],
   "source": [
    "# creating an empty tuple: either way works\n",
    "t = tuple() # list() # dict()\n",
    "t = () # [] {}"
   ]
  },
  {
   "cell_type": "code",
   "execution_count": 31,
   "metadata": {},
   "outputs": [
    {
     "data": {
      "text/plain": [
       "['b', 'a', 'r', 'u', 'c', 'h', ' ', 'c', 'o', 'l', 'l', 'e', 'g', 'e']"
      ]
     },
     "execution_count": 31,
     "metadata": {},
     "output_type": "execute_result"
    }
   ],
   "source": [
    "list('baruch college')"
   ]
  },
  {
   "cell_type": "code",
   "execution_count": 11,
   "metadata": {},
   "outputs": [
    {
     "data": {
      "text/plain": [
       "('b', 'a', 'r', 'u', 'c', 'h', ' ', 'c', 'o', 'l', 'l', 'e', 'g', 'e')"
      ]
     },
     "execution_count": 11,
     "metadata": {},
     "output_type": "execute_result"
    }
   ],
   "source": [
    "t = tuple('baruch college') \n",
    "t"
   ]
  },
  {
   "cell_type": "code",
   "execution_count": 1,
   "metadata": {},
   "outputs": [
    {
     "data": {
      "text/plain": [
       "['baruch', 'college']"
      ]
     },
     "execution_count": 1,
     "metadata": {},
     "output_type": "execute_result"
    }
   ],
   "source": [
    "'baruch college'.split()"
   ]
  },
  {
   "cell_type": "code",
   "execution_count": null,
   "metadata": {},
   "outputs": [],
   "source": [
    "# tuple assignment \n",
    "a, b = b, a # swap values of 2 variables"
   ]
  },
  {
   "cell_type": "code",
   "execution_count": 35,
   "metadata": {},
   "outputs": [
    {
     "data": {
      "text/plain": [
       "['anh.luong', 'baruch.cuny.edu']"
      ]
     },
     "execution_count": 35,
     "metadata": {},
     "output_type": "execute_result"
    }
   ],
   "source": [
    "email = 'anh.luong@baruch.cuny.edu'\n",
    "lst = email.split('@')\n",
    "lst"
   ]
  },
  {
   "cell_type": "code",
   "execution_count": 36,
   "metadata": {},
   "outputs": [
    {
     "name": "stdout",
     "output_type": "stream",
     "text": [
      "anh.luong\n",
      "baruch.cuny.edu\n"
     ]
    }
   ],
   "source": [
    "# tuple assignment \n",
    "email = 'anh.luong@baruch.cuny.edu'\n",
    "uname, domain = email.split('@') \n",
    "\n",
    "print(uname)\n",
    "print(domain)"
   ]
  },
  {
   "cell_type": "code",
   "execution_count": 37,
   "metadata": {},
   "outputs": [
    {
     "name": "stdout",
     "output_type": "stream",
     "text": [
      "45\n",
      "4.5\n"
     ]
    }
   ],
   "source": [
    "## tuples as return values\n",
    "def sum_avg(l):\n",
    "    return sum(l), sum(l)/len(l)  # return [sum(l), sum(l)/len(l)]\n",
    "\n",
    "total, avg = sum_avg(range(10)) \n",
    "\n",
    "print(total)\n",
    "print(avg)"
   ]
  },
  {
   "cell_type": "code",
   "execution_count": null,
   "metadata": {},
   "outputs": [],
   "source": [
    "## Variable-length argument tuples\n",
    "### gather\n",
    "\n",
    "def returnAll(*args):\n",
    "    return(args)\n",
    "\n",
    "## any parameter beginning with * will gather\n",
    "## multiple (however many) arguments into a tuple"
   ]
  },
  {
   "cell_type": "code",
   "execution_count": 43,
   "metadata": {},
   "outputs": [
    {
     "data": {
      "text/plain": [
       "6"
      ]
     },
     "execution_count": 43,
     "metadata": {},
     "output_type": "execute_result"
    }
   ],
   "source": [
    "max(1, 2, 3, 4, 5)\n",
    "#min()\n",
    "sum()"
   ]
  },
  {
   "cell_type": "code",
   "execution_count": 44,
   "metadata": {},
   "outputs": [
    {
     "data": {
      "text/plain": [
       "10"
      ]
     },
     "execution_count": 44,
     "metadata": {},
     "output_type": "execute_result"
    }
   ],
   "source": [
    "## exercise: \n",
    "## write a function sumAll that takes any number\n",
    "## of arguments and returns their sum\n",
    "## (built-in sum() does not take >2 arguments)\n",
    "def sumAll(*args): \n",
    "    total = 0\n",
    "    for i in args:\n",
    "        total += i\n",
    "    return total\n",
    "sumAll(1, 2, 3, 4)"
   ]
  },
  {
   "cell_type": "code",
   "execution_count": 45,
   "metadata": {},
   "outputs": [
    {
     "data": {
      "text/plain": [
       "(2, 1)"
      ]
     },
     "execution_count": 45,
     "metadata": {},
     "output_type": "execute_result"
    }
   ],
   "source": [
    "### scatter\n",
    "### if want to pass a sequence of values to a function \n",
    "### that accepts multiple arguments, you can use *\n",
    "\n",
    "t = (7, 3)\n",
    "divmod(*t) # same as divmod(7, 3)"
   ]
  },
  {
   "cell_type": "markdown",
   "metadata": {},
   "source": [
    "#### Lists & Tuples"
   ]
  },
  {
   "cell_type": "code",
   "execution_count": 17,
   "metadata": {},
   "outputs": [
    {
     "name": "stdout",
     "output_type": "stream",
     "text": [
      "('a', 0)\n",
      "('b', 1)\n",
      "('c', 2)\n",
      "('d', 3)\n",
      "('e', 4)\n",
      "('f', 5)\n"
     ]
    }
   ],
   "source": [
    "s = 'abcdef'\n",
    "n = range(6)\n",
    "for pair in zip(s, n): # zip object: an iterator\n",
    "    print(pair) \n",
    "    ## can't use index to select an item from an iterator"
   ]
  },
  {
   "cell_type": "code",
   "execution_count": 50,
   "metadata": {},
   "outputs": [
    {
     "name": "stdout",
     "output_type": "stream",
     "text": [
      "('a', 0)\n",
      "('b', 1)\n",
      "('c', 2)\n",
      "('d', 3)\n",
      "('e', 4)\n",
      "('f', 5)\n"
     ]
    },
    {
     "data": {
      "text/plain": [
       "[('a', 0), ('b', 1), ('c', 2), ('d', 3), ('e', 4), ('f', 5)]"
      ]
     },
     "execution_count": 50,
     "metadata": {},
     "output_type": "execute_result"
    }
   ],
   "source": [
    "s = 'abcdef'\n",
    "n = range(6)\n",
    "for pair in zip(s, n):\n",
    "    print(pair)\n",
    "list(zip(s, n))"
   ]
  },
  {
   "cell_type": "code",
   "execution_count": 47,
   "metadata": {},
   "outputs": [
    {
     "data": {
      "text/plain": [
       "<zip at 0x7fcaf759f680>"
      ]
     },
     "execution_count": 47,
     "metadata": {},
     "output_type": "execute_result"
    }
   ],
   "source": [
    "zip(s, n) ## zip object"
   ]
  },
  {
   "cell_type": "code",
   "execution_count": 19,
   "metadata": {},
   "outputs": [
    {
     "name": "stdout",
     "output_type": "stream",
     "text": [
      "a 0\n",
      "b 1\n",
      "c 2\n"
     ]
    }
   ],
   "source": [
    "for s, n in zip(s, n): # tuple assignment in for loop\n",
    "    print(s, n)"
   ]
  },
  {
   "cell_type": "code",
   "execution_count": null,
   "metadata": {},
   "outputs": [],
   "source": [
    "## we can make a list from a zip object\n",
    "## to be able to use list operations and methods \n",
    "## (indexing, slicing, etc.)\n",
    "l = list(zip(s, n)) # list of tuples"
   ]
  },
  {
   "cell_type": "code",
   "execution_count": 51,
   "metadata": {},
   "outputs": [
    {
     "data": {
      "text/plain": [
       "[('a', 0), ('b', 1), ('c', 2)]"
      ]
     },
     "execution_count": 51,
     "metadata": {},
     "output_type": "execute_result"
    }
   ],
   "source": [
    "s = 'abc'\n",
    "n = range(6)\n",
    "l = list(zip(s, n)) # takes the length of the shorter sequence\n",
    "l"
   ]
  },
  {
   "cell_type": "code",
   "execution_count": 21,
   "metadata": {},
   "outputs": [
    {
     "name": "stdout",
     "output_type": "stream",
     "text": [
      "('a', 0)\n",
      "('b', 1)\n",
      "('c', 2)\n"
     ]
    }
   ],
   "source": [
    "for pair in l:\n",
    "    print(pair)"
   ]
  },
  {
   "cell_type": "code",
   "execution_count": 32,
   "metadata": {},
   "outputs": [
    {
     "name": "stdout",
     "output_type": "stream",
     "text": [
      "a 0\n",
      "b 1\n",
      "c 2\n"
     ]
    }
   ],
   "source": [
    "for char, num in l: # tuple assignment in for loop\n",
    "    print(char, num)\n",
    "    #print(nun, char)"
   ]
  },
  {
   "cell_type": "code",
   "execution_count": 24,
   "metadata": {},
   "outputs": [
    {
     "name": "stdout",
     "output_type": "stream",
     "text": [
      "0 a\n",
      "1 b\n",
      "2 c\n"
     ]
    }
   ],
   "source": [
    "for ind, elem in enumerate('abc'): # tuple assignment again\n",
    "    print(ind, elem) \n",
    "    #print(elem, ind)"
   ]
  },
  {
   "cell_type": "code",
   "execution_count": 46,
   "metadata": {},
   "outputs": [
    {
     "data": {
      "text/plain": [
       "<enumerate at 0x7fcaf7599fc0>"
      ]
     },
     "execution_count": 46,
     "metadata": {},
     "output_type": "execute_result"
    }
   ],
   "source": [
    "enumerate('abc') ## enumerate object, also an iterator"
   ]
  },
  {
   "cell_type": "markdown",
   "metadata": {},
   "source": [
    "#### Dictionaries, Tuples, & Lists"
   ]
  },
  {
   "cell_type": "code",
   "execution_count": 12,
   "metadata": {},
   "outputs": [
    {
     "name": "stdout",
     "output_type": "stream",
     "text": [
      "['a', 'b', 'c']\n"
     ]
    }
   ],
   "source": [
    "## traverse a list\n",
    "lst = ['a', 'b', 'c']\n",
    "#for element in lst: \n",
    "#    print(element)\n",
    "#for i in range(len(lst)):\n",
    "#    lst[i] = lst[i] + '1'\n",
    "#for ind, elem in enumerate(lst):\n",
    "#    print(ind, elem)\n",
    "#    elem = elem + '1'\n",
    "for elem in lst:\n",
    "    elem = elem + '1'\n",
    "print(lst)"
   ]
  },
  {
   "cell_type": "code",
   "execution_count": 16,
   "metadata": {},
   "outputs": [
    {
     "name": "stdout",
     "output_type": "stream",
     "text": [
      "a\n",
      "b\n",
      "c\n",
      "{'a': 0, 'b': 1, 'c': 2}\n"
     ]
    }
   ],
   "source": [
    "s = 'abc'\n",
    "n = range(6)\n",
    "dict1 = dict(zip(s, n)) \n",
    "for k in dict1:\n",
    "    print(k)\n",
    "print(dict1)"
   ]
  },
  {
   "cell_type": "code",
   "execution_count": 43,
   "metadata": {},
   "outputs": [
    {
     "name": "stdout",
     "output_type": "stream",
     "text": [
      "[('a', 0), ('b', 1), ('c', 2)]\n",
      "{'a': 0, 'b': 1, 'c': 2}\n"
     ]
    }
   ],
   "source": [
    "## we can create a new dictionary from a list of tuples \n",
    "## (or list of lists)\n",
    "s = 'abc'\n",
    "n = range(6)\n",
    "l = list(zip(s, n)) \n",
    "print(l)\n",
    "d = dict(l)\n",
    "print(d)"
   ]
  },
  {
   "cell_type": "code",
   "execution_count": 22,
   "metadata": {},
   "outputs": [
    {
     "data": {
      "text/plain": [
       "{'a': 0, 'b': 1, 'c': 2}"
      ]
     },
     "execution_count": 22,
     "metadata": {},
     "output_type": "execute_result"
    }
   ],
   "source": [
    "## more concisely,\n",
    "## we can create a dictionary from a zip object\n",
    "s = 'abc'\n",
    "n = range(6)\n",
    "d = dict(zip(s, n))\n",
    "d"
   ]
  },
  {
   "cell_type": "code",
   "execution_count": 45,
   "metadata": {},
   "outputs": [
    {
     "data": {
      "text/plain": [
       "dict_items([('a', 0), ('b', 1), ('c', 2)])"
      ]
     },
     "execution_count": 45,
     "metadata": {},
     "output_type": "execute_result"
    }
   ],
   "source": [
    "## the dictionary method items returns a sequence of \n",
    "## tuples (key-value pairs)\n",
    "d.items() # dict_items object, also an iterator"
   ]
  },
  {
   "cell_type": "code",
   "execution_count": 49,
   "metadata": {},
   "outputs": [
    {
     "name": "stdout",
     "output_type": "stream",
     "text": [
      "('a', 0)\n",
      "('b', 1)\n",
      "('c', 2)\n"
     ]
    }
   ],
   "source": [
    "for pair in d.items():\n",
    "    print(pair) # each pair is a tuple"
   ]
  },
  {
   "cell_type": "code",
   "execution_count": 50,
   "metadata": {},
   "outputs": [
    {
     "name": "stdout",
     "output_type": "stream",
     "text": [
      "a 0\n",
      "b 1\n",
      "c 2\n"
     ]
    }
   ],
   "source": [
    "for k, v in d.items():\n",
    "    print(k, v) # tuple assignment again"
   ]
  },
  {
   "cell_type": "code",
   "execution_count": 59,
   "metadata": {},
   "outputs": [
    {
     "data": {
      "text/plain": [
       "{'a': 0, 'b': 1, 'c': 2, 'd': 3}"
      ]
     },
     "execution_count": 59,
     "metadata": {},
     "output_type": "execute_result"
    }
   ],
   "source": [
    "d.update([('d', 3)]) # update takes a sequence of tuples\n",
    "## and adds them as key-value pairs to an existing dict\n",
    "d"
   ]
  },
  {
   "cell_type": "code",
   "execution_count": 63,
   "metadata": {},
   "outputs": [
    {
     "data": {
      "text/plain": [
       "{'a': 0, 'b': 1, 'c': 2, 'd': 3, 'e': 0, 'f': 1, 'g': 2}"
      ]
     },
     "execution_count": 63,
     "metadata": {},
     "output_type": "execute_result"
    }
   ],
   "source": [
    "#d2 = dict(zip('efg', range(3)))\n",
    "d.update(zip('efg', range(3)))\n",
    "d"
   ]
  },
  {
   "cell_type": "markdown",
   "metadata": {},
   "source": [
    "#### Sequences of sequences:\n",
    "- most examples on lists of tuples can also apply to lists of lists, tuples of tuples, tuples of lists"
   ]
  },
  {
   "cell_type": "markdown",
   "metadata": {},
   "source": [
    "#### Strings vs. Lists\n",
    "- if need to change characters in a string: \n",
    "    + usually you want to turn it into a list of characters\n",
    "\n",
    "#### Lists vs. Tuples vs. Strings\n",
    "- in return statement: \n",
    "    + simpler to create a tuple than list\n",
    "- using sequences as keys in dict: \n",
    "    + use either tuples or strings (need to be immutable)\n",
    "- passing a sequence as an argument to functions: \n",
    "    + better to use tuples than lists"
   ]
  },
  {
   "cell_type": "code",
   "execution_count": 6,
   "metadata": {},
   "outputs": [
    {
     "name": "stdout",
     "output_type": "stream",
     "text": [
      "b [1, 2, 4]\n",
      "a [1, 2, 3]\n"
     ]
    }
   ],
   "source": [
    "a = [1, 2, 3]\n",
    "b = a.copy()   # same as: b = a[:]\n",
    "b[2] = 4\n",
    "print(\"b\", b)\n",
    "print('a', a)"
   ]
  },
  {
   "cell_type": "markdown",
   "metadata": {},
   "source": [
    "#### Sorting Sequences"
   ]
  },
  {
   "cell_type": "code",
   "execution_count": 37,
   "metadata": {},
   "outputs": [
    {
     "ename": "AttributeError",
     "evalue": "'tuple' object has no attribute 'sort'",
     "output_type": "error",
     "traceback": [
      "\u001b[0;31m---------------------------------------------------------------------------\u001b[0m",
      "\u001b[0;31mAttributeError\u001b[0m                            Traceback (most recent call last)",
      "\u001b[0;32m<ipython-input-37-cba8d68b931d>\u001b[0m in \u001b[0;36m<module>\u001b[0;34m\u001b[0m\n\u001b[1;32m      1\u001b[0m \u001b[0mt\u001b[0m \u001b[0;34m=\u001b[0m \u001b[0;34m(\u001b[0m\u001b[0;36m1\u001b[0m\u001b[0;34m,\u001b[0m \u001b[0;36m10\u001b[0m\u001b[0;34m,\u001b[0m \u001b[0;36m2\u001b[0m\u001b[0;34m,\u001b[0m \u001b[0;36m3\u001b[0m\u001b[0;34m,\u001b[0m \u001b[0;36m100\u001b[0m\u001b[0;34m,\u001b[0m \u001b[0;36m4\u001b[0m\u001b[0;34m,\u001b[0m \u001b[0;36m5\u001b[0m\u001b[0;34m)\u001b[0m\u001b[0;34m\u001b[0m\u001b[0;34m\u001b[0m\u001b[0m\n\u001b[0;32m----> 2\u001b[0;31m \u001b[0mt\u001b[0m\u001b[0;34m.\u001b[0m\u001b[0msort\u001b[0m\u001b[0;34m(\u001b[0m\u001b[0;34m)\u001b[0m\u001b[0;34m\u001b[0m\u001b[0;34m\u001b[0m\u001b[0m\n\u001b[0m\u001b[1;32m      3\u001b[0m \u001b[0;31m# the method sort()\u001b[0m\u001b[0;34m\u001b[0m\u001b[0;34m\u001b[0m\u001b[0;34m\u001b[0m\u001b[0m\n\u001b[1;32m      4\u001b[0m \u001b[0;31m# does not work on immutable sequences like tuple\u001b[0m\u001b[0;34m\u001b[0m\u001b[0;34m\u001b[0m\u001b[0;34m\u001b[0m\u001b[0m\n",
      "\u001b[0;31mAttributeError\u001b[0m: 'tuple' object has no attribute 'sort'"
     ]
    }
   ],
   "source": [
    "t = (1, 10, 2, 3, 100, 4, 5)\n",
    "t.sort() \n",
    "# the method sort() \n",
    "# does not work on immutable sequences like tuple"
   ]
  },
  {
   "cell_type": "code",
   "execution_count": 19,
   "metadata": {},
   "outputs": [
    {
     "ename": "AttributeError",
     "evalue": "'str' object has no attribute 'sort'",
     "output_type": "error",
     "traceback": [
      "\u001b[0;31m---------------------------------------------------------------------------\u001b[0m",
      "\u001b[0;31mAttributeError\u001b[0m                            Traceback (most recent call last)",
      "\u001b[0;32m<ipython-input-19-4f669486526d>\u001b[0m in \u001b[0;36m<module>\u001b[0;34m\u001b[0m\n\u001b[1;32m      1\u001b[0m \u001b[0ms\u001b[0m \u001b[0;34m=\u001b[0m \u001b[0;34m'aba3gds'\u001b[0m\u001b[0;34m\u001b[0m\u001b[0;34m\u001b[0m\u001b[0m\n\u001b[0;32m----> 2\u001b[0;31m \u001b[0ms\u001b[0m\u001b[0;34m.\u001b[0m\u001b[0msort\u001b[0m\u001b[0;34m(\u001b[0m\u001b[0;34m)\u001b[0m \u001b[0;31m# or string\u001b[0m\u001b[0;34m\u001b[0m\u001b[0;34m\u001b[0m\u001b[0m\n\u001b[0m",
      "\u001b[0;31mAttributeError\u001b[0m: 'str' object has no attribute 'sort'"
     ]
    }
   ],
   "source": [
    "s = 'aba3gds'\n",
    "s.sort() # sort() doesnt work on string either"
   ]
  },
  {
   "cell_type": "code",
   "execution_count": 52,
   "metadata": {},
   "outputs": [
    {
     "name": "stdout",
     "output_type": "stream",
     "text": [
      "[1, 2, 3, 4, 5, 10, 100]\n",
      "['3', 'a', 'a', 'b', 'd', 'g', 's']\n"
     ]
    }
   ],
   "source": [
    "t = (1, 10, 2, 3, 100, 4, 5)\n",
    "print(sorted(t))\n",
    "\n",
    "s = 'aba3gds'\n",
    "print(sorted(s))\n",
    "\n",
    "# the function sorted() takes any sequence (list, tuple, str) \n",
    "# & returns a new, sorted list"
   ]
  },
  {
   "cell_type": "code",
   "execution_count": 29,
   "metadata": {},
   "outputs": [
    {
     "name": "stdout",
     "output_type": "stream",
     "text": [
      "{'e': 0, 'd': 1, 'a': 2, 's': 3}\n"
     ]
    },
    {
     "data": {
      "text/plain": [
       "['a', 'd', 'e', 's']"
      ]
     },
     "execution_count": 29,
     "metadata": {},
     "output_type": "execute_result"
    }
   ],
   "source": [
    "d = dict(zip('edas', range(4)))\n",
    "print(d)\n",
    "sorted(d) \n",
    "# for a dictionary, sorted() returns an ordered list of its keys"
   ]
  }
 ],
 "metadata": {
  "kernelspec": {
   "display_name": "Python 3 (ipykernel)",
   "language": "python",
   "name": "python3"
  },
  "language_info": {
   "codemirror_mode": {
    "name": "ipython",
    "version": 3
   },
   "file_extension": ".py",
   "mimetype": "text/x-python",
   "name": "python",
   "nbconvert_exporter": "python",
   "pygments_lexer": "ipython3",
   "version": "3.11.1"
  }
 },
 "nbformat": 4,
 "nbformat_minor": 4
}
