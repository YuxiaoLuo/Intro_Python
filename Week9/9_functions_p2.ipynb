{
 "cells": [
  {
   "cell_type": "markdown",
   "metadata": {
    "slideshow": {
     "slide_type": "fragment"
    }
   },
   "source": [
    "# Functions (Continued)\n",
    "\n",
    "- Void and value returning functions\n",
    "- Grouping your own funcitons in modules \n",
    "- Return vs. print"
   ]
  },
  {
   "cell_type": "markdown",
   "metadata": {},
   "source": [
    "## Global variables and global constants\n",
    "\n",
    "### Global variables\n",
    "CONCEPT: A global variable is accessible to all the functions in a program file.\n",
    "\n",
    "- When a variable is created by an assignment statement\n",
    "that is written outside all the functions in a program file, the variable is *global*.\n",
    "\n",
    "- _Global variable can be accessed by any statement in the program file, including the statements in any function._"
   ]
  },
  {
   "cell_type": "code",
   "execution_count": 1,
   "metadata": {},
   "outputs": [
    {
     "name": "stdout",
     "output_type": "stream",
     "text": [
      "10\n"
     ]
    }
   ],
   "source": [
    "# create a global variable \n",
    "my_value = 10 \n",
    "\n",
    "# the show_value function prints \n",
    "# the value of the global variable \n",
    "def show_value():\n",
    "    print(my_value)\n",
    "    \n",
    "# call the show_value function\n",
    "show_value()"
   ]
  },
  {
   "cell_type": "markdown",
   "metadata": {},
   "source": [
    "- An additional step is required if you want a statement in a function to assign a value to a global\n",
    "variable. \n",
    "    - In the function, you must declare the global variable, as shown in the program below."
   ]
  },
  {
   "cell_type": "code",
   "execution_count": 9,
   "metadata": {},
   "outputs": [
    {
     "name": "stdout",
     "output_type": "stream",
     "text": [
      "Enter a number: 1\n",
      "The number you entered is 1\n"
     ]
    }
   ],
   "source": [
    "# create a global variable named number\n",
    "number = 0 \n",
    "\n",
    "def main():\n",
    "    # use global keyword to declare the number variable \n",
    "    # it tells the interpreter \n",
    "    # the main function intends to assign a value to the global number variable\n",
    "    global number \n",
    "    number = int(input('Enter a number: '))\n",
    "    show_number()\n",
    "    \n",
    "def show_number():\n",
    "    print(f'The number you entered is {number}')\n",
    "    \n",
    "# call the main function \n",
    "main()"
   ]
  },
  {
   "cell_type": "markdown",
   "metadata": {},
   "source": [
    "### Tips\n",
    "Most programmers agree that you should restrict the use of global variables, or not use\n",
    "them at all. The reasons are as follows:\n",
    "\n",
    "1. Global variables make debugging difficult. Any statement in a program file can change\n",
    "the value of a global variable. If you find that the wrong value is being stored in a\n",
    "global variable, you have to track down every statement that accesses it to determine\n",
    "where the bad value is coming from. In a program with thousands of lines of code,\n",
    "this can be difficult.\n",
    "2. Functions that use global variables are usually dependent on those variables. If you\n",
    "want to use such a function in a different program, most likely you will have to redesign\n",
    "it so it does not rely on the global variable.\n",
    "3. Global variables make a program hard to understand. A global variable can be modified\n",
    "by any statement in the program. If you are to understand any part of the program\n",
    "that uses a global variable, you have to be aware of all the other parts of the\n",
    "program that access the global variable.\n",
    "\n",
    "### Global constants"
   ]
  },
  {
   "cell_type": "markdown",
   "metadata": {},
   "source": [
    "Although you should try to avoid the use of global variables, it is permissible to use global\n",
    "constants in a program.\n",
    "\n",
    "- Global constant is a global name that references a value that cannot be changed.\n",
    "\n",
    "- Because a global constant’s value cannot be changed during the program’s execution, you do not have to worry about many of the potential hazards that are associated with the use of global variables.\n",
    "\n",
    "- Although the Python language does not allow you to create true global constants, you can simulate them with global variables.\n",
    "\n",
    "- If you do not declare a global variable with the global keyword inside a function, then you cannot change the variable’s assignment inside that function.\n",
    "\n",
    "Let's see how global variables can be used in Python to simulate global constants.\n"
   ]
  },
  {
   "cell_type": "code",
   "execution_count": 10,
   "metadata": {
    "scrolled": true
   },
   "outputs": [
    {
     "name": "stdout",
     "output_type": "stream",
     "text": [
      "Enter the gross pay: 2\n",
      "Enter the amount of bonuses: 2\n",
      "Contribution for gross pay: $0.10.\n",
      "Contribution for bonuses: $0.10.\n"
     ]
    }
   ],
   "source": [
    "# The following is used as a global constants to represent \n",
    "# the contribution rate\n",
    "CONTRIBUTION_RATE = .05\n",
    "\n",
    "def main():\n",
    "    gross_pay = float(input('Enter the gross pay: '))\n",
    "    bonus = float(input('Enter the amount of bonuses: '))\n",
    "    show_pay_contrib(gross_pay)\n",
    "    show_bonus_contrib(bonus)\n",
    "    \n",
    "# the show_pay_contrib function accepts the gross pay\n",
    "# as an argument and display retirement contribution \n",
    "# for that amount of pay\n",
    "\n",
    "def show_pay_contrib(gross):\n",
    "    contrib = gross * CONTRIBUTION_RATE\n",
    "    print(f'Contribution for gross pay: ${contrib:,.2f}.')\n",
    "    \n",
    "def show_bonus_contrib(bonus):\n",
    "    contrib = bonus * CONTRIBUTION_RATE\n",
    "    print(f'Contribution for bonuses: ${contrib:,.2f}.')\n",
    "\n",
    "# call main \n",
    "main()"
   ]
  },
  {
   "cell_type": "markdown",
   "metadata": {},
   "source": [
    "## Value-returning functions\n",
    "Concept: A value-returning function is a function that returns a value back to the\n",
    "part of the program that called it. \n",
    "\n",
    "The value that is returned from a function can be used like any other value: \n",
    "- it can be assigned to a variable\n",
    "- displayed on the screen\n",
    "- used in a mathematical expression (if it is a number), and so on.\n",
    "\n",
    "### Standard Library Functions and the `import` Statement\n",
    "Python, as well as most other programming\n",
    "languages, provides a library of prewritten functions that perform\n",
    "commonly needed tasks. These libraries typically contain a function\n",
    "that generates random numbers. \n",
    "\n",
    "- It comes with a standard library of functions that have already been written for you.\n",
    "\n",
    "- Some of Python’s library functions are built into the Python interpreter. If you want to use one of these built-in functions in a program, you simply call the function. This is the case with the print, input, range, and other functions about which you have already learned."
   ]
  },
  {
   "cell_type": "markdown",
   "metadata": {},
   "source": [
    "## Importing Modules\n",
    "An `import` statement tells the interpreter the name of the module that contains the function. For example, one of the Python standard modules is named `math`. The `math` module contains various mathematical functions that work with floatingpoint numbers. If you want to use any of the `math` module’s functions in a program, you should write the following import statement at the top of the program:"
   ]
  },
  {
   "cell_type": "code",
   "execution_count": 2,
   "metadata": {
    "scrolled": true
   },
   "outputs": [
    {
     "name": "stdout",
     "output_type": "stream",
     "text": [
      "<module 'math' (built-in)>\n"
     ]
    }
   ],
   "source": [
    "import math\n",
    "print(math)"
   ]
  },
  {
   "cell_type": "code",
   "execution_count": 5,
   "metadata": {
    "scrolled": true
   },
   "outputs": [
    {
     "name": "stdout",
     "output_type": "stream",
     "text": [
      "3.141592653589793\n"
     ]
    }
   ],
   "source": [
    "print(math.pi)"
   ]
  },
  {
   "cell_type": "code",
   "execution_count": 4,
   "metadata": {},
   "outputs": [
    {
     "ename": "NameError",
     "evalue": "name 'pi' is not defined",
     "output_type": "error",
     "traceback": [
      "\u001b[1;31m---------------------------------------------------------------------------\u001b[0m",
      "\u001b[1;31mNameError\u001b[0m                                 Traceback (most recent call last)",
      "\u001b[1;32m<ipython-input-4-9e2d2bd32686>\u001b[0m in \u001b[0;36m<module>\u001b[1;34m\u001b[0m\n\u001b[1;32m----> 1\u001b[1;33m \u001b[0mprint\u001b[0m\u001b[1;33m(\u001b[0m\u001b[0mpi\u001b[0m\u001b[1;33m)\u001b[0m\u001b[1;33m\u001b[0m\u001b[1;33m\u001b[0m\u001b[0m\n\u001b[0m",
      "\u001b[1;31mNameError\u001b[0m: name 'pi' is not defined"
     ]
    }
   ],
   "source": [
    "print(pi)"
   ]
  },
  {
   "cell_type": "code",
   "execution_count": 6,
   "metadata": {},
   "outputs": [
    {
     "name": "stdout",
     "output_type": "stream",
     "text": [
      "3.141592653589793\n"
     ]
    }
   ],
   "source": [
    "from math import pi # import pi function from math module\n",
    "print(pi)"
   ]
  },
  {
   "cell_type": "code",
   "execution_count": 7,
   "metadata": {},
   "outputs": [],
   "source": [
    "from math import * # import all of the functions or variables in math module"
   ]
  },
  {
   "cell_type": "markdown",
   "metadata": {},
   "source": [
    "## Generating Random Numbers\n",
    "Random numbers are useful for lots of different programming tasks. The following are just\n",
    "a few examples.\n",
    "\n",
    "- Random numbers are commonly used in games. For example, computer games\n",
    "that let the player roll dice use random numbers to represent the values of the dice.\n",
    "Programs that show cards being drawn from a shuffled deck use random numbers\n",
    "to represent the face values of the cards.\n",
    "\n",
    "- Random numbers are useful in simulation programs. In some simulations, the computer\n",
    "must randomly decide how a person, animal, insect, or other living being will\n",
    "behave. Formulas can be constructed in which a random number is used to determine\n",
    "various actions and events that take place in the program.\n",
    "\n",
    "- Random numbers are useful in statistical programs that must randomly select data for\n",
    "analysis.\n",
    "\n",
    "- Random numbers are commonly used in computer security to encrypt sensitive data.\n",
    "\n",
    "Python provides several library functions for working with random numbers. These functions\n",
    "are stored in a module named `random` in the standard library."
   ]
  },
  {
   "cell_type": "code",
   "execution_count": 8,
   "metadata": {},
   "outputs": [
    {
     "data": {
      "text/plain": [
       "95"
      ]
     },
     "execution_count": 8,
     "metadata": {},
     "output_type": "execute_result"
    }
   ],
   "source": [
    "import random\n",
    "number = random.randint(1, 100)\n",
    "# randint function, from random module\n",
    "# randint function generates a random integer and returns that number\n",
    "# in this case, it generates a random int in the range of 1 to 100\n",
    "# 1 and 100 are the arguments passed into the function randint\n",
    "number"
   ]
  },
  {
   "cell_type": "code",
   "execution_count": 10,
   "metadata": {
    "scrolled": true
   },
   "outputs": [
    {
     "name": "stdout",
     "output_type": "stream",
     "text": [
      "Help on method randint in module random:\n",
      "\n",
      "randint(a, b) method of random.Random instance\n",
      "    Return random integer in range [a, b], including both end points.\n",
      "\n"
     ]
    }
   ],
   "source": [
    "help(random.randint)"
   ]
  },
  {
   "cell_type": "code",
   "execution_count": 62,
   "metadata": {
    "scrolled": true
   },
   "outputs": [
    {
     "name": "stdout",
     "output_type": "stream",
     "text": [
      "61\n",
      "94\n",
      "30\n",
      "51\n",
      "64\n"
     ]
    }
   ],
   "source": [
    "# generating and returning 5 numbers, in range of 1 to 100\n",
    "for count in range(5):\n",
    "# randrange specifies the ending limit\n",
    "print(random.randint(1,100))"
   ]
  },
  {
   "cell_type": "code",
   "execution_count": 12,
   "metadata": {
    "scrolled": true
   },
   "outputs": [
    {
     "name": "stdout",
     "output_type": "stream",
     "text": [
      "Help on method randrange in module random:\n",
      "\n",
      "randrange(start, stop=None, step=1) method of random.Random instance\n",
      "    Choose a random item from range(start, stop[, step]).\n",
      "    \n",
      "    This fixes the problem with randint() which includes the\n",
      "    endpoint; in Python this is usually not what you want.\n",
      "\n"
     ]
    }
   ],
   "source": [
    "# randrange specifies the ending limit\n",
    "\n",
    "# The function will return a randomly selected number \n",
    "# from the sequence of values 0 up to, but\n",
    "# not including, the ending limit.\n",
    "\n",
    "help(random.randrange)"
   ]
  },
  {
   "cell_type": "code",
   "execution_count": 17,
   "metadata": {},
   "outputs": [
    {
     "data": {
      "text/plain": [
       "8"
      ]
     },
     "execution_count": 17,
     "metadata": {},
     "output_type": "execute_result"
    }
   ],
   "source": [
    "# 10, specifies the ending limit of the sequence of values.\n",
    "# the number 10 is not included in the range\n",
    "random.randrange(10)"
   ]
  },
  {
   "cell_type": "code",
   "execution_count": 19,
   "metadata": {},
   "outputs": [
    {
     "data": {
      "text/plain": [
       "9"
      ]
     },
     "execution_count": 19,
     "metadata": {},
     "output_type": "execute_result"
    }
   ],
   "source": [
    "# specifies both a starting value and\n",
    "# an ending limit for the sequence:\n",
    "random.randrange(5,10)\n",
    "# random number in the range of 5 through 9 will be assigned\n",
    "# to number."
   ]
  },
  {
   "cell_type": "code",
   "execution_count": 20,
   "metadata": {},
   "outputs": [
    {
     "data": {
      "text/plain": [
       "90"
      ]
     },
     "execution_count": 20,
     "metadata": {},
     "output_type": "execute_result"
    }
   ],
   "source": [
    "# This specifies a starting value, an ending limit, and a step value\n",
    "random.randrange(0, 101, 10)\n",
    "\n",
    "# it randomly selected a value from \n",
    "# [0, 10, 20, 30, 40, 50, 60, 70, 80, 90, 100]"
   ]
  },
  {
   "cell_type": "code",
   "execution_count": 18,
   "metadata": {},
   "outputs": [
    {
     "name": "stdout",
     "output_type": "stream",
     "text": [
      "1\n",
      "3\n",
      "5\n",
      "7\n",
      "9\n"
     ]
    }
   ],
   "source": [
    "for i in range(1, 10, 2):\n",
    "    print(i)\n",
    "    "
   ]
  },
  {
   "cell_type": "code",
   "execution_count": 42,
   "metadata": {
    "scrolled": true
   },
   "outputs": [
    {
     "name": "stdout",
     "output_type": "stream",
     "text": [
      "19\n",
      "95\n",
      "77\n",
      "39\n",
      "3\n",
      "29\n",
      "77\n",
      "33\n",
      "3\n",
      "19\n"
     ]
    }
   ],
   "source": [
    "for count in range(10):\n",
    "    print(random.randrange(3, 100, 2))"
   ]
  },
  {
   "cell_type": "markdown",
   "metadata": {},
   "source": [
    "#### `random`\n",
    "Both the randint and the randrange functions return an integer number. \n",
    "\n",
    "The random function, however, returns a random floating-point number.\n",
    "\n",
    "- You do not pass any arguments to the random function.\n",
    "\n",
    "- When you call it, it returns a random floating point number in the range of 0.0 up to 1.0 (but not including 1.0)."
   ]
  },
  {
   "cell_type": "code",
   "execution_count": 67,
   "metadata": {},
   "outputs": [
    {
     "data": {
      "text/plain": [
       "\u001b[0;31mDocstring:\u001b[0m random() -> x in the interval [0, 1).\n",
       "\u001b[0;31mType:\u001b[0m      builtin_function_or_method\n"
      ]
     },
     "metadata": {},
     "output_type": "display_data"
    }
   ],
   "source": [
    "?random.random\n",
    "# random.random() returns a random floating point number \n",
    "# from 0 up to 1.0 (not including 1.0)"
   ]
  },
  {
   "cell_type": "code",
   "execution_count": 60,
   "metadata": {
    "scrolled": false
   },
   "outputs": [
    {
     "data": {
      "text/plain": [
       "0.8394954025459991"
      ]
     },
     "execution_count": 60,
     "metadata": {},
     "output_type": "execute_result"
    }
   ],
   "source": [
    "number = random.random()\n",
    "number"
   ]
  },
  {
   "cell_type": "markdown",
   "metadata": {},
   "source": [
    "#### `uniform`\n",
    "The uniform function also returns a random floating-point number, but allows you to\n",
    "specify the range of values to select from. "
   ]
  },
  {
   "cell_type": "code",
   "execution_count": 22,
   "metadata": {},
   "outputs": [
    {
     "name": "stdout",
     "output_type": "stream",
     "text": [
      "Help on method uniform in module random:\n",
      "\n",
      "uniform(a, b) method of random.Random instance\n",
      "    Get a random number in the range [a, b) or [a, b] depending on rounding.\n",
      "\n"
     ]
    }
   ],
   "source": [
    "help(random.uniform)\n",
    "# random.uniform() retrns a random floating-point number\n",
    "# but unlike random.random(), you can specify the range of values with this function"
   ]
  },
  {
   "cell_type": "code",
   "execution_count": 57,
   "metadata": {},
   "outputs": [
    {
     "data": {
      "text/plain": [
       "3.0687378010818342"
      ]
     },
     "execution_count": 57,
     "metadata": {},
     "output_type": "execute_result"
    }
   ],
   "source": [
    "random.uniform(1, 10)\n",
    "# generates and returns a random float in the range of 1.0 through 10.0"
   ]
  },
  {
   "cell_type": "code",
   "execution_count": 49,
   "metadata": {},
   "outputs": [
    {
     "name": "stdout",
     "output_type": "stream",
     "text": [
      "17\n",
      "61\n",
      "81\n",
      "13\n",
      "65\n",
      "85\n",
      "5\n",
      "21\n",
      "93\n",
      "31\n"
     ]
    }
   ],
   "source": [
    "for count in range(10):\n",
    "    print(random.randrange(3, 100, 2))"
   ]
  },
  {
   "cell_type": "markdown",
   "metadata": {},
   "source": [
    "### Random number seeds\n",
    "The formula that generates random\n",
    "numbers has to be initialized with a value known as a seed value. The seed value is\n",
    "used in the calculation that returns the next random number in the series. When the random\n",
    "module is imported, it retrieves the system time from the computer’s internal clock and uses\n",
    "that as the seed value. The system time is an integer that represents the current date and\n",
    "time, down to a hundredth of a second."
   ]
  },
  {
   "cell_type": "code",
   "execution_count": 50,
   "metadata": {},
   "outputs": [
    {
     "name": "stdout",
     "output_type": "stream",
     "text": [
      "75\n",
      "7\n",
      "57\n",
      "63\n",
      "75\n",
      "3\n",
      "29\n",
      "61\n",
      "65\n",
      "37\n"
     ]
    }
   ],
   "source": [
    "random.seed(10)\n",
    "for count in range(10):\n",
    "    print(random.randrange(3, 100, 2))"
   ]
  },
  {
   "cell_type": "code",
   "execution_count": 51,
   "metadata": {},
   "outputs": [
    {
     "name": "stdout",
     "output_type": "stream",
     "text": [
      "75\n",
      "7\n",
      "57\n",
      "63\n",
      "75\n",
      "3\n",
      "29\n",
      "61\n",
      "65\n",
      "37\n"
     ]
    }
   ],
   "source": [
    "random.seed(10)\n",
    "for count in range(10):\n",
    "    print(random.randrange(3, 100, 2))"
   ]
  },
  {
   "cell_type": "code",
   "execution_count": 52,
   "metadata": {},
   "outputs": [
    {
     "name": "stdout",
     "output_type": "stream",
     "text": [
      "75\n",
      "7\n",
      "57\n",
      "63\n",
      "75\n",
      "3\n",
      "29\n",
      "61\n",
      "65\n",
      "37\n"
     ]
    }
   ],
   "source": [
    "random.seed(10)\n",
    "for count in range(10):\n",
    "    print(random.randrange(3, 100, 2))"
   ]
  },
  {
   "cell_type": "markdown",
   "metadata": {},
   "source": [
    "### Spot the error:\n",
    "\n",
    "        def abs_value(x):\n",
    "            if x < 0:\n",
    "                return -x\n",
    "            if x > 0:\n",
    "                return x\n",
    "\n",
    "        "
   ]
  },
  {
   "cell_type": "markdown",
   "metadata": {},
   "source": [
    "### Incremental Development:\n",
    "\n",
    "- Add and Test a small amount of code at a time\n",
    "- Helps preventing long debugging sessons\n",
    "        \n",
    "        "
   ]
  },
  {
   "cell_type": "markdown",
   "metadata": {},
   "source": [
    "### Composition"
   ]
  },
  {
   "cell_type": "code",
   "execution_count": 12,
   "metadata": {},
   "outputs": [],
   "source": [
    "def circle_area(xc, yc, xp, yp):\n",
    "    radius = distance(xc, yc, xp, yp)\n",
    "    result = area(radius)\n",
    "    return result"
   ]
  },
  {
   "cell_type": "code",
   "execution_count": 13,
   "metadata": {},
   "outputs": [],
   "source": [
    "def circle_area(xc, yc, xp, yp):\n",
    "    return area(distance(xc, yc, xp, yp)) "
   ]
  },
  {
   "cell_type": "markdown",
   "metadata": {},
   "source": [
    "## Using main function:\n",
    "\n",
    "https://interactivepython.org/courselib/static/thinkcspy/Functions/mainfunction.html\n",
    "    - Not required in Python, but it's a good idea to use it\n",
    "    - In many programming languages (e.g. Java and C++), it is not possible to simply have statements sitting alone at the bottom of the program. They are required to be part of a special function that is automatically invoked by the operating system when the program is executed, called main.\n",
    "    - In other words, the lines in the main() function in the example above are logically related to one another in that they provide the main tasks that the program will perform. Since functions are designed to allow us to break up a program into logical pieces, it makes sense to call this piece main.\n",
    "    - In Python there is nothing special about the name main. We could have called this function anything we wanted. We chose main just to be consistent with some of the other languages.\n"
   ]
  },
  {
   "cell_type": "markdown",
   "metadata": {},
   "source": [
    "### Boolean Functions\n",
    "- returns either True or False"
   ]
  },
  {
   "cell_type": "code",
   "execution_count": 53,
   "metadata": {},
   "outputs": [
    {
     "data": {
      "text/plain": [
       "True"
      ]
     },
     "execution_count": 53,
     "metadata": {},
     "output_type": "execute_result"
    }
   ],
   "source": [
    "# check if a number is divisible by another number\n",
    "def is_divisible(x, y): ## x, y are parameters\n",
    "    if x % y == 0:\n",
    "        return True\n",
    "    else:\n",
    "        return False\n",
    "        \n",
    "is_divisible(6, 3) ## 6, 3 are arguments"
   ]
  },
  {
   "cell_type": "code",
   "execution_count": 54,
   "metadata": {},
   "outputs": [
    {
     "data": {
      "text/plain": [
       "False"
      ]
     },
     "execution_count": 54,
     "metadata": {},
     "output_type": "execute_result"
    }
   ],
   "source": [
    "# more concise:\n",
    "def is_divisible(x, y):\n",
    "    return x % y == 0 \n",
    "\n",
    "is_divisible(3, 4)"
   ]
  },
  {
   "cell_type": "code",
   "execution_count": 55,
   "metadata": {},
   "outputs": [
    {
     "name": "stdin",
     "output_type": "stream",
     "text": [
      "Enter first number 8\n",
      "enter second number 4\n"
     ]
    },
    {
     "name": "stdout",
     "output_type": "stream",
     "text": [
      "8 is divisible by 4\n"
     ]
    }
   ],
   "source": [
    "# use Boolean functions inside conditionals:\n",
    "x = int(input('Enter first number'))\n",
    "y = int(input(\"enter second number\"))\n",
    "if is_divisible(x, y): \n",
    "    print(x, 'is divisible by', y)\n",
    "else:\n",
    "    print(x, 'is not divisible by', y)"
   ]
  },
  {
   "cell_type": "code",
   "execution_count": 56,
   "metadata": {},
   "outputs": [
    {
     "name": "stdin",
     "output_type": "stream",
     "text": [
      "Enter your budget: 100\n",
      "Wrong value. Please enter your budget within 500 and 5000 dollars 500\n"
     ]
    }
   ],
   "source": [
    "def user_invalid(x):\n",
    "    return x < 500 or x > 5000 \n",
    "\n",
    "budget = float(input(\"Enter your budget:\"))\n",
    "while user_invalid(budget): # while budget < 500 or budget > 5000: \n",
    "    budget = float(input(\"Wrong value. Please enter your budget within 500 and 5000 dollars\"))"
   ]
  },
  {
   "cell_type": "markdown",
   "metadata": {},
   "source": [
    "## Exercises - Functions\n",
    "\n",
    "6. Future Value\n",
    "\n",
    "Suppose you have a certain amount of money in a savings account that earns compound monthly interest, and you want to calculate the amount that you will have after a specific number of months. The formula is as follows:\n",
    "F = P x (1 + i)^t\n",
    "\n",
    "    The terms in the formula are:\n",
    "       - F is the future value of the account after the specified time period.\n",
    "       - P is the present value of the account.\n",
    "       - i is the monthly interest rate.\n",
    "       - t is the number of months.\n",
    "       \n",
    "Write a program that prompts the user to enter the account’s present value, monthly interest rate, and the number of months that the money will be left in the account. The program should pass these values to a function that returns the future value of the account, after the specified number of months. The program should display the account’s future value.\n",
    "\n",
    "(important: needs validation loops for all values that user has to enter.)\n",
    "\n",
    "7. Random number Guessing Game\n",
    "\n",
    "    Write a program that generates a random number in the range of 1 through 10, and asks the user to guess what the number is. If the user’s guess is higher than the random number, the program should display “Too high, try again.” If the user’s guess is lower than the random number, the program should display “Too low, try again.” If the user guesses the number, the application should congratulate the user and then generate a new random number so the game can start over. Ask the user if they want to end the game or play a new round before starting over.\n",
    "\n",
    "    Enhancement: Enhance the game so it keeps count of the number of guesses that the user makes. When the user correctly guesses the random number, the program should display the number of guesses.\n",
    "\n",
    "8. Rock, paper, scissors Game\n",
    "\n",
    "    Write a program that lets the user play the game of Rock, Paper, Scissors against the computer. The program should work as follows:\n",
    "    - When the program begins, a random number in the range of 1 through 3 is generated. If the number is 1, then the computer has chosen rock. If the number is 2, then the computer has chosen paper. If the number is 3, then the computer has chosen scissors. (Don’t display the computer’s choice yet.)\n",
    "    - The user enters his or her choice of “rock,” “paper,” or “scissors” at the keyboard.\n",
    "    - The computer’s choice is displayed.\n",
    "    - A winner is selected according to the following rules:\n",
    "        - If one player chooses rock and the other player chooses scissors, then rock wins. (The rock smashes the scissors.)\n",
    "        - If one player chooses scissors and the other player chooses paper, then scissors wins. (Scissors cuts paper.)\n",
    "        - If one player chooses paper and the other player chooses rock, then paper wins. (Paper wraps rock.)\n",
    "        - If both players make the same choice, the game must be played again to determine the winner.\n",
    "        \n",
    "        \n",
    "9. Odd/even Counter\n",
    " \n",
    "    In this chapter, you saw an example of how to write an algorithm that determines whether a number is even or odd. Write a program that generates 100 random numbers (you choose the range) and keeps a count of how many of those random numbers are even and how many of them are odd."
   ]
  },
  {
   "cell_type": "markdown",
   "metadata": {},
   "source": [
    "## Assignment & Quizzes\n",
    "\n",
    "- Assignment 9: Writing program with functions (Due date: Apr 8th)\n",
    "\n",
    "- Codelab Quizzes: (Due date: Apr 8th)\n",
    "    - Section: Function\n",
    "        - invoking functions\n",
    "        - composition\n",
    "        - function definition"
   ]
  }
 ],
 "metadata": {
  "kernelspec": {
   "display_name": "Python 3",
   "language": "python",
   "name": "python3"
  },
  "language_info": {
   "codemirror_mode": {
    "name": "ipython",
    "version": 3
   },
   "file_extension": ".py",
   "mimetype": "text/x-python",
   "name": "python",
   "nbconvert_exporter": "python",
   "pygments_lexer": "ipython3",
   "version": "3.9.5"
  }
 },
 "nbformat": 4,
 "nbformat_minor": 4
}
