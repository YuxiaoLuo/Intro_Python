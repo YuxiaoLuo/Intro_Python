{
 "cells": [
  {
   "cell_type": "markdown",
   "metadata": {
    "slideshow": {
     "slide_type": "fragment"
    }
   },
   "source": [
    "# Functions (Continued)\n",
    "\n",
    "- Void and value returning functions\n",
    "- Grouping your own funcitons in modules \n",
    "- Return vs. print"
   ]
  },
  {
   "cell_type": "code",
   "execution_count": 1,
   "metadata": {},
   "outputs": [],
   "source": [
    "from IPython.core.interactiveshell import InteractiveShell\n",
    "InteractiveShell.ast_node_interactivity = \"all\""
   ]
  },
  {
   "cell_type": "markdown",
   "metadata": {},
   "source": [
    "## Global variables and global constants\n",
    "\n",
    "### Global variables\n",
    "CONCEPT: A global variable is accessible to all the functions in a program file.\n",
    "\n",
    "- When a variable is created by an assignment statement\n",
    "that is written outside all the functions in a program file, the variable is *global*.\n",
    "\n",
    "- _Global variable can be accessed by any statement in the program file, including the statements in any function._"
   ]
  },
  {
   "cell_type": "code",
   "execution_count": 23,
   "metadata": {},
   "outputs": [
    {
     "name": "stdout",
     "output_type": "stream",
     "text": [
      "10\n"
     ]
    }
   ],
   "source": [
    "# create a global variable \n",
    "my_value = 10 \n",
    "\n",
    "# the show_value function prints \n",
    "# the value of the global variable \n",
    "def show_value():\n",
    "    print(my_value)\n",
    "    \n",
    "# call the show_value function\n",
    "show_value()"
   ]
  },
  {
   "cell_type": "markdown",
   "metadata": {},
   "source": [
    "- An additional step is required if you want a statement in a function to assign a value to a global\n",
    "variable. \n",
    "    - In the function, you must declare the global variable, as shown in the program below."
   ]
  },
  {
   "cell_type": "code",
   "execution_count": 28,
   "metadata": {},
   "outputs": [
    {
     "name": "stdout",
     "output_type": "stream",
     "text": [
      "Enter a number: 31\n",
      "The number you entered is 31\n"
     ]
    }
   ],
   "source": [
    "# create a global variable named number\n",
    "number = 0 \n",
    "\n",
    "def main():\n",
    "    # use global keyword to declare the number variable \n",
    "    # it tells the interpreter \n",
    "    # the main function intends to assign a value to the global number variable\n",
    "    global number\n",
    "    number = int(input('Enter a number: '))\n",
    "    show_number()\n",
    "    \n",
    "def show_number():\n",
    "    print(f'The number you entered is {number}')\n",
    "    \n",
    "# call the main function \n",
    "main()\n",
    "print(number)"
   ]
  },
  {
   "cell_type": "markdown",
   "metadata": {},
   "source": [
    "### Tips\n",
    "Most programmers agree that you should restrict the use of global variables, or not use\n",
    "them at all. The reasons are as follows:\n",
    "\n",
    "1. Global variables make debugging difficult. Any statement in a program file can change\n",
    "the value of a global variable. If you find that the wrong value is being stored in a\n",
    "global variable, you have to track down every statement that accesses it to determine\n",
    "where the bad value is coming from. In a program with thousands of lines of code,\n",
    "this can be difficult.\n",
    "2. Functions that use global variables are usually dependent on those variables. If you\n",
    "want to use such a function in a different program, most likely you will have to redesign\n",
    "it so it does not rely on the global variable.\n",
    "3. Global variables make a program hard to understand. A global variable can be modified\n",
    "by any statement in the program. If you are to understand any part of the program\n",
    "that uses a global variable, you have to be aware of all the other parts of the\n",
    "program that access the global variable.\n",
    "\n",
    "### Global constants"
   ]
  },
  {
   "cell_type": "markdown",
   "metadata": {},
   "source": [
    "Although you should try to avoid the use of global variables, it is permissible to use global\n",
    "constants in a program.\n",
    "\n",
    "- Global constant is a global name that references a value that cannot be changed.\n",
    "\n",
    "- Because a global constant’s value cannot be changed during the program’s execution, you do not have to worry about many of the potential hazards that are associated with the use of global variables.\n",
    "\n",
    "- Although the Python language does not allow you to create true global constants, you can simulate them with global variables.\n",
    "\n",
    "- If you do not declare a global variable with the global keyword inside a function, then you cannot change the variable’s assignment inside that function.\n",
    "\n",
    "Let's see how global variables can be used in Python to simulate global constants.\n"
   ]
  },
  {
   "cell_type": "code",
   "execution_count": 29,
   "metadata": {
    "scrolled": true
   },
   "outputs": [
    {
     "name": "stdout",
     "output_type": "stream",
     "text": [
      "Enter the gross pay: 2000\n",
      "Enter the amount of bonuses: 1000\n",
      "Contribution for gross pay: $100.00.\n",
      "Contribution for bonuses: $50.00.\n"
     ]
    }
   ],
   "source": [
    "# The following is used as a global constants to represent \n",
    "# the contribution rate\n",
    "CONTRIBUTION_RATE = .05\n",
    "\n",
    "def main():\n",
    "    gross_pay = float(input('Enter the gross pay: '))\n",
    "    bonus = float(input('Enter the amount of bonuses: '))\n",
    "    show_pay_contrib(gross_pay)\n",
    "    show_bonus_contrib(bonus)\n",
    "    \n",
    "# the show_pay_contrib function accepts the gross pay\n",
    "# as an argument and display retirement contribution \n",
    "# for that amount of pay\n",
    "\n",
    "def show_pay_contrib(gross):\n",
    "    contrib = gross * CONTRIBUTION_RATE\n",
    "    print(f'Contribution for gross pay: ${contrib:,.2f}.')\n",
    "    \n",
    "def show_bonus_contrib(bonus):\n",
    "    contrib = bonus * CONTRIBUTION_RATE\n",
    "    print(f'Contribution for bonuses: ${contrib:,.2f}.')\n",
    "\n",
    "# call main \n",
    "main()"
   ]
  },
  {
   "cell_type": "markdown",
   "metadata": {},
   "source": [
    "## Value-returning functions\n",
    "Concept: A value-returning function is a function that returns a value back to the\n",
    "part of the program that called it. \n",
    "\n",
    "The value that is returned from a function can be used like any other value: \n",
    "- it can be assigned to a variable\n",
    "- displayed on the screen\n",
    "- used in a mathematical expression (if it is a number), and so on.\n",
    "\n",
    "### Standard Library Functions and the `import` Statement\n",
    "Python, as well as most other programming\n",
    "languages, provides a library of prewritten functions that perform\n",
    "commonly needed tasks. These libraries typically contain a function\n",
    "that generates random numbers. \n",
    "\n",
    "- It comes with a standard library of functions that have already been written for you.\n",
    "\n",
    "- Some of Python’s library functions are built into the Python interpreter. If you want to use one of these built-in functions in a program, you simply call the function. This is the case with the print, input, range, and other functions about which you have already learned."
   ]
  },
  {
   "cell_type": "markdown",
   "metadata": {},
   "source": [
    "## Importing Modules\n",
    "\n",
    "### Math module\n",
    "An `import` statement tells the interpreter the name of the module that contains the function. For example, one of the Python standard modules is named `math`. The `math` module contains various mathematical functions that work with floatingpoint numbers. If you want to use any of the `math` module’s functions in a program, you should write the following import statement at the top of the program:"
   ]
  },
  {
   "cell_type": "code",
   "execution_count": 7,
   "metadata": {
    "scrolled": true
   },
   "outputs": [
    {
     "name": "stdout",
     "output_type": "stream",
     "text": [
      "<module 'math' (built-in)>\n"
     ]
    }
   ],
   "source": [
    "# import the module\n",
    "import math\n",
    "print(math)"
   ]
  },
  {
   "cell_type": "code",
   "execution_count": 3,
   "metadata": {
    "scrolled": true
   },
   "outputs": [
    {
     "name": "stdout",
     "output_type": "stream",
     "text": [
      "3.141592653589793\n"
     ]
    }
   ],
   "source": [
    "print(math.pi)"
   ]
  },
  {
   "cell_type": "code",
   "execution_count": 4,
   "metadata": {},
   "outputs": [
    {
     "data": {
      "text/plain": [
       "2.718281828459045"
      ]
     },
     "execution_count": 4,
     "metadata": {},
     "output_type": "execute_result"
    }
   ],
   "source": [
    "math.e"
   ]
  },
  {
   "cell_type": "code",
   "execution_count": 5,
   "metadata": {},
   "outputs": [
    {
     "name": "stdout",
     "output_type": "stream",
     "text": [
      "3.141592653589793\n",
      "<built-in function factorial>\n",
      "<built-in function factorial>\n"
     ]
    }
   ],
   "source": [
    "from math import pi # import pi function from math module\n",
    "from math import factorial  # import factorial function from math module\n",
    "print(pi)\n",
    "print(math.factorial)\n",
    "print(factorial)"
   ]
  },
  {
   "cell_type": "code",
   "execution_count": 237,
   "metadata": {},
   "outputs": [
    {
     "data": {
      "text/plain": [
       "4.0"
      ]
     },
     "execution_count": 237,
     "metadata": {},
     "output_type": "execute_result"
    }
   ],
   "source": [
    "math.sqrt(16)"
   ]
  },
  {
   "cell_type": "code",
   "execution_count": 8,
   "metadata": {
    "scrolled": true
   },
   "outputs": [],
   "source": [
    "from math import * # import all of the functions or variables in math module"
   ]
  },
  {
   "cell_type": "markdown",
   "metadata": {},
   "source": [
    "There are other functions in the `math` module being shown below:"
   ]
  },
  {
   "cell_type": "code",
   "execution_count": 228,
   "metadata": {},
   "outputs": [
    {
     "data": {
      "text/plain": [
       "1.0471975511965979"
      ]
     },
     "execution_count": 228,
     "metadata": {},
     "output_type": "execute_result"
    },
    {
     "data": {
      "text/plain": [
       "0.5235987755982989"
      ]
     },
     "execution_count": 228,
     "metadata": {},
     "output_type": "execute_result"
    },
    {
     "data": {
      "text/plain": [
       "0.4636476090008061"
      ]
     },
     "execution_count": 228,
     "metadata": {},
     "output_type": "execute_result"
    },
    {
     "data": {
      "text/plain": [
       "0.28366218546322625"
      ]
     },
     "execution_count": 228,
     "metadata": {},
     "output_type": "execute_result"
    }
   ],
   "source": [
    "# return the arc cosine of x, in radians\n",
    "acos(0.5)\n",
    "\n",
    "# return the arc sine of x, in radians \n",
    "asin(0.5)\n",
    "\n",
    "# return the arc tangent of x, in radians\n",
    "atan(0.5)\n",
    "\n",
    "# return the cosine of x in radians\n",
    "cos(5)\n",
    "\n",
    "# return the sine of x in radians \n",
    "sin(45)\n",
    "\n",
    "# return the tangent of x in radians\n",
    "tan(45)"
   ]
  },
  {
   "cell_type": "code",
   "execution_count": 11,
   "metadata": {
    "scrolled": true
   },
   "outputs": [
    {
     "data": {
      "text/plain": [
       "True"
      ]
     },
     "execution_count": 11,
     "metadata": {},
     "output_type": "execute_result"
    },
    {
     "data": {
      "text/plain": [
       "9"
      ]
     },
     "execution_count": 11,
     "metadata": {},
     "output_type": "execute_result"
    },
    {
     "data": {
      "text/plain": [
       "10"
      ]
     },
     "execution_count": 11,
     "metadata": {},
     "output_type": "execute_result"
    },
    {
     "data": {
      "text/plain": [
       "1.0"
      ]
     },
     "execution_count": 11,
     "metadata": {},
     "output_type": "execute_result"
    },
    {
     "data": {
      "text/plain": [
       "1.0"
      ]
     },
     "execution_count": 11,
     "metadata": {},
     "output_type": "execute_result"
    },
    {
     "data": {
      "text/plain": [
       "0.5235987755982988"
      ]
     },
     "execution_count": 11,
     "metadata": {},
     "output_type": "execute_result"
    },
    {
     "data": {
      "text/plain": [
       "29.999999999999996"
      ]
     },
     "execution_count": 11,
     "metadata": {},
     "output_type": "execute_result"
    }
   ],
   "source": [
    "# return e^x\n",
    "exp(1) == math.e\n",
    "\n",
    "# return the largest integer that is less than or equal to x \n",
    "floor(9.9)\n",
    "\n",
    "# return the smallest integer that is greater than or equal to x\n",
    "ceil(9.9)\n",
    "\n",
    "# return the natural logarithm of x\n",
    "log(math.e)\n",
    "\n",
    "# return the base-10 logarithm of x\n",
    "log10(10)\n",
    "\n",
    "# assumeing x is angle in degrees, the function returns the angle converted to radians \n",
    "radians(30)\n",
    "\n",
    "# assume x is an angle in radians, \n",
    "# the function returns the angle coverted to degrees\n",
    "degrees(0.5235987755982988)"
   ]
  },
  {
   "cell_type": "markdown",
   "metadata": {},
   "source": [
    "### Storing functions in module\n",
    "A module is a file that contains Python code. Large programs are easier\n",
    "to debug and maintain when they are divided into modules. When you break a program into modules,\n",
    "each module should contain functions that perform related tasks. \n",
    "\n",
    "For example, suppose\n",
    "you are writing an accounting system. You would store all of the account receivable\n",
    "functions in their own module, all of the account payable functions in their own module,\n",
    "and all of the payroll functions in their own module. This approach, which is called modularization,\n",
    "makes the program easier to understand, test, and maintain.\n",
    "\n",
    "Example: suppose your instructor ask you to write a program that calculates the following: \n",
    "\n",
    "- area of a circle\n",
    "\n",
    "- circumference of a circle\n",
    "\n",
    "- area of a rectangle \n",
    "\n",
    "- perimeter of a rectangle\n",
    "\n",
    "Steps: \n",
    "\n",
    "1. Make a `circle.py` file\n",
    "\n",
    "2. Make a `rectangle.py` file\n",
    "\n",
    "3. Import these modules before using them\n",
    "\n",
    "Notice: \n",
    "\n",
    "- A module’s file name should end in `.py`. If the module’s file name does not end in `.py`, you will not be able to import it into other programs.\n",
    "\n",
    "- A module’s name cannot be the same as a Python keyword. An error would occur, for example, if you named a module `for`."
   ]
  },
  {
   "cell_type": "code",
   "execution_count": null,
   "metadata": {},
   "outputs": [],
   "source": [
    "# the circle module has functions that perform calculations \n",
    "# related to circles \n",
    "\n",
    "import math # use the pi value\n",
    "\n",
    "# area function accepts a circle's radius as an \n",
    "# argument and returns the area of the circle\n",
    "\n",
    "def area(radius):\n",
    "    return math.pi * radius**2 # pi*r^2\n",
    "\n",
    "# circumference function accepts a circle's \n",
    "# radius and returns circle's circumference\n",
    "\n",
    "def circumference(radius):\n",
    "    return 2*math.pi * radius # 2*pi*r"
   ]
  },
  {
   "cell_type": "code",
   "execution_count": null,
   "metadata": {},
   "outputs": [],
   "source": [
    "# The rectangle module has functions that perform\n",
    "# calculations related to rectangles\n",
    "\n",
    "def area(width, length):\n",
    "    return width * length # area \n",
    "\n",
    "def perimeter(width, length):\n",
    "    return (width + length) * 2 # perimeter"
   ]
  },
  {
   "cell_type": "code",
   "execution_count": 13,
   "metadata": {
    "scrolled": true
   },
   "outputs": [
    {
     "name": "stdout",
     "output_type": "stream",
     "text": [
      "\tMenu\n",
      "1> Area of circle\n",
      "2> Circumference of circle\n",
      "3> Area of rectangle\n",
      "4> Perimeter of rectangle\n",
      "5> Quit\n",
      "\n",
      "Enter your choice: 3\n",
      "Enter the rectangle's width: 2\n",
      "Enter the rectangle's length: 9\n",
      "The area is 18.0\n",
      "\tMenu\n",
      "1> Area of circle\n",
      "2> Circumference of circle\n",
      "3> Area of rectangle\n",
      "4> Perimeter of rectangle\n",
      "5> Quit\n",
      "\n",
      "Enter your choice: 1\n",
      "Enter the circle's radius: 2\n",
      "The area is 12.566370614359172\n",
      "\tMenu\n",
      "1> Area of circle\n",
      "2> Circumference of circle\n",
      "3> Area of rectangle\n",
      "4> Perimeter of rectangle\n",
      "5> Quit\n",
      "\n",
      "Enter your choice: 5\n",
      "Exiting the program...\n"
     ]
    }
   ],
   "source": [
    "# main program doing geometry calculations \n",
    "import circle \n",
    "import rectangle\n",
    "\n",
    "# constants for the menu choices\n",
    "AREA_CIRCLE_CHOICE = 1 \n",
    "CIRCUMFERENCE_CHOICE = 2\n",
    "AREA_RECTANGLE_CHOICE = 3\n",
    "PERIMETER_RECTANGLE_CHOICE = 4\n",
    "QUIT_CHOICE = 5\n",
    "\n",
    "# the main function \n",
    "def main():\n",
    "    # the choice variable controls the loop\n",
    "    # and holds the user's menu choice \n",
    "    choice = 0\n",
    "    \n",
    "    while choice != QUIT_CHOICE:\n",
    "        # display the menu\n",
    "        display_menu()\n",
    "        \n",
    "        # the user's choice\n",
    "        choice = int(input('Enter your choice: '))\n",
    "        \n",
    "        # perform the selected action \n",
    "        if choice == AREA_CIRCLE_CHOICE:\n",
    "            radius = float(input(\"Enter the circle's radius: \"))\n",
    "            print('The area is', circle.area(radius))\n",
    "        elif choice == CIRCUMFERENCE_CHOICE:\n",
    "            radius = float(input(\"Enter the circle's radius: \"))\n",
    "            print('The circumference is', \n",
    "                 circle.circumference(radius))\n",
    "        elif choice == AREA_RECTANGLE_CHOICE:\n",
    "            width = float(input(\"Enter the rectangle's width: \"))\n",
    "            length = float(input(\"Enter the rectangle's length: \"))\n",
    "            print('The area is', rectangle.area(width, length))\n",
    "        elif choice == PERIMETER_RECTANGLE_CHOICE:\n",
    "            width = float(input(\"Enter the rectangle's width: \"))\n",
    "            length = float(input(\"Enter the rectangle's length: \"))\n",
    "            print('The perimeter is', \n",
    "                 rectangle.perimeter(width, length))\n",
    "        elif choice == QUIT_CHOICE:\n",
    "            print('Exiting the program...')\n",
    "        else: \n",
    "            print('Error invalid selection.')\n",
    "            \n",
    "# The display_menu function displays a menu \n",
    "def display_menu():\n",
    "    print('\\tMenu')\n",
    "    print('1> Area of circle')\n",
    "    print('2> Circumference of circle')\n",
    "    print('3> Area of rectangle')\n",
    "    print('4> Perimeter of rectangle')\n",
    "    print('5> Quit\\n')\n",
    "    \n",
    "# call main function \n",
    "main()"
   ]
  },
  {
   "cell_type": "markdown",
   "metadata": {},
   "source": [
    "## Generating Random Numbers\n",
    "Random numbers are useful for lots of different programming tasks. The following are just\n",
    "a few examples.\n",
    "\n",
    "- Random numbers are commonly used in games. For example, computer games\n",
    "that let the player roll dice use random numbers to represent the values of the dice.\n",
    "Programs that show cards being drawn from a shuffled deck use random numbers\n",
    "to represent the face values of the cards.\n",
    "\n",
    "- Random numbers are useful in simulation programs. In some simulations, the computer\n",
    "must randomly decide how a person, animal, insect, or other living being will\n",
    "behave. Formulas can be constructed in which a random number is used to determine\n",
    "various actions and events that take place in the program.\n",
    "\n",
    "- Random numbers are useful in statistical programs that must randomly select data for\n",
    "analysis.\n",
    "\n",
    "- Random numbers are commonly used in computer security to encrypt sensitive data.\n",
    "\n",
    "Python provides several library functions for working with random numbers. These functions\n",
    "are stored in a module named `random` in the standard library."
   ]
  },
  {
   "cell_type": "code",
   "execution_count": 44,
   "metadata": {},
   "outputs": [
    {
     "data": {
      "text/plain": [
       "80"
      ]
     },
     "execution_count": 44,
     "metadata": {},
     "output_type": "execute_result"
    }
   ],
   "source": [
    "# import the module called random\n",
    "import random \n",
    "number = random.randint(1, 100)\n",
    "# randint function, from random module\n",
    "# randint function generates a random integer and returns that number\n",
    "# in this case, it generates a random int in the range of 1 to 100\n",
    "# 1 and 100 are the arguments passed into the function randint\n",
    "number"
   ]
  },
  {
   "cell_type": "code",
   "execution_count": 48,
   "metadata": {
    "scrolled": true
   },
   "outputs": [
    {
     "name": "stdout",
     "output_type": "stream",
     "text": [
      "Help on method randint in module random:\n",
      "\n",
      "randint(a, b) method of random.Random instance\n",
      "    Return random integer in range [a, b], including both end points.\n",
      "\n"
     ]
    }
   ],
   "source": [
    "help(random.randint)"
   ]
  },
  {
   "cell_type": "code",
   "execution_count": 52,
   "metadata": {
    "scrolled": true
   },
   "outputs": [
    {
     "name": "stdout",
     "output_type": "stream",
     "text": [
      "28\n",
      "3\n",
      "72\n",
      "35\n",
      "78\n"
     ]
    }
   ],
   "source": [
    "# generating and returning 5 numbers, in range of 1 to 100\n",
    "for count in range(5):\n",
    "# randrange specifies the ending limit\n",
    "    print(random.randint(1,100))"
   ]
  },
  {
   "cell_type": "code",
   "execution_count": 12,
   "metadata": {
    "scrolled": true
   },
   "outputs": [
    {
     "name": "stdout",
     "output_type": "stream",
     "text": [
      "Help on method randrange in module random:\n",
      "\n",
      "randrange(start, stop=None, step=1) method of random.Random instance\n",
      "    Choose a random item from range(start, stop[, step]).\n",
      "    \n",
      "    This fixes the problem with randint() which includes the\n",
      "    endpoint; in Python this is usually not what you want.\n",
      "\n"
     ]
    }
   ],
   "source": [
    "# randrange specifies the ending limit\n",
    "\n",
    "# The function will return a randomly selected number \n",
    "# from the sequence of values 0 up to, but\n",
    "# not including, the ending limit.\n",
    "\n",
    "help(random.randrange)"
   ]
  },
  {
   "cell_type": "code",
   "execution_count": 66,
   "metadata": {},
   "outputs": [
    {
     "data": {
      "text/plain": [
       "9"
      ]
     },
     "execution_count": 66,
     "metadata": {},
     "output_type": "execute_result"
    }
   ],
   "source": [
    "# 10, specifies the ending limit of the sequence of values.\n",
    "# the number 10 is not included in the range\n",
    "random.randrange(10)"
   ]
  },
  {
   "cell_type": "code",
   "execution_count": 91,
   "metadata": {},
   "outputs": [
    {
     "data": {
      "text/plain": [
       "1"
      ]
     },
     "execution_count": 91,
     "metadata": {},
     "output_type": "execute_result"
    }
   ],
   "source": [
    "# specifies both a starting value and\n",
    "# an ending limit for the sequence:\n",
    "random.randrange(5,10)\n",
    "# random number in the range of 5 through 9 will be assigned\n",
    "# to number.\n",
    "\n",
    "# simulate a dice \n",
    "random.randrange(1,7)"
   ]
  },
  {
   "cell_type": "code",
   "execution_count": 103,
   "metadata": {},
   "outputs": [
    {
     "data": {
      "text/plain": [
       "60"
      ]
     },
     "execution_count": 103,
     "metadata": {},
     "output_type": "execute_result"
    }
   ],
   "source": [
    "# This specifies a starting value, an ending limit, and a step value\n",
    "random.randrange(0, 101, 10)\n",
    "\n",
    "# it randomly selected a value from \n",
    "# [0, 10, 20, 30, 40, 50, 60, 70, 80, 90, 100]"
   ]
  },
  {
   "cell_type": "code",
   "execution_count": 109,
   "metadata": {},
   "outputs": [
    {
     "name": "stdout",
     "output_type": "stream",
     "text": [
      "1\n",
      "3\n",
      "5\n",
      "7\n",
      "9\n"
     ]
    }
   ],
   "source": [
    "for i in range(1, 10, 2):\n",
    "    print(i)"
   ]
  },
  {
   "cell_type": "code",
   "execution_count": 113,
   "metadata": {
    "scrolled": true
   },
   "outputs": [
    {
     "name": "stdout",
     "output_type": "stream",
     "text": [
      "11\n",
      "31\n",
      "75\n",
      "25\n",
      "29\n",
      "53\n",
      "95\n",
      "69\n",
      "55\n",
      "65\n"
     ]
    }
   ],
   "source": [
    "for count in range(10):\n",
    "    print(random.randrange(3, 100, 2))\n",
    "# [3,5,7,9,11,...., 99]"
   ]
  },
  {
   "cell_type": "markdown",
   "metadata": {},
   "source": [
    "#### `random`\n",
    "Both the randint and the randrange functions return an integer number. \n",
    "\n",
    "The random function, however, returns a random floating-point number.\n",
    "\n",
    "- You do not pass any arguments to the random function.\n",
    "\n",
    "- When you call it, it returns a random floating point number in the range of 0.0 up to 1.0 (but not including 1.0)."
   ]
  },
  {
   "cell_type": "code",
   "execution_count": 115,
   "metadata": {},
   "outputs": [
    {
     "name": "stdout",
     "output_type": "stream",
     "text": [
      "Help on built-in function random:\n",
      "\n",
      "random() method of random.Random instance\n",
      "    random() -> x in the interval [0, 1).\n",
      "\n"
     ]
    }
   ],
   "source": [
    "help(random.random)\n",
    "# random.random() returns a random floating point number \n",
    "# from 0 up to 1.0 (not including 1.0)"
   ]
  },
  {
   "cell_type": "code",
   "execution_count": 127,
   "metadata": {
    "scrolled": false
   },
   "outputs": [
    {
     "data": {
      "text/plain": [
       "0.8811268079257528"
      ]
     },
     "execution_count": 127,
     "metadata": {},
     "output_type": "execute_result"
    }
   ],
   "source": [
    "number = random.random()\n",
    "number"
   ]
  },
  {
   "cell_type": "markdown",
   "metadata": {},
   "source": [
    "#### `uniform`\n",
    "The uniform function also returns a random floating-point number, but allows you to\n",
    "specify the range of values to select from. "
   ]
  },
  {
   "cell_type": "code",
   "execution_count": 22,
   "metadata": {},
   "outputs": [
    {
     "name": "stdout",
     "output_type": "stream",
     "text": [
      "Help on method uniform in module random:\n",
      "\n",
      "uniform(a, b) method of random.Random instance\n",
      "    Get a random number in the range [a, b) or [a, b] depending on rounding.\n",
      "\n"
     ]
    }
   ],
   "source": [
    "help(random.uniform)\n",
    "# random.uniform() retrns a random floating-point number\n",
    "# but unlike random.random(), you can specify the range of values with this function"
   ]
  },
  {
   "cell_type": "code",
   "execution_count": 135,
   "metadata": {},
   "outputs": [
    {
     "data": {
      "text/plain": [
       "8.04654929309606"
      ]
     },
     "execution_count": 135,
     "metadata": {},
     "output_type": "execute_result"
    }
   ],
   "source": [
    "random.uniform(1, 10)\n",
    "# generates and returns a random float in the range of 1.0 through 10.0"
   ]
  },
  {
   "cell_type": "markdown",
   "metadata": {},
   "source": [
    "### Random number seeds\n",
    "The formula that generates random\n",
    "numbers has to be initialized with a value known as a seed value. The seed value is\n",
    "used in the calculation that returns the next random number in the series. When the random\n",
    "module is imported, it retrieves the system time from the computer’s internal clock and uses\n",
    "that as the seed value. The system time is an integer that represents the current date and\n",
    "time, down to a hundredth of a second."
   ]
  },
  {
   "cell_type": "code",
   "execution_count": 152,
   "metadata": {},
   "outputs": [
    {
     "name": "stdout",
     "output_type": "stream",
     "text": [
      "75\n",
      "7\n",
      "57\n",
      "63\n",
      "75\n",
      "3\n",
      "29\n",
      "61\n",
      "65\n",
      "37\n"
     ]
    }
   ],
   "source": [
    "random.seed(10)\n",
    "for count in range(10):\n",
    "    print(random.randrange(3, 100, 2))"
   ]
  },
  {
   "cell_type": "markdown",
   "metadata": {},
   "source": [
    "### Spot the error:\n",
    "\n",
    "        def abs_value(x):\n",
    "            if x < 0:\n",
    "                return -x\n",
    "            if x > 0:\n",
    "                return x\n",
    "\n",
    "        "
   ]
  },
  {
   "cell_type": "markdown",
   "metadata": {},
   "source": [
    "### Incremental Development:\n",
    "\n",
    "- Add and Test a small amount of code at a time\n",
    "- Helps preventing long debugging sessons\n",
    "        \n",
    "        "
   ]
  },
  {
   "cell_type": "markdown",
   "metadata": {},
   "source": [
    "## Write your own value-returning functions\n",
    "A value-returning function has a `return` statement that returns a value\n",
    "back to the part of the program that called it.\n",
    "\n",
    "```\n",
    "def function_name():\n",
    "    statement\n",
    "    statement\n",
    "    etc.\n",
    "    return expression\n",
    "```"
   ]
  },
  {
   "cell_type": "code",
   "execution_count": 158,
   "metadata": {
    "scrolled": true
   },
   "outputs": [
    {
     "name": "stdout",
     "output_type": "stream",
     "text": [
      "Enter your age: 8\n",
      "Enter your best friend's age: 9\n",
      "Together your are 17 years old.\n"
     ]
    }
   ],
   "source": [
    "# this program uses the return value of a function\n",
    "def main():\n",
    "    # get the user's age \n",
    "    first_age = int(input('Enter your age: '))\n",
    "    \n",
    "    # get the user's best friend's age \n",
    "    second_age = int(input(\"Enter your best friend's age: \"))\n",
    "    \n",
    "    # get the sum of both ages \n",
    "    total = sum(first_age, second_age)\n",
    "    \n",
    "    # display the total age \n",
    "    print(f'Together your are {total} years old.')\n",
    "    \n",
    "# the sum function accepts two numeric arguments and \n",
    "# returns the sum of those arguments \n",
    "\n",
    "def sum(num1, num2):\n",
    "    result = num1 + num2\n",
    "    return result \n",
    "\n",
    "# call the main function\n",
    "main()"
   ]
  },
  {
   "cell_type": "markdown",
   "metadata": {},
   "source": [
    "The `return` statement can return the value of an expression."
   ]
  },
  {
   "cell_type": "code",
   "execution_count": null,
   "metadata": {},
   "outputs": [],
   "source": [
    "# simplify the function \n",
    "def sum(num1, num2):\n",
    "    return num1 + num2"
   ]
  },
  {
   "cell_type": "markdown",
   "metadata": {},
   "source": [
    "### How to use value-returning functions\n",
    "Because value-returning functions return a value, they can be useful in specific situations. For examples:\n",
    "\n",
    "1. You can use a value-returning function to prompt the user for input, and then it can return the value entered by the user\n",
    "\n",
    "2. You can also use functions to simplify complex mathematical expressions."
   ]
  },
  {
   "cell_type": "code",
   "execution_count": 159,
   "metadata": {},
   "outputs": [
    {
     "name": "stdout",
     "output_type": "stream",
     "text": [
      "Enter the item's regular price: 1\n"
     ]
    },
    {
     "data": {
      "text/plain": [
       "1.0"
      ]
     },
     "execution_count": 159,
     "metadata": {},
     "output_type": "execute_result"
    }
   ],
   "source": [
    "# 1. \n",
    "def get_regular_price():\n",
    "    price = float(input(\"Enter the item's regular price: \"))\n",
    "    return price\n",
    "\n",
    "# get the item's regular price\n",
    "get_regular_price()"
   ]
  },
  {
   "cell_type": "code",
   "execution_count": null,
   "metadata": {},
   "outputs": [],
   "source": [
    "# 2. \n",
    "# assume DISCOUNT_PERCENTAGE is a global constant\n",
    "def discount(price):\n",
    "    sale_price = reg_price * DISCOUNT_PERCENTAGE\n",
    "    \n",
    "# call the function\n",
    "sale_price = reg_price - discount(reg_price)"
   ]
  },
  {
   "cell_type": "code",
   "execution_count": 161,
   "metadata": {},
   "outputs": [
    {
     "name": "stdout",
     "output_type": "stream",
     "text": [
      "Enter the item's regular price: 99\n",
      "The sale price is $79.20.\n"
     ]
    }
   ],
   "source": [
    "# This example integrates above functions in a program\n",
    "# this program calculates a retail item's sale price\n",
    "\n",
    "# DISCOUNT_PERCENTAGE is used as a global \n",
    "# constant for the discount percentage \n",
    "DISCOUNT_PERCENTAGE = 0.20\n",
    "\n",
    "# The main function\n",
    "def main():\n",
    "    # get the item's regular price \n",
    "    reg_price = get_regular_price()\n",
    "    \n",
    "    # calculate the sale price \n",
    "    sale_price = reg_price - discount(reg_price)\n",
    "    \n",
    "    # display the sale price \n",
    "    print(f'The sale price is ${sale_price:,.2f}.')\n",
    "    \n",
    "# the get_regular_price function prompts the \n",
    "# user to enter an item's regular price and it \n",
    "# returns that value\n",
    "\n",
    "def get_regular_price():\n",
    "    price = float(input(\"Enter the item's regular price: \"))\n",
    "    return price\n",
    "\n",
    "# the discount function accepts an item's price \n",
    "# as an argument and returns the amount of the \n",
    "# discount, specified by DISCOUNT_PERCENTAGE\n",
    "\n",
    "def discount(price):\n",
    "    return price * DISCOUNT_PERCENTAGE\n",
    "\n",
    "# call the main function\n",
    "main()"
   ]
  },
  {
   "cell_type": "markdown",
   "metadata": {},
   "source": [
    "### Composition"
   ]
  },
  {
   "cell_type": "code",
   "execution_count": 162,
   "metadata": {},
   "outputs": [],
   "source": [
    "def circle_area(xc, yc, xp, yp):\n",
    "    radius = distance(xc, yc, xp, yp)\n",
    "    result = area(radius)\n",
    "    return result"
   ]
  },
  {
   "cell_type": "code",
   "execution_count": 13,
   "metadata": {},
   "outputs": [],
   "source": [
    "def circle_area(xc, yc, xp, yp):\n",
    "    return area(distance(xc, yc, xp, yp)) "
   ]
  },
  {
   "cell_type": "markdown",
   "metadata": {},
   "source": [
    "### Using main function:\n",
    "\n",
    "https://interactivepython.org/courselib/static/thinkcspy/Functions/mainfunction.html\n",
    "\n",
    "- Not required in Python, but it's a good idea to use it\n",
    "- In many programming languages (e.g. Java and C++), it is not possible to simply have statements sitting alone at the bottom of the program. \n",
    "    - They are required to be part of a special function that is automatically invoked by the operating system when the program is executed, called main.\n",
    "- In other words, the lines in the `main()` function in the example above are logically related to one another in that they provide the main tasks that the program will perform. \n",
    "    - Since functions are designed to allow us to break up a program into logical pieces, it makes sense to call this piece main.\n",
    "- In Python there is nothing special about the name main. We could have called this function anything we wanted. We chose main just to be consistent with some of the other languages.\n"
   ]
  },
  {
   "cell_type": "markdown",
   "metadata": {},
   "source": [
    "### Conditionally executing the `main` function in a module\n",
    "\n",
    "When programmers create modules, they do not usually intend for those modules to be\n",
    "run as standalone programs. Modules are typically intended to be imported into other programs.\n",
    "For that reason, most modules only define things such as functions.\n",
    "\n",
    "However, it is possible to create a Python module that can be either run as a standalone\n",
    "program or imported into another program.\n",
    "\n",
    "- For example, suppose Program A defines several useful functions that you would like to use in Program B.\n",
    "- You will import Program A into Program B & You don't want program A to start executing its `main` function when you import it. \n",
    "- You want it to define its functions without executing any of them. \n",
    "\n",
    "In Python: \n",
    "1. When the Python interpreter is processing a source code file, it creates a special variable named `__name__`. \n",
    "2. If the file is being imported as a module, the `__name__` variable will be set to the name of the module. \n",
    "3. Otherwise, if the file is being executed as a standlone program, the `__name__` variable will be set to the string `__main__`. \n",
    "4. As a result, you can use the value of `__name__` to determine if the main function should execute or not. \n",
    "<br><br>\n",
    "Let's rewrite the `rectangle.py` and use this technique:"
   ]
  },
  {
   "cell_type": "code",
   "execution_count": 242,
   "metadata": {},
   "outputs": [],
   "source": [
    "# rectangle2.py\n",
    "def area(width, length):\n",
    "    return width*length\n",
    "\n",
    "# the perimeter function accepts a rectangle's width \n",
    "# and length as arguments and returns the perimeter\n",
    "def perimeter(width, length):\n",
    "    return 2*(width + length)\n",
    "\n",
    "# main used to test other functions\n",
    "def main():\n",
    "    width = float(input(\"Enter the rectangle's width: \"))\n",
    "    length = float(input(\"Enter the rectangle's length: \"))\n",
    "    print('The area is', area(width, length))\n",
    "    print('The perimeter is', perimeter(width, length))\n",
    "\n",
    "# call the main only if run as standalone program\n",
    "if __name__ == '__main__':\n",
    "    main()"
   ]
  },
  {
   "cell_type": "code",
   "execution_count": 17,
   "metadata": {},
   "outputs": [
    {
     "data": {
      "text/plain": [
       "8"
      ]
     },
     "execution_count": 17,
     "metadata": {},
     "output_type": "execute_result"
    },
    {
     "data": {
      "text/plain": [
       "4"
      ]
     },
     "execution_count": 17,
     "metadata": {},
     "output_type": "execute_result"
    }
   ],
   "source": [
    "import rectangle2\n",
    "\n",
    "rectangle2.perimeter(2,2)\n",
    "\n",
    "rectangle2.area(2,2)"
   ]
  },
  {
   "cell_type": "code",
   "execution_count": 18,
   "metadata": {},
   "outputs": [
    {
     "name": "stdout",
     "output_type": "stream",
     "text": [
      "Enter the rectangle's width: 2\n",
      "Enter the rectangle's length: 2\n",
      "The area is 4.0\n",
      "The perimeter is 8.0\n"
     ]
    }
   ],
   "source": [
    "# use line magic function\n",
    "# running as a script\n",
    "%run rectangle2.py "
   ]
  },
  {
   "cell_type": "code",
   "execution_count": 19,
   "metadata": {
    "scrolled": true
   },
   "outputs": [
    {
     "data": {
      "application/json": {
       "cell": {
        "!": "OSMagics",
        "HTML": "Other",
        "SVG": "Other",
        "bash": "Other",
        "capture": "ExecutionMagics",
        "cmd": "Other",
        "debug": "ExecutionMagics",
        "file": "Other",
        "html": "DisplayMagics",
        "javascript": "DisplayMagics",
        "js": "DisplayMagics",
        "latex": "DisplayMagics",
        "markdown": "DisplayMagics",
        "perl": "Other",
        "prun": "ExecutionMagics",
        "pypy": "Other",
        "python": "Other",
        "python2": "Other",
        "python3": "Other",
        "ruby": "Other",
        "script": "ScriptMagics",
        "sh": "Other",
        "svg": "DisplayMagics",
        "sx": "OSMagics",
        "system": "OSMagics",
        "time": "ExecutionMagics",
        "timeit": "ExecutionMagics",
        "writefile": "OSMagics"
       },
       "line": {
        "alias": "OSMagics",
        "alias_magic": "BasicMagics",
        "autoawait": "AsyncMagics",
        "autocall": "AutoMagics",
        "automagic": "AutoMagics",
        "autosave": "KernelMagics",
        "bookmark": "OSMagics",
        "cd": "OSMagics",
        "clear": "KernelMagics",
        "cls": "KernelMagics",
        "colors": "BasicMagics",
        "conda": "PackagingMagics",
        "config": "ConfigMagics",
        "connect_info": "KernelMagics",
        "copy": "Other",
        "ddir": "Other",
        "debug": "ExecutionMagics",
        "dhist": "OSMagics",
        "dirs": "OSMagics",
        "doctest_mode": "BasicMagics",
        "echo": "Other",
        "ed": "Other",
        "edit": "KernelMagics",
        "env": "OSMagics",
        "gui": "BasicMagics",
        "hist": "Other",
        "history": "HistoryMagics",
        "killbgscripts": "ScriptMagics",
        "ldir": "Other",
        "less": "KernelMagics",
        "load": "CodeMagics",
        "load_ext": "ExtensionMagics",
        "loadpy": "CodeMagics",
        "logoff": "LoggingMagics",
        "logon": "LoggingMagics",
        "logstart": "LoggingMagics",
        "logstate": "LoggingMagics",
        "logstop": "LoggingMagics",
        "ls": "Other",
        "lsmagic": "BasicMagics",
        "macro": "ExecutionMagics",
        "magic": "BasicMagics",
        "matplotlib": "PylabMagics",
        "mkdir": "Other",
        "more": "KernelMagics",
        "notebook": "BasicMagics",
        "page": "BasicMagics",
        "pastebin": "CodeMagics",
        "pdb": "ExecutionMagics",
        "pdef": "NamespaceMagics",
        "pdoc": "NamespaceMagics",
        "pfile": "NamespaceMagics",
        "pinfo": "NamespaceMagics",
        "pinfo2": "NamespaceMagics",
        "pip": "PackagingMagics",
        "popd": "OSMagics",
        "pprint": "BasicMagics",
        "precision": "BasicMagics",
        "prun": "ExecutionMagics",
        "psearch": "NamespaceMagics",
        "psource": "NamespaceMagics",
        "pushd": "OSMagics",
        "pwd": "OSMagics",
        "pycat": "OSMagics",
        "pylab": "PylabMagics",
        "qtconsole": "KernelMagics",
        "quickref": "BasicMagics",
        "recall": "HistoryMagics",
        "rehashx": "OSMagics",
        "reload_ext": "ExtensionMagics",
        "ren": "Other",
        "rep": "Other",
        "rerun": "HistoryMagics",
        "reset": "NamespaceMagics",
        "reset_selective": "NamespaceMagics",
        "rmdir": "Other",
        "run": "ExecutionMagics",
        "save": "CodeMagics",
        "sc": "OSMagics",
        "set_env": "OSMagics",
        "store": "StoreMagics",
        "sx": "OSMagics",
        "system": "OSMagics",
        "tb": "ExecutionMagics",
        "time": "ExecutionMagics",
        "timeit": "ExecutionMagics",
        "unalias": "OSMagics",
        "unload_ext": "ExtensionMagics",
        "who": "NamespaceMagics",
        "who_ls": "NamespaceMagics",
        "whos": "NamespaceMagics",
        "xdel": "NamespaceMagics",
        "xmode": "BasicMagics"
       }
      },
      "text/plain": [
       "Available line magics:\n",
       "%alias  %alias_magic  %autoawait  %autocall  %automagic  %autosave  %bookmark  %cd  %clear  %cls  %colors  %conda  %config  %connect_info  %copy  %ddir  %debug  %dhist  %dirs  %doctest_mode  %echo  %ed  %edit  %env  %gui  %hist  %history  %killbgscripts  %ldir  %less  %load  %load_ext  %loadpy  %logoff  %logon  %logstart  %logstate  %logstop  %ls  %lsmagic  %macro  %magic  %matplotlib  %mkdir  %more  %notebook  %page  %pastebin  %pdb  %pdef  %pdoc  %pfile  %pinfo  %pinfo2  %pip  %popd  %pprint  %precision  %prun  %psearch  %psource  %pushd  %pwd  %pycat  %pylab  %qtconsole  %quickref  %recall  %rehashx  %reload_ext  %ren  %rep  %rerun  %reset  %reset_selective  %rmdir  %run  %save  %sc  %set_env  %store  %sx  %system  %tb  %time  %timeit  %unalias  %unload_ext  %who  %who_ls  %whos  %xdel  %xmode\n",
       "\n",
       "Available cell magics:\n",
       "%%!  %%HTML  %%SVG  %%bash  %%capture  %%cmd  %%debug  %%file  %%html  %%javascript  %%js  %%latex  %%markdown  %%perl  %%prun  %%pypy  %%python  %%python2  %%python3  %%ruby  %%script  %%sh  %%svg  %%sx  %%system  %%time  %%timeit  %%writefile\n",
       "\n",
       "Automagic is ON, % prefix IS NOT needed for line magics."
      ]
     },
     "execution_count": 19,
     "metadata": {},
     "output_type": "execute_result"
    }
   ],
   "source": [
    "# list available magic functions in Jupyter Notebook\n",
    "%lsmagic"
   ]
  },
  {
   "cell_type": "code",
   "execution_count": 287,
   "metadata": {},
   "outputs": [
    {
     "name": "stdout",
     "output_type": "stream",
     "text": [
      "Variable                     Type                          Data/Info\n",
      "--------------------------------------------------------------------\n",
      "AREA_CIRCLE_CHOICE           int                           1\n",
      "AREA_RECTANGLE_CHOICE        int                           3\n",
      "CIRCUMFERENCE_CHOICE         int                           2\n",
      "CONTRIBUTION_RATE            float                         0.05\n",
      "DISCOUNT_PERCENTAGE          float                         0.2\n",
      "InteractiveShell             MetaHasTraits                 <class 'IPython.core.inte<...>eshell.InteractiveShell'>\n",
      "PERIMETER_RECTANGLE_CHOICE   int                           4\n",
      "QUIT_CHOICE                  int                           5\n",
      "acos                         builtin_function_or_method    <built-in function acos>\n",
      "acosh                        builtin_function_or_method    <built-in function acosh>\n",
      "area                         function                      <function area at 0x0000020393CB2DC0>\n",
      "asin                         builtin_function_or_method    <built-in function asin>\n",
      "asinh                        builtin_function_or_method    <built-in function asinh>\n",
      "atan                         builtin_function_or_method    <built-in function atan>\n",
      "atan2                        builtin_function_or_method    <built-in function atan2>\n",
      "atanh                        builtin_function_or_method    <built-in function atanh>\n",
      "budget                       float                         500.0\n",
      "ceil                         builtin_function_or_method    <built-in function ceil>\n",
      "circle                       module                        <module 'circle' from 'C:<...>ython\\\\Week9\\\\circle.py'>\n",
      "circle_area                  function                      <function circle_area at 0x0000020392B17310>\n",
      "comb                         builtin_function_or_method    <built-in function comb>\n",
      "copysign                     builtin_function_or_method    <built-in function copysign>\n",
      "cos                          builtin_function_or_method    <built-in function cos>\n",
      "cosh                         builtin_function_or_method    <built-in function cosh>\n",
      "count                        int                           9\n",
      "degrees                      builtin_function_or_method    <built-in function degrees>\n",
      "discount                     function                      <function discount at 0x00000203928E3E50>\n",
      "display_menu                 function                      <function display_menu at 0x00000203939D2160>\n",
      "dist                         builtin_function_or_method    <built-in function dist>\n",
      "divide                       function                      <function divide at 0x0000020392B0AD30>\n",
      "e                            float                         2.718281828459045\n",
      "erf                          builtin_function_or_method    <built-in function erf>\n",
      "erfc                         builtin_function_or_method    <built-in function erfc>\n",
      "exp                          builtin_function_or_method    <built-in function exp>\n",
      "expm1                        builtin_function_or_method    <built-in function expm1>\n",
      "fabs                         builtin_function_or_method    <built-in function fabs>\n",
      "factorial                    builtin_function_or_method    <built-in function factorial>\n",
      "floor                        builtin_function_or_method    <built-in function floor>\n",
      "fmod                         builtin_function_or_method    <built-in function fmod>\n",
      "frexp                        builtin_function_or_method    <built-in function frexp>\n",
      "fsum                         builtin_function_or_method    <built-in function fsum>\n",
      "gamma                        builtin_function_or_method    <built-in function gamma>\n",
      "gcd                          builtin_function_or_method    <built-in function gcd>\n",
      "get_name                     function                      <function get_name at 0x0000020392B17790>\n",
      "get_regular_price            function                      <function get_regular_pri<...>ce at 0x00000203929B08B0>\n",
      "hypot                        builtin_function_or_method    <built-in function hypot>\n",
      "i                            int                           9\n",
      "inf                          float                         inf\n",
      "is_divisible                 function                      <function is_divisible at 0x0000020392B173A0>\n",
      "is_valid                     function                      <function is_valid at 0x0000020392B17670>\n",
      "isclose                      builtin_function_or_method    <built-in function isclose>\n",
      "isfinite                     builtin_function_or_method    <built-in function isfinite>\n",
      "isinf                        builtin_function_or_method    <built-in function isinf>\n",
      "isnan                        builtin_function_or_method    <built-in function isnan>\n",
      "isqrt                        builtin_function_or_method    <built-in function isqrt>\n",
      "lcm                          builtin_function_or_method    <built-in function lcm>\n",
      "ldexp                        builtin_function_or_method    <built-in function ldexp>\n",
      "lgamma                       builtin_function_or_method    <built-in function lgamma>\n",
      "log                          builtin_function_or_method    <built-in function log>\n",
      "log10                        builtin_function_or_method    <built-in function log10>\n",
      "log1p                        builtin_function_or_method    <built-in function log1p>\n",
      "log2                         builtin_function_or_method    <built-in function log2>\n",
      "main                         function                      <function main at 0x0000020393CB2CA0>\n",
      "math                         module                        <module 'math' (built-in)>\n",
      "model                        int                           100\n",
      "modf                         builtin_function_or_method    <built-in function modf>\n",
      "my_value                     int                           10\n",
      "nan                          float                         nan\n",
      "nextafter                    builtin_function_or_method    <built-in function nextafter>\n",
      "number                       float                         0.8811268079257528\n",
      "perimeter                    function                      <function perimeter at 0x0000020393CB2D30>\n",
      "perm                         builtin_function_or_method    <built-in function perm>\n",
      "pi                           float                         3.141592653589793\n",
      "pow                          builtin_function_or_method    <built-in function pow>\n",
      "prod                         builtin_function_or_method    <built-in function prod>\n",
      "radians                      builtin_function_or_method    <built-in function radians>\n",
      "random                       module                        <module 'random' from 'c:<...>ython39\\\\lib\\\\random.py'>\n",
      "rectangle                    module                        <module 'rectangle' from <...>on\\\\Week9\\\\rectangle.py'>\n",
      "rectangle2                   module                        <module 'rectangle2' from<...>n\\\\Week9\\\\rectangle2.py'>\n",
      "remainder                    builtin_function_or_method    <built-in function remainder>\n",
      "show_bonus_contrib           function                      <function show_bonus_cont<...>ib at 0x0000020392AB78B0>\n",
      "show_number                  function                      <function show_number at 0x0000020392AB70D0>\n",
      "show_pay_contrib             function                      <function show_pay_contrib at 0x0000020392AB7160>\n",
      "show_value                   function                      <function show_value at 0x00000203929B0AF0>\n",
      "sin                          builtin_function_or_method    <built-in function sin>\n",
      "sinh                         builtin_function_or_method    <built-in function sinh>\n",
      "sqrt                         builtin_function_or_method    <built-in function sqrt>\n",
      "sum                          function                      <function sum at 0x0000020392B0AF70>\n",
      "tan                          builtin_function_or_method    <built-in function tan>\n",
      "tanh                         builtin_function_or_method    <built-in function tanh>\n",
      "tau                          float                         6.283185307179586\n",
      "trunc                        builtin_function_or_method    <built-in function trunc>\n",
      "ulp                          builtin_function_or_method    <built-in function ulp>\n",
      "user_invalid                 function                      <function user_invalid at 0x0000020392B17430>\n"
     ]
    }
   ],
   "source": [
    "# list the current variables in the environment\n",
    "%whos"
   ]
  },
  {
   "cell_type": "markdown",
   "metadata": {},
   "source": [
    "### Using IPO Charts\n",
    "\n",
    "An IPO chart is a simple but effective tool that programmers sometimes use for designing\n",
    "and documenting functions. IPO stands for input, processing, and output, and an IPO\n",
    "chart describes the input, processing, and output of a function.\n",
    "\n",
    "These items are usually laid out in columns: the input column shows a description of the data that is passed to\n",
    "the function as arguments, the processing column shows a description of the process that the function performs, and the output column describes the data that is returned from the function.\n",
    "\n",
    "- Notice the IPO charts provide only brief descriptions of a function’s input, processing, and output, but do not show the specific steps taken in a function.\n",
    "\n",
    "- In many cases, however, IPO charts include sufficient information so they can be used instead of a flowchart. The decision of whether to use an IPO chart, a flowchart, or both is often left to the programmer’s personal preference.\n",
    "\n",
    "> The picture below shows an IPO chart of a function that takes a user's input and return it as a numeric value.\n",
    "![IPOChart](IPO.JPG)\n",
    "\n",
    "Summary: \n",
    "\n",
    "- This IPO charts provide only brief descriptions of a function’s input, processing, and output, but do not show the specific steps taken in a function\n",
    "\n",
    "- In many cases, however, IPO charts include sufficient information so they can be used instead of a flowchart.\n",
    "\n",
    "- The decision of whether to use an IPO chart, a flowchart, or both is often left to the programmer’s personal preference."
   ]
  },
  {
   "cell_type": "markdown",
   "metadata": {},
   "source": [
    "### Returning Strings\n",
    "\n",
    "- You can also write functions that return strings.\n",
    "\n",
    "```\n",
    "def get_name():\n",
    "    # Get the user's name.\n",
    "    name = input('Enter your name: ')\n",
    "    # Return the name.\n",
    "    return name\n",
    "```\n",
    "\n",
    "- A function can also return an __f-string__. When a function returns an f-string, the Python interpreter will evaluate any placeholders and format specifiers that the f-string contains, and it will return the formatted result.\n",
    "    - For example, the `dollar_format` function is to accept a numeric value as an argument and return a string that contains that value formatted as a dollar amount. \n",
    "    - If we pass the floating-point value 89.578 to the function, the function will return the string \\'$89.58\\'.\n",
    "\n",
    "```\n",
    "def dollar_format(value):\n",
    "    return f'${value:,.2f}'\n",
    "\n",
    "```\n"
   ]
  },
  {
   "cell_type": "markdown",
   "metadata": {},
   "source": [
    "### Returning Boolean Values - Boolean functions \n",
    "\n",
    "Python allows you to write Boolean functions, which returns _Boolean Values_, either _True_ or _False_.\n",
    "\n",
    "- You can use a Boolean function to test a condition, then return either True or False to indicate\n",
    "whether the condition exists. \n",
    "\n",
    "- Boolean functions are useful for simplifying complex conditions\n",
    "that are tested in decision and repetition structures."
   ]
  },
  {
   "cell_type": "code",
   "execution_count": 20,
   "metadata": {},
   "outputs": [
    {
     "data": {
      "text/plain": [
       "True"
      ]
     },
     "execution_count": 20,
     "metadata": {},
     "output_type": "execute_result"
    }
   ],
   "source": [
    "# check if a number is divisible by another number\n",
    "def is_divisible(x, y): ## x, y are parameters\n",
    "    if x % y == 0:\n",
    "        return True\n",
    "    else:\n",
    "        return False\n",
    "        \n",
    "is_divisible(6, 2) ## 6, 3 are arguments"
   ]
  },
  {
   "cell_type": "code",
   "execution_count": 22,
   "metadata": {},
   "outputs": [
    {
     "data": {
      "text/plain": [
       "True"
      ]
     },
     "execution_count": 22,
     "metadata": {},
     "output_type": "execute_result"
    }
   ],
   "source": [
    "# more concise:\n",
    "def is_divisible(x, y):\n",
    "    return x % y == 0 \n",
    "\n",
    "is_divisible(8, 4)"
   ]
  },
  {
   "cell_type": "code",
   "execution_count": 55,
   "metadata": {
    "scrolled": true
   },
   "outputs": [
    {
     "name": "stdin",
     "output_type": "stream",
     "text": [
      "Enter first number 8\n",
      "enter second number 4\n"
     ]
    },
    {
     "name": "stdout",
     "output_type": "stream",
     "text": [
      "8 is divisible by 4\n"
     ]
    }
   ],
   "source": [
    "# use Boolean functions inside conditionals:\n",
    "x = int(input('Enter first number'))\n",
    "y = int(input(\"enter second number\"))\n",
    "if is_divisible(x, y): \n",
    "    print(x, 'is divisible by', y)\n",
    "else:\n",
    "    print(x, 'is not divisible by', y)"
   ]
  },
  {
   "cell_type": "code",
   "execution_count": 170,
   "metadata": {},
   "outputs": [
    {
     "name": "stdout",
     "output_type": "stream",
     "text": [
      "Enter your budget:500\n"
     ]
    }
   ],
   "source": [
    "# this program will prompts an error msg \n",
    "# when you intput a value that is outside the range of 500 - 5000\n",
    "\n",
    "def user_invalid(x):\n",
    "    return x < 500 or x > 5000 \n",
    "\n",
    "budget = float(input(\"Enter your budget:\"))\n",
    "while user_invalid(budget): # while budget < 500 or budget > 5000: \n",
    "    budget = float(input(\"Wrong value. Please enter your budget within 500 and 5000 dollars \"))"
   ]
  },
  {
   "cell_type": "markdown",
   "metadata": {},
   "source": [
    "Now it's your time. \n",
    "> Suppose you want to write a program that prompts the user to \n",
    "enter a product model number and should only accept the values 100, 200, and 300. \n",
    "\n",
    "How would you change the code to simplify the validation loop? For example, pass the model variable to a function \n",
    "you write `is_valid`. The function returns True if model is invalid, or False otherwise. "
   ]
  },
  {
   "cell_type": "code",
   "execution_count": 171,
   "metadata": {},
   "outputs": [
    {
     "name": "stdout",
     "output_type": "stream",
     "text": [
      "Enter the model number: 2\n",
      "The valid model numbers are 100, 200 and 300.\n",
      "Enter a valid model number: 100\n"
     ]
    }
   ],
   "source": [
    "# Get the model number \n",
    "model = int(input('Enter the model number: '))\n",
    "# Validate the model number \n",
    "while model != 100 and model != 200 and model != 300:\n",
    "    print('The valid model numbers are 100, 200 and 300.')\n",
    "    model = int(input('Enter a valid model number: '))"
   ]
  },
  {
   "cell_type": "code",
   "execution_count": 23,
   "metadata": {},
   "outputs": [
    {
     "name": "stdout",
     "output_type": "stream",
     "text": [
      "Please enter a product model number: 400\n",
      "The valid model numbers are 100, 200 and 300.\n",
      "Enter a valid model number: 100\n"
     ]
    }
   ],
   "source": [
    "# define is_valid function\n",
    "def is_valid(x):\n",
    "    return x != 100 and x != 200 and x != 300\n",
    "\n",
    "# get user input\n",
    "model = int(input('Please enter a product model number: '))\n",
    "\n",
    "# ues validation function in while loop\n",
    "while is_valid(model):\n",
    "    print('The valid model numbers are 100, 200 and 300.')\n",
    "    model = int(input('Enter a valid model number: '))"
   ]
  },
  {
   "cell_type": "markdown",
   "metadata": {},
   "source": [
    "### Returning multiple values\n",
    "You can specify multiple expressions separated by commas after the return statement to return multiple values.\n",
    "```\n",
    "return expression1, expression2, etc.\n",
    "```\n",
    "\n",
    "- When you call this function in an assignment statement, you need to use two variables on\n",
    "the left side of the `=` operator. \n",
    "- The number of variables on the left side of the `=` operator\n",
    "must match the number of values returned by the function. Otherwise, an error will occur"
   ]
  },
  {
   "cell_type": "code",
   "execution_count": 3,
   "metadata": {},
   "outputs": [
    {
     "name": "stdout",
     "output_type": "stream",
     "text": [
      "Enter your first name: Y\n",
      "Enter your midddle name: O\n",
      "Enter your last name: L\n",
      "Y O L\n"
     ]
    }
   ],
   "source": [
    "# Example showing returning two values in one function\n",
    "\n",
    "def main():\n",
    "    \n",
    "    # Use two variables on the left side \n",
    "    # of the operator to call the function \n",
    "    # in an assignment statement\n",
    "    first_name, middle_name,last_name = get_name()\n",
    "    print(first_name, middle_name, last_name)\n",
    "\n",
    "def get_name():\n",
    "    # get the user's first and last names.\n",
    "    first = input('Enter your first name: ')\n",
    "    middle = input('Enter your midddle name: ')\n",
    "    last = input('Enter your last name: ')\n",
    "    # return both names\n",
    "    return first, middle, last\n",
    "\n",
    "# call the function\n",
    "main()"
   ]
  },
  {
   "cell_type": "markdown",
   "metadata": {},
   "source": [
    "## Returning `None` from a Function\n",
    "Python has a special built-in value named `None` that is used to represent no value. Sometimes\n",
    "it is useful to return `None` from a function to indicate that an error has occurred.\n",
    "\n",
    "This example examines the denominator in case it's Zero and causes error.\n",
    "\n",
    "```\n",
    "def divide(num1, num2):\n",
    "    if num2 == 0:\n",
    "        print(\"Warning: denominator needs to be non-zero. The output is None\")\n",
    "        result = None\n",
    "    else: \n",
    "        result = num1/num2\n",
    "    return result\n",
    "```"
   ]
  },
  {
   "cell_type": "code",
   "execution_count": 5,
   "metadata": {},
   "outputs": [
    {
     "name": "stdout",
     "output_type": "stream",
     "text": [
      "Enter a number: 4\n",
      "Enter another number: 0\n",
      "Cannot divide by zero.\n"
     ]
    }
   ],
   "source": [
    "# define main function\n",
    "def main():\n",
    "    # get two numbers from user\n",
    "    num1 = int(input('Enter a number: '))\n",
    "    num2 = int(input('Enter another number: '))\n",
    "    \n",
    "    # call the divide function\n",
    "    quotient = divide(num1, num2)\n",
    "    \n",
    "    # display the result \n",
    "    if quotient is not None: \n",
    "        print('Cannot divide by zero.')\n",
    "    else: \n",
    "        print(f'{num1} divided by {num2} is {quotient}.')\n",
    "        \n",
    "# define divide function\n",
    "def divide(num1, num2):\n",
    "    if num2 == 0:\n",
    "        result = None\n",
    "    else: \n",
    "        result = num1/num2\n",
    "    return result\n",
    "\n",
    "# run this program either standalone or as module\n",
    "if __name__ == '__main__':\n",
    "    main()"
   ]
  },
  {
   "cell_type": "code",
   "execution_count": 6,
   "metadata": {},
   "outputs": [
    {
     "name": "stdout",
     "output_type": "stream",
     "text": [
      "Enter a number: 4\n",
      "Enter another number: 2\n",
      "4 divided by 2 is 2.0.\n"
     ]
    }
   ],
   "source": [
    "# standalone program\n",
    "%run divide.py"
   ]
  },
  {
   "cell_type": "code",
   "execution_count": 7,
   "metadata": {},
   "outputs": [
    {
     "data": {
      "text/plain": [
       "2.0"
      ]
     },
     "execution_count": 7,
     "metadata": {},
     "output_type": "execute_result"
    }
   ],
   "source": [
    "# importing it as module \n",
    "# and use the divide function in the module (\"divide.py\")\n",
    "import divide\n",
    "divide.divide(4,2)"
   ]
  },
  {
   "cell_type": "markdown",
   "metadata": {},
   "source": [
    "When determine whether a variable is set to __None__, it's better to use the `is` operator instead of the `==` operator. \n",
    "\n",
    "- Under some advanced circumstances (that we do not cover in this book), the comparisons `== None`and `is None`will not give the same result \n",
    "- As a rule, always use the `is` oeprator when comparing a vriable to `None`. \n",
    "- Use `is not None` if you want to determine a variable is not equal to `None`. \n",
    "\n",
    "Moreover, what's the difference between `is` and `==`?\n",
    "\n",
    "- `==` is for value equality. It's used to know if two objects have the same value.\n",
    "\n",
    "- `is` is for reference equality. It's used to know if two references refer (or point) to the same object, i.e if they're identical. Two objects are identical if they have the same memory address.\n",
    "\n",
    "- Simply speaking, `==` determines if the values of two objects are equal, while `is` determines if they are the exact same object.\n",
    "\n",
    "More details, you can go to the [PEP8 Official Guide for Python](https://peps.python.org/pep-0008/#programming-recommendations)."
   ]
  },
  {
   "cell_type": "markdown",
   "metadata": {},
   "source": [
    "## Exercises - Functions\n",
    "\n",
    "6. Future Value\n",
    "\n",
    "Suppose you have a certain amount of money in a savings account that earns compound monthly interest, and you want to calculate the amount that you will have after a specific number of months. The formula is as follows:\n",
    "F = P x (1 + i)^t\n",
    "\n",
    "    The terms in the formula are:\n",
    "       - F is the future value of the account after the specified time period.\n",
    "       - P is the present value of the account.\n",
    "       - i is the monthly interest rate.\n",
    "       - t is the number of months.\n",
    "       \n",
    "Write a program that prompts the user to enter the account’s present value, monthly interest rate, and the number of months that the money will be left in the account. The program should pass these values to a function that returns the future value of the account, after the specified number of months. The program should display the account’s future value.\n",
    "\n",
    "(important: needs validation loops for all values that user has to enter.)\n",
    "\n",
    "7. Random number Guessing Game\n",
    "\n",
    "    Write a program that generates a random number in the range of 1 through 10, and asks the user to guess what the number is. If the user’s guess is higher than the random number, the program should display “Too high, try again.” If the user’s guess is lower than the random number, the program should display “Too low, try again.” If the user guesses the number, the application should congratulate the user and then generate a new random number so the game can start over. Ask the user if they want to end the game or play a new round before starting over.\n",
    "\n",
    "    Enhancement: Enhance the game so it keeps count of the number of guesses that the user makes. When the user correctly guesses the random number, the program should display the number of guesses.\n",
    "\n",
    "8. Rock, paper, scissors Game\n",
    "\n",
    "    Write a program that lets the user play the game of Rock, Paper, Scissors against the computer. The program should work as follows:\n",
    "    - When the program begins, a random number in the range of 1 through 3 is generated. If the number is 1, then the computer has chosen rock. If the number is 2, then the computer has chosen paper. If the number is 3, then the computer has chosen scissors. (Don’t display the computer’s choice yet.)\n",
    "    - The user enters his or her choice of “rock,” “paper,” or “scissors” at the keyboard.\n",
    "    - The computer’s choice is displayed.\n",
    "    - A winner is selected according to the following rules:\n",
    "        - If one player chooses rock and the other player chooses scissors, then rock wins. (The rock smashes the scissors.)\n",
    "        - If one player chooses scissors and the other player chooses paper, then scissors wins. (Scissors cuts paper.)\n",
    "        - If one player chooses paper and the other player chooses rock, then paper wins. (Paper wraps rock.)\n",
    "        - If both players make the same choice, the game must be played again to determine the winner.\n",
    "        \n",
    "        \n",
    "9. Odd/even Counter\n",
    " \n",
    "    In this chapter, you saw an example of how to write an algorithm that determines whether a number is even or odd. Write a program that generates 100 random numbers (you choose the range) and keeps a count of how many of those random numbers are even and how many of them are odd."
   ]
  },
  {
   "cell_type": "markdown",
   "metadata": {},
   "source": [
    "## Assignment & Quizzes\n",
    "\n",
    "- Assignment 9: Writing program with functions (Due date: Apr 8th)\n",
    "\n",
    "- Codelab Quizzes: (Due date: Apr 8th)\n",
    "    - Section: Function\n",
    "        - invoking functions\n",
    "        - composition\n",
    "        - function definition"
   ]
  }
 ],
 "metadata": {
  "kernelspec": {
   "display_name": "Python 3",
   "language": "python",
   "name": "python3"
  },
  "language_info": {
   "codemirror_mode": {
    "name": "ipython",
    "version": 3
   },
   "file_extension": ".py",
   "mimetype": "text/x-python",
   "name": "python",
   "nbconvert_exporter": "python",
   "pygments_lexer": "ipython3",
   "version": "3.9.5"
  }
 },
 "nbformat": 4,
 "nbformat_minor": 4
}
