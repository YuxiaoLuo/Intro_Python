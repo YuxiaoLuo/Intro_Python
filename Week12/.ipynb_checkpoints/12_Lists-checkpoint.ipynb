{
 "cells": [
  {
   "cell_type": "markdown",
   "id": "dc0d5bd4",
   "metadata": {},
   "source": [
    "# Lists\n",
    "\n",
    "## Lists are Sequences of Values\n",
    "\n",
    "Concept: \n",
    "1. Sequence: A sequence is an object that contains multiple items of data. \n",
    "    - Various operations can be performed on the\n",
    "items stored in a sequence in Python.\n",
    "<br><br>\n",
    "2. List: A list is an object that contains multiple data items. \n",
    "    - Lists are mutable: contents can be changed during a program’s\n",
    "execution. \n",
    "    - Lists are dynamic data structures: you can add or remove items in lists.\n",
    "    - Various methods can be done on lists, ex., slicing, indexing, etc.\n",
    "\n",
    "Note: \n",
    "- In a String: values are characters\n",
    "    - A String is also a sequence, but it holds only one type of data - characters!\n",
    "- In a List: values can be any type (numeric, string, etc.)\n",
    "    - Unlike strings, lists are mutable\n",
    "- Values in lists: called **elements**, or **items**"
   ]
  },
  {
   "cell_type": "markdown",
   "id": "65e7acda",
   "metadata": {},
   "source": [
    "## Creating a list\n",
    "1. put elements inside square brackets [ ]"
   ]
  },
  {
   "cell_type": "code",
   "execution_count": 2,
   "id": "c59ea488",
   "metadata": {},
   "outputs": [
    {
     "name": "stdout",
     "output_type": "stream",
     "text": [
      "[10, 20, 30, 40]\n",
      "['ny strip', 'ribeye', 'sirloin']\n"
     ]
    }
   ],
   "source": [
    "# a list of integers \n",
    "nums = [10, 20, 30, 40]\n",
    "\n",
    "# a list of strings\n",
    "steak = ['ny strip', 'ribeye', 'sirloin']\n",
    "\n",
    "print(nums)\n",
    "print(steak)"
   ]
  },
  {
   "cell_type": "markdown",
   "id": "a7f331d4",
   "metadata": {},
   "source": [
    "2. A list can hold different types"
   ]
  },
  {
   "cell_type": "code",
   "execution_count": 10,
   "id": "ccde224d",
   "metadata": {},
   "outputs": [
    {
     "name": "stdout",
     "output_type": "stream",
     "text": [
      "['Amy', 27, 1550.87]\n",
      "<class 'str'>\n",
      "<class 'int'>\n",
      "<class 'float'>\n"
     ]
    }
   ],
   "source": [
    "info = ['Amy', 27, 1550.87]\n",
    "print(info)\n",
    "\n",
    "# let's see the type of each \n",
    "# item in the list\n",
    "print(type(info[0]))\n",
    "print(type(info[1]))\n",
    "print(type(info[2]))"
   ]
  },
  {
   "cell_type": "code",
   "execution_count": 21,
   "id": "57835ca9",
   "metadata": {},
   "outputs": [
    {
     "data": {
      "text/plain": [
       "['spam', 2.0, 5, [10, 2.232]]"
      ]
     },
     "execution_count": 21,
     "metadata": {},
     "output_type": "execute_result"
    }
   ],
   "source": [
    "# you can even contain another list in a list\n",
    "['spam', 2.0, 5, [10, 2.232]]"
   ]
  },
  {
   "cell_type": "code",
   "execution_count": 22,
   "id": "67c94364",
   "metadata": {},
   "outputs": [
    {
     "name": "stdout",
     "output_type": "stream",
     "text": [
      "[]\n"
     ]
    }
   ],
   "source": [
    "# you can also create an empty list\n",
    "empty_list = []\n",
    "print(empty_list)"
   ]
  },
  {
   "cell_type": "markdown",
   "id": "563513a2",
   "metadata": {},
   "source": [
    "3. Python has a built-in `list()` function and conver certain types of objects to lists.\n",
    "    - remember that `range()` creates an iterable"
   ]
  },
  {
   "cell_type": "code",
   "execution_count": 19,
   "id": "5dc011f7",
   "metadata": {},
   "outputs": [
    {
     "name": "stdout",
     "output_type": "stream",
     "text": [
      "[0, 1, 2, 3, 4, 5, 6, 7]\n",
      "<class 'list'>\n",
      "[1, 3, 5, 7, 9, 11, 13, 15, 17, 19]\n"
     ]
    }
   ],
   "source": [
    "numbers = list(range(8))\n",
    "print(numbers)\n",
    "print(type(numbers))\n",
    "\n",
    "numbers = list(range(1,20,2))\n",
    "print(numbers)"
   ]
  },
  {
   "cell_type": "markdown",
   "id": "80eca716",
   "metadata": {},
   "source": [
    "## The repetition operator\n",
    "\n",
    "The repetition operator makes multiple copies of a list and joins them all together. When the operand on the left side of the `*` symbol is a sequence (such as a list) and the operand on the right side is an integer, it becomes the repetition operator.\n",
    "\n",
    "- General format: `list * n`\n",
    "\n",
    "Note: Some programming languages allow you to create sequence structures known\n",
    "as `arrays`, which are similar to lists.\n",
    "You cannot create traditional arrays in Python because lists serve the same purpose and\n",
    "provide many more built-in capabilities."
   ]
  },
  {
   "cell_type": "code",
   "execution_count": 27,
   "id": "302d719e",
   "metadata": {},
   "outputs": [
    {
     "name": "stdout",
     "output_type": "stream",
     "text": [
      "['Amy', 'Amy', 'Amy', 'Amy', 'Amy']\n",
      "[5, 5, 5, 5, 5]\n",
      "[[2, 3], [3, 4], [4, 5], [2, 3], [3, 4], [4, 5], [2, 3], [3, 4], [4, 5]]\n"
     ]
    }
   ],
   "source": [
    "name = ['Amy']*5\n",
    "print(name)\n",
    "\n",
    "nums = [5]*5\n",
    "print(nums)\n",
    "\n",
    "print([[2,3],[3,4],[4,5]]*3)"
   ]
  },
  {
   "cell_type": "markdown",
   "id": "cb28b5ef",
   "metadata": {},
   "source": [
    "### Iterating over a list with `for` loop\n",
    "You can access individual elements in list using `for` loop."
   ]
  },
  {
   "cell_type": "code",
   "execution_count": 28,
   "id": "13cdcb53",
   "metadata": {
    "scrolled": true
   },
   "outputs": [
    {
     "name": "stdout",
     "output_type": "stream",
     "text": [
      "1\n",
      "2\n",
      "3\n",
      "4\n",
      "5\n",
      "6\n",
      "7\n",
      "8\n"
     ]
    }
   ],
   "source": [
    "numbers = [1,2,3,4,5,6,7,8]\n",
    "for number in numbers:\n",
    "    print(number)"
   ]
  },
  {
   "cell_type": "code",
   "execution_count": 30,
   "id": "f5de3e12",
   "metadata": {
    "scrolled": true
   },
   "outputs": [
    {
     "name": "stdout",
     "output_type": "stream",
     "text": [
      "c\n",
      "i\n",
      "s\n",
      "2\n",
      "3\n",
      "0\n",
      "0\n"
     ]
    }
   ],
   "source": [
    "# remember we did this with string?\n",
    "course = 'cis2300'\n",
    "for char in course:\n",
    "    print(char)"
   ]
  },
  {
   "cell_type": "markdown",
   "id": "df126906",
   "metadata": {},
   "source": [
    "Note that, when using `for` loop. The `number` variable references a copy of an element from the numbers list as the loop iterates and does not touch the element itself.\n",
    "\n",
    "We cannot use the `number` variable to change the contents of an element in the list. If we change the value that `number` references in the loop, it has no effect on the list."
   ]
  },
  {
   "cell_type": "code",
   "execution_count": 31,
   "id": "a3426afe",
   "metadata": {},
   "outputs": [
    {
     "name": "stdout",
     "output_type": "stream",
     "text": [
      "[1, 2, 3, 4, 5, 6, 7]\n"
     ]
    }
   ],
   "source": [
    "numbers = [1, 2, 3, 4, 5, 6, 7]\n",
    "for number in numbers: \n",
    "    number = 55\n",
    "print(numbers)"
   ]
  },
  {
   "cell_type": "markdown",
   "id": "c2776e75",
   "metadata": {},
   "source": [
    "### Indexing\n",
    "`index` is another way you can access the individual elements in a list. It starts at 0 and the index of last element in a list is 1 less than the number of elements in the list. "
   ]
  },
  {
   "cell_type": "code",
   "execution_count": 34,
   "id": "83c300e1",
   "metadata": {},
   "outputs": [
    {
     "name": "stdout",
     "output_type": "stream",
     "text": [
      "10 20\n",
      "40\n",
      "10\n"
     ]
    }
   ],
   "source": [
    "numbers = [10, 20, 30 , 40]\n",
    "print(numbers[0], numbers[1])\n",
    "\n",
    "print(numbers[-1])\n",
    "print(numbers[-4])"
   ]
  },
  {
   "cell_type": "markdown",
   "id": "4342d853",
   "metadata": {},
   "source": [
    "`len` function can return the length of a sequenc, such as a list."
   ]
  },
  {
   "cell_type": "code",
   "execution_count": 35,
   "id": "e1b033d2",
   "metadata": {},
   "outputs": [
    {
     "data": {
      "text/plain": [
       "4"
      ]
     },
     "execution_count": 35,
     "metadata": {},
     "output_type": "execute_result"
    }
   ],
   "source": [
    "# len function \n",
    "len(numbers)"
   ]
  },
  {
   "cell_type": "markdown",
   "id": "b3de818d",
   "metadata": {},
   "source": [
    "We can use a `while` loop to iterate by index over a list with `len` function."
   ]
  },
  {
   "cell_type": "code",
   "execution_count": 36,
   "id": "ff8d1d55",
   "metadata": {},
   "outputs": [
    {
     "name": "stdout",
     "output_type": "stream",
     "text": [
      "10\n",
      "20\n",
      "30\n",
      "40\n"
     ]
    }
   ],
   "source": [
    "index = 0 \n",
    "while index < len(numbers):\n",
    "    print(numbers[index])\n",
    "    index += 1"
   ]
  },
  {
   "cell_type": "markdown",
   "id": "0bbeecb9",
   "metadata": {},
   "source": [
    "We can also Use a `for` loop to iterate by index over a list with `len` and `range` function."
   ]
  },
  {
   "cell_type": "code",
   "execution_count": 37,
   "id": "2fee8143",
   "metadata": {},
   "outputs": [
    {
     "name": "stdout",
     "output_type": "stream",
     "text": [
      "10\n",
      "20\n",
      "30\n",
      "40\n"
     ]
    }
   ],
   "source": [
    "for index in range(len(numbers)):\n",
    "    # the index is: 0, 1, 2, 3\n",
    "    print(numbers[index])"
   ]
  },
  {
   "cell_type": "markdown",
   "id": "afbff743",
   "metadata": {},
   "source": [
    "### Lists are mutable\n",
    "You can modify the elements in lists."
   ]
  },
  {
   "cell_type": "code",
   "execution_count": 39,
   "id": "36e91b61",
   "metadata": {},
   "outputs": [
    {
     "name": "stdout",
     "output_type": "stream",
     "text": [
      "[1, 2, 3, 4, 5]\n",
      "[101, 2, 3, 4, 5]\n"
     ]
    }
   ],
   "source": [
    "numbers = [1, 2, 3, 4, 5]\n",
    "print(numbers)\n",
    "\n",
    "numbers[0] = 101\n",
    "print(numbers)"
   ]
  },
  {
   "cell_type": "code",
   "execution_count": 40,
   "id": "9e7de39c",
   "metadata": {},
   "outputs": [
    {
     "name": "stdout",
     "output_type": "stream",
     "text": [
      "[99, 99, 99, 99, 99]\n"
     ]
    }
   ],
   "source": [
    "# let's create a list and assign values to it\n",
    "# create  a list with 5 elements \n",
    "numbers = [0] * 5\n",
    "\n",
    "# fill the list with the value 99\n",
    "for index in range(len(numbers)):\n",
    "    numbers[index] = 99\n",
    "\n",
    "print(numbers)"
   ]
  },
  {
   "cell_type": "code",
   "execution_count": null,
   "id": "92865f4a",
   "metadata": {},
   "outputs": [],
   "source": [
    "# let's create a program that \n",
    "# gets sales amount from the user and assigns them to a list\n",
    "\n",
    "# NUM_DAY is a global constant \n",
    "# how many days of sales data\n",
    "\n",
    "# define main function\n",
    "\n",
    "    # create a list to hold the sales for each day\n",
    "    \n",
    "    # get user input for sales \n",
    "\n",
    "    \n",
    "    # display the values entered \n",
    "\n",
    "\n",
    "# call the main function"
   ]
  },
  {
   "cell_type": "code",
   "execution_count": 41,
   "id": "4c22ec99",
   "metadata": {
    "collapsed": true
   },
   "outputs": [
    {
     "name": "stdout",
     "output_type": "stream",
     "text": [
      "How many days of sales data do you have? 5\n",
      "Enter the sales volume for each day\n",
      "Day #12\n",
      "Day #22\n",
      "Day #32\n",
      "Day #42\n",
      "Day #52\n",
      "Here are the values you entered: \n",
      "2.0\n",
      "2.0\n",
      "2.0\n",
      "2.0\n",
      "2.0\n"
     ]
    }
   ],
   "source": [
    "# let's create a program that \n",
    "# gets sales amount from the user and assigns them to a list\n",
    "\n",
    "# NUM_DAY is a global constant \n",
    "# how many days of sales data\n",
    "NUM_DAY = int(input('How many days of sales data do you have? '))\n",
    "\n",
    "def main():\n",
    "    # create a list to hold the sales for each day\n",
    "    sales = [0] * NUM_DAY\n",
    "    print('Enter the sales volume for each day')\n",
    "    \n",
    "    # get user input for sales \n",
    "    for index in range(len(sales)):\n",
    "        sales[index] = float(input(f'Day #{index + 1}: '))\n",
    "    \n",
    "    # display the values entered \n",
    "    print('Here are the values you entered: ')\n",
    "    for value in sales:\n",
    "        print(value)\n",
    "\n",
    "# call the main function\n",
    "if __name__ == '__main__':\n",
    "    main()"
   ]
  },
  {
   "cell_type": "markdown",
   "id": "f49469a4",
   "metadata": {},
   "source": [
    "### Concatenating lists\n",
    "To join two lists together. You can use `+` operator to concatenate two lists. "
   ]
  },
  {
   "cell_type": "code",
   "execution_count": 43,
   "id": "4ebbdbf6",
   "metadata": {},
   "outputs": [
    {
     "name": "stdout",
     "output_type": "stream",
     "text": [
      "[1, 2, 3, 5, 6, 7]\n"
     ]
    }
   ],
   "source": [
    "list1 = [1, 2, 3]\n",
    "list2 = [5, 6, 7]\n",
    "list3 = list1 + list2\n",
    "print(list3)"
   ]
  },
  {
   "cell_type": "code",
   "execution_count": 46,
   "id": "000abc2e",
   "metadata": {},
   "outputs": [
    {
     "name": "stdout",
     "output_type": "stream",
     "text": [
      "['pizza', 'burger', 'dumpling', 'sushi', 'noodles', 'soup']\n"
     ]
    }
   ],
   "source": [
    "food = ['pizza', 'burger', 'dumpling']\n",
    "food += ['sushi', 'noodles', 'soup']\n",
    "print(food)"
   ]
  },
  {
   "cell_type": "markdown",
   "id": "daf4c7eb",
   "metadata": {},
   "source": [
    "## List slicing\n",
    "similar to how you slice strings. \n",
    "- General format: `name_of_a_list[start : end]`\n",
    "\n",
    "Note: Unlike indexing, invalid indexes do not cause slicing expressions to raise an exception. For\n",
    "example,\n",
    "1. If the end index specifies a position beyond the end of the list, Python will use the\n",
    "length of the list instead.\n",
    "2. If the start index specifies a position before the beginning of the list, Python will\n",
    "use 0 instead.\n",
    "3. If the start index is greater than the end index, the slicing expression will return\n",
    "an empty list."
   ]
  },
  {
   "cell_type": "code",
   "execution_count": 58,
   "id": "a103a88c",
   "metadata": {},
   "outputs": [
    {
     "data": {
      "text/plain": [
       "['b', 'c']"
      ]
     },
     "execution_count": 58,
     "metadata": {},
     "output_type": "execute_result"
    }
   ],
   "source": [
    "# create a list\n",
    "letters = ['a', 'b', 'c', 'd', 'e', 'f']\n",
    "letters[1:3]"
   ]
  },
  {
   "cell_type": "code",
   "execution_count": 59,
   "id": "30771cf6",
   "metadata": {},
   "outputs": [
    {
     "data": {
      "text/plain": [
       "['a', 'b', 'c', 'd', 'e', 'f']"
      ]
     },
     "execution_count": 59,
     "metadata": {},
     "output_type": "execute_result"
    }
   ],
   "source": [
    "# if you leave out the start index in a slicing expression\n",
    "# Python uses 0 by default\n",
    "letters[:]"
   ]
  },
  {
   "cell_type": "code",
   "execution_count": 60,
   "id": "dab3c5a6",
   "metadata": {},
   "outputs": [
    {
     "data": {
      "text/plain": [
       "['a', 'b']"
      ]
     },
     "execution_count": 60,
     "metadata": {},
     "output_type": "execute_result"
    }
   ],
   "source": [
    "# ending limit index, not inclusive\n",
    "letters[:2] "
   ]
  },
  {
   "cell_type": "code",
   "execution_count": 49,
   "id": "0f566fa7",
   "metadata": {},
   "outputs": [
    {
     "data": {
      "text/plain": [
       "['c', 'd', 'e', 'f']"
      ]
     },
     "execution_count": 49,
     "metadata": {},
     "output_type": "execute_result"
    }
   ],
   "source": [
    "letters[2:] "
   ]
  },
  {
   "cell_type": "code",
   "execution_count": 64,
   "id": "d8675aa2",
   "metadata": {},
   "outputs": [
    {
     "data": {
      "text/plain": [
       "['b', 'd']"
      ]
     },
     "execution_count": 64,
     "metadata": {},
     "output_type": "execute_result"
    }
   ],
   "source": [
    "# step value\n",
    "letters[1:5:2]"
   ]
  },
  {
   "cell_type": "code",
   "execution_count": 52,
   "id": "8034a5fe",
   "metadata": {},
   "outputs": [
    {
     "data": {
      "text/plain": [
       "['b', 'c', 'd', 'e']"
      ]
     },
     "execution_count": 52,
     "metadata": {},
     "output_type": "execute_result"
    }
   ],
   "source": [
    "# you can also use negative numbers as indexes\n",
    "letters[1:-1]"
   ]
  },
  {
   "cell_type": "code",
   "execution_count": 65,
   "id": "ae37e8f8",
   "metadata": {},
   "outputs": [
    {
     "data": {
      "text/plain": [
       "['b', 'c', 'd', 'e', 'f']"
      ]
     },
     "execution_count": 65,
     "metadata": {},
     "output_type": "execute_result"
    }
   ],
   "source": [
    "letters[-5:]"
   ]
  },
  {
   "cell_type": "code",
   "execution_count": 53,
   "id": "85c7d56a",
   "metadata": {},
   "outputs": [
    {
     "data": {
      "text/plain": [
       "['b', 'c', 'd', 'e']"
      ]
     },
     "execution_count": 53,
     "metadata": {},
     "output_type": "execute_result"
    }
   ],
   "source": [
    "letters[-5:-1]"
   ]
  },
  {
   "cell_type": "code",
   "execution_count": 54,
   "id": "d8e15a2b",
   "metadata": {},
   "outputs": [
    {
     "name": "stdout",
     "output_type": "stream",
     "text": [
      "['a', 'x', 'y', 'd', 'e', 'f']\n"
     ]
    }
   ],
   "source": [
    "# updating multiple elements of lists with slicing:\n",
    "letters = ['a', 'b', 'c', 'd', 'e', 'f']\n",
    "letters[1:3] = ['x', 'y']\n",
    "print(letters)"
   ]
  },
  {
   "cell_type": "markdown",
   "id": "cbefbf21",
   "metadata": {},
   "source": [
    "### Find an item in lists using `in` operator\n",
    "Use the `in` operator to determine whether an item is contained in a list."
   ]
  },
  {
   "cell_type": "code",
   "execution_count": 68,
   "id": "8eda7f0c",
   "metadata": {},
   "outputs": [
    {
     "name": "stdout",
     "output_type": "stream",
     "text": [
      "True\n",
      "a is in the list\n"
     ]
    }
   ],
   "source": [
    "letters = ['a', 'b', 'c', 'd', 'e', 'f']\n",
    "print('a' in letters)\n",
    "\n",
    "if 'a' in letters:\n",
    "    print('a is in the list')\n",
    "else: \n",
    "    print('a is not in the list')"
   ]
  },
  {
   "cell_type": "markdown",
   "id": "45c63ee7",
   "metadata": {},
   "source": [
    "## List methods\n",
    "Lists have numerous methods to work with the elements. Python also provides some built-in functions that are\n",
    "useful for working with lists.\n",
    "- `append`: adds items to the end of the list. \n",
    "- `extend`: add items to the end of the list through a new list, similar to `+` operator.\n",
    "- `index (index, item)`: returns the index of the first element whose value is equal to item. A ValueError exception is raised if item is not found in the list.\n",
    "- `insert`: Inserts item into the list at the specified index. When an item is inserted into a list, the list is expanded in size to accommodate the new item.\n",
    "- `sort`: Sorts the items in the list so they appear in ascending order (from the lowest value to the highest value).\n",
    "- `remove(item)`: Removes the first occurrence of item from the list. A ValueError exception is raised if item is not found in the list. \n",
    "- `reverse()`: reverses the order of the items in the list."
   ]
  },
  {
   "cell_type": "markdown",
   "id": "ed4d01a8",
   "metadata": {},
   "source": [
    "### `append()` & `extend()`"
   ]
  },
  {
   "cell_type": "code",
   "execution_count": 70,
   "id": "832b3afa",
   "metadata": {},
   "outputs": [
    {
     "name": "stdout",
     "output_type": "stream",
     "text": [
      "['noodles', 'burger', 'steak', 'dumpling']\n"
     ]
    }
   ],
   "source": [
    "# append() adds new element to end of a list:\n",
    "food = ['noodles', 'burger', 'steak']\n",
    "food.append('dumpling')\n",
    "print(food)"
   ]
  },
  {
   "cell_type": "code",
   "execution_count": 74,
   "id": "ed5bea86",
   "metadata": {},
   "outputs": [
    {
     "name": "stdout",
     "output_type": "stream",
     "text": [
      "['noodles', 'burger', 'steak', 'd', 'u', 'm', 'p', 'l', 'i', 'n', 'g']\n"
     ]
    }
   ],
   "source": [
    "# extend() can also adds new element\n",
    "food = ['noodles', 'burger', 'steak']\n",
    "food.extend('dumpling') # wrong way\n",
    "print(food)"
   ]
  },
  {
   "cell_type": "code",
   "execution_count": 75,
   "id": "2670f44b",
   "metadata": {},
   "outputs": [
    {
     "name": "stdout",
     "output_type": "stream",
     "text": [
      "['noodles', 'burger', 'steak', 'dumpling']\n"
     ]
    }
   ],
   "source": [
    "food = ['noodles', 'burger', 'steak']\n",
    "food.extend(['dumpling']) # correct way\n",
    "print(food)"
   ]
  },
  {
   "cell_type": "code",
   "execution_count": 77,
   "id": "03f14f40",
   "metadata": {},
   "outputs": [
    {
     "name": "stdout",
     "output_type": "stream",
     "text": [
      "['noodles', 'burger', 'steak', 'dumpling']\n"
     ]
    }
   ],
   "source": [
    "# same as the + operator\n",
    "food = ['noodles', 'burger', 'steak']\n",
    "food += ['dumpling']\n",
    "print(food)"
   ]
  },
  {
   "cell_type": "markdown",
   "id": "517520f6",
   "metadata": {},
   "source": [
    "#### Other methods\n",
    "\n",
    "- `index()`: Help to locate where the item is in a list. You pass an argument to the index method,\n",
    "and it returns the index of the first element in the list containing that item. If the item is\n",
    "not found in the list, the method raises a *ValueError* exception.\n",
    "\n",
    "- `insert()`: insert an item into a list at a specific position. You pass two arguments to the insert method: an index specifying where the item should be inserted and the item that you want to insert.\n",
    "\n",
    "Note: [More about how to use Exceptions](https://docs.python.org/3/tutorial/errors.html)"
   ]
  },
  {
   "cell_type": "code",
   "execution_count": 82,
   "id": "642f9832",
   "metadata": {},
   "outputs": [
    {
     "name": "stdout",
     "output_type": "stream",
     "text": [
      "['noodles', 'burger', 'steak', 'dumpling']\n"
     ]
    },
    {
     "data": {
      "text/plain": [
       "2"
      ]
     },
     "execution_count": 82,
     "metadata": {},
     "output_type": "execute_result"
    }
   ],
   "source": [
    "# index()\n",
    "print(food)\n",
    "food.index('steak')"
   ]
  },
  {
   "cell_type": "code",
   "execution_count": 84,
   "id": "39f673c7",
   "metadata": {
    "scrolled": true
   },
   "outputs": [
    {
     "name": "stdout",
     "output_type": "stream",
     "text": [
      "Here are the items in the food list: \n",
      "['Pizza', 'Burgers', 'Chips']\n",
      "Which item should I change? Burgers\n",
      "Enter the new value: steak\n",
      "Here is the revised list: \n",
      "['Pizza', 'steak', 'Chips']\n"
     ]
    }
   ],
   "source": [
    "# this is program that demonstrates the use of index()\n",
    "\n",
    "def main():\n",
    "    # create a list with some items \n",
    "    food = ['Pizza', 'Burger', 'Chips']\n",
    "    # display the list \n",
    "    print('Here are the items in the food list: ')\n",
    "    print(food)\n",
    "    \n",
    "    # get the item to change \n",
    "    item = input('Which item should I change? ')\n",
    "    \n",
    "    try: \n",
    "        # get the item's index in the list\n",
    "        item_index = food.index(item)\n",
    "        \n",
    "        # get the value to replace it with\n",
    "        new_item = input('Enter the new value: ')\n",
    "        \n",
    "        # replace the old item with the new item \n",
    "        food[item_index] = new_item\n",
    "        \n",
    "        # display the list \n",
    "        print('Here is the revised list: ')\n",
    "        print(food)\n",
    "        \n",
    "    except ValueError: # can handle selected exception\n",
    "        print('The item was not found in the list.')\n",
    "        \n",
    "# call main function\n",
    "if __name__ == '__main__':\n",
    "    main()"
   ]
  },
  {
   "cell_type": "code",
   "execution_count": 96,
   "id": "f09bf95f",
   "metadata": {},
   "outputs": [
    {
     "name": "stdout",
     "output_type": "stream",
     "text": [
      "['noodles', 'burger', 'shrimp', 'steak', 'dumpling']\n"
     ]
    }
   ],
   "source": [
    "# insert()\n",
    "food = ['noodles', 'burger', 'steak', 'dumpling']\n",
    "food.insert(2, 'shrimp')\n",
    "print(food)"
   ]
  },
  {
   "cell_type": "code",
   "execution_count": null,
   "id": "c487ab13",
   "metadata": {},
   "outputs": [],
   "source": []
  },
  {
   "cell_type": "markdown",
   "id": "e0304586",
   "metadata": {},
   "source": [
    "## Weekly Quizzes\n",
    "\n",
    "There is no weekly assignment this week.\n",
    "\n",
    "CodeLab Quizzes (due date: May 6th)\n",
    "- List\n",
    "    - list initialization/creation\n",
    "    - list indexing\n",
    "    - list-slicing/splicing/concatenation"
   ]
  }
 ],
 "metadata": {
  "kernelspec": {
   "display_name": "Python 3",
   "language": "python",
   "name": "python3"
  },
  "language_info": {
   "codemirror_mode": {
    "name": "ipython",
    "version": 3
   },
   "file_extension": ".py",
   "mimetype": "text/x-python",
   "name": "python",
   "nbconvert_exporter": "python",
   "pygments_lexer": "ipython3",
   "version": "3.9.5"
  }
 },
 "nbformat": 4,
 "nbformat_minor": 5
}
