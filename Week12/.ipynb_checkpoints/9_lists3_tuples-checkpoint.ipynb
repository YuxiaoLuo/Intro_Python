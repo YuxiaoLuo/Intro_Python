{
 "cells": [
  {
   "cell_type": "markdown",
   "metadata": {},
   "source": [
    "#### Lists Part 3: More List operations and Tuples"
   ]
  },
  {
   "cell_type": "code",
   "execution_count": 2,
   "metadata": {
    "scrolled": true
   },
   "outputs": [
    {
     "name": "stdout",
     "output_type": "stream",
     "text": [
      "['Coen Brothers', ['Jeff Bridges', 'Juliana Moore', 'John Goodman']]\n",
      "['Big Lebowski', 1998, ['Coen Brothers', ['Jeff Bridges', 'Juliana Moore', 'John Goodman']]]\n"
     ]
    }
   ],
   "source": [
    "#look at one movie \"Big Lebowski\"\n",
    "cast1 = ['Jeff Bridges', 'Juliana Moore', 'John Goodman']\n",
    "crew1 = ['Coen Brothers', cast1]\n",
    "print(crew1)\n",
    "movies1 = ['Big Lebowski', 1998, crew1]\n",
    "print(movies1)"
   ]
  },
  {
   "cell_type": "code",
   "execution_count": 6,
   "metadata": {},
   "outputs": [
    {
     "data": {
      "text/plain": [
       "'Juliana Moore'"
      ]
     },
     "execution_count": 6,
     "metadata": {},
     "output_type": "execute_result"
    }
   ],
   "source": [
    "movies1[2][1][1]"
   ]
  },
  {
   "cell_type": "code",
   "execution_count": 5,
   "metadata": {},
   "outputs": [
    {
     "name": "stdout",
     "output_type": "stream",
     "text": [
      "Big Lebowski\n",
      "1998\n",
      "['Coen Brothers', ['Jeff Bridges', 'Juliana Moore', 'John Goodman']]\n",
      "3\n"
     ]
    }
   ],
   "source": [
    "for item in movies1:\n",
    "    print(item)\n",
    "    \n",
    "print(len(movies1))"
   ]
  },
  {
   "cell_type": "code",
   "execution_count": 15,
   "metadata": {},
   "outputs": [],
   "source": [
    "?isinstance"
   ]
  },
  {
   "cell_type": "code",
   "execution_count": 31,
   "metadata": {
    "scrolled": true
   },
   "outputs": [
    {
     "name": "stdout",
     "output_type": "stream",
     "text": [
      "s is a list:  False\n",
      "abc\n",
      "['a', 'b', 'c']\n",
      "\n",
      "ls is a list:  True\n"
     ]
    }
   ],
   "source": [
    "s = \"abc\"\n",
    "print('s is a list: ', isinstance(s, list)) \n",
    "\n",
    "ls = list(s)\n",
    "print(s,ls, sep = '\\n')\n",
    "print('\\nls is a list: ', isinstance(ls,list))"
   ]
  },
  {
   "cell_type": "code",
   "execution_count": 42,
   "metadata": {},
   "outputs": [
    {
     "name": "stdout",
     "output_type": "stream",
     "text": [
      "['Big Lebowski', 1998, ['Coen Brothers', ['Jeff Bridges', 'Juliana Moore', 'John Goodman']]]\n",
      "Big Lebowski\n",
      "1998\n",
      "Coen Brothers\n",
      "['Jeff Bridges', 'Juliana Moore', 'John Goodman']\n"
     ]
    }
   ],
   "source": [
    "# nested one level\n",
    "print(movies1)\n",
    "for item in movies1:\n",
    "    if isinstance(item, list):\n",
    "        for nested_item in item:\n",
    "            print(nested_item)\n",
    "    else:\n",
    "            print(item)"
   ]
  },
  {
   "cell_type": "code",
   "execution_count": 39,
   "metadata": {},
   "outputs": [
    {
     "name": "stdout",
     "output_type": "stream",
     "text": [
      "Big Lebowski\n",
      "1998\n",
      "Coen Brothers\n",
      "Jeff Bridges\n",
      "Juliana Moore\n",
      "John Goodman\n"
     ]
    }
   ],
   "source": [
    "# nested two levels; \n",
    "\n",
    "for item in movies1:\n",
    "    if isinstance(item, list):\n",
    "        for nested_item in item:\n",
    "            if isinstance(nested_item, list):\n",
    "                for deeper_item in nested_item:\n",
    "                    print(deeper_item)\n",
    "            else:\n",
    "                print(nested_item)\n",
    "    else:\n",
    "        print(item)\n",
    "        \n",
    "# multi-levels?"
   ]
  },
  {
   "cell_type": "code",
   "execution_count": 41,
   "metadata": {},
   "outputs": [
    {
     "name": "stdout",
     "output_type": "stream",
     "text": [
      "Big Lebowski\n",
      "1998\n",
      "Coen Brothers\n",
      "Jeff Bridges\n",
      "Juliana Moore\n",
      "John Goodman\n"
     ]
    }
   ],
   "source": [
    "# recursive function\n",
    "\n",
    "def print_list(the_list):\n",
    "    for item in the_list:\n",
    "        if isinstance(item, list):\n",
    "            print_list(item)\n",
    "        else:\n",
    "            print(item)\n",
    "\n",
    "# Invoke the function\n",
    "print_list(movies1)"
   ]
  },
  {
   "cell_type": "markdown",
   "metadata": {},
   "source": [
    "#### Tuples <br>\n",
    "Tuples are special cases of Lists (just like strings); They are immutable<br>\n",
    "Why Tuples?<br>"
   ]
  },
  {
   "cell_type": "code",
   "execution_count": 10,
   "metadata": {},
   "outputs": [
    {
     "name": "stdout",
     "output_type": "stream",
     "text": [
      "(1, 2, 3) <class 'tuple'>\n"
     ]
    }
   ],
   "source": [
    "tup=(1,2,3)\n",
    "print(tup, type(tup))"
   ]
  },
  {
   "cell_type": "code",
   "execution_count": 9,
   "metadata": {},
   "outputs": [
    {
     "name": "stdout",
     "output_type": "stream",
     "text": [
      "(1,) <class 'tuple'>\n"
     ]
    }
   ],
   "source": [
    "tup=(1,)\n",
    "print(tup, type(tup))"
   ]
  },
  {
   "cell_type": "code",
   "execution_count": 11,
   "metadata": {},
   "outputs": [
    {
     "name": "stdout",
     "output_type": "stream",
     "text": [
      "(1, 2, 3, 2)\n",
      "2\n"
     ]
    }
   ],
   "source": [
    "t = 1,2,3,2\n",
    "print(t)\n",
    "c=t.count(2)\n",
    "print (c)"
   ]
  },
  {
   "cell_type": "code",
   "execution_count": 12,
   "metadata": {},
   "outputs": [
    {
     "name": "stdout",
     "output_type": "stream",
     "text": [
      "()\n"
     ]
    }
   ],
   "source": [
    "t=tuple()\n",
    "print(t)"
   ]
  },
  {
   "cell_type": "code",
   "execution_count": null,
   "metadata": {},
   "outputs": [],
   "source": [
    "# built-in methods\n",
    "# any method that modifies the tuple would not be supported\n",
    "# methods supported: count, index"
   ]
  },
  {
   "cell_type": "code",
   "execution_count": 14,
   "metadata": {},
   "outputs": [
    {
     "name": "stdout",
     "output_type": "stream",
     "text": [
      "(12, 13)\n",
      "(13, 14, 15)\n"
     ]
    }
   ],
   "source": [
    "t = tuple()\n",
    "t = t+(12,13)\n",
    "print(t)\n",
    "t = t[1:]+(14,15)\n",
    "print(t)"
   ]
  }
 ],
 "metadata": {
  "kernelspec": {
   "display_name": "Python 3",
   "language": "python",
   "name": "python3"
  },
  "language_info": {
   "codemirror_mode": {
    "name": "ipython",
    "version": 3
   },
   "file_extension": ".py",
   "mimetype": "text/x-python",
   "name": "python",
   "nbconvert_exporter": "python",
   "pygments_lexer": "ipython3",
   "version": "3.9.5"
  }
 },
 "nbformat": 4,
 "nbformat_minor": 4
}
