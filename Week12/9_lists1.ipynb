{
 "cells": [
  {
   "cell_type": "markdown",
   "metadata": {},
   "source": [
    "#### Lists\n",
    "##### Agenda\n",
    "What are Lists?<br>\n",
    "Strings Vs. Lists<br>\n",
    "Creating, Indexing and Slicing Lists <br>\n",
    "List Methods <br>\n",
    "Other List Operations <hr>"
   ]
  },
  {
   "cell_type": "markdown",
   "metadata": {},
   "source": [
    "A List is a sequence that can hold different types of data. <br>\n",
    "A String is also a sequence, but it holds only one type of data - characters!<br>\n",
    "Unlike strings, lists are mutable <br>\n",
    "Be careful about mutating lists as well as using the List Methods (unintended consequences; more on this later) <br>"
   ]
  },
  {
   "cell_type": "code",
   "execution_count": 1,
   "metadata": {},
   "outputs": [
    {
     "name": "stdout",
     "output_type": "stream",
     "text": [
      "[1, 2, 3]\n",
      "<class 'list'>\n"
     ]
    }
   ],
   "source": [
    "numbers = [1,2,3]\n",
    "print(numbers)\n",
    "print(type(numbers))"
   ]
  },
  {
   "cell_type": "code",
   "execution_count": 3,
   "metadata": {},
   "outputs": [
    {
     "name": "stdout",
     "output_type": "stream",
     "text": [
      "[]\n",
      "['Big Lebowski', 'State and Main']\n"
     ]
    }
   ],
   "source": [
    "my_list = []\n",
    "movies = ['Big Lebowski', 'State and Main']\n",
    "print(my_list, movies, sep = '\\n')"
   ]
  },
  {
   "cell_type": "code",
   "execution_count": 3,
   "metadata": {},
   "outputs": [
    {
     "name": "stdout",
     "output_type": "stream",
     "text": [
      "['Big Lebowski', 'State and Main']\n"
     ]
    }
   ],
   "source": [
    "my_list += movies\n",
    "print(my_list)"
   ]
  },
  {
   "cell_type": "code",
   "execution_count": 4,
   "metadata": {},
   "outputs": [
    {
     "name": "stdout",
     "output_type": "stream",
     "text": [
      "['Big Lebowski', 'State and Main', 1, 2, 3]\n",
      "Big Lebowski\n"
     ]
    }
   ],
   "source": [
    "my_list += numbers\n",
    "print(my_list)\n",
    "print(my_list[0])\n",
    "\n",
    "# indexing and slicing lists\n",
    "# Grab  second element (index 1) and everything past it\n",
    "# Grab everything upto the 4th element"
   ]
  },
  {
   "cell_type": "code",
   "execution_count": 9,
   "metadata": {},
   "outputs": [
    {
     "name": "stdout",
     "output_type": "stream",
     "text": [
      "nameanh luong\n",
      "a\n"
     ]
    },
    {
     "data": {
      "text/plain": [
       "'l'"
      ]
     },
     "execution_count": 9,
     "metadata": {},
     "output_type": "execute_result"
    }
   ],
   "source": [
    "fml = input('name')\n",
    "fml1 = fml.split()\n",
    "fml\n",
    "print(fml1[0][0])\n",
    "fml1[1][0]"
   ]
  },
  {
   "cell_type": "code",
   "execution_count": 7,
   "metadata": {},
   "outputs": [
    {
     "data": {
      "text/plain": [
       "'l'"
      ]
     },
     "execution_count": 7,
     "metadata": {},
     "output_type": "execute_result"
    }
   ],
   "source": [
    "fml[1][0]"
   ]
  },
  {
   "cell_type": "code",
   "execution_count": 5,
   "metadata": {},
   "outputs": [
    {
     "name": "stdout",
     "output_type": "stream",
     "text": [
      "Big Lebowski\n",
      "State and Main\n"
     ]
    }
   ],
   "source": [
    "# accessing items of a list\n",
    "for item in movies:\n",
    "    print (item)"
   ]
  },
  {
   "cell_type": "markdown",
   "metadata": {},
   "source": [
    "##### Exercise: \n",
    "1) Take a positive integer as an input from the user; construct a list of numbers upto n. <br>\n",
    "2) Write piece of iterative code to mutiply the elements of a given list by 10 (assume that the list already exists).<br>"
   ]
  },
  {
   "cell_type": "code",
   "execution_count": 6,
   "metadata": {},
   "outputs": [
    {
     "name": "stdout",
     "output_type": "stream",
     "text": [
      "c\n"
     ]
    }
   ],
   "source": [
    "# Strings and Lists; Mutability; Index out of Range...\n",
    "s = 'cheese'\n",
    "print(s[0])\n",
    "# s[0]=k  is not a valid statement as strings are immutable"
   ]
  },
  {
   "cell_type": "code",
   "execution_count": 7,
   "metadata": {},
   "outputs": [
    {
     "name": "stdout",
     "output_type": "stream",
     "text": [
      "2\n",
      "[1, 20, 3]\n"
     ]
    }
   ],
   "source": [
    "# Strings and Lists; Mutability; Index out of Range...\n",
    "numbers = [1,2,3]\n",
    "print(numbers[1])\n",
    "numbers[1] = 20\n",
    "print(numbers)\n",
    "\n",
    "# making copies of lists (especially if changing the values in the list) - see more below\n",
    "# change the last two items in the list above"
   ]
  },
  {
   "cell_type": "code",
   "execution_count": 9,
   "metadata": {},
   "outputs": [
    {
     "name": "stdout",
     "output_type": "stream",
     "text": [
      "brie\n",
      "['b', 'r', 'i', 'e']\n"
     ]
    }
   ],
   "source": [
    "# Type Conversion\n",
    "\n",
    "cheese = 'brie'\n",
    "ch = list(cheese)\n",
    "print(cheese, ch, sep = '\\n')"
   ]
  },
  {
   "cell_type": "code",
   "execution_count": 4,
   "metadata": {},
   "outputs": [
    {
     "name": "stdout",
     "output_type": "stream",
     "text": [
      "['The', 'Big', 'Lebowski']\n"
     ]
    }
   ],
   "source": [
    "# More on Lists and Strings\n",
    "\n",
    "movie = \" The Big Lebowski \"\n",
    "words = movie.split()\n",
    "print(words)"
   ]
  },
  {
   "cell_type": "code",
   "execution_count": 11,
   "metadata": {},
   "outputs": [
    {
     "name": "stdout",
     "output_type": "stream",
     "text": [
      "['The', 'Big', 'Lebowski']\n"
     ]
    }
   ],
   "source": [
    "movie = \"The,Big,Lebowski\"\n",
    "words = movie.split(',')\n",
    "print(words)"
   ]
  },
  {
   "cell_type": "code",
   "execution_count": 12,
   "metadata": {},
   "outputs": [
    {
     "name": "stdout",
     "output_type": "stream",
     "text": [
      "The Big Lebowski\n"
     ]
    }
   ],
   "source": [
    "delim=' '  #Space as delimiter\n",
    "movie2 = delim.join(words)\n",
    "print(movie2)"
   ]
  },
  {
   "cell_type": "code",
   "execution_count": 21,
   "metadata": {},
   "outputs": [
    {
     "name": "stdout",
     "output_type": "stream",
     "text": [
      "[1, 2, 3, 4]\n",
      "[1, 2, 3, 4, 4, 5, 6, 5]\n"
     ]
    }
   ],
   "source": [
    "# List Methods: append, extend\n",
    "# return values of list methods\n",
    "\n",
    "x = [1,2,3]\n",
    "x.append(4) # add the data object at the end of the list;\n",
    "print (x)\n",
    "\n",
    "z = [4,5,6,5]\n",
    "x.extend(z) # add elements of the list z at the end\n",
    "print (x)\n",
    "\n",
    "# please note that both methods return none type; \n",
    "# if you write y=x.append(4), y will be assigned None.\n",
    "# try x.append([4, 5]); x.extend([4, 5]); "
   ]
  },
  {
   "cell_type": "code",
   "execution_count": 22,
   "metadata": {},
   "outputs": [
    {
     "name": "stdout",
     "output_type": "stream",
     "text": [
      "[1, 2, 3, 4, 4, 5, 6, 5, [8, 5, 3]]\n"
     ]
    }
   ],
   "source": [
    "x.append([8,5,3])\n",
    "print(x)"
   ]
  },
  {
   "cell_type": "code",
   "execution_count": 25,
   "metadata": {},
   "outputs": [
    {
     "name": "stdout",
     "output_type": "stream",
     "text": [
      "[1, 3, 4, 5, 6]\n",
      "2\n"
     ]
    }
   ],
   "source": [
    "# List Methods: pop, remove; Also del operator\n",
    "\n",
    "x = [1,2,3,4,5,6]\n",
    "y = x.pop(1)    # The popped element at index position 1 will be assigned to y\n",
    "print(x, y, sep=\"\\n\") "
   ]
  },
  {
   "cell_type": "code",
   "execution_count": 24,
   "metadata": {},
   "outputs": [
    {
     "name": "stdout",
     "output_type": "stream",
     "text": [
      "[1, 2, 3, 5, 6]\n"
     ]
    }
   ],
   "source": [
    "x = [1,2,3,4,5,6]\n",
    "del x[3]\n",
    "print(x)"
   ]
  },
  {
   "cell_type": "code",
   "execution_count": 26,
   "metadata": {},
   "outputs": [
    {
     "name": "stdout",
     "output_type": "stream",
     "text": [
      "[4, 5, 6]\n"
     ]
    }
   ],
   "source": [
    "x = [1,2,3,4,5,6]\n",
    "del x[:3]\n",
    "print(x)"
   ]
  },
  {
   "cell_type": "code",
   "execution_count": 35,
   "metadata": {},
   "outputs": [
    {
     "name": "stdout",
     "output_type": "stream",
     "text": [
      "[1, 2, 4, 5, 6, 3]\n",
      "[1, 2, 4, 5, 6]\n",
      "None\n"
     ]
    }
   ],
   "source": [
    "x = [1,2,3,4,5,6,3]\n",
    "x.remove(3)  # remove  the first number 3 from the list\n",
    "print(x)\n",
    "z = x.remove(3) \n",
    "print(x)\n",
    "print(z)"
   ]
  },
  {
   "cell_type": "code",
   "execution_count": 13,
   "metadata": {},
   "outputs": [
    {
     "name": "stdout",
     "output_type": "stream",
     "text": [
      "['JOHN', 'JANE', 'jOE']\n"
     ]
    }
   ],
   "source": [
    "x = ['JOHN','JANE','jOE','Kumar']\n",
    "del x[3]\n",
    "print(x)"
   ]
  },
  {
   "cell_type": "code",
   "execution_count": 14,
   "metadata": {},
   "outputs": [
    {
     "name": "stdout",
     "output_type": "stream",
     "text": [
      "[1, 2, 2, 3, 4, 5, 6]\n",
      "2\n"
     ]
    }
   ],
   "source": [
    "# List Methods: Sort, Count\n",
    "\n",
    "x = [4, 3, 5, 2, 6, 1,2]\n",
    "x.sort()  # sorts the elements in a list\n",
    "print(x)\n",
    "\n",
    "a = x.count(2)  # How many times is the item 2 in the list?\n",
    "print (a)"
   ]
  },
  {
   "cell_type": "code",
   "execution_count": 15,
   "metadata": {},
   "outputs": [
    {
     "name": "stdout",
     "output_type": "stream",
     "text": [
      "['beta', 'alpha', 'gamma']\n",
      "['alpha', 'beta', 'gamma']\n"
     ]
    }
   ],
   "source": [
    "y = ['beta','alpha','gamma']\n",
    "print(y)\n",
    "y.sort()\n",
    "print(y)"
   ]
  },
  {
   "cell_type": "code",
   "execution_count": 36,
   "metadata": {},
   "outputs": [
    {
     "name": "stdout",
     "output_type": "stream",
     "text": [
      "2\n",
      "[4, 3, 'inserted', 5, 2, 6, 5, 1]\n",
      "[1, 5, 6, 2, 5, 'inserted', 3, 4]\n"
     ]
    }
   ],
   "source": [
    "# List Methods: index, insert\n",
    "\n",
    "x = [4, 3, 5, 2, 6, 5, 1]\n",
    "b = x.index(5)  # Find index of first item 5 in the list\n",
    "print(b)\n",
    "\n",
    "x.insert(2,'inserted')  # Insert 'inserted' at index position 2\n",
    "print(x)\n",
    "\n",
    "x.reverse()\n",
    "print(x)"
   ]
  },
  {
   "cell_type": "code",
   "execution_count": 37,
   "metadata": {
    "scrolled": true
   },
   "outputs": [
    {
     "name": "stdout",
     "output_type": "stream",
     "text": [
      "[100, 121, 22, 43]\n",
      "4\n",
      "121\n"
     ]
    }
   ],
   "source": [
    "# Lists Built-in Functions: Len, max, min, sum\n",
    "\n",
    "x = [100,121,22,43]\n",
    "y = len(x) # max, min and sum can be used on the list to perform operations\n",
    "z = max(x)\n",
    "print(x, y, z, sep=\"\\n\")"
   ]
  },
  {
   "cell_type": "code",
   "execution_count": 48,
   "metadata": {},
   "outputs": [
    {
     "name": "stdout",
     "output_type": "stream",
     "text": [
      "Enter a name: test\n",
      "Enter a name: test\n",
      "Enter a name: test\n",
      "['test', 'test', 'test']\n"
     ]
    }
   ],
   "source": [
    "# Construct a list with names of three favorite movies\n",
    "\n",
    "movieList = []\n",
    "for count in range(3):\n",
    "    movieList.append(input(\"Enter a name: \"))\n",
    "print(movieList)\n"
   ]
  },
  {
   "cell_type": "markdown",
   "metadata": {},
   "source": [
    "##### Exercise: \n",
    "Take a positive integer as an input from the user; construct a list containing n elements (all numbers) with user input. <br> \n",
    "Modify the program to compute average of numbers in the list.<br>"
   ]
  },
  {
   "cell_type": "code",
   "execution_count": 44,
   "metadata": {},
   "outputs": [
    {
     "name": "stdout",
     "output_type": "stream",
     "text": [
      "[0, 1, 4, 9, 16]\n"
     ]
    }
   ],
   "source": [
    "# List Comprehension\n",
    "\n",
    "sq = [x ** 2 for x in range(5)]\n",
    "print(sq)"
   ]
  },
  {
   "cell_type": "code",
   "execution_count": 45,
   "metadata": {},
   "outputs": [
    {
     "name": "stdout",
     "output_type": "stream",
     "text": [
      "[0, 10, 40, 90, 160]\n"
     ]
    }
   ],
   "source": [
    "# List Comprehension\n",
    "\n",
    "sq_10 = [x * 10 for x in sq]\n",
    "print(sq_10)"
   ]
  },
  {
   "cell_type": "code",
   "execution_count": 46,
   "metadata": {},
   "outputs": [
    {
     "name": "stdout",
     "output_type": "stream",
     "text": [
      "[90]\n",
      "[0, 1, 4, 9, 16]\n"
     ]
    }
   ],
   "source": [
    "# List Comprehension syntax: \n",
    "# list2 = [expression, for loop in list1, condition (optional)]\n",
    "\n",
    "num = [x * 10 for x in sq if x == 9]\n",
    "print(num)\n",
    "print(sq)"
   ]
  },
  {
   "cell_type": "code",
   "execution_count": 41,
   "metadata": {
    "scrolled": true
   },
   "outputs": [
    {
     "name": "stdout",
     "output_type": "stream",
     "text": [
      "[0, 1, 16, 81, 256, 625, 1296, 2401, 4096, 6561, 10000]\n"
     ]
    }
   ],
   "source": [
    "sq2 = [x ** 2 for x in [x ** 2 for x in range(11)]]\n",
    "print(sq2)"
   ]
  },
  {
   "cell_type": "code",
   "execution_count": 39,
   "metadata": {},
   "outputs": [
    {
     "name": "stdout",
     "output_type": "stream",
     "text": [
      "0 4\n",
      "1 6\n",
      "2 8\n",
      "3 9\n",
      "4 10\n"
     ]
    }
   ],
   "source": [
    "val = [4,6,8,9,10]\n",
    "\n",
    "for index, value in enumerate(val):\n",
    "    print(index, value)"
   ]
  },
  {
   "cell_type": "code",
   "execution_count": 38,
   "metadata": {},
   "outputs": [
    {
     "name": "stdout",
     "output_type": "stream",
     "text": [
      "0 john\n",
      "1 jane\n",
      "2 ram\n"
     ]
    }
   ],
   "source": [
    "names=['john','jane','ram']\n",
    "for index, value in enumerate(names):\n",
    "    print(index,value)"
   ]
  },
  {
   "cell_type": "code",
   "execution_count": 1,
   "metadata": {},
   "outputs": [
    {
     "name": "stdout",
     "output_type": "stream",
     "text": [
      "[1, 4, 9, 16, 25]\n"
     ]
    }
   ],
   "source": [
    "# use enumerate to generate both the index and the value associated with it\n",
    "\n",
    "num_list = [1, 2, 3, 4, 5]\n",
    "\n",
    "for index, value in enumerate(num_list):\n",
    "    num_list[index] = value ** 2\n",
    "\n",
    "print(num_list) "
   ]
  },
  {
   "cell_type": "code",
   "execution_count": 3,
   "metadata": {},
   "outputs": [
    {
     "name": "stdout",
     "output_type": "stream",
     "text": [
      "Please enter the rain fall in month 1\n"
     ]
    },
    {
     "name": "stdin",
     "output_type": "stream",
     "text": [
      " 3\n"
     ]
    },
    {
     "name": "stdout",
     "output_type": "stream",
     "text": [
      "Please enter the rain fall in month 2\n"
     ]
    },
    {
     "name": "stdin",
     "output_type": "stream",
     "text": [
      " 2\n"
     ]
    },
    {
     "name": "stdout",
     "output_type": "stream",
     "text": [
      "Please enter the rain fall in month 3\n"
     ]
    },
    {
     "name": "stdin",
     "output_type": "stream",
     "text": [
      " 1\n"
     ]
    }
   ],
   "source": [
    "i = 1\n",
    "months = ['January','February','March']\n",
    "monthly_rainfall = []\n",
    "total = 0\n",
    "#max_rain = 0\n",
    "#min_rain = 10000000000\n",
    "while i <= 3:\n",
    "    print('Please enter the rain fall in month', i)\n",
    "    rainfall = int(input())\n",
    "    total += rainfall \n",
    "    monthly_rainfall += [rainfall]\n",
    "    i += 1\n",
    "\n",
    "max_rain = max(monthly_rainfall)\n",
    "min_rain = min(monthly_rainfall)"
   ]
  },
  {
   "cell_type": "code",
   "execution_count": 4,
   "metadata": {},
   "outputs": [
    {
     "data": {
      "text/plain": [
       "3"
      ]
     },
     "execution_count": 4,
     "metadata": {},
     "output_type": "execute_result"
    }
   ],
   "source": [
    "max_rain"
   ]
  }
 ],
 "metadata": {
  "kernelspec": {
   "display_name": "Python 3",
   "language": "python",
   "name": "python3"
  },
  "language_info": {
   "codemirror_mode": {
    "name": "ipython",
    "version": 3
   },
   "file_extension": ".py",
   "mimetype": "text/x-python",
   "name": "python",
   "nbconvert_exporter": "python",
   "pygments_lexer": "ipython3",
   "version": "3.9.5"
  }
 },
 "nbformat": 4,
 "nbformat_minor": 4
}
