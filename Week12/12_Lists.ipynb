{
 "cells": [
  {
   "cell_type": "markdown",
   "id": "69634b5c",
   "metadata": {},
   "source": [
    "# Lists\n",
    "\n",
    "## Lists are Sequences of Values\n",
    "\n",
    "Concept: \n",
    "1. Sequence: A sequence is an object that contains multiple items of data. \n",
    "    - Various operations can be performed on the\n",
    "items stored in a sequence in Python.\n",
    "<br><br>\n",
    "2. List: A list is an object that contains multiple data items. \n",
    "    - Lists are mutable: contents can be changed during a program’s\n",
    "execution. \n",
    "    - Lists are dynamic data structures: you can add or remove items in lists.\n",
    "    - Various methods can be done on lists, ex., slicing, indexing, etc.\n",
    "\n",
    "Note: \n",
    "- In a String: values are characters\n",
    "    - A String is also a sequence, but it holds only one type of data - characters!\n",
    "- In a List: values can be any type (numeric, string, etc.)\n",
    "    - Unlike strings, lists are mutable\n",
    "- Values in lists: called **elements**, or **items**"
   ]
  },
  {
   "cell_type": "markdown",
   "id": "6a2c49bf",
   "metadata": {},
   "source": [
    "## Creating a list\n",
    "1. put elements inside square brackets [ ]"
   ]
  },
  {
   "cell_type": "code",
   "execution_count": 97,
   "id": "520a31ae",
   "metadata": {},
   "outputs": [
    {
     "name": "stdout",
     "output_type": "stream",
     "text": [
      "[10, 20, 30, 40]\n",
      "['ny strip', 'ribeye', 'sirloin']\n"
     ]
    }
   ],
   "source": [
    "# a list of integers \n",
    "nums = [10, 20, 30, 40]\n",
    "\n",
    "# a list of strings\n",
    "steak = ['ny strip', 'ribeye', 'sirloin']\n",
    "\n",
    "print(nums)\n",
    "print(steak)"
   ]
  },
  {
   "cell_type": "markdown",
   "id": "cda106dd",
   "metadata": {},
   "source": [
    "2. A list can hold different types"
   ]
  },
  {
   "cell_type": "code",
   "execution_count": 99,
   "id": "edf3bbbf",
   "metadata": {},
   "outputs": [
    {
     "name": "stdout",
     "output_type": "stream",
     "text": [
      "['Amy', 27, 1550.87]\n",
      "<class 'list'>\n",
      "<class 'str'>\n",
      "<class 'int'>\n",
      "<class 'float'>\n"
     ]
    }
   ],
   "source": [
    "info = ['Amy', 27, 1550.87]\n",
    "print(info)\n",
    "\n",
    "print(type(info))\n",
    "\n",
    "# let's see the type of each \n",
    "# item in the list\n",
    "print(type(info[0]))\n",
    "print(type(info[1]))\n",
    "print(type(info[2]))"
   ]
  },
  {
   "cell_type": "code",
   "execution_count": 21,
   "id": "7cf4d9fb",
   "metadata": {},
   "outputs": [
    {
     "data": {
      "text/plain": [
       "['spam', 2.0, 5, [10, 2.232]]"
      ]
     },
     "execution_count": 21,
     "metadata": {},
     "output_type": "execute_result"
    }
   ],
   "source": [
    "# you can even contain another list in a list\n",
    "['spam', 2.0, 5, [10, 2.232]]"
   ]
  },
  {
   "cell_type": "code",
   "execution_count": 101,
   "id": "a5cc5802",
   "metadata": {},
   "outputs": [
    {
     "name": "stdout",
     "output_type": "stream",
     "text": [
      "[]\n",
      "<class 'list'>\n"
     ]
    }
   ],
   "source": [
    "# you can also create an empty list\n",
    "empty_list = []\n",
    "print(empty_list)\n",
    "print(type(empty_list))"
   ]
  },
  {
   "cell_type": "markdown",
   "id": "e6c22bdd",
   "metadata": {},
   "source": [
    "3. Python has a built-in `list()` function and convert certain types of objects to lists.\n",
    "    - remember that `range()` creates an iterable"
   ]
  },
  {
   "cell_type": "code",
   "execution_count": 103,
   "id": "9b925a1f",
   "metadata": {},
   "outputs": [
    {
     "name": "stdout",
     "output_type": "stream",
     "text": [
      "[0, 1, 2, 3, 4, 5, 6, 7]\n",
      "<class 'list'>\n",
      "[1, 3, 5, 7, 9, 11, 13, 15, 17, 19]\n"
     ]
    }
   ],
   "source": [
    "# 1. range(8) generates an iterable sequence\n",
    "# 2. list() converts it to a list\n",
    "# 3. assign it to an object called numbers\n",
    "numbers = list(range(8))\n",
    "print(numbers)\n",
    "\n",
    "print(type(numbers))\n",
    "\n",
    "numbers = list(range(1,20,2))\n",
    "print(numbers)"
   ]
  },
  {
   "cell_type": "markdown",
   "id": "e6bd48cc",
   "metadata": {},
   "source": [
    "## The repetition operator\n",
    "\n",
    "The repetition operator makes multiple copies of a list and joins them all together. When the operand on the left side of the `*` symbol is a sequence (such as a list) and the operand on the right side is an integer, it becomes the repetition operator.\n",
    "\n",
    "- General format: `list * n`\n",
    "\n",
    "Note: Some programming languages allow you to create sequence structures known\n",
    "as `arrays`, which are similar to lists.\n",
    "You cannot create traditional arrays in Python because lists serve the same purpose and\n",
    "provide many more built-in capabilities."
   ]
  },
  {
   "cell_type": "code",
   "execution_count": 27,
   "id": "c91bc7d9",
   "metadata": {},
   "outputs": [
    {
     "name": "stdout",
     "output_type": "stream",
     "text": [
      "['Amy', 'Amy', 'Amy', 'Amy', 'Amy']\n",
      "[5, 5, 5, 5, 5]\n",
      "[[2, 3], [3, 4], [4, 5], [2, 3], [3, 4], [4, 5], [2, 3], [3, 4], [4, 5]]\n"
     ]
    }
   ],
   "source": [
    "name = ['Amy']*5\n",
    "print(name)\n",
    "\n",
    "nums = [5]*5\n",
    "print(nums)\n",
    "\n",
    "print([[2,3],[3,4],[4,5]]*3)\n"
   ]
  },
  {
   "cell_type": "code",
   "execution_count": 104,
   "id": "12e091d2",
   "metadata": {},
   "outputs": [
    {
     "data": {
      "text/plain": [
       "'CIS2300CIS2300CIS2300'"
      ]
     },
     "execution_count": 104,
     "metadata": {},
     "output_type": "execute_result"
    }
   ],
   "source": [
    "# similar to a string \n",
    "'CIS2300' * 3"
   ]
  },
  {
   "cell_type": "markdown",
   "id": "fce21013",
   "metadata": {},
   "source": [
    "### Iterating over a list with `for` loop\n",
    "You can access individual elements in list using `for` loop."
   ]
  },
  {
   "cell_type": "code",
   "execution_count": 105,
   "id": "9416a0d9",
   "metadata": {
    "scrolled": true
   },
   "outputs": [
    {
     "name": "stdout",
     "output_type": "stream",
     "text": [
      "1\n",
      "2\n",
      "3\n",
      "4\n",
      "5\n",
      "6\n",
      "7\n",
      "8\n"
     ]
    }
   ],
   "source": [
    "numbers = [1,2,3,4,5,6,7,8]\n",
    "for number in numbers:\n",
    "    print(number)"
   ]
  },
  {
   "cell_type": "code",
   "execution_count": 30,
   "id": "4a06e9f0",
   "metadata": {
    "scrolled": true
   },
   "outputs": [
    {
     "name": "stdout",
     "output_type": "stream",
     "text": [
      "c\n",
      "i\n",
      "s\n",
      "2\n",
      "3\n",
      "0\n",
      "0\n"
     ]
    }
   ],
   "source": [
    "# remember we did this with string?\n",
    "course = 'cis2300'\n",
    "for char in course:\n",
    "    print(char)"
   ]
  },
  {
   "cell_type": "markdown",
   "id": "370c749d",
   "metadata": {},
   "source": [
    "Note that, when using `for` loop. The `number` variable references a copy of an element from the numbers list as the loop iterates and does not touch the element itself.\n",
    "\n",
    "We cannot use the `number` variable to change the contents of an element in the list. If we change the value that `number` references in the loop, it has no effect on the list."
   ]
  },
  {
   "cell_type": "code",
   "execution_count": 106,
   "id": "fcdb0a6c",
   "metadata": {},
   "outputs": [
    {
     "name": "stdout",
     "output_type": "stream",
     "text": [
      "[1, 2, 3, 4, 5, 6, 7]\n"
     ]
    }
   ],
   "source": [
    "numbers = [1, 2, 3, 4, 5, 6, 7]\n",
    "for number in numbers: \n",
    "    number = 55\n",
    "print(numbers)"
   ]
  },
  {
   "cell_type": "markdown",
   "id": "ad7a11a6",
   "metadata": {},
   "source": [
    "### Indexing\n",
    "`index` is another way you can access the individual elements in a list. It starts at 0 and the index of last element in a list is 1 less than the number of elements in the list. "
   ]
  },
  {
   "cell_type": "code",
   "execution_count": 108,
   "id": "7f8e2cb0",
   "metadata": {},
   "outputs": [
    {
     "name": "stdout",
     "output_type": "stream",
     "text": [
      "10 20\n",
      "40\n",
      "10\n"
     ]
    }
   ],
   "source": [
    "numbers = [10, 20, 30, 40]\n",
    "print(numbers[0], numbers[1])\n",
    "\n",
    "# use negative index number\n",
    "print(numbers[-1])\n",
    "print(numbers[-4])"
   ]
  },
  {
   "cell_type": "markdown",
   "id": "bea5f596",
   "metadata": {},
   "source": [
    "`len` function can return the length of a sequence, such as a list."
   ]
  },
  {
   "cell_type": "code",
   "execution_count": 109,
   "id": "0b1c9b89",
   "metadata": {},
   "outputs": [
    {
     "data": {
      "text/plain": [
       "4"
      ]
     },
     "execution_count": 109,
     "metadata": {},
     "output_type": "execute_result"
    }
   ],
   "source": [
    "# len function \n",
    "numbers = [10, 20, 30, 40]\n",
    "len(numbers)"
   ]
  },
  {
   "cell_type": "code",
   "execution_count": 110,
   "id": "fcf5fd32",
   "metadata": {},
   "outputs": [
    {
     "data": {
      "text/plain": [
       "5"
      ]
     },
     "execution_count": 110,
     "metadata": {},
     "output_type": "execute_result"
    }
   ],
   "source": [
    "numbers = [10, 20, 30, [10,20],'string']\n",
    "len(numbers)"
   ]
  },
  {
   "cell_type": "markdown",
   "id": "f421a7c4",
   "metadata": {},
   "source": [
    "We can use a `while` loop to iterate by index over a list with `len` function."
   ]
  },
  {
   "cell_type": "code",
   "execution_count": 111,
   "id": "c0305626",
   "metadata": {},
   "outputs": [
    {
     "name": "stdout",
     "output_type": "stream",
     "text": [
      "10\n",
      "20\n",
      "30\n",
      "[10, 20]\n",
      "string\n"
     ]
    }
   ],
   "source": [
    "numbers = [10, 20, 30, [10,20],'string']\n",
    "index = 0 \n",
    "while index < len(numbers):\n",
    "    print(numbers[index])\n",
    "    index += 1"
   ]
  },
  {
   "cell_type": "markdown",
   "id": "b9298606",
   "metadata": {},
   "source": [
    "We can also Use a `for` loop to iterate by index over a list with `len` and `range` function."
   ]
  },
  {
   "cell_type": "code",
   "execution_count": 112,
   "id": "759ddaf2",
   "metadata": {},
   "outputs": [
    {
     "name": "stdout",
     "output_type": "stream",
     "text": [
      "10\n",
      "20\n",
      "30\n",
      "[10, 20]\n",
      "string\n"
     ]
    }
   ],
   "source": [
    "for index in range(len(numbers)):\n",
    "    # the index is: 0, 1, 2, 3, 5\n",
    "    print(numbers[index])"
   ]
  },
  {
   "cell_type": "markdown",
   "id": "05656cce",
   "metadata": {},
   "source": [
    "### Lists are mutable\n",
    "You can modify the elements in lists."
   ]
  },
  {
   "cell_type": "code",
   "execution_count": 113,
   "id": "80d646b4",
   "metadata": {},
   "outputs": [
    {
     "name": "stdout",
     "output_type": "stream",
     "text": [
      "1\n",
      "[101, 2, 3, 4, 5]\n"
     ]
    }
   ],
   "source": [
    "numbers = [1, 2, 3, 4, 5]\n",
    "print(numbers[0])\n",
    "\n",
    "numbers[0] = 101\n",
    "print(numbers)"
   ]
  },
  {
   "cell_type": "code",
   "execution_count": 116,
   "id": "c8661212",
   "metadata": {},
   "outputs": [
    {
     "name": "stdout",
     "output_type": "stream",
     "text": [
      "[0, 0, 0, 0, 0]\n",
      "[99, 99, 99, 99, 99]\n"
     ]
    }
   ],
   "source": [
    "# let's create a list and assign values to it\n",
    "# create  a list with 5 elements \n",
    "numbers = [0] * 5\n",
    "print(numbers)\n",
    "\n",
    "# fill the list with the value 99\n",
    "for index in range(len(numbers)):\n",
    "    numbers[index] = 99\n",
    "\n",
    "print(numbers)"
   ]
  },
  {
   "cell_type": "code",
   "execution_count": 147,
   "id": "4a8d7b57",
   "metadata": {},
   "outputs": [
    {
     "name": "stdout",
     "output_type": "stream",
     "text": [
      "Enter sales volume for Day #1: 1\n",
      "Enter sales volume for Day #2: 2\n",
      "Enter sales volume for Day #3: 3\n",
      "Enter sales volume for Day #4: 4\n",
      "Enter sales volume for Day #5: 5\n",
      "\n",
      "The sales volume is: \n",
      "1.0\n",
      "2.0\n",
      "3.0\n",
      "4.0\n",
      "5.0\n"
     ]
    }
   ],
   "source": [
    "#### let's create a program that \n",
    "# gets sales amount from the user and assigns them to a list\n",
    "\n",
    "# NUM_DAY is a global constant \n",
    "# how many days of sales data we will collect \n",
    "NUM_DAY = 5\n",
    "\n",
    "# define main function\n",
    "def main():\n",
    "    # create a list to hold the sales for each day\n",
    "    sales = [0]*NUM_DAY\n",
    "    # get user input for sales \n",
    "    for i in range(NUM_DAY):\n",
    "        sales_volume = float(input(f'Enter sales volume for Day #{i+1}: '))\n",
    "        sales[i] = sales_volume\n",
    "    # display the values entered \n",
    "    print(f'\\nThe sales volume is: ')\n",
    "    for value in sales:\n",
    "        print(value)\n",
    "\n",
    "# call the main function\n",
    "main()"
   ]
  },
  {
   "cell_type": "code",
   "execution_count": 41,
   "id": "894ecdb0",
   "metadata": {},
   "outputs": [
    {
     "name": "stdout",
     "output_type": "stream",
     "text": [
      "How many days of sales data do you have? 5\n",
      "Enter the sales volume for each day\n",
      "Day #12\n",
      "Day #22\n",
      "Day #32\n",
      "Day #42\n",
      "Day #52\n",
      "Here are the values you entered: \n",
      "2.0\n",
      "2.0\n",
      "2.0\n",
      "2.0\n",
      "2.0\n"
     ]
    }
   ],
   "source": [
    "# let's create a program that \n",
    "# gets sales amount from the user and assigns them to a list\n",
    "\n",
    "# NUM_DAY is a global constant \n",
    "# how many days of sales data\n",
    "NUM_DAY = int(input('How many days of sales data do you have? '))\n",
    "\n",
    "def main():\n",
    "    # create a list to hold the sales for each day\n",
    "    sales = [0] * NUM_DAY\n",
    "    print('Enter the sales volume for each day')\n",
    "    \n",
    "    # get user input for sales \n",
    "    for index in range(len(sales)):\n",
    "        sales[index] = float(input(f'Day #{index + 1}: '))\n",
    "    \n",
    "    # display the values entered \n",
    "    print('Here are the values you entered: ')\n",
    "    for value in sales:\n",
    "        print(value)\n",
    "\n",
    "# call the main function\n",
    "if __name__ == '__main__':\n",
    "    main()"
   ]
  },
  {
   "cell_type": "markdown",
   "id": "0c8a3e89",
   "metadata": {},
   "source": [
    "### Concatenating lists\n",
    "To join two lists together. You can use `+` operator to concatenate two lists. "
   ]
  },
  {
   "cell_type": "code",
   "execution_count": 43,
   "id": "1ac5ed86",
   "metadata": {},
   "outputs": [
    {
     "name": "stdout",
     "output_type": "stream",
     "text": [
      "[1, 2, 3, 5, 6, 7]\n"
     ]
    }
   ],
   "source": [
    "list1 = [1, 2, 3]\n",
    "list2 = [5, 6, 7]\n",
    "list3 = list1 + list2\n",
    "print(list3)"
   ]
  },
  {
   "cell_type": "code",
   "execution_count": 46,
   "id": "627440c3",
   "metadata": {},
   "outputs": [
    {
     "name": "stdout",
     "output_type": "stream",
     "text": [
      "['pizza', 'burger', 'dumpling', 'sushi', 'noodles', 'soup']\n"
     ]
    }
   ],
   "source": [
    "# create a list \n",
    "food = ['pizza', 'burger', 'dumpling']\n",
    "# add more items to the list/concatenate two lists\n",
    "food += ['sushi', 'noodles', 'soup']\n",
    "print(food)"
   ]
  },
  {
   "cell_type": "markdown",
   "id": "842131cb",
   "metadata": {},
   "source": [
    "## List slicing\n",
    "similar to how you slice strings. \n",
    "- General format: `name_of_a_list[start : end]`\n",
    "\n",
    "Note: Unlike indexing, invalid indexes do not cause slicing expressions to raise an exception. For\n",
    "example,\n",
    "1. If the end index specifies a position beyond the end of the list, Python will use the\n",
    "length of the list instead.\n",
    "2. If the start index specifies a position before the beginning of the list, Python will\n",
    "use 0 instead.\n",
    "3. If the start index is greater than the end index, the slicing expression will return\n",
    "an empty list."
   ]
  },
  {
   "cell_type": "code",
   "execution_count": 122,
   "id": "6975fb3f",
   "metadata": {},
   "outputs": [
    {
     "ename": "IndexError",
     "evalue": "list index out of range",
     "output_type": "error",
     "traceback": [
      "\u001b[1;31m---------------------------------------------------------------------------\u001b[0m",
      "\u001b[1;31mIndexError\u001b[0m                                Traceback (most recent call last)",
      "\u001b[1;32m<ipython-input-122-159abaa755c1>\u001b[0m in \u001b[0;36m<module>\u001b[1;34m\u001b[0m\n\u001b[0;32m      1\u001b[0m \u001b[0mnumbers\u001b[0m \u001b[1;33m=\u001b[0m \u001b[1;33m[\u001b[0m\u001b[1;36m1\u001b[0m\u001b[1;33m,\u001b[0m \u001b[1;36m2\u001b[0m\u001b[1;33m,\u001b[0m \u001b[1;36m3\u001b[0m\u001b[1;33m]\u001b[0m\u001b[1;33m\u001b[0m\u001b[1;33m\u001b[0m\u001b[0m\n\u001b[1;32m----> 2\u001b[1;33m \u001b[0mnumbers\u001b[0m\u001b[1;33m[\u001b[0m\u001b[1;36m3\u001b[0m\u001b[1;33m]\u001b[0m\u001b[1;33m\u001b[0m\u001b[1;33m\u001b[0m\u001b[0m\n\u001b[0m",
      "\u001b[1;31mIndexError\u001b[0m: list index out of range"
     ]
    }
   ],
   "source": [
    "numbers = [1, 2, 3]\n",
    "numbers[3]"
   ]
  },
  {
   "cell_type": "code",
   "execution_count": 124,
   "id": "dc3cf145",
   "metadata": {},
   "outputs": [
    {
     "data": {
      "text/plain": [
       "[]"
      ]
     },
     "execution_count": 124,
     "metadata": {},
     "output_type": "execute_result"
    }
   ],
   "source": [
    "# create a list\n",
    "letters = ['a', 'b', 'c', 'd', 'e', 'f']\n",
    "letters[1:3]"
   ]
  },
  {
   "cell_type": "code",
   "execution_count": 59,
   "id": "41388617",
   "metadata": {},
   "outputs": [
    {
     "data": {
      "text/plain": [
       "['a', 'b', 'c', 'd', 'e', 'f']"
      ]
     },
     "execution_count": 59,
     "metadata": {},
     "output_type": "execute_result"
    }
   ],
   "source": [
    "# if you leave out the start index in a slicing expression\n",
    "# Python uses 0 by default\n",
    "letters[:]"
   ]
  },
  {
   "cell_type": "code",
   "execution_count": 60,
   "id": "585521e2",
   "metadata": {},
   "outputs": [
    {
     "data": {
      "text/plain": [
       "['a', 'b']"
      ]
     },
     "execution_count": 60,
     "metadata": {},
     "output_type": "execute_result"
    }
   ],
   "source": [
    "# ending limit index, not inclusive\n",
    "letters[:2] "
   ]
  },
  {
   "cell_type": "code",
   "execution_count": 49,
   "id": "fedc28d0",
   "metadata": {},
   "outputs": [
    {
     "data": {
      "text/plain": [
       "['c', 'd', 'e', 'f']"
      ]
     },
     "execution_count": 49,
     "metadata": {},
     "output_type": "execute_result"
    }
   ],
   "source": [
    "letters[2:] "
   ]
  },
  {
   "cell_type": "code",
   "execution_count": 129,
   "id": "c03a955f",
   "metadata": {},
   "outputs": [
    {
     "name": "stdout",
     "output_type": "stream",
     "text": [
      "['a', 'b', 'c', 'd', 'e', 'f']\n"
     ]
    },
    {
     "data": {
      "text/plain": [
       "['b', 'd']"
      ]
     },
     "execution_count": 129,
     "metadata": {},
     "output_type": "execute_result"
    }
   ],
   "source": [
    "# step value\n",
    "print(letters)\n",
    "letters[1:5:2]"
   ]
  },
  {
   "cell_type": "code",
   "execution_count": 52,
   "id": "a6076e67",
   "metadata": {},
   "outputs": [
    {
     "data": {
      "text/plain": [
       "['b', 'c', 'd', 'e']"
      ]
     },
     "execution_count": 52,
     "metadata": {},
     "output_type": "execute_result"
    }
   ],
   "source": [
    "# you can also use negative numbers as indexes\n",
    "letters[1:-1]"
   ]
  },
  {
   "cell_type": "code",
   "execution_count": 65,
   "id": "ed73221b",
   "metadata": {},
   "outputs": [
    {
     "data": {
      "text/plain": [
       "['b', 'c', 'd', 'e', 'f']"
      ]
     },
     "execution_count": 65,
     "metadata": {},
     "output_type": "execute_result"
    }
   ],
   "source": [
    "letters[-5:]"
   ]
  },
  {
   "cell_type": "code",
   "execution_count": 53,
   "id": "8f18ae50",
   "metadata": {},
   "outputs": [
    {
     "data": {
      "text/plain": [
       "['b', 'c', 'd', 'e']"
      ]
     },
     "execution_count": 53,
     "metadata": {},
     "output_type": "execute_result"
    }
   ],
   "source": [
    "letters[-5:-1]"
   ]
  },
  {
   "cell_type": "code",
   "execution_count": 54,
   "id": "b85648b5",
   "metadata": {},
   "outputs": [
    {
     "name": "stdout",
     "output_type": "stream",
     "text": [
      "['a', 'x', 'y', 'd', 'e', 'f']\n"
     ]
    }
   ],
   "source": [
    "# updating multiple elements of lists with slicing:\n",
    "letters = ['a', 'b', 'c', 'd', 'e', 'f']\n",
    "letters[1:3] = ['x', 'y']\n",
    "print(letters)"
   ]
  },
  {
   "cell_type": "markdown",
   "id": "02501863",
   "metadata": {},
   "source": [
    "### Find an item in lists using `in` operator\n",
    "Use the `in` operator to determine whether an item is contained in a list."
   ]
  },
  {
   "cell_type": "code",
   "execution_count": 131,
   "id": "b1189768",
   "metadata": {},
   "outputs": [
    {
     "name": "stdout",
     "output_type": "stream",
     "text": [
      "True\n",
      "True\n",
      "a is in the list\n"
     ]
    }
   ],
   "source": [
    "letters = ['a', 'b', 'c', 'd', 'e', 'f']\n",
    "\n",
    "# in operator\n",
    "print('a' in letters)\n",
    "\n",
    "# not in operator \n",
    "print('z' not in letters)\n",
    "\n",
    "if 'a' in letters:\n",
    "    print('a is in the list')\n",
    "else: \n",
    "    print('a is not in the list')"
   ]
  },
  {
   "cell_type": "markdown",
   "id": "99fd8928",
   "metadata": {},
   "source": [
    "## List methods\n",
    "Lists have numerous methods to work with the elements. Python also provides some built-in functions that are\n",
    "useful for working with lists.\n",
    "- `append`: adds items to the end of the list. \n",
    "- `extend`: add items to the end of the list through a new list, similar to `+` operator.\n",
    "- `index (index, item)`: returns the index of the first element whose value is equal to item. A ValueError exception is raised if item is not found in the list.\n",
    "- `insert`: Inserts item into the list at the specified index. When an item is inserted into a list, the list is expanded in size to accommodate the new item.\n",
    "- `sort`: Sorts the items in the list so they appear in ascending order (from the lowest value to the highest value).\n",
    "- `remove(item)`: Removes the first occurrence of item from the list. A ValueError exception is raised if item is not found in the list. \n",
    "- `reverse()`: reverses the order of the items in the list."
   ]
  },
  {
   "cell_type": "markdown",
   "id": "84304867",
   "metadata": {},
   "source": [
    "### `append()` & `extend()`"
   ]
  },
  {
   "cell_type": "code",
   "execution_count": 132,
   "id": "3d650bbf",
   "metadata": {
    "scrolled": true
   },
   "outputs": [
    {
     "name": "stdout",
     "output_type": "stream",
     "text": [
      "['noodles', 'burger', 'steak', 'dumpling']\n"
     ]
    }
   ],
   "source": [
    "# append() adds new element to end of a list:\n",
    "food = ['noodles', 'burger', 'steak']\n",
    "food.append('dumpling')\n",
    "print(food)"
   ]
  },
  {
   "cell_type": "code",
   "execution_count": 74,
   "id": "bf59ae1e",
   "metadata": {},
   "outputs": [
    {
     "name": "stdout",
     "output_type": "stream",
     "text": [
      "['noodles', 'burger', 'steak', 'd', 'u', 'm', 'p', 'l', 'i', 'n', 'g']\n"
     ]
    }
   ],
   "source": [
    "# extend() can also adds new element\n",
    "food = ['noodles', 'burger', 'steak']\n",
    "food.extend('dumpling') # wrong way\n",
    "print(food)"
   ]
  },
  {
   "cell_type": "code",
   "execution_count": 42,
   "id": "bb07d87a",
   "metadata": {},
   "outputs": [
    {
     "name": "stdout",
     "output_type": "stream",
     "text": [
      "['noodles', 'burger', 'steak', 'dumpling']\n"
     ]
    }
   ],
   "source": [
    "food = ['noodles', 'burger', 'steak']\n",
    "food.extend(['dumpling']) # correct way\n",
    "print(food)"
   ]
  },
  {
   "cell_type": "code",
   "execution_count": 134,
   "id": "ed62cc3b",
   "metadata": {},
   "outputs": [
    {
     "name": "stdout",
     "output_type": "stream",
     "text": [
      "['noodles', 'burger', 'steak', 'dumpling']\n"
     ]
    }
   ],
   "source": [
    "# same as the + operator\n",
    "food = ['noodles', 'burger', 'steak']\n",
    "food += ['dumpling']\n",
    "print(food)"
   ]
  },
  {
   "cell_type": "markdown",
   "id": "46bfa5a7",
   "metadata": {},
   "source": [
    "#### Other methods\n",
    "\n",
    "- `index()`: Help to locate where the item is in a list. You pass an argument to the index method,\n",
    "and it returns the index of the first element in the list containing that item. If the item is\n",
    "not found in the list, the method raises a *ValueError* exception.\n",
    "\n",
    "- `insert()`: insert an item into a list at a specific position. You pass two arguments to the insert method: an index specifying where the item should be inserted and the item that you want to insert.\n",
    "\n",
    "Note: [More about how to use Exceptions](https://docs.python.org/3/tutorial/errors.html)"
   ]
  },
  {
   "cell_type": "code",
   "execution_count": 136,
   "id": "8e1f0140",
   "metadata": {},
   "outputs": [
    {
     "name": "stdout",
     "output_type": "stream",
     "text": [
      "['noodles', 'burger', 'steak', 'dumpling']\n",
      "steak\n"
     ]
    }
   ],
   "source": [
    "# index()\n",
    "print(food)\n",
    "food.index('steak')\n",
    "print(food[2])"
   ]
  },
  {
   "cell_type": "code",
   "execution_count": 138,
   "id": "023b33e6",
   "metadata": {
    "scrolled": true
   },
   "outputs": [
    {
     "name": "stdout",
     "output_type": "stream",
     "text": [
      "Here are the items in the food list: \n",
      "['Pizza', 'Burger', 'Chips']\n",
      "Which item should I change? Banana\n",
      "The item was not found in the list.\n"
     ]
    }
   ],
   "source": [
    "# this is program that demonstrates the use of index()\n",
    "\n",
    "def main():\n",
    "    # create a list with some items \n",
    "    food = ['Pizza', 'Burger', 'Chips']\n",
    "    # display the list \n",
    "    print('Here are the items in the food list: ')\n",
    "    print(food)\n",
    "    \n",
    "    # get the item to change \n",
    "    item = input('Which item should I change? ')\n",
    "    \n",
    "    try: \n",
    "        # get the item's index in the list\n",
    "        item_index = food.index(item)\n",
    "        \n",
    "        # get the value to replace it with\n",
    "        new_item = input('Enter the new value: ')\n",
    "        \n",
    "        # replace the old item with the new item \n",
    "        food[item_index] = new_item\n",
    "        \n",
    "        # display the list \n",
    "        print('Here is the revised list: ')\n",
    "        print(food)\n",
    "        \n",
    "    except ValueError: # can handle selected exception\n",
    "        print('The item was not found in the list.')\n",
    "        \n",
    "# call main function\n",
    "if __name__ == '__main__':\n",
    "    main()"
   ]
  },
  {
   "cell_type": "code",
   "execution_count": 141,
   "id": "a3e1832f",
   "metadata": {},
   "outputs": [
    {
     "name": "stdout",
     "output_type": "stream",
     "text": [
      "['noodles', 'burger', 'steak', 'dumpling', 'shrimp']\n"
     ]
    }
   ],
   "source": [
    "# insert()\n",
    "food = ['noodles', 'burger', 'steak', 'dumpling']\n",
    "food.insert(2, 'shrimp')\n",
    "print(food)"
   ]
  },
  {
   "cell_type": "code",
   "execution_count": 142,
   "id": "ce76d18c",
   "metadata": {
    "scrolled": true
   },
   "outputs": [
    {
     "name": "stdout",
     "output_type": "stream",
     "text": [
      "The list before the insert is: \n",
      "['ramen', 'burger', 'steak', 'dumpling']\n",
      "The list after the insert is: \n",
      "['taco', 'ramen', 'burger', 'steak', 'dumpling']\n"
     ]
    }
   ],
   "source": [
    "# this program demonstrates the insert method \n",
    "def main():\n",
    "    \n",
    "    # create a food list\n",
    "    food = ['ramen', 'burger', 'steak', 'dumpling']\n",
    "    \n",
    "    # display the list \n",
    "    print('The list before the insert is: ')\n",
    "    print(food)\n",
    "    \n",
    "    # insert a new food at element 0\n",
    "    food.insert(0,'taco')\n",
    "    \n",
    "    # display the list again\n",
    "    print('The list after the insert is: ')\n",
    "    print(food)\n",
    "    \n",
    "# call the main function\n",
    "if __name__ == '__main__':\n",
    "    main()"
   ]
  },
  {
   "cell_type": "markdown",
   "id": "42bee143",
   "metadata": {},
   "source": [
    "- `sort()`: make list in ascending order. \n",
    "- `remove()`: the first element containing the argument is removed, all elements after the remvoed one are sifited one position toward the begining of the list.\n",
    "- `reverse()`: reverse order of the items"
   ]
  },
  {
   "cell_type": "code",
   "execution_count": 150,
   "id": "3d9b9d9f",
   "metadata": {},
   "outputs": [
    {
     "name": "stdout",
     "output_type": "stream",
     "text": [
      "[2, 3, 3, 4, 8, 9, 10, 11, 23]\n"
     ]
    }
   ],
   "source": [
    "# sort method rearranges the elements of a list in ascending order\n",
    "numbers = [10, 23, 2, 8, 3, 4, 3, 11, 9]\n",
    "numbers.sort()\n",
    "print(numbers)"
   ]
  },
  {
   "cell_type": "code",
   "execution_count": 151,
   "id": "1b1fc590",
   "metadata": {},
   "outputs": [
    {
     "name": "stdout",
     "output_type": "stream",
     "text": [
      "['burger', 'dumpling', 'ramen', 'steak', 'taco']\n"
     ]
    }
   ],
   "source": [
    "# sort() sorts strings with the initial letter\n",
    "food  = ['taco', 'ramen', 'burger', 'steak', 'dumpling']\n",
    "food.sort()\n",
    "print(food)"
   ]
  },
  {
   "cell_type": "code",
   "execution_count": 2,
   "id": "fc507419",
   "metadata": {},
   "outputs": [
    {
     "name": "stdout",
     "output_type": "stream",
     "text": [
      "['taco', 'burger', 'steak', 'dumpling']\n"
     ]
    }
   ],
   "source": [
    "# remove()\n",
    "food  = ['taco', 'ramen', 'burger', 'steak', 'dumpling']\n",
    "food.remove('ramen')\n",
    "print(food)"
   ]
  },
  {
   "cell_type": "code",
   "execution_count": 3,
   "id": "96556ff8",
   "metadata": {},
   "outputs": [
    {
     "name": "stdout",
     "output_type": "stream",
     "text": [
      "[4, 3, 2, 1]\n"
     ]
    }
   ],
   "source": [
    "# reverse()\n",
    "numbers = [1, 2, 3, 4]\n",
    "numbers.reverse()\n",
    "print(numbers)"
   ]
  },
  {
   "cell_type": "code",
   "execution_count": 4,
   "id": "97815971",
   "metadata": {},
   "outputs": [
    {
     "name": "stdout",
     "output_type": "stream",
     "text": [
      "['dumpling', 'steak', 'burger', 'ramen', 'taco']\n"
     ]
    }
   ],
   "source": [
    "food  = ['taco', 'ramen', 'burger', 'steak', 'dumpling']\n",
    "food.reverse()\n",
    "print(food)"
   ]
  },
  {
   "cell_type": "markdown",
   "id": "d8c8fd60",
   "metadata": {},
   "source": [
    "#### `del` statement\n",
    "`remove()` can remove a specific item from a list. What if you want to remove an item with a given index?\n",
    "You can use the `del`."
   ]
  },
  {
   "cell_type": "code",
   "execution_count": 14,
   "id": "f027a42b",
   "metadata": {},
   "outputs": [
    {
     "name": "stdout",
     "output_type": "stream",
     "text": [
      "['taco', 'ramen', 'steak', 'dumpling']\n"
     ]
    }
   ],
   "source": [
    "food  = ['taco', 'ramen', 'burger', 'steak', 'dumpling']\n",
    "# remove the thrid item, 'burger'\n",
    "del food[2]\n",
    "print(food)"
   ]
  },
  {
   "cell_type": "code",
   "execution_count": 15,
   "id": "43ac268a",
   "metadata": {},
   "outputs": [
    {
     "name": "stdout",
     "output_type": "stream",
     "text": [
      "['steak', 'dumpling']\n"
     ]
    }
   ],
   "source": [
    "# I want to delete both the 1st and 2nd element\n",
    "# will this give me the correct result?\n",
    "food  = ['taco', 'ramen', 'burger', 'steak', 'dumpling']\n",
    "del food[0],food[1]\n"
   ]
  },
  {
   "cell_type": "markdown",
   "id": "d45cd71a",
   "metadata": {},
   "source": [
    "### The `min` and `max` functions\n",
    "These are not methods."
   ]
  },
  {
   "cell_type": "code",
   "execution_count": 29,
   "id": "3e47f4ac",
   "metadata": {},
   "outputs": [
    {
     "name": "stdout",
     "output_type": "stream",
     "text": [
      "The lowest value is 1\n",
      "The largest value is 5\n"
     ]
    }
   ],
   "source": [
    "numbers = [1, 2, 3, 4, 5]\n",
    "print('The lowest value is', min(numbers))\n",
    "print('The largest value is', max(numbers))"
   ]
  },
  {
   "cell_type": "code",
   "execution_count": 28,
   "id": "1722637f",
   "metadata": {},
   "outputs": [
    {
     "name": "stdout",
     "output_type": "stream",
     "text": [
      "burger\n",
      "taco\n"
     ]
    }
   ],
   "source": [
    "food  = ['taco', 'ramen', 'burger', 'steak', 'dumpling']\n",
    "print(min(food))\n",
    "print(max(food))"
   ]
  },
  {
   "cell_type": "markdown",
   "id": "9d66bd9e",
   "metadata": {},
   "source": [
    "### Copying lists\n",
    "Key: copy the list's elements. "
   ]
  },
  {
   "cell_type": "code",
   "execution_count": 49,
   "id": "6345e227",
   "metadata": {},
   "outputs": [
    {
     "name": "stdout",
     "output_type": "stream",
     "text": [
      "[1, 2, 3, 4]\n"
     ]
    }
   ],
   "source": [
    "numbers1 = [1, 2, 3, 4]\n",
    "# both numbers2 and numbers1 refer to \n",
    "# the same list in memory\n",
    "numbers2 = numbers1\n",
    "print(numbers2)"
   ]
  },
  {
   "cell_type": "code",
   "execution_count": 31,
   "id": "79f8a75d",
   "metadata": {},
   "outputs": [
    {
     "name": "stdout",
     "output_type": "stream",
     "text": [
      "[1, 2, 3, 4]\n"
     ]
    }
   ],
   "source": [
    "# copy list with loop\n",
    "numbers1 = [1, 2, 3, 4]\n",
    "numbers2 = []\n",
    "\n",
    "for item in numbers1:\n",
    "    numbers2.append(item)\n",
    "\n",
    "print(numbers2)"
   ]
  },
  {
   "cell_type": "code",
   "execution_count": 33,
   "id": "ffb90240",
   "metadata": {},
   "outputs": [
    {
     "name": "stdout",
     "output_type": "stream",
     "text": [
      "[1, 2, 3, 4]\n"
     ]
    }
   ],
   "source": [
    "# copy list with + \n",
    "numebrs1 = [1, 2, 3, 4]\n",
    "numbers2 = [] + numbers1\n",
    "print(numbers2)"
   ]
  },
  {
   "cell_type": "code",
   "execution_count": 66,
   "id": "f968a420",
   "metadata": {},
   "outputs": [
    {
     "name": "stdout",
     "output_type": "stream",
     "text": [
      "[1, 2, 3, 4]\n"
     ]
    }
   ],
   "source": [
    "# copy list with extend \n",
    "numbers1 = [1, 2, 3, 4]\n",
    "numbers2 = []\n",
    "for item in numbers1:\n",
    "    numbers2.extend([item])\n",
    "    \n",
    "print(numbers2)"
   ]
  },
  {
   "cell_type": "code",
   "execution_count": 68,
   "id": "f82a607d",
   "metadata": {},
   "outputs": [
    {
     "name": "stdout",
     "output_type": "stream",
     "text": [
      "['taco', 'ramen', 'burger', 'steak', 'dumpling']\n"
     ]
    }
   ],
   "source": [
    "# copy list with extend\n",
    "food  = ['taco', 'ramen', 'burger', 'steak', 'dumpling']\n",
    "food_copy = []\n",
    "\n",
    "for item in food:\n",
    "    food_copy.extend([item])\n",
    "    \n",
    "print(food_copy)"
   ]
  },
  {
   "cell_type": "markdown",
   "id": "889cb8fd",
   "metadata": {},
   "source": [
    "### Processing Lists\n",
    "#### Coding practice #1\n",
    "Let's write a program. This program can let the user enter # of hours worked by each employee and display the gross pay of all employees. \n",
    "1. For each employee: get # of hours and store in a list\n",
    "2. Use the stored value to calculate an employee's gross pay. \n",
    "3. Display gross pay"
   ]
  },
  {
   "cell_type": "code",
   "execution_count": 70,
   "id": "1193abd5",
   "metadata": {},
   "outputs": [
    {
     "name": "stdout",
     "output_type": "stream",
     "text": [
      "Enter the hourly pay rate: 1\n",
      "How many hours does employee #1 work today: 1\n",
      "How many hours does employee #2 work today: 2\n",
      "How many hours does employee #3 work today: 3\n",
      "How many hours does employee #4 work today: 4\n",
      "How many hours does employee #5 work today: 5\n",
      "How many hours does employee #6 work today: 6\n",
      "\n",
      "The gross pay for employee #1 is 1.0.\n",
      "\n",
      "The gross pay for employee #2 is 2.0.\n",
      "\n",
      "The gross pay for employee #3 is 3.0.\n",
      "\n",
      "The gross pay for employee #4 is 4.0.\n",
      "\n",
      "The gross pay for employee #5 is 5.0.\n",
      "\n",
      "The gross pay for employee #6 is 6.0.\n"
     ]
    }
   ],
   "source": [
    "# program for calculating gross pay\n",
    "\n",
    "# define number of employee as global constant \n",
    "NUM_EMPLOYEE = 6\n",
    "\n",
    "def main():\n",
    "    # list to store hours of each person \n",
    "    hours = [0] * NUM_EMPLOYEE\n",
    "    gross = [0] * NUM_EMPLOYEE\n",
    "    \n",
    "    # enter the pay rate per hour\n",
    "    pay_rate = float(input('Enter the hourly pay rate: '))\n",
    "    \n",
    "    # get time and calculate pay\n",
    "    for i in range(NUM_EMPLOYEE):\n",
    "        # get worked hours\n",
    "        hours[i] = float(input(f'How many hours does employee #{i+1} work today: '))\n",
    "        # calculate gross pay\n",
    "        gross[i] = hours[i] * pay_rate\n",
    "    \n",
    "    for i in range(NUM_EMPLOYEE):\n",
    "        print(f\"\\nThe gross pay for employee #{i+1} is {gross[i]}.\")\n",
    "    \n",
    "# call main function\n",
    "if __name__ == '__main__':\n",
    "    main()"
   ]
  },
  {
   "cell_type": "markdown",
   "id": "f67c710e",
   "metadata": {},
   "source": [
    "#### Coding practice #2\n",
    "Let's write a program to total the value in a list"
   ]
  },
  {
   "cell_type": "code",
   "execution_count": 73,
   "id": "be29f605",
   "metadata": {},
   "outputs": [
    {
     "name": "stdout",
     "output_type": "stream",
     "text": [
      "The total of the elements in list [100, 200, 300, 400, 500] is 1500.\n"
     ]
    }
   ],
   "source": [
    "# total the value in a given list\n",
    "def main():\n",
    "    # create a list \n",
    "    numbers = [100, 200, 300, 400, 500]\n",
    "    \n",
    "    # create an accumulator\n",
    "    total = 0\n",
    "    \n",
    "    for value in numbers:\n",
    "        total += value\n",
    "        \n",
    "    print(f'The total of the elements in list {numbers} is {total}.')\n",
    "    \n",
    "# call main \n",
    "if __name__ == '__main__':\n",
    "    main()"
   ]
  },
  {
   "cell_type": "markdown",
   "id": "c9e82871",
   "metadata": {},
   "source": [
    "#### Coding practice #4\n",
    "Averaging the values in a list"
   ]
  },
  {
   "cell_type": "code",
   "execution_count": 75,
   "id": "eb3e749d",
   "metadata": {},
   "outputs": [
    {
     "name": "stdout",
     "output_type": "stream",
     "text": [
      "The average of the list [2.5, 7.3, 12.4] is 7.400000000000001.\n"
     ]
    }
   ],
   "source": [
    "def main():\n",
    "    # create a list \n",
    "    scores = [2.5, 7.3, 12.4]\n",
    "    \n",
    "    # create an accumulator\n",
    "    total = 0\n",
    "    \n",
    "    # calculate total\n",
    "    for value in scores:\n",
    "        total += value\n",
    "    \n",
    "    average = total/len(scores)\n",
    "    \n",
    "    print(f\"The average of the list {scores} is {average}.\")\n",
    "    \n",
    "# call main\n",
    "if __name__ == '__main__':\n",
    "    main()"
   ]
  },
  {
   "cell_type": "markdown",
   "id": "d82012d1",
   "metadata": {},
   "source": [
    "#### Passing a list as an argument to a fucntion\n",
    "Let's write a program that uses a function to calculate the total of values in a list"
   ]
  },
  {
   "cell_type": "code",
   "execution_count": 114,
   "id": "271366dc",
   "metadata": {},
   "outputs": [
    {
     "name": "stdout",
     "output_type": "stream",
     "text": [
      "The total is 10.\n"
     ]
    }
   ],
   "source": [
    "# define main \n",
    "def main():\n",
    "    # create a list\n",
    "    numbers = [1,2,3,4]\n",
    "    \n",
    "    # display the total of list elements\n",
    "    print(f'The total is {get_total(numbers)}.')\n",
    "    \n",
    "# get_total function\n",
    "def get_total(list_name):\n",
    "    # create accumulator for totaling\n",
    "    total = 0\n",
    "    \n",
    "    # calculate \n",
    "    for value in list_name:\n",
    "        total += value\n",
    "    # return the total\n",
    "    return(total)\n",
    "        \n",
    "# call main function\n",
    "if __name__ == '__main__':\n",
    "    main()"
   ]
  },
  {
   "cell_type": "code",
   "execution_count": 109,
   "id": "f929a1fc",
   "metadata": {},
   "outputs": [
    {
     "name": "stdout",
     "output_type": "stream",
     "text": [
      "The entered argument is not list.\n",
      "The total is None.\n"
     ]
    }
   ],
   "source": [
    "# define main \n",
    "def main():\n",
    "    # create a list\n",
    "    numbers = 2\n",
    "    \n",
    "    # display the total of list elements\n",
    "    print(f'The total is {get_total(numbers)}.')\n",
    "    \n",
    "# get_total function\n",
    "def get_total(list_name):\n",
    "    # create accumulator for totaling\n",
    "    total = 0\n",
    "    \n",
    "    # calculate \n",
    "    if type(list_name) == list:\n",
    "        for value in list_name:\n",
    "            total += value\n",
    "        # return the total\n",
    "        return(total)\n",
    "    else:\n",
    "        print('Error: The entered argument is not list.')\n",
    "        \n",
    "# call main function\n",
    "if __name__ == '__main__':\n",
    "    main()"
   ]
  },
  {
   "cell_type": "code",
   "execution_count": 113,
   "id": "1c1af076",
   "metadata": {},
   "outputs": [
    {
     "name": "stdout",
     "output_type": "stream",
     "text": [
      "Error: The entered argument is not list.\n",
      "The total is None.\n"
     ]
    }
   ],
   "source": [
    "# define main \n",
    "def main():\n",
    "    # create a list\n",
    "    numbers = 2\n",
    "    \n",
    "    # display the total of list elements\n",
    "    print(f'The total is {get_total(numbers)}.')\n",
    "    \n",
    "# get_total function\n",
    "def get_total(list_name):\n",
    "    # create accumulator for totaling\n",
    "    total = 0\n",
    "    \n",
    "    # calculate \n",
    "    try:\n",
    "        for value in list_name:\n",
    "            total += value\n",
    "        # return the total\n",
    "        return(total)\n",
    "    except TypeError:\n",
    "        print('Error: The entered argument is not list.')\n",
    "        \n",
    "# call main function\n",
    "if __name__ == '__main__':\n",
    "    main()"
   ]
  },
  {
   "cell_type": "markdown",
   "id": "ee98243a",
   "metadata": {},
   "source": [
    "#### Returning a list from a function\n",
    "You can write a function to create a list and add element to it."
   ]
  },
  {
   "cell_type": "code",
   "execution_count": 116,
   "id": "f18e9781",
   "metadata": {},
   "outputs": [
    {
     "name": "stdout",
     "output_type": "stream",
     "text": [
      "Enter a number: 1\n",
      "Do you want to continue adding number?\n",
      "y = yes, anything else = no: 2\n",
      "\n",
      "The numbers in the list are: \n",
      "[1]\n"
     ]
    }
   ],
   "source": [
    "# this program collect values and create a list\n",
    "\n",
    "def main():\n",
    "    # get a list with values stored in it\n",
    "    numbers = get_values()\n",
    "    \n",
    "    # display the values in the list\n",
    "    print('The numbers in the list are: ')\n",
    "    print(numbers)\n",
    "    \n",
    "# get_values function \n",
    "# get values and store them in list\n",
    "# returns a list\n",
    "def get_values():\n",
    "    # create an empty list\n",
    "    values = []\n",
    "    \n",
    "    # create a variable to control the loop\n",
    "    Continue = 'y'\n",
    "    \n",
    "    # get user input\n",
    "    while Continue == 'y':\n",
    "        num = int(input('Enter a number: '))\n",
    "        # add the number to the list\n",
    "        values.append(num)\n",
    "        \n",
    "        print('Do you want to continue adding number?')\n",
    "        Continue = input('y = yes, anything else = no: ')\n",
    "        print()\n",
    "    # return the list\n",
    "    return values\n",
    "\n",
    "# call the main function\n",
    "if __name__ == '__main__':\n",
    "    main()"
   ]
  },
  {
   "cell_type": "markdown",
   "id": "781d3e7d",
   "metadata": {},
   "source": [
    "### Randomly selecting list elements\n",
    "- Use the `choice` function in the `random` module to randomly pick 1 item\n",
    "- Use the `choices` function to randomly pick `k` items\n",
    "- Use the `sample` function for sampling unique items"
   ]
  },
  {
   "cell_type": "code",
   "execution_count": 118,
   "id": "0cf4d82d",
   "metadata": {},
   "outputs": [
    {
     "name": "stdout",
     "output_type": "stream",
     "text": [
      "Today I want to eat steak!\n"
     ]
    }
   ],
   "source": [
    "import random\n",
    "food  = ['taco', 'ramen', 'burger', 'steak', 'dumpling']\n",
    "food_today = random.choice(food)\n",
    "print(f\"Today I want to eat {food_today}!\")"
   ]
  },
  {
   "cell_type": "code",
   "execution_count": 127,
   "id": "18e383c5",
   "metadata": {},
   "outputs": [
    {
     "name": "stdout",
     "output_type": "stream",
     "text": [
      "['burger', 'steak']\n",
      "Today I want to eat burger and steak!\n"
     ]
    }
   ],
   "source": [
    "food_today = random.choices(food, k = 2)\n",
    "print(food_today)\n",
    "print(f\"Today I want to eat {food_today[0]} and {food_today[1]}!\")"
   ]
  },
  {
   "cell_type": "code",
   "execution_count": 132,
   "id": "c6c6f3d1",
   "metadata": {
    "scrolled": true
   },
   "outputs": [
    {
     "name": "stdout",
     "output_type": "stream",
     "text": [
      "Help on method choices in module random:\n",
      "\n",
      "choices(population, weights=None, *, cum_weights=None, k=1) method of random.Random instance\n",
      "    Return a k sized list of population elements chosen with replacement.\n",
      "    \n",
      "    If the relative weights or cumulative weights are not specified,\n",
      "    the selections are made with equal probability.\n",
      "\n"
     ]
    }
   ],
   "source": [
    "help(random.choices)"
   ]
  },
  {
   "cell_type": "code",
   "execution_count": 140,
   "id": "ce0ac5d2",
   "metadata": {},
   "outputs": [
    {
     "data": {
      "text/plain": [
       "[2, 2]"
      ]
     },
     "execution_count": 140,
     "metadata": {},
     "output_type": "execute_result"
    }
   ],
   "source": [
    "# choices sometimes returns duplicate items\n",
    "# if you want unique elements from sample\n",
    "# use the sample function\n",
    "numbers = [1, 1, 1, 1, 1, 2, 2, 2, 2, 2]\n",
    "\n",
    "random.choices(numbers, k = 2)\n",
    "\n",
    "random.sample(numbers, k = 2)"
   ]
  },
  {
   "cell_type": "code",
   "execution_count": 141,
   "id": "837f8850",
   "metadata": {},
   "outputs": [
    {
     "name": "stdout",
     "output_type": "stream",
     "text": [
      "Help on method sample in module random:\n",
      "\n",
      "sample(population, k, *, counts=None) method of random.Random instance\n",
      "    Chooses k unique random elements from a population sequence or set.\n",
      "    \n",
      "    Returns a new list containing elements from the population while\n",
      "    leaving the original population unchanged.  The resulting list is\n",
      "    in selection order so that all sub-slices will also be valid random\n",
      "    samples.  This allows raffle winners (the sample) to be partitioned\n",
      "    into grand prize and second place winners (the subslices).\n",
      "    \n",
      "    Members of the population need not be hashable or unique.  If the\n",
      "    population contains repeats, then each occurrence is a possible\n",
      "    selection in the sample.\n",
      "    \n",
      "    Repeated elements can be specified one at a time or with the optional\n",
      "    counts parameter.  For example:\n",
      "    \n",
      "        sample(['red', 'blue'], counts=[4, 2], k=5)\n",
      "    \n",
      "    is equivalent to:\n",
      "    \n",
      "        sample(['red', 'red', 'red', 'red', 'blue', 'blue'], k=5)\n",
      "    \n",
      "    To choose a sample from a range of integers, use range() for the\n",
      "    population argument.  This is especially fast and space efficient\n",
      "    for sampling from a large population:\n",
      "    \n",
      "        sample(range(10000000), 60)\n",
      "\n"
     ]
    }
   ],
   "source": [
    "help(random.sample)"
   ]
  },
  {
   "cell_type": "markdown",
   "id": "c266f4cd",
   "metadata": {},
   "source": [
    "### Working with lists and files\n",
    "- `writelines` method writes an entire list of strings to a file\n",
    "- `open` function open a file in your drive\n",
    "- `write` method writes a string to the file\n",
    "- `readlines` method returns a file's contents as a list of strings"
   ]
  },
  {
   "cell_type": "code",
   "execution_count": 145,
   "id": "bf539d5f",
   "metadata": {},
   "outputs": [],
   "source": [
    "food  = ['taco', 'ramen', 'burger', 'steak', 'dumpling']\n",
    "\n",
    "# open the txt file for writing\n",
    "outfile = open('food.txt', mode = 'w')\n",
    "# write lines in txt file\n",
    "outfile.writelines(food)\n",
    "# close the file\n",
    "outfile.close()"
   ]
  },
  {
   "cell_type": "code",
   "execution_count": 147,
   "id": "cf54ecac",
   "metadata": {},
   "outputs": [],
   "source": [
    "# if you want seperator, can use loop\n",
    "\n",
    "food  = ['taco', 'ramen', 'burger', 'steak', 'dumpling']\n",
    "\n",
    "outfile = open('food.txt', mode = 'w')\n",
    "\n",
    "for item in food:\n",
    "    outfile.write(item + '\\n')\n",
    "    \n",
    "# close the file \n",
    "outfile.close()"
   ]
  },
  {
   "cell_type": "markdown",
   "id": "f483282f",
   "metadata": {},
   "source": [
    "### List Comprehensions\n",
    "- A list comprehension is a concise expression that creates a new list by\n",
    "iterating over the elements of an existing list.\n",
    "- The general form is: `[result_expression iteration_expression]`"
   ]
  },
  {
   "cell_type": "code",
   "execution_count": 149,
   "id": "1b85bc5a",
   "metadata": {},
   "outputs": [
    {
     "name": "stdout",
     "output_type": "stream",
     "text": [
      "[1, 2, 3, 4]\n"
     ]
    }
   ],
   "source": [
    "list1 = [1, 2, 3, 4]\n",
    "list2 = [item for item in list1]\n",
    "print(list2)"
   ]
  },
  {
   "cell_type": "markdown",
   "id": "c6ae02ea",
   "metadata": {},
   "source": [
    "The first `item` is result expression, `for item in list1` is the iteration expression"
   ]
  },
  {
   "cell_type": "code",
   "execution_count": 151,
   "id": "d4f68ff1",
   "metadata": {},
   "outputs": [
    {
     "name": "stdout",
     "output_type": "stream",
     "text": [
      "[4, 16, 36, 64]\n"
     ]
    }
   ],
   "source": [
    "list1 = [2, 4, 6, 8]\n",
    "list2 = []\n",
    "\n",
    "for item in list1:\n",
    "    list2.append(item**2)\n",
    "\n",
    "print(list2)"
   ]
  },
  {
   "cell_type": "code",
   "execution_count": 152,
   "id": "76b66b3f",
   "metadata": {},
   "outputs": [
    {
     "name": "stdout",
     "output_type": "stream",
     "text": [
      "[4, 16, 36, 64]\n"
     ]
    }
   ],
   "source": [
    "list1 = [2, 4, 6, 8]\n",
    "list2 = [item**2 for item in list1]\n",
    "print(list2)"
   ]
  },
  {
   "cell_type": "code",
   "execution_count": 153,
   "id": "b726d645",
   "metadata": {},
   "outputs": [
    {
     "name": "stdout",
     "output_type": "stream",
     "text": [
      "[4, 5, 6, 5, 8]\n"
     ]
    }
   ],
   "source": [
    "food  = ['taco', 'ramen', 'burger', 'steak', 'dumpling']\n",
    "food_length = [len(item) for item in food]\n",
    "print(food_length)"
   ]
  },
  {
   "cell_type": "markdown",
   "id": "7ea2c26e",
   "metadata": {},
   "source": [
    "#### Using `if` in list comprehension\n",
    "The if statement that appears inside the for loop causes the code to append only the elements\n",
    "that satisfy a specific condition."
   ]
  },
  {
   "cell_type": "code",
   "execution_count": 154,
   "id": "f302dba3",
   "metadata": {},
   "outputs": [
    {
     "name": "stdout",
     "output_type": "stream",
     "text": [
      "[1, 2]\n"
     ]
    }
   ],
   "source": [
    "list1 = [1, 2, 3, 4]\n",
    "list2 = [item for item in list1 if item < 3]\n",
    "print(list2)"
   ]
  },
  {
   "cell_type": "code",
   "execution_count": 155,
   "id": "d044e450",
   "metadata": {},
   "outputs": [
    {
     "data": {
      "text/plain": [
       "['steak']"
      ]
     },
     "execution_count": 155,
     "metadata": {},
     "output_type": "execute_result"
    }
   ],
   "source": [
    "food  = ['taco', 'ramen', 'burger', 'steak', 'dumpling']\n",
    "food_today = [item for item in food if item == 'steak']\n",
    "food_today"
   ]
  },
  {
   "cell_type": "code",
   "execution_count": 161,
   "id": "e53e0888",
   "metadata": {},
   "outputs": [
    {
     "data": {
      "text/plain": [
       "[4, 5, 6, 5, 8]"
      ]
     },
     "execution_count": 161,
     "metadata": {},
     "output_type": "execute_result"
    }
   ],
   "source": [
    "[len(item) for item in food]"
   ]
  },
  {
   "cell_type": "code",
   "execution_count": 158,
   "id": "6a7025c5",
   "metadata": {},
   "outputs": [
    {
     "name": "stdout",
     "output_type": "stream",
     "text": [
      "5\n"
     ]
    },
    {
     "data": {
      "text/plain": [
       "['dumpling']"
      ]
     },
     "execution_count": 158,
     "metadata": {},
     "output_type": "execute_result"
    }
   ],
   "source": [
    "food  = ['taco', 'ramen', 'burger', 'steak', 'dumpling']\n",
    "food_today = [item for item in food if len(item) > 6]\n",
    "food_today"
   ]
  },
  {
   "cell_type": "markdown",
   "id": "e1023786",
   "metadata": {},
   "source": [
    "### Two-dimensional lists\n",
    "- A two-dimensional list is a list that has other lists as its elements. \n",
    "- Lists of lists are also known as nested lists, or two-dimensional lists. \n",
    "- It is common to think of a two-dimensional list as having rows and columns of elements, like a matrix\n",
    "- Two-dimensional lists are useful for working with multiple sets of data."
   ]
  },
  {
   "cell_type": "code",
   "execution_count": 168,
   "id": "e5509a56",
   "metadata": {},
   "outputs": [],
   "source": [
    "letters = [['A', 'B', 'C'],\n",
    "         ['D', 'E', 'F'],\n",
    "         ['G', 'H', 'I']]"
   ]
  },
  {
   "cell_type": "code",
   "execution_count": 169,
   "id": "c6d8dd1c",
   "metadata": {},
   "outputs": [
    {
     "data": {
      "text/plain": [
       "['A', 'B', 'C']"
      ]
     },
     "execution_count": 169,
     "metadata": {},
     "output_type": "execute_result"
    }
   ],
   "source": [
    "letters[0]"
   ]
  },
  {
   "cell_type": "code",
   "execution_count": 174,
   "id": "6355d8e0",
   "metadata": {},
   "outputs": [
    {
     "data": {
      "text/plain": [
       "['D', 'E', 'F']"
      ]
     },
     "execution_count": 174,
     "metadata": {},
     "output_type": "execute_result"
    }
   ],
   "source": [
    "letters[1]"
   ]
  },
  {
   "cell_type": "code",
   "execution_count": 172,
   "id": "b05c5773",
   "metadata": {},
   "outputs": [
    {
     "data": {
      "text/plain": [
       "'B'"
      ]
     },
     "execution_count": 172,
     "metadata": {},
     "output_type": "execute_result"
    }
   ],
   "source": [
    "letters[0][1]"
   ]
  },
  {
   "cell_type": "markdown",
   "id": "23aea76f",
   "metadata": {},
   "source": [
    "## Tuples\n",
    "- A tuple is an immutable sequence, which means that its contents cannot\n",
    "be changed.\n",
    "\n",
    "- In fact, tuples support all the same operations as lists, except those that change the contentsof the list.\n",
    "    - Subscript indexing (for retrieving element values only)\n",
    "    - Methods such as index\n",
    "    - Built-in functions such as len, min, and max\n",
    "    - The in operator\n",
    "    - The + and * operators\n",
    "    \n",
    "- Tuples do not support methods such as append, remove, insert, reverse, and sort.\n",
    "\n",
    "- Why tuples?\n",
    "    - Processing a tuple is faster than processing a list\n",
    "    - Tuples are safe, cannot be modified\n",
    "\n",
    "Note:\n",
    "- If you want to create a tuple with just one element, you must write a trailing comma after the element’s value, otherwise, it will create an integer. `the_tuple = (1,)`"
   ]
  },
  {
   "cell_type": "code",
   "execution_count": 175,
   "id": "547b84fd",
   "metadata": {},
   "outputs": [
    {
     "name": "stdout",
     "output_type": "stream",
     "text": [
      "('taco', 'ramen', 'burger', 'steak', 'dumpling')\n"
     ]
    }
   ],
   "source": [
    "food_tuple = ('taco', 'ramen', 'burger', 'steak', 'dumpling')\n",
    "print(food_tuple)"
   ]
  },
  {
   "cell_type": "code",
   "execution_count": 176,
   "id": "3894ba77",
   "metadata": {},
   "outputs": [
    {
     "name": "stdout",
     "output_type": "stream",
     "text": [
      "taco\n",
      "ramen\n",
      "burger\n",
      "steak\n",
      "dumpling\n"
     ]
    }
   ],
   "source": [
    "for food in food_tuple:\n",
    "    print(food)"
   ]
  },
  {
   "cell_type": "markdown",
   "id": "9c776525",
   "metadata": {},
   "source": [
    "### Converting between lists and tuples\n",
    "You can use the built-in `list()` function to convert a tuple to a list, and the built-in `tuple()`\n",
    "function to convert a list to a tuple."
   ]
  },
  {
   "cell_type": "code",
   "execution_count": 178,
   "id": "5f6f5016",
   "metadata": {},
   "outputs": [
    {
     "data": {
      "text/plain": [
       "['taco', 'ramen', 'burger', 'steak', 'dumpling']"
      ]
     },
     "execution_count": 178,
     "metadata": {},
     "output_type": "execute_result"
    }
   ],
   "source": [
    "food_tuple = ('taco', 'ramen', 'burger', 'steak', 'dumpling')\n",
    "list(food_tuple)"
   ]
  },
  {
   "cell_type": "code",
   "execution_count": 179,
   "id": "f5b54560",
   "metadata": {},
   "outputs": [
    {
     "data": {
      "text/plain": [
       "('taco', 'ramen', 'burger', 'steak', 'dumpling')"
      ]
     },
     "execution_count": 179,
     "metadata": {},
     "output_type": "execute_result"
    }
   ],
   "source": [
    "food = ['taco', 'ramen', 'burger', 'steak', 'dumpling']\n",
    "tuple(food)"
   ]
  },
  {
   "cell_type": "code",
   "execution_count": 181,
   "id": "6e8dbabc",
   "metadata": {},
   "outputs": [
    {
     "name": "stdout",
     "output_type": "stream",
     "text": [
      "<class 'tuple'>\n"
     ]
    }
   ],
   "source": [
    "t = ()\n",
    "print(type(t))"
   ]
  },
  {
   "cell_type": "code",
   "execution_count": 183,
   "id": "b8e8f423",
   "metadata": {},
   "outputs": [
    {
     "name": "stdout",
     "output_type": "stream",
     "text": [
      "<class 'tuple'>\n"
     ]
    }
   ],
   "source": [
    "t = 1,2,3,4\n",
    "print(type(t))"
   ]
  },
  {
   "cell_type": "markdown",
   "id": "992f18c1",
   "metadata": {},
   "source": [
    "## Weekly Quizzes\n",
    "\n",
    "There is no weekly assignment this week.\n",
    "\n",
    "CodeLab Quizzes (due date: May 6th)\n",
    "- List\n",
    "    - list initialization/creation\n",
    "    - list indexing\n",
    "    - list-slicing/splicing/concatenation"
   ]
  }
 ],
 "metadata": {
  "kernelspec": {
   "display_name": "Python 3",
   "language": "python",
   "name": "python3"
  },
  "language_info": {
   "codemirror_mode": {
    "name": "ipython",
    "version": 3
   },
   "file_extension": ".py",
   "mimetype": "text/x-python",
   "name": "python",
   "nbconvert_exporter": "python",
   "pygments_lexer": "ipython3",
   "version": "3.9.5"
  }
 },
 "nbformat": 4,
 "nbformat_minor": 5
}
