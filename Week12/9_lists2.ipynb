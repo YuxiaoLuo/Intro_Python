{
 "cells": [
  {
   "cell_type": "code",
   "execution_count": null,
   "metadata": {},
   "outputs": [],
   "source": [
    "# Aliasing and Functions\n",
    "# Recursion \n",
    "# Nested lists, Matrices\n",
    "# Accessing elements in Nested List"
   ]
  },
  {
   "cell_type": "code",
   "execution_count": 1,
   "metadata": {},
   "outputs": [
    {
     "name": "stdout",
     "output_type": "stream",
     "text": [
      "None\n",
      "[1, 2, 3]\n"
     ]
    }
   ],
   "source": [
    "def list_slice(a):\n",
    "    a = a[1:]\n",
    "\n",
    "x = [1, 2, 3]\n",
    "print(list_slice(x)) # will print \"None\" because list_slice is a void function \n",
    "print(x)    # x has not changed"
   ]
  },
  {
   "cell_type": "code",
   "execution_count": 3,
   "metadata": {},
   "outputs": [
    {
     "name": "stdout",
     "output_type": "stream",
     "text": [
      "[2, 3]\n",
      "[1, 2, 3]\n"
     ]
    }
   ],
   "source": [
    "def list_slice(a):\n",
    "    b = a[1:]\n",
    "    return b\n",
    "\n",
    "x = [1, 2, 3]\n",
    "print(list_slice(x))\n",
    "print(x)     # x has not changed"
   ]
  },
  {
   "cell_type": "code",
   "execution_count": 4,
   "metadata": {},
   "outputs": [
    {
     "name": "stdout",
     "output_type": "stream",
     "text": [
      "None\n",
      "[2, 3]\n"
     ]
    }
   ],
   "source": [
    "def modify_list(a):\n",
    "    del a[0]\n",
    "    #a.append(4)\n",
    "    #a[0]=5\n",
    "\n",
    "x = [1, 2, 3]\n",
    "print(modify_list(x)) \n",
    "print(x)    # x has changed"
   ]
  },
  {
   "cell_type": "code",
   "execution_count": 8,
   "metadata": {},
   "outputs": [
    {
     "name": "stdout",
     "output_type": "stream",
     "text": [
      "[3]\n",
      "New list:\n",
      "[2, 3]\n"
     ]
    }
   ],
   "source": [
    "def mod_list(a):\n",
    "    del a[0]\n",
    "    b = a[1:]\n",
    "    return b\n",
    "\n",
    "x = [1, 2, 3]\n",
    "print(mod_list(x))\n",
    "print('New list:', x, sep = '\\n')    \n",
    "# x has changed (due to the del command, but not due to the slicing)"
   ]
  },
  {
   "cell_type": "markdown",
   "metadata": {},
   "source": [
    "Exercise: <br>\n",
    "1) Write a function takes in a list and a multiplication factor as arguments and multipies each element of the original list by the multiplication factor.  For example, [1,2,3] becomes [10,20,30] if the multiplication factor is 10.<br>\n",
    "2) Write a function takes in a list and a multiplication factor as arguments and returns a list with the elements of the original list multiplied by the multiplication factor without modifying the original list.  <br>"
   ]
  },
  {
   "cell_type": "code",
   "execution_count": 10,
   "metadata": {},
   "outputs": [
    {
     "name": "stdout",
     "output_type": "stream",
     "text": [
      "[10, 20, 30]\n",
      "[10, 20, 30]\n"
     ]
    }
   ],
   "source": [
    "# solution for exercise above\n",
    "\n",
    "def mul_list(x, m):\n",
    "    for index, value in enumerate(x):\n",
    "        x[index]*=m\n",
    "    return x\n",
    "\n",
    "x=[1,2,3]\n",
    "print(mul_list(x, 10))\n",
    "print(x)"
   ]
  },
  {
   "cell_type": "code",
   "execution_count": 11,
   "metadata": {},
   "outputs": [
    {
     "name": "stdout",
     "output_type": "stream",
     "text": [
      "[10, 20, 30]\n",
      "[1, 2, 3]\n"
     ]
    }
   ],
   "source": [
    "# solution for exercise above\n",
    "\n",
    "def mul_list2(x, m):\n",
    "    newlist=[]\n",
    "    for val in x:\n",
    "        newlist.append(m*val)\n",
    "    return newlist\n",
    "\n",
    "x=[1,2,3]\n",
    "print(mul_list2(x, 10))\n",
    "print(x)"
   ]
  },
  {
   "cell_type": "code",
   "execution_count": 15,
   "metadata": {},
   "outputs": [
    {
     "name": "stdout",
     "output_type": "stream",
     "text": [
      "[[1, 2, 3], [4, 5, 6], [7, 8, 9]]\n",
      "[4, 5, 6]\n",
      "6\n"
     ]
    }
   ],
   "source": [
    "# Nested lists can be thought of as matrices (rows and columns)\n",
    "\n",
    "mx = [[1,2,3], [4,5,6], [7,8,9]]\n",
    "# mx has three rows and three columns\n",
    "# each list can be thought of as a row\n",
    "\n",
    "# mx can also by entered as shown below to make it read better.\n",
    "\n",
    "mx=[[1,2,3],\n",
    "    [4,5,6],\n",
    "    [7,8,9]]\n",
    "\n",
    "print(mx)\n",
    "print(mx[1])  # access rows\n",
    "print(mx[1][2]) # access a specific element - item on the second row, third column"
   ]
  },
  {
   "cell_type": "code",
   "execution_count": 1,
   "metadata": {},
   "outputs": [
    {
     "name": "stdout",
     "output_type": "stream",
     "text": [
      "[[34, 0, 0], [0, 0, 0]] \n",
      "\n",
      "[[34, 89, 0], [0, 0, 0]] \n",
      "\n",
      "[[34, 89, 27], [0, 0, 0]] \n",
      "\n",
      "[[34, 89, 27], [13, 0, 0]] \n",
      "\n",
      "[[34, 89, 27], [13, 26, 0]] \n",
      "\n",
      "[[34, 89, 27], [13, 26, 25]] \n",
      "\n",
      "[[34, 89, 27], [13, 26, 25]]\n"
     ]
    }
   ],
   "source": [
    "# generating a nested list with random values\n",
    "\n",
    "import random\n",
    "\n",
    "ROW = 2\n",
    "COL = 3\n",
    "\n",
    "mx2 = [[0, 0, 0],\n",
    "       [0, 0, 0]]\n",
    "\n",
    "for i in range(ROW):\n",
    "    for j in range(COL):\n",
    "        mx2[i][j] = random.randint(1, 100)\n",
    "        print(mx2, '\\n')\n",
    "    \n",
    "print(mx2)"
   ]
  },
  {
   "cell_type": "code",
   "execution_count": 3,
   "metadata": {},
   "outputs": [
    {
     "name": "stdout",
     "output_type": "stream",
     "text": [
      "[[28], [], []] \n",
      "\n",
      "[[28, 39], [], []] \n",
      "\n",
      "[[28, 39, 97], [], []] \n",
      "\n",
      "[[28, 39, 97, 95], [], []] \n",
      "\n",
      "[[28, 39, 97, 95], [9], []] \n",
      "\n",
      "[[28, 39, 97, 95], [9, 17], []] \n",
      "\n",
      "[[28, 39, 97, 95], [9, 17, 61], []] \n",
      "\n",
      "[[28, 39, 97, 95], [9, 17, 61, 99], []] \n",
      "\n",
      "[[28, 39, 97, 95], [9, 17, 61, 99], [95]] \n",
      "\n",
      "[[28, 39, 97, 95], [9, 17, 61, 99], [95, 94]] \n",
      "\n",
      "[[28, 39, 97, 95], [9, 17, 61, 99], [95, 94, 70]] \n",
      "\n",
      "[[28, 39, 97, 95], [9, 17, 61, 99], [95, 94, 70, 2]] \n",
      "\n",
      "\n",
      " [[28, 39, 97, 95], [9, 17, 61, 99], [95, 94, 70, 2]]\n"
     ]
    }
   ],
   "source": [
    "# generating a nested list with random values\n",
    "\n",
    "import random\n",
    "\n",
    "ROW = 3\n",
    "COL = 4\n",
    "\n",
    "val = [[], \n",
    "       [],\n",
    "       []]\n",
    "\n",
    "for row in range(ROW): # 3 rows\n",
    "    for col in range(COL): # 4 cols\n",
    "        val[row].append(random.randint(1, 100)) \n",
    "        print(val, '\\n')\n",
    "\n",
    "print('\\n',val)"
   ]
  },
  {
   "cell_type": "code",
   "execution_count": 95,
   "metadata": {},
   "outputs": [
    {
     "name": "stdout",
     "output_type": "stream",
     "text": [
      "\n",
      " [[97, 45, 10, 80, 75], [8, 89, 9, 74, 43], [59, 30, 83, 95, 17], [90, 25, 4, 81, 52]]\n"
     ]
    }
   ],
   "source": [
    "# generating a nested list with random numbers\n",
    "\n",
    "import random\n",
    "\n",
    "ROW = 4\n",
    "COL = 5\n",
    "\n",
    "matrix = []\n",
    "for i in range(ROW):\n",
    "    rows = []\n",
    "    for h in range(COL):\n",
    "        rows.append(random.randint(1,100))\n",
    "    matrix.append(rows)\n",
    "    #print('\\n', matrix)\n",
    "print('\\n',matrix)"
   ]
  },
  {
   "cell_type": "code",
   "execution_count": 96,
   "metadata": {
    "scrolled": true
   },
   "outputs": [
    {
     "name": "stdout",
     "output_type": "stream",
     "text": [
      "\n",
      "Row 0 \n",
      "\n",
      "Column index:  0  Randomized num:  54\n",
      "[54] \n",
      "\n",
      "Column index:  1  Randomized num:  43\n",
      "[54, 43] \n",
      "\n",
      "Column index:  2  Randomized num:  41\n",
      "[54, 43, 41] \n",
      "\n",
      "Column index:  3  Randomized num:  81\n",
      "[54, 43, 41, 81] \n",
      "\n",
      "Column index:  4  Randomized num:  7\n",
      "[54, 43, 41, 81, 7] \n",
      "\n",
      "\n",
      "Matrix: [[54, 43, 41, 81, 7]] \n",
      "\n",
      "\n",
      "Row 1 \n",
      "\n",
      "Column index:  0  Randomized num:  84\n",
      "[84] \n",
      "\n",
      "Column index:  1  Randomized num:  18\n",
      "[84, 18] \n",
      "\n",
      "Column index:  2  Randomized num:  3\n",
      "[84, 18, 3] \n",
      "\n",
      "Column index:  3  Randomized num:  28\n",
      "[84, 18, 3, 28] \n",
      "\n",
      "Column index:  4  Randomized num:  20\n",
      "[84, 18, 3, 28, 20] \n",
      "\n",
      "\n",
      "Matrix: [[54, 43, 41, 81, 7], [84, 18, 3, 28, 20]] \n",
      "\n",
      "\n",
      "Row 2 \n",
      "\n",
      "Column index:  0  Randomized num:  47\n",
      "[47] \n",
      "\n",
      "Column index:  1  Randomized num:  57\n",
      "[47, 57] \n",
      "\n",
      "Column index:  2  Randomized num:  83\n",
      "[47, 57, 83] \n",
      "\n",
      "Column index:  3  Randomized num:  96\n",
      "[47, 57, 83, 96] \n",
      "\n",
      "Column index:  4  Randomized num:  13\n",
      "[47, 57, 83, 96, 13] \n",
      "\n",
      "\n",
      "Matrix: [[54, 43, 41, 81, 7], [84, 18, 3, 28, 20], [47, 57, 83, 96, 13]] \n",
      "\n",
      "\n",
      "Row 3 \n",
      "\n",
      "Column index:  0  Randomized num:  87\n",
      "[87] \n",
      "\n",
      "Column index:  1  Randomized num:  86\n",
      "[87, 86] \n",
      "\n",
      "Column index:  2  Randomized num:  88\n",
      "[87, 86, 88] \n",
      "\n",
      "Column index:  3  Randomized num:  21\n",
      "[87, 86, 88, 21] \n",
      "\n",
      "Column index:  4  Randomized num:  100\n",
      "[87, 86, 88, 21, 100] \n",
      "\n",
      "\n",
      "Matrix: [[54, 43, 41, 81, 7], [84, 18, 3, 28, 20], [47, 57, 83, 96, 13], [87, 86, 88, 21, 100]] \n",
      "\n",
      "[[54, 43, 41, 81, 7], [84, 18, 3, 28, 20], [47, 57, 83, 96, 13], [87, 86, 88, 21, 100]]\n"
     ]
    }
   ],
   "source": [
    "# generating a nested list with random numbers\n",
    "\n",
    "import random\n",
    "\n",
    "ROW = 4\n",
    "COL = 5\n",
    "\n",
    "matrix = []\n",
    "\n",
    "for i in range(ROW):\n",
    "    print('\\nRow', i, '\\n')\n",
    "    rows = []\n",
    "    for h in range(COL):\n",
    "        x = random.randint(1,100)\n",
    "        print('Column index: ', h, ' Randomized num: ', x)\n",
    "        rows.append(x)\n",
    "        print(rows, '\\n')\n",
    "    matrix.append(rows)\n",
    "    print('\\nMatrix:', matrix, '\\n')\n",
    "\n",
    "print(matrix)"
   ]
  }
 ],
 "metadata": {
  "kernelspec": {
   "display_name": "Python 3",
   "language": "python",
   "name": "python3"
  },
  "language_info": {
   "codemirror_mode": {
    "name": "ipython",
    "version": 3
   },
   "file_extension": ".py",
   "mimetype": "text/x-python",
   "name": "python",
   "nbconvert_exporter": "python",
   "pygments_lexer": "ipython3",
   "version": "3.8.8"
  }
 },
 "nbformat": 4,
 "nbformat_minor": 4
}
