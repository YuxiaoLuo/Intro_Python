{
 "cells": [
  {
   "cell_type": "markdown",
   "metadata": {},
   "source": [
    "# Variables, Expressions, and Statements"
   ]
  },
  {
   "cell_type": "markdown",
   "metadata": {},
   "source": [
    "## Variable\n",
    "\n",
    "- a name that represents a value stored in the computer memory.\n",
    "- used to access and manipulate data stored in memory.  \n",
    "- references the value it represents.\n",
    "\n",
    "    - Assignment statement is used to create a variable and make it reference data \n",
    "    - General format is Variable = Expression\n",
    "    - Example: age = 29\n",
    "    - Assignment operator: the equal sign (=)"
   ]
  },
  {
   "cell_type": "markdown",
   "metadata": {},
   "source": [
    "## Constants\n",
    "\n",
    "#### Fixed values that do not change\n",
    "    Examples of Numeric constants: 10, 5.5\n",
    "    Examples of String constants: 'hello'"
   ]
  },
  {
   "cell_type": "markdown",
   "metadata": {},
   "source": [
    "## Operators & Operands\n",
    "\n",
    "#### Operators: \n",
    "    special symbols that represent computations such as addition and multiplication. \n",
    "###### `+    -    *    /     **     //     %`\n",
    "<br>\n",
    "<br>\n",
    "\n",
    "#### Operands:\n",
    "    The values the operator is applied to"
   ]
  },
  {
   "cell_type": "markdown",
   "metadata": {},
   "source": [
    "## Order of Operations\n",
    "\n",
    "#### PEMDAS\n",
    "\n",
    "- **P** arantheses: 1st\n",
    "- **E** xponentiation: 2nd\n",
    "- **M** ultiplication: 3rd\n",
    "- **D** ivision: 3rd\n",
    "- **A** ddition: 4th\n",
    "- **S** ubtraction: 4th\n",
    "\n",
    "Operators with same precedence are evaluated from left to right <br>\n",
    "If unsure, use parantheses to make computation order clear"
   ]
  },
  {
   "cell_type": "markdown",
   "metadata": {},
   "source": [
    "## String Operations\n",
    "- `+`: performs concatenation, meaning joining strings together by linking them end to end\n",
    "- `*`: performs repetition"
   ]
  },
  {
   "cell_type": "code",
   "execution_count": 1,
   "metadata": {},
   "outputs": [
    {
     "name": "stdout",
     "output_type": "stream",
     "text": [
      "throat warbler\n"
     ]
    }
   ],
   "source": [
    "first = 'throat '\n",
    "second = 'warbler'\n",
    "print(first + second)"
   ]
  },
  {
   "cell_type": "code",
   "execution_count": 2,
   "metadata": {},
   "outputs": [
    {
     "name": "stdout",
     "output_type": "stream",
     "text": [
      "Spam Spam Spam \n"
     ]
    }
   ],
   "source": [
    "word = 'Spam '\n",
    "print(word*3)"
   ]
  },
  {
   "cell_type": "markdown",
   "metadata": {},
   "source": [
    "## Expressions\n",
    "a combination of values, variables, and operators\n",
    "- a value or a variable by itself, is considered an expression\n",
    "    + `17`\n",
    "    + `x`\n",
    "    + `x + 17`\n"
   ]
  },
  {
   "cell_type": "markdown",
   "metadata": {},
   "source": [
    "## Statements\n",
    "units of code that Python can execute\n",
    "- e.g: print statements, input statements, and assignment statements"
   ]
  },
  {
   "cell_type": "markdown",
   "metadata": {},
   "source": [
    "## Formatting Floating-Point Numbers:\n",
    "- `print(format(number, '.2f')` 2 decimal places, f means floating point numbers\n",
    "- `print(format(number, 'e'))` exponent\n",
    "- `print(format(number, '.2e'))`  two decimal places with exponent\n",
    "- `print(format(number, ',.2f'))` comma separators & 2 decimal places\n",
    "- `print(format(0.5, '%'))` percentage\n",
    "- `print(format(0.5, '.0%'))` 0 as the precision - no decimal places \n",
    "- `print(format(number, '12,.2f'))` 12 spaces wide, with comma separator, and 2 decimal places"
   ]
  },
  {
   "cell_type": "code",
   "execution_count": 26,
   "metadata": {},
   "outputs": [
    {
     "name": "stdout",
     "output_type": "stream",
     "text": [
      "85.71%\n"
     ]
    }
   ],
   "source": [
    "print(format(30/35, '.2%'))\n",
    "# reformat so that the output rounds the percentage to a whole number"
   ]
  },
  {
   "cell_type": "code",
   "execution_count": 23,
   "metadata": {},
   "outputs": [
    {
     "name": "stdout",
     "output_type": "stream",
     "text": [
      "The monthly payment is 416.6666666666667\n"
     ]
    }
   ],
   "source": [
    "amount_due = 5000\n",
    "monthly_payment = amount_due/12\n",
    "print('The monthly payment is', monthly_payment)\n",
    "# reformat so that the monthly_payment is shown with only 2 decimal points"
   ]
  },
  {
   "cell_type": "markdown",
   "metadata": {},
   "source": [
    "## Formatting Integers:\n",
    "- `d` type designator\n",
    "- `print(format(123456, 'd'))` : no special formatting\n",
    "- `print(format(123456, ',d'))` : comma separator\n",
    "- `print(format(123456, '10,d'))`: 10 spaces wide, with comma sep"
   ]
  },
  {
   "cell_type": "markdown",
   "metadata": {},
   "source": [
    "## Homework\n",
    "### Weekly Assignment 3\n",
    "\n",
    "- **Objective**: The objective of this assignment is to be able to write code to get input from the user, perform calculations, and display formatted output\n",
    "\n",
    "- **Type**:This is an Individual assignment and should reflect individual work. Please see the section on Academic integrity in the syllabus.\n",
    "\n",
    "- **Questions**:Please read the instruction in Bb for the quesitons details, there are 5 questions in total. \n",
    "\n",
    "### Weekly Quizz (CodeLab)\n",
    "\n",
    "- Arithmetic, Variables, Assignment\n",
    "    - Assignment of variables\n",
    "    \n",
    "- Strings\n",
    "    - Assignment and literals"
   ]
  }
 ],
 "metadata": {
  "kernelspec": {
   "display_name": "Python 3",
   "language": "python",
   "name": "python3"
  },
  "language_info": {
   "codemirror_mode": {
    "name": "ipython",
    "version": 3
   },
   "file_extension": ".py",
   "mimetype": "text/x-python",
   "name": "python",
   "nbconvert_exporter": "python",
   "pygments_lexer": "ipython3",
   "version": "3.9.5"
  }
 },
 "nbformat": 4,
 "nbformat_minor": 4
}
