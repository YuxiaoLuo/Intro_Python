{
 "cells": [
  {
   "cell_type": "markdown",
   "metadata": {},
   "source": [
    "### Assignment 2.2\n",
    "\n",
    "\n",
    "1. Write a Tipper program with the following features:\n",
    "    - The program first asks the user to enter a restaurant bill amount (before tax). \n",
    "    - The program then displays 3 dollar amounts for a 15% tip, an 18% tip, and a 20% tip, for the user's references. \n",
    "    - Then, the program asks the user to enter how much they want to tip in percentage (the user can enter any %, not just 15/18/20 like above). \n",
    "    - Assuming the tax is 8.8%, the program then prints the subtotal (before tax and tip), the tax dollar amount, the dollar amount the user decided to tip, and the total meal charge. \n",
    "    - Make sure all the values are displayed in 2 decimal places format. \n",
    "\n",
    "\n",
    "2. Ingredient Adjuster program. A cookie recipe calls for the following ingredients:\n",
    "    - 1.5 cups of sugar \n",
    "    - 1 cup of butter\n",
    "    - 2.75 cups of flour\n",
    "\n",
    "   The recipe produces 48 cookies with this amount of the ingredients. \n",
    "    \n",
    "   Write a program that: (a) asks the user how many cookies he or she wants to make and, (b) then displays the amount of each ingredient needed for the specified number of cookies.\n",
    "   \n",
    "   The amounts should be displayed in cups and in grams (put gram amounts in parentheses), with 2 decimal places.\n",
    "    \n",
    "    \n",
    "3. Stock Transaction Program. Go to Yahoo! Finance or Google Finance to pick a stock and look up the prices. Find out the stock's **opening price** on Jan 10, 2021 and **closing** price on Feb 10, 2021.\n",
    "\n",
    "    Assume that you bought the stock on Jan 10, 2021 with the following details:\n",
    "    - The number of shares that you purchased was 2,000.\n",
    "    - You paid for the stock, per share, with its opening price on Jan 10, 2021.\n",
    "    - You paid your stockbroker a commission that is 3 percent of the amount you paid for the stock \n",
    "    \n",
    "    </br>\n",
    "\n",
    "   A month later, on Feb 10, 2021, you sold the stock. Here are the details of the sale:\n",
    "    - The number of shares that you sold was 2,000.\n",
    "    - You sold the stock, per share, for its closing price on Feb 10, 2021.\n",
    "    - You paid your stockbroker another commission that is 3 percent of the amount you received for the stock.\n",
    "    \n",
    "    </br>\n",
    "    \n",
    "   Write a program that displays the following information:\n",
    "    - The name of the company you chose and the stock ticker (e.g., Apple Inc. & AAPL) \n",
    "    - The amount of money you paid for the stock\n",
    "    - The amount of commission you paid your broker when you bought the stock\n",
    "    - The amount for which you sold the stock.\n",
    "    - The amount of commission you paid your broker when you sold the stock.\n",
    "    - The amount of money that you had left when you sold the stock and paid your\n",
    "broker (both times). \n",
    "    - Make sure all the amounts have 2 decimal places, and a thousand separator for those that are >= 1,000 USD\n",
    " "
   ]
  }
 ],
 "metadata": {
  "kernelspec": {
   "display_name": "Python 3",
   "language": "python",
   "name": "python3"
  },
  "language_info": {
   "codemirror_mode": {
    "name": "ipython",
    "version": 3
   },
   "file_extension": ".py",
   "mimetype": "text/x-python",
   "name": "python",
   "nbconvert_exporter": "python",
   "pygments_lexer": "ipython3",
   "version": "3.9.5"
  }
 },
 "nbformat": 4,
 "nbformat_minor": 4
}
