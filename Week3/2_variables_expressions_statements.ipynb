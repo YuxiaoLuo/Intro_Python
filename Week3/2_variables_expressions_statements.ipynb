{
 "cells": [
  {
   "cell_type": "markdown",
   "metadata": {},
   "source": [
    "# Variables, Expressions, and Statements"
   ]
  },
  {
   "cell_type": "markdown",
   "metadata": {},
   "source": [
    "## Variable\n",
    "\n",
    "- a name that represents a value stored in the computer memory.\n",
    "- used to access and manipulate data stored in memory.  \n",
    "- references the value it represents.\n",
    "\n",
    "    - Assignment statement is used to create a variable and make it reference data \n",
    "    - General format is Variable = Expression\n",
    "    - Example: age = 29\n",
    "    - Assignment operator: the equal sign (=)"
   ]
  },
  {
   "cell_type": "markdown",
   "metadata": {},
   "source": [
    "## Constants\n",
    "\n",
    "#### Fixed values that do not change\n",
    "    Examples of Numeric constants: 10, 5.5\n",
    "    Examples of String constants: 'hello'"
   ]
  },
  {
   "cell_type": "markdown",
   "metadata": {},
   "source": [
    "## Operators & Operands\n",
    "\n",
    "#### Operators: \n",
    "    special symbols that represent computations such as addition and multiplication. \n",
    "###### `+    -    *    /     **     //     %`\n",
    "<br>\n",
    "<br>\n",
    "\n",
    "#### Operands:\n",
    "    The values the operator is applied to"
   ]
  },
  {
   "cell_type": "markdown",
   "metadata": {},
   "source": [
    "## Order of Operations\n",
    "\n",
    "#### PEMDAS\n",
    "\n",
    "- **P** arantheses: 1st\n",
    "- **E** xponentiation: 2nd\n",
    "- **M** ultiplication: 3rd\n",
    "- **D** ivision: 3rd\n",
    "- **A** ddition: 4th\n",
    "- **S** ubtraction: 4th\n",
    "\n",
    "Operators with same precedence are evaluated from left to right <br>\n",
    "If unsure, use parantheses to make computation order clear"
   ]
  },
  {
   "cell_type": "markdown",
   "metadata": {},
   "source": [
    "## String Operations\n",
    "- `+`: performs concatenation, meaning joining strings together by linking them end to end\n",
    "- `*`: performs repetition"
   ]
  },
  {
   "cell_type": "code",
   "execution_count": 1,
   "metadata": {},
   "outputs": [
    {
     "name": "stdout",
     "output_type": "stream",
     "text": [
      "throat warbler\n"
     ]
    }
   ],
   "source": [
    "first = 'throat '\n",
    "second = 'warbler'\n",
    "print(first + second)"
   ]
  },
  {
   "cell_type": "code",
   "execution_count": 2,
   "metadata": {},
   "outputs": [
    {
     "name": "stdout",
     "output_type": "stream",
     "text": [
      "Spam Spam Spam \n"
     ]
    }
   ],
   "source": [
    "word = 'Spam '\n",
    "print(word*3)"
   ]
  },
  {
   "cell_type": "markdown",
   "metadata": {},
   "source": [
    "## Expressions\n",
    "a combination of values, variables, and operators\n",
    "- a value or a variable by itself, is considered an expression\n",
    "    + `17`\n",
    "    + `x`\n",
    "    + `x + 17`\n"
   ]
  },
  {
   "cell_type": "markdown",
   "metadata": {},
   "source": [
    "## Statements\n",
    "units of code that Python can execute\n",
    "- e.g: print statements, input statements, and assignment statements"
   ]
  },
  {
   "cell_type": "markdown",
   "metadata": {},
   "source": [
    "## Formatting Floating-Point Numbers:\n",
    "- `print(format(number, '.2f')` 2 decimal places, f means floating point numbers\n",
    "- `print(format(number, 'e'))` exponent\n",
    "- `print(format(number, '.2e'))`  two decimal places with exponent\n",
    "- `print(format(number, ',.2f'))` comma separators & 2 decimal places\n",
    "- `print(format(0.5, '%'))` percentage\n",
    "- `print(format(0.5, '.0%'))` 0 as the precision - no decimal places \n",
    "- `print(format(number, '12,.2f'))` 12 spaces wide, with comma separator, and 2 decimal places"
   ]
  },
  {
   "cell_type": "code",
   "execution_count": 26,
   "metadata": {},
   "outputs": [
    {
     "name": "stdout",
     "output_type": "stream",
     "text": [
      "85.71%\n"
     ]
    }
   ],
   "source": [
    "print(format(30/35, '.2%'))\n",
    "# reformat so that the output rounds the percentage to a whole number"
   ]
  },
  {
   "cell_type": "code",
   "execution_count": 23,
   "metadata": {},
   "outputs": [
    {
     "name": "stdout",
     "output_type": "stream",
     "text": [
      "The monthly payment is 416.6666666666667\n"
     ]
    }
   ],
   "source": [
    "amount_due = 5000\n",
    "monthly_payment = amount_due/12\n",
    "print('The monthly payment is', monthly_payment)\n",
    "# reformat so that the monthly_payment is shown with only 2 decimal points"
   ]
  },
  {
   "cell_type": "markdown",
   "metadata": {},
   "source": [
    "## Formatting Integers:\n",
    "- `d` type designator\n",
    "- `print(format(123456, 'd'))` : no special formatting\n",
    "- `print(format(123456, ',d'))` : comma separator\n",
    "- `print(format(123456, '10,d'))`: 10 spaces wide, with comma sep"
   ]
  },
  {
   "cell_type": "markdown",
   "metadata": {},
   "source": [
    "### Assignment 2.1\n",
    "1. Ask for total sales in dollars and the sales in dollars of a particular item A in the inventory. Calculate the % of total sales that sales of A contributed to. \n",
    "2. Write a similar program to 1, but reformat the output so that the percentage output is shown with only 2 decimal places\n",
    "\n",
    "%%latex\n",
    "\n",
    "3. Write a program that converts Celsius temperatures to Fahrenheit temperatures. The formula is as follows:\n",
    " $$F = \\frac{9}5C + 32$$\n",
    "The program should ask the user to enter a temperature in Celsius, and then display the\n",
    "temperature converted to Fahrenheit.\n",
    "\n",
    "### Assignment 2.2\n",
    "\n",
    "1. Write a Tipper program with the following features:\n",
    "    - The program first asks the user to enter a restaurant bill amount (before tax). \n",
    "    - The program then displays 3 dollar amounts for a 15% tip, an 18% tip, and a 20% tip, for the user's references. \n",
    "    - Then, the program asks the user to enter how much they want to tip in percentage (the user can enter any %, not just 15/18/20 like above). \n",
    "    - Assuming the tax is 8.8%, the program then prints the subtotal (before tax and tip), the tax dollar amount, the dollar amount the user decided to tip, and the total meal charge. \n",
    "    - Make sure all the values are displayed in 2 decimal places format. \n",
    "\n",
    "\n",
    "2. Ingredient Adjuster program. A cookie recipe calls for the following ingredients:\n",
    "    - 1.5 cups of sugar \n",
    "    - 1 cup of butter\n",
    "    - 2.75 cups of flour\n",
    "\n",
    "   The recipe produces 48 cookies with this amount of the ingredients. \n",
    "    \n",
    "   Write a program that: (a) asks the user how many cookies he or she wants to make and, (b) then displays the amount of each ingredient needed for the specified number of cookies.\n",
    "   \n",
    "   The amounts should be displayed in cups and in grams (put gram amounts in parentheses), with 2 decimal places.\n",
    "    \n",
    "    \n",
    "3. Stock Transaction Program. Go to Yahoo! Finance or Google Finance to pick a stock and look up the prices. Find out the stock's **opening price** on Jan 10, 2021 and **closing** price on Feb 10, 2021.\n",
    "\n",
    "    Assume that you bought the stock on Jan 10, 2021 with the following details:\n",
    "    - The number of shares that you purchased was 2,000.\n",
    "    - You paid for the stock, per share, with its opening price on Jan 10, 2021.\n",
    "    - You paid your stockbroker a commission that is 3 percent of the amount you paid for the stock \n",
    "    \n",
    "    </br>\n",
    "\n",
    "   A month later, on Feb 10, 2021, you sold the stock. Here are the details of the sale:\n",
    "    - The number of shares that you sold was 2,000.\n",
    "    - You sold the stock, per share, for its closing price on Feb 10, 2021.\n",
    "    - You paid your stockbroker another commission that is 3 percent of the amount you received for the stock.\n",
    "    \n",
    "    </br>\n",
    "    \n",
    "   Write a program that displays the following information:\n",
    "    - The name of the company you chose and the stock ticker (e.g., Apple Inc. & AAPL) \n",
    "    - The amount of money you paid for the stock\n",
    "    - The amount of commission you paid your broker when you bought the stock\n",
    "    - The amount for which you sold the stock.\n",
    "    - The amount of commission you paid your broker when you sold the stock.\n",
    "    - The amount of money that you had left when you sold the stock and paid your\n",
    "broker (both times). \n",
    "    - Make sure all the amounts have 2 decimal places, and a thousand separator for those that are >= 1,000 USD\n",
    " "
   ]
  }
 ],
 "metadata": {
  "kernelspec": {
   "display_name": "Python 3",
   "language": "python",
   "name": "python3"
  },
  "language_info": {
   "codemirror_mode": {
    "name": "ipython",
    "version": 3
   },
   "file_extension": ".py",
   "mimetype": "text/x-python",
   "name": "python",
   "nbconvert_exporter": "python",
   "pygments_lexer": "ipython3",
   "version": "3.9.5"
  }
 },
 "nbformat": 4,
 "nbformat_minor": 4
}
