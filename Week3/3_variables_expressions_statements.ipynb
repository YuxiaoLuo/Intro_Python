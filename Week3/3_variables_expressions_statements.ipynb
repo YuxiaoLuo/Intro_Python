{
 "cells": [
  {
   "cell_type": "markdown",
   "metadata": {},
   "source": [
    "# Variables, Expressions, and Statements"
   ]
  },
  {
   "cell_type": "markdown",
   "metadata": {},
   "source": [
    "## Variable\n",
    "\n",
    "- a name that represents a value stored in the computer memory.\n",
    "- used to access and manipulate data stored in memory.  \n",
    "- references the value it represents.\n",
    "\n",
    "    - Assignment statement is used to create a variable and make it reference data \n",
    "    - General format is Variable = Expression\n",
    "    - Example: age = 29\n",
    "    - Assignment operator: the equal sign (=)"
   ]
  },
  {
   "cell_type": "markdown",
   "metadata": {},
   "source": [
    "Programs usually store data in the computer’s memory and perform operations on that\n",
    "data. For example, consider the typical online shopping experience: you browse a website\n",
    "and add the items that you want to purchase to the shopping cart. As you add items to\n",
    "the shopping cart, data about those items is stored in memory. Then, when you click the\n",
    "checkout button, a program running on the website’s computer calculates the cost of all the\n",
    "items you have in your shopping cart, applicable sales taxes, shipping costs, and the total\n",
    "of all these charges. When the program performs these calculations, it stores the results in\n",
    "the computer’s memory.\n",
    "\n",
    "Programs use variables to store data in memory. A variable is a name that represents a\n",
    "value in the computer’s memory. For example, a program that calculates the sales tax on\n",
    "a purchase might use the variable name tax to represent that value in memory. And a\n",
    "program that calculates the distance between two cities might use the variable name\n",
    "distance to represent that value in memory. When a variable represents a value in the\n",
    "computer’s memory, we say that the variable references the value. ([Gaddis 2021](https://www.pearson.com/us/higher-education/program/Gaddis-My-Lab-Programming-with-Pearson-e-Text-Access-Card-for-Starting-out-with-Python-5th-Edition/PGM2889368.html#:~:text=Starting%20Out%20with%20Python%20discusses,exercises%20appear%20in%20every%20chapter.))"
   ]
  },
  {
   "cell_type": "markdown",
   "metadata": {},
   "source": [
    "## Constants\n",
    "\n",
    "#### Fixed values that do not change\n",
    "    Examples of Numeric constants: 10, 5.5\n",
    "    Examples of String constants: 'hello'"
   ]
  },
  {
   "cell_type": "markdown",
   "metadata": {},
   "source": [
    "## Operators & Operands\n",
    "\n",
    "#### Operators: \n",
    "    special symbols that represent computations such as addition and multiplication. \n",
    "###### `+    -    *    /     **     //     %`\n",
    "<br>\n",
    "<br>\n",
    "\n",
    "#### Operands:\n",
    "    The values the operator is applied to"
   ]
  },
  {
   "cell_type": "markdown",
   "metadata": {},
   "source": [
    "## Order of Operations\n",
    "\n",
    "#### PEMDAS\n",
    "\n",
    "- **P** arantheses: 1st\n",
    "- **E** xponentiation: 2nd\n",
    "- **M** ultiplication: 3rd\n",
    "- **D** ivision: 3rd\n",
    "- **A** ddition: 4th\n",
    "- **S** ubtraction: 4th\n",
    "\n",
    "Operators with same precedence are evaluated from left to right <br>\n",
    "If unsure, use parantheses to make computation order clear.\n",
    "\n",
    "#### Algebric and programming expressions\n",
    "\n",
    "What is the Python statement of\n",
    "\n",
    "- $y = 3\\frac{x}{2}$\n",
    "    - `y = 3 * x / 2`\n",
    "- $z = 3bc + 4$\n",
    "    - `z = 3 * b * c + 4`\n",
    "- $a =\\frac{x+2}{b-1}$\n",
    "    - `a = (x + 2) / (b − 1)`\n",
    "    "
   ]
  },
  {
   "cell_type": "markdown",
   "metadata": {},
   "source": [
    "#### Example 1\n",
    "**Converting a Math Formula to a Programming Statement**\n",
    "\n",
    "Suppose you want to deposit a certain amount of money into a savings account and leave it\n",
    "alone to draw interest for the next 10 years. At the end of 10 years, you would like to have\n",
    "\\$10,000 in the account. How much do you need to deposit today to make that happen?\n",
    "You can use the following formula to find out:\n",
    "\n",
    "$$P = \\frac{F}{(1+r)^n}$$\n",
    "\n",
    "The terms in the formula are as follows:\n",
    "- P is the present value, or the amount that you need to deposit today.\n",
    "- F is the future value that you want in the account. (In this case, F is \\$10,000.)\n",
    "- r is the annual interest rate.\n",
    "- n is the number of years that you plan to let the money sit in the account.\n",
    "\n",
    "It would be convenient to write a computer program to perform the calculation because\n",
    "then we can experiment with different values for the variables. Here is an algorithm that\n",
    "we can use:\n",
    "\n",
    "1. *Get the desired future value.*\n",
    "2. *Get the annual interest rate.*\n",
    "3. *Get the number of years that the money will sit in the account.*\n",
    "4. *Calculate the amount that will have to be deposited.*\n",
    "5. *Display the result of the calculation in step 4.*\n",
    "\n",
    "In steps 1 through 3, we will prompt the user to enter the specified values. We will assign\n",
    "the desired future value to a variable named `future_value`, the annual interest rate to a\n",
    "variable named `rate`, and the number of years to a variable named `years`.\n",
    "\n",
    "In step 4, we calculate the present value, which is the amount of money that we will have\n",
    "to deposit. We will convert the formula previously shown to the following statement. The\n",
    "statement stores the result of the calculation in the `present_value` variable.\n",
    "\n",
    "present_value = future_value / (1.0 + rate)**years\n",
    "\n",
    "In step 5, we display the value in the present_value variable."
   ]
  },
  {
   "cell_type": "code",
   "execution_count": 94,
   "metadata": {},
   "outputs": [
    {
     "name": "stdout",
     "output_type": "stream",
     "text": [
      "Please enter the future value you want: 50000\n",
      "Please enter the rate you want:.05\n",
      "Please enter the year: 10\n",
      "The amount you need to deposit: 30695.66267703796\n",
      "The amount you need deposit: 30695.66267703796\n",
      "The amount you need to deposit:  30695.66\n"
     ]
    }
   ],
   "source": [
    "# Get the desired future value\n",
    "future_value = float(input(\"Please enter the future value you want: \"))\n",
    "\n",
    "# Get the annual interest rate\n",
    "rate =  float(input(\"Please enter the rate you want:\"))\n",
    "\n",
    "# Get the number of years that the money will appreciate \n",
    "years = int(input(\"Please enter the year: \"))\n",
    "\n",
    "# Calculate the amount needed to deposit \n",
    "present_value = future_value/(1.0+rate)**years\n",
    "\n",
    "# Display the amount needed to deposit \n",
    "print(\"The amount you need to deposit:\", present_value)\n",
    "\n",
    "# use f-string to display\n",
    "print(f\"The amount you need deposit: {present_value}\")\n",
    "\n",
    "# format number to round to 2 decimal places \n",
    "print(\"The amount you need to deposit: \", format(present_value, \".2f\"))"
   ]
  },
  {
   "cell_type": "code",
   "execution_count": 3,
   "metadata": {},
   "outputs": [],
   "source": [
    "# if you want multiple output being printed out at the same time\n",
    "from IPython.core.interactiveshell import InteractiveShell\n",
    "InteractiveShell.ast_node_interactivity = \"all\""
   ]
  },
  {
   "cell_type": "markdown",
   "metadata": {},
   "source": [
    "## String Operations\n",
    "- `+`: performs concatenation, meaning joining strings together by linking them end to end\n",
    "- `*`: performs repetition"
   ]
  },
  {
   "cell_type": "code",
   "execution_count": 6,
   "metadata": {},
   "outputs": [
    {
     "name": "stdout",
     "output_type": "stream",
     "text": [
      "throat  warbler\n"
     ]
    }
   ],
   "source": [
    "first = 'throat '\n",
    "second = 'warbler'\n",
    "print(first + second)"
   ]
  },
  {
   "cell_type": "code",
   "execution_count": 7,
   "metadata": {},
   "outputs": [
    {
     "name": "stdout",
     "output_type": "stream",
     "text": [
      "Spam Spam Spam \n"
     ]
    }
   ],
   "source": [
    "word = 'Spam '\n",
    "print(word*3)"
   ]
  },
  {
   "cell_type": "markdown",
   "metadata": {},
   "source": [
    "### f-strings in Python\n",
    "\n",
    "[PEP 498](https://docs.python.org/3/whatsnew/3.6.html#whatsnew36-pep498) introduced a new string formatting mechanism known as Literal String Interpolation or more commonly as F-strings (because of the leading f character preceding the string literal). The idea behind f-strings is to make string interpolation simpler. \n",
    "\n",
    "To create an f-string, prefix the string with the letter “ f ”. The string itself can be formatted in much the same way that you would with str.format(). F-strings provide a concise and convenient way to embed python expressions inside string literals for formatting. "
   ]
  },
  {
   "cell_type": "code",
   "execution_count": 96,
   "metadata": {},
   "outputs": [
    {
     "name": "stdout",
     "output_type": "stream",
     "text": [
      "Yuxiao is teaching CIS2300\n",
      "Yuxiao is teaching CIS2300\n",
      "Yuxiao is teaching CIS2300\n",
      "Yuxiao is teaching CIS2300 in 10-145\n",
      "Yuxiao is teaching CIS2300 in 10-145\n"
     ]
    }
   ],
   "source": [
    "prof = \"Yuxiao\"\n",
    "\n",
    "print(prof + \" is teaching CIS2300\")\n",
    "print(prof, \"is teaching CIS2300\")\n",
    "print(f\"{prof} is teaching CIS2300\")\n",
    "\n",
    "classroom = \"10-145\"\n",
    "\n",
    "print(prof, \"is teaching CIS2300 in\", classroom )\n",
    "print(f\"{prof} is teaching CIS2300 in {classroom}\")"
   ]
  },
  {
   "cell_type": "code",
   "execution_count": 99,
   "metadata": {},
   "outputs": [
    {
     "name": "stdout",
     "output_type": "stream",
     "text": [
      "2022-02-17 15:03:45.539678\n",
      "The current time is 2022-02-17 15:03:45.539678\n",
      "The current time is 2022-02-17 15:03:45.539678\n"
     ]
    }
   ],
   "source": [
    "# The datetime module supplies classes for manipulating dates and times\n",
    "import datetime\n",
    "today = datetime.datetime.today()\n",
    "print(today)\n",
    "print(\"The current time is\",today)\n",
    "\n",
    "# f-string\n",
    "print(f\"The current time is {today}\")"
   ]
  },
  {
   "cell_type": "code",
   "execution_count": 20,
   "metadata": {},
   "outputs": [
    {
     "name": "stdout",
     "output_type": "stream",
     "text": [
      " February 17, 2022\n"
     ]
    }
   ],
   "source": [
    "print(f\"{today: %B %d, %Y}\")"
   ]
  },
  {
   "cell_type": "markdown",
   "metadata": {},
   "source": [
    "#### Common Errors\n",
    "\n",
    "- Quotation marks are not paired \n",
    " "
   ]
  },
  {
   "cell_type": "code",
   "execution_count": 100,
   "metadata": {
    "scrolled": true
   },
   "outputs": [
    {
     "ename": "SyntaxError",
     "evalue": "EOL while scanning string literal (<ipython-input-100-62d59424c6dc>, line 2)",
     "output_type": "error",
     "traceback": [
      "\u001b[1;36m  File \u001b[1;32m\"<ipython-input-100-62d59424c6dc>\"\u001b[1;36m, line \u001b[1;32m2\u001b[0m\n\u001b[1;33m    f\"Your answer is {answer}\"\"\u001b[0m\n\u001b[1;37m                               ^\u001b[0m\n\u001b[1;31mSyntaxError\u001b[0m\u001b[1;31m:\u001b[0m EOL while scanning string literal\n"
     ]
    }
   ],
   "source": [
    "answer = 456\n",
    "f\"Your answer is {answer}\"\""
   ]
  },
  {
   "cell_type": "code",
   "execution_count": 51,
   "metadata": {},
   "outputs": [
    {
     "data": {
      "text/plain": [
       "'Your answer is 456'"
      ]
     },
     "execution_count": 51,
     "metadata": {},
     "output_type": "execute_result"
    }
   ],
   "source": [
    "# Correction\n",
    "answer = 456\n",
    "f\"Your answer is {answer}\""
   ]
  },
  {
   "cell_type": "markdown",
   "metadata": {},
   "source": [
    "- Backslash Cannot be used in format string directly.\n",
    "    - But the documentation points out that we can put the backslash into a variable as a workaround though"
   ]
  },
  {
   "cell_type": "code",
   "execution_count": 101,
   "metadata": {},
   "outputs": [
    {
     "ename": "SyntaxError",
     "evalue": "f-string expression part cannot include a backslash (<ipython-input-101-5982d7b76ae2>, line 1)",
     "output_type": "error",
     "traceback": [
      "\u001b[1;36m  File \u001b[1;32m\"<ipython-input-101-5982d7b76ae2>\"\u001b[1;36m, line \u001b[1;32m1\u001b[0m\n\u001b[1;33m    f\"newline: {'\\n'}\"\u001b[0m\n\u001b[1;37m                      ^\u001b[0m\n\u001b[1;31mSyntaxError\u001b[0m\u001b[1;31m:\u001b[0m f-string expression part cannot include a backslash\n"
     ]
    }
   ],
   "source": [
    "f\"newline: {'\\n'}\""
   ]
  },
  {
   "cell_type": "code",
   "execution_count": 102,
   "metadata": {},
   "outputs": [
    {
     "data": {
      "text/plain": [
       "'newline: \\n'"
      ]
     },
     "execution_count": 102,
     "metadata": {},
     "output_type": "execute_result"
    }
   ],
   "source": [
    "newline = '\\n'\n",
    "f\"newline: {newline}\""
   ]
  },
  {
   "cell_type": "markdown",
   "metadata": {},
   "source": [
    "Small exercise\n",
    "- Name: Henry \n",
    "\n",
    "- Event: icecream  \n",
    "\n",
    "- Place: Baruch College \n",
    "\n",
    "Use `input()`, `print()`, `f-string` in the cell"
   ]
  },
  {
   "cell_type": "code",
   "execution_count": 104,
   "metadata": {},
   "outputs": [
    {
     "name": "stdout",
     "output_type": "stream",
     "text": [
      "Please enter the name: Apple\n",
      "please enter the place of the event: Baruch College\n",
      "Apple is eating icecream at Baruch College\n"
     ]
    }
   ],
   "source": [
    "Name = input(\"Please enter the name: \")\n",
    "Event = \" is eating icecream at \"\n",
    "Place = input(\"please enter the place of the event: \")\n",
    "print(f\"{Name}{Event}{Place}\")"
   ]
  },
  {
   "cell_type": "markdown",
   "metadata": {},
   "source": [
    "#### Place holder expressions\n",
    "In the previous f-string examples, we used placeholders to display the values of variables. In\n",
    "addition to variable names, placeholders can contain any valid expression."
   ]
  },
  {
   "cell_type": "code",
   "execution_count": 37,
   "metadata": {},
   "outputs": [
    {
     "data": {
      "text/plain": [
       "['InteractiveShell', 'future_value', 'present_value', 'rate', 'years']"
      ]
     },
     "execution_count": 37,
     "metadata": {},
     "output_type": "execute_result"
    }
   ],
   "source": []
  },
  {
   "cell_type": "markdown",
   "metadata": {},
   "source": [
    "### Implicit String Literal Concatenation\n",
    "When two or more string literals are written adjacent to each other, separated only by\n",
    "spaces, tabs, or newline characters, Python will implicitly concatenate them into a single\n",
    "string. For example, look at the following interactive session:"
   ]
  },
  {
   "cell_type": "code",
   "execution_count": 105,
   "metadata": {},
   "outputs": [
    {
     "name": "stdout",
     "output_type": "stream",
     "text": [
      "onetwothree\n"
     ]
    }
   ],
   "source": [
    "my_str = 'one' 'two' 'three'\n",
    "print(my_str)"
   ]
  },
  {
   "cell_type": "code",
   "execution_count": 106,
   "metadata": {},
   "outputs": [
    {
     "name": "stdout",
     "output_type": "stream",
     "text": [
      "Enter the amount of sales for each day and press Enter.\n"
     ]
    }
   ],
   "source": [
    "print('Enter the amount of '\n",
    "'sales for each day and '\n",
    "'press Enter.')"
   ]
  },
  {
   "cell_type": "markdown",
   "metadata": {},
   "source": [
    "## Expressions\n",
    "a combination of values, variables, and operators\n",
    "- a value or a variable by itself, is considered an expression\n",
    "    + `17`\n",
    "    + `x`\n",
    "    + `x + 17`"
   ]
  },
  {
   "cell_type": "markdown",
   "metadata": {},
   "source": [
    "## Statements\n",
    "Units of code that Python can execute\n",
    "- e.g: print statements, input statements, and assignment statements"
   ]
  },
  {
   "cell_type": "markdown",
   "metadata": {},
   "source": [
    "## Formatting Floating-Point Numbers:\n",
    "- `print(format(number, '.2f')` 2 decimal places, `f` means floating point numbers\n",
    "- `print(format(number, 'e'))` [E notation](https://en.wikipedia.org/wiki/Scientific_notation#E_notation), which is plain text representation of [scientific notation](https://en.wikipedia.org/wiki/Scientific_notation)\n",
    "- `print(format(number, '.2e'))`  two decimal places with E notation\n",
    "- `print(format(number, ',.2f'))` comma separators & 2 decimal places\n",
    "- `print(format(0.5, '%'))` percentage\n",
    "- `print(format(0.5, '.0%'))` 0 as the precision - no decimal places \n",
    "- `print(format(number, '12,.2f'))` 12 spaces wide, with comma separator, and 2 decimal places"
   ]
  },
  {
   "cell_type": "code",
   "execution_count": 9,
   "metadata": {},
   "outputs": [
    {
     "name": "stdout",
     "output_type": "stream",
     "text": [
      "2.67\n",
      "2.66667\n",
      "2.6666666667\n"
     ]
    }
   ],
   "source": [
    "print(format(8/3,'.2f'))\n",
    "print(format(8/3,'.5f'))\n",
    "print(format(8/3,'.10f'))"
   ]
  },
  {
   "cell_type": "code",
   "execution_count": 10,
   "metadata": {},
   "outputs": [
    {
     "name": "stdout",
     "output_type": "stream",
     "text": [
      "1,000.00\n",
      "10,000\n"
     ]
    }
   ],
   "source": [
    "print(format(1000,',.2f'))\n",
    "\n",
    "# use comma as seperator\n",
    "print(format(10000,',d'))"
   ]
  },
  {
   "cell_type": "code",
   "execution_count": 11,
   "metadata": {},
   "outputs": [
    {
     "name": "stdout",
     "output_type": "stream",
     "text": [
      "2.000000e+00\n",
      "2.67e+00\n",
      "2.667e+00\n"
     ]
    }
   ],
   "source": [
    "print(format(8/4,'e'))\n",
    "print(format(8/3,'.2e'))\n",
    "print(format(8/3,'.3e'))"
   ]
  },
  {
   "cell_type": "code",
   "execution_count": 19,
   "metadata": {
    "scrolled": true
   },
   "outputs": [
    {
     "name": "stdout",
     "output_type": "stream",
     "text": [
      "0.8571428571428571\n",
      "85.71%\n",
      "85.7142857143%\n",
      "86%\n"
     ]
    }
   ],
   "source": [
    "print(30/35)\n",
    "print(format(30/35, '.2%'))\n",
    "print(format(30/35, '.10%'))\n",
    "\n",
    "# reformat so that the output rounds the percentage to a whole number\n",
    "print(format(30/35, '.0%'))"
   ]
  },
  {
   "cell_type": "code",
   "execution_count": 20,
   "metadata": {},
   "outputs": [
    {
     "name": "stdout",
     "output_type": "stream",
     "text": [
      "The monthly payment is 416.6666666666667\n",
      "The monthly payment is 416.67\n"
     ]
    }
   ],
   "source": [
    "amount_due = 5000\n",
    "monthly_payment = amount_due/12\n",
    "print('The monthly payment is', monthly_payment)\n",
    "# reformat so that the monthly_payment is shown with only 2 decimal pointsb\n",
    "print('The monthly payment is', format(monthly_payment, \".2f\"))"
   ]
  },
  {
   "cell_type": "markdown",
   "metadata": {},
   "source": [
    "## Formatting Integers:\n",
    "- `d` type designator\n",
    "- `print(format(123456, 'd'))` : no special formatting\n",
    "- `print(format(123456, ',d'))` : comma separator\n",
    "- `print(format(123456, '10,d'))`: 10 spaces wide, with comma sep"
   ]
  },
  {
   "cell_type": "markdown",
   "metadata": {},
   "source": [
    "### Mixed-Type Expressions and Data Type Conversion\n",
    "When you perform a math operation on two operands, the data type of the result will\n",
    "depend on the data type of the operands. Python follows these rules when evaluating mathematical\n",
    "expressions: \n",
    "\n",
    "- When an operation is performed on two int values, the result will be an int\n",
    "- When an operation is performed on two float values, the result will be a float\n",
    "- When an operation is performed on an int and a float, the int value will be\n",
    "temporarily converted to a float and the result of the operation will be a float \n",
    "    - An expression that uses operands of different data types is called a mixed-type\n",
    "expression."
   ]
  },
  {
   "cell_type": "markdown",
   "metadata": {},
   "source": [
    "#### Examples of mixed-type expression\n",
    "1. `my_number = 5 * 2.0`\n",
    "\n",
    "When this statement executes, the value 5 will be converted to a float (5.0) then multiplied\n",
    "by 2.0. The result, 10.0, will be assigned to my_number.\n",
    "\n",
    "2. `fvalue = −2.9\n",
    "ivalue = int(fvalue)`\n",
    "\n",
    "In the statement, the value −2 is returned from the int() function. After this code\n",
    "executes, the fvalue variable references the value −2.9, and the ivalue variable references\n",
    "the value −2."
   ]
  },
  {
   "cell_type": "code",
   "execution_count": 113,
   "metadata": {},
   "outputs": [
    {
     "data": {
      "text/plain": [
       "-2.9999999999999"
      ]
     },
     "execution_count": 113,
     "metadata": {},
     "output_type": "execute_result"
    },
    {
     "data": {
      "text/plain": [
       "-2"
      ]
     },
     "execution_count": 113,
     "metadata": {},
     "output_type": "execute_result"
    },
    {
     "data": {
      "text/plain": [
       "float"
      ]
     },
     "execution_count": 113,
     "metadata": {},
     "output_type": "execute_result"
    },
    {
     "data": {
      "text/plain": [
       "int"
      ]
     },
     "execution_count": 113,
     "metadata": {},
     "output_type": "execute_result"
    }
   ],
   "source": [
    "fvalue = -2.9999999999999\n",
    "ivalue = int(fvalue)\n",
    "fvalue\n",
    "ivalue\n",
    "type(fvalue)\n",
    "type(ivalue)"
   ]
  },
  {
   "cell_type": "code",
   "execution_count": 114,
   "metadata": {},
   "outputs": [
    {
     "data": {
      "text/plain": [
       "2.0000000000009"
      ]
     },
     "execution_count": 114,
     "metadata": {},
     "output_type": "execute_result"
    },
    {
     "data": {
      "text/plain": [
       "2"
      ]
     },
     "execution_count": 114,
     "metadata": {},
     "output_type": "execute_result"
    }
   ],
   "source": [
    "fvalue = 2.0000000000009\n",
    "ivalue = int(fvalue)\n",
    "fvalue\n",
    "ivalue"
   ]
  },
  {
   "cell_type": "code",
   "execution_count": 115,
   "metadata": {
    "scrolled": true
   },
   "outputs": [
    {
     "data": {
      "text/plain": [
       "2"
      ]
     },
     "execution_count": 115,
     "metadata": {},
     "output_type": "execute_result"
    },
    {
     "data": {
      "text/plain": [
       "2.0"
      ]
     },
     "execution_count": 115,
     "metadata": {},
     "output_type": "execute_result"
    }
   ],
   "source": [
    "ivalue = 2\n",
    "fvalue = float(ivalue)\n",
    "ivalue\n",
    "fvalue"
   ]
  },
  {
   "cell_type": "markdown",
   "metadata": {},
   "source": [
    "### More about `print` function\n",
    "#### Suppressing the `print` function's ending newline\n",
    "\n",
    "- The print function normally displays a line of output. \n",
    "\n",
    "- If you do not want the print function to start a new line of output when it finishes displaying its output, you can pass the special argument `end=' '` to the function. It means the `print` function should print a space instead of a newline character at the end of its output. \n",
    "\n",
    "- If you do not want the function print a space, and want nothing instead of a space. You can pass the the argument `end=''` to the print function."
   ]
  },
  {
   "cell_type": "code",
   "execution_count": 7,
   "metadata": {},
   "outputs": [
    {
     "name": "stdout",
     "output_type": "stream",
     "text": [
      "One Two Three\n"
     ]
    }
   ],
   "source": [
    "print('One', end = ' ')\n",
    "print('Two', end = ' ')\n",
    "print('Three')"
   ]
  },
  {
   "cell_type": "code",
   "execution_count": 8,
   "metadata": {},
   "outputs": [
    {
     "name": "stdout",
     "output_type": "stream",
     "text": [
      "OneTwoThree\n"
     ]
    }
   ],
   "source": [
    "print('One', end = '')\n",
    "print('Two', end = '')\n",
    "print('Three')"
   ]
  },
  {
   "cell_type": "markdown",
   "metadata": {},
   "source": [
    "#### Specifying an item separator\n",
    "\n",
    "- When multiple arguments are passed to the print function, they are automatically separated by a space when they are displayed on the screen.\n",
    "\n",
    "- If you do not want a space printed between the items, you can pass the argument `sep=''` to the print function\n",
    "\n",
    "- You can also use special argument to specify a character other than the space to separate multiple items."
   ]
  },
  {
   "cell_type": "code",
   "execution_count": 16,
   "metadata": {},
   "outputs": [
    {
     "name": "stdout",
     "output_type": "stream",
     "text": [
      "One Two Three\n",
      "OneTwoThree\n"
     ]
    }
   ],
   "source": [
    "print('One', 'Two', 'Three')\n",
    "\n",
    "print('One' + 'Two' + 'Three')"
   ]
  },
  {
   "cell_type": "code",
   "execution_count": 22,
   "metadata": {},
   "outputs": [
    {
     "name": "stdout",
     "output_type": "stream",
     "text": [
      "OneTwoThree\n",
      "One*Two*Three\n",
      "One~~~Two~~~Three\n"
     ]
    }
   ],
   "source": [
    "# pass nothing as the separator\n",
    "print('One', 'Two', 'Three', sep = '')\n",
    "# pass a arbitrary character as the separator, ex., asterisk\n",
    "print('One', 'Two', 'Three', sep = '*')\n",
    "\n",
    "print('One', 'Two', 'Three', sep = '~~~')"
   ]
  },
  {
   "cell_type": "code",
   "execution_count": null,
   "metadata": {},
   "outputs": [],
   "source": []
  },
  {
   "cell_type": "markdown",
   "metadata": {},
   "source": [
    "## Homework\n",
    "### Weekly Assignment 3\n",
    "\n",
    "- **Objective**: The objective of this assignment is to be able to write code to get input from the user, perform calculations, and display formatted output\n",
    "\n",
    "- **Type**:This is an Individual assignment and should reflect individual work. Please see the section on Academic integrity in the syllabus.\n",
    "\n",
    "- **Questions**:Please read the instruction in Bb for the quesitons details, there are 5 questions in total. \n",
    "\n",
    "### Weekly Quizz (CodeLab)\n",
    "\n",
    "- Arithmetic, Variables, Assignment\n",
    "    - Assignment of variables\n",
    "    \n",
    "- Strings\n",
    "    - Assignment and literals"
   ]
  },
  {
   "cell_type": "markdown",
   "metadata": {},
   "source": [
    "### Solutions in the lecture practice"
   ]
  },
  {
   "cell_type": "code",
   "execution_count": 2,
   "metadata": {},
   "outputs": [
    {
     "name": "stdout",
     "output_type": "stream",
     "text": [
      "Enter the desired future value:890\n",
      "Enter the annual interest rate:.01\n",
      "Enter the number of years the money will grow2\n",
      "You will need to deposit this amount: 872.4634839721596\n",
      "You will need to deposit this amount: 872.46\n"
     ]
    }
   ],
   "source": [
    "# Answers to Example 1\n",
    "# Get the desired future value\n",
    "future_value = float(input('Enter the desired future value: '))\n",
    "# Get the annual interest rate\n",
    "rate = float(input('Enter the annual interest rate:'))\n",
    "# Get the number of years that the money will appreciate \n",
    "years = int(input('Enter the number of years the money will grow: '))\n",
    "# Calculate the amount needed to deposit \n",
    "present_value = future_value/(1.0+rate)**years\n",
    "# Display the amount needed to deposit \n",
    "print('You will need to deposit this amount:', present_value)\n",
    "# format number to round to 2 decimal places \n",
    "print('You will need to deposit this amount:', format(present_value, '.2f'))"
   ]
  }
 ],
 "metadata": {
  "kernelspec": {
   "display_name": "Python 3",
   "language": "python",
   "name": "python3"
  },
  "language_info": {
   "codemirror_mode": {
    "name": "ipython",
    "version": 3
   },
   "file_extension": ".py",
   "mimetype": "text/x-python",
   "name": "python",
   "nbconvert_exporter": "python",
   "pygments_lexer": "ipython3",
   "version": "3.9.5"
  }
 },
 "nbformat": 4,
 "nbformat_minor": 4
}
