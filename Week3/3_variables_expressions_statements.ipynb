{
 "cells": [
  {
   "cell_type": "markdown",
   "metadata": {},
   "source": [
    "# Variables, Expressions, and Statements"
   ]
  },
  {
   "cell_type": "markdown",
   "metadata": {},
   "source": [
    "## Variable\n",
    "\n",
    "- a name that represents a value stored in the computer memory.\n",
    "- used to access and manipulate data stored in memory.  \n",
    "- references the value it represents.\n",
    "\n",
    "    - Assignment statement is used to create a variable and make it reference data \n",
    "    - General format is Variable = Expression\n",
    "    - Example: age = 29\n",
    "    - Assignment operator: the equal sign (=)"
   ]
  },
  {
   "cell_type": "markdown",
   "metadata": {},
   "source": [
    "Programs usually store data in the computer’s memory and perform operations on that data. \n",
    "\n",
    "For example, consider the typical online shopping experience: \n",
    "  - You browse a website and add the items that you want to purchase to the shopping cart. \n",
    "  - As you add items to the shopping cart, data about those items is stored in memory. \n",
    "  - Then, when you click the checkout button, a program running on the website’s computer calculates the cost of all the\n",
    "items you have in your shopping cart, applicable sales taxes, shipping costs, and the total\n",
    "of all these charges. \n",
    "  - When the program performs these calculations, it stores the results in\n",
    "the computer’s memory.\n",
    "\n",
    "Programs use **variables** to store data in memory. \n",
    " - A variable is a name that represents a value in the computer’s memory. For example, a program that calculates the sales tax on a purchase might use the variable name tax to represent that value in memory. \n",
    " - And a program that calculates the distance between two cities might use the variable name distance to represent that value in memory. \n",
    " - When a variable represents a value in the computer’s memory, we say that the variable references the value. ([Gaddis 2021](https://www.pearson.com/us/higher-education/program/Gaddis-My-Lab-Programming-with-Pearson-e-Text-Access-Card-for-Starting-out-with-Python-5th-Edition/PGM2889368.html#:~:text=Starting%20Out%20with%20Python%20discusses,exercises%20appear%20in%20every%20chapter.))"
   ]
  },
  {
   "cell_type": "code",
   "execution_count": 34,
   "metadata": {},
   "outputs": [
    {
     "name": "stdout",
     "output_type": "stream",
     "text": [
      "P\n",
      "21\n",
      "invalid menu selection\n"
     ]
    }
   ],
   "source": [
    "choice = input()\n",
    "age = int(input())\n",
    "if age < 21:\n",
    "    if choice == \"S\": print(\"vegetable juice\")\n",
    "    elif choice == \"T\": print(\"cranberry juice\")\n",
    "    elif choice == \"B\": print(\"soda\")\n",
    "    else: print(\"invalid menu selection\")\n",
    "else:\n",
    "    if choice == \"S\": print(\"cabernet\")\n",
    "    elif choice == \"T\": print(\"chardonnay\")\n",
    "    elif choice == \"B\": print(\"IPA\")\n",
    "    else: print(\"invalid menu selection\")"
   ]
  },
  {
   "cell_type": "markdown",
   "metadata": {},
   "source": [
    "## Constants\n",
    "\n",
    "#### Fixed values that do not change\n",
    "    Examples of Numeric constants: 10, 5.5\n",
    "    Examples of String constants: 'hello'"
   ]
  },
  {
   "cell_type": "markdown",
   "metadata": {},
   "source": [
    "## Operators & Operands\n",
    "\n",
    "#### Operators: \n",
    "special symbols that represent computations such as addition and multiplication. \n",
    "    \n",
    "`+    -    *    /     **     //     %`\n",
    "<br>\n",
    "\n",
    "#### Operands:\n",
    "The values the operator is applied to"
   ]
  },
  {
   "cell_type": "markdown",
   "metadata": {},
   "source": [
    "## Order of Operations\n",
    "\n",
    "#### PEMDAS\n",
    "\n",
    "- **P** arantheses: 1st\n",
    "- **E** xponentiation: 2nd\n",
    "- **M** ultiplication: 3rd\n",
    "- **D** ivision: 3rd\n",
    "- **A** ddition: 4th\n",
    "- **S** ubtraction: 4th\n",
    "\n",
    "Operators with same precedence are evaluated from left to right <br>\n",
    "If unsure, use parantheses to make computation order clear.\n",
    "\n",
    "#### Algebric and programming expressions\n",
    "\n",
    "What is the Python statement of\n",
    "\n",
    "- $y = 3\\frac{x}{2}$\n",
    "    - `y = 3 * x / 2`\n",
    "- $z = 3bc + 4$\n",
    "    - `z = 3 * b * c + 4`\n",
    "- $a =\\frac{x+2}{b-1}$\n",
    "    - `a = (x + 2) / (b − 1)`\n",
    "    "
   ]
  },
  {
   "cell_type": "markdown",
   "metadata": {},
   "source": [
    "#### Example 1\n",
    "**Converting a Math Formula to a Programming Statement**\n",
    "\n",
    "Suppose you want to deposit a certain amount of money into a savings account and leave it\n",
    "alone to draw interest for the next 10 years. At the end of 10 years, you would like to have\n",
    "\\$10,000 in the account. How much do you need to deposit today to make that happen?\n",
    "You can use the following formula to find out:\n",
    "\n",
    "$$P = \\frac{F}{(1+r)^n}$$\n",
    "\n",
    "The terms in the formula are as follows:\n",
    "- P is the present value, or the amount that you need to deposit today.\n",
    "- F is the future value that you want in the account. (In this case, F is \\$10,000.)\n",
    "- r is the annual interest rate.\n",
    "- n is the number of years that you plan to let the money sit in the account.\n",
    "\n",
    "It would be convenient to write a computer program to perform the calculation because\n",
    "then we can experiment with different values for the variables. Here is an algorithm that\n",
    "we can use:\n",
    "\n",
    "1. *Get the desired future value.*\n",
    "2. *Get the annual interest rate.*\n",
    "3. *Get the number of years that the money will sit in the account.*\n",
    "4. *Calculate the amount that will have to be deposited.*\n",
    "5. *Display the result of the calculation in step 4.*\n",
    "\n",
    "In steps 1 through 3, we will prompt the user to enter the specified values. We will assign\n",
    "the desired future value to a variable named `future_value`, the annual interest rate to a\n",
    "variable named `rate`, and the number of years to a variable named `years`.\n",
    "\n",
    "In step 4, we calculate the present value, which is the amount of money that we will have\n",
    "to deposit. We will convert the formula previously shown to the following statement. The\n",
    "statement stores the result of the calculation in the `present_value` variable.\n",
    "\n",
    "present_value = future_value / (1.0 + rate)**years\n",
    "\n",
    "In step 5, we display the value in the present_value variable."
   ]
  },
  {
   "cell_type": "code",
   "execution_count": 20,
   "metadata": {},
   "outputs": [
    {
     "name": "stdout",
     "output_type": "stream",
     "text": [
      "Please enter the future value you want: 10000\n",
      "Please enter the rate you want:.05\n",
      "Please enter the year: 10\n",
      "The amount you need to deposit: 6139.132535407592\n",
      "The amount you need deposit: 6139.132535407592\n",
      "The amount you need to deposit:  6139.13\n"
     ]
    }
   ],
   "source": [
    "# Get the desired future value\n",
    "future_value = float(input(\"Please enter the future value you want: \"))\n",
    "\n",
    "# Get the annual interest rate\n",
    "rate =  float(input(\"Please enter the rate you want:\"))\n",
    "\n",
    "# Get the number of years that the money will appreciate \n",
    "years = int(input(\"Please enter the year: \"))\n",
    "\n",
    "# Calculate the amount needed to deposit \n",
    "present_value = future_value/(1.0+rate)**years\n",
    "\n",
    "# Display the amount needed to deposit \n",
    "print(\"The amount you need to deposit:\", present_value)\n",
    "\n",
    "# Another way to display the amount needed: use f-string to display\n",
    "print(f\"The amount you need deposit: {present_value}\")\n",
    "\n",
    "# format number to round to 2 decimal places \n",
    "print(\"The amount you need to deposit: \", format(present_value, \".2f\"))"
   ]
  },
  {
   "cell_type": "code",
   "execution_count": 23,
   "metadata": {},
   "outputs": [
    {
     "name": "stdout",
     "output_type": "stream",
     "text": [
      "The amount you need to deposit:  6139.1325354076\n"
     ]
    }
   ],
   "source": [
    "print(\"The amount you need to deposit: \", format(present_value, \".10f\"))"
   ]
  },
  {
   "cell_type": "code",
   "execution_count": 3,
   "metadata": {},
   "outputs": [],
   "source": [
    "# if you want multiple output being printed out at the same time\n",
    "from IPython.core.interactiveshell import InteractiveShell\n",
    "InteractiveShell.ast_node_interactivity = \"all\""
   ]
  },
  {
   "cell_type": "code",
   "execution_count": 3,
   "metadata": {},
   "outputs": [
    {
     "name": "stdout",
     "output_type": "stream",
     "text": [
      "Format String Syntax\n",
      "********************\n",
      "\n",
      "The \"str.format()\" method and the \"Formatter\" class share the same\n",
      "syntax for format strings (although in the case of \"Formatter\",\n",
      "subclasses can define their own format string syntax).  The syntax is\n",
      "related to that of formatted string literals, but it is less\n",
      "sophisticated and, in particular, does not support arbitrary\n",
      "expressions.\n",
      "\n",
      "Format strings contain “replacement fields” surrounded by curly braces\n",
      "\"{}\". Anything that is not contained in braces is considered literal\n",
      "text, which is copied unchanged to the output.  If you need to include\n",
      "a brace character in the literal text, it can be escaped by doubling:\n",
      "\"{{\" and \"}}\".\n",
      "\n",
      "The grammar for a replacement field is as follows:\n",
      "\n",
      "      replacement_field ::= \"{\" [field_name] [\"!\" conversion] [\":\" format_spec] \"}\"\n",
      "      field_name        ::= arg_name (\".\" attribute_name | \"[\" element_index \"]\")*\n",
      "      arg_name          ::= [identifier | digit+]\n",
      "      attribute_name    ::= identifier\n",
      "      element_index     ::= digit+ | index_string\n",
      "      index_string      ::= <any source character except \"]\"> +\n",
      "      conversion        ::= \"r\" | \"s\" | \"a\"\n",
      "      format_spec       ::= <described in the next section>\n",
      "\n",
      "In less formal terms, the replacement field can start with a\n",
      "*field_name* that specifies the object whose value is to be formatted\n",
      "and inserted into the output instead of the replacement field. The\n",
      "*field_name* is optionally followed by a  *conversion* field, which is\n",
      "preceded by an exclamation point \"'!'\", and a *format_spec*, which is\n",
      "preceded by a colon \"':'\".  These specify a non-default format for the\n",
      "replacement value.\n",
      "\n",
      "See also the Format Specification Mini-Language section.\n",
      "\n",
      "The *field_name* itself begins with an *arg_name* that is either a\n",
      "number or a keyword.  If it’s a number, it refers to a positional\n",
      "argument, and if it’s a keyword, it refers to a named keyword\n",
      "argument.  If the numerical arg_names in a format string are 0, 1, 2,\n",
      "… in sequence, they can all be omitted (not just some) and the numbers\n",
      "0, 1, 2, … will be automatically inserted in that order. Because\n",
      "*arg_name* is not quote-delimited, it is not possible to specify\n",
      "arbitrary dictionary keys (e.g., the strings \"'10'\" or \"':-]'\") within\n",
      "a format string. The *arg_name* can be followed by any number of index\n",
      "or attribute expressions. An expression of the form \"'.name'\" selects\n",
      "the named attribute using \"getattr()\", while an expression of the form\n",
      "\"'[index]'\" does an index lookup using \"__getitem__()\".\n",
      "\n",
      "Changed in version 3.1: The positional argument specifiers can be\n",
      "omitted for \"str.format()\", so \"'{} {}'.format(a, b)\" is equivalent to\n",
      "\"'{0} {1}'.format(a, b)\".\n",
      "\n",
      "Changed in version 3.4: The positional argument specifiers can be\n",
      "omitted for \"Formatter\".\n",
      "\n",
      "Some simple format string examples:\n",
      "\n",
      "   \"First, thou shalt count to {0}\"  # References first positional argument\n",
      "   \"Bring me a {}\"                   # Implicitly references the first positional argument\n",
      "   \"From {} to {}\"                   # Same as \"From {0} to {1}\"\n",
      "   \"My quest is {name}\"              # References keyword argument 'name'\n",
      "   \"Weight in tons {0.weight}\"       # 'weight' attribute of first positional arg\n",
      "   \"Units destroyed: {players[0]}\"   # First element of keyword argument 'players'.\n",
      "\n",
      "The *conversion* field causes a type coercion before formatting.\n",
      "Normally, the job of formatting a value is done by the \"__format__()\"\n",
      "method of the value itself.  However, in some cases it is desirable to\n",
      "force a type to be formatted as a string, overriding its own\n",
      "definition of formatting.  By converting the value to a string before\n",
      "calling \"__format__()\", the normal formatting logic is bypassed.\n",
      "\n",
      "Three conversion flags are currently supported: \"'!s'\" which calls\n",
      "\"str()\" on the value, \"'!r'\" which calls \"repr()\" and \"'!a'\" which\n",
      "calls \"ascii()\".\n",
      "\n",
      "Some examples:\n",
      "\n",
      "   \"Harold's a clever {0!s}\"        # Calls str() on the argument first\n",
      "   \"Bring out the holy {name!r}\"    # Calls repr() on the argument first\n",
      "   \"More {!a}\"                      # Calls ascii() on the argument first\n",
      "\n",
      "The *format_spec* field contains a specification of how the value\n",
      "should be presented, including such details as field width, alignment,\n",
      "padding, decimal precision and so on.  Each value type can define its\n",
      "own “formatting mini-language” or interpretation of the *format_spec*.\n",
      "\n",
      "Most built-in types support a common formatting mini-language, which\n",
      "is described in the next section.\n",
      "\n",
      "A *format_spec* field can also include nested replacement fields\n",
      "within it. These nested replacement fields may contain a field name,\n",
      "conversion flag and format specification, but deeper nesting is not\n",
      "allowed.  The replacement fields within the format_spec are\n",
      "substituted before the *format_spec* string is interpreted. This\n",
      "allows the formatting of a value to be dynamically specified.\n",
      "\n",
      "See the Format examples section for some examples.\n",
      "\n",
      "\n",
      "Format Specification Mini-Language\n",
      "==================================\n",
      "\n",
      "“Format specifications” are used within replacement fields contained\n",
      "within a format string to define how individual values are presented\n",
      "(see Format String Syntax and Formatted string literals). They can\n",
      "also be passed directly to the built-in \"format()\" function.  Each\n",
      "formattable type may define how the format specification is to be\n",
      "interpreted.\n",
      "\n",
      "Most built-in types implement the following options for format\n",
      "specifications, although some of the formatting options are only\n",
      "supported by the numeric types.\n",
      "\n",
      "A general convention is that an empty format specification produces\n",
      "the same result as if you had called \"str()\" on the value. A non-empty\n",
      "format specification typically modifies the result.\n",
      "\n",
      "The general form of a *standard format specifier* is:\n",
      "\n",
      "   format_spec     ::= [[fill]align][sign][z][#][0][width][grouping_option][.precision][type]\n",
      "   fill            ::= <any character>\n",
      "   align           ::= \"<\" | \">\" | \"=\" | \"^\"\n",
      "   sign            ::= \"+\" | \"-\" | \" \"\n",
      "   width           ::= digit+\n",
      "   grouping_option ::= \"_\" | \",\"\n",
      "   precision       ::= digit+\n",
      "   type            ::= \"b\" | \"c\" | \"d\" | \"e\" | \"E\" | \"f\" | \"F\" | \"g\" | \"G\" | \"n\" | \"o\" | \"s\" | \"x\" | \"X\" | \"%\"\n",
      "\n",
      "If a valid *align* value is specified, it can be preceded by a *fill*\n",
      "character that can be any character and defaults to a space if\n",
      "omitted. It is not possible to use a literal curly brace (”\"{\"” or\n",
      "“\"}\"”) as the *fill* character in a formatted string literal or when\n",
      "using the \"str.format()\" method.  However, it is possible to insert a\n",
      "curly brace with a nested replacement field.  This limitation doesn’t\n",
      "affect the \"format()\" function.\n",
      "\n",
      "The meaning of the various alignment options is as follows:\n",
      "\n",
      "   +-----------+------------------------------------------------------------+\n",
      "   | Option    | Meaning                                                    |\n",
      "   |===========|============================================================|\n",
      "   | \"'<'\"     | Forces the field to be left-aligned within the available   |\n",
      "   |           | space (this is the default for most objects).              |\n",
      "   +-----------+------------------------------------------------------------+\n",
      "   | \"'>'\"     | Forces the field to be right-aligned within the available  |\n",
      "   |           | space (this is the default for numbers).                   |\n",
      "   +-----------+------------------------------------------------------------+\n",
      "   | \"'='\"     | Forces the padding to be placed after the sign (if any)    |\n",
      "   |           | but before the digits.  This is used for printing fields   |\n",
      "   |           | in the form ‘+000000120’. This alignment option is only    |\n",
      "   |           | valid for numeric types.  It becomes the default for       |\n",
      "   |           | numbers when ‘0’ immediately precedes the field width.     |\n",
      "   +-----------+------------------------------------------------------------+\n",
      "   | \"'^'\"     | Forces the field to be centered within the available       |\n",
      "   |           | space.                                                     |\n",
      "   +-----------+------------------------------------------------------------+\n",
      "\n",
      "Note that unless a minimum field width is defined, the field width\n",
      "will always be the same size as the data to fill it, so that the\n",
      "alignment option has no meaning in this case.\n",
      "\n",
      "The *sign* option is only valid for number types, and can be one of\n",
      "the following:\n",
      "\n",
      "   +-----------+------------------------------------------------------------+\n",
      "   | Option    | Meaning                                                    |\n",
      "   |===========|============================================================|\n",
      "   | \"'+'\"     | indicates that a sign should be used for both positive as  |\n",
      "   |           | well as negative numbers.                                  |\n",
      "   +-----------+------------------------------------------------------------+\n",
      "   | \"'-'\"     | indicates that a sign should be used only for negative     |\n",
      "   |           | numbers (this is the default behavior).                    |\n",
      "   +-----------+------------------------------------------------------------+\n",
      "   | space     | indicates that a leading space should be used on positive  |\n",
      "   |           | numbers, and a minus sign on negative numbers.             |\n",
      "   +-----------+------------------------------------------------------------+\n",
      "\n",
      "The \"'z'\" option coerces negative zero floating-point values to\n",
      "positive zero after rounding to the format precision.  This option is\n",
      "only valid for floating-point presentation types.\n",
      "\n",
      "Changed in version 3.11: Added the \"'z'\" option (see also **PEP\n",
      "682**).\n",
      "\n",
      "The \"'#'\" option causes the “alternate form” to be used for the\n",
      "conversion.  The alternate form is defined differently for different\n",
      "types.  This option is only valid for integer, float and complex\n",
      "types. For integers, when binary, octal, or hexadecimal output is\n",
      "used, this option adds the respective prefix \"'0b'\", \"'0o'\", \"'0x'\",\n",
      "or \"'0X'\" to the output value. For float and complex the alternate\n",
      "form causes the result of the conversion to always contain a decimal-\n",
      "point character, even if no digits follow it. Normally, a decimal-\n",
      "point character appears in the result of these conversions only if a\n",
      "digit follows it. In addition, for \"'g'\" and \"'G'\" conversions,\n",
      "trailing zeros are not removed from the result.\n",
      "\n",
      "The \"','\" option signals the use of a comma for a thousands separator.\n",
      "For a locale aware separator, use the \"'n'\" integer presentation type\n",
      "instead.\n",
      "\n",
      "Changed in version 3.1: Added the \"','\" option (see also **PEP 378**).\n",
      "\n",
      "The \"'_'\" option signals the use of an underscore for a thousands\n",
      "separator for floating point presentation types and for integer\n",
      "presentation type \"'d'\".  For integer presentation types \"'b'\", \"'o'\",\n",
      "\"'x'\", and \"'X'\", underscores will be inserted every 4 digits.  For\n",
      "other presentation types, specifying this option is an error.\n",
      "\n",
      "Changed in version 3.6: Added the \"'_'\" option (see also **PEP 515**).\n",
      "\n",
      "*width* is a decimal integer defining the minimum total field width,\n",
      "including any prefixes, separators, and other formatting characters.\n",
      "If not specified, then the field width will be determined by the\n",
      "content.\n",
      "\n",
      "When no explicit alignment is given, preceding the *width* field by a\n",
      "zero (\"'0'\") character enables sign-aware zero-padding for numeric\n",
      "types.  This is equivalent to a *fill* character of \"'0'\" with an\n",
      "*alignment* type of \"'='\".\n",
      "\n",
      "Changed in version 3.10: Preceding the *width* field by \"'0'\" no\n",
      "longer affects the default alignment for strings.\n",
      "\n",
      "The *precision* is a decimal integer indicating how many digits should\n",
      "be displayed after the decimal point for presentation types \"'f'\" and\n",
      "\"'F'\", or before and after the decimal point for presentation types\n",
      "\"'g'\" or \"'G'\".  For string presentation types the field indicates the\n",
      "maximum field size - in other words, how many characters will be used\n",
      "from the field content.  The *precision* is not allowed for integer\n",
      "presentation types.\n",
      "\n",
      "Finally, the *type* determines how the data should be presented.\n",
      "\n",
      "The available string presentation types are:\n",
      "\n",
      "   +-----------+------------------------------------------------------------+\n",
      "   | Type      | Meaning                                                    |\n",
      "   |===========|============================================================|\n",
      "   | \"'s'\"     | String format. This is the default type for strings and    |\n",
      "   |           | may be omitted.                                            |\n",
      "   +-----------+------------------------------------------------------------+\n",
      "   | None      | The same as \"'s'\".                                         |\n",
      "   +-----------+------------------------------------------------------------+\n",
      "\n",
      "The available integer presentation types are:\n",
      "\n",
      "   +-----------+------------------------------------------------------------+\n",
      "   | Type      | Meaning                                                    |\n",
      "   |===========|============================================================|\n",
      "   | \"'b'\"     | Binary format. Outputs the number in base 2.               |\n",
      "   +-----------+------------------------------------------------------------+\n",
      "   | \"'c'\"     | Character. Converts the integer to the corresponding       |\n",
      "   |           | unicode character before printing.                         |\n",
      "   +-----------+------------------------------------------------------------+\n",
      "   | \"'d'\"     | Decimal Integer. Outputs the number in base 10.            |\n",
      "   +-----------+------------------------------------------------------------+\n",
      "   | \"'o'\"     | Octal format. Outputs the number in base 8.                |\n",
      "   +-----------+------------------------------------------------------------+\n",
      "   | \"'x'\"     | Hex format. Outputs the number in base 16, using lower-    |\n",
      "   |           | case letters for the digits above 9.                       |\n",
      "   +-----------+------------------------------------------------------------+\n",
      "   | \"'X'\"     | Hex format. Outputs the number in base 16, using upper-    |\n",
      "   |           | case letters for the digits above 9. In case \"'#'\" is      |\n",
      "   |           | specified, the prefix \"'0x'\" will be upper-cased to \"'0X'\" |\n",
      "   |           | as well.                                                   |\n",
      "   +-----------+------------------------------------------------------------+\n",
      "   | \"'n'\"     | Number. This is the same as \"'d'\", except that it uses the |\n",
      "   |           | current locale setting to insert the appropriate number    |\n",
      "   |           | separator characters.                                      |\n",
      "   +-----------+------------------------------------------------------------+\n",
      "   | None      | The same as \"'d'\".                                         |\n",
      "   +-----------+------------------------------------------------------------+\n",
      "\n",
      "In addition to the above presentation types, integers can be formatted\n",
      "with the floating point presentation types listed below (except \"'n'\"\n",
      "and \"None\"). When doing so, \"float()\" is used to convert the integer\n",
      "to a floating point number before formatting.\n",
      "\n",
      "The available presentation types for \"float\" and \"Decimal\" values are:\n",
      "\n",
      "   +-----------+------------------------------------------------------------+\n",
      "   | Type      | Meaning                                                    |\n",
      "   |===========|============================================================|\n",
      "   | \"'e'\"     | Scientific notation. For a given precision \"p\", formats    |\n",
      "   |           | the number in scientific notation with the letter ‘e’      |\n",
      "   |           | separating the coefficient from the exponent. The          |\n",
      "   |           | coefficient has one digit before and \"p\" digits after the  |\n",
      "   |           | decimal point, for a total of \"p + 1\" significant digits.  |\n",
      "   |           | With no precision given, uses a precision of \"6\" digits    |\n",
      "   |           | after the decimal point for \"float\", and shows all         |\n",
      "   |           | coefficient digits for \"Decimal\". If no digits follow the  |\n",
      "   |           | decimal point, the decimal point is also removed unless    |\n",
      "   |           | the \"#\" option is used.                                    |\n",
      "   +-----------+------------------------------------------------------------+\n",
      "   | \"'E'\"     | Scientific notation. Same as \"'e'\" except it uses an upper |\n",
      "   |           | case ‘E’ as the separator character.                       |\n",
      "   +-----------+------------------------------------------------------------+\n",
      "   | \"'f'\"     | Fixed-point notation. For a given precision \"p\", formats   |\n",
      "   |           | the number as a decimal number with exactly \"p\" digits     |\n",
      "   |           | following the decimal point. With no precision given, uses |\n",
      "   |           | a precision of \"6\" digits after the decimal point for      |\n",
      "   |           | \"float\", and uses a precision large enough to show all     |\n",
      "   |           | coefficient digits for \"Decimal\". If no digits follow the  |\n",
      "   |           | decimal point, the decimal point is also removed unless    |\n",
      "   |           | the \"#\" option is used.                                    |\n",
      "   +-----------+------------------------------------------------------------+\n",
      "   | \"'F'\"     | Fixed-point notation. Same as \"'f'\", but converts \"nan\" to |\n",
      "   |           | \"NAN\" and \"inf\" to \"INF\".                                  |\n",
      "   +-----------+------------------------------------------------------------+\n",
      "   | \"'g'\"     | General format.  For a given precision \"p >= 1\", this      |\n",
      "   |           | rounds the number to \"p\" significant digits and then       |\n",
      "   |           | formats the result in either fixed-point format or in      |\n",
      "   |           | scientific notation, depending on its magnitude. A         |\n",
      "   |           | precision of \"0\" is treated as equivalent to a precision   |\n",
      "   |           | of \"1\".  The precise rules are as follows: suppose that    |\n",
      "   |           | the result formatted with presentation type \"'e'\" and      |\n",
      "   |           | precision \"p-1\" would have exponent \"exp\".  Then, if \"m <= |\n",
      "   |           | exp < p\", where \"m\" is -4 for floats and -6 for            |\n",
      "   |           | \"Decimals\", the number is formatted with presentation type |\n",
      "   |           | \"'f'\" and precision \"p-1-exp\".  Otherwise, the number is   |\n",
      "   |           | formatted with presentation type \"'e'\" and precision       |\n",
      "   |           | \"p-1\". In both cases insignificant trailing zeros are      |\n",
      "   |           | removed from the significand, and the decimal point is     |\n",
      "   |           | also removed if there are no remaining digits following    |\n",
      "   |           | it, unless the \"'#'\" option is used.  With no precision    |\n",
      "   |           | given, uses a precision of \"6\" significant digits for      |\n",
      "   |           | \"float\". For \"Decimal\", the coefficient of the result is   |\n",
      "   |           | formed from the coefficient digits of the value;           |\n",
      "   |           | scientific notation is used for values smaller than \"1e-6\" |\n",
      "   |           | in absolute value and values where the place value of the  |\n",
      "   |           | least significant digit is larger than 1, and fixed-point  |\n",
      "   |           | notation is used otherwise.  Positive and negative         |\n",
      "   |           | infinity, positive and negative zero, and nans, are        |\n",
      "   |           | formatted as \"inf\", \"-inf\", \"0\", \"-0\" and \"nan\"            |\n",
      "   |           | respectively, regardless of the precision.                 |\n",
      "   +-----------+------------------------------------------------------------+\n",
      "   | \"'G'\"     | General format. Same as \"'g'\" except switches to \"'E'\" if  |\n",
      "   |           | the number gets too large. The representations of infinity |\n",
      "   |           | and NaN are uppercased, too.                               |\n",
      "   +-----------+------------------------------------------------------------+\n",
      "   | \"'n'\"     | Number. This is the same as \"'g'\", except that it uses the |\n",
      "   |           | current locale setting to insert the appropriate number    |\n",
      "   |           | separator characters.                                      |\n",
      "   +-----------+------------------------------------------------------------+\n",
      "   | \"'%'\"     | Percentage. Multiplies the number by 100 and displays in   |\n",
      "   |           | fixed (\"'f'\") format, followed by a percent sign.          |\n",
      "   +-----------+------------------------------------------------------------+\n",
      "   | None      | For \"float\" this is the same as \"'g'\", except that when    |\n",
      "   |           | fixed-point notation is used to format the result, it      |\n",
      "   |           | always includes at least one digit past the decimal point. |\n",
      "   |           | The precision used is as large as needed to represent the  |\n",
      "   |           | given value faithfully.  For \"Decimal\", this is the same   |\n",
      "   |           | as either \"'g'\" or \"'G'\" depending on the value of         |\n",
      "   |           | \"context.capitals\" for the current decimal context.  The   |\n",
      "   |           | overall effect is to match the output of \"str()\" as        |\n",
      "   |           | altered by the other format modifiers.                     |\n",
      "   +-----------+------------------------------------------------------------+\n",
      "\n",
      "\n",
      "Format examples\n",
      "===============\n",
      "\n",
      "This section contains examples of the \"str.format()\" syntax and\n",
      "comparison with the old \"%\"-formatting.\n",
      "\n",
      "In most of the cases the syntax is similar to the old \"%\"-formatting,\n",
      "with the addition of the \"{}\" and with \":\" used instead of \"%\". For\n",
      "example, \"'%03.2f'\" can be translated to \"'{:03.2f}'\".\n",
      "\n",
      "The new format syntax also supports new and different options, shown\n",
      "in the following examples.\n",
      "\n",
      "Accessing arguments by position:\n",
      "\n",
      "   >>> '{0}, {1}, {2}'.format('a', 'b', 'c')\n",
      "   'a, b, c'\n",
      "   >>> '{}, {}, {}'.format('a', 'b', 'c')  # 3.1+ only\n",
      "   'a, b, c'\n",
      "   >>> '{2}, {1}, {0}'.format('a', 'b', 'c')\n",
      "   'c, b, a'\n",
      "   >>> '{2}, {1}, {0}'.format(*'abc')      # unpacking argument sequence\n",
      "   'c, b, a'\n",
      "   >>> '{0}{1}{0}'.format('abra', 'cad')   # arguments' indices can be repeated\n",
      "   'abracadabra'\n",
      "\n",
      "Accessing arguments by name:\n",
      "\n",
      "   >>> 'Coordinates: {latitude}, {longitude}'.format(latitude='37.24N', longitude='-115.81W')\n",
      "   'Coordinates: 37.24N, -115.81W'\n",
      "   >>> coord = {'latitude': '37.24N', 'longitude': '-115.81W'}\n",
      "   >>> 'Coordinates: {latitude}, {longitude}'.format(**coord)\n",
      "   'Coordinates: 37.24N, -115.81W'\n",
      "\n",
      "Accessing arguments’ attributes:\n",
      "\n",
      "   >>> c = 3-5j\n",
      "   >>> ('The complex number {0} is formed from the real part {0.real} '\n",
      "   ...  'and the imaginary part {0.imag}.').format(c)\n",
      "   'The complex number (3-5j) is formed from the real part 3.0 and the imaginary part -5.0.'\n",
      "   >>> class Point:\n",
      "   ...     def __init__(self, x, y):\n",
      "   ...         self.x, self.y = x, y\n",
      "   ...     def __str__(self):\n",
      "   ...         return 'Point({self.x}, {self.y})'.format(self=self)\n",
      "   ...\n",
      "   >>> str(Point(4, 2))\n",
      "   'Point(4, 2)'\n",
      "\n",
      "Accessing arguments’ items:\n",
      "\n",
      "   >>> coord = (3, 5)\n",
      "   >>> 'X: {0[0]};  Y: {0[1]}'.format(coord)\n",
      "   'X: 3;  Y: 5'\n",
      "\n",
      "Replacing \"%s\" and \"%r\":\n",
      "\n",
      "   >>> \"repr() shows quotes: {!r}; str() doesn't: {!s}\".format('test1', 'test2')\n",
      "   \"repr() shows quotes: 'test1'; str() doesn't: test2\"\n",
      "\n",
      "Aligning the text and specifying a width:\n",
      "\n",
      "   >>> '{:<30}'.format('left aligned')\n",
      "   'left aligned                  '\n",
      "   >>> '{:>30}'.format('right aligned')\n",
      "   '                 right aligned'\n",
      "   >>> '{:^30}'.format('centered')\n",
      "   '           centered           '\n",
      "   >>> '{:*^30}'.format('centered')  # use '*' as a fill char\n",
      "   '***********centered***********'\n",
      "\n",
      "Replacing \"%+f\", \"%-f\", and \"% f\" and specifying a sign:\n",
      "\n",
      "   >>> '{:+f}; {:+f}'.format(3.14, -3.14)  # show it always\n",
      "   '+3.140000; -3.140000'\n",
      "   >>> '{: f}; {: f}'.format(3.14, -3.14)  # show a space for positive numbers\n",
      "   ' 3.140000; -3.140000'\n",
      "   >>> '{:-f}; {:-f}'.format(3.14, -3.14)  # show only the minus -- same as '{:f}; {:f}'\n",
      "   '3.140000; -3.140000'\n",
      "\n",
      "Replacing \"%x\" and \"%o\" and converting the value to different bases:\n",
      "\n",
      "   >>> # format also supports binary numbers\n",
      "   >>> \"int: {0:d};  hex: {0:x};  oct: {0:o};  bin: {0:b}\".format(42)\n",
      "   'int: 42;  hex: 2a;  oct: 52;  bin: 101010'\n",
      "   >>> # with 0x, 0o, or 0b as prefix:\n",
      "   >>> \"int: {0:d};  hex: {0:#x};  oct: {0:#o};  bin: {0:#b}\".format(42)\n",
      "   'int: 42;  hex: 0x2a;  oct: 0o52;  bin: 0b101010'\n",
      "\n",
      "Using the comma as a thousands separator:\n",
      "\n",
      "   >>> '{:,}'.format(1234567890)\n",
      "   '1,234,567,890'\n",
      "\n",
      "Expressing a percentage:\n",
      "\n",
      "   >>> points = 19\n",
      "   >>> total = 22\n",
      "   >>> 'Correct answers: {:.2%}'.format(points/total)\n",
      "   'Correct answers: 86.36%'\n",
      "\n",
      "Using type-specific formatting:\n",
      "\n",
      "   >>> import datetime\n",
      "   >>> d = datetime.datetime(2010, 7, 4, 12, 15, 58)\n",
      "   >>> '{:%Y-%m-%d %H:%M:%S}'.format(d)\n",
      "   '2010-07-04 12:15:58'\n",
      "\n",
      "Nesting arguments and more complex examples:\n",
      "\n",
      "   >>> for align, text in zip('<^>', ['left', 'center', 'right']):\n",
      "   ...     '{0:{fill}{align}16}'.format(text, fill=align, align=align)\n",
      "   ...\n",
      "   'left<<<<<<<<<<<<'\n",
      "   '^^^^^center^^^^^'\n",
      "   '>>>>>>>>>>>right'\n",
      "   >>>\n",
      "   >>> octets = [192, 168, 0, 1]\n",
      "   >>> '{:02X}{:02X}{:02X}{:02X}'.format(*octets)\n",
      "   'C0A80001'\n",
      "   >>> int(_, 16)\n",
      "   3232235521\n",
      "   >>>\n",
      "   >>> width = 5\n",
      "   >>> for num in range(5,12): \n",
      "   ...     for base in 'dXob':\n",
      "   ...         print('{0:{width}{base}}'.format(num, base=base, width=width), end=' ')\n",
      "   ...     print()\n",
      "   ...\n",
      "       5     5     5   101\n",
      "       6     6     6   110\n",
      "       7     7     7   111\n",
      "       8     8    10  1000\n",
      "       9     9    11  1001\n",
      "      10     A    12  1010\n",
      "      11     B    13  1011\n",
      "\n",
      "Related help topics: OPERATORS\n",
      "\n"
     ]
    }
   ],
   "source": [
    "# see formatting specs\n",
    "help('FORMATTING')"
   ]
  },
  {
   "cell_type": "markdown",
   "metadata": {},
   "source": [
    "## String Operations\n",
    "- `+`: performs concatenation, meaning joining strings together by linking them end to end\n",
    "    - `+` cannot concatenate string and numerics\n",
    "- `*`: performs repetition"
   ]
  },
  {
   "cell_type": "code",
   "execution_count": 1,
   "metadata": {},
   "outputs": [
    {
     "name": "stdout",
     "output_type": "stream",
     "text": [
      "throat warbler\n"
     ]
    }
   ],
   "source": [
    "first = 'throat '\n",
    "second = 'warbler'\n",
    "print(first + second)"
   ]
  },
  {
   "cell_type": "code",
   "execution_count": 7,
   "metadata": {},
   "outputs": [
    {
     "name": "stdout",
     "output_type": "stream",
     "text": [
      "Spam Spam Spam \n"
     ]
    }
   ],
   "source": [
    "word = 'Spam '\n",
    "print(word*3)"
   ]
  },
  {
   "cell_type": "markdown",
   "metadata": {},
   "source": [
    "### f-strings in Python\n",
    "\n",
    "[PEP 498](https://docs.python.org/3/whatsnew/3.6.html#whatsnew36-pep498) introduced a new string formatting mechanism known as Literal String Interpolation or more commonly as F-strings (because of the leading f character preceding the string literal). The idea behind f-strings is to make string interpolation simpler. \n",
    "\n",
    "To create an f-string, prefix the string with the letter “ f ”. The string itself can be formatted in much the same way that you would with str.format(). F-strings provide a concise and convenient way to embed python expressions inside string literals for formatting. "
   ]
  },
  {
   "cell_type": "code",
   "execution_count": 37,
   "metadata": {},
   "outputs": [
    {
     "name": "stdout",
     "output_type": "stream",
     "text": [
      "Yuxiao is teaching CIS2300\n",
      "Yuxiao is teaching CIS2300\n",
      "3 is teaching CIS2300\n",
      "Yuxiao is teaching CIS2300 in 10-145\n",
      "Yuxiao is teaching CIS2300 in 10-145\n"
     ]
    }
   ],
   "source": [
    "prof = \"Yuxiao\"\n",
    "\n",
    "print(prof + \" is teaching CIS2300\")\n",
    "print(prof, \"is teaching CIS2300\")\n",
    "print(f\"{prof} is teaching CIS2300\")\n",
    "\n",
    "classroom = \"10-145\"\n",
    "\n",
    "print(prof, \"is teaching CIS2300 in\", classroom )\n",
    "print(f\"{prof} is teaching CIS2300 in {classroom}\")"
   ]
  },
  {
   "cell_type": "code",
   "execution_count": 38,
   "metadata": {},
   "outputs": [
    {
     "name": "stdout",
     "output_type": "stream",
     "text": [
      "2023-02-16 18:20:56.287466\n",
      "The current time is 2023-02-16 18:20:56.287466\n",
      "The current time is 2023-02-16 18:20:56.287466\n"
     ]
    }
   ],
   "source": [
    "# The datetime module supplies classes for manipulating dates and times\n",
    "import datetime\n",
    "today = datetime.datetime.today()\n",
    "\n",
    "print(today)\n",
    "print(\"The current time is\",today)\n",
    "\n",
    "# f-string\n",
    "print(f\"The current time is {today}\")"
   ]
  },
  {
   "cell_type": "code",
   "execution_count": 41,
   "metadata": {},
   "outputs": [
    {
     "name": "stdout",
     "output_type": "stream",
     "text": [
      " February 16, 2023\n"
     ]
    }
   ],
   "source": [
    "print(f\"{today: %B %d, %Y}\")"
   ]
  },
  {
   "cell_type": "code",
   "execution_count": 45,
   "metadata": {},
   "outputs": [
    {
     "name": "stdout",
     "output_type": "stream",
     "text": [
      "2023-Feb-16\n"
     ]
    }
   ],
   "source": [
    "print(f\"{today:%Y-%b-%d}\")"
   ]
  },
  {
   "cell_type": "code",
   "execution_count": 44,
   "metadata": {},
   "outputs": [
    {
     "name": "stdout",
     "output_type": "stream",
     "text": [
      "2023-02-16\n"
     ]
    }
   ],
   "source": [
    "print(f\"{today:%Y-%m-%d}\")"
   ]
  },
  {
   "cell_type": "markdown",
   "metadata": {},
   "source": [
    "#### Common Errors\n",
    "\n",
    "- Quotation marks are not paired \n",
    " "
   ]
  },
  {
   "cell_type": "code",
   "execution_count": 24,
   "metadata": {
    "scrolled": true
   },
   "outputs": [
    {
     "data": {
      "text/plain": [
       "'Your answer is 456'"
      ]
     },
     "execution_count": 24,
     "metadata": {},
     "output_type": "execute_result"
    }
   ],
   "source": [
    "answer = 456\n",
    "f\"Your answer is {answer}\"\""
   ]
  },
  {
   "cell_type": "code",
   "execution_count": 30,
   "metadata": {},
   "outputs": [
    {
     "data": {
      "text/plain": [
       "'You answer is'"
      ]
     },
     "execution_count": 30,
     "metadata": {},
     "output_type": "execute_result"
    }
   ],
   "source": [
    "\"You answer is\""
   ]
  },
  {
   "cell_type": "code",
   "execution_count": 51,
   "metadata": {},
   "outputs": [
    {
     "data": {
      "text/plain": [
       "'Your answer is 456'"
      ]
     },
     "execution_count": 51,
     "metadata": {},
     "output_type": "execute_result"
    }
   ],
   "source": [
    "# Correction\n",
    "answer = 456\n",
    "f\"Your answer is {answer}\""
   ]
  },
  {
   "cell_type": "markdown",
   "metadata": {},
   "source": [
    "- Backslash Cannot be used in format string directly.\n",
    "    - But the documentation points out that we can put the backslash into a variable as a workaround though"
   ]
  },
  {
   "cell_type": "code",
   "execution_count": 101,
   "metadata": {},
   "outputs": [
    {
     "ename": "SyntaxError",
     "evalue": "f-string expression part cannot include a backslash (<ipython-input-101-5982d7b76ae2>, line 1)",
     "output_type": "error",
     "traceback": [
      "\u001b[1;36m  File \u001b[1;32m\"<ipython-input-101-5982d7b76ae2>\"\u001b[1;36m, line \u001b[1;32m1\u001b[0m\n\u001b[1;33m    f\"newline: {'\\n'}\"\u001b[0m\n\u001b[1;37m                      ^\u001b[0m\n\u001b[1;31mSyntaxError\u001b[0m\u001b[1;31m:\u001b[0m f-string expression part cannot include a backslash\n"
     ]
    }
   ],
   "source": [
    "f\"newline: {'\\n'}\""
   ]
  },
  {
   "cell_type": "code",
   "execution_count": 51,
   "metadata": {},
   "outputs": [
    {
     "data": {
      "text/plain": [
       "'newline: \\n'"
      ]
     },
     "execution_count": 51,
     "metadata": {},
     "output_type": "execute_result"
    }
   ],
   "source": [
    "\"newline: \\n\""
   ]
  },
  {
   "cell_type": "code",
   "execution_count": 48,
   "metadata": {},
   "outputs": [
    {
     "data": {
      "text/plain": [
       "'newline: \\n'"
      ]
     },
     "execution_count": 48,
     "metadata": {},
     "output_type": "execute_result"
    }
   ],
   "source": [
    "newline = '\\n'\n",
    "f\"newline: {newline}\""
   ]
  },
  {
   "cell_type": "markdown",
   "metadata": {},
   "source": [
    "Small exercise\n",
    "- Name: Henry \n",
    "\n",
    "- Event: icecream  \n",
    "\n",
    "- Place: Baruch College \n",
    "\n",
    "Use `input()`, `print()`, `f-string` in the cell"
   ]
  },
  {
   "cell_type": "code",
   "execution_count": 53,
   "metadata": {},
   "outputs": [
    {
     "name": "stdout",
     "output_type": "stream",
     "text": [
      "Please enter the name: Bob\n",
      "please enter the place of the event: New York City\n",
      "Bob is eating icecream at New York City\n"
     ]
    }
   ],
   "source": [
    "# input the name as string\n",
    "Name = input(\"Please enter the name: \")\n",
    "# Describe event in string\n",
    "Event = \" is eating icecream at \"\n",
    "# input the event name in string\n",
    "Place = input(\"please enter the place of the event: \")\n",
    "print(f\"{Name}{Event}{Place}\")"
   ]
  },
  {
   "cell_type": "code",
   "execution_count": 55,
   "metadata": {},
   "outputs": [
    {
     "name": "stdout",
     "output_type": "stream",
     "text": [
      "Bob is eating icecream at New York City\n"
     ]
    }
   ],
   "source": [
    "# print the same thing in print() function\n",
    "print(Name,Event,Place, sep =\"\")"
   ]
  },
  {
   "cell_type": "markdown",
   "metadata": {},
   "source": [
    "#### Place holder expressions\n",
    "In the previous f-string examples, we used placeholders to display the values of variables. In\n",
    "addition to variable names, placeholders can contain any valid expression."
   ]
  },
  {
   "cell_type": "code",
   "execution_count": 57,
   "metadata": {},
   "outputs": [
    {
     "name": "stdout",
     "output_type": "stream",
     "text": [
      "The value is 10 + 2.\n"
     ]
    }
   ],
   "source": [
    "print(f'The value is 10 + 2.')"
   ]
  },
  {
   "cell_type": "code",
   "execution_count": 38,
   "metadata": {},
   "outputs": [
    {
     "name": "stdout",
     "output_type": "stream",
     "text": [
      "The value is 12.\n"
     ]
    }
   ],
   "source": [
    "print(f'The value is {10 + 2}.')"
   ]
  },
  {
   "cell_type": "code",
   "execution_count": 62,
   "metadata": {},
   "outputs": [
    {
     "name": "stdout",
     "output_type": "stream",
     "text": [
      "The value is 13.\n"
     ]
    }
   ],
   "source": [
    "val_1 = 5 \n",
    "val_2 = 8\n",
    "print(f\"The value is {val_1 + val_2}.\")"
   ]
  },
  {
   "cell_type": "markdown",
   "metadata": {},
   "source": [
    "### Implicit String Literal Concatenation\n",
    "When two or more string literals are written adjacent to each other, separated only by\n",
    "spaces, tabs, or newline characters, Python will implicitly concatenate them into a single\n",
    "string. For example, look at the following interactive session:"
   ]
  },
  {
   "cell_type": "code",
   "execution_count": 68,
   "metadata": {},
   "outputs": [
    {
     "name": "stdout",
     "output_type": "stream",
     "text": [
      "onetwothree\n",
      "Four\n"
     ]
    }
   ],
   "source": [
    "my_str = 'one' 'two'    'three' '\\n' 'Four'\n",
    "print(my_str)"
   ]
  },
  {
   "cell_type": "code",
   "execution_count": 76,
   "metadata": {},
   "outputs": [
    {
     "name": "stdout",
     "output_type": "stream",
     "text": [
      "Enter the amount of sales for each day and press Enter.\n"
     ]
    }
   ],
   "source": [
    "print('Enter the amount of '\n",
    "'sales for each day and '\n",
    "'press Enter.')"
   ]
  },
  {
   "cell_type": "markdown",
   "metadata": {},
   "source": [
    "## Expressions\n",
    "a combination of values, variables, and operators\n",
    "- a value or a variable by itself, is considered an expression\n",
    "    + `17`\n",
    "    + `x`\n",
    "    + `x + 17`"
   ]
  },
  {
   "cell_type": "markdown",
   "metadata": {},
   "source": [
    "## Statements\n",
    "Units of code that Python can execute\n",
    "- e.g: print statements, input statements, and assignment statements"
   ]
  },
  {
   "cell_type": "markdown",
   "metadata": {},
   "source": [
    "## Formatting Floating-Point Numbers:\n",
    "- `print(format(number, '.2f')` 2 decimal places, `f` means floating point numbers\n",
    "- `print(format(number, 'e'))` [E notation](https://en.wikipedia.org/wiki/Scientific_notation#E_notation), which is plain text representation of [scientific notation](https://en.wikipedia.org/wiki/Scientific_notation)\n",
    "- `print(format(number, '.2e'))`  two decimal places with E notation\n",
    "- `print(format(number, ',.2f'))` comma separators & 2 decimal places\n",
    "- `print(format(0.5, '%'))` percentage\n",
    "- `print(format(0.5, '.0%'))` 0 as the precision - no decimal places \n",
    "- `print(format(number, '12,.2f'))` 12 spaces wide, with comma separator, and 2 decimal places"
   ]
  },
  {
   "cell_type": "code",
   "execution_count": 23,
   "metadata": {},
   "outputs": [
    {
     "name": "stdout",
     "output_type": "stream",
     "text": [
      "2.67\n",
      "2.66667\n",
      "2.6666666667\n"
     ]
    }
   ],
   "source": [
    "# print floats\n",
    "print(format(8/3,'.2f'))\n",
    "print(format(8/3,'.5f'))\n",
    "print(format(8/3,'.10f'))"
   ]
  },
  {
   "cell_type": "code",
   "execution_count": 94,
   "metadata": {},
   "outputs": [
    {
     "name": "stdout",
     "output_type": "stream",
     "text": [
      "1,000.00\n",
      "10,000\n"
     ]
    }
   ],
   "source": [
    "# print float with 2 decimal places\n",
    "print(format(1000,',.2f'))\n",
    "\n",
    "# use comma as seperator\n",
    "print(format(10000,',d'))"
   ]
  },
  {
   "cell_type": "code",
   "execution_count": 11,
   "metadata": {},
   "outputs": [
    {
     "name": "stdout",
     "output_type": "stream",
     "text": [
      "2.000000e+00\n",
      "2.67e+00\n",
      "2.667e+00\n"
     ]
    }
   ],
   "source": [
    "print(format(8/4,'e'))\n",
    "print(format(8/3,'.2e'))\n",
    "print(format(8/3,'.3e'))"
   ]
  },
  {
   "cell_type": "code",
   "execution_count": 19,
   "metadata": {
    "scrolled": true
   },
   "outputs": [
    {
     "name": "stdout",
     "output_type": "stream",
     "text": [
      "0.8571428571428571\n",
      "85.71%\n",
      "85.7142857143%\n",
      "86%\n"
     ]
    }
   ],
   "source": [
    "# devision result as decimal\n",
    "print(30/35)\n",
    "# percentage with 2 decimals\n",
    "print(format(30/35, '.2%'))\n",
    "# percentage with 10 decimals\n",
    "print(format(30/35, '.10%'))\n",
    "\n",
    "# reformat so that the output rounds the percentage to a whole number\n",
    "print(format(30/35, '.0%'))"
   ]
  },
  {
   "cell_type": "code",
   "execution_count": 20,
   "metadata": {},
   "outputs": [
    {
     "name": "stdout",
     "output_type": "stream",
     "text": [
      "The monthly payment is 416.6666666666667\n",
      "The monthly payment is 416.67\n"
     ]
    }
   ],
   "source": [
    "amount_due = 5000\n",
    "monthly_payment = amount_due/12\n",
    "print('The monthly payment is', monthly_payment)\n",
    "# reformat so that the monthly_payment is shown with only 2 decimal points\n",
    "print('The monthly payment is', format(monthly_payment, \".2f\"))"
   ]
  },
  {
   "cell_type": "markdown",
   "metadata": {},
   "source": [
    "## Formatting Integers:\n",
    "- `d` type designator\n",
    "- `print(format(123456, 'd'))` : no special formatting\n",
    "- `print(format(123456, ',d'))` : comma separator\n",
    "- `print(format(123456, '10,d'))`: 10 spaces wide, with comma sep"
   ]
  },
  {
   "cell_type": "code",
   "execution_count": 106,
   "metadata": {},
   "outputs": [
    {
     "name": "stdout",
     "output_type": "stream",
     "text": [
      "*   123,456*\n"
     ]
    }
   ],
   "source": [
    "print('*',format(123456, '10,d'),'*',sep = '')"
   ]
  },
  {
   "cell_type": "markdown",
   "metadata": {},
   "source": [
    "### Mixed-Type Expressions and Data Type Conversion\n",
    "When you perform a math operation on two operands, the data type of the result will\n",
    "depend on the data type of the operands. Python follows these rules when evaluating mathematical\n",
    "expressions: \n",
    "\n",
    "- When an operation is performed on two int values, the result will be an int\n",
    "- When an operation is performed on two float values, the result will be a float\n",
    "- When an operation is performed on an int and a float, the int value will be\n",
    "temporarily converted to a float and the result of the operation will be a float \n",
    "    - An expression that uses operands of different data types is called a mixed-type\n",
    "expression."
   ]
  },
  {
   "cell_type": "markdown",
   "metadata": {},
   "source": [
    "#### Examples of mixed-type expression\n",
    "1. `my_number = 5 * 2.0`\n",
    "\n",
    "When this statement executes, the value 5 will be converted to a float (5.0) then multiplied\n",
    "by 2.0. The result, 10.0, will be assigned to my_number.\n",
    "\n",
    "2. `fvalue = −2.9\n",
    "ivalue = int(fvalue)`\n",
    "\n",
    "In the statement, the value −2 is returned from the int() function. After this code\n",
    "executes, the fvalue variable references the value −2.9, and the ivalue variable references\n",
    "the value −2."
   ]
  },
  {
   "cell_type": "code",
   "execution_count": 107,
   "metadata": {},
   "outputs": [
    {
     "name": "stdout",
     "output_type": "stream",
     "text": [
      "-2.9999999999999\n",
      "-2\n",
      "<class 'float'>\n",
      "<class 'int'>\n"
     ]
    }
   ],
   "source": [
    "fvalue = -2.9999999999999\n",
    "ivalue = int(fvalue)\n",
    "print(fvalue)\n",
    "print(ivalue)\n",
    "print(type(fvalue))\n",
    "print(type(ivalue))"
   ]
  },
  {
   "cell_type": "code",
   "execution_count": 108,
   "metadata": {},
   "outputs": [
    {
     "name": "stdout",
     "output_type": "stream",
     "text": [
      "2.0000000000009\n",
      "2\n"
     ]
    }
   ],
   "source": [
    "fvalue = 2.0000000000009\n",
    "ivalue = int(fvalue)\n",
    "print(fvalue)\n",
    "print(ivalue)"
   ]
  },
  {
   "cell_type": "code",
   "execution_count": 115,
   "metadata": {
    "scrolled": true
   },
   "outputs": [
    {
     "data": {
      "text/plain": [
       "2"
      ]
     },
     "execution_count": 115,
     "metadata": {},
     "output_type": "execute_result"
    },
    {
     "data": {
      "text/plain": [
       "2.0"
      ]
     },
     "execution_count": 115,
     "metadata": {},
     "output_type": "execute_result"
    }
   ],
   "source": [
    "ivalue = 2\n",
    "fvalue = float(ivalue)\n",
    "ivalue\n",
    "fvalue"
   ]
  },
  {
   "cell_type": "markdown",
   "metadata": {},
   "source": [
    "### More about `print` function\n",
    "#### Suppressing the `print` function's ending newline\n",
    "\n",
    "- The print function normally displays a line of output. \n",
    "\n",
    "- If you do not want the print function to start a new line of output when it finishes displaying its output, you can pass the special argument `end=' '` to the function. It means the `print` function should print a space instead of a newline character at the end of its output. \n",
    "\n",
    "- If you do not want the function print a space, and want nothing instead of a space. You can pass the the argument `end=''` to the print function."
   ]
  },
  {
   "cell_type": "code",
   "execution_count": 109,
   "metadata": {},
   "outputs": [
    {
     "name": "stdout",
     "output_type": "stream",
     "text": [
      "One\n",
      "Two\n",
      "Three\n"
     ]
    }
   ],
   "source": [
    "print('One')\n",
    "print('Two')\n",
    "print('Three')"
   ]
  },
  {
   "cell_type": "code",
   "execution_count": 111,
   "metadata": {},
   "outputs": [
    {
     "name": "stdout",
     "output_type": "stream",
     "text": [
      "One Two Three\n"
     ]
    }
   ],
   "source": [
    "print('One', end = ' ')\n",
    "print('Two', end = ' ')\n",
    "print('Three')"
   ]
  },
  {
   "cell_type": "code",
   "execution_count": 112,
   "metadata": {},
   "outputs": [
    {
     "name": "stdout",
     "output_type": "stream",
     "text": [
      "OneTwoThree\n"
     ]
    }
   ],
   "source": [
    "print('One', end = '')\n",
    "print('Two', end = '')\n",
    "print('Three')"
   ]
  },
  {
   "cell_type": "markdown",
   "metadata": {},
   "source": [
    "#### Specifying an item separator\n",
    "\n",
    "- When multiple arguments are passed to the print function, they are automatically separated by a space when they are displayed on the screen.\n",
    "\n",
    "- If you do not want a space printed between the items, you can pass the argument `sep=''` to the print function\n",
    "\n",
    "- You can also use special argument to specify a character other than the space to separate multiple items."
   ]
  },
  {
   "cell_type": "code",
   "execution_count": 16,
   "metadata": {},
   "outputs": [
    {
     "name": "stdout",
     "output_type": "stream",
     "text": [
      "One Two Three\n",
      "OneTwoThree\n"
     ]
    }
   ],
   "source": [
    "print('One', 'Two', 'Three')\n",
    "\n",
    "print('One' + 'Two' + 'Three')"
   ]
  },
  {
   "cell_type": "code",
   "execution_count": 46,
   "metadata": {},
   "outputs": [
    {
     "name": "stdout",
     "output_type": "stream",
     "text": [
      "OneTwoThree\n",
      "One*Two*Three\n",
      "One~~~Two~~~Three\n"
     ]
    }
   ],
   "source": [
    "# pass nothing as the separator\n",
    "print('One', 'Two', 'Three', sep = '')\n",
    "\n",
    "# pass a arbitrary character as the separator, ex., asterisk\n",
    "print('One', 'Two', 'Three', sep = '*')\n",
    "\n",
    "print('One', 'Two', 'Three', sep = '~~~')"
   ]
  },
  {
   "cell_type": "markdown",
   "metadata": {},
   "source": [
    "## Homework\n",
    "### Weekly Assignment 3\n",
    "\n",
    "- **Objective**: The objective of this assignment is to be able to write code to get input from the user, perform calculations, and display formatted output\n",
    "\n",
    "- **Type**:This is an Individual assignment and should reflect individual work. Please see the section on Academic integrity in the syllabus.\n",
    "\n",
    "- **Questions**:Please read the instruction in Bb for the quesitons details, there are 5 questions in total. \n",
    "\n",
    "(Due Date: Mar 3rd)\n",
    "\n",
    "### Weekly Quizz (CodeLab)\n",
    "\n",
    "- Arithmetic, Variables, Assignment\n",
    "    - Assignment of variables\n",
    "    \n",
    "- Strings\n",
    "    - Assignment and literals\n",
    "    \n",
    "(Due Date: Mar 3rd)"
   ]
  },
  {
   "cell_type": "markdown",
   "metadata": {},
   "source": [
    "### Solutions in the lecture practice"
   ]
  },
  {
   "cell_type": "code",
   "execution_count": 2,
   "metadata": {},
   "outputs": [
    {
     "name": "stdout",
     "output_type": "stream",
     "text": [
      "Enter the desired future value:890\n",
      "Enter the annual interest rate:.01\n",
      "Enter the number of years the money will grow2\n",
      "You will need to deposit this amount: 872.4634839721596\n",
      "You will need to deposit this amount: 872.46\n"
     ]
    }
   ],
   "source": [
    "# Answers to Example 1\n",
    "# Get the desired future value\n",
    "future_value = float(input('Enter the desired future value: '))\n",
    "# Get the annual interest rate\n",
    "rate = float(input('Enter the annual interest rate:'))\n",
    "# Get the number of years that the money will appreciate \n",
    "years = int(input('Enter the number of years the money will grow: '))\n",
    "# Calculate the amount needed to deposit \n",
    "present_value = future_value/(1.0+rate)**years\n",
    "# Display the amount needed to deposit \n",
    "print('You will need to deposit this amount:', present_value)\n",
    "# format number to round to 2 decimal places \n",
    "print('You will need to deposit this amount:', format(present_value, '.2f'))"
   ]
  }
 ],
 "metadata": {
  "kernelspec": {
   "display_name": "Python 3 (ipykernel)",
   "language": "python",
   "name": "python3"
  },
  "language_info": {
   "codemirror_mode": {
    "name": "ipython",
    "version": 3
   },
   "file_extension": ".py",
   "mimetype": "text/x-python",
   "name": "python",
   "nbconvert_exporter": "python",
   "pygments_lexer": "ipython3",
   "version": "3.11.1"
  }
 },
 "nbformat": 4,
 "nbformat_minor": 4
}
