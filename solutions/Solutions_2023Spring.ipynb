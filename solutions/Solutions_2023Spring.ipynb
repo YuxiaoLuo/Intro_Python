{
 "cells": [
  {
   "cell_type": "markdown",
   "id": "a7b056d8",
   "metadata": {},
   "source": [
    "# Codelab \n",
    "## I/O\n",
    "### testing input"
   ]
  },
  {
   "cell_type": "code",
   "execution_count": 3,
   "id": "c64ce1ec",
   "metadata": {
    "scrolled": true
   },
   "outputs": [
    {
     "name": "stdout",
     "output_type": "stream",
     "text": [
      "S\n",
      "vegetable juice\n"
     ]
    }
   ],
   "source": [
    "##################\n",
    "# 51906\n",
    "choice = input()\n",
    "if age <= 21:\n",
    "    if choice == \"S\": print(\"vegetable juice\")\n",
    "    elif choice == \"T\": print(\"cranberry juice\")\n",
    "    elif choice == \"B\": print(\"soda\")\n",
    "    else: print(\"invalid menu selection\")\n",
    "else:\n",
    "    if choice == \"S\": print(\"cabernet\")\n",
    "    elif choice == \"T\": print(\"chardonnay\")\n",
    "    elif choice == \"B\": print(\"IPA\")\n",
    "    else: print(\"invalid menu selection\")"
   ]
  },
  {
   "cell_type": "code",
   "execution_count": 7,
   "id": "3c40e6ef",
   "metadata": {},
   "outputs": [
    {
     "name": "stdout",
     "output_type": "stream",
     "text": [
      "2\n"
     ]
    }
   ],
   "source": [
    "################\n",
    "# 51908\n",
    "callsReceived = int(input())\n",
    "operatorsOnCall = int(input())\n",
    "if operatorsOnCall > 0:\n",
    "\tprint(callsReceived//operatorsOnCall)\n",
    "else:\n",
    "\tprint(\"INVALID\")"
   ]
  },
  {
   "cell_type": "code",
   "execution_count": null,
   "id": "ec157c54",
   "metadata": {},
   "outputs": [],
   "source": [
    "##############\n",
    "# 51863\n",
    "\n",
    "'A'<= x and x <='F' or 'a'<= x and x <='f' or  '0'<= x and x <='9'"
   ]
  },
  {
   "cell_type": "code",
   "execution_count": null,
   "id": "29970c29",
   "metadata": {},
   "outputs": [],
   "source": [
    "################\n",
    "# 51862\n",
    "'A'<= x and x <='Z' or 'a'<= x and x <='z' or  '0'<= x and x <='9'"
   ]
  },
  {
   "cell_type": "markdown",
   "id": "3537ba0e",
   "metadata": {},
   "source": [
    "# Homework"
   ]
  }
 ],
 "metadata": {
  "kernelspec": {
   "display_name": "Python 3 (ipykernel)",
   "language": "python",
   "name": "python3"
  },
  "language_info": {
   "codemirror_mode": {
    "name": "ipython",
    "version": 3
   },
   "file_extension": ".py",
   "mimetype": "text/x-python",
   "name": "python",
   "nbconvert_exporter": "python",
   "pygments_lexer": "ipython3",
   "version": "3.11.1"
  },
  "vscode": {
   "interpreter": {
    "hash": "11999223f83b28c21f853e107aac09b747e8f7fa7c558b8b9b7ae062bb485659"
   }
  }
 },
 "nbformat": 4,
 "nbformat_minor": 5
}
