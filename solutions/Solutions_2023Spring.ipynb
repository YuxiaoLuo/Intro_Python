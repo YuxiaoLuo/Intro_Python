{
 "cells": [
  {
   "cell_type": "markdown",
   "id": "a7b056d8",
   "metadata": {},
   "source": [
    "# Codelab \n",
    "## I/O\n",
    "### testing input"
   ]
  },
  {
   "cell_type": "code",
   "execution_count": 3,
   "id": "c64ce1ec",
   "metadata": {
    "scrolled": true
   },
   "outputs": [
    {
     "name": "stdout",
     "output_type": "stream",
     "text": [
      "S\n",
      "vegetable juice\n"
     ]
    }
   ],
   "source": [
    "##################\n",
    "# 51906\n",
    "choice = input()\n",
    "if age <= 21:\n",
    "    if choice == \"S\": print(\"vegetable juice\")\n",
    "    elif choice == \"T\": print(\"cranberry juice\")\n",
    "    elif choice == \"B\": print(\"soda\")\n",
    "    else: print(\"invalid menu selection\")\n",
    "else:\n",
    "    if choice == \"S\": print(\"cabernet\")\n",
    "    elif choice == \"T\": print(\"chardonnay\")\n",
    "    elif choice == \"B\": print(\"IPA\")\n",
    "    else: print(\"invalid menu selection\")"
   ]
  },
  {
   "cell_type": "code",
   "execution_count": 7,
   "id": "3c40e6ef",
   "metadata": {},
   "outputs": [
    {
     "name": "stdout",
     "output_type": "stream",
     "text": [
      "2\n"
     ]
    }
   ],
   "source": [
    "################\n",
    "# 51908\n",
    "callsReceived = int(input())\n",
    "operatorsOnCall = int(input())\n",
    "if operatorsOnCall > 0:\n",
    "\tprint(callsReceived//operatorsOnCall)\n",
    "else:\n",
    "\tprint(\"INVALID\")"
   ]
  },
  {
   "cell_type": "code",
   "execution_count": null,
   "id": "ab29eb43",
   "metadata": {},
   "outputs": [],
   "source": [
    "##############\n",
    "# 51863\n",
    "\n",
    "'A'<= x and x <='F' or 'a'<= x and x <='f' or  '0'<= x and x <='9'"
   ]
  },
  {
   "cell_type": "code",
   "execution_count": null,
   "id": "85724d35",
   "metadata": {},
   "outputs": [],
   "source": [
    "################\n",
    "# 51862\n",
    "'A'<= x and x <='Z' or 'a'<= x and x <='z' or  '0'<= x and x <='9'"
   ]
  },
  {
   "cell_type": "code",
   "execution_count": null,
   "id": "a393b98c",
   "metadata": {},
   "outputs": [],
   "source": [
    "###############\n",
    "# 51269\n",
    "\n",
    "is_prime = True\n",
    "if n == 1:\n",
    "\tis_prime = False\n",
    "else:\n",
    "    for i in range(2, n):\n",
    "        if n % i == 0:\n",
    "           is_prime = False\n",
    "           break"
   ]
  },
  {
   "cell_type": "code",
   "execution_count": null,
   "id": "f7a2dbf3",
   "metadata": {},
   "outputs": [],
   "source": [
    "#################\n",
    "# 51160\n",
    "min = x\n",
    "if  y < min:\n",
    "     min = y\n",
    "if  z < min:\n",
    "     min = z"
   ]
  },
  {
   "cell_type": "code",
   "execution_count": null,
   "id": "65479278",
   "metadata": {},
   "outputs": [],
   "source": [
    "#################\n",
    "# 51865\n",
    "not ('A'<= x and x <='Z' or 'a'<= x and x <='z')"
   ]
  },
  {
   "cell_type": "code",
   "execution_count": null,
   "id": "c2fca537",
   "metadata": {},
   "outputs": [],
   "source": [
    "#################\n",
    "# 51864\n",
    "x <'A' or x >'Z'"
   ]
  },
  {
   "cell_type": "markdown",
   "id": "7923f792",
   "metadata": {},
   "source": [
    "# Dictionary\n",
    "## Dictionary-traversal"
   ]
  },
  {
   "cell_type": "code",
   "execution_count": null,
   "id": "21a1907b",
   "metadata": {},
   "outputs": [],
   "source": [
    "# 51299\n",
    "d3 = {}\n",
    "for a,b in d1.items() :\n",
    "    if b in d2.keys() :\n",
    "        d3[a] = d2[b]"
   ]
  },
  {
   "cell_type": "code",
   "execution_count": null,
   "id": "01783d26",
   "metadata": {},
   "outputs": [],
   "source": [
    "# 51827\n",
    "party_size = {}\n",
    "for key in mp_affiliation :\n",
    "    if mp_affiliation[key] in party_size :\n",
    "        party_size[mp_affiliation[key]] += 1\n",
    "    else :\n",
    "        party_size[mp_affiliation[key]] = 1"
   ]
  },
  {
   "cell_type": "code",
   "execution_count": null,
   "id": "76dc6fbb",
   "metadata": {},
   "outputs": [],
   "source": [
    "# 51282\n",
    "inverse = {}\n",
    "for k in d.keys() :\n",
    "    v = d[k]\n",
    "    inverse[v] = k"
   ]
  },
  {
   "cell_type": "code",
   "execution_count": null,
   "id": "3d4b86fd",
   "metadata": {},
   "outputs": [],
   "source": [
    "# 51832\n",
    "winner = None\n",
    "for key, votes in election_results.items() :\n",
    "    if winner == None or votes > max : \n",
    "        max = votes\n",
    "        winner = key"
   ]
  },
  {
   "cell_type": "code",
   "execution_count": null,
   "id": "507e607f",
   "metadata": {},
   "outputs": [],
   "source": [
    "# 51830\n",
    "\n",
    "nafta_capitals = {}\n",
    "for key in us_capitals :\n",
    "\tnafta_capitals[key] = us_capitals[key]\n",
    "for key in canadian_capitals :\n",
    "\tnafta_capitals[key] = canadian_capitals[key]\n",
    "for key in mexican_capitals :\n",
    "\tnafta_capitals[key] = mexican_capitals[key]"
   ]
  },
  {
   "cell_type": "markdown",
   "id": "3537ba0e",
   "metadata": {},
   "source": [
    "# Final \n",
    "## Question 4\n",
    "This is the answer from a student in the class  who got 100 in the final exam."
   ]
  },
  {
   "cell_type": "code",
   "execution_count": null,
   "id": "e33d34fc",
   "metadata": {},
   "outputs": [],
   "source": [
    "file = open('EXAM.txt', mode = 'rt')\n",
    "grade = file.read().split('\\n')\n",
    "file.close()\n",
    "grade = grade[1:]\n",
    "\n",
    "a = 0\n",
    "b = 0\n",
    "c = 0\n",
    "d = 0\n",
    "f = 0\n",
    "\n",
    "#Part 1\n",
    "for row in grade:\n",
    "    total = 0 \n",
    "    student = row.split(\"\\t\")\n",
    "    for i in student[1:]:\n",
    "        number = int(i)\n",
    "        total += number \n",
    "    percent = total / 7\n",
    "    if percent > 90:\n",
    "        final = \"A\"\n",
    "        a += 1\n",
    "    elif percent >= 80:\n",
    "        final = \"B\"\n",
    "        b += 1\n",
    "    elif percent >= 70:\n",
    "        final = \"C\"\n",
    "        c += 1\n",
    "    elif percent >= 60:\n",
    "        final = \"D\"\n",
    "        d += 1\n",
    "    if percent < 60:\n",
    "        final = \"F\"\n",
    "        f += 1\n",
    "    print(student[0], '-', \"Total score:\", total, ',', \"Final grade:\", final)\n",
    "print(a, \"students got an A\")\n",
    "print(b, \"students got an B\")\n",
    "print(c, \"students got an C\")\n",
    "print(d, \"students got an D\")\n",
    "print(f, \"students got an F\")"
   ]
  }
 ],
 "metadata": {
  "kernelspec": {
   "display_name": "Python 3 (ipykernel)",
   "language": "python",
   "name": "python3"
  },
  "language_info": {
   "codemirror_mode": {
    "name": "ipython",
    "version": 3
   },
   "file_extension": ".py",
   "mimetype": "text/x-python",
   "name": "python",
   "nbconvert_exporter": "python",
   "pygments_lexer": "ipython3",
   "version": "3.11.1"
  },
  "vscode": {
   "interpreter": {
    "hash": "11999223f83b28c21f853e107aac09b747e8f7fa7c558b8b9b7ae062bb485659"
   }
  }
 },
 "nbformat": 4,
 "nbformat_minor": 5
}
