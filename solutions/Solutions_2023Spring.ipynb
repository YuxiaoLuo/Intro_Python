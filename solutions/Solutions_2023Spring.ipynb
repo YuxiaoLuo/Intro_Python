{
 "cells": [
  {
   "cell_type": "markdown",
   "id": "a7b056d8",
   "metadata": {},
   "source": [
    "# Codelab \n",
    "## I/O\n",
    "### testing input"
   ]
  },
  {
   "cell_type": "code",
   "execution_count": 3,
   "id": "c64ce1ec",
   "metadata": {
    "scrolled": true
   },
   "outputs": [
    {
     "name": "stdout",
     "output_type": "stream",
     "text": [
      "S\n",
      "vegetable juice\n"
     ]
    }
   ],
   "source": [
    "##################\n",
    "# 51906\n",
    "choice = input()\n",
    "if age <= 21:\n",
    "    if choice == \"S\": print(\"vegetable juice\")\n",
    "    elif choice == \"T\": print(\"cranberry juice\")\n",
    "    elif choice == \"B\": print(\"soda\")\n",
    "    else: print(\"invalid menu selection\")\n",
    "else:\n",
    "    if choice == \"S\": print(\"cabernet\")\n",
    "    elif choice == \"T\": print(\"chardonnay\")\n",
    "    elif choice == \"B\": print(\"IPA\")\n",
    "    else: print(\"invalid menu selection\")"
   ]
  },
  {
   "cell_type": "code",
   "execution_count": 7,
   "id": "3c40e6ef",
   "metadata": {},
   "outputs": [
    {
     "name": "stdout",
     "output_type": "stream",
     "text": [
      "2\n"
     ]
    }
   ],
   "source": [
    "################\n",
    "# 51908\n",
    "callsReceived = int(input())\n",
    "operatorsOnCall = int(input())\n",
    "if operatorsOnCall > 0:\n",
    "\tprint(callsReceived//operatorsOnCall)\n",
    "else:\n",
    "\tprint(\"INVALID\")"
   ]
  },
  {
   "cell_type": "code",
   "execution_count": null,
   "id": "ab29eb43",
   "metadata": {},
   "outputs": [],
   "source": [
    "##############\n",
    "# 51863\n",
    "\n",
    "'A'<= x and x <='F' or 'a'<= x and x <='f' or  '0'<= x and x <='9'"
   ]
  },
  {
   "cell_type": "code",
   "execution_count": null,
   "id": "85724d35",
   "metadata": {},
   "outputs": [],
   "source": [
    "################\n",
    "# 51862\n",
    "'A'<= x and x <='Z' or 'a'<= x and x <='z' or  '0'<= x and x <='9'"
   ]
  },
  {
   "cell_type": "code",
   "execution_count": null,
   "id": "a393b98c",
   "metadata": {},
   "outputs": [],
   "source": [
    "###############\n",
    "# 51269\n",
    "\n",
    "is_prime = True\n",
    "if n == 1:\n",
    "\tis_prime = False\n",
    "else:\n",
    "    for i in range(2, n):\n",
    "        if n % i == 0:\n",
    "           is_prime = False\n",
    "           break"
   ]
  },
  {
   "cell_type": "code",
   "execution_count": null,
   "id": "f7a2dbf3",
   "metadata": {},
   "outputs": [],
   "source": [
    "#################\n",
    "# 51160\n",
    "min = x\n",
    "if  y < min:\n",
    "     min = y\n",
    "if  z < min:\n",
    "     min = z"
   ]
  },
  {
   "cell_type": "code",
   "execution_count": null,
   "id": "65479278",
   "metadata": {},
   "outputs": [],
   "source": [
    "#################\n",
    "# 51865\n",
    "not ('A'<= x and x <='Z' or 'a'<= x and x <='z')"
   ]
  },
  {
   "cell_type": "code",
   "execution_count": null,
   "id": "c2fca537",
   "metadata": {},
   "outputs": [],
   "source": [
    "#################\n",
    "# 51864\n",
    "x <'A' or x >'Z'"
   ]
  },
  {
   "cell_type": "markdown",
   "id": "76d3e9ee",
   "metadata": {},
   "source": [
    "# Midterm"
   ]
  },
  {
   "cell_type": "code",
   "execution_count": null,
   "id": "89b39d88",
   "metadata": {},
   "outputs": [],
   "source": [
    "# Q1\n",
    "num_stu  = int(input('How many students are in the class? '))\n",
    "num_assign = int(input('How many assignemnts are given in this class? '))\n",
    "print() # blank line\n",
    "\n",
    "# 1st for loop for each student \n",
    "for i in range(num_stu): # num_stu = 5, sequence: 0,1,2,3,4\n",
    "    # initiate a total var\n",
    "    total = 0.0\n",
    "    print(f\"Student #{i+1}\") # sequence: 1, 2, 3, 4, 5\n",
    "    # 2nd for loop for each assignment\n",
    "    for j in range(num_assign): # num_assign = 10, sequence: range(10) -> 0,1,2,3,4,5,6,7,8,9\n",
    "        # enter the score for each assignment for stduent i+1\n",
    "        score = float(input(f'Assignment #{j+1}:'))\n",
    "        total += score\n",
    "    # average is calculated \n",
    "    print(f\"Student #{i+1} earned a {total/num_assign}\")\n",
    "    print()"
   ]
  },
  {
   "cell_type": "markdown",
   "id": "b8c7bed7",
   "metadata": {},
   "source": [
    "Factorial: \n",
    "- `n!` = 1\\*2\\*3...*(n-1)*n  \n",
    "- `(n-1)!` = 1\\*2\\*3...*(n-1)\n",
    "- `(r+n-1)!` = 1x2x3...x(r+n-2)x(r+n-1)\n",
    "- `(n-r)!` = 1x2x3...x(n-r-1)x(n-r)"
   ]
  },
  {
   "cell_type": "markdown",
   "id": "2c76c251",
   "metadata": {},
   "source": [
    "n = 20\n",
    "numerator = 1\n",
    "for i in range(1,n+1):\n",
    "    numerator *= i\n",
    "    print(numerator)\n",
    "print(f\"The factorial of {n} is {numerator}\")"
   ]
  },
  {
   "cell_type": "code",
   "execution_count": null,
   "id": "bff8488d",
   "metadata": {},
   "outputs": [],
   "source": [
    "# Q2\n",
    "\n",
    "# import math \n",
    "# math.factorial()\n",
    "\n",
    "# use for loop to calculate each factorial \n",
    "\n",
    "# input the variable values\n",
    "n = int(input(\"How many different numbers are possible? \"))\n",
    "r = int(input(\"How many number are used? \"))\n",
    "important = input(\"Is the order of the numbers important? Answer 'Yes' or 'No' \")\n",
    "repeat = input(\"Can you repeat a nmber? Answer 'Yes' or 'No' \")\n",
    "print()\n",
    "\n",
    "# there 4 possible conditions in total: use if-elif statement \n",
    "\n",
    "# 1st condition: important -> TRUE and repeat -> TRUE\n",
    "if important.lower() == \"yes\" and repeat.lower() == \"yes\": \n",
    "    # result is n^r\n",
    "    print(f\"The result is {n**r}.\")\n",
    "    \n",
    "# 2nd condition: important -> TRUE and repeat -> FALSE\n",
    "elif important.lower() == \"yes\" and repeat.lower() == \"no\":\n",
    "    # define numerator & denominator\n",
    "    numerator = 1\n",
    "    denominator = 1\n",
    "    # calculate factorial for numerator & denominator \n",
    "    for i in range(1, n+1): # calculate factorial\n",
    "        # range(1,n+1) will generate a sequence of 1,2,3,...,(n-1),n\n",
    "        # calculate n!\n",
    "        numerator *= i # n! = 1*2*3*4 ... *(n-1)*n\n",
    "    for j in range(1, n-r+1): # calculate factorial \n",
    "        # range(1,n-r+1) will generate a sequence of 1,2,3,...,(n-r-1),(n-r)\n",
    "        # calculate (n-r)!\n",
    "        denominator *= j # (n-r)! = 1*2*3*4* ... *(n-r-1)*(n-r)\n",
    "    print(f\"The result is {numerator/denominator}.\") \n",
    "\n",
    "# 3rd condition: important -> FALSE and repeat -> TRUE\n",
    "elif important.lower() == \"no\" and repeat.lower() == \"yes\": \n",
    "    # initiate numerator\n",
    "    numerator = 1\n",
    "    # initiate the two elements in denominator\n",
    "    denominator_r = 1\n",
    "    denominator_n = 1\n",
    "    # calculate (r+n-1)!\n",
    "    for i in range(1, r+n): # sequence of 1,2,3,...,r+n-1\n",
    "        # (r+n-1)!\n",
    "        numerator *= i\n",
    "        \n",
    "    # calculate r!\n",
    "    for j in range(1, r+1): # sequence of 1,2,3,...,r-1,r\n",
    "        denominator_r *= j\n",
    "        \n",
    "    # calculate (n-1)!\n",
    "    for k in range(1, n): # sequence of 1,2,3,...,n-1\n",
    "        denominator_n *= k\n",
    "    print(f\"The result is {numerator/(denominator_r*denominator_n)}.\")\n",
    "\n",
    "# 4th condition: important -> FALSE and repeat -> FALSE\n",
    "elif important.lower() == \"no\" and repeat.lower() == \"no\":\n",
    "    # initiate numerator\n",
    "    numerator = 1\n",
    "    # initiate the 2 elements in the denominator\n",
    "    denominator_r = 1\n",
    "    denominator_n = 1\n",
    "    for i in range(1, n+1): # sequence: 1,2,3,...,n -> n!\n",
    "        numerator *= i\n",
    "    for j in range(1, r+1): # sequence: 1,2,3,...,r -> r!\n",
    "        denominator_r *= j\n",
    "    for k in range(1, n-r+1): # sequence: 1,2,3,...,n-r -> (n-r)!\n",
    "        denominator_n *= k\n",
    "    print(f\"The result is {numerator/(denominator_r*denominator_n)}\")"
   ]
  },
  {
   "cell_type": "code",
   "execution_count": null,
   "id": "9cb79ce4",
   "metadata": {},
   "outputs": [],
   "source": [
    "# Q3\n",
    "score = float(input(\"Enter score: \"))\n",
    "\n",
    "while score < 0.0 or score > 1.0:\n",
    "    print(\"Error, the range is from 0 to 1.\")\n",
    "    print()\n",
    "    score = float(input(\"Enter score: \"))\n",
    "    \n",
    "if score >= 0.0 and score <= 1.0:\n",
    "    if score < 0.6:\n",
    "        print(\"F\")\n",
    "    elif score >= 0.6 and score < 0.7:\n",
    "        print(\"D\")\n",
    "    elif score >= 0.7 and score < 0.8:\n",
    "        print(\"C\")\n",
    "    elif score >= 0.8 and score < 0.9:\n",
    "        print(\"B\")\n",
    "    elif score >= 0.9:\n",
    "        print(\"A\")\n",
    "else:\n",
    "    print(\"Error, the range is from 0 to 1.\")"
   ]
  },
  {
   "cell_type": "code",
   "execution_count": null,
   "id": "e1328b6d",
   "metadata": {},
   "outputs": [],
   "source": [
    "# Q4\n",
    "hour_desire = 8.0\n",
    "total_hour = 0.0\n",
    "\n",
    "for i in range(7):\n",
    "    hour = float(input(f\"How many hours you sleep for day {i+1}? \"))\n",
    "    total_hour += hour\n",
    "\n",
    "# each week the target is 56 hours \n",
    "sleep_debt = total_hour - hour_desire*7\n",
    "\n",
    "if sleep_debt >= 0:\n",
    "    print(\"OMG, I'm jealousy.\")\n",
    "else:\n",
    "    print(f\"You sleep debt is {abs(sleep_debt)} hours.\")"
   ]
  },
  {
   "cell_type": "code",
   "execution_count": null,
   "id": "7d5a124d",
   "metadata": {},
   "outputs": [],
   "source": [
    "# Q5\n",
    "# n = int(input(\"How many stars do you want in the first row: \"))\n",
    "n = 7\n",
    "# iterations for each row\n",
    "for i in range(n): # 0,1,2,3,4,5,6\n",
    "    # print j number of spaces at the start of each row\n",
    "    for j in range(i): # 0,1\n",
    "        print('  ', end = '')\n",
    "    # print k number of stars for each row\n",
    "    for k in range(n, i, -1): # 7,6,5,4,3,2\n",
    "        print('*', end = ' ')\n",
    "    # next iteration goes to next line\n",
    "    print()"
   ]
  },
  {
   "cell_type": "code",
   "execution_count": 1,
   "id": "5449f5e8",
   "metadata": {},
   "outputs": [
    {
     "name": "stdout",
     "output_type": "stream",
     "text": [
      "Enter the number of stars for row 1: 7\n",
      "* * * * * * * \n",
      "  * * * * * * \n",
      "    * * * * * \n",
      "      * * * * \n",
      "        * * * \n",
      "          * * \n",
      "            * \n"
     ]
    }
   ],
   "source": [
    "# Gregory Sycle\n",
    "stars = int(input(\"Enter the number of stars for row 1: \"))\n",
    "for x in range(stars, 0, -1):\n",
    "    print(\"  \" * (stars - x), end='')\n",
    "    print(\"* \" * x)"
   ]
  },
  {
   "cell_type": "markdown",
   "id": "3537ba0e",
   "metadata": {},
   "source": [
    "# Homework"
   ]
  },
  {
   "cell_type": "code",
   "execution_count": null,
   "id": "e33d34fc",
   "metadata": {},
   "outputs": [],
   "source": []
  }
 ],
 "metadata": {
  "kernelspec": {
   "display_name": "Python 3 (ipykernel)",
   "language": "python",
   "name": "python3"
  },
  "language_info": {
   "codemirror_mode": {
    "name": "ipython",
    "version": 3
   },
   "file_extension": ".py",
   "mimetype": "text/x-python",
   "name": "python",
   "nbconvert_exporter": "python",
   "pygments_lexer": "ipython3",
   "version": "3.11.1"
  },
  "vscode": {
   "interpreter": {
    "hash": "11999223f83b28c21f853e107aac09b747e8f7fa7c558b8b9b7ae062bb485659"
   }
  }
 },
 "nbformat": 4,
 "nbformat_minor": 5
}
