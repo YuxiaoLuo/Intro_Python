{
 "cells": [
  {
   "cell_type": "markdown",
   "id": "57dfaf9a",
   "metadata": {},
   "source": [
    "# I/O\n",
    "## testing input"
   ]
  },
  {
   "cell_type": "code",
   "execution_count": 6,
   "id": "147c0b0e",
   "metadata": {},
   "outputs": [
    {
     "name": "stdout",
     "output_type": "stream",
     "text": [
      "T\n",
      "cranberry juice\n"
     ]
    }
   ],
   "source": [
    "##################\n",
    "# 51906\n",
    "choice = input()\n",
    "if age <= 21:\n",
    "    if choice == \"S\": print(\"vegetable juice\")\n",
    "    elif choice == \"T\": print(\"cranberry juice\")\n",
    "    elif choice == \"B\": print(\"soda\")\n",
    "    else: print(\"invalid menu selection\")\n",
    "else:\n",
    "    if choice == \"S\": print(\"cabernet\")\n",
    "    elif choice == \"T\": print(\"chardonnay\")\n",
    "    elif choice == \"B\": print(\"IPA\")\n",
    "    else: print(\"invalid menu selection\")"
   ]
  },
  {
   "cell_type": "code",
   "execution_count": 1,
   "id": "0e3221cf",
   "metadata": {
    "scrolled": true
   },
   "outputs": [
    {
     "name": "stdout",
     "output_type": "stream",
     "text": [
      "9\n",
      "3.0\n"
     ]
    }
   ],
   "source": [
    "##################\n",
    "# 51907\n",
    "import math\n",
    "areaOfSquare = int(input())\n",
    "if areaOfSquare < 0:\n",
    "    print(\"INVALID\")\n",
    "else:\n",
    "    print(math.sqrt(areaOfSquare))"
   ]
  },
  {
   "cell_type": "code",
   "execution_count": null,
   "id": "1a2c1e61",
   "metadata": {},
   "outputs": [],
   "source": [
    "#####################\n",
    "# 51908\n",
    "callsReceived = int(input())\n",
    "operatorsOnCall  = int(input())\n",
    "if operatorsOnCall > 0 :\n",
    "\tprint(callsReceived // operatorsOnCall)\n",
    "else :\n",
    "\tprint(\"INVALID\")"
   ]
  },
  {
   "cell_type": "markdown",
   "id": "041984ce",
   "metadata": {},
   "source": [
    "# Conditions and Branches\n",
    "## String Comp and Logical \n",
    "\n",
    "- Computers store numeric codes that represent the characters. \n",
    "- [ASCII](https://www.asciitable.com/) (the American Standard Code for Information Interchange) is a commonly used character coding system.\n",
    "    - The uppercase characters A through Z are represented by the numbers 65 through 90.\n",
    "    - The lowercase characters a through z are represented by the numbers 97 through 122.\n",
    "    - When the digits 0 through 9 are stored in memory as characters, they are represented by the numbers 48 through 57. (For example, the string 'abc123' would be stored in memory as the codes 97, 98, 99, 49, 50, and 51.)\n",
    "    - A blank space is represented by the number 32.\n",
    "- In addition to establishing a set of numeric codes to represent characters in memory, ASCII also establishes an order for characters. The character “A” comes before the character “B”, which comes before the character “C”, and so on.\n",
    "- As a result, when a program compares characters, it actually compares the codes for the characters."
   ]
  },
  {
   "cell_type": "code",
   "execution_count": 1,
   "id": "486d826a",
   "metadata": {},
   "outputs": [],
   "source": [
    "## Conditions and Branches\n",
    "### String Comp and Logical \n",
    "\n",
    "#####################\n",
    "# 51862\n",
    "# Assume that x is a variable that has been given a string value. \n",
    "# Write an expression whose value is True if and only if x is alphanumeric, \n",
    "# that is either a letter or a decimal digit.\n",
    "\n",
    "# recommended \n",
    "('A' <= x and x <= 'Z') or ('a' <= x and x <= 'z') or ('0' <= x and x <= '9')\n",
    "\n",
    "'A' <= x and x <= 'Z' or 'a' <= x and x <= 'z' or '0' <= x and x <= '9'"
   ]
  },
  {
   "cell_type": "code",
   "execution_count": 9,
   "id": "1ebdfee5",
   "metadata": {},
   "outputs": [],
   "source": [
    "## Conditions and Branches\n",
    "### String Comp and Logical \n",
    "\n",
    "#####################\n",
    "# 51863\n",
    "# 0-9 plus A-F or a-f\n",
    "(x >= 0 and x <= 9) or (x >= 'A' and x <= 'F') or (x >= 'a' and x <= 'f')\n"
   ]
  },
  {
   "cell_type": "code",
   "execution_count": null,
   "id": "36f0218f",
   "metadata": {},
   "outputs": [],
   "source": [
    "## Conditions and Branches\n",
    "### String Comp and Logical \n",
    "#####################\n",
    "# 51864\n",
    "x < 'A' or x > 'Z'"
   ]
  },
  {
   "cell_type": "code",
   "execution_count": null,
   "id": "6649941b",
   "metadata": {},
   "outputs": [],
   "source": [
    "## Conditions and Branches\n",
    "### String Comp and Logical \n",
    "#####################\n",
    "# 51865\n",
    "(x >= 'A' and x <= 'Z') or (x >= 'a' and x <= 'z')"
   ]
  },
  {
   "cell_type": "code",
   "execution_count": null,
   "id": "faac9d1d",
   "metadata": {},
   "outputs": [],
   "source": [
    "## Conditions and Branches\n",
    "### String Comp and Logical \n",
    "#####################\n",
    "# 51870\n",
    "x > 'mortgage' and x < 'mortuary'"
   ]
  },
  {
   "cell_type": "code",
   "execution_count": null,
   "id": "4868578c",
   "metadata": {},
   "outputs": [],
   "source": []
  }
 ],
 "metadata": {
  "kernelspec": {
   "display_name": "Python 3",
   "language": "python",
   "name": "python3"
  },
  "language_info": {
   "codemirror_mode": {
    "name": "ipython",
    "version": 3
   },
   "file_extension": ".py",
   "mimetype": "text/x-python",
   "name": "python",
   "nbconvert_exporter": "python",
   "pygments_lexer": "ipython3",
   "version": "3.9.5"
  }
 },
 "nbformat": 4,
 "nbformat_minor": 5
}
