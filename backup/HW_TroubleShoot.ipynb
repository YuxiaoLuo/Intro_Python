{
 "cells": [
  {
   "cell_type": "markdown",
   "id": "48f360e1",
   "metadata": {},
   "source": [
    "# `print` function\n",
    "## `+` cannot concatenate a `str` and an `int` value"
   ]
  },
  {
   "cell_type": "code",
   "execution_count": 1,
   "id": "43dba4da",
   "metadata": {},
   "outputs": [
    {
     "name": "stdout",
     "output_type": "stream",
     "text": [
      "Price? 24\n",
      "Price of item 1: $24\n",
      "Quantity? 5\n",
      "Quantity of item 1: 5\n",
      "Price? 24\n",
      "Price of item 2: $24\n",
      "Quantity? 4\n",
      "Quantity of item 2: 4\n",
      "Price? 24\n",
      "Price of item 3: $24\n",
      "Quantity? 4\n",
      "Quantity of item 3: 4\n"
     ]
    },
    {
     "ename": "TypeError",
     "evalue": "can only concatenate str (not \"int\") to str",
     "output_type": "error",
     "traceback": [
      "\u001b[1;31m---------------------------------------------------------------------------\u001b[0m",
      "\u001b[1;31mTypeError\u001b[0m                                 Traceback (most recent call last)",
      "\u001b[1;32m<ipython-input-1-3ada50b1bdb2>\u001b[0m in \u001b[0;36m<module>\u001b[1;34m\u001b[0m\n\u001b[0;32m     25\u001b[0m \u001b[1;33m\u001b[0m\u001b[0m\n\u001b[0;32m     26\u001b[0m \u001b[0msubtotal\u001b[0m \u001b[1;33m=\u001b[0m \u001b[0mp1\u001b[0m \u001b[1;33m+\u001b[0m \u001b[0mp2\u001b[0m \u001b[1;33m+\u001b[0m \u001b[0mp3\u001b[0m\u001b[1;33m\u001b[0m\u001b[1;33m\u001b[0m\u001b[0m\n\u001b[1;32m---> 27\u001b[1;33m \u001b[0mprint\u001b[0m\u001b[1;33m(\u001b[0m\u001b[1;34m'Subtotal: '\u001b[0m \u001b[1;33m+\u001b[0m \u001b[0msubtotal\u001b[0m\u001b[1;33m)\u001b[0m\u001b[1;33m\u001b[0m\u001b[1;33m\u001b[0m\u001b[0m\n\u001b[0m",
      "\u001b[1;31mTypeError\u001b[0m: can only concatenate str (not \"int\") to str"
     ]
    }
   ],
   "source": [
    "#1)\n",
    "\n",
    "price_item1 = input('Price? ')\n",
    "print('Price of item 1: $'+ price_item1)\n",
    "quantity_item1 = input('Quantity? ')\n",
    "print('Quantity of item 1: ' + quantity_item1)\n",
    "\n",
    "\n",
    "price_item2 = input('Price? ')\n",
    "print('Price of item 2: $' + price_item2)\n",
    "quantity_item2 = input('Quantity? ')\n",
    "print('Quantity of item 2: ' + quantity_item2)\n",
    "\n",
    "\n",
    "\n",
    "price_item3 = input('Price? ')\n",
    "print('Price of item 3: $' + price_item3)\n",
    "quantity_item3 = input('Quantity? ')\n",
    "print('Quantity of item 3: ' + quantity_item3)\n",
    "\n",
    "\n",
    "p1 = int(price_item1) * int(quantity_item1)\n",
    "p2 = int(price_item2) * int(quantity_item2)\n",
    "p3 = int(price_item3) * int(quantity_item3)\n",
    "\n",
    "subtotal = p1 + p2 + p3\n",
    "print('Subtotal: ' + subtotal)"
   ]
  }
 ],
 "metadata": {
  "kernelspec": {
   "display_name": "Python 3",
   "language": "python",
   "name": "python3"
  },
  "language_info": {
   "codemirror_mode": {
    "name": "ipython",
    "version": 3
   },
   "file_extension": ".py",
   "mimetype": "text/x-python",
   "name": "python",
   "nbconvert_exporter": "python",
   "pygments_lexer": "ipython3",
   "version": "3.9.5"
  }
 },
 "nbformat": 4,
 "nbformat_minor": 5
}
