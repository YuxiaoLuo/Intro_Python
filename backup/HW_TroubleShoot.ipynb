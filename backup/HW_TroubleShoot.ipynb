{
 "cells": [
  {
   "cell_type": "markdown",
   "id": "48f360e1",
   "metadata": {},
   "source": [
    "# HW \n",
    "## `print` function\n",
    "### `+` cannot concatenate a `str` and an `int` value"
   ]
  },
  {
   "cell_type": "code",
   "execution_count": 1,
   "id": "43dba4da",
   "metadata": {},
   "outputs": [
    {
     "name": "stdout",
     "output_type": "stream",
     "text": [
      "Price? 24\n",
      "Price of item 1: $24\n",
      "Quantity? 5\n",
      "Quantity of item 1: 5\n",
      "Price? 24\n",
      "Price of item 2: $24\n",
      "Quantity? 4\n",
      "Quantity of item 2: 4\n",
      "Price? 24\n",
      "Price of item 3: $24\n",
      "Quantity? 4\n",
      "Quantity of item 3: 4\n"
     ]
    },
    {
     "ename": "TypeError",
     "evalue": "can only concatenate str (not \"int\") to str",
     "output_type": "error",
     "traceback": [
      "\u001b[1;31m---------------------------------------------------------------------------\u001b[0m",
      "\u001b[1;31mTypeError\u001b[0m                                 Traceback (most recent call last)",
      "\u001b[1;32m<ipython-input-1-3ada50b1bdb2>\u001b[0m in \u001b[0;36m<module>\u001b[1;34m\u001b[0m\n\u001b[0;32m     25\u001b[0m \u001b[1;33m\u001b[0m\u001b[0m\n\u001b[0;32m     26\u001b[0m \u001b[0msubtotal\u001b[0m \u001b[1;33m=\u001b[0m \u001b[0mp1\u001b[0m \u001b[1;33m+\u001b[0m \u001b[0mp2\u001b[0m \u001b[1;33m+\u001b[0m \u001b[0mp3\u001b[0m\u001b[1;33m\u001b[0m\u001b[1;33m\u001b[0m\u001b[0m\n\u001b[1;32m---> 27\u001b[1;33m \u001b[0mprint\u001b[0m\u001b[1;33m(\u001b[0m\u001b[1;34m'Subtotal: '\u001b[0m \u001b[1;33m+\u001b[0m \u001b[0msubtotal\u001b[0m\u001b[1;33m)\u001b[0m\u001b[1;33m\u001b[0m\u001b[1;33m\u001b[0m\u001b[0m\n\u001b[0m",
      "\u001b[1;31mTypeError\u001b[0m: can only concatenate str (not \"int\") to str"
     ]
    }
   ],
   "source": [
    "#1)\n",
    "\n",
    "price_item1 = input('Price? ')\n",
    "print('Price of item 1: $'+ price_item1)\n",
    "quantity_item1 = input('Quantity? ')\n",
    "print('Quantity of item 1: ' + quantity_item1)\n",
    "\n",
    "\n",
    "price_item2 = input('Price? ')\n",
    "print('Price of item 2: $' + price_item2)\n",
    "quantity_item2 = input('Quantity? ')\n",
    "print('Quantity of item 2: ' + quantity_item2)\n",
    "\n",
    "\n",
    "\n",
    "price_item3 = input('Price? ')\n",
    "print('Price of item 3: $' + price_item3)\n",
    "quantity_item3 = input('Quantity? ')\n",
    "print('Quantity of item 3: ' + quantity_item3)\n",
    "\n",
    "\n",
    "p1 = int(price_item1) * int(quantity_item1)\n",
    "p2 = int(price_item2) * int(quantity_item2)\n",
    "p3 = int(price_item3) * int(quantity_item3)\n",
    "\n",
    "subtotal = p1 + p2 + p3\n",
    "print('Subtotal: ' + subtotal)\n",
    "\n",
    "# + in print could only concatenate strings"
   ]
  },
  {
   "cell_type": "code",
   "execution_count": 2,
   "id": "7e8806aa",
   "metadata": {},
   "outputs": [
    {
     "data": {
      "text/plain": [
       "int"
      ]
     },
     "execution_count": 2,
     "metadata": {},
     "output_type": "execute_result"
    }
   ],
   "source": [
    "type(subtotal)"
   ]
  },
  {
   "cell_type": "code",
   "execution_count": 4,
   "id": "1d6b466f",
   "metadata": {},
   "outputs": [
    {
     "name": "stdout",
     "output_type": "stream",
     "text": [
      "Subtotal: 312\n"
     ]
    }
   ],
   "source": [
    "print('Subtotal:', subtotal)"
   ]
  },
  {
   "cell_type": "code",
   "execution_count": 5,
   "id": "23be8fbb",
   "metadata": {},
   "outputs": [
    {
     "name": "stdout",
     "output_type": "stream",
     "text": [
      "Subtotal: 312\n"
     ]
    }
   ],
   "source": [
    "print(f'Subtotal: {subtotal}')"
   ]
  },
  {
   "cell_type": "markdown",
   "id": "e05beaca",
   "metadata": {},
   "source": [
    "## Dictionaries and Lists"
   ]
  },
  {
   "cell_type": "code",
   "execution_count": 1,
   "id": "b9bac1d6",
   "metadata": {},
   "outputs": [
    {
     "name": "stdout",
     "output_type": "stream",
     "text": [
      "{'gold': 33, 'silver': 17, 'bronze': 12}\n"
     ]
    }
   ],
   "source": [
    "# Q1\n",
    "medal_countl_count = {'gold': 33, 'silver': 17, 'bronze':12}\n",
    "print(medal_count)"
   ]
  },
  {
   "cell_type": "code",
   "execution_count": 4,
   "id": "f78a5ee3",
   "metadata": {},
   "outputs": [
    {
     "data": {
      "text/plain": [
       "{'Manuel': 4,\n",
       " 'Lochte': 12,\n",
       " 'Adrian': 7,\n",
       " 'Ledecky': 5,\n",
       " 'Dirado': 4,\n",
       " 'Phelps': 28}"
      ]
     },
     "execution_count": 4,
     "metadata": {},
     "output_type": "execute_result"
    }
   ],
   "source": [
    "# Q2\n",
    "swimmers = {'Manuel':4, 'Lochte':12, 'Adrian':7, 'Ledecky':5, 'Dirado':4, 'Phelps':23}\n",
    "swimmers['Phelps'] += 5\n",
    "swimmers"
   ]
  },
  {
   "cell_type": "code",
   "execution_count": 24,
   "id": "cfd5f27f",
   "metadata": {},
   "outputs": [
    {
     "name": "stdout",
     "output_type": "stream",
     "text": [
      "{1: 10, 2: 20}\n",
      "{3: 30, 4: 40}\n",
      "{5: 50, 6: 60}\n"
     ]
    },
    {
     "data": {
      "text/plain": [
       "{1: 10, 2: 20, 3: 30, 4: 40, 5: 50, 6: 60}"
      ]
     },
     "execution_count": 24,
     "metadata": {},
     "output_type": "execute_result"
    }
   ],
   "source": [
    "# Q3\n",
    "d1={1:10, 2:20}\n",
    "d2={3:30, 4:40}\n",
    "d3={5:50, 6:60}\n",
    "\n",
    "# create a list containing 3 dictionaries \n",
    "d_list = [d1, d2, d3]\n",
    "# create an empty dictionary\n",
    "d_expect = {}\n",
    "\n",
    "for dictionary in d_list:\n",
    "    # print each dictionary\n",
    "    print(dictionary)\n",
    "    # nested for loop\n",
    "    for key,value in dictionary.items():\n",
    "        # assign key and value\n",
    "        d_expect[key] = value\n",
    "        \n",
    "d_expect"
   ]
  },
  {
   "cell_type": "code",
   "execution_count": 29,
   "id": "e0d35a3a",
   "metadata": {
    "scrolled": true
   },
   "outputs": [
    {
     "name": "stdout",
     "output_type": "stream",
     "text": [
      "{1: 10, 2: 20}\n",
      "{1: 20, 3: 30, 4: 40}\n",
      "{5: 50, 6: 60, 3: 60}\n",
      "{1: 30, 2: 20, 3: 90, 4: 40, 5: 50, 6: 60}\n"
     ]
    }
   ],
   "source": [
    "# Q4\n",
    "d1={1:10, 2:20}\n",
    "d2={1:20, 3:30, 4:40}\n",
    "d3={5:50,6:60,3:60}\n",
    "\n",
    "d_list = [d1, d2, d3]\n",
    "d_expect = {}\n",
    "\n",
    "for dictionary in d_list:\n",
    "    print(dictionary)\n",
    "    for key, value in dictionary.items():\n",
    "        if key in d_expect.keys():\n",
    "            d_expect[key] += value\n",
    "        else:\n",
    "            d_expect[key] = value\n",
    "print(d_expect)"
   ]
  },
  {
   "cell_type": "code",
   "execution_count": 54,
   "id": "2a855144",
   "metadata": {},
   "outputs": [
    {
     "name": "stdout",
     "output_type": "stream",
     "text": [
      "Please enter a word for word count: CIS2300\n",
      "{'c': 1, 'i': 1, 's': 1, '2': 1, '3': 1, '0': 2}\n"
     ]
    }
   ],
   "source": [
    "# Q5\n",
    "\n",
    "# define main function\n",
    "def main():\n",
    "    result = countLetter(input('Please enter a word for word count: ').lower())\n",
    "    print(result)\n",
    "\n",
    "# define count letter\n",
    "def countLetter(word):\n",
    "    # word is a string\n",
    "    \n",
    "    dict_count = {}\n",
    "    for letter in word:\n",
    "        if letter in dict_count.keys():\n",
    "            dict_count[letter] += 1\n",
    "        else: \n",
    "            dict_count[letter] = 1\n",
    "    return dict_count\n",
    "\n",
    "# call main()\n",
    "if __name__ == '__main__':\n",
    "    main()"
   ]
  },
  {
   "cell_type": "code",
   "execution_count": 91,
   "id": "c8609dfc",
   "metadata": {},
   "outputs": [
    {
     "name": "stdout",
     "output_type": "stream",
     "text": [
      "This is the menu: \n",
      "\n",
      "    1. look up and return a person's email address \n",
      "    2. add a new name and email address and return the updated dictionary \n",
      "    3. change an existing email and return the updated dictionary \n",
      "    4. delete and existing name and email address and return the updated dictionary \n",
      "\n",
      "Please enter your option: 2\n",
      "Please enter the name of the new person: Yuxiao\n",
      "Please enter the email address of the new person: Yuxiao@baruch.cuny.edu\n",
      "The person you are looking for is not in our email system.\n",
      "The new person has been added to the email system.\n",
      "Do you have more action? Enter Y/N:n\n",
      "You chose to stop.\n",
      "The current email dictioanry: {'Yuxiao': 'Yuxiao@baruch.cuny.edu'}\n"
     ]
    }
   ],
   "source": [
    "# Q6\n",
    "\n",
    "# define main function\n",
    "def main():\n",
    "    \n",
    "    global dict_email \n",
    "    dict_email = {}\n",
    "    continue_while = True\n",
    "    \n",
    "    while continue_while:\n",
    "        # display menu and get user input option\n",
    "        option = displayMenu()\n",
    "        if option == 1:\n",
    "            person = input('Please enter the name of the person you are looking for: ')\n",
    "            lookupEmail(person)\n",
    "        elif option == 2:\n",
    "            person = input('Please enter the name of the new person: ')\n",
    "            email = input('Please enter the email address of the new person: ')\n",
    "            addEmail(person, email)\n",
    "        elif option == 3:\n",
    "            person = input('Please enter the person name: ')\n",
    "            email = input('Please enter the udpated email address: ')\n",
    "            updateEmail(person, email)\n",
    "        elif option == 4:\n",
    "            person = input('Please enther person name you want to delete: ')\n",
    "            deleteEmail(person)\n",
    "            \n",
    "        continue_input = input(\"Do you have more action? Enter Y/N:\")\n",
    "        \n",
    "        if continue_input.lower() == 'n':\n",
    "            continue_while = False\n",
    "            print('You chose to stop.')\n",
    "            \n",
    "    print(f'The current email dictionary: {dict_email}')\n",
    "    \n",
    "# display the menu\n",
    "def displayMenu():\n",
    "    print(\"This is the menu: \")\n",
    "    print(\"\"\"\n",
    "    1. look up and return a person's email address \n",
    "    2. add a new name and email address and return the updated dictionary \n",
    "    3. change an existing email and return the updated dictionary \n",
    "    4. delete and existing name and email address and return the updated dictionary \\n\"\"\")\n",
    "    \n",
    "    numeric = True \n",
    "    while numeric:\n",
    "        user_input = int(input('Please enter your option: '))\n",
    "        if user_input in range(1,5):\n",
    "            numeric = False\n",
    "        else: \n",
    "            print('INVALID: the number is out of range or not numeric, please enter a valid one. \\n')\n",
    "    # return the user input option #\n",
    "    return user_input\n",
    "\n",
    "# loopup email\n",
    "def lookupEmail(person):\n",
    "    if person in dict_email.keys():\n",
    "        print(f'The email address of {person} is {dict_email[person]}.')\n",
    "        return dict_email[person]\n",
    "    else: \n",
    "        print('The person you are looking for is not in our email system.')\n",
    "\n",
    "# add email \n",
    "def addEmail(person, email):\n",
    "    if lookupEmail(person) is not None:\n",
    "        print('The person is already in the email system.')\n",
    "    else: \n",
    "        dict_email[person] = email\n",
    "        print('The new person has been added to the email system.')\n",
    "    return dict_email\n",
    "\n",
    "# update email\n",
    "def updateEmail(person, email):\n",
    "    dict_email[person] = email\n",
    "    return dict_email\n",
    "\n",
    "# delete email\n",
    "def deleteEmail(person):\n",
    "    return dict_email.pop(person)\n",
    "    \n",
    "# call main\n",
    "if __name__ == '__main__':\n",
    "    main()\n",
    "    "
   ]
  }
 ],
 "metadata": {
  "kernelspec": {
   "display_name": "Python 3",
   "language": "python",
   "name": "python3"
  },
  "language_info": {
   "codemirror_mode": {
    "name": "ipython",
    "version": 3
   },
   "file_extension": ".py",
   "mimetype": "text/x-python",
   "name": "python",
   "nbconvert_exporter": "python",
   "pygments_lexer": "ipython3",
   "version": "3.9.5"
  }
 },
 "nbformat": 4,
 "nbformat_minor": 5
}
