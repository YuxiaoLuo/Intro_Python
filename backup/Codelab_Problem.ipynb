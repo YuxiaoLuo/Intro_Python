{
 "cells": [
  {
   "cell_type": "markdown",
   "id": "57dfaf9a",
   "metadata": {},
   "source": [
    "# I/O\n",
    "## testing input"
   ]
  },
  {
   "cell_type": "code",
   "execution_count": 3,
   "id": "911c43d6",
   "metadata": {},
   "outputs": [
    {
     "name": "stdout",
     "output_type": "stream",
     "text": [
      "25\n",
      "S\n",
      "cabernet\n"
     ]
    }
   ],
   "source": [
    "##################\n",
    "# 51906\n",
    "\"\"\"\n",
    "Please enter S, T or B for the choice\n",
    "\"\"\"\n",
    "choice = input()\n",
    "if age <= 21 :\n",
    "    if choice == \"S\" : print(\"vegetable juice\")\n",
    "\telif choice == \"T\" : print(\"cranberry juice\")\n",
    "\telif choice == \"B\" : print(\"soda\")\n",
    "\telse : print(\"invalid menu selection\")\n",
    "else :\n",
    "\tif choice == \"S\" : print(\"cabernet\")\n",
    "\telif choice == \"T\" : print(\"chardonnay\")\n",
    "\telif choice == \"B\" : print(\"IPA\")\n",
    "\telse : print(\"invalid menu selection\")"
   ]
  },
  {
   "cell_type": "code",
   "execution_count": 1,
   "id": "0e3221cf",
   "metadata": {},
   "outputs": [
    {
     "name": "stdout",
     "output_type": "stream",
     "text": [
      "9\n",
      "3.0\n"
     ]
    }
   ],
   "source": [
    "##################\n",
    "# 51907\n",
    "import math\n",
    "areaOfSquare = int(input())\n",
    "if areaOfSquare < 0:\n",
    "    print(\"INVALID\")\n",
    "else:\n",
    "    print(math.sqrt(areaOfSquare))"
   ]
  },
  {
   "cell_type": "code",
   "execution_count": null,
   "id": "1a2c1e61",
   "metadata": {},
   "outputs": [],
   "source": [
    "#####################\n",
    "# 51908\n",
    "callsReceived = int(input())\n",
    "operatorsOnCall  = int(input())\n",
    "if operatorsOnCall > 0 :\n",
    "\tprint(callsReceived // operatorsOnCall)\n",
    "else :\n",
    "\tprint(\"INVALID\")"
   ]
  }
 ],
 "metadata": {
  "kernelspec": {
   "display_name": "Python 3",
   "language": "python",
   "name": "python3"
  },
  "language_info": {
   "codemirror_mode": {
    "name": "ipython",
    "version": 3
   },
   "file_extension": ".py",
   "mimetype": "text/x-python",
   "name": "python",
   "nbconvert_exporter": "python",
   "pygments_lexer": "ipython3",
   "version": "3.9.5"
  }
 },
 "nbformat": 4,
 "nbformat_minor": 5
}
