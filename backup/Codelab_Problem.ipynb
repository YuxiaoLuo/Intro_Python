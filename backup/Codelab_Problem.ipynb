{
 "cells": [
  {
   "cell_type": "markdown",
   "id": "57dfaf9a",
   "metadata": {},
   "source": [
    "# I/O\n",
    "## testing input"
   ]
  },
  {
   "cell_type": "code",
   "execution_count": 6,
   "id": "147c0b0e",
   "metadata": {},
   "outputs": [
    {
     "name": "stdout",
     "output_type": "stream",
     "text": [
      "T\n",
      "cranberry juice\n"
     ]
    }
   ],
   "source": [
    "##################\n",
    "# 51906\n",
    "choice = input()\n",
    "if age <= 21:\n",
    "    if choice == \"S\": print(\"vegetable juice\")\n",
    "    elif choice == \"T\": print(\"cranberry juice\")\n",
    "    elif choice == \"B\": print(\"soda\")\n",
    "    else: print(\"invalid menu selection\")\n",
    "else:\n",
    "    if choice == \"S\": print(\"cabernet\")\n",
    "    elif choice == \"T\": print(\"chardonnay\")\n",
    "    elif choice == \"B\": print(\"IPA\")\n",
    "    else: print(\"invalid menu selection\")"
   ]
  },
  {
   "cell_type": "code",
   "execution_count": 1,
   "id": "0e3221cf",
   "metadata": {
    "scrolled": true
   },
   "outputs": [
    {
     "name": "stdout",
     "output_type": "stream",
     "text": [
      "9\n",
      "3.0\n"
     ]
    }
   ],
   "source": [
    "##################\n",
    "# 51907\n",
    "import math\n",
    "areaOfSquare = int(input())\n",
    "if areaOfSquare < 0:\n",
    "    print(\"INVALID\")\n",
    "else:\n",
    "    print(math.sqrt(areaOfSquare))"
   ]
  },
  {
   "cell_type": "code",
   "execution_count": null,
   "id": "1a2c1e61",
   "metadata": {},
   "outputs": [],
   "source": [
    "#####################\n",
    "# 51908\n",
    "callsReceived = int(input())\n",
    "operatorsOnCall  = int(input())\n",
    "if operatorsOnCall > 0 :\n",
    "\tprint(callsReceived // operatorsOnCall)\n",
    "else :\n",
    "\tprint(\"INVALID\")"
   ]
  }
 ],
 "metadata": {
  "kernelspec": {
   "display_name": "Python 3",
   "language": "python",
   "name": "python3"
  },
  "language_info": {
   "codemirror_mode": {
    "name": "ipython",
    "version": 3
   },
   "file_extension": ".py",
   "mimetype": "text/x-python",
   "name": "python",
   "nbconvert_exporter": "python",
   "pygments_lexer": "ipython3",
   "version": "3.9.5"
  }
 },
 "nbformat": 4,
 "nbformat_minor": 5
}
