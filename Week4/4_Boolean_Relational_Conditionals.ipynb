{
 "cells": [
  {
   "cell_type": "markdown",
   "metadata": {},
   "source": [
    "# Decision Structures & Bollean Logic"
   ]
  },
  {
   "cell_type": "markdown",
   "metadata": {},
   "source": [
    "## Control Structure\n",
    "A control structure is a logical design that controls the order in which a set of statements\n",
    "execute.\n",
    "#### Sequence Structure\n",
    "A sequence structure is a set of statements that execute in the order in\n",
    "which they appear. For example, the following code is a sequence structure because the statements\n",
    "execute from top to bottom:\n",
    "\n",
    "```\n",
    "> name = input('What is your name? ')\n",
    "> age = int(input('What is your age? '))\n",
    "> print('Here is the data you entered:')\n",
    "> print('Name:', name)\n",
    "> print('Age:', age)\n",
    "```\n",
    "\n",
    "Although the sequence structure is heavily used in programming, it cannot handle every\n",
    "type of task. This is because some problems simply cannot be solved by performing a set\n",
    "of ordered steps, one after the other.\n",
    "\n",
    "#### Decision Structure (selection structure)\n",
    "In a decision structure’s simplest form, a specific action is performed only if a certain condition\n",
    "exists. If the condition does not exist, the action is not performed. \n",
    "\n",
    "```\n",
    "if condition:\n",
    "    statement\n",
    "    statement\n",
    "    etc.\n",
    "```\n",
    "\n",
    "For simplicity, we will refer to the first line as the if clause. The if clause begins with\n",
    "the word if, followed by a condition, which is an expression that will be evaluated\n",
    "as either true or false. A colon appears after the condition. Beginning at the next line\n",
    "is a block of statements. A block is simply a set of statements that belong together as a\n",
    "group. Notice in the general format that all of the statements in the block are indented.\n",
    "This indentation is required because the Python interpreter uses it to tell where the block\n",
    "begins and ends"
   ]
  },
  {
   "cell_type": "code",
   "execution_count": 1,
   "metadata": {},
   "outputs": [],
   "source": [
    "# if you want multiple output being printed out at the same time\n",
    "from IPython.core.interactiveshell import InteractiveShell\n",
    "InteractiveShell.ast_node_interactivity = \"all\""
   ]
  },
  {
   "cell_type": "markdown",
   "metadata": {},
   "source": [
    "## Boolean Expressions\n",
    "\n",
    "Typically, the Boolean expression that is tested by an if statement is formed with a relational\n",
    "operator.\n",
    "\n",
    "##### Expressions that are either True or False\n",
    "\n",
    "##### Use operator *==* to compare two operands\n",
    "    - True if they are equal\n",
    "    - False otherwise\n",
    "##### True & False: special values, type *bool*, not *string*"
   ]
  },
  {
   "cell_type": "code",
   "execution_count": 2,
   "metadata": {
    "scrolled": true
   },
   "outputs": [
    {
     "data": {
      "text/plain": [
       "bool"
      ]
     },
     "execution_count": 2,
     "metadata": {},
     "output_type": "execute_result"
    }
   ],
   "source": [
    "type(True)"
   ]
  },
  {
   "cell_type": "code",
   "execution_count": 3,
   "metadata": {},
   "outputs": [
    {
     "data": {
      "text/plain": [
       "bool"
      ]
     },
     "execution_count": 3,
     "metadata": {},
     "output_type": "execute_result"
    }
   ],
   "source": [
    "type(False)"
   ]
  },
  {
   "cell_type": "code",
   "execution_count": 5,
   "metadata": {},
   "outputs": [
    {
     "name": "stdout",
     "output_type": "stream",
     "text": [
      "9\n"
     ]
    },
    {
     "data": {
      "text/plain": [
       "True"
      ]
     },
     "execution_count": 5,
     "metadata": {},
     "output_type": "execute_result"
    }
   ],
   "source": [
    "# assign value 9 to object x\n",
    "x = 9\n",
    "print(9)\n",
    "# use equal operator to test if x is equal to 9\n",
    "x == 9"
   ]
  },
  {
   "cell_type": "markdown",
   "metadata": {},
   "source": [
    "## Relational Operators\n",
    "A relational operator determines whether a specific relationship exists\n",
    "between two values.\n",
    "\n",
    "### `x == y` (Equal)\n",
    "Is x equal to y?\n",
    "### `x != y` (Different/unequal)\n",
    "Is x not equal to y?\n",
    "### `x > y` (Greater than)\n",
    "Is x greater than y?\n",
    "### `x < y` (Less than)\n",
    "Is x less than y?\n",
    "### `x >= y` (Greater than or equal to)\n",
    "Is x greater than or equal to y?\n",
    "### `x <= y` (Less than or equal to)\n",
    "Is x less than or equal to y?"
   ]
  },
  {
   "cell_type": "code",
   "execution_count": 15,
   "metadata": {},
   "outputs": [
    {
     "data": {
      "text/plain": [
       "False"
      ]
     },
     "execution_count": 15,
     "metadata": {},
     "output_type": "execute_result"
    }
   ],
   "source": [
    "# define x as 9\n",
    "x = 9\n",
    "# define y as 10\n",
    "y = 10\n",
    "\n",
    "# if x is greater than or equal to y\n",
    "x >= y"
   ]
  },
  {
   "cell_type": "code",
   "execution_count": 11,
   "metadata": {},
   "outputs": [
    {
     "name": "stdout",
     "output_type": "stream",
     "text": [
      "The sentence above will not show because the condition is FALSE.\n"
     ]
    }
   ],
   "source": [
    "if x>=y:\n",
    "    print(\"x is greater than or equal to y.\")\n",
    "print(\"The sentence above will not show because the condition is FALSE.\")"
   ]
  },
  {
   "cell_type": "code",
   "execution_count": 14,
   "metadata": {},
   "outputs": [
    {
     "name": "stdout",
     "output_type": "stream",
     "text": [
      "x: 9 is less than y: 10.\n",
      "This sentence will always be shown.\n"
     ]
    }
   ],
   "source": [
    "if x < y:\n",
    "    print(f\"x: {x} is less than y: {y}.\")\n",
    "print(\"This sentence will always be shown.\")"
   ]
  },
  {
   "cell_type": "markdown",
   "metadata": {},
   "source": [
    "### Important! \n",
    "- single equal sign (=): assigns variables (**assignment operator**)<br>\n",
    "`x = 9  # assign value 9 to variable x`\n",
    "\n",
    "- double equal sign (==): compares operands (**relational operator**)<br>\n",
    "`x == 9 # check whether x is equal to 9 or not, returns either True or False`"
   ]
  },
  {
   "cell_type": "code",
   "execution_count": 20,
   "metadata": {},
   "outputs": [
    {
     "name": "stdout",
     "output_type": "stream",
     "text": [
      "The value of x is 9 because \"=\" is an assignment operator.\n"
     ]
    }
   ],
   "source": [
    "x = 9\n",
    "print(f\"The value of x is {x} because \\\"=\\\" is an assignment operator.\")"
   ]
  },
  {
   "cell_type": "code",
   "execution_count": 5,
   "metadata": {
    "scrolled": true
   },
   "outputs": [
    {
     "data": {
      "text/plain": [
       "True"
      ]
     },
     "execution_count": 5,
     "metadata": {},
     "output_type": "execute_result"
    }
   ],
   "source": [
    "x == 9"
   ]
  },
  {
   "cell_type": "markdown",
   "metadata": {},
   "source": [
    "## Logical Operators\n",
    "The logical `and` operator and the logical `or` operator allow you to\n",
    "connect multiple Boolean expressions to create a compound expression.\n",
    "The logical `not` operator reverses the truth of a Boolean expression\n",
    "- meanings of these operators are similar to their meanings in English\n",
    "\n",
    "#### `and`\n",
    "\n",
    "    The and operator connects two Boolean expressions into one compound expression. Both subexpressions must be true for the compound expression to be true.\n",
    "\n",
    "#### `or`\n",
    "\n",
    "    The or operator connects two Boolean expressions into one compound expression. One or both subexpressions must be true for the compound expression to be true. It is only necessary for one of the subexpressions to be true, and it does not matter which.\n",
    "\n",
    "#### `not`\n",
    "\n",
    "    The not operator is a unary operator, meaning it works with only one operand. The operand must be a Boolean expression. The not operator reverses the truth of its operand. If it is applied to an expression that is true, the operator returns false. If it is applied to an expression that is false, the operator returns true.\n",
    "\n",
    "- any nonzero number is interpreted as \"True\": <br>\n",
    "`19 and True`"
   ]
  },
  {
   "cell_type": "code",
   "execution_count": 34,
   "metadata": {},
   "outputs": [],
   "source": [
    "x = 9 # declare x as 9\n",
    "y = 10 # define y as 10\n",
    "if (x > y) or (x < 100):\n",
    "    print('condition is satisfied')"
   ]
  },
  {
   "cell_type": "code",
   "execution_count": 35,
   "metadata": {},
   "outputs": [
    {
     "name": "stdout",
     "output_type": "stream",
     "text": [
      "x < y\n"
     ]
    }
   ],
   "source": [
    "if not(x > y): ## if x < y:\n",
    "    print('x < y')"
   ]
  },
  {
   "cell_type": "markdown",
   "metadata": {},
   "source": [
    "### Short-Circuit Evaluation\n",
    "Both the `and` and `or` operators perform short-circuit evaluation.\n",
    "\n",
    "- `and` operator: If the expression on the left side of the `and` operator is false, the expression\n",
    "on the right side will not be checked. Because the compound expression will be false\n",
    "if only one of the subexpressions is false, it would waste CPU time to check the remaining\n",
    "expression. \n",
    "- when the and operator finds that the expression on its left is false, it shortcircuits\n",
    "and does not evaluate the expression on its right. \n",
    "\n",
    "- `or` operator: If the expression on the left\n",
    "side of the `or` operator is true, the expression on the right side will not be checked. Because\n",
    "it is only necessary for one of the expressions to be true, it would waste CPU time to check\n",
    "the remaining expression."
   ]
  },
  {
   "cell_type": "code",
   "execution_count": 36,
   "metadata": {},
   "outputs": [
    {
     "data": {
      "text/plain": [
       "True"
      ]
     },
     "execution_count": 36,
     "metadata": {},
     "output_type": "execute_result"
    },
    {
     "data": {
      "text/plain": [
       "True"
      ]
     },
     "execution_count": 36,
     "metadata": {},
     "output_type": "execute_result"
    }
   ],
   "source": [
    "x = 3 # declare x as 3\n",
    "\n",
    "# 1st compound expression using and\n",
    "x < 5 and x > 2\n",
    "# 2nd compound expression using or\n",
    "x < 5 or x > 100"
   ]
  },
  {
   "cell_type": "markdown",
   "metadata": {},
   "source": [
    "## Modulus Operator \n",
    "- `%`\n",
    "- works on integers \n",
    "- yields the remainder when the first operand is divided by the second.\n",
    "- Very useful for certain cases:\n",
    "    + whether one number is divisible by another:\n",
    "        - if x % y is zero, then x is divisible by y. \n",
    "    + extract the right-most digit or digits from a number \n",
    "        - x % 10: yields the right-most digit of x (in base 10). \n",
    "        - x % 100: yields the last two digits.\n"
   ]
  },
  {
   "cell_type": "code",
   "execution_count": 15,
   "metadata": {},
   "outputs": [
    {
     "data": {
      "text/plain": [
       "23"
      ]
     },
     "execution_count": 15,
     "metadata": {},
     "output_type": "execute_result"
    },
    {
     "data": {
      "text/plain": [
       "4"
      ]
     },
     "execution_count": 15,
     "metadata": {},
     "output_type": "execute_result"
    }
   ],
   "source": [
    "45000923423 % 100\n",
    "2432143214 % 10"
   ]
  },
  {
   "cell_type": "code",
   "execution_count": 38,
   "metadata": {},
   "outputs": [
    {
     "name": "stdout",
     "output_type": "stream",
     "text": [
      "x is even\n"
     ]
    }
   ],
   "source": [
    "x = 4 # declare x as 4\n",
    "# check x is even number\n",
    "if x % 2 == 0:\n",
    "    print('x is even')"
   ]
  },
  {
   "cell_type": "code",
   "execution_count": 40,
   "metadata": {},
   "outputs": [
    {
     "name": "stdout",
     "output_type": "stream",
     "text": [
      "x is odd\n"
     ]
    }
   ],
   "source": [
    "x = 9 # declare x as 9\n",
    "# check x is odd\n",
    "if x % 2 != 0:\n",
    "    print('x is odd')"
   ]
  },
  {
   "cell_type": "code",
   "execution_count": 13,
   "metadata": {},
   "outputs": [
    {
     "data": {
      "text/plain": [
       "1"
      ]
     },
     "execution_count": 13,
     "metadata": {},
     "output_type": "execute_result"
    }
   ],
   "source": [
    "5 % 2"
   ]
  },
  {
   "cell_type": "markdown",
   "metadata": {},
   "source": [
    "## Conditional Execution\n",
    "### if statement \n",
    "(single alternative decision structure)\n",
    "\n",
    "        if x > 0:\n",
    "            print('x is positive')\n",
    "\n",
    "- the expression after `if` is called the **condition**\n",
    "- the **indented statement(s)** get(s) executed if the condition is satisfied\n",
    "- IMPORTANT! needs the **colon** & correct **indentation**"
   ]
  },
  {
   "cell_type": "code",
   "execution_count": 43,
   "metadata": {},
   "outputs": [
    {
     "name": "stdout",
     "output_type": "stream",
     "text": [
      "x is not negative\n"
     ]
    }
   ],
   "source": [
    "x = 5\n",
    "if x < 0:\n",
    "    print('x is negative')\n",
    "else:\n",
    "    # else statement will be executed if the if condition is FALSE\n",
    "    print('x is not negative')"
   ]
  },
  {
   "cell_type": "markdown",
   "metadata": {},
   "source": [
    "## Alternative Execution\n",
    "### `if-else` statement \n",
    "\n",
    "(double alternative decision structure)\n",
    "\n",
    "        if x%2 == 0:\n",
    "            print('x is even')\n",
    "         else:\n",
    "             print('x is odd')\n",
    "     \n",
    "- two posibilities, and the condition determines which one gets executed\n",
    "- the alternatives are **branches** in the **flow of execution**\n",
    "- exactly only **one** of the alternatives will be executed\n",
    "\n",
    "### Indentation in the `if-else` statement \n",
    "\n",
    "When you write an if-else statement, follow these guidelines for indentation:\n",
    "\n",
    "- Make sure the if clause and the else clause are aligned.\n",
    "- The if clause and the else clause are each followed by a block of statements. \n",
    "- Make sure the statements in the blocks are consistently indented."
   ]
  },
  {
   "cell_type": "code",
   "execution_count": 44,
   "metadata": {},
   "outputs": [
    {
     "name": "stdout",
     "output_type": "stream",
     "text": [
      "x is odd\n"
     ]
    }
   ],
   "source": [
    "x = 7 # declare x as 7\n",
    "if x % 2 == 0:\n",
    "    print('x is even') # False\n",
    "else:\n",
    "    print('x is odd') # True"
   ]
  },
  {
   "cell_type": "code",
   "execution_count": 46,
   "metadata": {
    "scrolled": true
   },
   "outputs": [
    {
     "name": "stdout",
     "output_type": "stream",
     "text": [
      "Enter the first number9\n",
      "Enter the second number2\n",
      "The first number is not divisible by the second one\n"
     ]
    }
   ],
   "source": [
    "x = int(input('Enter the first number'))\n",
    "y = int(input('Enter the second number'))\n",
    "if x % y == 0:\n",
    "    print('The first number is divisible by the second one')\n",
    "else:\n",
    "    print('The first number is not divisible by the second one')"
   ]
  },
  {
   "cell_type": "markdown",
   "metadata": {},
   "source": [
    "## Chained Conditionals\n",
    "### if-elif-else statement\n",
    "(multiple alternative decision structure)\n",
    "\n",
    "        if x < y: \n",
    "            print('x is less than y')\n",
    "        elif x > y:\n",
    "             print('x is greater than y')\n",
    "        else:\n",
    "            print('x and y are equal')\n",
    "    \n",
    "- when there more than 2 posibilities => we need more than 2 branches\n",
    "- `elif` means \"else if\"\n",
    "- no limit on # of `elif` statements\n",
    "- `else` clause has to be at the end, but there doesn't have to be one\n",
    "- again, exactly only **one** of the alternatives will be executed\n",
    "- conditions are checked in order they are written\n",
    "    - if one of them is true, the corresponding branch is executed, & the statement **ends** there\n",
    "    - even if more than one condition is true, only the **first** true branch gets executed\n"
   ]
  },
  {
   "cell_type": "code",
   "execution_count": 48,
   "metadata": {},
   "outputs": [
    {
     "name": "stdout",
     "output_type": "stream",
     "text": [
      "enter first integer: 10\n",
      "enter second integer: 11\n",
      "10 is smaller than 11\n"
     ]
    }
   ],
   "source": [
    "# get 2 integer input\n",
    "a = int(input('enter first integer: '))\n",
    "b = int(input('enter second integer: '))\n",
    "\n",
    "# if-elif-else statement\n",
    "if a > b:\n",
    "    print(a, \"is greater than\", b)\n",
    "elif a < b:\n",
    "    print(a, \"is smaller than\", b)\n",
    "else:\n",
    "    print(a, \"is equal to\", b)"
   ]
  },
  {
   "cell_type": "code",
   "execution_count": 50,
   "metadata": {},
   "outputs": [
    {
     "name": "stdout",
     "output_type": "stream",
     "text": [
      "Enter a number: 60\n",
      "x is slightly large\n",
      "Done\n"
     ]
    }
   ],
   "source": [
    "# get an integer input\n",
    "x = int(input('Enter a number: '))\n",
    "\n",
    "if x < 10: # x < 10\n",
    "    print('x is small')\n",
    "elif x < 50: #  10 <= x < 50\n",
    "    print('x is medium')\n",
    "elif x < 100:  # 50 <= x < 100\n",
    "    print('x is slightly large')\n",
    "else: # x >= 100\n",
    "    print('x is large')\n",
    "\n",
    "print('Done')"
   ]
  },
  {
   "cell_type": "code",
   "execution_count": 53,
   "metadata": {},
   "outputs": [
    {
     "name": "stdout",
     "output_type": "stream",
     "text": [
      "Enter score: 85\n",
      "C\n",
      "D\n"
     ]
    }
   ],
   "source": [
    "# what is wrong with this code? How to fix it?\n",
    "score = int(input('Enter score: '))\n",
    "if score > 93:\n",
    "    print('A')\n",
    "if score > 90:\n",
    "    print ('A-')\n",
    "if score > 87:\n",
    "    print ('B+')\n",
    "if score > 70:\n",
    "    print('C')\n",
    "if score > 65:\n",
    "    print('D')"
   ]
  },
  {
   "cell_type": "code",
   "execution_count": 55,
   "metadata": {},
   "outputs": [
    {
     "name": "stdout",
     "output_type": "stream",
     "text": [
      "Enter score: 60\n",
      "Failed\n"
     ]
    }
   ],
   "source": [
    "# Here is how I fix it\n",
    "score = int(input('Enter score: '))\n",
    "if score > 93:\n",
    "    print('A')\n",
    "elif score > 90:\n",
    "    print ('A-')\n",
    "elif score > 87:\n",
    "    print ('B+')\n",
    "elif score > 70:\n",
    "    print('C')\n",
    "elif score > 65:\n",
    "    print('D')\n",
    "else:\n",
    "    print('Failed')"
   ]
  },
  {
   "cell_type": "code",
   "execution_count": 63,
   "metadata": {},
   "outputs": [
    {
     "name": "stdout",
     "output_type": "stream",
     "text": [
      "enter a number:50\n",
      "The value is within the acceptable range.\n"
     ]
    }
   ],
   "source": [
    "# what's wrong with this code?\n",
    "# if you want to find out whether a number is outside the range of 20 - 40\n",
    "x = int(input('enter a number:'))\n",
    "if x < 20 and x > 40:\n",
    "    # print a message if the number is between 20 and 40\n",
    "    print('The value is outside the acceptable range.')\n",
    "else:\n",
    "    print('The value is within the acceptable range.')"
   ]
  },
  {
   "cell_type": "markdown",
   "metadata": {},
   "source": [
    "## Nested Conditionals\n",
    "\n",
    "To test more than one condition, a decision structure can be nested\n",
    "inside another decision structure. \n",
    "\n",
    "        if x < y:\n",
    "            print('x is less than y')\n",
    "        else:\n",
    "            if x > y:\n",
    "                print('x is greater than y')\n",
    "            else:\n",
    "                print('x is equal to y')\n",
    "\n",
    "- nested conditionals can become difficult to read\n",
    "- generally should avoid them when possible\n",
    "- logical operators or chained conditionals can simplify nested conditional statements\n",
    "\n",
    "Note: \n",
    "The `if-elif-else` statement is never required because its logic can be coded with\n",
    "nested `if-else` statements. However, a long series of nested `if-else` statements has\n",
    "two particular disadvantages when you are debugging code:\n",
    "\n",
    "- The code can grow complex and become difficult to understand.\n",
    "- Because of the required indentation, a long series of nested `if-else` statements can become too long to be displayed on the computer screen without horizontal scrolling. Also, long statements tend to “wrap around” when printed on paper, making the code even more difficult to read."
   ]
  },
  {
   "cell_type": "markdown",
   "metadata": {},
   "source": [
    "In the program below, both minimum salary and work experience have to be reached to pass the loan application."
   ]
  },
  {
   "cell_type": "code",
   "execution_count": 29,
   "metadata": {},
   "outputs": [
    {
     "name": "stdout",
     "output_type": "stream",
     "text": [
      "Enter annual salary35000\n",
      "Enter years of work experience2\n",
      "Sorry, you must earn at least $ 40,000 per year to qualify.\n"
     ]
    }
   ],
   "source": [
    "# minimum salary for the loan application\n",
    "MIN_SALARY = 40000\n",
    "# minimum years of work experience for loan application\n",
    "MIN_YEARS = 2\n",
    "\n",
    "# user input annual salary\n",
    "salary = float(input('Enter annual salary'))\n",
    "# user input work experience \n",
    "years_on_job = int(input('Enter years of work experience'))\n",
    "\n",
    "# nested conditionals\n",
    "if salary >= MIN_SALARY:\n",
    "    if years_on_job >= MIN_YEARS:\n",
    "        print('You qualify for the loan.') \n",
    "    else:\n",
    "        print('Sorry, you must have been employed for at least', \n",
    "              MIN_YEARS, 'years to qualify.')\n",
    "else:\n",
    "    print('Sorry, you must earn at least $', \n",
    "          format(MIN_SALARY, ','), \n",
    "          'per year to qualify.')"
   ]
  },
  {
   "cell_type": "code",
   "execution_count": 65,
   "metadata": {},
   "outputs": [
    {
     "name": "stdout",
     "output_type": "stream",
     "text": [
      "Enter annual salary: 110000\n",
      "Enter years of experience: 1\n",
      "Sorry, you must earn at least $ 40,000  per year AND have been employed for at least 2 years to qualify.\n"
     ]
    }
   ],
   "source": [
    "MIN_SALARY = 40000\n",
    "MIN_YEARS = 2\n",
    "\n",
    "salary = float(input('Enter annual salary: '))\n",
    "experience = int(input('Enter years of experience: '))\n",
    "\n",
    "if salary >= MIN_SALARY and experience >= MIN_YEARS:\n",
    "    print('Congrats. You are approved')\n",
    "else:\n",
    "    print('Sorry, you must earn at least $', \n",
    "          format(MIN_SALARY, ','), \n",
    "          ' per year AND have been employed for at least', \n",
    "          MIN_YEARS, 'years to qualify.')"
   ]
  },
  {
   "cell_type": "markdown",
   "metadata": {},
   "source": [
    "#### Exercise\n",
    "Convert the following code to an `if-elif-else` statement:"
   ]
  },
  {
   "cell_type": "code",
   "execution_count": 52,
   "metadata": {},
   "outputs": [
    {
     "name": "stdout",
     "output_type": "stream",
     "text": [
      "Please input a number: 23\n",
      "Unknown\n"
     ]
    }
   ],
   "source": [
    "# input a number\n",
    "number = int(input(\"Please input a number: \"))\n",
    "\n",
    "# nested if-else statement\n",
    "if number == 1:\n",
    "    print('One')\n",
    "else:\n",
    "    if number == 2:\n",
    "        print('Two')\n",
    "    else:\n",
    "        if number == 3:\n",
    "            print('Three')\n",
    "        else:\n",
    "            print('Unknown')"
   ]
  },
  {
   "cell_type": "code",
   "execution_count": 8,
   "metadata": {},
   "outputs": [
    {
     "name": "stdout",
     "output_type": "stream",
     "text": [
      "Please input a number: 2\n",
      "Two\n"
     ]
    }
   ],
   "source": [
    "# here is how I convert it using elif statement\n",
    "\n",
    "# input anumber\n",
    "number = int(input(\"Please input a number: \"))\n",
    "\n",
    "# elif statement\n",
    "if number == 1:\n",
    "    print('One')\n",
    "elif number == 2:\n",
    "    print('Two')\n",
    "elif number == 3:\n",
    "    print('Three')\n",
    "else:\n",
    "    print('Unknown')"
   ]
  },
  {
   "cell_type": "markdown",
   "metadata": {},
   "source": [
    "## Boolean Variables\n",
    "- Types of Variables we have learned so far:\n",
    "`int`, `float`, `str`\n",
    "- Another data type: `bool`\n",
    "- References one of 2 possible values: `True` or `False`\n",
    "- *flags*: flag variable\n",
    "\n",
    "Boolean variables are most commonly used as flags. A flag is a variable that signals when some\n",
    "condition exists in the program. When the flag variable is set to False, it indicates the condition\n",
    "does not exist. When the flag variable is set to True, it means the condition does exist.\n",
    "\n",
    "For example, suppose a salesperson has a quota of $50,000. Assuming sales references\n",
    "the amount that the salesperson has sold, the following code determines whether the quota\n",
    "has been met:"
   ]
  },
  {
   "cell_type": "code",
   "execution_count": 19,
   "metadata": {},
   "outputs": [],
   "source": [
    "sales = 5001\n",
    "if sales >= 5000.0: \n",
    "    # create a flag: True\n",
    "    sales_quota_met = True\n",
    "else: \n",
    "    # creat a flag: False\n",
    "    sales_quota_met = False"
   ]
  },
  {
   "cell_type": "markdown",
   "metadata": {},
   "source": [
    "As a result of this code, the `sales_quota_met` variable can be used as a flag to indicate\n",
    "whether the sales quota has been met. \n",
    "\n",
    "Notice we did not have to use the `==` operator to explicitly compare\n",
    "the `sales_quota_met` variable with the value True."
   ]
  },
  {
   "cell_type": "code",
   "execution_count": 10,
   "metadata": {},
   "outputs": [
    {
     "name": "stdout",
     "output_type": "stream",
     "text": [
      "You have met your sales quota!\n"
     ]
    }
   ],
   "source": [
    "if sales_quota_met:\n",
    "    print('You have met your sales quota!')"
   ]
  },
  {
   "cell_type": "code",
   "execution_count": 11,
   "metadata": {},
   "outputs": [
    {
     "name": "stdout",
     "output_type": "stream",
     "text": [
      "You have met your sales quota!\n"
     ]
    }
   ],
   "source": [
    "# equivalent code\n",
    "if sales_quota_met == True: \n",
    "    print('You have met your sales quota!')"
   ]
  },
  {
   "cell_type": "code",
   "execution_count": 21,
   "metadata": {},
   "outputs": [
    {
     "name": "stdout",
     "output_type": "stream",
     "text": [
      "You have met your sales quota!\n"
     ]
    }
   ],
   "source": [
    "# equivalent code\n",
    "if not (sales_quota_met == False):\n",
    "    print('You have met your sales quota!')"
   ]
  },
  {
   "cell_type": "code",
   "execution_count": 26,
   "metadata": {},
   "outputs": [
    {
     "name": "stdout",
     "output_type": "stream",
     "text": [
      "You have met your sales quota!\n"
     ]
    }
   ],
   "source": [
    "# equivalent code\n",
    "if sales_quota_met != False: \n",
    "    print('You have met your sales quota!')"
   ]
  },
  {
   "cell_type": "markdown",
   "metadata": {},
   "source": [
    "## Comparing Strings\n",
    "Python allows you to compare strings. This allows you to create decision structures that test the value of a string. You saw in the preceding examples how numbers can be compared in a decision structure. You can also compare strings. For example, look at the following code:"
   ]
  },
  {
   "cell_type": "code",
   "execution_count": 4,
   "metadata": {},
   "outputs": [
    {
     "name": "stdout",
     "output_type": "stream",
     "text": [
      "The names are NOT the same.\n"
     ]
    }
   ],
   "source": [
    "name1 = 'Mary' \n",
    "name2 = 'Mark'\n",
    "if name1 == name2:\n",
    "    print('The names are the same.') \n",
    "else:\n",
    "    print('The names are NOT the same.')"
   ]
  },
  {
   "cell_type": "code",
   "execution_count": 6,
   "metadata": {},
   "outputs": [
    {
     "name": "stdout",
     "output_type": "stream",
     "text": [
      "Enter a month:october\n",
      "This is the wrong time for Octoberfest!\n"
     ]
    }
   ],
   "source": [
    "month = input('Enter a month:')\n",
    "if month != 'October':\n",
    "    print('This is the wrong time for Octoberfest!')"
   ]
  },
  {
   "cell_type": "code",
   "execution_count": 8,
   "metadata": {},
   "outputs": [
    {
     "name": "stdout",
     "output_type": "stream",
     "text": [
      "Enter password:cis\n",
      "Access granted.\n"
     ]
    }
   ],
   "source": [
    "password = input('Enter password:')\n",
    "if password == 'cis':\n",
    "    print('Access granted.')\n",
    "else:\n",
    "    print('Wrong password, access denied.')"
   ]
  },
  {
   "cell_type": "markdown",
   "metadata": {},
   "source": [
    "String comparisons are case sensitive. For example, the strings 'saturday' and 'Saturday'\n",
    "are not equal because the \"s\" is lowercase in the first string, but uppercase in the second\n",
    "string.\n",
    "\n",
    "## Other string comparisons\n",
    "In addition to determining whether strings are equal or not equal, you can also determine\n",
    "whether one string is greater than or less than another string. This is a useful capability\n",
    "because programmers commonly need to design programs that sort strings in some order.\n",
    "\n",
    "- Computers store numeric codes that represent the characters. \n",
    "- [ASCII](https://www.asciitable.com/) (the American Standard Code for Information Interchange) is a commonly used character coding system.\n",
    "    - The uppercase characters A through Z are represented by the numbers 65 through 90.\n",
    "    - The lowercase characters a through z are represented by the numbers 97 through 122.\n",
    "    - When the digits 0 through 9 are stored in memory as characters, they are represented by the numbers 48 through 57. (For example, the string 'abc123' would be stored in memory as the codes 97, 98, 99, 49, 50, and 51.)\n",
    "    - A blank space is represented by the number 32.\n",
    "- In addition to establishing a set of numeric codes to represent characters in memory, ASCII also establishes an order for characters. The character “A” comes before the character “B”, which comes before the character “C”, and so on.\n",
    "- As a result, when a program compares characters, it actually compares the codes for the characters.\n",
    "\n",
    "In the code example below, the expression 'a' < 'b' is true because the code for 'a' is\n",
    "less than the code for 'b'."
   ]
  },
  {
   "cell_type": "code",
   "execution_count": 13,
   "metadata": {},
   "outputs": [
    {
     "name": "stdout",
     "output_type": "stream",
     "text": [
      "The letter a is less than the letter b.\n"
     ]
    }
   ],
   "source": [
    "if 'a' < 'b':\n",
    "    print('The letter a is less than the letter b.')"
   ]
  },
  {
   "cell_type": "code",
   "execution_count": 24,
   "metadata": {},
   "outputs": [
    {
     "name": "stdout",
     "output_type": "stream",
     "text": [
      "Mary is greater than Mars\n"
     ]
    }
   ],
   "source": [
    "name1 = 'Mary'\n",
    "name2 = 'Mark'\n",
    "if name1 > name2:\n",
    "    print('Mary is greater than Mark')\n",
    "else:\n",
    "    print('Mary is not greater than Mark')"
   ]
  },
  {
   "cell_type": "code",
   "execution_count": 25,
   "metadata": {},
   "outputs": [
    {
     "data": {
      "text/plain": [
       "115"
      ]
     },
     "execution_count": 25,
     "metadata": {},
     "output_type": "execute_result"
    }
   ],
   "source": [
    "ord('s')"
   ]
  },
  {
   "cell_type": "markdown",
   "metadata": {},
   "source": [
    "When you use relational operators to compare these strings, the strings are compared\n",
    "character-by-character. The `>` operator compares each character in the strings 'Mary' and 'Mark', **beginning with\n",
    "the first, or leftmost, characters**.\n",
    "\n",
    "![Mary](data/pic_mary.JPG)\n",
    "\n",
    "- If one of the strings in a comparison is shorter than the other, only the corresponding characters will be compared. \n",
    "- If the corresponding characters are identical, then the shorter string is considered less than the longer string. \n",
    "    - For example, suppose the strings 'High' and 'Hi' were being compared. The string 'Hi' would be considered less than 'High' because it is shorter."
   ]
  },
  {
   "cell_type": "code",
   "execution_count": 26,
   "metadata": {},
   "outputs": [
    {
     "name": "stdout",
     "output_type": "stream",
     "text": [
      "Enter a name (last name first):Luo\n",
      "Enter another name (last name first):Yang\n",
      "Here are the names, listed alphabetically.\n",
      "Luo\n",
      "Yang\n"
     ]
    }
   ],
   "source": [
    "# This program compares strings with the < operator.\n",
    "\n",
    "# Get two names from the user.\n",
    "name1 = input('Enter a name (last name first):')\n",
    "name2 = input('Enter another name (last name first):')\n",
    "\n",
    "# start msg\n",
    "print('Here are the names, listed alphabetically.')\n",
    "\n",
    "# Display the names in alphabetical order. \n",
    "if name1 < name2: \n",
    "    print(name1) \n",
    "    print(name2)\n",
    "else:\n",
    "    print(name2)\n",
    "    print(name1)"
   ]
  },
  {
   "cell_type": "code",
   "execution_count": 25,
   "metadata": {},
   "outputs": [
    {
     "name": "stdout",
     "output_type": "stream",
     "text": [
      "z is not less than a.\n",
      "ASCII code for z is 122\n",
      "ASCII code for a is 97\n"
     ]
    }
   ],
   "source": [
    "# What would the following code display?\n",
    "if 'z' < 'a':\n",
    "    print('z is less than a.')\n",
    "else:\n",
    "    print('z is not less than a.')\n",
    "    print(f\"ASCII code for z is {ord('z')}\")\n",
    "    print(f\"ASCII code for a is {ord('a')}\")\n",
    "\n",
    "# ord() telling you the ASCII code for the character "
   ]
  },
  {
   "cell_type": "markdown",
   "metadata": {},
   "source": [
    "## In-Class Exercises\n",
    "1. Write a program that prompts the user to enter a number within the range of 1 through 10. The program should display the Roman numeral version (I, II, III, IV, V, VI, VII, VIII, IX, X) of that number. If the number is outside the range of 1 through 10, the program should display an error message.\n",
    "\n",
    "\n",
    "2. The date June 10, 1960, is special because when it is written in the following format, the month times the day equals the year: 6/10/60. Design a program that asks the user to enter a month (in numeric form), a day, and a two- digit year. The program should then determine whether the month times the day equals the year. If so, it should display a message saying the date is magic. Otherwise, it should display a message saying the date is not magic.\n",
    "\n",
    "\n",
    "3. Assume that hot dogs come in packages of 10, and hot dog buns come in packages of 8. Write a program that calculates the number of packages of hot dogs and the number of packages of hot dog buns needed for a cookout, with the minimum amount of leftovers. The program should ask the user for the number of people attending the cookout and the number of hot dogs each person will be given. The program should display the following details:\n",
    "    - The minimum number of packages of hot dogs required\n",
    "    - The minimum number of packages of hot dog buns required\n",
    "    - The number of hot dogs that will be left over\n",
    "    - The number of hot dog buns that will be left over\n",
    "    \n",
    "    \n",
    "4. Serendipity Booksellers has a book club that awards points to its customers based on the number of books purchased each month. The points are awarded as follows:\n",
    "    - If a customer purchases less than 2 books, he or she earns 0 points.\n",
    "    - If a customer purchases 2 or more books, but less than 4, he or she earns 5 points.\n",
    "    - If a customer purchases 4 or more books, but less than 6, he or she earns 15 points.\n",
    "    - If a customer purchases 6 or more books, but less than 8, he or she earns 30 points.\n",
    "    - If a customer purchases 8 or more books, he or she earns 60 points.\n",
    "    \n",
    "   Write a program that asks the user to enter the number of books that he or she has purchased this month and displays the number of points awarded."
   ]
  },
  {
   "cell_type": "code",
   "execution_count": null,
   "metadata": {},
   "outputs": [],
   "source": [
    "# ask the number of books he or she has purchased this month\n",
    "book = int(input('Please enter # of books purchased: '))\n",
    "points = 0\n",
    "\n",
    "# test if the input is valid \n",
    "if book > 0:\n",
    "    # use if-elif-else statement\n",
    "    if book < 2:\n",
    "        points = points\n",
    "    elif book < 4:\n",
    "        points = 5\n",
    "    elif book < 6:\n",
    "        points = 15\n",
    "    elif book < 8:\n",
    "        points = 30\n",
    "    else:\n",
    "        points = 60\n",
    "    print(f\"The points you earned is {points}.\")\n",
    "else: \n",
    "    print(\"ERROR! Please enter a number greater than or equal to 0.\")"
   ]
  },
  {
   "cell_type": "markdown",
   "metadata": {},
   "source": [
    "## Week 4 Quizzes and Assignment \n",
    "### Quizzes\n",
    "CodeLab (due date: Mar 17th)\n",
    "\n",
    "    1. String: Concatenation\n",
    "    2. Conditions and Branches: \n",
    "        - Relational Operators\n",
    "        - String Comparison\n",
    "        - Boolean values and variables.\n",
    "        \n",
    "### Assignment\n",
    "Writing some programs with conditional expressions (due date: Mar 17th). \n",
    "\n",
    "Please read the instruction in Bb and sumit the HW documents in the assignment block (.ipynb notebook file & Screenshot of the Code and Output)."
   ]
  },
  {
   "cell_type": "markdown",
   "metadata": {},
   "source": [
    "## Solutions \n",
    "### In-Class Exercise Solutions"
   ]
  },
  {
   "cell_type": "code",
   "execution_count": null,
   "metadata": {},
   "outputs": [],
   "source": [
    "# 1\n",
    "number = int(input(\"Please enter a number from 1 to 10: \"))\n",
    "if number >= 1 and number <= 10:\n",
    "    if number == 1:\n",
    "        print(\"I\")\n",
    "    elif number == 2:\n",
    "        print(\"II\")\n",
    "    elif number == 3:\n",
    "        print(\"III\")\n",
    "    elif number == 4:\n",
    "        print(\"IV\")\n",
    "    elif number == 5:\n",
    "        print(\"V\")\n",
    "    elif number == 6:\n",
    "        print(\"VI\")\n",
    "    elif number == 7:\n",
    "        print(\"VII\")\n",
    "    elif number == 8:\n",
    "        print(\"VIII\")\n",
    "    elif number == 9:\n",
    "        print(\"IX\")\n",
    "    else: \n",
    "        print(\"X\")\n",
    "else:\n",
    "    print(f\"ERROR, you entered {number}, please enter a number in the range of 1 to 10\")"
   ]
  },
  {
   "cell_type": "code",
   "execution_count": null,
   "metadata": {},
   "outputs": [],
   "source": [
    "# 1, alternative way of doing it\n",
    "number = int(input(\"Please enter a integer from 1 to 10:\"))\n",
    "\n",
    "if number == 1:\n",
    "    print(\"I\")\n",
    "elif number == 2:\n",
    "    print(\"II\")\n",
    "elif number == 3:\n",
    "    print(\"III\")\n",
    "elif number == 4:\n",
    "    print(\"IV\")\n",
    "elif number == 5:\n",
    "    print(\"V\")\n",
    "elif number == 6:\n",
    "    print(\"VI\")\n",
    "elif number == 7:\n",
    "    print(\"VII\")\n",
    "elif number == 8:\n",
    "    print(\"VIII\")\n",
    "elif number == 9:\n",
    "    print(\"IX\")\n",
    "elif number == 10: \n",
    "    print(\"X\")\n",
    "else:\n",
    "    print(f\"ERROR, you entered {number}, please enter a number in the range of 1 to 10\")"
   ]
  },
  {
   "cell_type": "code",
   "execution_count": null,
   "metadata": {},
   "outputs": [],
   "source": [
    "# 2\n",
    "month = int(input(\"Please enter a month: \"))\n",
    "day = int(input(\"Please enter a date: \"))\n",
    "year = int(input(\"Please enter a two-digit year: \"))\n",
    "if month * day == year: \n",
    "    print(\"The date is magic\")\n",
    "else: \n",
    "    print(\"The date is not magic\")"
   ]
  },
  {
   "cell_type": "code",
   "execution_count": 29,
   "metadata": {
    "scrolled": true
   },
   "outputs": [
    {
     "name": "stdout",
     "output_type": "stream",
     "text": [
      "Please enter the amount of people: 250\n",
      "Please enter the number of hot dogs each person will be given: 3\n",
      "The # of hot dogs will be left over is 0.0\n",
      "The # of hot dog buns will be left over is 6.0\n",
      "The min number of packages of hot dogs required is 75.0\n",
      "The min number of packages of the hot dog buns required is 94.0\n"
     ]
    }
   ],
   "source": [
    "# 3\n",
    "# ask for the amount of people attending the cookout\n",
    "people = float(input('Please enter the amount of people: '))\n",
    "# ask for the number of hot dogs each person will be given\n",
    "hotdog = float(input('Please enter the number of hot dogs each person will be given: '))\n",
    "\n",
    "# min number of packages of hot dogs required (10) if extra hotdogs are needed\n",
    "# print(f\"The min number of packages of hot dogs required is {people*hotdog//10+1}\")\n",
    "\n",
    "# min # of packages of hot dogs buns required (8) if extra hotdog buns are needed\n",
    "# print(f\"The min number of packages of the hot dog buns required is {people*hotdog//8+1}\")\n",
    "\n",
    "# # of hot dogs will be left over\n",
    "print(f\"The # of hot dogs will be left over is {people*hotdog%10}\")\n",
    "# # of hot dogs buns will be left over\n",
    "print(f\"The # of hot dog buns will be left over is {people*hotdog%8}\")\n",
    "\n",
    "# packages for hotdogs\n",
    "if people*hotdog%10 == 0:\n",
    "    print(f\"The min number of packages of hot dogs required is {people*hotdog//10}\")\n",
    "else:\n",
    "    print(f\"The min number of packages of hot dogs required is {people*hotdog//10+1}\")\n",
    "\n",
    "# packages for hotdog buns\n",
    "if people*hotdog%8 == 0:\n",
    "     print(f\"The min number of packages of hot dogs buns required is {people*hotdog//8}\")\n",
    "else:\n",
    "    print(f\"The min number of packages of the hot dog buns required is {people*hotdog//8+1}\")\n"
   ]
  },
  {
   "cell_type": "code",
   "execution_count": 22,
   "metadata": {},
   "outputs": [
    {
     "name": "stdout",
     "output_type": "stream",
     "text": [
      "How many books you purchase each month? 1231\n",
      "You earn 60 points each month.\n"
     ]
    }
   ],
   "source": [
    "# 4\n",
    "# ask the number of books he or she has purchased this month\n",
    "book = int(input('Please enter # of books purchased: '))\n",
    "points = 0\n",
    "\n",
    "# test if the input is valid \n",
    "if book > 0:\n",
    "    # use if-elif-else statement\n",
    "    if book < 2:\n",
    "        points = points\n",
    "    elif book < 4:\n",
    "        points = 5\n",
    "    elif book < 6:\n",
    "        points = 15\n",
    "    elif book < 8:\n",
    "        points = 30\n",
    "    else:\n",
    "        points = 60\n",
    "    print(f\"The points you earned is {points}.\")\n",
    "else: \n",
    "    print(\"ERROR! Please enter a number greater than or equal to 0.\")"
   ]
  }
 ],
 "metadata": {
  "kernelspec": {
   "display_name": "Python 3 (ipykernel)",
   "language": "python",
   "name": "python3"
  },
  "language_info": {
   "codemirror_mode": {
    "name": "ipython",
    "version": 3
   },
   "file_extension": ".py",
   "mimetype": "text/x-python",
   "name": "python",
   "nbconvert_exporter": "python",
   "pygments_lexer": "ipython3",
   "version": "3.11.1"
  }
 },
 "nbformat": 4,
 "nbformat_minor": 4
}
