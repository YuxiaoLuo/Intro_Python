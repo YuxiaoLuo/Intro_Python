{
 "cells": [
  {
   "cell_type": "markdown",
   "metadata": {},
   "source": [
    "# Conditionals"
   ]
  },
  {
   "cell_type": "markdown",
   "metadata": {},
   "source": [
    "## Control Structure\n",
    "#### Sequence Structure\n",
    "#### Decision Structure"
   ]
  },
  {
   "cell_type": "code",
   "execution_count": 1,
   "metadata": {},
   "outputs": [],
   "source": [
    "# if you want multiple output being printed out at the same time\n",
    "from IPython.core.interactiveshell import InteractiveShell\n",
    "InteractiveShell.ast_node_interactivity = \"all\""
   ]
  },
  {
   "cell_type": "markdown",
   "metadata": {},
   "source": [
    "## Boolean Expressions\n",
    "\n",
    "##### Expressions that are either True or False\n",
    "##### Use operator *==* to compare two operands\n",
    "    - True if they are equal\n",
    "    - False otherwise\n",
    "##### True & False: special values, type *bool*, not *string*"
   ]
  },
  {
   "cell_type": "code",
   "execution_count": 7,
   "metadata": {},
   "outputs": [
    {
     "data": {
      "text/plain": [
       "bool"
      ]
     },
     "execution_count": 7,
     "metadata": {},
     "output_type": "execute_result"
    }
   ],
   "source": [
    "type(True)"
   ]
  },
  {
   "cell_type": "code",
   "execution_count": 3,
   "metadata": {},
   "outputs": [
    {
     "data": {
      "text/plain": [
       "bool"
      ]
     },
     "execution_count": 3,
     "metadata": {},
     "output_type": "execute_result"
    }
   ],
   "source": [
    "type(False)"
   ]
  },
  {
   "cell_type": "code",
   "execution_count": 8,
   "metadata": {},
   "outputs": [
    {
     "data": {
      "text/plain": [
       "False"
      ]
     },
     "execution_count": 8,
     "metadata": {},
     "output_type": "execute_result"
    }
   ],
   "source": [
    "x = 9\n",
    "x == 9"
   ]
  },
  {
   "cell_type": "markdown",
   "metadata": {},
   "source": [
    "## Relational Operators\n",
    "### `x == y` (equal)\n",
    "### `x != y` (different/unequal)\n",
    "### `x > y`\n",
    "### `x < y`\n",
    "### `x >= y`\n",
    "### `x <= y`"
   ]
  },
  {
   "cell_type": "code",
   "execution_count": 9,
   "metadata": {},
   "outputs": [
    {
     "data": {
      "text/plain": [
       "False"
      ]
     },
     "execution_count": 9,
     "metadata": {},
     "output_type": "execute_result"
    }
   ],
   "source": [
    "x = 9\n",
    "y = 10\n",
    "x >= y"
   ]
  },
  {
   "cell_type": "markdown",
   "metadata": {},
   "source": [
    "### Important! \n",
    "- single equal sign (=): assigns variables (**assignment operator**)<br>\n",
    "`x = 9  # assign value 9 to variable x`\n",
    "\n",
    "- double equal sign (==): compares operands (**relational operator**)<br>\n",
    "`x == 9 # check whether x is equal to 9 or not, returns either True or False`"
   ]
  },
  {
   "cell_type": "code",
   "execution_count": 6,
   "metadata": {},
   "outputs": [],
   "source": [
    "x = 9"
   ]
  },
  {
   "cell_type": "code",
   "execution_count": 5,
   "metadata": {
    "scrolled": true
   },
   "outputs": [
    {
     "data": {
      "text/plain": [
       "True"
      ]
     },
     "execution_count": 5,
     "metadata": {},
     "output_type": "execute_result"
    }
   ],
   "source": [
    "x == 9"
   ]
  },
  {
   "cell_type": "markdown",
   "metadata": {},
   "source": [
    "## Logical Operators\n",
    "- meanings of these operators are similar to their meanings in English\n",
    "#### `and`\n",
    "#### `or`\n",
    "#### `not`\n",
    "\n",
    "\n",
    "- any nonzero number is interpreted as \"True\": <br>\n",
    "`19 and True`"
   ]
  },
  {
   "cell_type": "code",
   "execution_count": 11,
   "metadata": {},
   "outputs": [],
   "source": [
    "x = 9\n",
    "y = 10\n",
    "if (x > y) or (x < 100):\n",
    "    print('condition is satisfied')"
   ]
  },
  {
   "cell_type": "code",
   "execution_count": 14,
   "metadata": {},
   "outputs": [
    {
     "name": "stdout",
     "output_type": "stream",
     "text": [
      "x < y\n"
     ]
    }
   ],
   "source": [
    "if not(x > y): ## if x < y\n",
    "    print('x < y')"
   ]
  },
  {
   "cell_type": "markdown",
   "metadata": {},
   "source": [
    "### Modulus Operator \n",
    "- `%`\n",
    "- works on integers \n",
    "- yields the remainder when the first operand is divided by the second.\n",
    "- Very useful for certain cases:\n",
    "    + whether one number is divisible by another:\n",
    "        - if x % y is zero, then x is divisible by y. \n",
    "    + extract the right-most digit or digits from a number \n",
    "        - x % 10: yields the right-most digit of x (in base 10). \n",
    "        - x % 100: yields the last two digits.\n"
   ]
  },
  {
   "cell_type": "code",
   "execution_count": 15,
   "metadata": {},
   "outputs": [
    {
     "data": {
      "text/plain": [
       "23"
      ]
     },
     "execution_count": 15,
     "metadata": {},
     "output_type": "execute_result"
    },
    {
     "data": {
      "text/plain": [
       "4"
      ]
     },
     "execution_count": 15,
     "metadata": {},
     "output_type": "execute_result"
    }
   ],
   "source": [
    "45000923423 % 100\n",
    "2432143214 % 10"
   ]
  },
  {
   "cell_type": "code",
   "execution_count": 11,
   "metadata": {},
   "outputs": [
    {
     "name": "stdout",
     "output_type": "stream",
     "text": [
      "x is even\n"
     ]
    }
   ],
   "source": [
    "x = 4\n",
    "if x % 2 == 0:\n",
    "    print('x is even')"
   ]
  },
  {
   "cell_type": "code",
   "execution_count": 13,
   "metadata": {},
   "outputs": [
    {
     "data": {
      "text/plain": [
       "1"
      ]
     },
     "execution_count": 13,
     "metadata": {},
     "output_type": "execute_result"
    }
   ],
   "source": [
    "5 % 2"
   ]
  },
  {
   "cell_type": "markdown",
   "metadata": {},
   "source": [
    "## Conditional Execution\n",
    "#### if statement \n",
    "(single alternative decision structure)\n",
    "\n",
    "        if x > 0:\n",
    "            print('x is positive')\n",
    "\n",
    "- the expression after `if` is called the **condition**\n",
    "- the **indented statement(s)** get(s) executed if the condition is satisfied\n",
    "- IMPORTANT! needs the **colon** & correct **indentation**"
   ]
  },
  {
   "cell_type": "code",
   "execution_count": 17,
   "metadata": {},
   "outputs": [
    {
     "name": "stdout",
     "output_type": "stream",
     "text": [
      "x is negative\n"
     ]
    }
   ],
   "source": [
    "x = 5\n",
    "if x < 0:\n",
    "    print('x is negative')\n",
    "else:\n",
    "    print('x is not negative')"
   ]
  },
  {
   "cell_type": "markdown",
   "metadata": {},
   "source": [
    "## Alternative Execution\n",
    "#### if-else statement \n",
    "\n",
    "(double alternative decision structure)\n",
    "\n",
    "        if x%2 == 0:\n",
    "            print('x is even')\n",
    "         else:\n",
    "             print('x is odd')\n",
    "     \n",
    "- two posibilities, and the condition determines which one gets executed\n",
    "- the alternatives are **branches** in the **flow of execution**\n",
    "- exactly only **one** of the alternatives will be executed"
   ]
  },
  {
   "cell_type": "code",
   "execution_count": 18,
   "metadata": {},
   "outputs": [
    {
     "name": "stdout",
     "output_type": "stream",
     "text": [
      "x is odd\n"
     ]
    }
   ],
   "source": [
    "x = 7\n",
    "if x % 2 == 0:\n",
    "    print('x is even')\n",
    "else:\n",
    "    print('x is odd')"
   ]
  },
  {
   "cell_type": "code",
   "execution_count": 20,
   "metadata": {
    "scrolled": true
   },
   "outputs": [
    {
     "name": "stdout",
     "output_type": "stream",
     "text": [
      "Enter the first number8\n",
      "Enter the second number2\n",
      "The first number is divisible by the second one\n"
     ]
    }
   ],
   "source": [
    "x = int(input('Enter the first number'))\n",
    "y = int(input('Enter the second number'))\n",
    "if x % y == 0:\n",
    "    print('The first number is divisible by the second one')\n",
    "else:\n",
    "    print('The first number is not divisible by the second one')"
   ]
  },
  {
   "cell_type": "markdown",
   "metadata": {},
   "source": [
    "## Chained Conditionals\n",
    "#### if-elif-else statement\n",
    "(multiple alternative decision structure)\n",
    "\n",
    "        if x < y: \n",
    "            print('x is less than y')\n",
    "        elif x > y:\n",
    "             print('x is greater than y')\n",
    "        else:\n",
    "            print('x and y are equal')\n",
    "    \n",
    "- when there more than 2 posibilities => we need more than 2 branches\n",
    "- `elif` means \"else if\"\n",
    "- no limit on # of `elif` statements\n",
    "- `else` clause has to be at the end, but there doesn't have to be one\n",
    "- again, exactly only **one** of the alternatives will be executed\n",
    "- conditions are checked in order they are written\n",
    "    - if one of them is true, the corresponding branch is executed, & the statement **ends** there\n",
    "    - even if more than one condition is true, only the **first** true branch gets executed\n"
   ]
  },
  {
   "cell_type": "code",
   "execution_count": 21,
   "metadata": {},
   "outputs": [
    {
     "name": "stdout",
     "output_type": "stream",
     "text": [
      "enter first integer: 89\n",
      "enter second integer: 89\n",
      "89 is equal to 89\n"
     ]
    }
   ],
   "source": [
    "a = int(input('enter first integer: '))\n",
    "b = int(input('enter second integer: '))\n",
    "if a > b:\n",
    "    print(a, \"is greater than\", b)\n",
    "elif a < b:\n",
    "    print(a, \"is smaller than\", b)\n",
    "else:\n",
    "    print(a, \"is equal to\", b)"
   ]
  },
  {
   "cell_type": "code",
   "execution_count": 22,
   "metadata": {},
   "outputs": [],
   "source": [
    "if a > b:\n",
    "    print(a, \"is greather than\", b)"
   ]
  },
  {
   "cell_type": "code",
   "execution_count": 24,
   "metadata": {},
   "outputs": [
    {
     "name": "stdout",
     "output_type": "stream",
     "text": [
      "Enter a number: 9\n",
      "x is small\n",
      "Done\n"
     ]
    }
   ],
   "source": [
    "x = int(input('Enter a number: '))\n",
    "\n",
    "if x < 10: # x < 10\n",
    "    print('x is small')\n",
    "elif x < 50: #  10 <= x < 50\n",
    "    print('x is medium')\n",
    "elif x < 100:  # 50 <= x < 100\n",
    "    print('x is slightly large')\n",
    "else: # x >= 100\n",
    "    print('x is large')\n",
    "\n",
    "print('Done')"
   ]
  },
  {
   "cell_type": "code",
   "execution_count": 25,
   "metadata": {},
   "outputs": [
    {
     "name": "stdout",
     "output_type": "stream",
     "text": [
      "Enter score: 93\n",
      "A-\n",
      "B+\n",
      "C\n",
      "D\n"
     ]
    }
   ],
   "source": [
    "# what is wrong with this code? How to fix it?\n",
    "score = int(input('Enter score: '))\n",
    "if score > 93:\n",
    "    print('A')\n",
    "if score > 90:\n",
    "    print ('A-')\n",
    "if score > 87:\n",
    "    print ('B+')\n",
    "if score > 70:\n",
    "    print('C')\n",
    "if score > 65:\n",
    "    print('D')"
   ]
  },
  {
   "cell_type": "code",
   "execution_count": 33,
   "metadata": {},
   "outputs": [
    {
     "name": "stdout",
     "output_type": "stream",
     "text": [
      "enter a number:0\n"
     ]
    }
   ],
   "source": [
    "# what's wrong with this code?\n",
    "# if you want to find out whether a number is outside the range of 20 - 40\n",
    "x = int(input('enter a number:'))\n",
    "if x < 20 and x > 40:\n",
    "    print('The value is outside the acceptable range.')"
   ]
  },
  {
   "cell_type": "markdown",
   "metadata": {},
   "source": [
    "## Nested Conditionals\n",
    "        if x < y:\n",
    "            print('x is less than y')\n",
    "        else:\n",
    "            if x > y:\n",
    "                print('x is greater than y')\n",
    "            else:\n",
    "                print('x is equal to y')\n",
    "\n",
    "- nested conditionals can become difficult to read\n",
    "- generally should avoid them when possible\n",
    "- logical operators or chained conditionals can simplify nested conditional statements\n"
   ]
  },
  {
   "cell_type": "code",
   "execution_count": 29,
   "metadata": {},
   "outputs": [
    {
     "name": "stdout",
     "output_type": "stream",
     "text": [
      "Enter annual salary35000\n",
      "Enter years of work experience2\n",
      "Sorry, you must earn at least $ 40,000 per year to qualify.\n"
     ]
    }
   ],
   "source": [
    "MIN_SALARY = 40000\n",
    "MIN_YEARS = 2\n",
    "\n",
    "salary = float(input('Enter annual salary'))\n",
    "years_on_job = int(input('Enter years of work experience'))\n",
    "if salary >= MIN_SALARY:\n",
    "    if years_on_job >= MIN_YEARS:\n",
    "        print('You qualify for the loan.') \n",
    "    else:\n",
    "        print('Sorry, you must have been employed for at least', \n",
    "              MIN_YEARS, 'years to qualify.')\n",
    "else:\n",
    "    print('Sorry, you must earn at least $', \n",
    "          format(MIN_SALARY, ','), \n",
    "          'per year to qualify.')"
   ]
  },
  {
   "cell_type": "code",
   "execution_count": 5,
   "metadata": {},
   "outputs": [
    {
     "name": "stdin",
     "output_type": "stream",
     "text": [
      "Enter annual salary:  10000\n",
      "Enter years of experience:  2\n"
     ]
    },
    {
     "name": "stdout",
     "output_type": "stream",
     "text": [
      "Sorry, you must earn at least $ 40,000  per year AND have been employed for at least 2 years to qualify.\n"
     ]
    }
   ],
   "source": [
    "MIN_SALARY = 40000\n",
    "MIN_YEARS = 2\n",
    "\n",
    "salary = float(input('Enter annual salary: '))\n",
    "experience = int(input('Enter years of experience: '))\n",
    "if salary >= MIN_SALARY and experience >= MIN_YEARS:\n",
    "    print('Congrats.  You are approved')\n",
    "else:\n",
    "    print('Sorry, you must earn at least $', \n",
    "          format(MIN_SALARY, ','), \n",
    "          ' per year AND have been employed for at least', \n",
    "          MIN_YEARS, 'years to qualify.')"
   ]
  },
  {
   "cell_type": "markdown",
   "metadata": {},
   "source": [
    "## Boolean Variables\n",
    "- Types of Variables we have learned so far:\n",
    "`int`, `float`, `str`\n",
    "- Another data type: `bool`\n",
    "- References one of 2 possible values: `True` or `False`\n",
    "- *flags*"
   ]
  },
  {
   "cell_type": "markdown",
   "metadata": {},
   "source": [
    "## Comparing Strings\n"
   ]
  },
  {
   "cell_type": "code",
   "execution_count": 12,
   "metadata": {},
   "outputs": [
    {
     "name": "stdout",
     "output_type": "stream",
     "text": [
      "The names are NOT the same.\n"
     ]
    }
   ],
   "source": [
    "name1 = 'Mary' \n",
    "name2 = 'Mark'\n",
    "if name1 == name2:\n",
    "    print('The names are the same.') \n",
    "else:\n",
    "    print('The names are NOT the same.')"
   ]
  },
  {
   "cell_type": "code",
   "execution_count": 32,
   "metadata": {},
   "outputs": [
    {
     "name": "stdout",
     "output_type": "stream",
     "text": [
      "Enter a month:September\n",
      "This is the wrong time for Octoberfest!\n"
     ]
    }
   ],
   "source": [
    "month = input('Enter a month:')\n",
    "if month != 'October':\n",
    "    print('This is the wrong time for Octoberfest!')"
   ]
  },
  {
   "cell_type": "code",
   "execution_count": 25,
   "metadata": {},
   "outputs": [
    {
     "name": "stdin",
     "output_type": "stream",
     "text": [
      "Enter password: testing\n"
     ]
    },
    {
     "name": "stdout",
     "output_type": "stream",
     "text": [
      "Wrong password, access denied.\n"
     ]
    }
   ],
   "source": [
    "password = input('Enter password:')\n",
    "if password == 'prospero':\n",
    "    print('Access granted.')\n",
    "else:\n",
    "    print('Wrong password, access denied.')"
   ]
  },
  {
   "cell_type": "code",
   "execution_count": 24,
   "metadata": {},
   "outputs": [
    {
     "name": "stdin",
     "output_type": "stream",
     "text": [
      "Enter a name (last name first): Chen, Ying\n",
      "Enter another name (last name first): Paulino, Jariel\n"
     ]
    },
    {
     "name": "stdout",
     "output_type": "stream",
     "text": [
      "Here are the names, listed alphabetically.\n",
      "Chen, Ying\n",
      "Paulino, Jariel\n"
     ]
    }
   ],
   "source": [
    "# This program compares strings with the < operator.\n",
    "\n",
    "# Get two names from the user.\n",
    "name1 = input('Enter a name (last name first):')\n",
    "name2 = input('Enter another name (last name first):')\n",
    "\n",
    "# Display the names in alphabetical order. print('Here are the names, listed alphabetically.')\n",
    "print('Here are the names, listed alphabetically.')\n",
    "if name1 < name2: \n",
    "    print(name1) \n",
    "    print(name2)\n",
    "else:\n",
    "    print(name2)\n",
    "    print(name1)"
   ]
  },
  {
   "cell_type": "markdown",
   "metadata": {},
   "source": [
    "## In-Class Exercises\n",
    "1. Write a program that prompts the user to enter a number within the range of 1 through 10. The program should display the Roman numeral version of that number. If the number is outside the range of 1 through 10, the program should display an error message.\n",
    "\n",
    "\n",
    "2. The date June 10, 1960, is special because when it is written in the following format, the month times the day equals the year: 6/10/60. Design a program that asks the user to enter a month (in numeric form), a day, and a two- digit year. The program should then determine whether the month times the day equals the year. If so, it should display a message saying the date is magic. Otherwise, it should display a message saying the date is not magic.\n",
    "\n",
    "\n",
    "3. Assume that hot dogs come in packages of 10, and hot dog buns come in packages of 8. Write a program that calculates the number of packages of hot dogs and the number of packages of hot dog buns needed for a cookout, with the minimum amount of leftovers. The program should ask the user for the number of people attending the cookout and the number of hot dogs each person will be given. The program should display the following details:\n",
    "    - The minimum number of packages of hot dogs required\n",
    "    - The minimum number of packages of hot dog buns required\n",
    "    - The number of hot dogs that will be left over\n",
    "    - The number of hot dog buns that will be left over\n",
    "    \n",
    "    \n",
    "4. Serendipity Booksellers has a book club that awards points to its customers based on the number of books purchased each month. The points are awarded as follows:\n",
    "    - If a customer purchases less than 2 books, he or she earns 0 points.\n",
    "    - If a customer purchases 2 or more books, but less than 4, he or she earns 5 points.\n",
    "    - If a customer purchases 4 or more books, but less than 6, he or she earns 15 points.\n",
    "    - If a customer purchases 6 or more books, but less than 8, he or she earns 30 points.\n",
    "    - If a customer purchases 8 or more books, he or she earns 60 points.\n",
    "Write a program that asks the user to enter the number of books that he or she has pur- chased this month and displays the number of points awarded."
   ]
  },
  {
   "cell_type": "markdown",
   "metadata": {},
   "source": [
    "## Practice Exercises:\n",
    "1. Ask the user to input a year. Check if this is a leap year or not.\n",
    "2. Ask the user to input a number. Check if this number is even or odd.\n",
    "3. Ask the user to input a character and check if it is a vowel.\n",
    "4. Ask the user for three numbers and find the highest of the three numbers.\n",
    "5. To enter the Zicklin school of business, students need to complete at least 45 credits \n",
    "with an overall Baruch GPA of 2.25 or higher. \n",
    "Ask the user the number of credits they have completed and \n",
    "their overall GPA and display whether they are eligible to get into Zicklin or not.\n",
    "6. Check the Baruch/CUNY Pathways requirements for college option – \n",
    "http://www.baruch.cuny.edu/genedreqs/pathwaysatbaruch/pathwaysoptions_baruch.htm. \n",
    "Ask the user the right questions and do the right checks to display the coursework that the user needs to complete.    "
   ]
  },
  {
   "cell_type": "code",
   "execution_count": 34,
   "metadata": {
    "scrolled": true
   },
   "outputs": [
    {
     "data": {
      "text/latex": [
       "\n",
       "7. Fermat’s Last Theorem says that there are no positive integers a, b, and c such that:\n",
       "$$a^n + b^n = c^n$$ \n",
       "for any values of n greater than 2.\n",
       "\n",
       "(a) Write a program that takes four parameters—a, b, c and n—and that\n",
       "checks to see if Fermat’s theorem holds. If n is greater than 2 and it turns out to be true that\n",
       "$a^n + b^n = c^n$\n",
       "the program should print, “Holy smokes, Fermat was wrong!” \n",
       "Otherwise the program should print, “No, that doesn’t work.”\n",
       "\n",
       "(b) Write a program that prompts the user to input values for a, b, c and n, converts them to\n",
       "integers, and uses check_fermat to check whether they violate Fermat’s theorem.\n"
      ],
      "text/plain": [
       "<IPython.core.display.Latex object>"
      ]
     },
     "metadata": {},
     "output_type": "display_data"
    }
   ],
   "source": [
    "%%latex\n",
    "\n",
    "7. Fermat’s Last Theorem says that there are no positive integers a, b, and c such that:\n",
    "$$a^n + b^n = c^n$$ \n",
    "for any values of n greater than 2.\n",
    "\n",
    "(a) Write a program that takes four parameters—a, b, c and n—and that\n",
    "checks to see if Fermat’s theorem holds. If n is greater than 2 and it turns out to be true that\n",
    "$a^n + b^n = c^n$\n",
    "the program should print, “Holy smokes, Fermat was wrong!” \n",
    "Otherwise the program should print, “No, that doesn’t work.”\n",
    "\n",
    "(b) Write a program that prompts the user to input values for a, b, c and n, converts them to\n",
    "integers, and uses check_fermat to check whether they violate Fermat’s theorem."
   ]
  },
  {
   "cell_type": "markdown",
   "metadata": {},
   "source": [
    "8.  If you are given three sticks, you may or may not be able to arrange them in a triangle. For example, if one of the sticks is 12 inches long and the other two are one inch long, it is clear that you will not be able to get the short sticks to meet in the middle. For any three lengths, there is a simple test to see if it is possible to form a triangle:\n",
    "\n",
    "        If any of the three lengths is greater than the sum of the other two, then you cannot form a triangle. \n",
    "        Otherwise, you can. (If the sum of two lengths equals the third, they form what is called a “degenerate” triangle.)\n",
    "    \n",
    "    - Write a program that takes three integers as arguments, and that prints either “Yes” or “No,” depending on whether you can or cannot form a triangle from sticks with the given lengths.\n",
    "    \n",
    "    - Write a program that prompts the user to input three stick lengths, converts them to integers, and uses is_triangle to check whether sticks with the given lengths can form a triangle."
   ]
  },
  {
   "cell_type": "markdown",
   "metadata": {},
   "source": [
    "## Week 4 Quizzes and Assignment \n",
    "### Quizzes\n",
    "CodeLab\n",
    "\n",
    "    1. String: Concatenation\n",
    "    2. Conditions and Branches: \n",
    "        - Relational Operators\n",
    "        - String Comparison\n",
    "        - Bollean values and variables.\n",
    "        \n",
    "### Assignment\n",
    "Writing some programs with conditional expressions (due date: Mar 4th). \n",
    "\n",
    "Please read the instruction in Bb and sumit the HW documents in the assignment block (.ipynb notebook file & Screenshot of the Code and Output)."
   ]
  }
 ],
 "metadata": {
  "kernelspec": {
   "display_name": "Python 3",
   "language": "python",
   "name": "python3"
  },
  "language_info": {
   "codemirror_mode": {
    "name": "ipython",
    "version": 3
   },
   "file_extension": ".py",
   "mimetype": "text/x-python",
   "name": "python",
   "nbconvert_exporter": "python",
   "pygments_lexer": "ipython3",
   "version": "3.9.5"
  }
 },
 "nbformat": 4,
 "nbformat_minor": 4
}
