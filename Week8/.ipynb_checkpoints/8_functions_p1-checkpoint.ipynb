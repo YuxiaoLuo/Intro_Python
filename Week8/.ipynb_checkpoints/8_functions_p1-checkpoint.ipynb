{
 "cells": [
  {
   "cell_type": "markdown",
   "metadata": {},
   "source": [
    "# Week 8: Functions\n",
    "Readings: Section 5.1 - 5.5\n",
    "\n",
    "Decomposition and abstraction with functions.  \n",
    "\n",
    "- Defining variables \n",
    "- Local variables \n",
    "- Variable scope \n",
    "- Argument and parameter \n",
    "- Keyword arguments\n",
    "\n",
    "## Introduction\n",
    "\n",
    "- named sequence of statements that performs an action/computation\n",
    "- Define function with:\n",
    "    + name\n",
    "    + order (sequence) of statements\n",
    "- Call function by its name\n",
    "\n",
    "### What is function?\n",
    "Concepts: A function is a group of statements that exist within a program for the\n",
    "purpose of performing a specific task.\n",
    "\n",
    "### Why Functions?\n",
    "- Simpler code\n",
    "\n",
    "    A program’s code tends to be simpler and easier to understand when it is broken down\n",
    "into functions.\n",
    "\n",
    "\n",
    "- Code reuse\n",
    "\n",
    "    Functions also reduce the duplication of code within a program.\n",
    "   \n",
    "   \n",
    "- Better testing\n",
    "\n",
    "    When each task within a program is contained in its own function, testing and debugging\n",
    "becomes simpler.\n",
    "\n",
    "\n",
    "- Faster development\n",
    "\n",
    "    Suppose a programmer or a team of programmers is developing multiple programs.\n",
    "\n",
    "\n",
    "- Easier facilitation of teamwork\n",
    "\n",
    "    Functions also make it easier for programmers to work in teams. When a program is developed\n",
    "as a set of functions that each performs an individual task, then different programmers\n",
    "can be assigned the job of writing different functions."
   ]
  },
  {
   "cell_type": "markdown",
   "metadata": {},
   "source": [
    "### Function types:\n",
    "\n",
    "- Functions with no parameter\n",
    "- Functions with single parameter\n",
    "- Functions with multiple parameters\n",
    "- Functions that return value(s) (value-returning/fruitful functions)\n",
    "- Functions that don't return value(s) (void functions)\n",
    "\n",
    "Python's Built In Functions\n",
    "\n",
    "    len()\n",
    "    int()\n",
    "    float()\n",
    "    str()\n",
    "    abs()\n",
    "    min()\n",
    "    max()\n",
    "    ..."
   ]
  },
  {
   "cell_type": "markdown",
   "metadata": {},
   "source": [
    "## Void Functions vs. Value-Returning (Fruitful) Functions\n",
    "\n",
    "- When you call a void function, it simply executes the statements it\n",
    "contains and then terminates. \n",
    "\n",
    "- When you call a value-returning function, it executes the\n",
    "statements that it contains, then returns a value back to the statement that called it. (ex., `input()`,`int()`,`float()`)"
   ]
  },
  {
   "cell_type": "markdown",
   "metadata": {},
   "source": [
    "### Defining and calling a void function\n",
    "\n",
    "When you define function name, a function’s name should be descriptive enough so anyone reading\n",
    "your code can reasonably guess what the function does. Python requires that you follow the same rules that you follow when naming variables, which we recap here:\n",
    "1. You cannot use Python's keywords as a function name. \n",
    "2. A function name cannot contain spaces. \n",
    "3. The first character must be one of the letters a through z, A through Z, or and underscore character (_).\n",
    "4. After the first character you may use the letters a through z or A through Z, the digits 0 through 9, or underscores. \n",
    "5. Case-sensitive.\n",
    "\n",
    "- Defining a Function\n",
    "        def function_name():\n",
    "            statement\n",
    "            statement\n",
    "            etc.\n",
    "- Calling a Function\n",
    "        function_name()"
   ]
  },
  {
   "cell_type": "code",
   "execution_count": 70,
   "metadata": {},
   "outputs": [],
   "source": [
    "# define a function\n",
    "def message():\n",
    "    print('I am Arthur,')\n",
    "    print('King of the Britons.')"
   ]
  },
  {
   "cell_type": "code",
   "execution_count": 71,
   "metadata": {
    "scrolled": false
   },
   "outputs": [
    {
     "name": "stdout",
     "output_type": "stream",
     "text": [
      "I am Arthur,\n",
      "King of the Britons.\n"
     ]
    }
   ],
   "source": [
    "# calling a function\n",
    "message()"
   ]
  },
  {
   "cell_type": "markdown",
   "metadata": {},
   "source": [
    "Summary:\n",
    "- This program has only one function, but it is possible to define many functions in a program.\n",
    "\n",
    "- In fact, it is common for a program to have a main function that is called when the\n",
    "program starts. The main function then calls other functions in the program as they are\n",
    "needed. \n",
    "\n",
    "- It is often said that the main function contains a program’s mainline logic, which\n",
    "is the overall logic of the program. \n",
    "\n",
    "Here is an example of a program with two\n",
    "functions: `main()` and `message()`."
   ]
  },
  {
   "cell_type": "code",
   "execution_count": 75,
   "metadata": {},
   "outputs": [
    {
     "name": "stdout",
     "output_type": "stream",
     "text": [
      "I have a message for you\n",
      "I am Arthur,\n",
      "King of the Britons.\n",
      "Goodbye!\n"
     ]
    }
   ],
   "source": [
    "# This program has two functions. \n",
    "# define the main function\n",
    "def main():\n",
    "    print('I have a message for you')\n",
    "    message()\n",
    "    print('Goodbye!')\n",
    "\n",
    "# define the message function\n",
    "def message():\n",
    "    print('I am Arthur,')\n",
    "    print('King of the Britons.')\n",
    "    \n",
    "# Call the main function.\n",
    "main()"
   ]
  },
  {
   "cell_type": "code",
   "execution_count": 73,
   "metadata": {},
   "outputs": [
    {
     "name": "stdout",
     "output_type": "stream",
     "text": [
      "I have a message for you\n",
      "I am Arthur,\n",
      "King of the Britons.\n",
      "Goodbye!\n"
     ]
    }
   ],
   "source": [
    "a = main()"
   ]
  },
  {
   "cell_type": "code",
   "execution_count": 74,
   "metadata": {},
   "outputs": [
    {
     "name": "stdout",
     "output_type": "stream",
     "text": [
      "None\n"
     ]
    },
    {
     "data": {
      "text/plain": [
       "NoneType"
      ]
     },
     "execution_count": 74,
     "metadata": {},
     "output_type": "execute_result"
    }
   ],
   "source": [
    "print(a)\n",
    "type(a)"
   ]
  },
  {
   "cell_type": "markdown",
   "metadata": {},
   "source": [
    "### Indentation \n",
    "\n",
    "When you indent the lines in a block, make sure each line begins with the same number of\n",
    "spaces. Otherwise, an error will occur. \n",
    "\n",
    "In an editor, there are two ways to indent a line:\n",
    "1. by pressing the Tab key at the beginning of the line. \n",
    "2. by using the spacebar to insert spaces at the beginning of the line\n",
    "\n",
    "IDLE, as well as most other Python editors, automatically indents the lines in a block.\n",
    "When you type the colon at the end of a function header, all of the lines typed afterward\n",
    "will automatically be indented. After you have typed the last line of the block, you press\n",
    "the Backspace key to get out of the automatic indentation."
   ]
  },
  {
   "cell_type": "markdown",
   "metadata": {},
   "source": [
    "### Designing a Program to Use Functions\n",
    "\n",
    "Concepts: Programmers commonly use a technique known as top-down design to\n",
    "break down an algorithm into functions.\n",
    "\n",
    "#### Flowchart\n",
    "Programmers typically draw a separate flowchart for each function in a program. For example,\n",
    "the graph shows how the main function and the message function in the program\n",
    "would be flowcharted. When drawing a flowchart for a function, the starting terminal\n",
    "symbol usually shows the name of the function and the ending terminal symbol usually\n",
    "reads `Return`. \n",
    "\n",
    "![flowchart](flowchart.JPG)"
   ]
  },
  {
   "cell_type": "markdown",
   "metadata": {},
   "source": [
    "#### Top-down design\n",
    "The process of top-down design is performed\n",
    "in the following manner:\n",
    "- The overall task that the program is to perform is broken down into a series of\n",
    "subtasks.\n",
    "- Each of the subtasks is examined to determine whether it can be further broken down\n",
    "into more subtasks. This step is repeated until no more subtasks can be identified.\n",
    "- Once all of the subtasks have been identified, they are written in code."
   ]
  },
  {
   "cell_type": "markdown",
   "metadata": {},
   "source": [
    "#### Hierarchy charts\n",
    "\n",
    "![hierarchy](hierarchy.JPG)\n",
    "\n",
    "Notice the hierarchy chart does not show the steps that are taken inside a function. Because they do not reveal any details about how functions work, they do not replace flowcharts or pseudocode.\n",
    "\n",
    "As you can see from the hierarchy chart, the main function will call several other functions.\n",
    "Here are summaries of those functions:\n",
    "- startup_message. This function will display the starting message that tells the technician\n",
    "what the program does.\n",
    "- step1. This function will display the instructions for step 1.\n",
    "- step2. This function will display the instructions for step 2.\n",
    "- step3. This function will display the instructions for step 3.\n",
    "- step4. This function will display the instructions for step 4.\n",
    "\n",
    "Between calls to these functions, the main function will instruct the user to press a key to see\n",
    "the next step in the instructions. Let's try to write a program using different fucntions and main function. "
   ]
  },
  {
   "cell_type": "markdown",
   "metadata": {},
   "source": [
    "- Step 1: Unplug the dryer and move it away from the wall.\n",
    "- Step 2: Remove the six screws from the back of the dryer.\n",
    "- Step 3: Remove the dryer’s back panel.\n",
    "- Step 4: Pull the top of the dryer straight up."
   ]
  },
  {
   "cell_type": "code",
   "execution_count": 4,
   "metadata": {},
   "outputs": [
    {
     "name": "stdout",
     "output_type": "stream",
     "text": [
      "This is the start of this program\n",
      "which aims to tell you what to with the machine.\n",
      "There are 4 steps in the process.\n",
      "\n",
      "Press Enter to see Step 1.\n",
      "Step1: Unplug the dryer\n",
      "move it away from the wall.\n",
      "\n",
      "Press Enter to see Step 2.\n",
      "Step2: Remove the six screws\n",
      "from the back of the dryer. \n",
      "\n",
      "Press Enter to see Step 3.\n",
      "Step3: Remove the dryer’s back panel. \n",
      "\n",
      "Press Enter to see Step 4.\n",
      "Step4: Pull the top of the dryer straight up. \n",
      "\n",
      "This is the end of this instruction. Have a good day.\n"
     ]
    }
   ],
   "source": [
    "# acme_dryer\n",
    "def main():\n",
    "    # display the start-up message\n",
    "    startup_message()\n",
    "    input('Press Enter to see Step 1.')\n",
    "    # display step 1\n",
    "    step1()\n",
    "    input('Press Enter to see Step 2.')\n",
    "    # display step 2\n",
    "    step2()\n",
    "    input('Press Enter to see Step 3.')\n",
    "    # display step 3\n",
    "    step3()\n",
    "    input('Press Enter to see Step 4.')\n",
    "    # display step 4\n",
    "    step4()\n",
    "    # display end message\n",
    "    end_message()\n",
    "\n",
    "def startup_message():\n",
    "    print(\"This is the start of this program\")\n",
    "    print(\"which aims to tell you what to with the machine.\")\n",
    "    print(\"There are 4 steps in the process.\")\n",
    "    print()\n",
    "    \n",
    "def step1():\n",
    "    print(\"Step1: Unplug the dryer\")\n",
    "    print(\"move it away from the wall.\\n\")\n",
    "    \n",
    "def step2():\n",
    "    print(\"Step2: Remove the six screws\") \n",
    "    print(\"from the back of the dryer. \\n\")\n",
    "    \n",
    "def step3():\n",
    "    print(\"Step3: Remove the dryer’s back panel. \\n\")\n",
    "    \n",
    "def step4():\n",
    "    print(\"Step4: Pull the top of the dryer straight up. \\n\")\n",
    "\n",
    "def end_message():\n",
    "    print(\"This is the end of this instruction. Have a good day.\")\n",
    "    \n",
    "# calling the main function \n",
    "main()"
   ]
  },
  {
   "cell_type": "markdown",
   "metadata": {},
   "source": [
    "#### Pausing Execution Until the User Presses Enter\n",
    "Sometimes you want a program to pause so the user can read information that has been\n",
    "displayed on the screen. When the user is ready for the program to continue execution, he or\n",
    "she presses the Enter key and the program resumes. \n",
    "\n",
    "`input('Press Enter to see Step 1.')`\n",
    "\n",
    "#### Using the `pass` Keyword\n",
    "\n",
    "When you are initially writing a program’s code, you know the names of the\n",
    "functions you plan to use. When this is the case, you can use the pass keyword to create empty\n",
    "functions. Later, when the details of the code are known, you can come back to the empty\n",
    "functions and replace the pass keyword with meaningful code. The pass keyword is ignored by the Python interpreter, so this code creates four functions\n",
    "that do nothing.\n",
    "\n",
    "```\n",
    "def step1():\n",
    "    pass\n",
    "def step2():\n",
    "    pass\n",
    "def step3():\n",
    "    pass\n",
    "def step4():\n",
    "    pass\n",
    "\n",
    "```"
   ]
  },
  {
   "cell_type": "code",
   "execution_count": 78,
   "metadata": {},
   "outputs": [],
   "source": [
    "x = 10\n",
    "y = 7\n",
    "if x > y:\n",
    "    pass\n",
    "else:\n",
    "    pass"
   ]
  },
  {
   "cell_type": "code",
   "execution_count": 80,
   "metadata": {},
   "outputs": [
    {
     "ename": "KeyboardInterrupt",
     "evalue": "",
     "output_type": "error",
     "traceback": [
      "\u001b[1;31m---------------------------------------------------------------------------\u001b[0m",
      "\u001b[1;31mKeyboardInterrupt\u001b[0m                         Traceback (most recent call last)",
      "\u001b[1;32m<ipython-input-80-fa5e0f15dcd7>\u001b[0m in \u001b[0;36m<module>\u001b[1;34m\u001b[0m\n\u001b[1;32m----> 1\u001b[1;33m \u001b[1;32mwhile\u001b[0m \u001b[0mx\u001b[0m\u001b[1;33m<\u001b[0m\u001b[1;36m100\u001b[0m\u001b[1;33m:\u001b[0m\u001b[1;33m\u001b[0m\u001b[1;33m\u001b[0m\u001b[0m\n\u001b[0m\u001b[0;32m      2\u001b[0m     \u001b[1;32mpass\u001b[0m\u001b[1;33m\u001b[0m\u001b[1;33m\u001b[0m\u001b[0m\n",
      "\u001b[1;31mKeyboardInterrupt\u001b[0m: "
     ]
    }
   ],
   "source": [
    "while x<100:\n",
    "    pass"
   ]
  },
  {
   "cell_type": "markdown",
   "metadata": {},
   "source": [
    "### Parameters and Arguments\n",
    "\n",
    "Exercise 1. Examine the following function header, and then write a statement that calls the function, passing 12 as an argument.\n",
    "\n",
    "def show_value(quantity):"
   ]
  },
  {
   "cell_type": "code",
   "execution_count": 3,
   "metadata": {},
   "outputs": [
    {
     "name": "stdout",
     "output_type": "stream",
     "text": [
      "12\n"
     ]
    }
   ],
   "source": [
    "# define the function\n",
    "def show_value(quantity = 13): \n",
    "    # 13 is a default argument value, which can be changed when you are calling the function\n",
    "    if quantity == 13:\n",
    "        print(\"13 is the default value of the argument quantity.\\n\")\n",
    "    print(quantity)\n",
    "\n",
    "# call the function \n",
    "show_value(12)"
   ]
  },
  {
   "cell_type": "markdown",
   "metadata": {},
   "source": [
    "Exercise 2.\n",
    "\n",
    "    def my_function(a, b, c):\n",
    "        d = (a + c) / b\n",
    "        print(d)\n",
    "\n",
    "2.1. Write a statement that calls the above function and uses keyword arguments to pass 2 into a, 4 into b, and 6 into c.\n",
    "\n",
    "2.2. What value will be displayed when the function call executes?"
   ]
  },
  {
   "cell_type": "code",
   "execution_count": 90,
   "metadata": {},
   "outputs": [
    {
     "name": "stdout",
     "output_type": "stream",
     "text": [
      "2.0\n",
      "1.0\n"
     ]
    }
   ],
   "source": [
    "# define function\n",
    "def calculate(a,b,c):\n",
    "    d = (a + c)/b\n",
    "    print(d)\n",
    "    \n",
    "# call function\n",
    "calculate(2,4,6)\n",
    "calculate(10, 20, 10)"
   ]
  },
  {
   "cell_type": "markdown",
   "metadata": {},
   "source": [
    "Exercise 3. Write a function named times_ten. The function should accept an argument and display the product of its argument multiplied by 10."
   ]
  },
  {
   "cell_type": "code",
   "execution_count": 89,
   "metadata": {},
   "outputs": [
    {
     "name": "stdout",
     "output_type": "stream",
     "text": [
      "100\n"
     ]
    }
   ],
   "source": [
    "# define function\n",
    "def times_ten(x):\n",
    "    result = x*10\n",
    "    print(result)\n",
    "    \n",
    "# call function    \n",
    "times_ten(10)"
   ]
  },
  {
   "cell_type": "markdown",
   "metadata": {},
   "source": [
    "### Global vs. Local\n",
    "\n",
    "#### Local variables\n",
    "\n",
    "A local variable is created inside a function.\n",
    "\n",
    "    - Different functions can have local variables with the same names because the functions cannot see each other's local variables.\n",
    "\n",
    "    - Anytime you assign a value to a variable inside a function, you create a local variable. A local variable belongs to the function in which it is created, and only statements inside that function can access the variable.\n",
    "    \n",
    "    - A variable’s scope is the part of a program in which the variable may be accessed. A variable is visible only to statements in the variable’s scope."
   ]
  },
  {
   "cell_type": "code",
   "execution_count": 1,
   "metadata": {
    "scrolled": false
   },
   "outputs": [
    {
     "name": "stdout",
     "output_type": "stream",
     "text": [
      "Enter your name: Yuxiao\n"
     ]
    },
    {
     "ename": "NameError",
     "evalue": "name 'name' is not defined",
     "output_type": "error",
     "traceback": [
      "\u001b[1;31m---------------------------------------------------------------------------\u001b[0m",
      "\u001b[1;31mNameError\u001b[0m                                 Traceback (most recent call last)",
      "\u001b[1;32m<ipython-input-1-4c9dac843dc9>\u001b[0m in \u001b[0;36m<module>\u001b[1;34m\u001b[0m\n\u001b[0;32m      8\u001b[0m \u001b[1;33m\u001b[0m\u001b[0m\n\u001b[0;32m      9\u001b[0m \u001b[1;31m# call the main function\u001b[0m\u001b[1;33m\u001b[0m\u001b[1;33m\u001b[0m\u001b[1;33m\u001b[0m\u001b[0m\n\u001b[1;32m---> 10\u001b[1;33m \u001b[0mmain\u001b[0m\u001b[1;33m(\u001b[0m\u001b[1;33m)\u001b[0m\u001b[1;33m\u001b[0m\u001b[1;33m\u001b[0m\u001b[0m\n\u001b[0m",
      "\u001b[1;32m<ipython-input-1-4c9dac843dc9>\u001b[0m in \u001b[0;36mmain\u001b[1;34m()\u001b[0m\n\u001b[0;32m      1\u001b[0m \u001b[1;32mdef\u001b[0m \u001b[0mmain\u001b[0m\u001b[1;33m(\u001b[0m\u001b[1;33m)\u001b[0m\u001b[1;33m:\u001b[0m\u001b[1;33m\u001b[0m\u001b[1;33m\u001b[0m\u001b[0m\n\u001b[0;32m      2\u001b[0m     \u001b[0mget_name\u001b[0m\u001b[1;33m(\u001b[0m\u001b[1;33m)\u001b[0m\u001b[1;33m\u001b[0m\u001b[1;33m\u001b[0m\u001b[0m\n\u001b[1;32m----> 3\u001b[1;33m     \u001b[0mprint\u001b[0m\u001b[1;33m(\u001b[0m\u001b[1;34mf'Hello {name}.'\u001b[0m\u001b[1;33m)\u001b[0m \u001b[1;31m# this causes an error!\u001b[0m\u001b[1;33m\u001b[0m\u001b[1;33m\u001b[0m\u001b[0m\n\u001b[0m\u001b[0;32m      4\u001b[0m \u001b[1;33m\u001b[0m\u001b[0m\n\u001b[0;32m      5\u001b[0m \u001b[1;31m# definition of the get_name function\u001b[0m\u001b[1;33m\u001b[0m\u001b[1;33m\u001b[0m\u001b[1;33m\u001b[0m\u001b[0m\n",
      "\u001b[1;31mNameError\u001b[0m: name 'name' is not defined"
     ]
    }
   ],
   "source": [
    "def main():\n",
    "    get_name()\n",
    "    print(f'Hello {name}.') # this causes an error!\n",
    "    \n",
    "# definition of the get_name function \n",
    "def get_name():\n",
    "    name = input('Enter your name: ')\n",
    "    \n",
    "# call the main function\n",
    "main()"
   ]
  },
  {
   "cell_type": "markdown",
   "metadata": {},
   "source": [
    "Because a function’s local variables are hidden from other functions, the other functions\n",
    "may have their own local variables with the same name. Let's take a look at this example:"
   ]
  },
  {
   "cell_type": "code",
   "execution_count": 2,
   "metadata": {},
   "outputs": [
    {
     "name": "stdout",
     "output_type": "stream",
     "text": [
      "Texas has 5000 birds.\n",
      "california has 8000 birds.\n"
     ]
    }
   ],
   "source": [
    "# this program demonstrates two functions that \n",
    "# have local variables with the same name\n",
    "\n",
    "def main():\n",
    "    # call the texas function. \n",
    "    texas()\n",
    "    # call the california function \n",
    "    california()\n",
    "    \n",
    "# definition of the texas function \n",
    "# it creates a local variable named birds \n",
    "def texas():\n",
    "    birds = 5000\n",
    "    print(f'Texas has {birds} birds.')\n",
    "    \n",
    "# definition of the california function. \n",
    "# it also creates a local variable named birds \n",
    "def california():\n",
    "    birds = 8000\n",
    "    print(f'California has {birds} birds.')\n",
    "\n",
    "# call the main function\n",
    "main()"
   ]
  },
  {
   "cell_type": "code",
   "execution_count": 6,
   "metadata": {},
   "outputs": [
    {
     "name": "stdout",
     "output_type": "stream",
     "text": [
      "Bing tiddle tiddle bang.\n"
     ]
    },
    {
     "ename": "NameError",
     "evalue": "name 'combine' is not defined",
     "output_type": "error",
     "traceback": [
      "\u001b[1;31m---------------------------------------------------------------------------\u001b[0m",
      "\u001b[1;31mNameError\u001b[0m                                 Traceback (most recent call last)",
      "\u001b[1;32m<ipython-input-6-4f65ef9c991d>\u001b[0m in \u001b[0;36m<module>\u001b[1;34m\u001b[0m\n\u001b[0;32m      8\u001b[0m \u001b[1;33m\u001b[0m\u001b[0m\n\u001b[0;32m      9\u001b[0m \u001b[0mcombine_twice\u001b[0m\u001b[1;33m(\u001b[0m\u001b[0mphrase1\u001b[0m\u001b[1;33m,\u001b[0m \u001b[0mphrase2\u001b[0m\u001b[1;33m)\u001b[0m\u001b[1;33m\u001b[0m\u001b[1;33m\u001b[0m\u001b[0m\n\u001b[1;32m---> 10\u001b[1;33m \u001b[0mprint\u001b[0m\u001b[1;33m(\u001b[0m\u001b[0mcombine\u001b[0m\u001b[1;33m)\u001b[0m\u001b[1;33m\u001b[0m\u001b[1;33m\u001b[0m\u001b[0m\n\u001b[0m",
      "\u001b[1;31mNameError\u001b[0m: name 'combine' is not defined"
     ]
    }
   ],
   "source": [
    "# what is wrong with this code? \n",
    "def combine_twice(part1, part2):\n",
    "    combine = part1 + part2 \n",
    "    print(combine) \n",
    "\n",
    "phrase1 = 'Bing tiddle '\n",
    "phrase2 = 'tiddle bang.'\n",
    "\n",
    "combine_twice(phrase1, phrase2) \n",
    "print(combine)"
   ]
  },
  {
   "cell_type": "markdown",
   "metadata": {},
   "source": [
    "### Pass Arguments to Functions\n",
    "\n",
    "- An argument is any piece of data that is passed into a function when the\n",
    "function is called. A parameter is a variable that receives an argument\n",
    "that is passed into a function.\n",
    "\n",
    "- Pieces of data that are sent into a function are known as arguments.\n",
    "The function can use its arguments in calculations or other operations.\n",
    "\n",
    "- You can pass multiple arguments to the function"
   ]
  },
  {
   "cell_type": "code",
   "execution_count": 62,
   "metadata": {},
   "outputs": [
    {
     "name": "stdout",
     "output_type": "stream",
     "text": [
      "ok\n",
      "ok\n"
     ]
    }
   ],
   "source": [
    "def print_twice(s):\n",
    "    print(s)\n",
    "    print(s) \n",
    "\n",
    "print_twice('ok')"
   ]
  },
  {
   "cell_type": "code",
   "execution_count": 10,
   "metadata": {},
   "outputs": [
    {
     "name": "stdout",
     "output_type": "stream",
     "text": [
      "10\n"
     ]
    }
   ],
   "source": [
    "# This program demonstrates an argument being passed \n",
    "# to a function\n",
    "def main(): \n",
    "    value = 5\n",
    "    show_double(value)\n",
    "\n",
    "# the show_double function accepts an argument \n",
    "# and displays double its value \n",
    "def show_double(number):\n",
    "    result = number * 2\n",
    "    print(result)\n",
    "    \n",
    "# call the main function\n",
    "main()"
   ]
  },
  {
   "cell_type": "code",
   "execution_count": 11,
   "metadata": {},
   "outputs": [
    {
     "name": "stdout",
     "output_type": "stream",
     "text": [
      "Enter your first name: y\n",
      "Enter your last name: L\n",
      "Your name reversed is\n",
      "L y\n"
     ]
    }
   ],
   "source": [
    "# this program demonstrates passing two string\n",
    "# arguments to a function\n",
    "def main():\n",
    "    first_name = input('Enter your first name: ')\n",
    "    last_name = input('Enter your last name: ')\n",
    "    print('Your name reversed is')\n",
    "    reverse_name(first_name, last_name)\n",
    "    \n",
    "def reverse_name(first, last): \n",
    "    print(last, first)\n",
    "    \n",
    "# call the main function\n",
    "main()"
   ]
  },
  {
   "cell_type": "markdown",
   "metadata": {},
   "source": [
    "### Making Changes to Parameters\n",
    "\n",
    "- When an argument is passed to a function in Python, the function parameter variable will\n",
    "reference the argument’s value. \n",
    "\n",
    "- However, any changes that are made to the parameter variable\n",
    "will not affect the argument.\n"
   ]
  },
  {
   "cell_type": "code",
   "execution_count": 7,
   "metadata": {},
   "outputs": [
    {
     "name": "stdout",
     "output_type": "stream",
     "text": [
      "The value is 99\n",
      "I am changing the value\n",
      "Now the value is 0\n",
      "Back in main the value is 99\n"
     ]
    }
   ],
   "source": [
    "# this program demonstrates what happens when \n",
    "# you change the value of a parameter \n",
    "def main(): \n",
    "    value = 99\n",
    "    print(f'The value is {value}')\n",
    "    change_me(value)\n",
    "    print(f'Back in main the value is {value}')\n",
    "    \n",
    "def change_me(arg):\n",
    "    print('I am changing the value')\n",
    "    arg = 0\n",
    "    print(f'Now the value is {arg}')\n",
    "    \n",
    "# call the main function\n",
    "main()"
   ]
  },
  {
   "cell_type": "markdown",
   "metadata": {},
   "source": [
    "#### Keyword arguments\n",
    "\n",
    "- Above example demonstrates how arguments are passed by position to parameter variables\n",
    "in a function. Most programming languages match function arguments and parameters\n",
    "this way.\n",
    "\n",
    "- In addition to this conventional form of argument passing, the Python language\n",
    "allows you to write an argument in the following format, to specify which parameter variable\n",
    "the argument should be passed to: `parameter_name=value`\n",
    "\n",
    "The example below shows that: \n",
    "\n",
    "- In line 7 the order of the keyword arguments does not match the order of the\n",
    "parameters in the function header in line 13. \n",
    "- Because a keyword argument specifies\n",
    "which parameter the argument should be passed into, its position in the function call\n",
    "does not matter.\n"
   ]
  },
  {
   "cell_type": "code",
   "execution_count": 8,
   "metadata": {},
   "outputs": [
    {
     "name": "stdout",
     "output_type": "stream",
     "text": [
      "The simple interest will be $1,000.00.\n"
     ]
    }
   ],
   "source": [
    "# this program demonstrates keyword arguments \n",
    "\n",
    "def main():\n",
    "    # show the amount of simple interest, using .01 as \n",
    "    # interest rate per period, 10 as the number of periods \n",
    "    # and $10,000 as the principal \n",
    "    show_interest(rate = .01, periods = 10, principal = 10000.0)\n",
    "    \n",
    "# the show_interest function displays the amount of \n",
    "# simple interest for a given principal, interest rate \n",
    "# per period, and # of periods \n",
    "\n",
    "def show_interest(principal, rate, periods):\n",
    "    interest = principal * rate * periods \n",
    "    print(f'The simple interest will be ${interest:,.2f}.')\n",
    "\n",
    "# call the main function\n",
    "main()"
   ]
  },
  {
   "cell_type": "markdown",
   "metadata": {},
   "source": [
    "#### Mixing keyword arguments with positional arguments\n",
    "It is possible to mix positional arguments and keyword arguments in a function call, \n",
    ">but the positional arguments must appear first, followed by the keyword arguments. \n",
    "\n",
    "Otherwise, an error will occur."
   ]
  },
  {
   "cell_type": "code",
   "execution_count": 15,
   "metadata": {},
   "outputs": [
    {
     "name": "stdout",
     "output_type": "stream",
     "text": [
      "The simple interest will be $1,000.00.\n"
     ]
    }
   ],
   "source": [
    "show_interest(10000.0, rate=0.01, periods=10)"
   ]
  },
  {
   "cell_type": "code",
   "execution_count": 9,
   "metadata": {},
   "outputs": [
    {
     "ename": "SyntaxError",
     "evalue": "positional argument follows keyword argument (<ipython-input-9-bc2e16586a68>, line 2)",
     "output_type": "error",
     "traceback": [
      "\u001b[1;36m  File \u001b[1;32m\"<ipython-input-9-bc2e16586a68>\"\u001b[1;36m, line \u001b[1;32m2\u001b[0m\n\u001b[1;33m    show_interest(1000.0, rate=0.01, 10)\u001b[0m\n\u001b[1;37m                                       ^\u001b[0m\n\u001b[1;31mSyntaxError\u001b[0m\u001b[1;31m:\u001b[0m positional argument follows keyword argument\n"
     ]
    }
   ],
   "source": [
    "# This will cause an ERROR!\n",
    "show_interest(1000.0, rate=0.01, 10)"
   ]
  },
  {
   "cell_type": "code",
   "execution_count": 11,
   "metadata": {},
   "outputs": [
    {
     "name": "stdout",
     "output_type": "stream",
     "text": [
      "The simple interest will be $100.00.\n",
      "The simple interest will be $100.00.\n"
     ]
    }
   ],
   "source": [
    "# How can I fix the code above?\n",
    "show_interest(1000.0, rate = 0.01, periods = 10)\n",
    "show_interest(1000.0, .01, 10)"
   ]
  },
  {
   "cell_type": "markdown",
   "metadata": {},
   "source": [
    "#### Return values\n",
    "- Single return statement\n",
    "- Multiple return statements (one in each conditional branch)\n",
    "    + only one will be executed\n",
    "    + function ends after return statement executes\n",
    "\n",
    "#### Dead code:\n",
    "- code following a return statement\n",
    "- any code that the flow of execution can never reach"
   ]
  },
  {
   "cell_type": "code",
   "execution_count": 12,
   "metadata": {},
   "outputs": [
    {
     "ename": "NameError",
     "evalue": "name 'x' is not defined",
     "output_type": "error",
     "traceback": [
      "\u001b[1;31m---------------------------------------------------------------------------\u001b[0m",
      "\u001b[1;31mNameError\u001b[0m                                 Traceback (most recent call last)",
      "\u001b[1;32m<ipython-input-12-a84ae5c296d8>\u001b[0m in \u001b[0;36m<module>\u001b[1;34m\u001b[0m\n\u001b[0;32m      8\u001b[0m     \u001b[0mprint\u001b[0m\u001b[1;33m(\u001b[0m\u001b[1;34m'The square of'\u001b[0m\u001b[1;33m,\u001b[0m \u001b[0mx\u001b[0m\u001b[1;33m,\u001b[0m \u001b[1;34m'is'\u001b[0m\u001b[1;33m,\u001b[0m \u001b[0my\u001b[0m\u001b[1;33m)\u001b[0m\u001b[1;33m\u001b[0m\u001b[1;33m\u001b[0m\u001b[0m\n\u001b[0;32m      9\u001b[0m \u001b[1;33m\u001b[0m\u001b[0m\n\u001b[1;32m---> 10\u001b[1;33m \u001b[0msquare\u001b[0m\u001b[1;33m(\u001b[0m\u001b[1;33m)\u001b[0m\u001b[1;33m\u001b[0m\u001b[1;33m\u001b[0m\u001b[0m\n\u001b[0m",
      "\u001b[1;32m<ipython-input-12-a84ae5c296d8>\u001b[0m in \u001b[0;36msquare\u001b[1;34m()\u001b[0m\n\u001b[0;32m      4\u001b[0m \u001b[1;33m\u001b[0m\u001b[0m\n\u001b[0;32m      5\u001b[0m \u001b[1;32mdef\u001b[0m \u001b[0msquare\u001b[0m\u001b[1;33m(\u001b[0m\u001b[1;33m)\u001b[0m\u001b[1;33m:\u001b[0m\u001b[1;33m\u001b[0m\u001b[1;33m\u001b[0m\u001b[0m\n\u001b[1;32m----> 6\u001b[1;33m     \u001b[0my\u001b[0m \u001b[1;33m=\u001b[0m \u001b[0mx\u001b[0m\u001b[1;33m**\u001b[0m\u001b[1;36m2\u001b[0m\u001b[1;33m\u001b[0m\u001b[1;33m\u001b[0m\u001b[0m\n\u001b[0m\u001b[0;32m      7\u001b[0m     \u001b[1;32mreturn\u001b[0m \u001b[0my\u001b[0m\u001b[1;33m\u001b[0m\u001b[1;33m\u001b[0m\u001b[0m\n\u001b[0;32m      8\u001b[0m     \u001b[0mprint\u001b[0m\u001b[1;33m(\u001b[0m\u001b[1;34m'The square of'\u001b[0m\u001b[1;33m,\u001b[0m \u001b[0mx\u001b[0m\u001b[1;33m,\u001b[0m \u001b[1;34m'is'\u001b[0m\u001b[1;33m,\u001b[0m \u001b[0my\u001b[0m\u001b[1;33m)\u001b[0m\u001b[1;33m\u001b[0m\u001b[1;33m\u001b[0m\u001b[0m\n",
      "\u001b[1;31mNameError\u001b[0m: name 'x' is not defined"
     ]
    }
   ],
   "source": [
    "# what's wrong in this code?\n",
    "\n",
    "# Square Function:\n",
    "\n",
    "def square():\n",
    "    y = x**2\n",
    "    return y\n",
    "    print('The square of', x, 'is', y) \n",
    "\n",
    "square()"
   ]
  },
  {
   "cell_type": "code",
   "execution_count": 16,
   "metadata": {},
   "outputs": [
    {
     "name": "stdout",
     "output_type": "stream",
     "text": [
      "The function the default value x = 0\n"
     ]
    },
    {
     "data": {
      "text/plain": [
       "0"
      ]
     },
     "execution_count": 16,
     "metadata": {},
     "output_type": "execute_result"
    }
   ],
   "source": [
    "# correct the code above so that user can enter any number and the program will output the square of that number\n",
    "def square(x = 0):\n",
    "    if x == 0:\n",
    "        print(\"Warning Msg: The function the default value x = 0\")\n",
    "    y = x**2\n",
    "    return y\n",
    "    print('The square of', x, 'is', y) \n",
    "\n",
    "square()"
   ]
  },
  {
   "cell_type": "code",
   "execution_count": 19,
   "metadata": {},
   "outputs": [
    {
     "name": "stdout",
     "output_type": "stream",
     "text": [
      "I have a message for you.\n",
      "I am Arthur,\n",
      "King of the Britons.\n",
      "Goodbye!\n",
      "None\n"
     ]
    }
   ],
   "source": [
    "#is this a fruitful/value-returning function?\n",
    "\n",
    "def message(): # function header\n",
    "    print('I am Arthur,') # function body\n",
    "    print('King of the Britons.') # function body\n",
    "    \n",
    "def main():\n",
    "    print('I have a message for you.')\n",
    "    message()\n",
    "    print('Goodbye!')\n",
    "\n",
    "# Call the main function.\n",
    "main()\n",
    "\n",
    "# this is void function rather than value-returning function"
   ]
  },
  {
   "cell_type": "markdown",
   "metadata": {},
   "source": [
    "### Review:\n",
    "- Parameters (when you write functions)\n",
    "- Arguments (when you call functions, you pass arguments into the function name)\n",
    "- Function header\n",
    "- Function body\n",
    "- docstring"
   ]
  },
  {
   "cell_type": "markdown",
   "metadata": {},
   "source": [
    "### Debugging\n",
    "- Correct Indentation: tabs/spaces\n",
    "- Local vs. Global var\n",
    "- Define variable/function first before calling it\n",
    "- For long programs:\n",
    "    + look at the rough middle of your program\n",
    "    + add and run a print statement for a variable in your program that you can check\n",
    "    + if the print statement causes an error ==> there is an error in the first half\n",
    "    + if no error ==> then the error is in the second half of program\n",
    "    + you lower the number of lines of code you have to check to search for the bug"
   ]
  },
  {
   "cell_type": "markdown",
   "metadata": {},
   "source": [
    "### Exercises\n",
    "\n",
    "Exercise 4. Write a function named get_first_name that asks the user to enter his or her first name, and returns it.\n",
    "\n",
    "\n",
    "Exercise 5. Write a function named welcome() that asks the user to enter his or her name and displays it followed by a welcome message."
   ]
  }
 ],
 "metadata": {
  "kernelspec": {
   "display_name": "Python 3",
   "language": "python",
   "name": "python3"
  },
  "language_info": {
   "codemirror_mode": {
    "name": "ipython",
    "version": 3
   },
   "file_extension": ".py",
   "mimetype": "text/x-python",
   "name": "python",
   "nbconvert_exporter": "python",
   "pygments_lexer": "ipython3",
   "version": "3.9.5"
  }
 },
 "nbformat": 4,
 "nbformat_minor": 4
}
