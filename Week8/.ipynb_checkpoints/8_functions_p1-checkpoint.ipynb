{
 "cells": [
  {
   "cell_type": "markdown",
   "metadata": {},
   "source": [
    "# Week 8: Functions\n",
    "Readings: Section 5.1 - 5.5\n",
    "\n",
    "Decomposition and abstraction with functions.  \n",
    "\n",
    "- Defining variables \n",
    "- Local variables \n",
    "- Variable scope \n",
    "- Argument and parameter \n",
    "- Keyword arguments\n",
    "\n",
    "## Introduction\n",
    "\n",
    "- named sequence of statements that performs an action/computation\n",
    "- Define function with:\n",
    "    + name\n",
    "    + order (sequence) of statements\n",
    "- Call function by its name\n",
    "\n",
    "### What is function?\n",
    "Concepts: A function is a group of statements that exist within a program for the\n",
    "purpose of performing a specific task.\n",
    "\n",
    "### Why Functions?\n",
    "- Simpler code\n",
    "\n",
    "    A program’s code tends to be simpler and easier to understand when it is broken down\n",
    "into functions.\n",
    "\n",
    "\n",
    "- Code reuse\n",
    "\n",
    "    Functions also reduce the duplication of code within a program.\n",
    "   \n",
    "   \n",
    "- Better testing\n",
    "\n",
    "    When each task within a program is contained in its own function, testing and debugging\n",
    "becomes simpler.\n",
    "\n",
    "\n",
    "- Faster development\n",
    "\n",
    "    Suppose a programmer or a team of programmers is developing multiple programs.\n",
    "\n",
    "\n",
    "- Easier facilitation of teamwork\n",
    "\n",
    "    Functions also make it easier for programmers to work in teams. When a program is developed\n",
    "as a set of functions that each performs an individual task, then different programmers\n",
    "can be assigned the job of writing different functions."
   ]
  },
  {
   "cell_type": "markdown",
   "metadata": {},
   "source": [
    "### Function types:\n",
    "\n",
    "- Functions with no parameter\n",
    "- Functions with single parameter\n",
    "- Functions with multiple parameters\n",
    "- Functions that return value(s) (value-returning/fruitful functions)\n",
    "- Functions that don't return value(s) (void functions)\n",
    "\n",
    "Python's Built In Functions\n",
    "\n",
    "    len()\n",
    "    int()\n",
    "    float()\n",
    "    str()\n",
    "    abs()\n",
    "    min()\n",
    "    max()\n",
    "    ..."
   ]
  },
  {
   "cell_type": "markdown",
   "metadata": {},
   "source": [
    "## Void Functions vs. Value-Returning (Fruitful) Functions\n",
    "\n",
    "- When you call a void function, it simply executes the statements it\n",
    "contains and then terminates. \n",
    "\n",
    "- When you call a value-returning function, it executes the\n",
    "statements that it contains, then returns a value back to the statement that called it. (ex., `input()`,`int()`,`float()`)"
   ]
  },
  {
   "cell_type": "markdown",
   "metadata": {},
   "source": [
    "### Defining and calling a void function\n",
    "\n",
    "When you define function name, a function’s name should be descriptive enough so anyone reading\n",
    "your code can reasonably guess what the function does. Python requires that you follow the same rules that you follow when naming variables, which we recap here:\n",
    "1. You cannot use Python's keywords as a function name. \n",
    "2. A function name cannot contain spaces. \n",
    "3. The first character must be one of the letters a through z, A through Z, or and underscore character (_).\n",
    "4. After the first character you may use the letters a through z or A through Z, the digits 0 through 9, or underscores. \n",
    "5. Case-sensitive.\n",
    "\n",
    "- Defining a Function\n",
    "        def function_name():\n",
    "            statement\n",
    "            statement\n",
    "            etc.\n",
    "- Calling a Function\n",
    "        function_name()"
   ]
  },
  {
   "cell_type": "code",
   "execution_count": 39,
   "metadata": {},
   "outputs": [],
   "source": [
    "# define a function\n",
    "def message():\n",
    "    print('I am Arthur,')\n",
    "    print('King of the Britons.')"
   ]
  },
  {
   "cell_type": "code",
   "execution_count": 40,
   "metadata": {
    "scrolled": false
   },
   "outputs": [
    {
     "name": "stdout",
     "output_type": "stream",
     "text": [
      "I am Arthur,\n",
      "King of the Britons.\n"
     ]
    }
   ],
   "source": [
    "# calling a function\n",
    "message()"
   ]
  },
  {
   "cell_type": "markdown",
   "metadata": {},
   "source": [
    "Summary:\n",
    "- This program has only one function, but it is possible to define many functions in a program.\n",
    "\n",
    "- In fact, it is common for a program to have a main function that is called when the\n",
    "program starts. The main function then calls other functions in the program as they are\n",
    "needed. \n",
    "\n",
    "- It is often said that the main function contains a program’s mainline logic, which\n",
    "is the overall logic of the program. \n",
    "\n",
    "Here is an example of a program with two\n",
    "functions: main and message."
   ]
  },
  {
   "cell_type": "code",
   "execution_count": 42,
   "metadata": {},
   "outputs": [
    {
     "name": "stdout",
     "output_type": "stream",
     "text": [
      "I have a message for you\n",
      "I am Arthur,\n",
      "King of the Britons.\n",
      "Goodbye!\n"
     ]
    }
   ],
   "source": [
    "# This program has two functions. \n",
    "# define the main function\n",
    "def main():\n",
    "    print('I have a message for you')\n",
    "    message()\n",
    "    print('Goodbye!')\n",
    "\n",
    "# define the message function\n",
    "def message():\n",
    "    print('I am Arthur,')\n",
    "    print('King of the Britons.')\n",
    "    \n",
    "# Call the main function.\n",
    "main()"
   ]
  },
  {
   "cell_type": "code",
   "execution_count": 43,
   "metadata": {},
   "outputs": [
    {
     "name": "stdout",
     "output_type": "stream",
     "text": [
      "I have a message for you\n",
      "I am Arthur,\n",
      "King of the Britons.\n",
      "Goodbye!\n"
     ]
    }
   ],
   "source": [
    "a = main()"
   ]
  },
  {
   "cell_type": "code",
   "execution_count": 44,
   "metadata": {},
   "outputs": [
    {
     "name": "stdout",
     "output_type": "stream",
     "text": [
      "None\n"
     ]
    },
    {
     "data": {
      "text/plain": [
       "NoneType"
      ]
     },
     "execution_count": 44,
     "metadata": {},
     "output_type": "execute_result"
    }
   ],
   "source": [
    "print(a)\n",
    "type(a)"
   ]
  },
  {
   "cell_type": "markdown",
   "metadata": {},
   "source": [
    "### Indentation \n",
    "\n",
    "When you indent the lines in a block, make sure each line begins with the same number of\n",
    "spaces. Otherwise, an error will occur. \n",
    "\n",
    "In an editor, there are two ways to indent a line:\n",
    "1. by pressing the Tab key at the beginning of the line. \n",
    "2. by using the spacebar to insert spaces at the beginning of the line\n",
    "\n",
    "IDLE, as well as most other Python editors, automatically indents the lines in a block.\n",
    "When you type the colon at the end of a function header, all of the lines typed afterward\n",
    "will automatically be indented. After you have typed the last line of the block, you press\n",
    "the Backspace key to get out of the automatic indentation."
   ]
  },
  {
   "cell_type": "markdown",
   "metadata": {},
   "source": [
    "### Designing a Program to Use Functions\n",
    "\n",
    "Concepts: Programmers commonly use a technique known as top-down design to\n",
    "break down an algorithm into functions.\n",
    "\n",
    "#### Flowchart\n",
    "Programmers typically draw a separate flowchart for each function in a program. For example,\n",
    "the graph shows how the main function and the message function in the program\n",
    "would be flowcharted. When drawing a flowchart for a function, the starting terminal\n",
    "symbol usually shows the name of the function and the ending terminal symbol usually\n",
    "reads `Return`. \n",
    "\n",
    "![flowchart](flowchart.JPG)"
   ]
  },
  {
   "cell_type": "markdown",
   "metadata": {},
   "source": [
    "#### Top-down design\n",
    "The process of top-down design is performed\n",
    "in the following manner:\n",
    "- The overall task that the program is to perform is broken down into a series of\n",
    "subtasks.\n",
    "- Each of the subtasks is examined to determine whether it can be further broken down\n",
    "into more subtasks. This step is repeated until no more subtasks can be identified.\n",
    "- Once all of the subtasks have been identified, they are written in code."
   ]
  },
  {
   "cell_type": "markdown",
   "metadata": {},
   "source": [
    "#### Hierarchy charts\n",
    "\n",
    "![hierarchy](hierarchy.JPG)\n",
    "\n",
    "Notice the hierarchy chart does not show the steps that are taken inside a function. Because they do not reveal any details about how functions work, they do not replace flowcharts or pseudocode.\n",
    "\n",
    "As you can see from the hierarchy chart, the main function will call several other functions.\n",
    "Here are summaries of those functions:\n",
    "- startup_message. This function will display the starting message that tells the technician\n",
    "what the program does.\n",
    "- step1. This function will display the instructions for step 1.\n",
    "- step2. This function will display the instructions for step 2.\n",
    "- step3. This function will display the instructions for step 3.\n",
    "- step4. This function will display the instructions for step 4.\n",
    "\n",
    "Between calls to these functions, the main function will instruct the user to press a key to see\n",
    "the next step in the instructions. Let's try to write a program using different fucntions and main function. "
   ]
  },
  {
   "cell_type": "code",
   "execution_count": null,
   "metadata": {},
   "outputs": [],
   "source": [
    "# acme_dryer\n",
    "def main():\n",
    "    # display the start-up message\n",
    "    start_up"
   ]
  },
  {
   "cell_type": "markdown",
   "metadata": {},
   "source": [
    "#### Pausing Execution Until the User Presses Enter\n",
    "Sometimes you want a program to pause so the user can read information that has been\n",
    "displayed on the screen. When the user is ready for the program to continue execution, he or\n",
    "she presses the Enter key and the program resumes. \n",
    "\n",
    "`input('Press Enter to see Step 1.')`\n",
    "\n",
    "#### Using the `pass` Keyword\n",
    "\n",
    "When you are initially writing a program’s code, you know the names of the\n",
    "functions you plan to use. When this is the case, you can use the pass keyword to create empty\n",
    "functions. Later, when the details of the code are known, you can come back to the empty\n",
    "functions and replace the pass keyword with meaningful code. The pass keyword is ignored by the Python interpreter, so this code creates four functions\n",
    "that do nothing.\n",
    "\n",
    "```\n",
    "def step1():\n",
    "    pass\n",
    "def step2():\n",
    "    pass\n",
    "def step3():\n",
    "    pass\n",
    "def step4():\n",
    "    pass\n",
    "\n",
    "```"
   ]
  },
  {
   "cell_type": "code",
   "execution_count": 68,
   "metadata": {},
   "outputs": [],
   "source": [
    "x = 10\n",
    "y = 7\n",
    "if x > y:\n",
    "    pass\n",
    "else:\n",
    "    pass"
   ]
  },
  {
   "cell_type": "code",
   "execution_count": 69,
   "metadata": {},
   "outputs": [
    {
     "ename": "KeyboardInterrupt",
     "evalue": "",
     "output_type": "error",
     "traceback": [
      "\u001b[1;31m---------------------------------------------------------------------------\u001b[0m",
      "\u001b[1;31mKeyboardInterrupt\u001b[0m                         Traceback (most recent call last)",
      "\u001b[1;32m<ipython-input-69-fa5e0f15dcd7>\u001b[0m in \u001b[0;36m<module>\u001b[1;34m\u001b[0m\n\u001b[1;32m----> 1\u001b[1;33m \u001b[1;32mwhile\u001b[0m \u001b[0mx\u001b[0m\u001b[1;33m<\u001b[0m\u001b[1;36m100\u001b[0m\u001b[1;33m:\u001b[0m\u001b[1;33m\u001b[0m\u001b[1;33m\u001b[0m\u001b[0m\n\u001b[0m\u001b[0;32m      2\u001b[0m     \u001b[1;32mpass\u001b[0m\u001b[1;33m\u001b[0m\u001b[1;33m\u001b[0m\u001b[0m\n",
      "\u001b[1;31mKeyboardInterrupt\u001b[0m: "
     ]
    }
   ],
   "source": [
    "while x<100:\n",
    "    pass"
   ]
  },
  {
   "cell_type": "markdown",
   "metadata": {},
   "source": [
    "### Parameters and Arguments\n",
    "\n",
    "Exercise 1. Examine the following function header, and then write a statement that calls the function, passing 12 as an argument.\n",
    "\n",
    "def show_value(quantity):"
   ]
  },
  {
   "cell_type": "code",
   "execution_count": null,
   "metadata": {},
   "outputs": [],
   "source": []
  },
  {
   "cell_type": "markdown",
   "metadata": {},
   "source": [
    "Exercise 2.\n",
    "\n",
    "    def my_function(a, b, c):\n",
    "        d = (a + c) / b\n",
    "        print(d)\n",
    "\n",
    "2.1. Write a statement that calls the above function and uses keyword arguments to pass 2 into a, 4 into b, and 6 into c.\n",
    "\n",
    "2.2. What value will be displayed when the function call executes?"
   ]
  },
  {
   "cell_type": "code",
   "execution_count": null,
   "metadata": {},
   "outputs": [],
   "source": []
  },
  {
   "cell_type": "markdown",
   "metadata": {},
   "source": [
    "Exercise 3. Write a function named times_ten. The function should accept an argument and display the product of its argument multiplied by 10."
   ]
  },
  {
   "cell_type": "code",
   "execution_count": null,
   "metadata": {},
   "outputs": [],
   "source": []
  },
  {
   "cell_type": "markdown",
   "metadata": {},
   "source": [
    "### Global vs. Local\n",
    "\n",
    "- Local variable: A local variable is created inside a function and cannot be accessed by\n",
    "statements that are outside the function. Different functions can have\n",
    "local variables with the same names because the functions cannot see\n",
    "each other's local variables."
   ]
  },
  {
   "cell_type": "code",
   "execution_count": null,
   "metadata": {},
   "outputs": [],
   "source": []
  },
  {
   "cell_type": "code",
   "execution_count": 62,
   "metadata": {},
   "outputs": [
    {
     "name": "stdout",
     "output_type": "stream",
     "text": [
      "ok\n",
      "ok\n"
     ]
    }
   ],
   "source": [
    "def print_twice(s):\n",
    "    print(s)\n",
    "    print(s) \n",
    "\n",
    "print_twice('ok')"
   ]
  },
  {
   "cell_type": "code",
   "execution_count": null,
   "metadata": {},
   "outputs": [],
   "source": [
    "# what is wrong with this code? \n",
    "def combine_twice(part1, part2):\n",
    "    combine = part1 + part2 \n",
    "    print_twice(combine) \n",
    "\n",
    "phrase1 = 'Bing tiddle '\n",
    "phrase2 = 'tiddle bang.'\n",
    "\n",
    "combine_twice(phrase1, phrase2) \n",
    "print(combine)"
   ]
  },
  {
   "cell_type": "markdown",
   "metadata": {},
   "source": [
    "#### Return values\n",
    "- Single return statement\n",
    "- Multiple return statements (one in each conditional branch)\n",
    "    + only one will be executed\n",
    "    + function ends after return statement executes\n",
    "\n",
    "#### Dead code:\n",
    "- code following a return statement\n",
    "- any code that the flow of execution can never reach"
   ]
  },
  {
   "cell_type": "code",
   "execution_count": 35,
   "metadata": {
    "collapsed": true
   },
   "outputs": [
    {
     "ename": "NameError",
     "evalue": "name 'x' is not defined",
     "output_type": "error",
     "traceback": [
      "\u001b[1;31m---------------------------------------------------------------------------\u001b[0m",
      "\u001b[1;31mNameError\u001b[0m                                 Traceback (most recent call last)",
      "\u001b[1;32m<ipython-input-35-a84ae5c296d8>\u001b[0m in \u001b[0;36m<module>\u001b[1;34m\u001b[0m\n\u001b[0;32m      8\u001b[0m     \u001b[0mprint\u001b[0m\u001b[1;33m(\u001b[0m\u001b[1;34m'The square of'\u001b[0m\u001b[1;33m,\u001b[0m \u001b[0mx\u001b[0m\u001b[1;33m,\u001b[0m \u001b[1;34m'is'\u001b[0m\u001b[1;33m,\u001b[0m \u001b[0my\u001b[0m\u001b[1;33m)\u001b[0m\u001b[1;33m\u001b[0m\u001b[1;33m\u001b[0m\u001b[0m\n\u001b[0;32m      9\u001b[0m \u001b[1;33m\u001b[0m\u001b[0m\n\u001b[1;32m---> 10\u001b[1;33m \u001b[0msquare\u001b[0m\u001b[1;33m(\u001b[0m\u001b[1;33m)\u001b[0m\u001b[1;33m\u001b[0m\u001b[1;33m\u001b[0m\u001b[0m\n\u001b[0m",
      "\u001b[1;32m<ipython-input-35-a84ae5c296d8>\u001b[0m in \u001b[0;36msquare\u001b[1;34m()\u001b[0m\n\u001b[0;32m      4\u001b[0m \u001b[1;33m\u001b[0m\u001b[0m\n\u001b[0;32m      5\u001b[0m \u001b[1;32mdef\u001b[0m \u001b[0msquare\u001b[0m\u001b[1;33m(\u001b[0m\u001b[1;33m)\u001b[0m\u001b[1;33m:\u001b[0m\u001b[1;33m\u001b[0m\u001b[1;33m\u001b[0m\u001b[0m\n\u001b[1;32m----> 6\u001b[1;33m     \u001b[0my\u001b[0m \u001b[1;33m=\u001b[0m \u001b[0mx\u001b[0m\u001b[1;33m**\u001b[0m\u001b[1;36m2\u001b[0m\u001b[1;33m\u001b[0m\u001b[1;33m\u001b[0m\u001b[0m\n\u001b[0m\u001b[0;32m      7\u001b[0m     \u001b[1;32mreturn\u001b[0m \u001b[0my\u001b[0m\u001b[1;33m\u001b[0m\u001b[1;33m\u001b[0m\u001b[0m\n\u001b[0;32m      8\u001b[0m     \u001b[0mprint\u001b[0m\u001b[1;33m(\u001b[0m\u001b[1;34m'The square of'\u001b[0m\u001b[1;33m,\u001b[0m \u001b[0mx\u001b[0m\u001b[1;33m,\u001b[0m \u001b[1;34m'is'\u001b[0m\u001b[1;33m,\u001b[0m \u001b[0my\u001b[0m\u001b[1;33m)\u001b[0m\u001b[1;33m\u001b[0m\u001b[1;33m\u001b[0m\u001b[0m\n",
      "\u001b[1;31mNameError\u001b[0m: name 'x' is not defined"
     ]
    }
   ],
   "source": [
    "# what's wrong in this code?\n",
    "\n",
    "# Square Function:\n",
    "\n",
    "def square():\n",
    "    y = x**2\n",
    "    return y\n",
    "    print('The square of', x, 'is', y) \n",
    "\n",
    "square()"
   ]
  },
  {
   "cell_type": "code",
   "execution_count": 22,
   "metadata": {},
   "outputs": [],
   "source": [
    "# correct the code above so that user can enter any number and the program will output the square of that number\n"
   ]
  },
  {
   "cell_type": "code",
   "execution_count": 36,
   "metadata": {},
   "outputs": [
    {
     "name": "stdout",
     "output_type": "stream",
     "text": [
      "I have a message for you.\n",
      "I am Arthur,\n",
      "King of the Britons.\n",
      "Goodbye!\n"
     ]
    }
   ],
   "source": [
    "#is this a fruitful function?\n",
    "\n",
    "def message(): # function header\n",
    "    print('I am Arthur,') # function body\n",
    "    print('King of the Britons.') # function body\n",
    "    \n",
    "def main():\n",
    "    print('I have a message for you.')\n",
    "    message()\n",
    "    print('Goodbye!')\n",
    "\n",
    "# Call the main function.\n",
    "main()"
   ]
  },
  {
   "cell_type": "markdown",
   "metadata": {},
   "source": [
    "### Review:\n",
    "- Parameters (when you write functions)\n",
    "- Arguments (when you call functions, you pass arguments into the function name)\n",
    "- Function header\n",
    "- Function body\n",
    "- docstring"
   ]
  },
  {
   "cell_type": "markdown",
   "metadata": {},
   "source": [
    "### Debugging\n",
    "- Correct Indentation: tabs/spaces\n",
    "- Local vs. Global var\n",
    "- Define variable/function first before calling it\n",
    "- For long programs:\n",
    "    + look at the rough middle of your program\n",
    "    + add and run a print statement for a variable in your program that you can check\n",
    "    + if the print statement causes an error ==> there is an error in the first half\n",
    "    + if no error ==> then the error is in the second half of program\n",
    "    + you lower the number of lines of code you have to check to search for the bug"
   ]
  },
  {
   "cell_type": "markdown",
   "metadata": {},
   "source": [
    "### Exercises\n",
    "\n",
    "Exercise 4. Write a function named get_first_name that asks the user to enter his or her first name, and returns it.\n",
    "\n",
    "\n",
    "Exercise 5. Write a function named welcome() that asks the user to enter his or her name and displays it followed by a welcome message."
   ]
  }
 ],
 "metadata": {
  "kernelspec": {
   "display_name": "Python 3",
   "language": "python",
   "name": "python3"
  },
  "language_info": {
   "codemirror_mode": {
    "name": "ipython",
    "version": 3
   },
   "file_extension": ".py",
   "mimetype": "text/x-python",
   "name": "python",
   "nbconvert_exporter": "python",
   "pygments_lexer": "ipython3",
   "version": "3.9.5"
  }
 },
 "nbformat": 4,
 "nbformat_minor": 4
}
