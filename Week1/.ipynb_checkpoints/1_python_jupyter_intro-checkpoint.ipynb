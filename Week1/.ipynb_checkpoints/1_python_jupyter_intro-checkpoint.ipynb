{
 "cells": [
  {
   "cell_type": "markdown",
   "metadata": {
    "extensions": {
     "jupyter_dashboards": {
      "version": 1,
      "views": {
       "grid_default": {},
       "report_default": {}
      }
     }
    },
    "slideshow": {
     "slide_type": "fragment"
    }
   },
   "source": [
    "# INTRODUCTION TO PROGRAMMING & PYTHON"
   ]
  },
  {
   "cell_type": "markdown",
   "metadata": {},
   "source": [
    "## AGENDA\n",
    "- Introduction to the course\n",
    "    + course purpose\n",
    "    + grade components, course policies, outline of topics covered this semester\n",
    "- Introduction to programming & python\n",
    "    + problem solving\n",
    "    + what are computer programs? how do they work?\n",
    "    + process of writing computer programs\n",
    "    + python overview\n",
    "        + installation & usage (python 3, jupyter notebook)\n",
    "    + python style conventions\n",
    "  "
   ]
  },
  {
   "cell_type": "markdown",
   "metadata": {},
   "source": [
    "## 1. COURSE OVERVIEW\n",
    "\n",
    "#### Purpose: \n",
    "    - Computational thinking\n",
    "    - fundamental programming concepts\n",
    "    - problem formulating and solving\n",
    "    \n",
    "#### Grade Components:\n",
    "    - Assignments, Projects, Exams\n",
    "    \n",
    "#### Course Materials\n",
    "\n",
    "#### Class Format\n",
    "\n",
    "#### Communication Policy\n",
    "\n",
    "#### Late Work Policy\n",
    "\n",
    "#### Academic Integrity\n",
    "\n"
   ]
  },
  {
   "cell_type": "markdown",
   "metadata": {},
   "source": [
    "## 2. INTRODUCTION TO PROGRAMMING & PYTHON"
   ]
  },
  {
   "cell_type": "markdown",
   "metadata": {
    "extensions": {
     "jupyter_dashboards": {
      "version": 1,
      "views": {
       "grid_default": {},
       "report_default": {}
      }
     }
    }
   },
   "source": [
    "## Programming Basic Concepts\n",
    "\n",
    "### Problem-solving\n",
    "\n",
    "### What is a program?\n",
    "- Sequence of instructions spceifying how to perform a computation (mathematical or symbolic)\n",
    "    - Input\n",
    "    - Output\n",
    "    - Math\n",
    "    - Conditional Execution\n",
    "    - Repetition\n",
    "    \n",
    "- Decomposition\n",
    "    \n",
    "### Debugging\n",
    "    - syntax erros\n",
    "    - runtime errors\n",
    "    - semantic erros\n",
    "\n",
    "### Formal and Natural Languages\n",
    "- Natural Language: how we speak/write/communicate with each other\n",
    "- Formal Languages:\n",
    "    - designed for specific applications\n",
    "    - strict syntax rules\n",
    "    - e.g. mathmatical notations, computer programming languages, chemical formulas\n",
    "- Tokens, Structure\n",
    "- Ambiguity\n",
    "- Redundancy\n",
    "- Literalness\n",
    "- Parsing\n"
   ]
  },
  {
   "cell_type": "markdown",
   "metadata": {},
   "source": [
    "### Why Python\n",
    "- Data Analytics\n",
    "- General Purpose\n",
    "- Power, Popularity\n",
    "- Clarity, Simplicity, Efficiency\n"
   ]
  },
  {
   "cell_type": "markdown",
   "metadata": {
    "extensions": {
     "jupyter_dashboards": {
      "version": 1,
      "views": {
       "grid_default": {},
       "report_default": {}
      }
     }
    },
    "slideshow": {
     "slide_type": "slide"
    }
   },
   "source": [
    "### History of Python\n",
    "\n",
    "- Developed by \n",
    "    - **Guido van Rossum**, a Dutch programmer\n",
    "- First Release: 1991\n",
    "- **Monty Python**\n",
    "    - *spam, eggs, 42, etc.*\n",
    "    - *Brian, ni, shrubbery, ...*\n",
    "    - *\"The Spanish Inquisition\"*"
   ]
  },
  {
   "cell_type": "markdown",
   "metadata": {
    "extensions": {
     "jupyter_dashboards": {
      "version": 1,
      "views": {
       "grid_default": {},
       "report_default": {}
      }
     }
    },
    "slideshow": {
     "slide_type": "slide"
    }
   },
   "source": [
    "### More About Python\n",
    "\n",
    "- **A High-level language**\n",
    "     - Other high-level languages?\n",
    "     - What are low-level languages?\n",
    "     - High vs. Low level language\n"
   ]
  },
  {
   "cell_type": "markdown",
   "metadata": {},
   "source": [
    "### More About Python\n",
    "- **Interpreted language**\n",
    "    - compiler vs. interpreter\n",
    "    \n",
    "<img src=\"data/interpretvs.compile.png\">\n"
   ]
  },
  {
   "cell_type": "markdown",
   "metadata": {},
   "source": [
    "### More About Python\n",
    "- **.pyc files**:\n",
    "    - Intermediate file used by the Python interpreter. \n",
    "    - Technically, Python uses a hybrid compiling/interpreting process. \n",
    "    - The Python source code, when executed, is compiled into more primitive instructions called byte code. \n",
    "    - This byte code (the . pyc) is then interpreted. \n",
    "    - Having a . pyc file available makes running a module faster the second time around.\n",
    "    - However, you may delete it if you wish to save disk space; Python will automatically recreate it as needed."
   ]
  },
  {
   "cell_type": "markdown",
   "metadata": {
    "extensions": {
     "jupyter_dashboards": {
      "version": 1,
      "views": {
       "grid_default": {},
       "report_default": {}
      }
     }
    },
    "slideshow": {
     "slide_type": "slide"
    }
   },
   "source": [
    "### Writing and Running Python Code\n",
    "\n",
    "- **Ways to use the interpreter when programming in Python**:\n",
    "    - Interactive Mode\n",
    "    - Script mode\n",
    "        - **.py** files\n",
    "        - to run a .py file: ` python myfile.py`\n",
    " \n",
    "- **IDEs (Integrated Development Environments) & Text Editors**\n"
   ]
  },
  {
   "cell_type": "markdown",
   "metadata": {
    "extensions": {
     "jupyter_dashboards": {
      "version": 1,
      "views": {
       "grid_default": {},
       "report_default": {}
      }
     }
    },
    "slideshow": {
     "slide_type": "slide"
    }
   },
   "source": [
    "### Important to Know about Python\n",
    "\n",
    "- Case Sensitive\n",
    "    - e.g. token, TOKEN \n",
    "    - `print('hello')`,  NOT `Print('hello')` or `PRINT ('hello')`\n",
    "- Indentation\n",
    "    - Python convention: 4 spaces. Usually 1 tab = 4 spaces\n",
    "    - Only tab or spaces, NOT both\n",
    "- Colon\n",
    "-  Equal Signs\n",
    "    - `=`  for assigning variables' values\n",
    "    - `==` for  comparing between two variables/values "
   ]
  },
  {
   "cell_type": "code",
   "execution_count": 1,
   "metadata": {},
   "outputs": [
    {
     "name": "stdout",
     "output_type": "stream",
     "text": [
      "hello\n"
     ]
    }
   ],
   "source": [
    "print(\"hello\")"
   ]
  },
  {
   "cell_type": "code",
   "execution_count": 25,
   "metadata": {},
   "outputs": [
    {
     "ename": "NameError",
     "evalue": "name 'Print' is not defined",
     "output_type": "error",
     "traceback": [
      "\u001b[0;31m---------------------------------------------------------------------------\u001b[0m",
      "\u001b[0;31mNameError\u001b[0m                                 Traceback (most recent call last)",
      "\u001b[0;32m<ipython-input-25-fb066905c7fb>\u001b[0m in \u001b[0;36m<module>\u001b[0;34m\u001b[0m\n\u001b[0;32m----> 1\u001b[0;31m \u001b[0mPrint\u001b[0m\u001b[0;34m(\u001b[0m\u001b[0;34m\"hello\"\u001b[0m\u001b[0;34m)\u001b[0m\u001b[0;34m\u001b[0m\u001b[0;34m\u001b[0m\u001b[0m\n\u001b[0m",
      "\u001b[0;31mNameError\u001b[0m: name 'Print' is not defined"
     ]
    }
   ],
   "source": [
    "Print(\"hello\")"
   ]
  },
  {
   "cell_type": "code",
   "execution_count": 28,
   "metadata": {},
   "outputs": [
    {
     "ename": "SyntaxError",
     "evalue": "invalid syntax (<ipython-input-28-fc7d7acc3b43>, line 2)",
     "output_type": "error",
     "traceback": [
      "\u001b[0;36m  File \u001b[0;32m\"<ipython-input-28-fc7d7acc3b43>\"\u001b[0;36m, line \u001b[0;32m2\u001b[0m\n\u001b[0;31m    if x < 10\u001b[0m\n\u001b[0m             ^\u001b[0m\n\u001b[0;31mSyntaxError\u001b[0m\u001b[0;31m:\u001b[0m invalid syntax\n"
     ]
    }
   ],
   "source": [
    "x = 8\n",
    "if x < 10:\n",
    "    ## \n",
    "    print(\"x is smaller than 10\") "
   ]
  },
  {
   "cell_type": "code",
   "execution_count": 33,
   "metadata": {},
   "outputs": [
    {
     "name": "stdout",
     "output_type": "stream",
     "text": [
      "6\n"
     ]
    }
   ],
   "source": [
    "x = 8\n",
    "n = 6\n",
    "n\n",
    "print(n)"
   ]
  },
  {
   "cell_type": "code",
   "execution_count": 35,
   "metadata": {},
   "outputs": [
    {
     "name": "stdout",
     "output_type": "stream",
     "text": [
      "x is not equal to 10\n"
     ]
    }
   ],
   "source": [
    "if x == 10:\n",
    "    print(\"x is equal to 10\")\n",
    "else:\n",
    "    print(\"x is not equal to 10\")"
   ]
  },
  {
   "cell_type": "markdown",
   "metadata": {
    "extensions": {
     "jupyter_dashboards": {
      "version": 1,
      "views": {
       "grid_default": {},
       "report_default": {}
      }
     }
    },
    "slideshow": {
     "slide_type": "slide"
    }
   },
   "source": [
    "### Jupyter Notebook \n",
    "\n",
    "- What's a \"notebook\"?\n",
    "    - contains both code and rich text elements\n",
    "        -  figures, links, equations, etc.\n",
    "- For more information: https://www.datacamp.com/community/tutorials/tutorial-jupyter-notebook#WhatIs\n",
    "- New developments: **Jupyter Lab** - a browser-based IDE which has tabs that contain Jupyter notebooks"
   ]
  },
  {
   "cell_type": "markdown",
   "metadata": {},
   "source": [
    "### Installation\n",
    "\n",
    "Anaconda: https://docs.anaconda.com/anaconda/install/\n",
    "\n",
    "Python: https://www.python.org/downloads/\n",
    "\n",
    "pip: https://pip.pypa.io/en/stable/reference/pip_download/\n",
    "\n",
    "Jupyterlab: https://jupyterlab.readthedocs.io/en/stable/getting_started/installation.html"
   ]
  },
  {
   "cell_type": "markdown",
   "metadata": {
    "extensions": {
     "jupyter_dashboards": {
      "version": 1,
      "views": {
       "grid_default": {},
       "report_default": {}
      }
     }
    },
    "slideshow": {
     "slide_type": "slide"
    }
   },
   "source": [
    "### Jupyter Notebook (cont.)\n",
    "\n",
    "-  Self-contained cells:\n",
    "    - **Ju**lia, **Pyt**hon, **R**\n",
    "    - Markdown, Latex, HTML, javascript etc.\n",
    "\n",
    "- Now can run many other languages"
   ]
  },
  {
   "cell_type": "markdown",
   "metadata": {
    "extensions": {
     "jupyter_dashboards": {
      "version": 1,
      "views": {
       "grid_default": {},
       "report_default": {}
      }
     }
    },
    "slideshow": {
     "slide_type": "slide"
    }
   },
   "source": [
    "### Using Jupyter Notebook\n",
    "- File menu => create new Jupyter Notebooks (.ipynb)\n",
    "- Export to other formats :\n",
    "    - .py, .html, .pdf, .md, .reST\n",
    "- Menu options under:\n",
    "    - File, Edit, Insert, Cell, Kernel\n",
    "- Keyboard shortcuts:\n",
    "    - https://www.cheatography.com/weidadeyue/cheat-sheets/jupyter-notebook/\n"
   ]
  },
  {
   "cell_type": "code",
   "execution_count": 11,
   "metadata": {
    "extensions": {
     "jupyter_dashboards": {
      "version": 1,
      "views": {
       "grid_default": {},
       "report_default": {}
      }
     }
    },
    "scrolled": true,
    "slideshow": {
     "slide_type": "subslide"
    }
   },
   "outputs": [
    {
     "name": "stdout",
     "output_type": "stream",
     "text": [
      "use shift+enter to run code in a cell, and select the next cell\n",
      "use control + enter to run code in a cell\n"
     ]
    }
   ],
   "source": [
    "# This is an example of Code Cell\n",
    "print ('use shift+enter to run code in a cell, and select the next cell')\n",
    "print('use control + enter to run code in a cell')"
   ]
  },
  {
   "cell_type": "code",
   "execution_count": 14,
   "metadata": {},
   "outputs": [
    {
     "name": "stdout",
     "output_type": "stream",
     "text": [
      "Hello World\n"
     ]
    }
   ],
   "source": [
    "print(\"Hello World\")"
   ]
  },
  {
   "cell_type": "code",
   "execution_count": 4,
   "metadata": {},
   "outputs": [
    {
     "name": "stdout",
     "output_type": "stream",
     "text": [
      "\n",
      "Welcome to Python 3.9's help utility!\n",
      "\n",
      "If this is your first time using Python, you should definitely check out\n",
      "the tutorial on the Internet at https://docs.python.org/3.9/tutorial/.\n",
      "\n",
      "Enter the name of any module, keyword, or topic to get help on writing\n",
      "Python programs and using Python modules.  To quit this help utility and\n",
      "return to the interpreter, just type \"quit\".\n",
      "\n",
      "To get a list of available modules, keywords, symbols, or topics, type\n",
      "\"modules\", \"keywords\", \"symbols\", or \"topics\".  Each module also comes\n",
      "with a one-line summary of what it does; to list the modules whose name\n",
      "or summary contain a given string such as \"spam\", type \"modules spam\".\n",
      "\n",
      "\n",
      "You are now leaving help and returning to the Python interpreter.\n",
      "If you want to ask for help on a particular object directly from the\n",
      "interpreter, you can type \"help(object)\".  Executing \"help('string')\"\n",
      "has the same effect as typing a particular string at the help> prompt.\n"
     ]
    }
   ],
   "source": [
    "help()"
   ]
  },
  {
   "cell_type": "markdown",
   "metadata": {
    "extensions": {
     "jupyter_dashboards": {
      "version": 1,
      "views": {
       "grid_default": {},
       "report_default": {}
      }
     }
    },
    "slideshow": {
     "slide_type": "slide"
    }
   },
   "source": [
    "#### Tab Completion\n",
    "\n",
    "#### Magic Commands\n",
    "\n",
    "Magic commands or magic functions are one of the important enhancements that IPython offers compared to the standard Python shell. These magic commands are intended to solve common problems in data analysis using Python. In fact, they control the behaviour of IPython itself. \n",
    "\n",
    "Magic commands act as convenient functions where Python syntax is not the most natural one. They are useful to embed invalid python syntax in their work flow.\n",
    "\n",
    "There are 2 types of magic commands: \n",
    "       \n",
    "        * line magics\n",
    "            - They are similar to command line calls. They start with `%` character. Rest of the line is its argument passed without parentheses or quotes. Line magics can be used as expression and their return value can be assigned to variable.\n",
    "            \n",
    "        * cell magics\n",
    "            - They have `%%` character prefix. Unlike line magic functions, they can operate on multiple lines below their call. They can in fact make arbitrary modifications to the input they receive, which need not even be a valid Python code at all. They receive the whole block as a single string.\n",
    "\n",
    "\n",
    "- Insert a code cell below, and try these commands\n",
    "    - `%magic`\n",
    "    - `%lsmagic`\n",
    "    - `%cd`\n",
    "    - `%pwd`\n",
    "    - `%mkdir`\n",
    "    - ``%who``\n",
    "    - ``%who str``\n",
    "    - ``%system date``\n",
    "- To use other languages than Python in code cells:\n",
    "    - `%%latex`\n",
    "    - `%%html`\n",
    "    - `%%javascript`\n",
    "    - `%%r`\n",
    "    - `%%cmd`\n",
    "- More magic commands:\n",
    "    - `%load` replaces the contents of the current cell with an external script\n",
    "    - `%run` executes code from .py and .ipynb files and shows output\n",
    "    - `%%writefile test.py` saves the contents of that cell to a file named 'test.py'\n",
    "        - if want to add the content to an existing file, use `%%writefile -a existingfile.py` (means to append)\n",
    "    - `%pycat test.py` shows you (in a popup) the syntax highlighted contents of an external file.\n"
   ]
  },
  {
   "cell_type": "code",
   "execution_count": 31,
   "metadata": {},
   "outputs": [
    {
     "name": "stdout",
     "output_type": "stream",
     "text": [
      "Microsoft Windows [Version 10.0.19044.1466]\r\n",
      "(c) Microsoft Corporation. All rights reserved.\r\n",
      "\r\n",
      "C:\\Users\\Yuxiao Luo\\Documents\\python3\\Intro_Python\\Week1>python --version\n",
      "Python 3.9.5\r\n",
      "\r\n",
      "C:\\Users\\Yuxiao Luo\\Documents\\python3\\Intro_Python\\Week1>"
     ]
    }
   ],
   "source": [
    "%%cmd\n",
    "python --version"
   ]
  },
  {
   "cell_type": "markdown",
   "metadata": {
    "slideshow": {
     "slide_type": "slide"
    }
   },
   "source": [
    "#### os commands\n",
    "- `import os`\n",
    "- `os.sep` outputs the (or a most common) pathname separator ('/' or '\\\\')\n",
    "- `os.name`\n",
    "- `os.getcwd()`"
   ]
  },
  {
   "cell_type": "code",
   "execution_count": 23,
   "metadata": {},
   "outputs": [],
   "source": [
    "# how to make jupyter notebook display multiple outputs\n",
    "from IPython.core.interactiveshell import InteractiveShell\n",
    "InteractiveShell.ast_node_interactivity = \"all\""
   ]
  },
  {
   "cell_type": "code",
   "execution_count": 24,
   "metadata": {
    "slideshow": {
     "slide_type": "slide"
    }
   },
   "outputs": [
    {
     "data": {
      "text/plain": [
       "'\\\\'"
      ]
     },
     "execution_count": 24,
     "metadata": {},
     "output_type": "execute_result"
    },
    {
     "data": {
      "text/plain": [
       "'\\r\\n'"
      ]
     },
     "execution_count": 24,
     "metadata": {},
     "output_type": "execute_result"
    },
    {
     "data": {
      "text/plain": [
       "'nt'"
      ]
     },
     "execution_count": 24,
     "metadata": {},
     "output_type": "execute_result"
    },
    {
     "data": {
      "text/plain": [
       "'C:\\\\Users\\\\Yuxiao Luo\\\\Documents\\\\python3\\\\Intro_Python\\\\Week1'"
      ]
     },
     "execution_count": 24,
     "metadata": {},
     "output_type": "execute_result"
    }
   ],
   "source": [
    "#?os\n",
    "import os\n",
    "os.sep\n",
    "os.linesep\n",
    "os.name\n",
    "os.getcwd()"
   ]
  },
  {
   "cell_type": "markdown",
   "metadata": {},
   "source": [
    "### Creating Programs:\n",
    "\n",
    "#### Steps\n",
    "#### Algorithms\n",
    "#### Pseudo code\n",
    "#### Flowchart\n"
   ]
  },
  {
   "attachments": {
    "image.png": {
     "image/png": "[encoded data removed]"
    }
   },
   "cell_type": "markdown",
   "metadata": {},
   "source": [
    "### Steps for Creating Programs:\n",
    "Programming Process![image.png](attachment:image.png)"
   ]
  },
  {
   "cell_type": "markdown",
   "metadata": {},
   "source": [
    "### Algorithms\n",
    "1. Pour the desired amount of water into a pot.\n",
    "2. Put the pot on a stove burner.\n",
    "3. Turn the burner to high.\n",
    "4. Watchthewateruntilyouseelargebubblesrapidlyrising.Whenthishappens,the\n",
    "water is boiling."
   ]
  },
  {
   "cell_type": "markdown",
   "metadata": {},
   "source": [
    "### Algorithms\n",
    "1. Get the number of hours worked.\n",
    "2. Get the hourly pay rate.\n",
    "3. Multiply the number of hours worked by the hourly pay rate.\n",
    "4. Display the result of the calculation that was performed in step 3."
   ]
  },
  {
   "cell_type": "markdown",
   "metadata": {},
   "source": [
    "### Pseudo Code Example\n",
    "1. Input the hours worked\n",
    "2. Input the hourly pay rate\n",
    "3. Calculate gross pay as hours worked multiplied by pay rate \n",
    "4. Display the gross pay"
   ]
  },
  {
   "cell_type": "code",
   "execution_count": null,
   "metadata": {},
   "outputs": [],
   "source": [
    "## 1. request the # of hours worked\n",
    "\n",
    "## 2. request the hourly pay rate\n",
    "\n",
    "## 3. calculate the gross pay\n",
    "\n",
    "## 4. display gross pay"
   ]
  },
  {
   "cell_type": "markdown",
   "metadata": {},
   "source": [
    "### Flowchart\n",
    "\n",
    "<img src=\"data/flowchart.png\">\n"
   ]
  },
  {
   "cell_type": "markdown",
   "metadata": {},
   "source": [
    "### How do Computer Programs Work?\n",
    "Typically:\n",
    "1. Input is received.\n",
    "2. Some process is performed on the input. \n",
    "3. Output is produced."
   ]
  },
  {
   "cell_type": "markdown",
   "metadata": {},
   "source": [
    "### Displaying Output with `print` function\n",
    "\n",
    "`print('Hello world')`\n",
    "\n"
   ]
  },
  {
   "cell_type": "code",
   "execution_count": 1,
   "metadata": {},
   "outputs": [
    {
     "name": "stdout",
     "output_type": "stream",
     "text": [
      "Kate Austen\n",
      "123 Full Circle Drive\n",
      "Asheville, NC 28899\n"
     ]
    }
   ],
   "source": [
    "print('Kate Austen')\n",
    "print('123 Full Circle Drive')\n",
    "print('Asheville, NC 28899')"
   ]
  },
  {
   "cell_type": "markdown",
   "metadata": {},
   "source": [
    "### Strings\n",
    "- Quotation marks:\n",
    "    - Double\n",
    "    - Single\n",
    "    - Tripple"
   ]
  },
  {
   "cell_type": "code",
   "execution_count": 40,
   "metadata": {},
   "outputs": [
    {
     "name": "stdout",
     "output_type": "stream",
     "text": [
      "Kate Austen\n",
      "123 Full Circle Drive\n",
      "Asheville, NC 28899\n"
     ]
    }
   ],
   "source": [
    "print(\"Kate Austen\")\n",
    "print(\"123 Full Circle Drive\")\n",
    "print(\"Asheville, NC 28899\")"
   ]
  },
  {
   "cell_type": "code",
   "execution_count": 41,
   "metadata": {},
   "outputs": [
    {
     "name": "stdout",
     "output_type": "stream",
     "text": [
      "Kate Austen\n"
     ]
    }
   ],
   "source": [
    "print('Kate Austen')"
   ]
  },
  {
   "cell_type": "code",
   "execution_count": 6,
   "metadata": {},
   "outputs": [
    {
     "name": "stdout",
     "output_type": "stream",
     "text": [
      "Kate Austen \n",
      "123 Full Circle Drive, Asheville, NC 28899\n",
      "\n"
     ]
    }
   ],
   "source": [
    "print(\"\"\"Kate Austen \\n123 Full Circle Drive, Asheville, NC 28899\n",
    "\"\"\")"
   ]
  },
  {
   "cell_type": "code",
   "execution_count": 51,
   "metadata": {},
   "outputs": [
    {
     "name": "stdout",
     "output_type": "stream",
     "text": [
      "\n",
      "Kate Austen \n",
      "123 Full Circle Drive \n",
      "Asheville, NC 28899\n",
      "\n"
     ]
    }
   ],
   "source": [
    "print(\"\"\"\\nKate Austen \\n123 Full Circle Drive \\nAsheville, NC 28899\n",
    "\"\"\")"
   ]
  },
  {
   "cell_type": "code",
   "execution_count": 7,
   "metadata": {},
   "outputs": [
    {
     "name": "stdout",
     "output_type": "stream",
     "text": [
      "Your assignment is to read \"Hamlet\" by tomorrow.\n"
     ]
    }
   ],
   "source": [
    "print('Your assignment is to read \"Hamlet\" by tomorrow.')"
   ]
  },
  {
   "cell_type": "code",
   "execution_count": 12,
   "metadata": {},
   "outputs": [
    {
     "name": "stdout",
     "output_type": "stream",
     "text": [
      "I'm reading \"Hamlet\" tonight.\n"
     ]
    }
   ],
   "source": [
    "print(\"\"\" I'm reading \"Hamlet\" tonight.\"\"\")"
   ]
  },
  {
   "cell_type": "code",
   "execution_count": 3,
   "metadata": {},
   "outputs": [
    {
     "name": "stdout",
     "output_type": "stream",
     "text": [
      "\n",
      "One\n",
      "Two\n",
      "Three\n",
      "\n"
     ]
    }
   ],
   "source": [
    "print(\"\"\"\n",
    "One\n",
    "Two\n",
    "Three\n",
    "\"\"\")"
   ]
  },
  {
   "cell_type": "code",
   "execution_count": 7,
   "metadata": {},
   "outputs": [
    {
     "name": "stdout",
     "output_type": "stream",
     "text": [
      "Yuxiao Luo\n"
     ]
    }
   ],
   "source": [
    "#Write a statement that displays your name.\n",
    "print(\"Yuxiao Luo\")"
   ]
  },
  {
   "cell_type": "code",
   "execution_count": null,
   "metadata": {},
   "outputs": [],
   "source": [
    "#Write a statement that displays the following text: Python's the best!\n"
   ]
  },
  {
   "cell_type": "code",
   "execution_count": 10,
   "metadata": {},
   "outputs": [
    {
     "name": "stdout",
     "output_type": "stream",
     "text": [
      "The cat said \"meow.\"\n"
     ]
    }
   ],
   "source": [
    "#Write a statement that displays the following text: The cat said \"meow.\"\n",
    "print('The cat said \"meow.\"')"
   ]
  },
  {
   "cell_type": "markdown",
   "metadata": {},
   "source": [
    "### Comments\n"
   ]
  },
  {
   "cell_type": "code",
   "execution_count": null,
   "metadata": {},
   "outputs": [],
   "source": [
    "# This program displays a person's\n",
    "# name and address.\n",
    "print('Kate Austen')\n",
    "print('123 Full Circle Drive')\n",
    "print('Asheville, NC 28899')"
   ]
  },
  {
   "cell_type": "markdown",
   "metadata": {},
   "source": [
    "### Receiving Input\n",
    "2 ways:\n",
    "\n",
    "    - Variable Assignment\n",
    "    \n",
    "    - `input` function\n"
   ]
  },
  {
   "cell_type": "markdown",
   "metadata": {},
   "source": [
    "### Variable Assignment\n",
    "#### variable = expression\n",
    "= : assignment operator <br>\n",
    "*variable* is the name of a variable  <br>\n",
    "*expression* is a value"
   ]
  },
  {
   "cell_type": "code",
   "execution_count": 15,
   "metadata": {},
   "outputs": [
    {
     "name": "stdout",
     "output_type": "stream",
     "text": [
      "25\n",
      "50\n"
     ]
    }
   ],
   "source": [
    "width = 25\n",
    "length = 50\n",
    "#print(width)\n",
    "print(width)\n",
    "print(length)\n"
   ]
  },
  {
   "cell_type": "code",
   "execution_count": 16,
   "metadata": {},
   "outputs": [
    {
     "name": "stdout",
     "output_type": "stream",
     "text": [
      "I am staying in room 503\n"
     ]
    }
   ],
   "source": [
    "room = 503\n",
    "print('I am staying in room', room)"
   ]
  },
  {
   "cell_type": "code",
   "execution_count": 3,
   "metadata": {},
   "outputs": [
    {
     "ename": "SyntaxError",
     "evalue": "can't assign to literal (<ipython-input-3-cb8e0bc2153f>, line 1)",
     "output_type": "error",
     "traceback": [
      "\u001b[0;36m  File \u001b[0;32m\"<ipython-input-3-cb8e0bc2153f>\"\u001b[0;36m, line \u001b[0;32m1\u001b[0m\n\u001b[0;31m    503 = room\u001b[0m\n\u001b[0m              ^\u001b[0m\n\u001b[0;31mSyntaxError\u001b[0m\u001b[0;31m:\u001b[0m can't assign to literal\n"
     ]
    }
   ],
   "source": [
    "503 = room\n"
   ]
  },
  {
   "cell_type": "markdown",
   "metadata": {},
   "source": [
    "### Variable Reassignment\n",
    "\n",
    "`cash = 2.5\n",
    "print('I have', cash, 'dollars in cash right now')\n",
    "cash = 1.5\n",
    "print('Now I only have', cash, 'dollars left in cash')`"
   ]
  },
  {
   "cell_type": "code",
   "execution_count": 60,
   "metadata": {},
   "outputs": [
    {
     "name": "stdout",
     "output_type": "stream",
     "text": [
      "I have 2.5 dollars in cash right now\n",
      "Now I only have 1.5 dollars left in cash\n"
     ]
    }
   ],
   "source": [
    "cash = 2.5\n",
    "print('I have', cash, 'dollars in cash right now')\n",
    "cash = 1.5\n",
    "print('Now I only have', cash, 'dollars left in cash')"
   ]
  },
  {
   "cell_type": "code",
   "execution_count": null,
   "metadata": {},
   "outputs": [],
   "source": [
    "first_name = "
   ]
  },
  {
   "attachments": {
    "image.png": {
     "image/png": "[encoded data removed]"
    }
   },
   "cell_type": "markdown",
   "metadata": {},
   "source": [
    "Python Variable Naming Rules![image.png](attachment:image.png)"
   ]
  },
  {
   "attachments": {
    "image.png": {
     "image/png": "[encoded data removed]"
    }
   },
   "cell_type": "markdown",
   "metadata": {},
   "source": [
    "legal_illegal![image.png](attachment:image.png)"
   ]
  },
  {
   "cell_type": "code",
   "execution_count": 12,
   "metadata": {
    "scrolled": true
   },
   "outputs": [
    {
     "name": "stdin",
     "output_type": "stream",
     "text": [
      "What is your name? Anh Luong\n"
     ]
    },
    {
     "data": {
      "text/plain": [
       "'Anh Luong'"
      ]
     },
     "execution_count": 12,
     "metadata": {},
     "output_type": "execute_result"
    }
   ],
   "source": [
    "input('What is your name?')"
   ]
  },
  {
   "cell_type": "code",
   "execution_count": 63,
   "metadata": {
    "scrolled": true
   },
   "outputs": [
    {
     "name": "stdin",
     "output_type": "stream",
     "text": [
      "Type anything: Hello\n"
     ]
    },
    {
     "data": {
      "text/plain": [
       "'Hello'"
      ]
     },
     "execution_count": 63,
     "metadata": {},
     "output_type": "execute_result"
    }
   ],
   "source": [
    "input('Type anything:')"
   ]
  },
  {
   "cell_type": "code",
   "execution_count": null,
   "metadata": {},
   "outputs": [],
   "source": [
    "input('Age:')"
   ]
  },
  {
   "cell_type": "code",
   "execution_count": null,
   "metadata": {},
   "outputs": [],
   "source": [
    "input('What is your major?')"
   ]
  },
  {
   "cell_type": "code",
   "execution_count": 13,
   "metadata": {
    "scrolled": true
   },
   "outputs": [
    {
     "name": "stdin",
     "output_type": "stream",
     "text": [
      "Length 3\n"
     ]
    },
    {
     "data": {
      "text/plain": [
       "'3'"
      ]
     },
     "execution_count": 13,
     "metadata": {},
     "output_type": "execute_result"
    }
   ],
   "source": [
    "input('Length')"
   ]
  },
  {
   "cell_type": "code",
   "execution_count": null,
   "metadata": {},
   "outputs": [],
   "source": [
    "input('Width')"
   ]
  },
  {
   "cell_type": "code",
   "execution_count": null,
   "metadata": {},
   "outputs": [],
   "source": [
    "print('width')"
   ]
  },
  {
   "cell_type": "code",
   "execution_count": 66,
   "metadata": {},
   "outputs": [
    {
     "name": "stdin",
     "output_type": "stream",
     "text": [
      "How old are you? 25\n"
     ]
    },
    {
     "name": "stdout",
     "output_type": "stream",
     "text": [
      "The user is 25 years old\n"
     ]
    }
   ],
   "source": [
    "age = input('How old are you?')\n",
    "#print(age)\n",
    "age\n",
    "print(\"The user is\", age, \"years old\")"
   ]
  },
  {
   "cell_type": "code",
   "execution_count": null,
   "metadata": {},
   "outputs": [],
   "source": [
    "name = input(\"What's your name?\")"
   ]
  },
  {
   "cell_type": "markdown",
   "metadata": {},
   "source": [
    "### Variable Types\n",
    "#### Strings (str)\n",
    "#### Numeric: \n",
    "    - integer (int) \n",
    "    - float (float)"
   ]
  },
  {
   "cell_type": "code",
   "execution_count": 1,
   "metadata": {},
   "outputs": [
    {
     "data": {
      "text/plain": [
       "int"
      ]
     },
     "execution_count": 1,
     "metadata": {},
     "output_type": "execute_result"
    }
   ],
   "source": [
    "number = 5\n",
    "type(number)"
   ]
  },
  {
   "cell_type": "code",
   "execution_count": 10,
   "metadata": {},
   "outputs": [
    {
     "data": {
      "text/plain": [
       "float"
      ]
     },
     "execution_count": 10,
     "metadata": {},
     "output_type": "execute_result"
    }
   ],
   "source": [
    "number = 5.5\n",
    "type(number)"
   ]
  },
  {
   "cell_type": "code",
   "execution_count": 32,
   "metadata": {},
   "outputs": [
    {
     "data": {
      "text/plain": [
       "str"
      ]
     },
     "execution_count": 32,
     "metadata": {},
     "output_type": "execute_result"
    }
   ],
   "source": [
    "name = 'CIS 2300'\n",
    "type(name)"
   ]
  },
  {
   "cell_type": "code",
   "execution_count": 5,
   "metadata": {},
   "outputs": [
    {
     "data": {
      "text/plain": [
       "5"
      ]
     },
     "execution_count": 5,
     "metadata": {},
     "output_type": "execute_result"
    }
   ],
   "source": [
    "# assigning type to a variable/converting type\n",
    "variable = 5.6\n",
    "type(variable)\n",
    "int(variable)\n",
    "#type(variable)\n",
    "#float(variable)\n",
    "#type(variable)"
   ]
  },
  {
   "cell_type": "code",
   "execution_count": 1,
   "metadata": {},
   "outputs": [
    {
     "name": "stdin",
     "output_type": "stream",
     "text": [
      "What room are you staying in? 1\n"
     ]
    }
   ],
   "source": [
    "room = input(\"What room are you staying in?\")"
   ]
  },
  {
   "cell_type": "code",
   "execution_count": 5,
   "metadata": {},
   "outputs": [
    {
     "name": "stdout",
     "output_type": "stream",
     "text": [
      "How many hours did you work? 10\n"
     ]
    }
   ],
   "source": [
    "string_value = input('How many hours did you exercise last week? ') \n",
    "hours = int(string_value)"
   ]
  },
  {
   "cell_type": "code",
   "execution_count": null,
   "metadata": {},
   "outputs": [],
   "source": [
    "hours = int(input('How many hours did you exercise last week? Enter whole number '))"
   ]
  },
  {
   "cell_type": "code",
   "execution_count": 8,
   "metadata": {},
   "outputs": [
    {
     "name": "stdout",
     "output_type": "stream",
     "text": [
      "How many hours did you exercise last week?3.5\n"
     ]
    }
   ],
   "source": [
    "weight = float(input('How many pounds do you weigh?'))"
   ]
  },
  {
   "cell_type": "markdown",
   "metadata": {},
   "source": [
    "### Simple Programs in Python:"
   ]
  },
  {
   "cell_type": "code",
   "execution_count": 71,
   "metadata": {
    "scrolled": true
   },
   "outputs": [
    {
     "name": "stdin",
     "output_type": "stream",
     "text": [
      "What is your name? Anh\n"
     ]
    },
    {
     "name": "stdout",
     "output_type": "stream",
     "text": [
      "HelloAnh! Welcome to CIS 3120!\n"
     ]
    }
   ],
   "source": [
    "# Greetings Program\n",
    "user = input('What is your name?')\n",
    "\n",
    "#print('Hello,', user,'! Welcome to CIS 2300!') \n",
    "\n",
    "print('Hello ' + user + '! Welcome to CIS 3120!') # concatenating strings\n",
    "\n",
    "#print('Hello, ', user, '! Welcome to CIS 3120!', sep = '') \n",
    "#sep means separator, here we don't want any space between the name and the exclamation mark"
   ]
  },
  {
   "cell_type": "code",
   "execution_count": 2,
   "metadata": {},
   "outputs": [
    {
     "name": "stdout",
     "output_type": "stream",
     "text": [
      "Hello Anh Luong Welcome to CIS 2300!\n"
     ]
    }
   ],
   "source": [
    "user = 'Anh Luong'\n",
    "print('Hello', user, 'Welcome to CIS 2300!')"
   ]
  },
  {
   "cell_type": "code",
   "execution_count": 4,
   "metadata": {},
   "outputs": [
    {
     "name": "stdout",
     "output_type": "stream",
     "text": [
      "Hello, Anh Luong! Welcome!\n"
     ]
    }
   ],
   "source": [
    "print('Hello, ' + user + '! Welcome!')"
   ]
  },
  {
   "cell_type": "code",
   "execution_count": 23,
   "metadata": {
    "scrolled": true
   },
   "outputs": [
    {
     "name": "stdout",
     "output_type": "stream",
     "text": [
      "You can concatenate two strings with the '+' operator.\n"
     ]
    }
   ],
   "source": [
    "print(\"You can concatenate two \" + \"strings with the '+' operator.\")"
   ]
  },
  {
   "cell_type": "code",
   "execution_count": 22,
   "metadata": {},
   "outputs": [
    {
     "name": "stdout",
     "output_type": "stream",
     "text": [
      "\n",
      "This string may not seem terribly impressive. But what you don't know is that\n",
      "it's one really long string, created from the concatenation of twenty-two\n",
      "different strings, broken across five lines. Now are you impressed? Okay,\n",
      "this one long string is now over!\n"
     ]
    }
   ],
   "source": [
    "# Silly Strings Program\n",
    "## break long statements into multiple lines with a line continuation character - the backslash (\\)\n",
    "## \\n is for creating a new line - it's the newline escape character\n",
    "\n",
    "print(\"\\nThis string \" + \"may not \" + \"seem terr\" + \"ibly impressive. \" \\\n",
    "      + \"But what \" + \"you don't know\" + \" is that\\n\" + \"it's one real\"  \\\n",
    "      + \"l\" + \"y\" + \" long string, created from the concatenation \" \\\n",
    "      + \"of \" + \"twenty-two\\n\" + \"different strings, broken across \" \\\n",
    "      + \"five lines.\" + \" Now are you\" + \" impressed? \" + \"Okay,\\n\" \\\n",
    "      + \"this \" + \"one \" + \"long\" + \" string is now over!\")"
   ]
  },
  {
   "cell_type": "code",
   "execution_count": 5,
   "metadata": {
    "slideshow": {
     "slide_type": "slide"
    }
   },
   "outputs": [
    {
     "name": "stdout",
     "output_type": "stream",
     "text": [
      "\n",
      "If you really like a string, you can repeat it. For example,\n",
      "who doesn't like pie? That's right, nobody. But if you really\n",
      "like it, you should say it like you mean it:\n",
      "Pie Pie Pie Pie Pie Pie Pie Pie Pie Pie \n"
     ]
    },
    {
     "name": "stdin",
     "output_type": "stream",
     "text": [
      "\n",
      "\n",
      "Enter any key to exit. \n"
     ]
    },
    {
     "name": "stdout",
     "output_type": "stream",
     "text": [
      "End of program\n"
     ]
    }
   ],
   "source": [
    "# Silly Strings Program 2\n",
    "\n",
    "print(\"\\nIf you really like a string, you can repeat it. For example,\")\n",
    "print(\"who doesn't like pie? That's right, nobody. But if you really\") \n",
    "print(\"like it, you should say it like you mean it:\")\n",
    "print(\"Pie \" * 10) # repeating a string with operator *\n",
    "input(\"\\n\\nEnter any key to exit.\") # \\n means a new line\n",
    "print('End of program')"
   ]
  },
  {
   "cell_type": "code",
   "execution_count": 25,
   "metadata": {
    "slideshow": {
     "slide_type": "slide"
    }
   },
   "outputs": [
    {
     "name": "stdout",
     "output_type": "stream",
     "text": [
      "\t\t\tFancy Credits\n",
      "\t\t\t \\ \\ \\ \\ \\ \\ \\\n",
      "\t\t\t\tby\n",
      "\t\t\tMichael Dawson\n",
      "\t\t\t \\ \\ \\ \\ \\ \\ \\\n",
      "\n",
      "Special thanks goes out to:\n",
      "My hair stylist, Henry 'The Great,' who never says \"can't.\"\n",
      "\n",
      "\n",
      "Enter any key to exit.\n",
      "End\n"
     ]
    }
   ],
   "source": [
    "print(\"\\t\\t\\tFancy Credits\") # \\t is for \"tab\"\n",
    "print(\"\\t\\t\\t \\\\ \\\\ \\\\ \\\\ \\\\ \\\\ \\\\\") # \\\\ causes a backslash character to be printed\n",
    "print(\"\\t\\t\\t\\tby\")\n",
    "print(\"\\t\\t\\tMichael Dawson\")\n",
    "print(\"\\t\\t\\t \\\\ \\\\ \\\\ \\\\ \\\\ \\\\ \\\\\")\n",
    "print(\"\\nSpecial thanks goes out to:\")\n",
    "print(\"My hair stylist, Henry \\'The Great,\\' who never says \\\"can\\'t.\\\"\")\n",
    "input(\"\\n\\nEnter any key to exit.\") \n",
    "print(\"End\")"
   ]
  },
  {
   "cell_type": "markdown",
   "metadata": {},
   "source": [
    "### Other Escape Characters:\n",
    "- `\\'`: causes a single quote mark to be printed\n",
    "- `\\\"`: causes a double quote mark to be printed"
   ]
  },
  {
   "cell_type": "code",
   "execution_count": 33,
   "metadata": {},
   "outputs": [
    {
     "ename": "SyntaxError",
     "evalue": "invalid syntax (<ipython-input-33-aab80a008bdc>, line 1)",
     "output_type": "error",
     "traceback": [
      "\u001b[0;36m  File \u001b[0;32m\"<ipython-input-33-aab80a008bdc>\"\u001b[0;36m, line \u001b[0;32m1\u001b[0m\n\u001b[0;31m    print(\"I want to see the movie \"Bumblebee.\"\")\u001b[0m\n\u001b[0m                                            ^\u001b[0m\n\u001b[0;31mSyntaxError\u001b[0m\u001b[0;31m:\u001b[0m invalid syntax\n"
     ]
    }
   ],
   "source": [
    "print(\"I want to see the movie \"Bumblebee.\"\")\n",
    "# fix  the code so that it will execute succesfully"
   ]
  },
  {
   "cell_type": "code",
   "execution_count": 35,
   "metadata": {},
   "outputs": [
    {
     "ename": "SyntaxError",
     "evalue": "invalid syntax (<ipython-input-35-34ff05adb827>, line 1)",
     "output_type": "error",
     "traceback": [
      "\u001b[0;36m  File \u001b[0;32m\"<ipython-input-35-34ff05adb827>\"\u001b[0;36m, line \u001b[0;32m1\u001b[0m\n\u001b[0;31m    print('I'm going to see the movie \"Bumblebee\")\u001b[0m\n\u001b[0m             ^\u001b[0m\n\u001b[0;31mSyntaxError\u001b[0m\u001b[0;31m:\u001b[0m invalid syntax\n"
     ]
    }
   ],
   "source": [
    "print('I'm going to see the movie \"Bumblebee\") \n",
    "#fix the code"
   ]
  },
  {
   "cell_type": "code",
   "execution_count": 28,
   "metadata": {
    "slideshow": {
     "slide_type": "slide"
    }
   },
   "outputs": [
    {
     "name": "stdout",
     "output_type": "stream",
     "text": [
      "\n",
      "If a restaurant check comes to 19 dollars with tip, and you and\n",
      "your friends split it evenly 4 ways, how much do you each throw in?\n",
      "Enter any key to find out.\n",
      "19 / 4 = 4.75\n"
     ]
    }
   ],
   "source": [
    "# Division \n",
    "print(\"\\nIf a restaurant check comes to 19 dollars with tip, and you and\") \n",
    "print(\"your friends split it evenly 4 ways, how much do you each throw in?\")\n",
    "input(\"Enter any key to find out.\")\n",
    "print(\"19 / 4 =\", 19 / 4)\n"
   ]
  },
  {
   "cell_type": "code",
   "execution_count": null,
   "metadata": {},
   "outputs": [],
   "source": [
    "# Division 2\n",
    "\n",
    "print(\"\\nIf a group of 4 pirates finds a chest full of 107 gold coins, and\")\n",
    "print(\"they divide them evenly, how many whole coins does each get?\") \n",
    "input(\"Enter any key to find out.\")\n",
    "print(\"107 // 4 =\", 107 // 4) \n"
   ]
  },
  {
   "cell_type": "code",
   "execution_count": 24,
   "metadata": {},
   "outputs": [
    {
     "name": "stdout",
     "output_type": "stream",
     "text": [
      "\n",
      "If that same group of 4 pirates evenly divides the chest full\n",
      "of 107 gold coins, how many coins are left over?\n",
      "Enter any key to find out.\n",
      "107 % 4 = 3\n",
      "\n",
      "\n",
      "Enter any key to exit.\n",
      "End.\n"
     ]
    }
   ],
   "source": [
    "# Division 3\n",
    "\n",
    "print(\"\\nIf that same group of 4 pirates evenly divides the chest full\") \n",
    "print(\"of 107 gold coins, how many coins are left over?\")\n",
    "input(\"Enter any key to find out.\")\n",
    "print(\"107 % 4 =\", 107 % 4) # remainder\n",
    "input(\"\\n\\nEnter any key to exit.\")\n",
    "print('End.')"
   ]
  },
  {
   "attachments": {
    "image.png": {
     "image/png": "[encoded data removed]"
    }
   },
   "cell_type": "markdown",
   "metadata": {},
   "source": [
    "pt_math_operators![image.png](attachment:image.png)"
   ]
  },
  {
   "cell_type": "code",
   "execution_count": null,
   "metadata": {},
   "outputs": [],
   "source": [
    "# %load dawson_source/chapter02/quotation_manipulation.py\n",
    "# Quotation Manipulation\n",
    "# Demonstrates string methods\n",
    "\n",
    "# quote from IBM Chairman, Thomas Watson, in 1943\n",
    "quote = \"I think there is a world market for maybe five computers.\"\n",
    "\n",
    "print(\"Original quote:\")\n",
    "print(quote)\n",
    "\n",
    "print(\"\\nIn uppercase:\")\n",
    "print(quote.upper())\n",
    "\n",
    "print(\"\\nIn lowercase:\")\n",
    "print(quote.lower())\n",
    "\n",
    "print(\"\\nAs a title:\")\n",
    "print(quote.title())\n",
    "\n",
    "print(\"\\nWith a minor replacement:\")\n",
    "print(quote.replace(\"five\", \"millions of\"))\n",
    "\n",
    "print(\"\\nOriginal quote is still:\")\n",
    "print(quote)\n"
   ]
  },
  {
   "cell_type": "code",
   "execution_count": 9,
   "metadata": {},
   "outputs": [
    {
     "data": {
      "text/plain": [
       "str"
      ]
     },
     "execution_count": 9,
     "metadata": {},
     "output_type": "execute_result"
    }
   ],
   "source": [
    "var = 5\n",
    "type(var)\n",
    "float(var)\n",
    "name = 'Anh Luong'\n",
    "type(name)"
   ]
  },
  {
   "cell_type": "code",
   "execution_count": 1,
   "metadata": {
    "scrolled": false
   },
   "outputs": [
    {
     "name": "stdout",
     "output_type": "stream",
     "text": [
      "Hi.  What's your name? Yuxiao\n",
      "How old are you? 17\n",
      "Okay, last question.  How many pounds do you weigh? 12\n",
      "\n",
      "If poet ee cummings were to email you, he'd address you as yuxiao\n",
      "But if ee were mad, he'd call you YUXIAO\n",
      "\n",
      "If a small child were trying to get your attention\n",
      "your name would become:\n",
      "YuxiaoYuxiaoYuxiaoYuxiaoYuxiao\n",
      "\n",
      "You're over 536112000 seconds old.\n",
      "\n",
      "Did you know that on the moon you would weigh only 2.0 pounds?\n",
      "On the sun, you'd weigh 325.20000000000005 (but, ah... not for long).\n"
     ]
    }
   ],
   "source": [
    "# %load dawson_source/chapter02/useless_trivia.py\n",
    "# Useless Trivia\n",
    "#\n",
    "# Gets personal information from the user and then\n",
    "# prints true but useless information about him or her\n",
    "\n",
    "name = input(\"Hi.  What's your name? \")\n",
    "\n",
    "age = int(input(\"How old are you? \"))\n",
    "\n",
    "weight = int(input(\"Okay, last question.  How many pounds do you weigh? \"))\n",
    "\n",
    "print(\"\\nIf poet ee cummings were to email you, he'd address you as\",\n",
    "      name.lower())\n",
    "print(\"But if ee were mad, he'd call you\", name.upper())\n",
    "\n",
    "called = name * 5\n",
    "print(\"\\nIf a small child were trying to get your attention\",)\n",
    "print(\"your name would become:\")\n",
    "print(called)\n",
    "\n",
    "seconds = age * 365 * 24 * 60 * 60\n",
    "print(\"\\nYou're over\", seconds, \"seconds old.\")\n",
    "\n",
    "moon_weight = weight / 6\n",
    "print(\"\\nDid you know that on the moon you would weigh only\",\n",
    "      moon_weight, \"pounds?\")\n",
    "\n",
    "sun_weight = weight * 27.1\n",
    "print(\"On the sun, you'd weigh\", sun_weight, \"(but, ah... not for long).\")"
   ]
  },
  {
   "cell_type": "markdown",
   "metadata": {},
   "source": [
    "## Practices\n",
    "1. \n",
    "Create two variables that take your first and last name as values and then print it so that you get an output along with a descriptive message before (e.g. My name is ...)\n",
    "\n",
    "2. \n",
    "Create a variable that takes \"Hello World\" as its value. Find the length of the string using the built-in function len for the string object type (use the Help Menu above). Then print the length of the string with a descriptive message like: The length of the string Hello World is 11\n",
    "\n",
    "3. \n",
    "Write a print statement to print the sentence \"I'd like a cup of coffee\", and a print statement to print the sentence \"She said \"With cream and sugar?\" \"\n",
    "\n",
    "4. \n",
    "Create a list of legal and illegal variable names. Describe why each is either legal or illegal. Next, create a list of “good” and “bad” legal variable names. Describe why each is either a good or bad choice for a variable name.\n",
    "5.\n",
    "Modify the Useless Trivia program above so that users' weight value is a float\n",
    "\n",
    "6. \n",
    "Write a program to request the length and breadth of a rectangle and compute the area of the rectangle"
   ]
  },
  {
   "cell_type": "markdown",
   "metadata": {},
   "source": [
    "## Assignments & Quizzes\n",
    "#### Weekly Assignment 1\n",
    "1. \n",
    "Install python, jupyter lab/notebook if you haven't done so\n",
    "\n",
    "2. \n",
    "Go to the **Course Documents** section in Blackboard. In the Folder **Week1** and you will find the block named **Week 1 Assignment**. Please read through the instructions of the assignments. \n",
    "\n",
    "\n",
    "   - Assignment 1a: Student profile\n",
    "   \n",
    "   \n",
    "   - Assignment 1b: Algorithm examples in day-to-day \\[college life, commuting, grocery shopping, laundry planning, cooking etc.\\] \n",
    "       \n",
    "       Pick any one task from your daily life where you might be using algorithms unknowingly. For each of these scenarios, identify following\n",
    "   \n",
    "        - A. Identify what would be needed as input to start this task and what would be the expected output after finishing all the steps.\n",
    "        - B. Next, write down all the steps you need to complete that task in sequence using a bulleted or numbered list. \n",
    "        - C. Once you have written down these steps, refine these steps by adding more details to make them more precise. For example, you might have initially stated that sort laundry clothes. Now add the clear detail about ‘how’ (say for example, by color) and ‘when’ to sort the laundry.\n",
    "        - D. Are there different approaches to make this task more/less efficient (say if you sort by people in home, etc.)? \n",
    "        - E. Can some steps be done in parallel? Are there any steps that need to be repeated? Are there any decision points in your steps?\n",
    "        - F. Would your sequence of steps scale up/down easily without significantly affecting its efficiency, say if it’s a recipe then from 4 servings to 20 servings, or in case of laundry from 6 to 2 persons?\n",
    "\n",
    "\n",
    "   - Assignment 1c: Write simple interactive python code using print and input function.      \n",
    "       \n",
    "       Using the Jupyter notebook, write an interactive python code using print() and input() functions. \n",
    "Display some instructions to the user using print() function and ask user to input some information such as their name, hobbies, etc.\n",
    "\n",
    "\n",
    "You should wrap up the 3 tasks and put them in one homework document (Microsfot Word file is preferred) for submission. You should submit in the same Assignment block in Bb.\n",
    "\n",
    "#### Weekly Quizz\n",
    "Please enroll in Codelab and finish the weekly quizzes in section **I/O**. \n",
    "\n",
    "- 4 questions in **input**\n",
    "\n",
    "- 4 questions in **output**\n"
   ]
  }
 ],
 "metadata": {
  "extensions": {
   "jupyter_dashboards": {
    "activeView": "grid_default",
    "version": 1,
    "views": {
     "grid_default": {
      "cellMargin": 10,
      "defaultCellHeight": 20,
      "maxColumns": 12,
      "name": "grid",
      "type": "grid"
     },
     "report_default": {
      "name": "report",
      "type": "report"
     }
    }
   }
  },
  "kernelspec": {
   "display_name": "Python 3",
   "language": "python",
   "name": "python3"
  },
  "language_info": {
   "codemirror_mode": {
    "name": "ipython",
    "version": 3
   },
   "file_extension": ".py",
   "mimetype": "text/x-python",
   "name": "python",
   "nbconvert_exporter": "python",
   "pygments_lexer": "ipython3",
   "version": "3.9.5"
  }
 },
 "nbformat": 4,
 "nbformat_minor": 4
}
