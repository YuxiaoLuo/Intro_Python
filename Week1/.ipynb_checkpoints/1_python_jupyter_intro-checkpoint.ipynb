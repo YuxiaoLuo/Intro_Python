{
 "cells": [
  {
   "cell_type": "markdown",
   "metadata": {
    "extensions": {
     "jupyter_dashboards": {
      "version": 1,
      "views": {
       "grid_default": {},
       "report_default": {}
      }
     }
    },
    "slideshow": {
     "slide_type": "fragment"
    }
   },
   "source": [
    "# INTRODUCTION TO PROGRAMMING & PYTHON"
   ]
  },
  {
   "cell_type": "markdown",
   "metadata": {},
   "source": [
    "## AGENDA\n",
    "- Introduction to the course\n",
    "    + course purpose\n",
    "    + grade components, course policies, outline of topics covered this semester\n",
    "- Introduction to programming & python\n",
    "    + problem solving\n",
    "    + what are computer programs? how do they work?\n",
    "    + process of writing computer programs\n",
    "    + python overview\n",
    "        + installation & usage (python 3, jupyter notebook)\n",
    "    + python style conventions\n",
    "  "
   ]
  },
  {
   "cell_type": "markdown",
   "metadata": {},
   "source": [
    "## 1. COURSE OVERVIEW\n",
    "\n",
    "#### Purpose: \n",
    "    - Computational thinking\n",
    "    - fundamental programming concepts\n",
    "    - problem formulating and solving\n",
    "    \n",
    "#### Grade Components:\n",
    "    - Assignments, Projects, Exams\n",
    "    \n",
    "#### Course Materials\n",
    "\n",
    "#### Class Format\n",
    "\n",
    "#### Communication Policy\n",
    "\n",
    "#### Late Work Policy\n",
    "\n",
    "#### Academic Integrity\n",
    "\n"
   ]
  },
  {
   "cell_type": "markdown",
   "metadata": {},
   "source": [
    "## 2. INTRODUCTION TO PROGRAMMING & PYTHON"
   ]
  },
  {
   "cell_type": "markdown",
   "metadata": {
    "extensions": {
     "jupyter_dashboards": {
      "version": 1,
      "views": {
       "grid_default": {},
       "report_default": {}
      }
     }
    }
   },
   "source": [
    "## Programming Basic Concepts\n",
    "\n",
    "### Problem-solving\n",
    "\n",
    "### What is a program?\n",
    "- Sequence of instructions spceifying how to perform a computation (mathematical or symbolic)\n",
    "    - Input\n",
    "    - Output\n",
    "    - Math\n",
    "    - Conditional Execution\n",
    "    - Repetition\n",
    "    \n",
    "- Decomposition\n",
    "    \n",
    "### Debugging\n",
    "    - syntax erros\n",
    "    - runtime errors\n",
    "    - semantic erros\n",
    "\n",
    "### Formal and Natural Languages\n",
    "- Natural Language: how we speak/write/communicate with each other\n",
    "- Formal Languages:\n",
    "    - designed for specific applications\n",
    "    - strict syntax rules\n",
    "    - e.g. mathmatical notations, computer programming languages, chemical formulas\n",
    "- Tokens, Structure\n",
    "- Ambiguity\n",
    "- Redundancy\n",
    "- Literalness\n",
    "- Parsing\n"
   ]
  },
  {
   "cell_type": "markdown",
   "metadata": {},
   "source": [
    "### Why Python\n",
    "- Data Analytics\n",
    "- General Purpose\n",
    "- Power, Popularity\n",
    "- Clarity, Simplicity, Efficiency\n"
   ]
  },
  {
   "cell_type": "markdown",
   "metadata": {
    "extensions": {
     "jupyter_dashboards": {
      "version": 1,
      "views": {
       "grid_default": {},
       "report_default": {}
      }
     }
    },
    "slideshow": {
     "slide_type": "slide"
    }
   },
   "source": [
    "### History of Python\n",
    "\n",
    "- Developed by \n",
    "    - **Guido van Rossum**, a Dutch programmer\n",
    "- First Release: 1991\n",
    "- **Monty Python**\n",
    "    - *spam, eggs, 42, etc.*\n",
    "    - *Brian, ni, shrubbery, ...*\n",
    "    - *\"The Spanish Inquisition\"*"
   ]
  },
  {
   "cell_type": "markdown",
   "metadata": {
    "extensions": {
     "jupyter_dashboards": {
      "version": 1,
      "views": {
       "grid_default": {},
       "report_default": {}
      }
     }
    },
    "slideshow": {
     "slide_type": "slide"
    }
   },
   "source": [
    "### More About Python\n",
    "\n",
    "- **A High-level language**\n",
    "     - Other high-level languages?\n",
    "     - What are low-level languages?\n",
    "     - High vs. Low level language\n"
   ]
  },
  {
   "cell_type": "markdown",
   "metadata": {},
   "source": [
    "### More About Python\n",
    "- **Interpreted language**\n",
    "    - compiler vs. interpreter\n",
    "    \n",
    "<img src=\"data/interpretvs.compile.png\">\n"
   ]
  },
  {
   "cell_type": "markdown",
   "metadata": {},
   "source": [
    "### More About Python\n",
    "- **.pyc files**:\n",
    "    - Intermediate file used by the Python interpreter. \n",
    "    - Technically, Python uses a hybrid compiling/interpreting process. \n",
    "    - The Python source code, when executed, is compiled into more primitive instructions called byte code. \n",
    "    - This byte code (the . pyc) is then interpreted. \n",
    "    - Having a . pyc file available makes running a module faster the second time around.\n",
    "    - However, you may delete it if you wish to save disk space; Python will automatically recreate it as needed."
   ]
  },
  {
   "cell_type": "markdown",
   "metadata": {
    "extensions": {
     "jupyter_dashboards": {
      "version": 1,
      "views": {
       "grid_default": {},
       "report_default": {}
      }
     }
    },
    "slideshow": {
     "slide_type": "slide"
    }
   },
   "source": [
    "### Writing and Running Python Code\n",
    "\n",
    "- **Ways to use the interpreter when programming in Python**:\n",
    "    - Interactive Mode\n",
    "    - Script mode\n",
    "        - **.py** files\n",
    "        - to run a .py file: ` python myfile.py`\n",
    " \n",
    "- **IDEs (Integrated Development Environments) & Text Editors**\n"
   ]
  },
  {
   "cell_type": "markdown",
   "metadata": {
    "extensions": {
     "jupyter_dashboards": {
      "version": 1,
      "views": {
       "grid_default": {},
       "report_default": {}
      }
     }
    },
    "slideshow": {
     "slide_type": "slide"
    }
   },
   "source": [
    "### Important to Know about Python\n",
    "\n",
    "- Case Sensitive\n",
    "    - e.g. token, TOKEN \n",
    "    - `print('hello')`,  NOT `Print('hello')` or `PRINT ('hello')`\n",
    "- Indentation\n",
    "    - Python convention: 4 spaces. Usually 1 tab = 4 spaces\n",
    "    - Only tab or spaces, NOT both\n",
    "- Colon\n",
    "-  Equal Signs\n",
    "    - `=`  for assigning variables' values\n",
    "    - `==` for  comparing between two variables/values "
   ]
  },
  {
   "cell_type": "code",
   "execution_count": 1,
   "metadata": {},
   "outputs": [
    {
     "name": "stdout",
     "output_type": "stream",
     "text": [
      "hello\n"
     ]
    }
   ],
   "source": [
    "print(\"hello\")"
   ]
  },
  {
   "cell_type": "code",
   "execution_count": 25,
   "metadata": {},
   "outputs": [
    {
     "ename": "NameError",
     "evalue": "name 'Print' is not defined",
     "output_type": "error",
     "traceback": [
      "\u001b[0;31m---------------------------------------------------------------------------\u001b[0m",
      "\u001b[0;31mNameError\u001b[0m                                 Traceback (most recent call last)",
      "\u001b[0;32m<ipython-input-25-fb066905c7fb>\u001b[0m in \u001b[0;36m<module>\u001b[0;34m\u001b[0m\n\u001b[0;32m----> 1\u001b[0;31m \u001b[0mPrint\u001b[0m\u001b[0;34m(\u001b[0m\u001b[0;34m\"hello\"\u001b[0m\u001b[0;34m)\u001b[0m\u001b[0;34m\u001b[0m\u001b[0;34m\u001b[0m\u001b[0m\n\u001b[0m",
      "\u001b[0;31mNameError\u001b[0m: name 'Print' is not defined"
     ]
    }
   ],
   "source": [
    "Print(\"hello\")"
   ]
  },
  {
   "cell_type": "code",
   "execution_count": 28,
   "metadata": {},
   "outputs": [
    {
     "ename": "SyntaxError",
     "evalue": "invalid syntax (<ipython-input-28-fc7d7acc3b43>, line 2)",
     "output_type": "error",
     "traceback": [
      "\u001b[0;36m  File \u001b[0;32m\"<ipython-input-28-fc7d7acc3b43>\"\u001b[0;36m, line \u001b[0;32m2\u001b[0m\n\u001b[0;31m    if x < 10\u001b[0m\n\u001b[0m             ^\u001b[0m\n\u001b[0;31mSyntaxError\u001b[0m\u001b[0;31m:\u001b[0m invalid syntax\n"
     ]
    }
   ],
   "source": [
    "x = 8\n",
    "if x < 10:\n",
    "    ## \n",
    "    print(\"x is smaller than 10\") "
   ]
  },
  {
   "cell_type": "code",
   "execution_count": 33,
   "metadata": {},
   "outputs": [
    {
     "name": "stdout",
     "output_type": "stream",
     "text": [
      "6\n"
     ]
    }
   ],
   "source": [
    "x = 8\n",
    "n = 6\n",
    "n\n",
    "print(n)"
   ]
  },
  {
   "cell_type": "code",
   "execution_count": 35,
   "metadata": {},
   "outputs": [
    {
     "name": "stdout",
     "output_type": "stream",
     "text": [
      "x is not equal to 10\n"
     ]
    }
   ],
   "source": [
    "if x == 10:\n",
    "    print(\"x is equal to 10\")\n",
    "else:\n",
    "    print(\"x is not equal to 10\")"
   ]
  },
  {
   "cell_type": "markdown",
   "metadata": {
    "extensions": {
     "jupyter_dashboards": {
      "version": 1,
      "views": {
       "grid_default": {},
       "report_default": {}
      }
     }
    },
    "slideshow": {
     "slide_type": "slide"
    }
   },
   "source": [
    "### Jupyter Notebook \n",
    "\n",
    "- What's a \"notebook\"?\n",
    "    - contains both code and rich text elements\n",
    "        -  figures, links, equations, etc.\n",
    "- For more information: https://www.datacamp.com/community/tutorials/tutorial-jupyter-notebook#WhatIs\n",
    "- New developments: **Jupyter Lab** - a browser-based IDE which has tabs that contain Jupyter notebooks"
   ]
  },
  {
   "cell_type": "markdown",
   "metadata": {},
   "source": [
    "### Installation\n",
    "\n",
    "Anaconda: https://docs.anaconda.com/anaconda/install/\n",
    "\n",
    "Python: https://www.python.org/downloads/\n",
    "\n",
    "pip: https://pip.pypa.io/en/stable/reference/pip_download/\n",
    "\n",
    "Jupyterlab: https://jupyterlab.readthedocs.io/en/stable/getting_started/installation.html"
   ]
  },
  {
   "cell_type": "markdown",
   "metadata": {
    "extensions": {
     "jupyter_dashboards": {
      "version": 1,
      "views": {
       "grid_default": {},
       "report_default": {}
      }
     }
    },
    "slideshow": {
     "slide_type": "slide"
    }
   },
   "source": [
    "### Jupyter Notebook (cont.)\n",
    "\n",
    "-  Self-contained cells:\n",
    "    - **Ju**lia, **Pyt**hon, **R**\n",
    "    - Markdown, Latex, HTML, javascript etc.\n",
    "\n",
    "- Now can run many other languages"
   ]
  },
  {
   "cell_type": "markdown",
   "metadata": {
    "extensions": {
     "jupyter_dashboards": {
      "version": 1,
      "views": {
       "grid_default": {},
       "report_default": {}
      }
     }
    },
    "slideshow": {
     "slide_type": "slide"
    }
   },
   "source": [
    "### Using Jupyter Notebook\n",
    "- File menu => create new Jupyter Notebooks (.ipynb)\n",
    "- Export to other formats :\n",
    "    - .py, .html, .pdf, .md, .reST\n",
    "- Menu options under:\n",
    "    - File, Edit, Insert, Cell, Kernel\n",
    "- Keyboard shortcuts:\n",
    "    - https://www.cheatography.com/weidadeyue/cheat-sheets/jupyter-notebook/\n"
   ]
  },
  {
   "cell_type": "code",
   "execution_count": 1,
   "metadata": {
    "extensions": {
     "jupyter_dashboards": {
      "version": 1,
      "views": {
       "grid_default": {},
       "report_default": {}
      }
     }
    },
    "scrolled": true,
    "slideshow": {
     "slide_type": "subslide"
    }
   },
   "outputs": [
    {
     "name": "stdout",
     "output_type": "stream",
     "text": [
      "use shift+enter to run code in a cell, and select the next cell\n",
      "use control + enter to run code in a cell\n"
     ]
    }
   ],
   "source": [
    "# This is an example of Code Cell\n",
    "print ('use shift+enter to run code in a cell, and select the next cell')\n",
    "print('use control + enter to run code in a cell')"
   ]
  },
  {
   "cell_type": "code",
   "execution_count": 2,
   "metadata": {},
   "outputs": [
    {
     "name": "stdout",
     "output_type": "stream",
     "text": [
      "Hello World\n"
     ]
    }
   ],
   "source": [
    "print(\"Hello World\")"
   ]
  },
  {
   "cell_type": "code",
   "execution_count": 4,
   "metadata": {},
   "outputs": [
    {
     "name": "stdout",
     "output_type": "stream",
     "text": [
      "\n",
      "Welcome to Python 3.9's help utility!\n",
      "\n",
      "If this is your first time using Python, you should definitely check out\n",
      "the tutorial on the Internet at https://docs.python.org/3.9/tutorial/.\n",
      "\n",
      "Enter the name of any module, keyword, or topic to get help on writing\n",
      "Python programs and using Python modules.  To quit this help utility and\n",
      "return to the interpreter, just type \"quit\".\n",
      "\n",
      "To get a list of available modules, keywords, symbols, or topics, type\n",
      "\"modules\", \"keywords\", \"symbols\", or \"topics\".  Each module also comes\n",
      "with a one-line summary of what it does; to list the modules whose name\n",
      "or summary contain a given string such as \"spam\", type \"modules spam\".\n",
      "\n",
      "\n",
      "You are now leaving help and returning to the Python interpreter.\n",
      "If you want to ask for help on a particular object directly from the\n",
      "interpreter, you can type \"help(object)\".  Executing \"help('string')\"\n",
      "has the same effect as typing a particular string at the help> prompt.\n"
     ]
    }
   ],
   "source": [
    "help()"
   ]
  },
  {
   "cell_type": "markdown",
   "metadata": {},
   "source": [
    "### Variables in Jupyter Notebook\n",
    "\n",
    "How to see all the variables in Jupyter Notebook environment?\n",
    "\n",
    "- `dir` builtin function. \n",
    "    - When you invoke this function with no arguments, it will return a list of all the variable names in the local scope. \n",
    "    - If you supply a module or class, it will list the attributes of the module or the class (and its subclasses).\n",
    "<br><br>\n",
    "- using `globals()` and `locals()`. These will return the symbol table, a dictionary keyed by the variable names and containing the values. \n",
    "    - For `globals` this is the values for the current module (when invoked in a function or method, the module is the one where the function was defined, not where it was executed). \n",
    "    - `locals` is the same as `globals` when invoked at the module level, but free variables are returned when invoked in function blocks.\n",
    "<br><br>\n",
    "- Using magics in IPython, ex., `%who` function. With no arguments it prints all the interactive variables with minimal formatting. You can supply types to only show variables matching the type given.\n",
    "    - The `%who_ls` magic does the same thing, but returns the variables as a list. It can also limit what you see by type.\n",
    "    - Another magic is `%whos`, it provides a nice formatted table that will show you the variable, type, and a string representation. It includes helpful information about Numpy and pandas data structures."
   ]
  },
  {
   "cell_type": "code",
   "execution_count": 16,
   "metadata": {},
   "outputs": [
    {
     "name": "stdout",
     "output_type": "stream",
     "text": [
      "['In', 'Out', '_', '_10', '_12', '_8', '_9', '__', '___', '__builtin__', '__builtins__', '__doc__', '__loader__', '__name__', '__package__', '__spec__', '_dh', '_i', '_i1', '_i10', '_i11', '_i12', '_i13', '_i14', '_i15', '_i16', '_i2', '_i3', '_i4', '_i5', '_i6', '_i7', '_i8', '_i9', '_ih', '_ii', '_iii', '_oh', 'exit', 'get_ipython', 'pd', 'quit']\n"
     ]
    }
   ],
   "source": [
    "print(dir())"
   ]
  },
  {
   "cell_type": "code",
   "execution_count": 19,
   "metadata": {},
   "outputs": [
    {
     "name": "stdout",
     "output_type": "stream",
     "text": [
      "['BooleanDtype', 'Categorical', 'CategoricalDtype', 'CategoricalIndex', 'DataFrame', 'DateOffset', 'DatetimeIndex', 'DatetimeTZDtype', 'ExcelFile', 'ExcelWriter', 'Flags', 'Float32Dtype', 'Float64Dtype', 'Float64Index', 'Grouper', 'HDFStore', 'Index', 'IndexSlice', 'Int16Dtype', 'Int32Dtype', 'Int64Dtype', 'Int64Index', 'Int8Dtype', 'Interval', 'IntervalDtype', 'IntervalIndex', 'MultiIndex', 'NA', 'NaT', 'NamedAgg', 'Period', 'PeriodDtype', 'PeriodIndex', 'RangeIndex', 'Series', 'SparseDtype', 'StringDtype', 'Timedelta', 'TimedeltaIndex', 'Timestamp', 'UInt16Dtype', 'UInt32Dtype', 'UInt64Dtype', 'UInt64Index', 'UInt8Dtype', '__builtins__', '__cached__', '__doc__', '__docformat__', '__file__', '__getattr__', '__git_version__', '__loader__', '__name__', '__package__', '__path__', '__spec__', '__version__', '_config', '_hashtable', '_is_numpy_dev', '_lib', '_libs', '_np_version_under1p18', '_testing', '_tslib', '_typing', '_version', 'api', 'array', 'arrays', 'bdate_range', 'compat', 'concat', 'core', 'crosstab', 'cut', 'date_range', 'describe_option', 'errors', 'eval', 'factorize', 'get_dummies', 'get_option', 'infer_freq', 'interval_range', 'io', 'isna', 'isnull', 'json_normalize', 'lreshape', 'melt', 'merge', 'merge_asof', 'merge_ordered', 'notna', 'notnull', 'offsets', 'option_context', 'options', 'pandas', 'period_range', 'pivot', 'pivot_table', 'plotting', 'qcut', 'read_clipboard', 'read_csv', 'read_excel', 'read_feather', 'read_fwf', 'read_gbq', 'read_hdf', 'read_html', 'read_json', 'read_orc', 'read_parquet', 'read_pickle', 'read_sas', 'read_spss', 'read_sql', 'read_sql_query', 'read_sql_table', 'read_stata', 'read_table', 'read_xml', 'reset_option', 'set_eng_float_format', 'set_option', 'show_versions', 'test', 'testing', 'timedelta_range', 'to_datetime', 'to_numeric', 'to_pickle', 'to_timedelta', 'tseries', 'unique', 'util', 'value_counts', 'wide_to_long']\n"
     ]
    }
   ],
   "source": [
    "import pandas\n",
    "print(dir(pandas))"
   ]
  },
  {
   "cell_type": "code",
   "execution_count": 13,
   "metadata": {
    "scrolled": false
   },
   "outputs": [
    {
     "name": "stdout",
     "output_type": "stream",
     "text": [
      "{'__name__': '__main__', '__doc__': 'Automatically created module for IPython interactive environment', '__package__': None, '__loader__': None, '__spec__': None, '__builtin__': <module 'builtins' (built-in)>, '__builtins__': <module 'builtins' (built-in)>, '_ih': ['', '### Variables in Jupyter Notebook', \"get_ipython().run_line_magic('pinfo', 'print')\", \"get_ipython().run_line_magic('pinfo', 'print')\", 'import panda as ', 'import panda as pd', 'import Panda as pd', 'import pandas as pd', 'import pandas as pd\\npd.read_csv', 'import pandas as pd\\npd.read_csv', 'dir()', 'print(dir())', 'locals()', 'print(locals())'], '_oh': {8: <function read_csv at 0x000001D628E49CA0>, 9: <function read_csv at 0x000001D628E49CA0>, 10: ['In', 'Out', '_', '_8', '_9', '__', '___', '__builtin__', '__builtins__', '__doc__', '__loader__', '__name__', '__package__', '__spec__', '_dh', '_i', '_i1', '_i10', '_i2', '_i3', '_i4', '_i5', '_i6', '_i7', '_i8', '_i9', '_ih', '_ii', '_iii', '_oh', 'exit', 'get_ipython', 'pd', 'quit'], 12: {...}}, '_dh': ['C:\\\\Users\\\\Yuxiao Luo\\\\Documents\\\\python3\\\\Intro_Python\\\\Week1'], 'In': ['', '### Variables in Jupyter Notebook', \"get_ipython().run_line_magic('pinfo', 'print')\", \"get_ipython().run_line_magic('pinfo', 'print')\", 'import panda as ', 'import panda as pd', 'import Panda as pd', 'import pandas as pd', 'import pandas as pd\\npd.read_csv', 'import pandas as pd\\npd.read_csv', 'dir()', 'print(dir())', 'locals()', 'print(locals())'], 'Out': {8: <function read_csv at 0x000001D628E49CA0>, 9: <function read_csv at 0x000001D628E49CA0>, 10: ['In', 'Out', '_', '_8', '_9', '__', '___', '__builtin__', '__builtins__', '__doc__', '__loader__', '__name__', '__package__', '__spec__', '_dh', '_i', '_i1', '_i10', '_i2', '_i3', '_i4', '_i5', '_i6', '_i7', '_i8', '_i9', '_ih', '_ii', '_iii', '_oh', 'exit', 'get_ipython', 'pd', 'quit'], 12: {...}}, 'get_ipython': <bound method InteractiveShell.get_ipython of <ipykernel.zmqshell.ZMQInteractiveShell object at 0x000001D61F4DC580>>, 'exit': <IPython.core.autocall.ZMQExitAutocall object at 0x000001D61F4DC790>, 'quit': <IPython.core.autocall.ZMQExitAutocall object at 0x000001D61F4DC790>, '_': {...}, '__': ['In', 'Out', '_', '_8', '_9', '__', '___', '__builtin__', '__builtins__', '__doc__', '__loader__', '__name__', '__package__', '__spec__', '_dh', '_i', '_i1', '_i10', '_i2', '_i3', '_i4', '_i5', '_i6', '_i7', '_i8', '_i9', '_ih', '_ii', '_iii', '_oh', 'exit', 'get_ipython', 'pd', 'quit'], '___': <function read_csv at 0x000001D628E49CA0>, '_i': 'locals()', '_ii': 'print(dir())', '_iii': 'dir()', '_i1': '### Variables in Jupyter Notebook', '_i2': 'print?', '_i3': '?print', '_i4': 'import panda as ', '_i5': 'import panda as pd', '_i6': 'import Panda as pd', '_i7': 'import pandas as pd', 'pd': <module 'pandas' from 'c:\\\\users\\\\yuxiao luo\\\\appdata\\\\local\\\\programs\\\\python\\\\python39\\\\lib\\\\site-packages\\\\pandas\\\\__init__.py'>, '_i8': 'import pandas as pd\\npd.read_csv', '_8': <function read_csv at 0x000001D628E49CA0>, '_i9': 'import pandas as pd\\npd.read_csv', '_9': <function read_csv at 0x000001D628E49CA0>, '_i10': 'dir()', '_10': ['In', 'Out', '_', '_8', '_9', '__', '___', '__builtin__', '__builtins__', '__doc__', '__loader__', '__name__', '__package__', '__spec__', '_dh', '_i', '_i1', '_i10', '_i2', '_i3', '_i4', '_i5', '_i6', '_i7', '_i8', '_i9', '_ih', '_ii', '_iii', '_oh', 'exit', 'get_ipython', 'pd', 'quit'], '_i11': 'print(dir())', '_i12': 'locals()', '_12': {...}, '_i13': 'print(locals())'}\n"
     ]
    }
   ],
   "source": [
    "print(locals())"
   ]
  },
  {
   "cell_type": "code",
   "execution_count": 23,
   "metadata": {
    "scrolled": false
   },
   "outputs": [
    {
     "name": "stdout",
     "output_type": "stream",
     "text": [
      "{'__name__': '__main__', '__doc__': 'Automatically created module for IPython interactive environment', '__package__': None, '__loader__': None, '__spec__': None, '__builtin__': <module 'builtins' (built-in)>, '__builtins__': <module 'builtins' (built-in)>, '_ih': ['', '### Variables in Jupyter Notebook', \"get_ipython().run_line_magic('pinfo', 'print')\", \"get_ipython().run_line_magic('pinfo', 'print')\", 'import panda as ', 'import panda as pd', 'import Panda as pd', 'import pandas as pd', 'import pandas as pd\\npd.read_csv', 'import pandas as pd\\npd.read_csv', 'dir()', 'print(dir())', 'locals()', 'print(locals())', 'print(globals())', 'print(dir(pd))', 'print(dir())', 'print(dir(pd))', 'print(dir(pandas))', 'import pandas\\nprint(dir(pandas))', 'print(globals())', 'print(globals())', 'print(globals())', 'print(globals())'], '_oh': {8: <function read_csv at 0x000001D628E49CA0>, 9: <function read_csv at 0x000001D628E49CA0>, 10: ['In', 'Out', '_', '_8', '_9', '__', '___', '__builtin__', '__builtins__', '__doc__', '__loader__', '__name__', '__package__', '__spec__', '_dh', '_i', '_i1', '_i10', '_i2', '_i3', '_i4', '_i5', '_i6', '_i7', '_i8', '_i9', '_ih', '_ii', '_iii', '_oh', 'exit', 'get_ipython', 'pd', 'quit'], 12: {...}}, '_dh': ['C:\\\\Users\\\\Yuxiao Luo\\\\Documents\\\\python3\\\\Intro_Python\\\\Week1'], 'In': ['', '### Variables in Jupyter Notebook', \"get_ipython().run_line_magic('pinfo', 'print')\", \"get_ipython().run_line_magic('pinfo', 'print')\", 'import panda as ', 'import panda as pd', 'import Panda as pd', 'import pandas as pd', 'import pandas as pd\\npd.read_csv', 'import pandas as pd\\npd.read_csv', 'dir()', 'print(dir())', 'locals()', 'print(locals())', 'print(globals())', 'print(dir(pd))', 'print(dir())', 'print(dir(pd))', 'print(dir(pandas))', 'import pandas\\nprint(dir(pandas))', 'print(globals())', 'print(globals())', 'print(globals())', 'print(globals())'], 'Out': {8: <function read_csv at 0x000001D628E49CA0>, 9: <function read_csv at 0x000001D628E49CA0>, 10: ['In', 'Out', '_', '_8', '_9', '__', '___', '__builtin__', '__builtins__', '__doc__', '__loader__', '__name__', '__package__', '__spec__', '_dh', '_i', '_i1', '_i10', '_i2', '_i3', '_i4', '_i5', '_i6', '_i7', '_i8', '_i9', '_ih', '_ii', '_iii', '_oh', 'exit', 'get_ipython', 'pd', 'quit'], 12: {...}}, 'get_ipython': <bound method InteractiveShell.get_ipython of <ipykernel.zmqshell.ZMQInteractiveShell object at 0x000001D61F4DC580>>, 'exit': <IPython.core.autocall.ZMQExitAutocall object at 0x000001D61F4DC790>, 'quit': <IPython.core.autocall.ZMQExitAutocall object at 0x000001D61F4DC790>, '_': {...}, '__': ['In', 'Out', '_', '_8', '_9', '__', '___', '__builtin__', '__builtins__', '__doc__', '__loader__', '__name__', '__package__', '__spec__', '_dh', '_i', '_i1', '_i10', '_i2', '_i3', '_i4', '_i5', '_i6', '_i7', '_i8', '_i9', '_ih', '_ii', '_iii', '_oh', 'exit', 'get_ipython', 'pd', 'quit'], '___': <function read_csv at 0x000001D628E49CA0>, '_i': 'print(globals())', '_ii': 'print(globals())', '_iii': 'print(globals())', '_i1': '### Variables in Jupyter Notebook', '_i2': 'print?', '_i3': '?print', '_i4': 'import panda as ', '_i5': 'import panda as pd', '_i6': 'import Panda as pd', '_i7': 'import pandas as pd', 'pd': <module 'pandas' from 'c:\\\\users\\\\yuxiao luo\\\\appdata\\\\local\\\\programs\\\\python\\\\python39\\\\lib\\\\site-packages\\\\pandas\\\\__init__.py'>, '_i8': 'import pandas as pd\\npd.read_csv', '_8': <function read_csv at 0x000001D628E49CA0>, '_i9': 'import pandas as pd\\npd.read_csv', '_9': <function read_csv at 0x000001D628E49CA0>, '_i10': 'dir()', '_10': ['In', 'Out', '_', '_8', '_9', '__', '___', '__builtin__', '__builtins__', '__doc__', '__loader__', '__name__', '__package__', '__spec__', '_dh', '_i', '_i1', '_i10', '_i2', '_i3', '_i4', '_i5', '_i6', '_i7', '_i8', '_i9', '_ih', '_ii', '_iii', '_oh', 'exit', 'get_ipython', 'pd', 'quit'], '_i11': 'print(dir())', '_i12': 'locals()', '_12': {...}, '_i13': 'print(locals())', '_i14': 'print(globals())', '_i15': 'print(dir(pd))', '_i16': 'print(dir())', '_i17': 'print(dir(pd))', '_i18': '\\nprint(dir(pandas))', '_i19': 'import pandas\\nprint(dir(pandas))', 'pandas': <module 'pandas' from 'c:\\\\users\\\\yuxiao luo\\\\appdata\\\\local\\\\programs\\\\python\\\\python39\\\\lib\\\\site-packages\\\\pandas\\\\__init__.py'>, '_i20': 'print(globals())', '_i21': 'print(globals())', '_i22': 'print(globals())', '_i23': 'print(globals())'}\n"
     ]
    }
   ],
   "source": [
    "print(globals())"
   ]
  },
  {
   "cell_type": "code",
   "execution_count": 37,
   "metadata": {},
   "outputs": [
    {
     "name": "stdout",
     "output_type": "stream",
     "text": [
      "No variables match your requested type.\n"
     ]
    }
   ],
   "source": [
    "%who function"
   ]
  },
  {
   "cell_type": "code",
   "execution_count": 38,
   "metadata": {},
   "outputs": [
    {
     "name": "stdout",
     "output_type": "stream",
     "text": [
      "pandas\t pd\t \n"
     ]
    }
   ],
   "source": [
    "%who module"
   ]
  },
  {
   "cell_type": "code",
   "execution_count": 39,
   "metadata": {},
   "outputs": [
    {
     "data": {
      "text/plain": [
       "['pandas', 'pd']"
      ]
     },
     "execution_count": 39,
     "metadata": {},
     "output_type": "execute_result"
    }
   ],
   "source": [
    "# %who_ls does the same thing, but returns the variables as a list. It can also limit what you see by type\n",
    "%who_ls"
   ]
  },
  {
   "cell_type": "code",
   "execution_count": 41,
   "metadata": {},
   "outputs": [
    {
     "name": "stdout",
     "output_type": "stream",
     "text": [
      "Variable   Type      Data/Info\n",
      "------------------------------\n",
      "pandas     module    <module 'pandas' from 'c:<...>es\\\\pandas\\\\__init__.py'>\n",
      "pd         module    <module 'pandas' from 'c:<...>es\\\\pandas\\\\__init__.py'>\n",
      "var        int       10\n"
     ]
    }
   ],
   "source": [
    "%whos"
   ]
  },
  {
   "cell_type": "code",
   "execution_count": 42,
   "metadata": {
    "scrolled": true
   },
   "outputs": [
    {
     "name": "stdout",
     "output_type": "stream",
     "text": [
      "Variable   Type      Data/Info\n",
      "------------------------------\n",
      "pd         module    <module 'pandas' from 'c:<...>es\\\\pandas\\\\__init__.py'>\n",
      "var        int       10\n"
     ]
    }
   ],
   "source": [
    "# remove variable/module/function in the environment \n",
    "del pandas\n",
    "%whos"
   ]
  },
  {
   "cell_type": "markdown",
   "metadata": {},
   "source": [
    "### Tab completion\n",
    "\n",
    "One of the most useful things about Jupyter Notebook is its tab completion.\n",
    "\n",
    "- You can use TAB completion to see possible function names\n",
    "\n",
    "    - try type in `pr` and press `tab`, you will the suggested function name popped up \n",
    "    \n",
    "- click just after `read_csv`( in the cell below and press `Shift+Tab` 4 times, slowly. Note that if you're using JupyterLab you don't have an additional help box option.\n",
    "\n",
    "\n",
    "### Get help\n",
    "- `shift + tab` activiate `help` function\n",
    "- same as `?function_name` or `function_name?`"
   ]
  },
  {
   "cell_type": "code",
   "execution_count": 9,
   "metadata": {},
   "outputs": [
    {
     "data": {
      "text/plain": [
       "<function pandas.io.parsers.readers.read_csv(filepath_or_buffer: 'FilePathOrBuffer', sep=<no_default>, delimiter=None, header='infer', names=<no_default>, index_col=None, usecols=None, squeeze=False, prefix=<no_default>, mangle_dupe_cols=True, dtype: 'DtypeArg | None' = None, engine=None, converters=None, true_values=None, false_values=None, skipinitialspace=False, skiprows=None, skipfooter=0, nrows=None, na_values=None, keep_default_na=True, na_filter=True, verbose=False, skip_blank_lines=True, parse_dates=False, infer_datetime_format=False, keep_date_col=False, date_parser=None, dayfirst=False, cache_dates=True, iterator=False, chunksize=None, compression='infer', thousands=None, decimal: 'str' = '.', lineterminator=None, quotechar='\"', quoting=0, doublequote=True, escapechar=None, comment=None, encoding=None, encoding_errors: 'str | None' = 'strict', dialect=None, error_bad_lines=None, warn_bad_lines=None, on_bad_lines=None, delim_whitespace=False, low_memory=True, memory_map=False, float_precision=None, storage_options: 'StorageOptions' = None)>"
      ]
     },
     "execution_count": 9,
     "metadata": {},
     "output_type": "execute_result"
    }
   ],
   "source": [
    "import pandas as pd\n",
    "pd.read_csv"
   ]
  },
  {
   "cell_type": "markdown",
   "metadata": {
    "extensions": {
     "jupyter_dashboards": {
      "version": 1,
      "views": {
       "grid_default": {},
       "report_default": {}
      }
     }
    },
    "slideshow": {
     "slide_type": "slide"
    }
   },
   "source": [
    "### Magic Commands\n",
    "\n",
    "Magic commands or magic functions are one of the important enhancements that IPython offers compared to the standard Python shell. These magic commands are intended to solve common problems in data analysis using Python. In fact, they control the behaviour of IPython itself. \n",
    "\n",
    "Magic commands act as convenient functions where Python syntax is not the most natural one. They are useful to embed invalid python syntax in their work flow.\n",
    "\n",
    "There are 2 types of magic commands: \n",
    "       \n",
    "        * line magics\n",
    "            - They are similar to command line calls. They start with `%` character. Rest of the line is its argument passed without parentheses or quotes. Line magics can be used as expression and their return value can be assigned to variable.\n",
    "            \n",
    "        * cell magics\n",
    "            - They have `%%` character prefix. Unlike line magic functions, they can operate on multiple lines below their call. They can in fact make arbitrary modifications to the input they receive, which need not even be a valid Python code at all. They receive the whole block as a single string.\n",
    "\n",
    "\n",
    "- Insert a code cell below, and try these commands\n",
    "    - `%magic`\n",
    "    - `%lsmagic`\n",
    "    - `%cd`\n",
    "    - `%pwd`\n",
    "    - `%mkdir`\n",
    "    - ``%who``\n",
    "    - ``%who str``\n",
    "    - ``%system date``\n",
    "- To use other languages than Python in code cells:\n",
    "    - `%%latex`\n",
    "    - `%%html`\n",
    "    - `%%javascript`\n",
    "    - `%%r`\n",
    "    - `%%cmd`\n",
    "- More magic commands:\n",
    "    - `%load` replaces the contents of the current cell with an external script\n",
    "    - `%run` executes code from .py and .ipynb files and shows output\n",
    "    - `%%writefile test.py` saves the contents of that cell to a file named 'test.py'\n",
    "        - if want to add the content to an existing file, use `%%writefile -a existingfile.py` (means to append)\n",
    "    - `%pycat test.py` shows you (in a popup) the syntax highlighted contents of an external file.\n",
    "\n",
    "Reference: [IPython Magic Commands](https://www.tutorialspoint.com/jupyter/ipython_magic_commands.htm)"
   ]
  },
  {
   "cell_type": "code",
   "execution_count": 3,
   "metadata": {
    "scrolled": true
   },
   "outputs": [
    {
     "name": "stdout",
     "output_type": "stream",
     "text": [
      "Microsoft Windows [Version 10.0.19044.1526]\r\n",
      "(c) Microsoft Corporation. All rights reserved.\r\n",
      "\r\n",
      "C:\\Users\\Yuxiao Luo\\Documents\\python3\\Intro_Python\\Week1&2>python --version\n",
      "Python 3.9.5\r\n",
      "\r\n",
      "C:\\Users\\Yuxiao Luo\\Documents\\python3\\Intro_Python\\Week1&2>"
     ]
    }
   ],
   "source": [
    "%%cmd\n",
    "python --version"
   ]
  },
  {
   "cell_type": "markdown",
   "metadata": {
    "slideshow": {
     "slide_type": "slide"
    }
   },
   "source": [
    "#### os commands\n",
    "- `import os`\n",
    "- `os.sep` outputs the (or a most common) pathname separator ('/' or '\\\\')\n",
    "- `os.name`\n",
    "- `os.getcwd()`"
   ]
  },
  {
   "cell_type": "code",
   "execution_count": 3,
   "metadata": {},
   "outputs": [],
   "source": [
    "# how to make jupyter notebook display multiple outputs\n",
    "from IPython.core.interactiveshell import InteractiveShell\n",
    "InteractiveShell.ast_node_interactivity = \"all\""
   ]
  },
  {
   "cell_type": "code",
   "execution_count": 7,
   "metadata": {
    "slideshow": {
     "slide_type": "slide"
    }
   },
   "outputs": [
    {
     "data": {
      "text/plain": [
       "'\\\\'"
      ]
     },
     "execution_count": 7,
     "metadata": {},
     "output_type": "execute_result"
    },
    {
     "data": {
      "text/plain": [
       "'\\r\\n'"
      ]
     },
     "execution_count": 7,
     "metadata": {},
     "output_type": "execute_result"
    },
    {
     "data": {
      "text/plain": [
       "'nt'"
      ]
     },
     "execution_count": 7,
     "metadata": {},
     "output_type": "execute_result"
    },
    {
     "data": {
      "text/plain": [
       "'C:\\\\Users\\\\Yuxiao Luo\\\\Documents\\\\python3\\\\Intro_Python\\\\Week1&2'"
      ]
     },
     "execution_count": 7,
     "metadata": {},
     "output_type": "execute_result"
    }
   ],
   "source": [
    "# ?os\n",
    "import os\n",
    "\n",
    "os.sep\n",
    "os.linesep\n",
    "os.name\n",
    "os.getcwd()"
   ]
  },
  {
   "cell_type": "markdown",
   "metadata": {},
   "source": [
    "### Save and Checkpoint in Jupyter Notebook\n",
    "\n",
    "- Every time we create a new notebook, a checkpoint file is created along with the notebook file. It is located within a hidden subdirectory of your save location called `.ipynb_checkpoints` and is also a `.ipynb` file.\n",
    "\n",
    "- By default, Jupyter will autosave your notebook every 120 seconds to this checkpoint file without altering your primary notebook file. When you “Save and Checkpoint,” both the notebook and checkpoint files are updated. Hence, the checkpoint enables you to recover your unsaved work in the event of an unexpected issue.\n",
    "\n",
    "- You can revert to the checkpoint from the menu via “File > Revert to Checkpoint.”\n",
    "\n",
    "Reference: [How to use Jupyter Notebook: A Beginner's Tutorial](https://www.dataquest.io/blog/jupyter-notebook-tutorial/#:~:text=It%20is%20located%20within%20a,altering%20your%20primary%20notebook%20file.)"
   ]
  },
  {
   "cell_type": "markdown",
   "metadata": {},
   "source": [
    "### Creating Programs:\n",
    "\n",
    "#### Steps\n",
    "#### Algorithms\n",
    "#### Pseudo code\n",
    "#### Flowchart\n"
   ]
  },
  {
   "attachments": {
    "image.png": {
     "image/png": "[encoded data removed]"
    }
   },
   "cell_type": "markdown",
   "metadata": {},
   "source": [
    "### Steps for Creating Programs:\n",
    "Programming Process![image.png](attachment:image.png)"
   ]
  },
  {
   "cell_type": "markdown",
   "metadata": {},
   "source": [
    "### Algorithms\n",
    "1. Pour the desired amount of water into a pot.\n",
    "2. Put the pot on a stove burner.\n",
    "3. Turn the burner to high.\n",
    "4. Watchthewateruntilyouseelargebubblesrapidlyrising.Whenthishappens,the\n",
    "water is boiling."
   ]
  },
  {
   "cell_type": "markdown",
   "metadata": {},
   "source": [
    "### Algorithms\n",
    "1. Get the number of hours worked.\n",
    "2. Get the hourly pay rate.\n",
    "3. Multiply the number of hours worked by the hourly pay rate.\n",
    "4. Display the result of the calculation that was performed in step 3."
   ]
  },
  {
   "cell_type": "markdown",
   "metadata": {},
   "source": [
    "### Pseudo Code Example\n",
    "1. Input the hours worked\n",
    "2. Input the hourly pay rate\n",
    "3. Calculate gross pay as hours worked multiplied by pay rate \n",
    "4. Display the gross pay"
   ]
  },
  {
   "cell_type": "code",
   "execution_count": null,
   "metadata": {},
   "outputs": [],
   "source": [
    "## 1. request the # of hours worked\n",
    "\n",
    "## 2. request the hourly pay rate\n",
    "\n",
    "## 3. calculate the gross pay\n",
    "\n",
    "## 4. display gross pay"
   ]
  },
  {
   "cell_type": "markdown",
   "metadata": {},
   "source": [
    "### Flowchart\n",
    "\n",
    "<img src=\"data/flowchart.png\">\n"
   ]
  },
  {
   "cell_type": "markdown",
   "metadata": {},
   "source": [
    "### How do Computer Programs Work?\n",
    "Typically:\n",
    "1. Input is received.\n",
    "2. Some process is performed on the input. \n",
    "3. Output is produced."
   ]
  },
  {
   "cell_type": "markdown",
   "metadata": {},
   "source": [
    "### Displaying Output with `print` function\n",
    "\n",
    "`print('Hello world')`\n",
    "\n"
   ]
  },
  {
   "cell_type": "code",
   "execution_count": 8,
   "metadata": {},
   "outputs": [
    {
     "name": "stdout",
     "output_type": "stream",
     "text": [
      "Kate Austen\n",
      "123 Full Circle Drive\n",
      "Asheville, NC 28899\n"
     ]
    }
   ],
   "source": [
    "print('Kate Austen')\n",
    "print('123 Full Circle Drive')\n",
    "print('Asheville, NC 28899')"
   ]
  },
  {
   "cell_type": "markdown",
   "metadata": {},
   "source": [
    "### Strings\n",
    "- **Quotation marks**:\n",
    "    - Double: `\"string\"`\n",
    "    - Single: `'string'`\n",
    "    - Tripple: `\"\"\"string\"\"\"` or `'''string'''`\n",
    "        - Triple quotes, according to official Python documentation are docstrings, or multi-line docstrings and are not considered comments. Anything inside triple quotes is read by the interpreter. When the interpreter encounters the hash symbol, it ignores everything after that. That is what a comment is defined to be. \n",
    "\n",
    "- **Single & Double Quotes vs. Tripple Quotes**\n",
    "    - Single & Double Quotes:\n",
    "        - Enclose strings. Either single or double quotes are fine.\n",
    "        - Use single quotes as enclosing quotes to eliminate the need of escaping double quotes in a string, and vice versa.\n",
    "    - Triple Quotes:\n",
    "        - Enclose strings containing both single and double quotes such that no escaping is needed.\n",
    "        - Enclose multi-line strings."
   ]
  },
  {
   "cell_type": "code",
   "execution_count": 40,
   "metadata": {},
   "outputs": [
    {
     "name": "stdout",
     "output_type": "stream",
     "text": [
      "Kate Austen\n",
      "123 Full Circle Drive\n",
      "Asheville, NC 28899\n"
     ]
    }
   ],
   "source": [
    "print(\"Kate Austen\")\n",
    "print(\"123 Full Circle Drive\")\n",
    "print(\"Asheville, NC 28899\")"
   ]
  },
  {
   "cell_type": "code",
   "execution_count": 15,
   "metadata": {},
   "outputs": [
    {
     "name": "stdout",
     "output_type": "stream",
     "text": [
      "\n",
      "Kate Austen\n"
     ]
    }
   ],
   "source": [
    "print('\\nKate Austen')"
   ]
  },
  {
   "cell_type": "code",
   "execution_count": 14,
   "metadata": {},
   "outputs": [
    {
     "name": "stdout",
     "output_type": "stream",
     "text": [
      "Kate Austen \n",
      "123 Full Circle Drive, Asheville, NC 28899\n",
      "\n"
     ]
    }
   ],
   "source": [
    "print(\"\"\"Kate Austen \\n123 Full Circle Drive, Asheville, NC 28899\n",
    "\"\"\")"
   ]
  },
  {
   "cell_type": "code",
   "execution_count": 51,
   "metadata": {},
   "outputs": [
    {
     "name": "stdout",
     "output_type": "stream",
     "text": [
      "\n",
      "Kate Austen \n",
      "123 Full Circle Drive \n",
      "Asheville, NC 28899\n",
      "\n"
     ]
    }
   ],
   "source": [
    "print(\"\"\"\\nKate Austen \\n123 Full Circle Drive \\nAsheville, NC 28899\n",
    "\"\"\")"
   ]
  },
  {
   "cell_type": "code",
   "execution_count": 21,
   "metadata": {},
   "outputs": [
    {
     "name": "stdout",
     "output_type": "stream",
     "text": [
      "Your assignment is to read \"Hamlet\" by tomorrow.\n"
     ]
    }
   ],
   "source": [
    "print('Your assignment is to read \"Hamlet\" by tomorrow.')"
   ]
  },
  {
   "cell_type": "code",
   "execution_count": 22,
   "metadata": {},
   "outputs": [
    {
     "name": "stdout",
     "output_type": "stream",
     "text": [
      " I'm reading \"Hamlet\" tonight.\n"
     ]
    }
   ],
   "source": [
    "print(\"\"\" I'm reading \"Hamlet\" tonight.\"\"\")"
   ]
  },
  {
   "cell_type": "code",
   "execution_count": 23,
   "metadata": {},
   "outputs": [
    {
     "name": "stdout",
     "output_type": "stream",
     "text": [
      "I'm reading `Hamlet` tonight.\n"
     ]
    }
   ],
   "source": [
    "print(\"I'm reading `Hamlet` tonight.\")"
   ]
  },
  {
   "cell_type": "code",
   "execution_count": 33,
   "metadata": {},
   "outputs": [
    {
     "name": "stdout",
     "output_type": "stream",
     "text": [
      "\n",
      "One\n",
      "Two\n",
      "Three\n",
      "\n"
     ]
    }
   ],
   "source": [
    "# for triple quotes \n",
    "# indentation will be kept between \n",
    "\n",
    "print(\"\"\"\n",
    "One\n",
    "Two\n",
    "Three\n",
    "\"\"\")"
   ]
  },
  {
   "cell_type": "code",
   "execution_count": 34,
   "metadata": {},
   "outputs": [
    {
     "name": "stdout",
     "output_type": "stream",
     "text": [
      "\n",
      "One\n",
      "Two\n",
      "Three\n"
     ]
    }
   ],
   "source": [
    "print('\\nOne\\nTwo\\nThree')"
   ]
  },
  {
   "cell_type": "code",
   "execution_count": 35,
   "metadata": {},
   "outputs": [
    {
     "name": "stdout",
     "output_type": "stream",
     "text": [
      "\n",
      "One\n",
      "Two\n",
      "Three\n"
     ]
    }
   ],
   "source": [
    "print(\"\\nOne\\nTwo\\nThree\")"
   ]
  },
  {
   "cell_type": "code",
   "execution_count": 7,
   "metadata": {},
   "outputs": [
    {
     "name": "stdout",
     "output_type": "stream",
     "text": [
      "Yuxiao Luo\n"
     ]
    }
   ],
   "source": [
    "#Write a statement that displays your name.\n",
    "print(\"Yuxiao Luo\")"
   ]
  },
  {
   "cell_type": "code",
   "execution_count": 37,
   "metadata": {},
   "outputs": [
    {
     "name": "stdout",
     "output_type": "stream",
     "text": [
      "Python's the best!\n"
     ]
    }
   ],
   "source": [
    "#Write a statement that displays the following text: Python's the best!\n",
    "print(\"Python's the best!\")"
   ]
  },
  {
   "cell_type": "code",
   "execution_count": 44,
   "metadata": {},
   "outputs": [
    {
     "name": "stdout",
     "output_type": "stream",
     "text": [
      "The cat said \"meow.\"\n",
      "The cat said \"meow.\" \n"
     ]
    }
   ],
   "source": [
    "#Write a statement that displays the following text: The cat said \"meow.\"\n",
    "print('The cat said \"meow.\"')\n",
    "print(\"\"\"The cat said \"meow.\" \"\"\")"
   ]
  },
  {
   "cell_type": "markdown",
   "metadata": {},
   "source": [
    "### Comments\n"
   ]
  },
  {
   "cell_type": "code",
   "execution_count": 45,
   "metadata": {},
   "outputs": [
    {
     "name": "stdout",
     "output_type": "stream",
     "text": [
      "Kate Austen\n",
      "123 Full Circle Drive\n",
      "Asheville, NC 28899\n"
     ]
    }
   ],
   "source": [
    "# This program displays a person's\n",
    "# name and address.\n",
    "print('Kate Austen')\n",
    "print('123 Full Circle Drive')\n",
    "print('Asheville, NC 28899')\n",
    "\n",
    "# try to use 1 print function to output these sentences\n",
    "# every sentence in different line"
   ]
  },
  {
   "cell_type": "markdown",
   "metadata": {},
   "source": [
    "#### Input & Output"
   ]
  },
  {
   "cell_type": "code",
   "execution_count": 2,
   "metadata": {},
   "outputs": [
    {
     "name": "stdout",
     "output_type": "stream",
     "text": [
      "How old are you? 13\n",
      "The user is 13 years old\n"
     ]
    }
   ],
   "source": [
    "age = input('How old are you? ')\n",
    "#print(age)\n",
    "age\n",
    "print(\"The user is\", age, \"years old\")"
   ]
  },
  {
   "cell_type": "markdown",
   "metadata": {},
   "source": [
    "## Assignments & Quizzes\n",
    "#### Weekly Assignment 1\n",
    "1. \n",
    "Install python, jupyter lab/notebook if you haven't done so\n",
    "\n",
    "2. \n",
    "Go to the **Course Documents** section in Blackboard. In the Folder **Week1** and you will find the block named **Week 1 Assignment**. Please read through the instructions of the assignments. \n",
    "\n",
    "\n",
    "   - Assignment 1a: Student profile\n",
    "   \n",
    "   \n",
    "   - Assignment 1b: Algorithm examples in day-to-day \\[college life, commuting, grocery shopping, laundry planning, cooking etc.\\] \n",
    "       \n",
    "       Pick any one task from your daily life where you might be using algorithms unknowingly. For each of these scenarios, identify following\n",
    "   \n",
    "        - A. Identify what would be needed as input to start this task and what would be the expected output after finishing all the steps.\n",
    "        - B. Next, write down all the steps you need to complete that task in sequence using a bulleted or numbered list. \n",
    "        - C. Once you have written down these steps, refine these steps by adding more details to make them more precise. For example, you might have initially stated that sort laundry clothes. Now add the clear detail about ‘how’ (say for example, by color) and ‘when’ to sort the laundry.\n",
    "        - D. Are there different approaches to make this task more/less efficient (say if you sort by people in home, etc.)? \n",
    "        - E. Can some steps be done in parallel? Are there any steps that need to be repeated? Are there any decision points in your steps?\n",
    "        - F. Would your sequence of steps scale up/down easily without significantly affecting its efficiency, say if it’s a recipe then from 4 servings to 20 servings, or in case of laundry from 6 to 2 persons?\n",
    "\n",
    "\n",
    "   - Assignment 1c: Write simple interactive python code using print and input function.      \n",
    "       \n",
    "       Using the Jupyter notebook, write an interactive python code using print() and input() functions. \n",
    "Display some instructions to the user using print() function and ask user to input some information such as their name, hobbies, etc.\n",
    "\n",
    "\n",
    "You should wrap up the 3 tasks and put them in one homework document (Microsfot Word file is preferred) for submission. You should submit in the same Assignment block in Bb.\n",
    "\n",
    "#### Weekly Quizz\n",
    "Please enroll in Codelab and finish the weekly quizzes in section **I/O**. \n",
    "\n",
    "- 4 questions in **input**\n",
    "\n",
    "- 4 questions in **output**\n"
   ]
  }
 ],
 "metadata": {
  "extensions": {
   "jupyter_dashboards": {
    "activeView": "grid_default",
    "version": 1,
    "views": {
     "grid_default": {
      "cellMargin": 10,
      "defaultCellHeight": 20,
      "maxColumns": 12,
      "name": "grid",
      "type": "grid"
     },
     "report_default": {
      "name": "report",
      "type": "report"
     }
    }
   }
  },
  "kernelspec": {
   "display_name": "Python 3",
   "language": "python",
   "name": "python3"
  },
  "language_info": {
   "codemirror_mode": {
    "name": "ipython",
    "version": 3
   },
   "file_extension": ".py",
   "mimetype": "text/x-python",
   "name": "python",
   "nbconvert_exporter": "python",
   "pygments_lexer": "ipython3",
   "version": "3.9.5"
  }
 },
 "nbformat": 4,
 "nbformat_minor": 4
}
