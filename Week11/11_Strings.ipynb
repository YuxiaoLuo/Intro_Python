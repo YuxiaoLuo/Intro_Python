{
 "cells": [
  {
   "cell_type": "markdown",
   "metadata": {},
   "source": [
    "# Strings\n",
    "\n",
    "Concepts: Python provides several ways to access the individual characters in a\n",
    "string. Strings also have methods that allow you to perform operations\n",
    "on them."
   ]
  },
  {
   "cell_type": "code",
   "execution_count": 10,
   "metadata": {},
   "outputs": [],
   "source": [
    "from IPython.core.interactiveshell import InteractiveShell\n",
    "InteractiveShell.ast_node_interactivity = \"all\""
   ]
  },
  {
   "cell_type": "markdown",
   "metadata": {},
   "source": [
    "## Outline:\n",
    "\n",
    "- A string is a sequence \n",
    "- Strings are Immutable\n",
    "- Indexing Strings\n",
    "- Traversing Strings\n",
    "- Slicing Strings\n",
    "- String Methods\n",
    "- Parsing Strings"
   ]
  },
  {
   "cell_type": "markdown",
   "metadata": {},
   "source": [
    "## Accessing individual characters in a String\n",
    "\n",
    "There are two ways of doing that: \n",
    "\n",
    "- using the `for` loop\n",
    "    ```\n",
    "    for variable in string:\n",
    "        statement\n",
    "        statement\n",
    "        etc.\n",
    "    ```\n",
    "    1. `variable` is the name of a variable \n",
    "    2. `string` is either a string literal or a variable that references a string\n",
    "    3. Each time the loop iterates, `variable` will reference a copy of a character in `string`, beginning with the first character\n",
    "    4. See example 11.1 for the demonstration\n",
    "    <br>\n",
    "    <br>\n",
    "- indexing\n",
    "    1. Each character in a string has an index that specifies its position in the string. \n",
    "    2. Indexing starts at 0; the index of the last character in a string is 1 less than the number of characters.\n",
    "    3. See example 11.2 for the demonstration\n",
    "\n",
    "<img src=\"https://developers.google.com/edu/python/images/hello.png\">\n",
    "<font size=-2>\n",
    "<p  style=\"text-align:right\">&copy; Google</p>\n",
    "</font>"
   ]
  },
  {
   "cell_type": "code",
   "execution_count": 60,
   "metadata": {
    "scrolled": true
   },
   "outputs": [
    {
     "name": "stdout",
     "output_type": "stream",
     "text": [
      "Enter a sentence: Today is Tuesday.\n",
      "The letter T appears 2 times.\n"
     ]
    }
   ],
   "source": [
    "# Example 11.1\n",
    "# This program counts the number of times \n",
    "# the letter T (uppercase or lowercase)\n",
    "# appears in a string\n",
    "\n",
    "def main():\n",
    "    # create a variable to use to hold the count\n",
    "    # the variable must start with 0\n",
    "    count = 0\n",
    "    \n",
    "    # get a string from the user \n",
    "    my_string = input('Enter a sentence: ')\n",
    "    \n",
    "    # count the Ts\n",
    "    for ch in my_string:\n",
    "        if ch == 'T' or ch == 't':\n",
    "            count += 1\n",
    "            \n",
    "    # print the result \n",
    "    print(f'The letter T appears {count} times.')\n",
    "    \n",
    "# call the main function\n",
    "if __name__ == '__main__':\n",
    "    main()"
   ]
  },
  {
   "cell_type": "code",
   "execution_count": 65,
   "metadata": {},
   "outputs": [
    {
     "name": "stdout",
     "output_type": "stream",
     "text": [
      "e\n",
      "o\n",
      "l\n",
      "8\n",
      "8\n"
     ]
    }
   ],
   "source": [
    "# example 11.2\n",
    "s = 'he8lo'\n",
    "\n",
    "# assign second character to variable si\n",
    "si=s[1]\n",
    "print(si)\n",
    "\n",
    "# the last character in string\n",
    "print(s[-1])\n",
    "\n",
    "# the second last character\n",
    "print(s[-2])\n",
    "\n",
    "# the 3rd character in the string\n",
    "print(s[2])\n",
    "print(s[-3])"
   ]
  },
  {
   "cell_type": "markdown",
   "metadata": {},
   "source": [
    "### `IndexError` exceptions\n",
    "An IndexError exception will occur if you try to use an index that is out of range for particular string. For example, the string 'Boston' has 6 characters and the valid indexes are 0 through 5. "
   ]
  },
  {
   "cell_type": "code",
   "execution_count": 69,
   "metadata": {},
   "outputs": [
    {
     "ename": "IndexError",
     "evalue": "string index out of range",
     "output_type": "error",
     "traceback": [
      "\u001b[1;31m---------------------------------------------------------------------------\u001b[0m",
      "\u001b[1;31mIndexError\u001b[0m                                Traceback (most recent call last)",
      "\u001b[1;32m<ipython-input-69-e933c1cffffa>\u001b[0m in \u001b[0;36m<module>\u001b[1;34m\u001b[0m\n\u001b[0;32m      1\u001b[0m \u001b[0mstring\u001b[0m \u001b[1;33m=\u001b[0m \u001b[1;34m'hello'\u001b[0m\u001b[1;33m\u001b[0m\u001b[1;33m\u001b[0m\u001b[0m\n\u001b[1;32m----> 2\u001b[1;33m \u001b[0mstring\u001b[0m\u001b[1;33m[\u001b[0m\u001b[1;36m5\u001b[0m\u001b[1;33m]\u001b[0m \u001b[1;31m# index error\u001b[0m\u001b[1;33m\u001b[0m\u001b[1;33m\u001b[0m\u001b[0m\n\u001b[0m",
      "\u001b[1;31mIndexError\u001b[0m: string index out of range"
     ]
    }
   ],
   "source": [
    "string = 'hello'\n",
    "string[5] # index error"
   ]
  },
  {
   "cell_type": "code",
   "execution_count": 70,
   "metadata": {},
   "outputs": [
    {
     "data": {
      "text/plain": [
       "5"
      ]
     },
     "execution_count": 70,
     "metadata": {},
     "output_type": "execute_result"
    }
   ],
   "source": [
    "# length of the string\n",
    "len(string) "
   ]
  },
  {
   "cell_type": "code",
   "execution_count": 8,
   "metadata": {},
   "outputs": [
    {
     "name": "stdout",
     "output_type": "stream",
     "text": [
      "B\n",
      "o\n",
      "s\n",
      "t\n",
      "o\n",
      "n\n"
     ]
    },
    {
     "ename": "IndexError",
     "evalue": "string index out of range",
     "output_type": "error",
     "traceback": [
      "\u001b[1;31m---------------------------------------------------------------------------\u001b[0m",
      "\u001b[1;31mIndexError\u001b[0m                                Traceback (most recent call last)",
      "\u001b[1;32m<ipython-input-8-04cebebf71af>\u001b[0m in \u001b[0;36m<module>\u001b[1;34m\u001b[0m\n\u001b[0;32m      3\u001b[0m \u001b[0mindex\u001b[0m \u001b[1;33m=\u001b[0m \u001b[1;36m0\u001b[0m\u001b[1;33m\u001b[0m\u001b[1;33m\u001b[0m\u001b[0m\n\u001b[0;32m      4\u001b[0m \u001b[1;32mwhile\u001b[0m \u001b[0mindex\u001b[0m \u001b[1;33m<\u001b[0m \u001b[1;36m7\u001b[0m\u001b[1;33m:\u001b[0m\u001b[1;33m\u001b[0m\u001b[1;33m\u001b[0m\u001b[0m\n\u001b[1;32m----> 5\u001b[1;33m     \u001b[0mprint\u001b[0m\u001b[1;33m(\u001b[0m\u001b[0mcity\u001b[0m\u001b[1;33m[\u001b[0m\u001b[0mindex\u001b[0m\u001b[1;33m]\u001b[0m\u001b[1;33m)\u001b[0m\u001b[1;33m\u001b[0m\u001b[1;33m\u001b[0m\u001b[0m\n\u001b[0m\u001b[0;32m      6\u001b[0m     \u001b[0mindex\u001b[0m \u001b[1;33m+=\u001b[0m \u001b[1;36m1\u001b[0m\u001b[1;33m\u001b[0m\u001b[1;33m\u001b[0m\u001b[0m\n",
      "\u001b[1;31mIndexError\u001b[0m: string index out of range"
     ]
    }
   ],
   "source": [
    "city = 'Boston'\n",
    "index = 0\n",
    "while index < 7:\n",
    "    print(city[index])\n",
    "    index += 1"
   ]
  },
  {
   "cell_type": "code",
   "execution_count": 9,
   "metadata": {},
   "outputs": [
    {
     "data": {
      "text/plain": [
       "6"
      ]
     },
     "execution_count": 9,
     "metadata": {},
     "output_type": "execute_result"
    }
   ],
   "source": [
    "len(city)"
   ]
  },
  {
   "cell_type": "markdown",
   "metadata": {},
   "source": [
    "## String Concatenation\n",
    "\n",
    "A common operation that performed on strings is concatenation, or appending one string to the end of another string.\n",
    "\n",
    "- The + operator produces a string that is the combination of the two strings used as its operands.\n",
    "- You can also use += operator to perform concatenation\n",
    "    - Keep in mind that the operand on the left side of the += operator must be an existing variable.\n",
    "If you specify a nonexistent variable, an exception is raised."
   ]
  },
  {
   "cell_type": "code",
   "execution_count": 73,
   "metadata": {},
   "outputs": [
    {
     "name": "stdout",
     "output_type": "stream",
     "text": [
      "Hello World\n"
     ]
    }
   ],
   "source": [
    "message = 'Hello ' + 'World'\n",
    "print(message)"
   ]
  },
  {
   "cell_type": "code",
   "execution_count": 72,
   "metadata": {},
   "outputs": [
    {
     "name": "stdout",
     "output_type": "stream",
     "text": [
      "Hello World\n"
     ]
    }
   ],
   "source": [
    "message = 'Hello' + ' ' + 'World'\n",
    "print(message)"
   ]
  },
  {
   "cell_type": "code",
   "execution_count": 78,
   "metadata": {},
   "outputs": [
    {
     "name": "stdout",
     "output_type": "stream",
     "text": [
      "Hello World\n"
     ]
    }
   ],
   "source": [
    "print(\"Hello\", \"World\")"
   ]
  },
  {
   "cell_type": "markdown",
   "metadata": {},
   "source": [
    "## Strings are immutable \n",
    "\n",
    "In Python, strings are immutable, which means once they are created, they cannot be\n",
    "changed. Some operations, such as concatenation, give the impression that they modify\n",
    "strings, but in reality they do not."
   ]
  },
  {
   "cell_type": "code",
   "execution_count": 79,
   "metadata": {},
   "outputs": [
    {
     "name": "stdout",
     "output_type": "stream",
     "text": [
      "The name is: Carmen\n",
      "Now the name is: Carmen Brown\n"
     ]
    }
   ],
   "source": [
    "# this program concatenates strings\n",
    "def main():\n",
    "    name = 'Carmen'\n",
    "    print(f'The name is: {name}')\n",
    "\n",
    "    name = name + ' Brown'\n",
    "    # Carmen is not modified, \n",
    "    # Instead, a new string containing 'Carmen Brown' is created\n",
    "    # and assigned to the name variable\n",
    "            \n",
    "    print(f'Now the name is: {name}')\n",
    "    \n",
    "# call the main function\n",
    "if __name__ == '__main__':\n",
    "    main()"
   ]
  },
  {
   "cell_type": "code",
   "execution_count": 85,
   "metadata": {
    "scrolled": true
   },
   "outputs": [
    {
     "name": "stdout",
     "output_type": "stream",
     "text": [
      "Jimothy\n"
     ]
    },
    {
     "ename": "TypeError",
     "evalue": "'str' object does not support item assignment",
     "output_type": "error",
     "traceback": [
      "\u001b[1;31m---------------------------------------------------------------------------\u001b[0m",
      "\u001b[1;31mTypeError\u001b[0m                                 Traceback (most recent call last)",
      "\u001b[1;32m<ipython-input-85-9d66a3b32a07>\u001b[0m in \u001b[0;36m<module>\u001b[1;34m\u001b[0m\n\u001b[0;32m      1\u001b[0m \u001b[1;31m### name = 'Tim'\u001b[0m\u001b[1;33m\u001b[0m\u001b[1;33m\u001b[0m\u001b[1;33m\u001b[0m\u001b[0m\n\u001b[0;32m      2\u001b[0m \u001b[0mprint\u001b[0m\u001b[1;33m(\u001b[0m\u001b[0mname\u001b[0m\u001b[1;33m)\u001b[0m\u001b[1;33m\u001b[0m\u001b[1;33m\u001b[0m\u001b[0m\n\u001b[1;32m----> 3\u001b[1;33m \u001b[0mname\u001b[0m\u001b[1;33m[\u001b[0m\u001b[1;36m0\u001b[0m\u001b[1;33m]\u001b[0m \u001b[1;33m=\u001b[0m \u001b[1;34m'J'\u001b[0m \u001b[1;31m# => wouldnt work cause strings are immutable\u001b[0m\u001b[1;33m\u001b[0m\u001b[1;33m\u001b[0m\u001b[0m\n\u001b[0m",
      "\u001b[1;31mTypeError\u001b[0m: 'str' object does not support item assignment"
     ]
    }
   ],
   "source": [
    "### name = 'Tim'\n",
    "print(name)\n",
    "name[0] = 'J' # => wouldnt work cause strings are immutable"
   ]
  },
  {
   "cell_type": "code",
   "execution_count": 89,
   "metadata": {},
   "outputs": [
    {
     "name": "stdout",
     "output_type": "stream",
     "text": [
      "Tim\n"
     ]
    },
    {
     "ename": "TypeError",
     "evalue": "'str' object does not support item assignment",
     "output_type": "error",
     "traceback": [
      "\u001b[1;31m---------------------------------------------------------------------------\u001b[0m",
      "\u001b[1;31mTypeError\u001b[0m                                 Traceback (most recent call last)",
      "\u001b[1;32m<ipython-input-89-6d3c9640e4de>\u001b[0m in \u001b[0;36m<module>\u001b[1;34m\u001b[0m\n\u001b[0;32m      2\u001b[0m \u001b[0mname\u001b[0m \u001b[1;33m=\u001b[0m \u001b[1;34m'Tim'\u001b[0m\u001b[1;33m\u001b[0m\u001b[1;33m\u001b[0m\u001b[0m\n\u001b[0;32m      3\u001b[0m \u001b[0mprint\u001b[0m\u001b[1;33m(\u001b[0m\u001b[0mname\u001b[0m\u001b[1;33m)\u001b[0m\u001b[1;33m\u001b[0m\u001b[1;33m\u001b[0m\u001b[0m\n\u001b[1;32m----> 4\u001b[1;33m \u001b[0mname\u001b[0m\u001b[1;33m[\u001b[0m\u001b[1;36m0\u001b[0m\u001b[1;33m]\u001b[0m \u001b[1;33m=\u001b[0m \u001b[1;34m'J'\u001b[0m\u001b[1;33m\u001b[0m\u001b[1;33m\u001b[0m\u001b[0m\n\u001b[0m\u001b[0;32m      5\u001b[0m \u001b[1;33m\u001b[0m\u001b[0m\n\u001b[0;32m      6\u001b[0m \u001b[0mname\u001b[0m \u001b[1;33m=\u001b[0m \u001b[1;34m'Jim'\u001b[0m\u001b[1;33m\u001b[0m\u001b[1;33m\u001b[0m\u001b[0m\n",
      "\u001b[1;31mTypeError\u001b[0m: 'str' object does not support item assignment"
     ]
    }
   ],
   "source": [
    "# correct way of updating the string \n",
    "name = 'Tim'\n",
    "print(name)\n",
    "\n",
    "# this is not ok: name[0] = 'J'\n",
    "\n",
    "name = 'Jim'\n",
    "print(name)"
   ]
  },
  {
   "cell_type": "code",
   "execution_count": 94,
   "metadata": {},
   "outputs": [
    {
     "name": "stdout",
     "output_type": "stream",
     "text": [
      "Welcome Tim !\n"
     ]
    }
   ],
   "source": [
    "print('Welcome', name, '!')"
   ]
  },
  {
   "cell_type": "code",
   "execution_count": 91,
   "metadata": {},
   "outputs": [
    {
     "name": "stdout",
     "output_type": "stream",
     "text": [
      "Welcome Tim!\n"
     ]
    }
   ],
   "source": [
    "print('Welcome ' +  name + '!')"
   ]
  },
  {
   "cell_type": "markdown",
   "metadata": {},
   "source": [
    "## Traversing Strings\n",
    "Traversing simply involves examining the string to process one character at a time. Typically, we start from the beginning, select each character, process it, and then repeat this process until the desired end point. <br>"
   ]
  },
  {
   "cell_type": "code",
   "execution_count": 98,
   "metadata": {
    "scrolled": true
   },
   "outputs": [
    {
     "name": "stdout",
     "output_type": "stream",
     "text": [
      "Enter a word in your mind: computer\n",
      "The data type of the variable is <class 'str'>\n",
      "0 c\n",
      "1 o\n",
      "2 m\n",
      "3 p\n",
      "4 u\n",
      "5 t\n",
      "6 e\n",
      "7 r\n"
     ]
    }
   ],
   "source": [
    "# assign the string to variable coffee\n",
    "coffee = input('Enter a word in your mind: ')\n",
    "\n",
    "# type() tell you the data type of the variable\n",
    "print(f'The data type of the variable is {type(coffee)}.')\n",
    "\n",
    "num = 0 # starting index number\n",
    "\n",
    "# use a while loop to access individual character in the string\n",
    "while num < len(coffee): # to stop when we have traversed the entire string\n",
    "    letter = coffee[num] \n",
    "    print(num, letter)\n",
    "    num += 1"
   ]
  },
  {
   "cell_type": "markdown",
   "metadata": {},
   "source": [
    "**Exercise:** <br>\n",
    "1. Traverse the String and print the individual characters in a string.<br>\n",
    "2. Ask the user to enter a number and then print the total of the individual digits.  If the user enters 1234, the program would print 10 (i.e. the sum of 1+2+3+4)<br>"
   ]
  },
  {
   "cell_type": "code",
   "execution_count": 100,
   "metadata": {},
   "outputs": [
    {
     "name": "stdout",
     "output_type": "stream",
     "text": [
      "Enter a string: starbucks\n",
      "s\n",
      "t\n",
      "a\n",
      "r\n",
      "b\n",
      "u\n",
      "c\n",
      "k\n",
      "s\n"
     ]
    }
   ],
   "source": [
    "coffee = input('Enter a string: ')\n",
    "for letter in coffee:\n",
    "    print(letter)"
   ]
  },
  {
   "cell_type": "code",
   "execution_count": 101,
   "metadata": {},
   "outputs": [
    {
     "name": "stdout",
     "output_type": "stream",
     "text": [
      "Enter a number: 20220412\n",
      "2\n",
      "0\n",
      "2\n",
      "2\n",
      "0\n",
      "4\n",
      "1\n",
      "2\n",
      "The sum of each digit in 20220412 is 13.\n"
     ]
    }
   ],
   "source": [
    "# user input is stored as string by default\n",
    "number = input('Enter a number: ')\n",
    "\n",
    "# variable for calculating the sum\n",
    "total = 0\n",
    "\n",
    "for i in number:\n",
    "    # examine the for loop running\n",
    "    print(int(i))\n",
    "    # sum of the digits\n",
    "    total += int(i)\n",
    "\n",
    "print(f'The sum of each digit in {number} is {total}.')"
   ]
  },
  {
   "cell_type": "code",
   "execution_count": null,
   "metadata": {},
   "outputs": [],
   "source": [
    "# Write a program "
   ]
  },
  {
   "cell_type": "markdown",
   "metadata": {},
   "source": [
    "## String Slicing\n",
    "\n",
    "Concept: You can use slicing expressions to select a range of characters from a string.\n",
    "\n",
    "We've learned that slice is a span of items that are taken from a sequence. When you take a slice from a string, you get a span of characters from within the string. String slices are also called substrings.\n",
    "\n",
    "- To get a slice of a string: `string[start : end : step_value]`.\n",
    "- `end` will not include the character itself.\n",
    "- If you leave out `start` index in a slicing expression, Python uses 0 as the starting index.\n",
    "- You can also use negative numbers as indexes in slicing expressions to reference positions relative to the end of the string\n",
    "\n",
    "<img src=\"http://www.nltk.org/images/string-slicing.png\" width=\"500\" height=\"400\">\n",
    "<font size=-2>\n",
    "<p  style=\"text-align:right\">&copy; nltk</p>\n",
    "</font>"
   ]
  },
  {
   "cell_type": "code",
   "execution_count": 102,
   "metadata": {},
   "outputs": [
    {
     "data": {
      "text/plain": [
       "'Lynn'"
      ]
     },
     "execution_count": 102,
     "metadata": {},
     "output_type": "execute_result"
    }
   ],
   "source": [
    "full_name = 'Patty Lynn Smith'\n",
    "middle_name = full_name[6:10]\n",
    "middle_name"
   ]
  },
  {
   "cell_type": "code",
   "execution_count": 105,
   "metadata": {},
   "outputs": [
    {
     "data": {
      "text/plain": [
       "'Patty'"
      ]
     },
     "execution_count": 105,
     "metadata": {},
     "output_type": "execute_result"
    },
    {
     "data": {
      "text/plain": [
       "'Patty'"
      ]
     },
     "execution_count": 105,
     "metadata": {},
     "output_type": "execute_result"
    }
   ],
   "source": [
    "first_name = full_name[0:5]\n",
    "first_name\n",
    "\n",
    "first_name = full_name[:5]\n",
    "first_name"
   ]
  },
  {
   "cell_type": "code",
   "execution_count": 106,
   "metadata": {
    "scrolled": false
   },
   "outputs": [
    {
     "data": {
      "text/plain": [
       "'Patty Lynn Smith'"
      ]
     },
     "execution_count": 106,
     "metadata": {},
     "output_type": "execute_result"
    }
   ],
   "source": [
    "# what do you think the code will genereate \n",
    "my_string = full_name[:]\n",
    "my_string"
   ]
  },
  {
   "cell_type": "code",
   "execution_count": 107,
   "metadata": {
    "scrolled": true
   },
   "outputs": [
    {
     "data": {
      "text/plain": [
       "'Patty Lynn Smith'"
      ]
     },
     "execution_count": 107,
     "metadata": {},
     "output_type": "execute_result"
    }
   ],
   "source": [
    "my_string = full_name[0 : len(full_name)]\n",
    "my_string"
   ]
  },
  {
   "cell_type": "code",
   "execution_count": 109,
   "metadata": {},
   "outputs": [
    {
     "name": "stdout",
     "output_type": "stream",
     "text": [
      "monty\n"
     ]
    }
   ],
   "source": [
    "# String Slicing - sequence of characters taken from the string\n",
    "# Format string[start:end:step]; please note end is upto but not including...\n",
    "# workaround for invalid indexes; see book chaper for more details\n",
    "\n",
    "# s[0:5]    s[0:5:2]  s[0:]  s[:5]  s[-3:-1]\n",
    "# s[:2]   +  s[2:] = ?\n",
    "\n",
    "mp='monty python'\n",
    "sliced=mp[-12:-7]\n",
    "print (sliced)"
   ]
  },
  {
   "cell_type": "code",
   "execution_count": 110,
   "metadata": {},
   "outputs": [
    {
     "data": {
      "text/plain": [
       "'hello'"
      ]
     },
     "execution_count": 110,
     "metadata": {},
     "output_type": "execute_result"
    }
   ],
   "source": [
    "phrase = 'hello, welcome'\n",
    "phrase[:5] # same as phrase[0:5]"
   ]
  },
  {
   "cell_type": "code",
   "execution_count": 112,
   "metadata": {},
   "outputs": [
    {
     "data": {
      "text/plain": [
       "'welcome'"
      ]
     },
     "execution_count": 112,
     "metadata": {},
     "output_type": "execute_result"
    },
    {
     "data": {
      "text/plain": [
       "'welcome'"
      ]
     },
     "execution_count": 112,
     "metadata": {},
     "output_type": "execute_result"
    }
   ],
   "source": [
    "phrase[7:14] # to get 'welcome'\n",
    "phrase[7:]"
   ]
  },
  {
   "cell_type": "code",
   "execution_count": 113,
   "metadata": {},
   "outputs": [
    {
     "name": "stdout",
     "output_type": "stream",
     "text": [
      "ramming\n",
      "prog\n"
     ]
    }
   ],
   "source": [
    "name = \"programming\"\n",
    "print(name[4:])\n",
    "print(name[:4])"
   ]
  },
  {
   "cell_type": "code",
   "execution_count": 115,
   "metadata": {},
   "outputs": [
    {
     "name": "stdout",
     "output_type": "stream",
     "text": [
      "hello\n",
      "hello\n",
      "hello\n",
      "hello\n",
      "hello\n"
     ]
    }
   ],
   "source": [
    "s = 'hello'\n",
    "for n in range(5): # 0,1,2,3,4\n",
    "    sliced=s[:n]+s[n:]\n",
    "    print (sliced)"
   ]
  },
  {
   "cell_type": "markdown",
   "metadata": {},
   "source": [
    "Slicing expressions can also have step value, which can cause characters to be skipped in the string. "
   ]
  },
  {
   "cell_type": "code",
   "execution_count": 56,
   "metadata": {},
   "outputs": [
    {
     "name": "stdout",
     "output_type": "stream",
     "text": [
      "13579\n",
      "2468\n"
     ]
    }
   ],
   "source": [
    "numbers = '123456789'\n",
    "\n",
    "# print the odd digits\n",
    "print(numbers[0:9:2])\n",
    "# print the even digits\n",
    "print(numbers[1:9:2])"
   ]
  },
  {
   "cell_type": "markdown",
   "metadata": {},
   "source": [
    "Here we use negative numbers as indexes in slicing expressions to reference positions relative to the end of the string."
   ]
  },
  {
   "cell_type": "code",
   "execution_count": 59,
   "metadata": {},
   "outputs": [
    {
     "data": {
      "text/plain": [
       "'Smith'"
      ]
     },
     "execution_count": 59,
     "metadata": {},
     "output_type": "execute_result"
    }
   ],
   "source": [
    "full_name = 'Patty Lynn Smith'\n",
    "last_name = full_name[-5:]\n",
    "last_name"
   ]
  },
  {
   "cell_type": "markdown",
   "metadata": {},
   "source": [
    "#### Note\n",
    "Invalid indexes do not cause slicing expressions to raise an exception.\n",
    "\n",
    "- If the `end` index specifies a position beyond the end of the string, Python will use the\n",
    "length of the string instead.\n",
    "\n",
    "- If the `start` index specifies a position before the beginning of the string, Python will\n",
    "use 0 instead.\n",
    "\n",
    "- If the `start` index is greater than the end index, the slicing expression will return\n",
    "an empty string."
   ]
  },
  {
   "cell_type": "markdown",
   "metadata": {},
   "source": [
    "## Testing, Searching, and Manipulating Strings\n",
    "\n",
    "Concept: Python provides operators and methods for testing strings, searching the\n",
    "contents of strings, and getting modified copies of strings."
   ]
  },
  {
   "cell_type": "markdown",
   "metadata": {},
   "source": [
    "### Testing strings with `in` and `not in`\n",
    "\n",
    "- In Python, you can use the in operator to determine whether one string is contained in another\n",
    "string. Ex., `string1 in string2`\n",
    "\n",
    "- `string1` and `string2` can be either string literals or variables referencing strings. The expression\n",
    "returns true if string1 is found in string2."
   ]
  },
  {
   "cell_type": "code",
   "execution_count": 6,
   "metadata": {},
   "outputs": [
    {
     "name": "stdout",
     "output_type": "stream",
     "text": [
      "sub-string found in text\n"
     ]
    }
   ],
   "source": [
    "# testing string with 'in' or 'not in' operators\n",
    "\n",
    "text = 'hello, are you there?'\n",
    "sliced = 'lo,  '\n",
    "\n",
    "if (sliced in text):\n",
    "    print('sub-string found in text')\n",
    "else:\n",
    "    print('sub-string not found in text')"
   ]
  },
  {
   "cell_type": "code",
   "execution_count": 7,
   "metadata": {},
   "outputs": [
    {
     "name": "stdout",
     "output_type": "stream",
     "text": [
      "The string \"Spring\" was found.\n"
     ]
    }
   ],
   "source": [
    "text = 'Yuxiao teaching CIS2300 in the Spring'\n",
    "if 'Spring' in text:\n",
    "    print('The string \"Spring\" was found.')\n",
    "else:\n",
    "    print('The string \"Spring\" was not found')"
   ]
  },
  {
   "cell_type": "code",
   "execution_count": 8,
   "metadata": {},
   "outputs": [
    {
     "name": "stdout",
     "output_type": "stream",
     "text": [
      "The string \"Yuxiao\" was found\n"
     ]
    }
   ],
   "source": [
    "if 'Yuxiao' not in text:\n",
    "    print('The string \"Yuxiao\" was not found.')\n",
    "else:\n",
    "    print('The string \"Yuxiao\" was found')"
   ]
  },
  {
   "cell_type": "markdown",
   "metadata": {},
   "source": [
    "### String methods\n",
    "Method is a function that belongs to an object and performs some operations on that object.  String objects in python have numerous methods to perform specific operations on the string. The general format is\n",
    "    <font color = 'red'>stringvar.method(argument) </font><br>\n",
    "- Testing the values of strings\n",
    "- Performing various modifications \n",
    "- Searching for substrings and replacing sequences of characters\n",
    "\n",
    "See below for a some useful examples.<br>"
   ]
  },
  {
   "cell_type": "markdown",
   "metadata": {},
   "source": [
    "### Testing Methods\n",
    "\n",
    "`isalnum()`, `isalpha()`, `isdigit()`,`islower()`, `isupper()`, `isspace()` returns true if condition is satisfied and is at least one character in length.\n"
   ]
  },
  {
   "cell_type": "code",
   "execution_count": 12,
   "metadata": {},
   "outputs": [
    {
     "data": {
      "text/plain": [
       "True"
      ]
     },
     "execution_count": 12,
     "metadata": {},
     "output_type": "execute_result"
    },
    {
     "data": {
      "text/plain": [
       "False"
      ]
     },
     "execution_count": 12,
     "metadata": {},
     "output_type": "execute_result"
    }
   ],
   "source": [
    "# isdigit method returns true if the stirng contains only numeric digits\n",
    "ts = \"1234\"\n",
    "ts.isdigit()\n",
    "\n",
    "ts = \"123,\"\n",
    "ts.isdigit()"
   ]
  },
  {
   "cell_type": "code",
   "execution_count": 13,
   "metadata": {},
   "outputs": [
    {
     "name": "stdout",
     "output_type": "stream",
     "text": [
      "123, contains characters other than digits.\n"
     ]
    }
   ],
   "source": [
    "# write a function to test if the string contains only digits\n",
    "def DigiTest(stringvar):\n",
    "    if ts.isdigit():\n",
    "        print(f'{ts} contains only digits.')\n",
    "    else:\n",
    "        print(f'{ts} contains characters other than digits.')\n",
    "        \n",
    "DigiTest(ts)"
   ]
  },
  {
   "cell_type": "code",
   "execution_count": 14,
   "metadata": {},
   "outputs": [
    {
     "data": {
      "text/plain": [
       "True"
      ]
     },
     "execution_count": 14,
     "metadata": {},
     "output_type": "execute_result"
    },
    {
     "data": {
      "text/plain": [
       "False"
      ]
     },
     "execution_count": 14,
     "metadata": {},
     "output_type": "execute_result"
    },
    {
     "data": {
      "text/plain": [
       "True"
      ]
     },
     "execution_count": 14,
     "metadata": {},
     "output_type": "execute_result"
    }
   ],
   "source": [
    "# isalpha returns true if the string contains only alphabetic letters \n",
    "ts = 'YuxiaoLuo'\n",
    "ts.isalpha()\n",
    "\n",
    "# isalnum returns true if the string contains only alphabetic letters\n",
    "ts = 'Yuxiao2022'\n",
    "ts.isalpha()\n",
    "ts.isalnum()"
   ]
  },
  {
   "cell_type": "code",
   "execution_count": 20,
   "metadata": {
    "scrolled": true
   },
   "outputs": [
    {
     "name": "stdout",
     "output_type": "stream",
     "text": [
      "True \n",
      "\n",
      "False \n",
      "\n",
      "True \n",
      "\n",
      "False\n",
      "False\n"
     ]
    }
   ],
   "source": [
    "# islower returns true if all the alphabetic letters in the string \n",
    "# are lowercase, and the string contains at least one alphabetic letter\n",
    "mp = 'monty python'\n",
    "test1 = mp.islower()\n",
    "print(test1, '\\n')\n",
    "\n",
    "# isupper returns true if all the alphabetic letters in the string\n",
    "# are uppercase, and the string contains at least one alphabetic letter\n",
    "test2 = mp.isupper()\n",
    "print(test2, '\\n')\n",
    "\n",
    "mp = 'MONTY PYTHON'\n",
    "print(mp.isupper(), '\\n')\n",
    "\n",
    "# all letters should satisfy\n",
    "mp = 'MONTY python'\n",
    "print(mp.islower())\n",
    "print(mp.isupper())"
   ]
  },
  {
   "cell_type": "code",
   "execution_count": 24,
   "metadata": {},
   "outputs": [
    {
     "name": "stdout",
     "output_type": "stream",
     "text": [
      "True\n",
      "True\n"
     ]
    }
   ],
   "source": [
    "# isspace() returns true if the string contains only whitespace characters \n",
    "# and is at least one character in length\n",
    "\n",
    "# whitespace characters are spaces, newlines (\\n)\n",
    "# and tabs (\\t)\n",
    "\n",
    "tv =' '\n",
    "print(tv.isspace())\n",
    "\n",
    "tv = '\\t\\n'\n",
    "print(tv.isspace())"
   ]
  },
  {
   "cell_type": "code",
   "execution_count": 27,
   "metadata": {},
   "outputs": [
    {
     "name": "stdout",
     "output_type": "stream",
     "text": [
      "Enter a number: 21392183921839213\n",
      "2 <class 'str'>\n",
      "1 <class 'str'>\n",
      "3 <class 'str'>\n",
      "9 <class 'str'>\n",
      "2 <class 'str'>\n",
      "1 <class 'str'>\n",
      "8 <class 'str'>\n",
      "3 <class 'str'>\n",
      "9 <class 'str'>\n",
      "2 <class 'str'>\n",
      "1 <class 'str'>\n",
      "8 <class 'str'>\n",
      "3 <class 'str'>\n",
      "9 <class 'str'>\n",
      "2 <class 'str'>\n",
      "1 <class 'str'>\n",
      "3 <class 'str'>\n",
      "Total is: 67\n"
     ]
    }
   ],
   "source": [
    "# using string methods to perform an operation on a string\n",
    "# Summing the digits of number\n",
    "\n",
    "# input value from user\n",
    "num = input('Enter a number: ')\n",
    "\n",
    "# initiate total var to calculate the sum\n",
    "total = 0 \n",
    "\n",
    "if num.isdigit():\n",
    "    for digit in num:\n",
    "        print(digit, type(digit))\n",
    "        total += int(digit)\n",
    "    print ('Total is:', total)\n",
    "else:\n",
    "    print('Please enter a valid number')"
   ]
  },
  {
   "cell_type": "markdown",
   "metadata": {},
   "source": [
    "### Modification methods\n",
    "\n",
    "`lower()` `lstrip()` `rstrip()` `strip()` `upper()`"
   ]
  },
  {
   "cell_type": "code",
   "execution_count": 28,
   "metadata": {},
   "outputs": [
    {
     "name": "stdout",
     "output_type": "stream",
     "text": [
      "monty python\n",
      "MONTY PYTHON\n"
     ]
    }
   ],
   "source": [
    "# lower() returns a copy of the string with all \n",
    "# alphabetic letters lowercase\n",
    "\n",
    "mp = 'monty PythON'\n",
    "print(mp.lower())\n",
    "\n",
    "# upper() returns a copy the string with all \n",
    "# alphabetic letters uppercases\n",
    "mp = 'monty PYTHON'\n",
    "print(mp.upper())"
   ]
  },
  {
   "cell_type": "code",
   "execution_count": 29,
   "metadata": {},
   "outputs": [
    {
     "name": "stdout",
     "output_type": "stream",
     "text": [
      " monty python\n",
      "monty python\n",
      "\tmonty python\n",
      "monty python\n"
     ]
    }
   ],
   "source": [
    "# lstrip() returns a copy of the string with all leading whitespace \n",
    "# characters removed \n",
    "mp = ' monty python'\n",
    "print(mp)\n",
    "print(mp.lstrip())\n",
    "\n",
    "mp = '\\tmonty python'\n",
    "print(mp)\n",
    "print(mp.lstrip())"
   ]
  },
  {
   "cell_type": "code",
   "execution_count": 31,
   "metadata": {},
   "outputs": [
    {
     "name": "stdout",
     "output_type": "stream",
     "text": [
      " beautifulsoup\n",
      "tifulsoup\n"
     ]
    }
   ],
   "source": [
    "# lstrip(char) The char argument is a string containing a character\n",
    "# returns a copy of the string with all instances of char that appear \n",
    "# at the beginning of the string removed \n",
    "bp = ' beautifulsoup'\n",
    "print(bp.lstrip('beau'))\n",
    "print(bp.lstrip(' beau'))"
   ]
  },
  {
   "cell_type": "code",
   "execution_count": 32,
   "metadata": {},
   "outputs": [
    {
     "data": {
      "text/plain": [
       "'banana'"
      ]
     },
     "execution_count": 32,
     "metadata": {},
     "output_type": "execute_result"
    }
   ],
   "source": [
    "txt = \",,,,,ssaaww.....banana\"\n",
    "txt.lstrip(\",.asw\")"
   ]
  },
  {
   "cell_type": "code",
   "execution_count": 34,
   "metadata": {},
   "outputs": [
    {
     "data": {
      "text/plain": [
       "' beautiful soup'"
      ]
     },
     "execution_count": 34,
     "metadata": {},
     "output_type": "execute_result"
    },
    {
     "data": {
      "text/plain": [
       "' beautiful soup'"
      ]
     },
     "execution_count": 34,
     "metadata": {},
     "output_type": "execute_result"
    }
   ],
   "source": [
    "# rstrip() returns a copy of the string with all trailing \n",
    "# whitespace characters removed \n",
    "bp = ' beautiful soup '\n",
    "bp.rstrip()\n",
    "\n",
    "bp = ' beautiful soup \\t\\n'\n",
    "bp.rstrip()"
   ]
  },
  {
   "cell_type": "code",
   "execution_count": 39,
   "metadata": {},
   "outputs": [
    {
     "data": {
      "text/plain": [
       "'beautiful so'"
      ]
     },
     "execution_count": 39,
     "metadata": {},
     "output_type": "execute_result"
    }
   ],
   "source": [
    "# rstrip(char) returns a copy of the string with all instances \n",
    "# of char that appear at the end of the string removed\n",
    "bp = 'beautiful soup'\n",
    "bp.rstrip('sup')"
   ]
  },
  {
   "cell_type": "code",
   "execution_count": 42,
   "metadata": {},
   "outputs": [
    {
     "name": "stdout",
     "output_type": "stream",
     "text": [
      "banana\n"
     ]
    }
   ],
   "source": [
    "txt = \"banana,,,,,ssqqqww.....\"\n",
    "\n",
    "x = txt.rstrip(\",.sqw\")\n",
    "\n",
    "print(x)"
   ]
  },
  {
   "cell_type": "code",
   "execution_count": 44,
   "metadata": {},
   "outputs": [
    {
     "data": {
      "text/plain": [
       "'beautiful,,,...soup.,'"
      ]
     },
     "execution_count": 44,
     "metadata": {},
     "output_type": "execute_result"
    },
    {
     "data": {
      "text/plain": [
       "'beautiful soup'"
      ]
     },
     "execution_count": 44,
     "metadata": {},
     "output_type": "execute_result"
    }
   ],
   "source": [
    "# strip() returns a copy of the string with all \n",
    "# leading and trailing whitespaces removed \n",
    "bp = '  beautiful,,,...soup., '\n",
    "bp.strip()\n",
    "\n",
    "# strip(char)\n",
    "bp = '!!beautiful soup.,'\n",
    "bp.strip('.,!')"
   ]
  },
  {
   "cell_type": "markdown",
   "metadata": {},
   "source": [
    "### Searching and replacing\n",
    "In Python, we can search for substrings, or strings that appear within other\n",
    "strings.\n",
    "\n",
    "`replace(old,new)` `endswith(substring)` `find(substring)` `startswith()`"
   ]
  },
  {
   "cell_type": "code",
   "execution_count": 47,
   "metadata": {},
   "outputs": [
    {
     "name": "stdout",
     "output_type": "stream",
     "text": [
      "monty python\n",
      "monty cython\n"
     ]
    }
   ],
   "source": [
    "# replace(old, new) returns a copy \n",
    "# of the string with all instances of old \n",
    "# replaced by new\n",
    "\n",
    "mp = 'monty python'\n",
    "newStr = mp.replace('py', 'cy')\n",
    "print(mp)\n",
    "print(newStr) "
   ]
  },
  {
   "cell_type": "code",
   "execution_count": 52,
   "metadata": {},
   "outputs": [
    {
     "name": "stdout",
     "output_type": "stream",
     "text": [
      "beautiful soup\n",
      "monty python\n"
     ]
    },
    {
     "data": {
      "text/plain": [
       "True"
      ]
     },
     "execution_count": 52,
     "metadata": {},
     "output_type": "execute_result"
    },
    {
     "data": {
      "text/plain": [
       "False"
      ]
     },
     "execution_count": 52,
     "metadata": {},
     "output_type": "execute_result"
    }
   ],
   "source": [
    "bp = 'beautiful soup' \n",
    "mp = 'monty python'\n",
    "\n",
    "# endswith(substring) returns true if string ends \n",
    "# with substring\n",
    "print(bp)\n",
    "print(mp)\n",
    "bp.endswith('up')  # returns boolean value\n",
    "mp.endswith('up')"
   ]
  },
  {
   "cell_type": "code",
   "execution_count": 53,
   "metadata": {},
   "outputs": [
    {
     "name": "stdout",
     "output_type": "stream",
     "text": [
      "beautiful soup\n",
      "monty python\n"
     ]
    },
    {
     "data": {
      "text/plain": [
       "True"
      ]
     },
     "execution_count": 53,
     "metadata": {},
     "output_type": "execute_result"
    },
    {
     "data": {
      "text/plain": [
       "False"
      ]
     },
     "execution_count": 53,
     "metadata": {},
     "output_type": "execute_result"
    }
   ],
   "source": [
    "# startswith(substring) returns true if \n",
    "# string starts with substring\n",
    "print(bp)\n",
    "print(mp)\n",
    "bp.startswith('beau')  # returns boolean value\n",
    "mp.startswith('beau')"
   ]
  },
  {
   "cell_type": "code",
   "execution_count": 56,
   "metadata": {},
   "outputs": [
    {
     "name": "stdout",
     "output_type": "stream",
     "text": [
      "monty python\n"
     ]
    },
    {
     "data": {
      "text/plain": [
       "4"
      ]
     },
     "execution_count": 56,
     "metadata": {},
     "output_type": "execute_result"
    },
    {
     "data": {
      "text/plain": [
       "-1"
      ]
     },
     "execution_count": 56,
     "metadata": {},
     "output_type": "execute_result"
    }
   ],
   "source": [
    "# find(substring) returns lowest index in the string \n",
    "# if substring is found\n",
    "print(mp)\n",
    "mp.find('y')\n",
    "                  \n",
    "# method returns -1 if substring is not found\n",
    "mp.find('soup')"
   ]
  },
  {
   "cell_type": "code",
   "execution_count": 57,
   "metadata": {},
   "outputs": [
    {
     "data": {
      "text/plain": [
       "-1"
      ]
     },
     "execution_count": 57,
     "metadata": {},
     "output_type": "execute_result"
    }
   ],
   "source": [
    "# find() method returns -1 if substring is not found\n",
    "word = 'apple' # 1, 2\n",
    "word.find('s')"
   ]
  },
  {
   "cell_type": "markdown",
   "metadata": {},
   "source": [
    "### Splitting a string\n",
    "Strings in Python have a method named split that returns a list containing the words in\n",
    "the string.\n",
    "\n",
    "- By default, the split method uses spaces as separators (that is, it returns a list of the words in\n",
    "the string that are separated by spaces). \n",
    "- You can specify a different separator by passing it as\n",
    "an argument to the split method."
   ]
  },
  {
   "cell_type": "code",
   "execution_count": 58,
   "metadata": {},
   "outputs": [
    {
     "name": "stdout",
     "output_type": "stream",
     "text": [
      "['monty', 'python']\n"
     ]
    }
   ],
   "source": [
    "# split() returns a list containing the words \n",
    "# in the string\n",
    "mp = 'monty python'\n",
    "mp2 = mp.split()\n",
    "print(mp2)    # returns a list... more on lists in the next module"
   ]
  },
  {
   "cell_type": "code",
   "execution_count": 288,
   "metadata": {},
   "outputs": [
    {
     "name": "stdout",
     "output_type": "stream",
     "text": [
      "<built-in method split of str object at 0x00000269C56EEEE0>\n"
     ]
    },
    {
     "data": {
      "text/plain": [
       "builtin_function_or_method"
      ]
     },
     "execution_count": 288,
     "metadata": {},
     "output_type": "execute_result"
    }
   ],
   "source": [
    "mp = 'monty python tv show'\n",
    "mp2 = mp.split\n",
    "print(mp2)\n",
    "type(mp2)"
   ]
  },
  {
   "cell_type": "code",
   "execution_count": 285,
   "metadata": {},
   "outputs": [
    {
     "name": "stdout",
     "output_type": "stream",
     "text": [
      "['monty ', 'ython']\n"
     ]
    }
   ],
   "source": [
    "# specify a different seperator\n",
    "mp = 'monty python'\n",
    "print(mp.split('p'))"
   ]
  },
  {
   "cell_type": "code",
   "execution_count": 59,
   "metadata": {},
   "outputs": [
    {
     "name": "stdout",
     "output_type": "stream",
     "text": [
      "10\n",
      "User ID: Yuxiao.Luo\n",
      "6\n",
      "Domain: outlook.com\n"
     ]
    }
   ],
   "source": [
    "# example of applying string methods\n",
    "\n",
    "email = 'Yuxiao.Luo@outlook.com'\n",
    "# find the position of @\n",
    "ipos = email.find('@')\n",
    "print(ipos)\n",
    "\n",
    "# extract the user name using the identifier @\n",
    "userid = email[:ipos]\n",
    "print('User ID:', userid)\n",
    "\n",
    "ipos2 = email.find('.')\n",
    "print(ipos2)\n",
    "\n",
    "# extract the domain name using the identifier @\n",
    "domain = email[(ipos+1):]\n",
    "print('Domain:', domain)\n",
    "\n",
    "# potential errors and correction (userid-dot, if userid-dot rewrite, missing-@)?"
   ]
  },
  {
   "cell_type": "markdown",
   "metadata": {},
   "source": [
    "Exercise: \n",
    "\n",
    "Please write a program to ask the user to input an email (for example: nk999@domainname.com) and then separate the userid from the email and print it.  In the example above, the print output would be nk999."
   ]
  },
  {
   "cell_type": "code",
   "execution_count": 61,
   "metadata": {},
   "outputs": [
    {
     "name": "stdout",
     "output_type": "stream",
     "text": [
      "Please enter an email address: nk999@outlook.com\n",
      "The user id is: nk999\n"
     ]
    }
   ],
   "source": [
    "# ask user input for the email address\n",
    "email = input(\"Please enter an email address: \")\n",
    "# specify an identifier\n",
    "ipos = email.find('@')\n",
    "# slice the string using the identifier\n",
    "userid = email[:ipos]\n",
    "# print out the user id\n",
    "print(f'The user id is: {userid}')"
   ]
  },
  {
   "cell_type": "code",
   "execution_count": 49,
   "metadata": {},
   "outputs": [
    {
     "name": "stdout",
     "output_type": "stream",
     "text": [
      "outlook.com\n",
      "7\n",
      "outlook\n"
     ]
    }
   ],
   "source": [
    "# Program to print domain name from email. In the above example (nk999@domainname.com), \n",
    "#the output should be domainname \n",
    "\n",
    "email = 'YuxiaoLuo@outlook.com'\n",
    "ipos = email.find('@')\n",
    "domain = email[(ipos+1):]\n",
    "print(domain)\n",
    "ipos2 = domain.find('.')\n",
    "print(ipos2)\n",
    "domain2 = domain[:ipos2]\n",
    "print(domain2)"
   ]
  },
  {
   "cell_type": "code",
   "execution_count": 93,
   "metadata": {},
   "outputs": [
    {
     "name": "stdout",
     "output_type": "stream",
     "text": [
      "6\n",
      "valid\n"
     ]
    }
   ],
   "source": [
    "# Input Validation\n",
    "\n",
    "email = 'nk1000@outlook.com'\n",
    "ipos = email.find('@')\n",
    "print(ipos); \n",
    "if ipos == -1:\n",
    "    print('invalid email')\n",
    "else:\n",
    "    print('valid')"
   ]
  },
  {
   "cell_type": "code",
   "execution_count": 290,
   "metadata": {},
   "outputs": [
    {
     "name": "stdout",
     "output_type": "stream",
     "text": [
      "first name: Yuxiao\n",
      "middle name: None\n",
      "last name: Luo\n",
      "Y N L\n"
     ]
    }
   ],
   "source": [
    "first_name = input('first name: ')\n",
    "middle_name = input('middle name: ')\n",
    "last_name = input('last name: ')\n",
    "print(first_name[0], middle_name[0], last_name[0])"
   ]
  },
  {
   "cell_type": "code",
   "execution_count": 63,
   "metadata": {},
   "outputs": [
    {
     "name": "stdout",
     "output_type": "stream",
     "text": [
      "Original quote:\n",
      "I think there is a world market for maybe five computers.\n",
      "\n",
      "In uppercase:\n",
      "I THINK THERE IS A WORLD MARKET FOR MAYBE FIVE COMPUTERS.\n",
      "\n",
      "In lowercase:\n",
      "i think there is a world market for maybe five computers.\n",
      "\n",
      "As a title:\n",
      "I Think There Is A World Market For Maybe Five Computers.\n",
      "\n",
      "With a minor replacement:\n",
      "I think there is a world market for maybe millions of computers.\n",
      "\n",
      "Original quote is still:\n",
      "I think there is a world market for maybe five computers.\n"
     ]
    }
   ],
   "source": [
    "# quote from IBM Chairman, Thomas Watson, in 1943\n",
    "quote = \"I think there is a world market for maybe five computers.\"\n",
    "\n",
    "print(\"Original quote:\")\n",
    "print(quote)\n",
    "\n",
    "print(\"\\nIn uppercase:\")\n",
    "print(quote.upper()) # ALL CAPS\n",
    "\n",
    "print(\"\\nIn lowercase:\")\n",
    "print(quote.lower()) # all lowercases\n",
    "\n",
    "print(\"\\nAs a title:\")\n",
    "print(quote.title()) # title case\n",
    "\n",
    "print(\"\\nWith a minor replacement:\")\n",
    "print(quote.replace(\"five\", \"millions of\")) \n",
    "\n",
    "print(\"\\nOriginal quote is still:\")\n",
    "print(quote)\n"
   ]
  },
  {
   "cell_type": "markdown",
   "metadata": {},
   "source": [
    "### Excercises - Strings\n",
    "1. Initials\n",
    "\n",
    "Write a program that gets a string containing a person’s first, middle, and last names, and then display their first, middle, and last initials. For example, if the user enters John William Smith the program should display J. W. S.\n",
    "\n",
    "2. Date printer\n",
    "\n",
    "Write a program that reads a string from the user containing a date in the form mm/dd/ yyyy. It should print the date in the form March 12, 2014.\n",
    "\n",
    "3. Sentence Capitalizer\n",
    "\n",
    "Write a program with a function that accepts a string as an argument and returns a copy of the string with the first character of each sentence capitalized. For instance, if the argument is “hello. my name is Joe. what is your name?” the function should return the string “Hello. My name is Joe. What is your name?” The program should let the user enter a string and then pass it to the function. The modified string should be displayed.\n",
    "\n",
    "4. Word Separator\n",
    "\n",
    "Write a program that accepts as input a sentence in which all of the words are run together but the first character of each word is uppercase. Convert the sentence to a string in which the words are separated by spaces and only the first word starts with an uppercase letter. For example the string “StopAndSmellTheRoses.” would be converted to “Stop and smell the roses.”\n",
    "\n",
    "5. Pig Latin\n",
    "\n",
    "Write a program that accepts a sentence as input and converts each word to “Pig Latin.” In one version, to convert a word to Pig Latin you remove the first letter and place that letter at the end of the word. Then you append the string “ay” to the word. Here is an example:\n",
    "\n",
    "English: I SLEPT MOST OF THE NIGHT\n",
    "\n",
    "Pig Latin: IAY LEPTSAY OSTMAY FOAY HETAY IGHTNAY\n",
    "\n",
    "6. Caesar Cipher\n",
    "\n",
    "A \"Caesar Cipher is a simple way of encrypting a message by replacing each letter with a letter a certain number of spaces up the alphabet. For example, if shifting the message by 13 an A would become an N, while an S would wrap around to the start of the alphabet to become an F\n",
    "\n",
    "Write a program that asks the user for a message (a string) and a shift amount (an integer). The values should be passed to a function that accepts the string and the integer as arguments, and returns a string that represents the original message but encrypted, by shifting the letters by the integer.\n",
    "\n",
    "For example, a string of \"BEWARE THE IDES OF MARCH\" and an integer of 13 should result in a string of \"ORJNER GUR VQRF BS ZNEPU\"."
   ]
  },
  {
   "cell_type": "markdown",
   "metadata": {},
   "source": [
    "## Weekly Assignments & Quizzes\n",
    "\n",
    "### Weekly Assignment\n",
    "\n",
    "- Assignment 11: Writing program with strings (Due date: Apr 29th)\n",
    "\n",
    "### Codelab Quizz\n",
    "\n",
    "- Strings(1)\n",
    "    - Length\n",
    "    \n",
    "- Strings(2)\n",
    "    - Indexing\n",
    "    - Slicing\n",
    "    - String methods\n",
    "    - Finding\n",
    "    - Conversions\n",
    "    "
   ]
  }
 ],
 "metadata": {
  "kernelspec": {
   "display_name": "Python 3",
   "language": "python",
   "name": "python3"
  },
  "language_info": {
   "codemirror_mode": {
    "name": "ipython",
    "version": 3
   },
   "file_extension": ".py",
   "mimetype": "text/x-python",
   "name": "python",
   "nbconvert_exporter": "python",
   "pygments_lexer": "ipython3",
   "version": "3.9.5"
  }
 },
 "nbformat": 4,
 "nbformat_minor": 4
}
