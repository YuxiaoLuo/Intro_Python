{
 "cells": [
  {
   "cell_type": "markdown",
   "metadata": {},
   "source": [
    "# Strings"
   ]
  },
  {
   "cell_type": "markdown",
   "metadata": {},
   "source": [
    "## Review\n",
    "- Strings Are Sequences of Characters\n",
    "- can access characters of a string one at a time\n",
    "- using square bracket operator\n",
    "- expression in the square brackets: **index**"
   ]
  },
  {
   "cell_type": "code",
   "execution_count": 4,
   "metadata": {},
   "outputs": [
    {
     "name": "stdout",
     "output_type": "stream",
     "text": [
      "f\n",
      "r\n"
     ]
    }
   ],
   "source": [
    "word = 'fruit'\n",
    "print(word[0]) # first character -- index 0\n",
    "print(word[1]) # second character -- index 1"
   ]
  },
  {
   "cell_type": "code",
   "execution_count": 2,
   "metadata": {},
   "outputs": [],
   "source": [
    "word = 'fruit'\n",
    "len(word)\n",
    "# find length of a string\n",
    "length = len(word)"
   ]
  },
  {
   "cell_type": "code",
   "execution_count": 4,
   "metadata": {},
   "outputs": [
    {
     "data": {
      "text/plain": [
       "'t'"
      ]
     },
     "execution_count": 4,
     "metadata": {},
     "output_type": "execute_result"
    }
   ],
   "source": [
    "# access last char of a string - wrong way\n",
    "length = len(word) \n",
    "last_char = word[length-1] \n",
    "last_char"
   ]
  },
  {
   "cell_type": "code",
   "execution_count": 15,
   "metadata": {},
   "outputs": [
    {
     "name": "stdout",
     "output_type": "stream",
     "text": [
      "t\n"
     ]
    }
   ],
   "source": [
    "# access last char of a string - correct way\n",
    "length = len(word)\n",
    "last_char = word[length-1] \n",
    "print(last_char) # or use: print(word[length-1])"
   ]
  },
  {
   "cell_type": "code",
   "execution_count": 19,
   "metadata": {},
   "outputs": [
    {
     "name": "stdout",
     "output_type": "stream",
     "text": [
      "t\n",
      "t\n"
     ]
    }
   ],
   "source": [
    "# access last char of a string - shorter way\n",
    "last_char = word[-1]\n",
    "print(last_char)\n",
    "# or:\n",
    "print(word[-1])"
   ]
  },
  {
   "cell_type": "markdown",
   "metadata": {},
   "source": [
    "## String Traversal using loops"
   ]
  },
  {
   "cell_type": "code",
   "execution_count": 5,
   "metadata": {},
   "outputs": [
    {
     "name": "stdout",
     "output_type": "stream",
     "text": [
      "c\n",
      "o\n",
      "f\n",
      "f\n",
      "e\n",
      "e\n"
     ]
    }
   ],
   "source": [
    "# while loop:\n",
    "word2 = 'coffee'\n",
    "index = 0\n",
    "while index < len(word2):\n",
    "    letter = word2[index]\n",
    "    print(letter)\n",
    "    index = index + 1 \n"
   ]
  },
  {
   "cell_type": "code",
   "execution_count": 29,
   "metadata": {
    "scrolled": true
   },
   "outputs": [
    {
     "name": "stdout",
     "output_type": "stream",
     "text": [
      "c\n",
      "o\n",
      "f\n",
      "f\n",
      "e\n",
      "e\n"
     ]
    }
   ],
   "source": [
    "# for loop:\n",
    "for char in range(len(word2)):\n",
    "    letter = word2[char] \n",
    "    print(letter) # or just use: print(word2[char])"
   ]
  },
  {
   "cell_type": "code",
   "execution_count": 30,
   "metadata": {
    "scrolled": true
   },
   "outputs": [
    {
     "name": "stdout",
     "output_type": "stream",
     "text": [
      "c\n",
      "o\n",
      "f\n",
      "f\n",
      "e\n",
      "e\n"
     ]
    }
   ],
   "source": [
    "# for loop - faster:\n",
    "for char in word2:\n",
    "    print(char)"
   ]
  },
  {
   "cell_type": "code",
   "execution_count": 6,
   "metadata": {},
   "outputs": [
    {
     "ename": "TypeError",
     "evalue": "'str' object does not support item assignment",
     "output_type": "error",
     "traceback": [
      "\u001b[0;31m---------------------------------------------------------------------------\u001b[0m",
      "\u001b[0;31mTypeError\u001b[0m                                 Traceback (most recent call last)",
      "\u001b[0;32m<ipython-input-6-dd58e99fcb02>\u001b[0m in \u001b[0;36m<module>\u001b[0;34m\u001b[0m\n\u001b[1;32m      1\u001b[0m \u001b[0mword2\u001b[0m\u001b[0;34m\u001b[0m\u001b[0;34m\u001b[0m\u001b[0m\n\u001b[0;32m----> 2\u001b[0;31m \u001b[0mword2\u001b[0m\u001b[0;34m[\u001b[0m\u001b[0;36m0\u001b[0m\u001b[0;34m]\u001b[0m \u001b[0;34m=\u001b[0m \u001b[0;34m't'\u001b[0m\u001b[0;34m\u001b[0m\u001b[0;34m\u001b[0m\u001b[0m\n\u001b[0m",
      "\u001b[0;31mTypeError\u001b[0m: 'str' object does not support item assignment"
     ]
    }
   ],
   "source": [
    "word2\n",
    "word2[0] = 't'"
   ]
  },
  {
   "cell_type": "code",
   "execution_count": 36,
   "metadata": {},
   "outputs": [
    {
     "name": "stdout",
     "output_type": "stream",
     "text": [
      "Jack\n",
      "Kack\n",
      "Lack\n",
      "Mack\n",
      "Nack\n",
      "Oack\n",
      "Pack\n",
      "Qack\n"
     ]
    }
   ],
   "source": [
    "# use string concatenation (addition) to generate new words\n",
    "# Example: in the book \"Make Way for Ducklings\" (Robert McCloskey), \n",
    "# names of the ducklings are Jack, Kack, Lack, Mack, Nack, Ouack, Pack, and Quack\n",
    "# (an abecedarian series - series of words in alphabetical order)\n",
    "# the following code outputs those names in order\n",
    "\n",
    "prefixes = 'JKLMNOPQ' \n",
    "suffix = 'ack'\n",
    "for char in prefixes:\n",
    "    print(char + suffix) # there are spelling errors with \"Oack\" and \"Qack\" - try to fix them"
   ]
  },
  {
   "cell_type": "markdown",
   "metadata": {},
   "source": [
    "## String Slicing\n",
    "- a segment of a string: a **slice**"
   ]
  },
  {
   "cell_type": "code",
   "execution_count": 9,
   "metadata": {},
   "outputs": [
    {
     "name": "stdout",
     "output_type": "stream",
     "text": [
      "Monty\n",
      "Python\n"
     ]
    }
   ],
   "source": [
    "s = 'Monty Python'\n",
    "print(s[:5]) # outputs characters from index 0 to 4\n",
    "print(s[6:]) # why is Python printed slightly indented compared to Monty?"
   ]
  },
  {
   "cell_type": "code",
   "execution_count": 117,
   "metadata": {},
   "outputs": [
    {
     "name": "stdout",
     "output_type": "stream",
     "text": [
      "cof\n",
      "fee\n",
      "\n",
      "coffee\n"
     ]
    }
   ],
   "source": [
    "word = 'coffee'\n",
    "print(word[:3])\n",
    "print(word[3:])\n",
    "print(word[3:3]) #empty string\n",
    "print(word[:]) #the entire string"
   ]
  },
  {
   "cell_type": "code",
   "execution_count": 123,
   "metadata": {},
   "outputs": [
    {
     "name": "stdout",
     "output_type": "stream",
     "text": [
      "Jello! Welcome!\n"
     ]
    }
   ],
   "source": [
    "# can create a dififerent string, based on the current one\n",
    "greetings = 'Hello! Welcome!' \n",
    "new_greetings = 'J' + greetings[1:]\n",
    "print(new_greetings)"
   ]
  },
  {
   "cell_type": "markdown",
   "metadata": {},
   "source": [
    "## Searching, Looping, Counting"
   ]
  },
  {
   "cell_type": "code",
   "execution_count": 10,
   "metadata": {},
   "outputs": [
    {
     "data": {
      "text/plain": [
       "1"
      ]
     },
     "execution_count": 10,
     "metadata": {},
     "output_type": "execute_result"
    }
   ],
   "source": [
    "def find(word, letter):\n",
    "    index = 0\n",
    "    while index < len(word):\n",
    "        if word[index] == letter:\n",
    "            return index \n",
    "        index = index + 1 \n",
    "    return -1\n",
    "find('apple', 'p') # returns lowest index where 'p' appears"
   ]
  },
  {
   "cell_type": "code",
   "execution_count": 15,
   "metadata": {},
   "outputs": [
    {
     "data": {
      "text/plain": [
       "1"
      ]
     },
     "execution_count": 15,
     "metadata": {},
     "output_type": "execute_result"
    }
   ],
   "source": [
    "def find(word, letter):\n",
    "    for index in range(len(word)): \n",
    "        #print(index)\n",
    "        if word[index] == letter:\n",
    "            return index\n",
    "    return -1\n",
    "find('apple', 'p')"
   ]
  },
  {
   "cell_type": "code",
   "execution_count": 192,
   "metadata": {},
   "outputs": [
    {
     "name": "stdout",
     "output_type": "stream",
     "text": [
      "1\n",
      "2\n"
     ]
    }
   ],
   "source": [
    "def find(word, letter):\n",
    "    for index in range(len(word)):\n",
    "        #print(index)\n",
    "        if word[index] == letter:\n",
    "            print(index)\n",
    "find('apple', 'p')"
   ]
  },
  {
   "cell_type": "code",
   "execution_count": 194,
   "metadata": {},
   "outputs": [
    {
     "name": "stdout",
     "output_type": "stream",
     "text": [
      "3\n"
     ]
    }
   ],
   "source": [
    "word = 'bananas'\n",
    "count = 0\n",
    "for letter in word:\n",
    "    if letter == 'a':\n",
    "        count = count + 1\n",
    "print(count)"
   ]
  },
  {
   "cell_type": "markdown",
   "metadata": {},
   "source": [
    "## String Methods\n",
    "- methods: similar to functions\n",
    "    + takes argument(s), returns value(s)\n",
    "- methods: different from functions\n",
    "    + dot notation\n",
    "- when you call a method: it's an **invocation**"
   ]
  },
  {
   "cell_type": "code",
   "execution_count": 1,
   "metadata": {},
   "outputs": [
    {
     "name": "stdout",
     "output_type": "stream",
     "text": [
      "COFFEE\n"
     ]
    }
   ],
   "source": [
    "# turn all characters to uppercase\n",
    "word = 'coffee'\n",
    "new_word = word.upper() # NOT: new_word = upper(word) \n",
    "# comes after the dot is \"upper\": name of the method (turn characters to upper case)\n",
    "# comes before the dot is \"word\":  name of the string that the method is being applied to\n",
    "# (): empty parentheses mean this method takes no argument\n",
    "\n",
    "print(new_word)"
   ]
  },
  {
   "cell_type": "code",
   "execution_count": 41,
   "metadata": {},
   "outputs": [
    {
     "data": {
      "text/plain": [
       "'Coffee'"
      ]
     },
     "execution_count": 41,
     "metadata": {},
     "output_type": "execute_result"
    }
   ],
   "source": [
    "new_word.capitalize()"
   ]
  },
  {
   "cell_type": "code",
   "execution_count": 81,
   "metadata": {
    "scrolled": true
   },
   "outputs": [
    {
     "data": {
      "text/plain": [
       "-1"
      ]
     },
     "execution_count": 81,
     "metadata": {},
     "output_type": "execute_result"
    }
   ],
   "source": [
    "# invoke method find on word, passing letter 'a' as an argument\n",
    "# meaning finding the index where the letter 'a' occurs in word \n",
    "word.find('a') # -1 means the letter 'a' is not in the string 'coffee' (word)"
   ]
  },
  {
   "cell_type": "code",
   "execution_count": 47,
   "metadata": {},
   "outputs": [
    {
     "data": {
      "text/plain": [
       "1"
      ]
     },
     "execution_count": 47,
     "metadata": {},
     "output_type": "execute_result"
    }
   ],
   "source": [
    "word.find('o') # returns the index where the letter 'o' occurs"
   ]
  },
  {
   "cell_type": "code",
   "execution_count": 52,
   "metadata": {},
   "outputs": [
    {
     "data": {
      "text/plain": [
       "4"
      ]
     },
     "execution_count": 52,
     "metadata": {},
     "output_type": "execute_result"
    }
   ],
   "source": [
    "# if a character occurs in multiple places, method find returns the first index where the letter occurs \n",
    "# 'e' occurs in both index 4 and 5, but when find is invoked, it only outputs index 4\n",
    "word.find('e') "
   ]
  },
  {
   "cell_type": "code",
   "execution_count": 54,
   "metadata": {},
   "outputs": [
    {
     "data": {
      "text/plain": [
       "0"
      ]
     },
     "execution_count": 54,
     "metadata": {},
     "output_type": "execute_result"
    }
   ],
   "source": [
    "word.find('coff') # can use find to search for substring as well\n",
    "# returns the index where the first char of the substring occurs"
   ]
  },
  {
   "cell_type": "code",
   "execution_count": 76,
   "metadata": {},
   "outputs": [
    {
     "name": "stdout",
     "output_type": "stream",
     "text": [
      "2\n",
      "3\n",
      "-1\n",
      "-1\n",
      "2\n",
      "3\n"
     ]
    }
   ],
   "source": [
    "# can also specify the index where the search for character(s) should start/end\n",
    "print(word.find('f', 0))\n",
    "print(word.find('f', 3))\n",
    "print(word.find('f', 5))"
   ]
  },
  {
   "cell_type": "code",
   "execution_count": 77,
   "metadata": {},
   "outputs": [
    {
     "name": "stdout",
     "output_type": "stream",
     "text": [
      "-1\n",
      "2\n",
      "3\n"
     ]
    }
   ],
   "source": [
    "word = 'coffee'\n",
    "print(word.find('f', 0, 2)) # 2 is ending limit - not inclusive\n",
    "print(word.find('f', 0, 3)) \n",
    "print(word.find('f', 3, 5)) "
   ]
  },
  {
   "cell_type": "code",
   "execution_count": 79,
   "metadata": {},
   "outputs": [
    {
     "data": {
      "text/plain": [
       "2"
      ]
     },
     "execution_count": 79,
     "metadata": {},
     "output_type": "execute_result"
    }
   ],
   "source": [
    "word.count('f')"
   ]
  },
  {
   "cell_type": "code",
   "execution_count": 80,
   "metadata": {},
   "outputs": [
    {
     "data": {
      "text/plain": [
       "2"
      ]
     },
     "execution_count": 80,
     "metadata": {},
     "output_type": "execute_result"
    }
   ],
   "source": [
    "word.count('e')"
   ]
  },
  {
   "cell_type": "markdown",
   "metadata": {},
   "source": [
    "## `in` operator\n",
    "- a boolen operator\n",
    "- takes 2 strings\n",
    "- returns `True` if the first string appears as a substring in the second"
   ]
  },
  {
   "cell_type": "code",
   "execution_count": 82,
   "metadata": {},
   "outputs": [
    {
     "data": {
      "text/plain": [
       "False"
      ]
     },
     "execution_count": 82,
     "metadata": {},
     "output_type": "execute_result"
    }
   ],
   "source": [
    "'a' in 'coffee'"
   ]
  },
  {
   "cell_type": "code",
   "execution_count": 83,
   "metadata": {
    "scrolled": true
   },
   "outputs": [
    {
     "data": {
      "text/plain": [
       "True"
      ]
     },
     "execution_count": 83,
     "metadata": {},
     "output_type": "execute_result"
    }
   ],
   "source": [
    "'o' in 'coffee'"
   ]
  },
  {
   "cell_type": "code",
   "execution_count": 5,
   "metadata": {
    "scrolled": true
   },
   "outputs": [
    {
     "name": "stdout",
     "output_type": "stream",
     "text": [
      "Letters that are both in the words apples and oranges are\n",
      "a\n",
      "e\n",
      "s\n"
     ]
    }
   ],
   "source": [
    "def in_both(word1, word2):\n",
    "    for letter in word1:\n",
    "        if letter in word2:\n",
    "            print(letter)\n",
    "            \n",
    "def main(word1, word2):\n",
    "    print('Letters that are both in the words ' + \n",
    "          word1 + ' and ' + word2 + ' are')\n",
    "    in_both(word1, word2)\n",
    "    \n",
    "main('apples', 'oranges')"
   ]
  },
  {
   "cell_type": "markdown",
   "metadata": {},
   "source": [
    "## String Comparison \n",
    "   (in terms of alphabetical order)"
   ]
  },
  {
   "cell_type": "code",
   "execution_count": 105,
   "metadata": {},
   "outputs": [
    {
     "name": "stdout",
     "output_type": "stream",
     "text": [
      "Your word, pineapple, comes after banana.\n"
     ]
    }
   ],
   "source": [
    "word = 'pineapple' \n",
    "if word == 'banana':\n",
    "    print('All right, bananas.')\n",
    "elif word < 'banana':\n",
    "    print('Your word, ' + word + ', comes before banana.')\n",
    "elif word > 'banana':\n",
    "    print('Your word, ' + word + ', comes after banana.')"
   ]
  },
  {
   "cell_type": "code",
   "execution_count": 16,
   "metadata": {},
   "outputs": [
    {
     "name": "stdout",
     "output_type": "stream",
     "text": [
      "Your word, Pineapple, comes after banana.\n"
     ]
    }
   ],
   "source": [
    "word = 'Pineapple'\n",
    "# uppercase and lowercase letters are handed by python differently\n",
    "# before comparing strings, should put all in the same format (upper or lower cases)\n",
    "if word.lower() == 'banana':\n",
    "    print('All right, bananas.')\n",
    "elif word.lower() < 'banana':\n",
    "    print('Your word, ' + word + ', comes before banana.')\n",
    "elif word.lower() > 'banana':\n",
    "    print('Your word, ' + word + ', comes after banana.')"
   ]
  },
  {
   "cell_type": "markdown",
   "metadata": {},
   "source": [
    "In-class Exercises:\n",
    "\n",
    "2. Date printer\n",
    "Write a program that reads a string from the user containing a date in the form mm/dd/ yyyy. It should print the date in the form March 12, 2014.\n",
    "\n",
    "3. Sentence Capitalizer\n",
    "Write a program with a function that accepts a string as an argument and returns a copy of the string with the first character of each sentence capitalized. For instance, if the argument is “hello. my name is Joe. what is your name?” the function should return the string “Hello. My name is Joe. What is your name?” The program should let the user enter a string and then pass it to the function. The modified string should be displayed."
   ]
  }
 ],
 "metadata": {
  "kernelspec": {
   "display_name": "Python 3",
   "language": "python",
   "name": "python3"
  },
  "language_info": {
   "codemirror_mode": {
    "name": "ipython",
    "version": 3
   },
   "file_extension": ".py",
   "mimetype": "text/x-python",
   "name": "python",
   "nbconvert_exporter": "python",
   "pygments_lexer": "ipython3",
   "version": "3.9.5"
  }
 },
 "nbformat": 4,
 "nbformat_minor": 4
}
